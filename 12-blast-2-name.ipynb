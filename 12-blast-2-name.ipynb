{
 "cells": [
  {
   "cell_type": "markdown",
   "id": "77264e80-3a28-40cf-8ea7-69844249df4c",
   "metadata": {},
   "source": [
    "# Notebook for taking tab 6 blast output to Protein name and more"
   ]
  },
  {
   "cell_type": "markdown",
   "id": "c2a98961-2a39-42ce-8437-60eb3939814b",
   "metadata": {},
   "source": [
    "Downloading from Uniprot https://d.pr/i/dquiiz"
   ]
  },
  {
   "cell_type": "code",
   "execution_count": 4,
   "id": "39f2caad-eabc-4f29-8dce-ccf97451b2aa",
   "metadata": {},
   "outputs": [
    {
     "name": "stdout",
     "output_type": "stream",
     "text": [
      "Entry\tEntry name\tStatus\tProtein names\tGene names\tOrganism\tLength\tDevelopmental stage\tInduction\tTissue specificity\tGene ontology (biological process)\tCross-reference (InterPro)\tCross-reference (PANTHER)\tCross-reference (PathwayCommons)\tCross-reference (KEGG)\tEnsemblMetazoa transcript\n",
      "B6J853\tMIAB_COXB1\treviewed\ttRNA-2-methylthio-N(6)-dimethylallyladenosine synthase (EC 2.8.4.3) ((Dimethylallyl)adenosine tRNA methylthiotransferase MiaB) (tRNA-i(6)A37 methylthiotransferase)\tmiaB CbuK_1268\tCoxiella burnetii (strain CbuK_Q154) (Coxiella burnetii (strain Q154))\t439\t\t\t\ttRNA modification [GO:0006400]\tIPR006638;IPR005839;IPR020612;IPR013848;IPR038135;IPR006463;IPR007197;IPR023404;IPR002792;\t\t\tcbc:CbuK_1268;\t\n",
      "Q9D2V8\tMFS10_MOUSE\treviewed\tMajor facilitator superfamily domain-containing protein 10 (Tetracycline transporter-like protein)\tMfsd10 Tetran\tMus musculus (Mouse)\t456\t\t\t\tapoptotic process [GO:0006915]; sodium-independent organic anion transport [GO:0043252]\tIPR011701;IPR020846;IPR036259;IPR005829;\t\t\tmmu:68294;\t\n"
     ]
    }
   ],
   "source": [
    "!head -3 /Users/sr320/Documents/GitHub/nb-2021/C_bairdi/data/uniprot-reviewed-20210901.tab"
   ]
  },
  {
   "cell_type": "code",
   "execution_count": null,
   "id": "8e12c282-ad8a-40ee-a00e-8c67ab4f2503",
   "metadata": {},
   "outputs": [],
   "source": [
    "!head "
   ]
  }
 ],
 "metadata": {
  "kernelspec": {
   "display_name": "Python 3",
   "language": "python",
   "name": "python3"
  },
  "language_info": {
   "codemirror_mode": {
    "name": "ipython",
    "version": 3
   },
   "file_extension": ".py",
   "mimetype": "text/x-python",
   "name": "python",
   "nbconvert_exporter": "python",
   "pygments_lexer": "ipython3",
   "version": "3.8.8"
  }
 },
 "nbformat": 4,
 "nbformat_minor": 5
}
