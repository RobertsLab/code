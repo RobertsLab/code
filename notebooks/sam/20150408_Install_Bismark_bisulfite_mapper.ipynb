{
 "cells": [
  {
   "cell_type": "code",
   "execution_count": 2,
   "metadata": {
    "collapsed": false
   },
   "outputs": [
    {
     "name": "stdout",
     "output_type": "stream",
     "text": [
      "/usr/local/bioinformatics\n"
     ]
    }
   ],
   "source": [
    "cd /usr/local/bioinformatics/"
   ]
  },
  {
   "cell_type": "code",
   "execution_count": 3,
   "metadata": {
    "collapsed": true
   },
   "outputs": [
    {
     "name": "stdout",
     "output_type": "stream",
     "text": [
      "  % Total    % Received % Xferd  Average Speed   Time    Time     Time  Current\n",
      "                                 Dload  Upload   Total   Spent    Left  Speed\n",
      "  0     0    0     0    0     0      0      0 --:--:-- --:--:-- --:--:--     0Warning: Failed to create the file bismark_v0.14.2.tar.gz: Permission denied\n",
      "  0 1637k    0  1173    0     0   1479      0  0:18:53 --:--:--  0:18:53  1479\n",
      "curl: (23) Failed writing body (0 != 1173)\n"
     ]
    }
   ],
   "source": [
    "#Download file (done outside of Jupyter, due to permission requirements)\n",
    "!curl -O http://www.bioinformatics.babraham.ac.uk/projects/bismark/bismark_v0.14.2.tar.gz"
   ]
  },
  {
   "cell_type": "code",
   "execution_count": 1,
   "metadata": {
    "collapsed": true
   },
   "outputs": [
    {
     "name": "stdout",
     "output_type": "stream",
     "text": [
      "tar: Error opening archive: Failed to open 'bismark_v0.14.2.tar.gz'\r\n"
     ]
    }
   ],
   "source": [
    "#Unpack tarball (done outside of Jupyter, due to permission requirements)\n",
    "!tar -zxvf bismark_v0.14.2.tar.gz"
   ]
  },
  {
   "cell_type": "code",
   "execution_count": 4,
   "metadata": {
    "collapsed": false
   },
   "outputs": [
    {
     "name": "stdout",
     "output_type": "stream",
     "text": [
      "/usr/local/bioinformatics\n"
     ]
    }
   ],
   "source": [
    "cd /usr/local/bioinformatics/"
   ]
  },
  {
   "cell_type": "code",
   "execution_count": 5,
   "metadata": {
    "collapsed": false
   },
   "outputs": [
    {
     "name": "stdout",
     "output_type": "stream",
     "text": [
      "/usr/local/bioinformatics/bismark_v0.14.2\n"
     ]
    }
   ],
   "source": [
    "cd bismark_v0.14.2/"
   ]
  },
  {
   "cell_type": "code",
   "execution_count": 6,
   "metadata": {
    "collapsed": false
   },
   "outputs": [
    {
     "name": "stdout",
     "output_type": "stream",
     "text": [
      "Bismark_User_Guide.pdf         \u001b[31mbismark_genome_preparation\u001b[m\u001b[m*\r\n",
      "RELEASE_NOTES.txt              \u001b[31mbismark_methylation_extractor\u001b[m\u001b[m*\r\n",
      "RRBS_Guide.pdf                 bismark_sitrep.tpl\r\n",
      "\u001b[31mbismark\u001b[m\u001b[m*                       \u001b[31mcoverage2cytosine\u001b[m\u001b[m*\r\n",
      "\u001b[31mbismark2bedGraph\u001b[m\u001b[m*              \u001b[31mdeduplicate_bismark\u001b[m\u001b[m*\r\n",
      "\u001b[31mbismark2report\u001b[m\u001b[m*                license.txt\r\n"
     ]
    }
   ],
   "source": [
    "ls"
   ]
  },
  {
   "cell_type": "code",
   "execution_count": 7,
   "metadata": {
    "collapsed": true
   },
   "outputs": [],
   "source": [
    "#add bismark to system PATH, via the /usr/local/bioinformatics/source.sh script\n",
    "#added the following to the end of the source.sh script\n",
    "## bismark\n",
    "#export PATH=${BIO}/bismark_v0.14.2:${PATH}"
   ]
  },
  {
   "cell_type": "code",
   "execution_count": 1,
   "metadata": {
    "collapsed": false
   },
   "outputs": [
    {
     "name": "stdout",
     "output_type": "stream",
     "text": [
      "/Users/Sam/anaconda/bin:/usr/local/bioinformatics/bismark_v0.14.2:/usr/local/bioinformatics/bedtools-2.22.1/bin:/usr/local/bioinformatics/cufflinks-2.2.1.OSX_x86_64:/usr/local/bioinformatics/FastQC:/usr/local/bioinformatics/tophat-2.0.13.OSX_x86_64:/usr/local/bioinformatics/signalp-4.1:/usr/local/bioinformatics/Trinotate:/usr/local/bioinformatics/ngsplot/bin:/usr/local/bioinformatics/stacks/bin:/usr/local/bioinformatics/rsem/sam:/usr/local/bioinformatics/fastx_toolkit/bin:/opt/local/Library/Frameworks/Python.framework/Versions/2.7/bin:/usr/local/bioinformatics/rsem:/usr/local/bioinformatics/bowtie2:/usr/local/bioinformatics/bowtie:/usr/local/bioinformatics/hmmer:/usr/local/bioinformatics/trinity:/usr/local/bioinformatics/ncbi-blast/bin:/usr/local/bioinformatics/anaconda/bin:/usr/bin:/bin:/usr/sbin:/sbin:/usr/local/bin\r\n"
     ]
    }
   ],
   "source": [
    "#verify bismark is in PATH\n",
    "!echo $PATH"
   ]
  },
  {
   "cell_type": "code",
   "execution_count": null,
   "metadata": {
    "collapsed": true
   },
   "outputs": [],
   "source": []
  }
 ],
 "metadata": {
  "kernelspec": {
   "display_name": "Python 2",
   "language": "python",
   "name": "python2"
  },
  "language_info": {
   "codemirror_mode": {
    "name": "ipython",
    "version": 2
   },
   "file_extension": ".py",
   "mimetype": "text/x-python",
   "name": "python",
   "nbconvert_exporter": "python",
   "pygments_lexer": "ipython2",
   "version": "2.7.9"
  }
 },
 "nbformat": 4,
 "nbformat_minor": 0
}
