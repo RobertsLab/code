{
 "cells": [
  {
   "cell_type": "markdown",
   "metadata": {},
   "source": [
    "### Archiving of <em>Panopea generosa</em> (geoduck) genome data from BGI"
   ]
  },
  {
   "cell_type": "markdown",
   "metadata": {},
   "source": [
    "##### Print system info"
   ]
  },
  {
   "cell_type": "code",
   "execution_count": 1,
   "metadata": {
    "collapsed": false
   },
   "outputs": [
    {
     "name": "stdout",
     "output_type": "stream",
     "text": [
      "Software:\n",
      "\n",
      "    System Software Overview:\n",
      "\n",
      "      System Version: Mac OS X 10.7.5 (11G63)\n",
      "      Kernel Version: Darwin 11.4.2\n",
      "      Boot Volume: SSD2\n",
      "      Boot Mode: Normal\n",
      "      Computer Name: greenbird (2)\n",
      "      User Name: Sam (Sam)\n",
      "      Secure Virtual Memory: Enabled\n",
      "      64-bit Kernel and Extensions: No\n",
      "      Time since boot: 6 days 22:21\n",
      "\n"
     ]
    }
   ],
   "source": [
    "%%bash\n",
    "system_profiler SPSoftwareDataType"
   ]
  },
  {
   "cell_type": "markdown",
   "metadata": {},
   "source": [
    "##### List of files from BGI"
   ]
  },
  {
   "cell_type": "code",
   "execution_count": 3,
   "metadata": {
    "collapsed": false
   },
   "outputs": [
    {
     "name": "stdout",
     "output_type": "stream",
     "text": [
      "151114_I191_FCH3Y35BCXX_L1_wHAIPI023989-79_1.fq.gz\n",
      "151114_I191_FCH3Y35BCXX_L1_wHAIPI023989-79_2.fq.gz\n",
      "151114_I191_FCH3Y35BCXX_L2_wHAMPI023988-81_1.fq.gz\n",
      "151114_I191_FCH3Y35BCXX_L2_wHAMPI023988-81_2.fq.gz\n",
      "151122_I136_FCH3L2FBBXX_L7_wHAXPI023990-97_1.fq.gz\n",
      "151122_I136_FCH3L2FBBXX_L7_wHAXPI023990-97_2.fq.gz\n",
      "160103_I137_FCH3V5YBBXX_L3_WHPANwalDDAADWAAPEI-101_1.fq.gz\n",
      "160103_I137_FCH3V5YBBXX_L3_WHPANwalDDAADWAAPEI-101_2.fq.gz\n",
      "160103_I137_FCH3V5YBBXX_L4_WHPANwalDDAADWAAPEI-101_1.fq.gz\n",
      "160103_I137_FCH3V5YBBXX_L4_WHPANwalDDAADWAAPEI-101_2.fq.gz\n",
      "160103_I137_FCH3V5YBBXX_L5_WHPANwalDDABDLAAPEI-100_1.fq.gz\n",
      "160103_I137_FCH3V5YBBXX_L5_WHPANwalDDABDLAAPEI-100_2.fq.gz\n",
      "160103_I137_FCH3V5YBBXX_L5_WHPANwalDDACDTAAPEI-102_1.fq.gz\n",
      "160103_I137_FCH3V5YBBXX_L5_WHPANwalDDACDTAAPEI-102_2.fq.gz\n",
      "160103_I137_FCH3V5YBBXX_L6_WHPANwalDDABDLAAPEI-100_1.fq.gz\n",
      "160103_I137_FCH3V5YBBXX_L6_WHPANwalDDABDLAAPEI-100_2.fq.gz\n",
      "160103_I137_FCH3V5YBBXX_L6_WHPANwalDDACDTAAPEI-102_1.fq.gz\n",
      "160103_I137_FCH3V5YBBXX_L6_WHPANwalDDACDTAAPEI-102_2.fq.gz\n",
      "md5.txt\n"
     ]
    }
   ],
   "source": [
    "%%bash\n",
    "ls /Volumes/owl_home/F15FTSUSAT0328_PANwalD/"
   ]
  },
  {
   "cell_type": "markdown",
   "metadata": {},
   "source": [
    "##### Generate checksums file to verify downloaded data remained intact."
   ]
  },
  {
   "cell_type": "code",
   "execution_count": 4,
   "metadata": {
    "collapsed": false
   },
   "outputs": [
    {
     "name": "stderr",
     "output_type": "stream",
     "text": [
      "\n",
      "real\t59m45.654s\n",
      "user\t3m9.346s\n",
      "sys\t5m11.926s\n"
     ]
    }
   ],
   "source": [
    "%%bash\n",
    "\n",
    "#For loop generates a md5 checksum has value for each file\n",
    "#and appends the output to the checksums.md5 file.\n",
    "time for file in /Volumes/owl_home/F15FTSUSAT0328_PANwalD/*.gz\n",
    "    do\n",
    "        md5 \"$file\" >> /Volumes/owl_home/F15FTSUSAT0328_PANwalD/checksums.md5\n",
    "        done"
   ]
  },
  {
   "cell_type": "markdown",
   "metadata": {},
   "source": [
    "##### View checksums.md5 file"
   ]
  },
  {
   "cell_type": "code",
   "execution_count": 5,
   "metadata": {
    "collapsed": false
   },
   "outputs": [
    {
     "name": "stdout",
     "output_type": "stream",
     "text": [
      "MD5 (/Volumes/owl_home/F15FTSUSAT0328_PANwalD/151114_I191_FCH3Y35BCXX_L1_wHAIPI023989-79_1.fq.gz) = 4e95a487fd10e60ea5af7b62287f88a0\n",
      "MD5 (/Volumes/owl_home/F15FTSUSAT0328_PANwalD/151114_I191_FCH3Y35BCXX_L1_wHAIPI023989-79_2.fq.gz) = ce78b1856aa612473de14a9599d0c4ff\n",
      "MD5 (/Volumes/owl_home/F15FTSUSAT0328_PANwalD/151114_I191_FCH3Y35BCXX_L2_wHAMPI023988-81_1.fq.gz) = a21f45349c1ebae6f8723d07613189cb\n",
      "MD5 (/Volumes/owl_home/F15FTSUSAT0328_PANwalD/151114_I191_FCH3Y35BCXX_L2_wHAMPI023988-81_2.fq.gz) = 23fcb4cda2aba74e97644a8cfac46a59\n",
      "MD5 (/Volumes/owl_home/F15FTSUSAT0328_PANwalD/151122_I136_FCH3L2FBBXX_L7_wHAXPI023990-97_1.fq.gz) = 4b6225d3d0280fc9bf4161c6f86b5586\n",
      "MD5 (/Volumes/owl_home/F15FTSUSAT0328_PANwalD/151122_I136_FCH3L2FBBXX_L7_wHAXPI023990-97_2.fq.gz) = b9f80f96fda43362da9ee08aced56bef\n",
      "MD5 (/Volumes/owl_home/F15FTSUSAT0328_PANwalD/160103_I137_FCH3V5YBBXX_L3_WHPANwalDDAADWAAPEI-101_1.fq.gz) = b0dfe5ea6ded0272024d97bdc387f0d0\n",
      "MD5 (/Volumes/owl_home/F15FTSUSAT0328_PANwalD/160103_I137_FCH3V5YBBXX_L3_WHPANwalDDAADWAAPEI-101_2.fq.gz) = 4d6dcf410e7a110d94fca646dff07ea7\n",
      "MD5 (/Volumes/owl_home/F15FTSUSAT0328_PANwalD/160103_I137_FCH3V5YBBXX_L4_WHPANwalDDAADWAAPEI-101_1.fq.gz) = 146fcf32aac04eecc41671389e37ae61\n",
      "MD5 (/Volumes/owl_home/F15FTSUSAT0328_PANwalD/160103_I137_FCH3V5YBBXX_L4_WHPANwalDDAADWAAPEI-101_2.fq.gz) = 62017aeb0276b3da77a4b014255a1bf8\n",
      "MD5 (/Volumes/owl_home/F15FTSUSAT0328_PANwalD/160103_I137_FCH3V5YBBXX_L5_WHPANwalDDABDLAAPEI-100_1.fq.gz) = efcefa598dfc9230aa2f5b4d787388ee\n",
      "MD5 (/Volumes/owl_home/F15FTSUSAT0328_PANwalD/160103_I137_FCH3V5YBBXX_L5_WHPANwalDDABDLAAPEI-100_2.fq.gz) = 0d3fabf04fc56e6249378fcddc286f06\n",
      "MD5 (/Volumes/owl_home/F15FTSUSAT0328_PANwalD/160103_I137_FCH3V5YBBXX_L5_WHPANwalDDACDTAAPEI-102_1.fq.gz) = c2f4fa5c539cc028e4afdfd7765416ca\n",
      "MD5 (/Volumes/owl_home/F15FTSUSAT0328_PANwalD/160103_I137_FCH3V5YBBXX_L5_WHPANwalDDACDTAAPEI-102_2.fq.gz) = 4a8fa8aee94bccf81e6f600b63935242\n",
      "MD5 (/Volumes/owl_home/F15FTSUSAT0328_PANwalD/160103_I137_FCH3V5YBBXX_L6_WHPANwalDDABDLAAPEI-100_1.fq.gz) = 666f18e9cf0ba248e41bc089736932bb\n",
      "MD5 (/Volumes/owl_home/F15FTSUSAT0328_PANwalD/160103_I137_FCH3V5YBBXX_L6_WHPANwalDDABDLAAPEI-100_2.fq.gz) = e73619c9bff1dbc816b6b17ca16518b1\n",
      "MD5 (/Volumes/owl_home/F15FTSUSAT0328_PANwalD/160103_I137_FCH3V5YBBXX_L6_WHPANwalDDACDTAAPEI-102_1.fq.gz) = 46f6762bafdeec810c12496c43f0c85c\n",
      "MD5 (/Volumes/owl_home/F15FTSUSAT0328_PANwalD/160103_I137_FCH3V5YBBXX_L6_WHPANwalDDACDTAAPEI-102_2.fq.gz) = 1da60e5843632956234b0a4cf10427f5\n"
     ]
    }
   ],
   "source": [
    "%%bash\n",
    "cat /Volumes/owl_home/F15FTSUSAT0328_PANwalD/checksums.md5"
   ]
  },
  {
   "cell_type": "markdown",
   "metadata": {},
   "source": [
    "##### View md5.txt file from BGI"
   ]
  },
  {
   "cell_type": "code",
   "execution_count": 6,
   "metadata": {
    "collapsed": false
   },
   "outputs": [
    {
     "name": "stdout",
     "output_type": "stream",
     "text": [
      "4e95a487fd10e60ea5af7b62287f88a0  151114_I191_FCH3Y35BCXX_L1_wHAIPI023989-79_1.fq.gz\n",
      "ce78b1856aa612473de14a9599d0c4ff  151114_I191_FCH3Y35BCXX_L1_wHAIPI023989-79_2.fq.gz\n",
      "a21f45349c1ebae6f8723d07613189cb  151114_I191_FCH3Y35BCXX_L2_wHAMPI023988-81_1.fq.gz\n",
      "23fcb4cda2aba74e97644a8cfac46a59  151114_I191_FCH3Y35BCXX_L2_wHAMPI023988-81_2.fq.gz\n",
      "4b6225d3d0280fc9bf4161c6f86b5586  151122_I136_FCH3L2FBBXX_L7_wHAXPI023990-97_1.fq.gz\n",
      "b9f80f96fda43362da9ee08aced56bef  151122_I136_FCH3L2FBBXX_L7_wHAXPI023990-97_2.fq.gz\n",
      "b0dfe5ea6ded0272024d97bdc387f0d0  160103_I137_FCH3V5YBBXX_L3_WHPANwalDDAADWAAPEI-101_1.fq.gz\n",
      "4d6dcf410e7a110d94fca646dff07ea7  160103_I137_FCH3V5YBBXX_L3_WHPANwalDDAADWAAPEI-101_2.fq.gz\n",
      "146fcf32aac04eecc41671389e37ae61  160103_I137_FCH3V5YBBXX_L4_WHPANwalDDAADWAAPEI-101_1.fq.gz\n",
      "62017aeb0276b3da77a4b014255a1bf8  160103_I137_FCH3V5YBBXX_L4_WHPANwalDDAADWAAPEI-101_2.fq.gz\n",
      "efcefa598dfc9230aa2f5b4d787388ee  160103_I137_FCH3V5YBBXX_L5_WHPANwalDDABDLAAPEI-100_1.fq.gz\n",
      "0d3fabf04fc56e6249378fcddc286f06  160103_I137_FCH3V5YBBXX_L5_WHPANwalDDABDLAAPEI-100_2.fq.gz\n",
      "c2f4fa5c539cc028e4afdfd7765416ca  160103_I137_FCH3V5YBBXX_L5_WHPANwalDDACDTAAPEI-102_1.fq.gz\n",
      "4a8fa8aee94bccf81e6f600b63935242  160103_I137_FCH3V5YBBXX_L5_WHPANwalDDACDTAAPEI-102_2.fq.gz\n",
      "666f18e9cf0ba248e41bc089736932bb  160103_I137_FCH3V5YBBXX_L6_WHPANwalDDABDLAAPEI-100_1.fq.gz\n",
      "e73619c9bff1dbc816b6b17ca16518b1  160103_I137_FCH3V5YBBXX_L6_WHPANwalDDABDLAAPEI-100_2.fq.gz\n",
      "46f6762bafdeec810c12496c43f0c85c  160103_I137_FCH3V5YBBXX_L6_WHPANwalDDACDTAAPEI-102_1.fq.gz\n",
      "1da60e5843632956234b0a4cf10427f5  160103_I137_FCH3V5YBBXX_L6_WHPANwalDDACDTAAPEI-102_2.fq.gz\n"
     ]
    }
   ],
   "source": [
    "%%bash\n",
    "cat /Volumes/owl_home/F15FTSUSAT0328_PANwalD/md5.txt"
   ]
  },
  {
   "cell_type": "markdown",
   "metadata": {},
   "source": [
    "##### Save hash values from checksums.md5 and md5.txt to variables. Compare hash values from each to ensure they match (i.e. downloaded data is intact)."
   ]
  },
  {
   "cell_type": "code",
   "execution_count": 16,
   "metadata": {
    "collapsed": false
   },
   "outputs": [
    {
     "name": "stdout",
     "output_type": "stream",
     "text": [
      "4e95a487fd10e60ea5af7b62287f88a0 ce78b1856aa612473de14a9599d0c4ff a21f45349c1ebae6f8723d07613189cb 23fcb4cda2aba74e97644a8cfac46a59 4b6225d3d0280fc9bf4161c6f86b5586 b9f80f96fda43362da9ee08aced56bef b0dfe5ea6ded0272024d97bdc387f0d0 4d6dcf410e7a110d94fca646dff07ea7 146fcf32aac04eecc41671389e37ae61 62017aeb0276b3da77a4b014255a1bf8 efcefa598dfc9230aa2f5b4d787388ee 0d3fabf04fc56e6249378fcddc286f06 c2f4fa5c539cc028e4afdfd7765416ca 4a8fa8aee94bccf81e6f600b63935242 666f18e9cf0ba248e41bc089736932bb e73619c9bff1dbc816b6b17ca16518b1 46f6762bafdeec810c12496c43f0c85c 1da60e5843632956234b0a4cf10427f5\n",
      "\n",
      "4e95a487fd10e60ea5af7b62287f88a0 ce78b1856aa612473de14a9599d0c4ff a21f45349c1ebae6f8723d07613189cb 23fcb4cda2aba74e97644a8cfac46a59 4b6225d3d0280fc9bf4161c6f86b5586 b9f80f96fda43362da9ee08aced56bef b0dfe5ea6ded0272024d97bdc387f0d0 4d6dcf410e7a110d94fca646dff07ea7 146fcf32aac04eecc41671389e37ae61 62017aeb0276b3da77a4b014255a1bf8 efcefa598dfc9230aa2f5b4d787388ee 0d3fabf04fc56e6249378fcddc286f06 c2f4fa5c539cc028e4afdfd7765416ca 4a8fa8aee94bccf81e6f600b63935242 666f18e9cf0ba248e41bc089736932bb e73619c9bff1dbc816b6b17ca16518b1 46f6762bafdeec810c12496c43f0c85c 1da60e5843632956234b0a4cf10427f5\n",
      "\n",
      "0\n"
     ]
    }
   ],
   "source": [
    "%%bash\n",
    "\n",
    "#Use awk to print the 4th field (the checksum hash values) and saves the values to the new_checksums variable.\n",
    "new_checksums=$( awk '{print $4}' /Volumes/owl_home/F15FTSUSAT0328_PANwalD/checksums.md5 )\n",
    "\n",
    "#Use awk to print the 1st field (the checksum hash values) and saves the values to the original_checksums variable.\n",
    "original_checksums=$( awk '{print $1}' /Volumes/owl_home/F15FTSUSAT0328_PANwalD/md5.txt)\n",
    "\n",
    "#Print contents of new_checksums variable to verify the contents.\n",
    "echo $new_checksums\n",
    "\n",
    "#Print an empty line for improved readibility in the output.\n",
    "echo \"\"\n",
    "\n",
    "#Print contents of original_checksums variable to verify the contents.\n",
    "echo $original_checksums\n",
    "\n",
    "#Prints an empty line for improved readibility in the output.\n",
    "echo \"\"\n",
    "\n",
    "\n",
    "#Compare differences between the checksum hash values in each of the two variables.\n",
    "#Uses the bash concept of process substitution \"<(\" to accomplish task using variable contents instead of two files.\n",
    "diff <(echo \"$new_checksums\") <(echo \"$original_checksums\")\n",
    "\n",
    "#Check exit status of last command executed (i.e. if diff command found no differences, then the output should be 0)\n",
    "echo $?"
   ]
  },
  {
   "cell_type": "markdown",
   "metadata": {},
   "source": [
    "##### Calculate total number of reads generated by this project"
   ]
  },
  {
   "cell_type": "code",
   "execution_count": 17,
   "metadata": {
    "collapsed": false
   },
   "outputs": [
    {
     "name": "stdout",
     "output_type": "stream",
     "text": [
      "1208635950\n"
     ]
    },
    {
     "name": "stderr",
     "output_type": "stream",
     "text": [
      "\n",
      "real\t88m45.398s\n",
      "user\t41m59.646s\n",
      "sys\t7m44.336s\n"
     ]
    }
   ],
   "source": [
    "%%bash\n",
    "\n",
    "\n",
    "totalreads=0 #Initializes variable.\n",
    "\n",
    "#For loop counts the lines in each file and divides them by four. This is performed because\n",
    "#Illumina sequencing files are composed of four lines per read.\n",
    "#A running total of the total number of reads is generated [totalreads=$((readcount+totalreads))]\n",
    "#and is printed after the for loop completes.\n",
    "time for file in /Volumes/owl_home/F15FTSUSAT0328_PANwalD/*.gz\n",
    "    do linecount=`gunzip -c \"$file\" | wc -l`\n",
    "    readcount=$((linecount/4))\n",
    "    totalreads=$((readcount+totalreads))\n",
    "done\n",
    "echo $totalreads"
   ]
  },
  {
   "cell_type": "markdown",
   "metadata": {},
   "source": [
    "##### Calculate number of reads per file and, append filename and corresponding number of reads to readme file"
   ]
  },
  {
   "cell_type": "code",
   "execution_count": 1,
   "metadata": {
    "collapsed": false
   },
   "outputs": [
    {
     "name": "stdout",
     "output_type": "stream",
     "text": [
      "151114_I191_FCH3Y35BCXX_L1_wHAIPI023989-79_1.fq.gz\t94337047\n",
      "\n",
      "151114_I191_FCH3Y35BCXX_L1_wHAIPI023989-79_2.fq.gz\t94337047\n",
      "\n",
      "151114_I191_FCH3Y35BCXX_L2_wHAMPI023988-81_1.fq.gz\t72605592\n",
      "\n",
      "151114_I191_FCH3Y35BCXX_L2_wHAMPI023988-81_2.fq.gz\t72605592\n",
      "\n",
      "151122_I136_FCH3L2FBBXX_L7_wHAXPI023990-97_1.fq.gz\t77590326\n",
      "\n",
      "151122_I136_FCH3L2FBBXX_L7_wHAXPI023990-97_2.fq.gz\t77590326\n",
      "\n",
      "160103_I137_FCH3V5YBBXX_L3_WHPANwalDDAADWAAPEI-101_1.fq.gz\t62782565\n",
      "\n",
      "160103_I137_FCH3V5YBBXX_L3_WHPANwalDDAADWAAPEI-101_2.fq.gz\t62782565\n",
      "\n",
      "160103_I137_FCH3V5YBBXX_L4_WHPANwalDDAADWAAPEI-101_1.fq.gz\t63723614\n",
      "\n",
      "160103_I137_FCH3V5YBBXX_L4_WHPANwalDDAADWAAPEI-101_2.fq.gz\t63723614\n",
      "\n",
      "160103_I137_FCH3V5YBBXX_L5_WHPANwalDDABDLAAPEI-100_1.fq.gz\t75775638\n",
      "\n",
      "160103_I137_FCH3V5YBBXX_L5_WHPANwalDDABDLAAPEI-100_2.fq.gz\t75775638\n",
      "\n",
      "160103_I137_FCH3V5YBBXX_L5_WHPANwalDDACDTAAPEI-102_1.fq.gz\t41762399\n",
      "\n",
      "160103_I137_FCH3V5YBBXX_L5_WHPANwalDDACDTAAPEI-102_2.fq.gz\t41762399\n",
      "\n",
      "160103_I137_FCH3V5YBBXX_L6_WHPANwalDDABDLAAPEI-100_1.fq.gz\t73632218\n",
      "\n",
      "160103_I137_FCH3V5YBBXX_L6_WHPANwalDDABDLAAPEI-100_2.fq.gz\t73632218\n",
      "\n",
      "160103_I137_FCH3V5YBBXX_L6_WHPANwalDDACDTAAPEI-102_1.fq.gz\t42108576\n",
      "\n",
      "160103_I137_FCH3V5YBBXX_L6_WHPANwalDDACDTAAPEI-102_2.fq.gz\t42108576\n",
      "\n"
     ]
    },
    {
     "name": "stderr",
     "output_type": "stream",
     "text": [
      "\n",
      "real\t69m1.578s\n",
      "user\t36m27.697s\n",
      "sys\t4m39.632s\n"
     ]
    }
   ],
   "source": [
    "%%bash\n",
    "\n",
    "#For loop counts the lines in each file and divides them by four. This is performed because\n",
    "#Illumina sequencing files are composed of four lines per read.\n",
    "#Format the output (printf) to print the filename, followed by a tab, followed by the readcount.\n",
    "#The command \"tee -a\" is used to both print the output to the screen and append the output to the readme.md file.\n",
    "time for file in /Volumes/owl_home/F15FTSUSAT0328_PANwalD/*.gz\n",
    "    do linecount=`gunzip -c \"$file\" | wc -l`\n",
    "    readcount=$(($linecount/4))\n",
    "    printf \"%s\\t%s\\n\\n\" \"${file##*/}\" \"$readcount\" | tee -a /Volumes/owl_web/nightingales/P_generosa/readme.md\n",
    "done"
   ]
  },
  {
   "cell_type": "markdown",
   "metadata": {},
   "source": [
    "##### Move .gz files to web accessible location on Owl"
   ]
  },
  {
   "cell_type": "code",
   "execution_count": 20,
   "metadata": {
    "collapsed": false
   },
   "outputs": [
    {
     "name": "stderr",
     "output_type": "stream",
     "text": [
      "mv: /Volumes/owl_web/nightingales/P_generosa/151114_I191_FCH3Y35BCXX_L2_wHAMPI023988-81_1.fq.gz: set owner/group (was: 502/20): Operation not permitted\n",
      "mv: /Volumes/owl_web/nightingales/P_generosa/151114_I191_FCH3Y35BCXX_L2_wHAMPI023988-81_2.fq.gz: set owner/group (was: 502/20): Operation not permitted\n",
      "mv: /Volumes/owl_web/nightingales/P_generosa/160103_I137_FCH3V5YBBXX_L6_WHPANwalDDACDTAAPEI-102_1.fq.gz: set owner/group (was: 502/20): Operation not permitted\n",
      "mv: /Volumes/owl_web/nightingales/P_generosa/160103_I137_FCH3V5YBBXX_L6_WHPANwalDDACDTAAPEI-102_2.fq.gz: set owner/group (was: 502/20): Operation not permitted\n"
     ]
    }
   ],
   "source": [
    "%%bash\n",
    "\n",
    "mv -n /Volumes/owl_home/F15FTSUSAT0328_PANwalD/*.gz /Volumes/owl_web/nightingales/P_generosa/"
   ]
  },
  {
   "cell_type": "markdown",
   "metadata": {},
   "source": [
    "##### List files in Owl/web/nightingales/O_lurida"
   ]
  },
  {
   "cell_type": "code",
   "execution_count": 25,
   "metadata": {
    "collapsed": false
   },
   "outputs": [
    {
     "name": "stdout",
     "output_type": "stream",
     "text": [
      "  9.8G Jan 25 01:01 151114_I191_FCH3Y35BCXX_L1_wHAIPI023989-79_1.fq.gz\n",
      "   10G Jan 25 01:33 151114_I191_FCH3Y35BCXX_L1_wHAIPI023989-79_2.fq.gz\n",
      "  7.8G Jan 25 00:52 151114_I191_FCH3Y35BCXX_L2_wHAMPI023988-81_1.fq.gz\n",
      "  8.1G Jan 25 00:47 151114_I191_FCH3Y35BCXX_L2_wHAMPI023988-81_2.fq.gz\n",
      "  6.3G Jan 25 01:10 151122_I136_FCH3L2FBBXX_L7_wHAXPI023990-97_1.fq.gz\n",
      "  7.1G Jan 25 01:03 151122_I136_FCH3L2FBBXX_L7_wHAXPI023990-97_2.fq.gz\n",
      "  1.7G Jan 25 01:04 160103_I137_FCH3V5YBBXX_L3_WHPANwalDDAADWAAPEI-101_1.fq.gz\n",
      "  1.9G Jan 25 01:07 160103_I137_FCH3V5YBBXX_L3_WHPANwalDDAADWAAPEI-101_2.fq.gz\n",
      "  1.8G Jan 25 01:08 160103_I137_FCH3V5YBBXX_L4_WHPANwalDDAADWAAPEI-101_1.fq.gz\n",
      "  1.9G Jan 25 01:11 160103_I137_FCH3V5YBBXX_L4_WHPANwalDDAADWAAPEI-101_2.fq.gz\n",
      "  2.0G Jan 25 01:12 160103_I137_FCH3V5YBBXX_L5_WHPANwalDDABDLAAPEI-100_1.fq.gz\n",
      "  2.2G Jan 25 01:14 160103_I137_FCH3V5YBBXX_L5_WHPANwalDDABDLAAPEI-100_2.fq.gz\n",
      "  1.2G Jan 25 01:14 160103_I137_FCH3V5YBBXX_L5_WHPANwalDDACDTAAPEI-102_1.fq.gz\n",
      "  1.3G Jan 25 01:14 160103_I137_FCH3V5YBBXX_L5_WHPANwalDDACDTAAPEI-102_2.fq.gz\n",
      "  2.0G Jan 25 01:18 160103_I137_FCH3V5YBBXX_L6_WHPANwalDDABDLAAPEI-100_1.fq.gz\n",
      "  1.8G Jan 27 13:54 160103_I137_FCH3V5YBBXX_L6_WHPANwalDDABDLAAPEI-100_2.fq.gz\n",
      "  1.2G Jan 25 01:17 160103_I137_FCH3V5YBBXX_L6_WHPANwalDDACDTAAPEI-102_1.fq.gz\n",
      "  1.3G Jan 25 01:20 160103_I137_FCH3V5YBBXX_L6_WHPANwalDDACDTAAPEI-102_2.fq.gz\n"
     ]
    }
   ],
   "source": [
    "%%bash\n",
    "\n",
    "#List the files from this project (grep FCH3*), showing human-readable file sizes,\n",
    "#and get rid of file permission info in output (cut -d ' ' -f7)\n",
    "ls -lh /Volumes/owl_web/nightingales/P_generosa/ | grep 'FCH3*' | cut -d ' ' -f7-"
   ]
  },
  {
   "cell_type": "markdown",
   "metadata": {},
   "source": [
    "##### Append new checksums to existing checksums file in Owl/nightingales/O_lurida"
   ]
  },
  {
   "cell_type": "code",
   "execution_count": 22,
   "metadata": {
    "collapsed": true
   },
   "outputs": [],
   "source": [
    "cat /Volumes/owl_home/F15FTSUSAT0328_PANwalD/checksums.md5 >> /Volumes/owl_web/nightingales/P_generosa/checksums.md5"
   ]
  },
  {
   "cell_type": "markdown",
   "metadata": {},
   "source": [
    "##### Verify checksums were added to Owl/web/nightingales/O_lurida/checksums.md5"
   ]
  },
  {
   "cell_type": "code",
   "execution_count": 23,
   "metadata": {
    "collapsed": false
   },
   "outputs": [
    {
     "name": "stdout",
     "output_type": "stream",
     "text": [
      "MD5 (/Volumes/owl_home/O_lurida_BGI_F15FTSUSAT0327_OSTibkD/151114_I191_FCH3Y35BCXX_L1_wHAIPI023992-37_1.fq.gz) = 810d188468dbd8bb36b2af3bf3b9fee6\r\n",
      "MD5 (/Volumes/owl_home/O_lurida_BGI_F15FTSUSAT0327_OSTibkD/151114_I191_FCH3Y35BCXX_L1_wHAIPI023992-37_2.fq.gz) = cf92b18e0815dc0471d61f9107142257\r\n",
      "MD5 (/Volumes/owl_home/O_lurida_BGI_F15FTSUSAT0327_OSTibkD/151114_I191_FCH3Y35BCXX_L2_wHAMPI023991-66_1.fq.gz) = 3dc2137d7df0af8d6a007516908361a3\r\n",
      "MD5 (/Volumes/owl_home/O_lurida_BGI_F15FTSUSAT0327_OSTibkD/151114_I191_FCH3Y35BCXX_L2_wHAMPI023991-66_2.fq.gz) = 8bc0d7c7a7af3954baca31a4a7fe9f2b\r\n",
      "MD5 (/Volumes/owl_home/O_lurida_BGI_F15FTSUSAT0327_OSTibkD/151118_I137_FCH3KNJBBXX_L5_wHAXPI023905-96_1.fq.gz) = 08cfdc6fdc5a6190cb05cdcb81fa5b9c\r\n",
      "MD5 (/Volumes/owl_home/O_lurida_BGI_F15FTSUSAT0327_OSTibkD/151118_I137_FCH3KNJBBXX_L5_wHAXPI023905-96_2.fq.gz) = a503043167457337a65d51151ceb5dd0\r\n",
      "MD5 (/Volumes/owl_home/O_lurida_BGI_F15FTSUSAT0327_OSTibkD/160103_I137_FCH3V5YBBXX_L3_WHOSTibkDCABDLAAPEI-62_1.fq.gz) = a0c0177a7a4a4ca28c37bd3802361564\r\n",
      "MD5 (/Volumes/owl_home/O_lurida_BGI_F15FTSUSAT0327_OSTibkD/160103_I137_FCH3V5YBBXX_L3_WHOSTibkDCABDLAAPEI-62_2.fq.gz) = 74e51d608de7a409a29545a95ac3ec14\r\n",
      "MD5 (/Volumes/owl_home/O_lurida_BGI_F15FTSUSAT0327_OSTibkD/160103_I137_FCH3V5YBBXX_L3_WHOSTibkDCACDTAAPEI-75_1.fq.gz) = e829da6f7e7a047586802a05d3b96d18\r\n",
      "MD5 (/Volumes/owl_home/O_lurida_BGI_F15FTSUSAT0327_OSTibkD/160103_I137_FCH3V5YBBXX_L3_WHOSTibkDCACDTAAPEI-75_2.fq.gz) = 74953d0143c392f111eec178667d3fcd\r\n",
      "MD5 (/Volumes/owl_home/O_lurida_BGI_F15FTSUSAT0327_OSTibkD/160103_I137_FCH3V5YBBXX_L4_WHOSTibkDCABDLAAPEI-62_1.fq.gz) = 9b5f7c1593f216f710814c299738493f\r\n",
      "MD5 (/Volumes/owl_home/O_lurida_BGI_F15FTSUSAT0327_OSTibkD/160103_I137_FCH3V5YBBXX_L4_WHOSTibkDCABDLAAPEI-62_2.fq.gz) = 5a6392d9c23aa85d170d7f50de4f0b54\r\n",
      "MD5 (/Volumes/owl_home/O_lurida_BGI_F15FTSUSAT0327_OSTibkD/160103_I137_FCH3V5YBBXX_L4_WHOSTibkDCACDTAAPEI-75_1.fq.gz) = 2cf349b55558e7424fa0ed029ae0bfca\r\n",
      "MD5 (/Volumes/owl_home/O_lurida_BGI_F15FTSUSAT0327_OSTibkD/160103_I137_FCH3V5YBBXX_L4_WHOSTibkDCACDTAAPEI-75_2.fq.gz) = 5cb745671596d5d5d307986d35ea9792\r\n",
      "MD5 (/Volumes/owl_home/O_lurida_BGI_F15FTSUSAT0327_OSTibkD/160103_I137_FCH3V5YBBXX_L5_WHOSTibkDCAADWAAPEI-74_1.fq.gz) = b371a3b3588060bb2200f5caaf9a9d5c\r\n",
      "MD5 (/Volumes/owl_home/O_lurida_BGI_F15FTSUSAT0327_OSTibkD/160103_I137_FCH3V5YBBXX_L5_WHOSTibkDCAADWAAPEI-74_2.fq.gz) = dd8b0fef21fc5e330d08ae4a48c8d67b\r\n",
      "MD5 (/Volumes/owl_home/O_lurida_BGI_F15FTSUSAT0327_OSTibkD/160103_I137_FCH3V5YBBXX_L6_WHOSTibkDCAADWAAPEI-74_1.fq.gz) = 50b5dbff9426738005b81efd49d66329\r\n",
      "MD5 (/Volumes/owl_home/O_lurida_BGI_F15FTSUSAT0327_OSTibkD/160103_I137_FCH3V5YBBXX_L6_WHOSTibkDCAADWAAPEI-74_2.fq.gz) = 29be6e734ad65c180aee23d1514c5c35\r\n"
     ]
    }
   ],
   "source": [
    "cat /Volumes/owl_web/nightingales/O_lurida/checksums.md5 | grep 'FCH3*'"
   ]
  },
  {
   "cell_type": "code",
   "execution_count": null,
   "metadata": {
    "collapsed": true
   },
   "outputs": [],
   "source": []
  }
 ],
 "metadata": {
  "kernelspec": {
   "display_name": "Python 2",
   "language": "python",
   "name": "python2"
  },
  "language_info": {
   "codemirror_mode": {
    "name": "ipython",
    "version": 2
   },
   "file_extension": ".py",
   "mimetype": "text/x-python",
   "name": "python",
   "nbconvert_exporter": "python",
   "pygments_lexer": "ipython2",
   "version": "2.7.9"
  }
 },
 "nbformat": 4,
 "nbformat_minor": 0
}
