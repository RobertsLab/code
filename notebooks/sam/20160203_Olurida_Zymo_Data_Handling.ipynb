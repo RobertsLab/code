{
 "cells": [
  {
   "cell_type": "markdown",
   "metadata": {},
   "source": [
    "### Archiving of Ostrea lurida (Olympia oyster) MBD-BSseq Data from ZymoResearch"
   ]
  },
  {
   "cell_type": "code",
   "execution_count": 1,
   "metadata": {
    "collapsed": false
   },
   "outputs": [
    {
     "name": "stdout",
     "output_type": "stream",
     "text": [
      "Wed Feb  3 09:59:11 PST 2016\r\n"
     ]
    }
   ],
   "source": [
    "!date"
   ]
  },
  {
   "cell_type": "markdown",
   "metadata": {},
   "source": [
    "##### Print system info"
   ]
  },
  {
   "cell_type": "code",
   "execution_count": 2,
   "metadata": {
    "collapsed": false
   },
   "outputs": [
    {
     "name": "stdout",
     "output_type": "stream",
     "text": [
      "Software:\n",
      "\n",
      "    System Software Overview:\n",
      "\n",
      "      System Version: OS X 10.9.5 (13F34)\n",
      "      Kernel Version: Darwin 13.4.0\n",
      "      Boot Volume: Hummingbird\n",
      "      Boot Mode: Normal\n",
      "      Computer Name: hummingbird\n",
      "      User Name: Sam (Sam)\n",
      "      Secure Virtual Memory: Enabled\n",
      "      Time since boot: 74 days 19:49\n",
      "\n"
     ]
    }
   ],
   "source": [
    "%%bash\n",
    "system_profiler SPSoftwareDataType"
   ]
  },
  {
   "cell_type": "markdown",
   "metadata": {},
   "source": [
    "##### List files provided by ZymoResearch"
   ]
  },
  {
   "cell_type": "code",
   "execution_count": 6,
   "metadata": {
    "collapsed": false,
    "scrolled": true
   },
   "outputs": [
    {
     "name": "stdout",
     "output_type": "stream",
     "text": [
      "checksums.md5\n",
      "seqfiles.txt\n",
      "zr1394_10_s1_R1.fastq.gz\n",
      "zr1394_10_s2_R1.fastq.gz\n",
      "zr1394_10_s3_R1.fastq.gz\n",
      "zr1394_10_s4_R1.fastq.gz\n",
      "zr1394_10_s5_R1.fastq.gz\n",
      "zr1394_10_s6_R1.fastq.gz\n",
      "zr1394_11_s1_R1.fastq.gz\n",
      "zr1394_11_s2_R1.fastq.gz\n",
      "zr1394_11_s3_R1.fastq.gz\n",
      "zr1394_11_s4_R1.fastq.gz\n",
      "zr1394_11_s5_R1.fastq.gz\n",
      "zr1394_11_s6_R1.fastq.gz\n",
      "zr1394_12_s1_R1.fastq.gz\n",
      "zr1394_12_s2_R1.fastq.gz\n",
      "zr1394_12_s3_R1.fastq.gz\n",
      "zr1394_12_s4_R1.fastq.gz\n",
      "zr1394_12_s5_R1.fastq.gz\n",
      "zr1394_12_s6_R1.fastq.gz\n",
      "zr1394_13_s1_R1.fastq.gz\n",
      "zr1394_13_s2_R1.fastq.gz\n",
      "zr1394_13_s3_R1.fastq.gz\n",
      "zr1394_13_s4_R1.fastq.gz\n",
      "zr1394_13_s5_R1.fastq.gz\n",
      "zr1394_13_s6_R1.fastq.gz\n",
      "zr1394_14_s1_R1.fastq.gz\n",
      "zr1394_14_s2_R1.fastq.gz\n",
      "zr1394_14_s3_R1.fastq.gz\n",
      "zr1394_14_s4_R1.fastq.gz\n",
      "zr1394_14_s5_R1.fastq.gz\n",
      "zr1394_14_s6_R1.fastq.gz\n",
      "zr1394_15_s1_R1.fastq.gz\n",
      "zr1394_15_s2_R1.fastq.gz\n",
      "zr1394_15_s3_R1.fastq.gz\n",
      "zr1394_15_s4_R1.fastq.gz\n",
      "zr1394_15_s5_R1.fastq.gz\n",
      "zr1394_15_s6_R1.fastq.gz\n",
      "zr1394_16_s1_R1.fastq.gz\n",
      "zr1394_16_s2_R1.fastq.gz\n",
      "zr1394_16_s3_R1.fastq.gz\n",
      "zr1394_16_s4_R1.fastq.gz\n",
      "zr1394_16_s5_R1.fastq.gz\n",
      "zr1394_16_s6_R1.fastq.gz\n",
      "zr1394_17_s1_R1.fastq.gz\n",
      "zr1394_17_s2_R1.fastq.gz\n",
      "zr1394_17_s3_R1.fastq.gz\n",
      "zr1394_17_s4_R1.fastq.gz\n",
      "zr1394_17_s5_R1.fastq.gz\n",
      "zr1394_17_s6_R1.fastq.gz\n",
      "zr1394_18_s1_R1.fastq.gz\n",
      "zr1394_18_s2_R1.fastq.gz\n",
      "zr1394_18_s3_R1.fastq.gz\n",
      "zr1394_18_s4_R1.fastq.gz\n",
      "zr1394_18_s5_R1.fastq.gz\n",
      "zr1394_18_s6_R1.fastq.gz\n",
      "zr1394_1_s1_R1.fastq.gz\n",
      "zr1394_1_s2_R1.fastq.gz\n",
      "zr1394_1_s3_R1.fastq.gz\n",
      "zr1394_1_s4_R1.fastq.gz\n",
      "zr1394_1_s5_R1.fastq.gz\n",
      "zr1394_1_s6_R1.fastq.gz\n",
      "zr1394_2_s1_R1.fastq.gz\n",
      "zr1394_2_s2_R1.fastq.gz\n",
      "zr1394_2_s3_R1.fastq.gz\n",
      "zr1394_2_s4_R1.fastq.gz\n",
      "zr1394_2_s5_R1.fastq.gz\n",
      "zr1394_2_s6_R1.fastq.gz\n",
      "zr1394_3_s1_R1.fastq.gz\n",
      "zr1394_3_s2_R1.fastq.gz\n",
      "zr1394_3_s3_R1.fastq.gz\n",
      "zr1394_3_s4_R1.fastq.gz\n",
      "zr1394_3_s5_R1.fastq.gz\n",
      "zr1394_3_s6_R1.fastq.gz\n",
      "zr1394_4_s1_R1.fastq.gz\n",
      "zr1394_4_s2_R1.fastq.gz\n",
      "zr1394_4_s3_R1.fastq.gz\n",
      "zr1394_4_s4_R1.fastq.gz\n",
      "zr1394_4_s5_R1.fastq.gz\n",
      "zr1394_4_s6_R1.fastq.gz\n",
      "zr1394_5_s1_R1.fastq.gz\n",
      "zr1394_5_s2_R1.fastq.gz\n",
      "zr1394_5_s3_R1.fastq.gz\n",
      "zr1394_5_s4_R1.fastq.gz\n",
      "zr1394_5_s5_R1.fastq.gz\n",
      "zr1394_5_s6_R1.fastq.gz\n",
      "zr1394_6_s1_R1.fastq.gz\n",
      "zr1394_6_s2_R1.fastq.gz\n",
      "zr1394_6_s3_R1.fastq.gz\n",
      "zr1394_6_s4_R1.fastq.gz\n",
      "zr1394_6_s5_R1.fastq.gz\n",
      "zr1394_6_s6_R1.fastq.gz\n",
      "zr1394_7_s1_R1.fastq.gz\n",
      "zr1394_7_s2_R1.fastq.gz\n",
      "zr1394_7_s3_R1.fastq.gz\n",
      "zr1394_7_s4_R1.fastq.gz\n",
      "zr1394_7_s5_R1.fastq.gz\n",
      "zr1394_7_s6_R1.fastq.gz\n",
      "zr1394_8_s1_R1.fastq.gz\n",
      "zr1394_8_s2_R1.fastq.gz\n",
      "zr1394_8_s3_R1.fastq.gz\n",
      "zr1394_8_s4_R1.fastq.gz\n",
      "zr1394_8_s5_R1.fastq.gz\n",
      "zr1394_8_s6_R1.fastq.gz\n",
      "zr1394_9_s1_R1.fastq.gz\n",
      "zr1394_9_s2_R1.fastq.gz\n",
      "zr1394_9_s3_R1.fastq.gz\n",
      "zr1394_9_s4_R1.fastq.gz\n",
      "zr1394_9_s5_R1.fastq.gz\n",
      "zr1394_9_s6_R1.fastq.gz\n"
     ]
    }
   ],
   "source": [
    "%%bash\n",
    "ls /Volumes/owl_home/mbdseq/"
   ]
  },
  {
   "cell_type": "markdown",
   "metadata": {},
   "source": [
    "##### Count the number of files"
   ]
  },
  {
   "cell_type": "code",
   "execution_count": 4,
   "metadata": {
    "collapsed": false
   },
   "outputs": [
    {
     "name": "stdout",
     "output_type": "stream",
     "text": [
      "     109\n"
     ]
    }
   ],
   "source": [
    "%%bash\n",
    "ls -1 /Volumes/owl_home/mbdseq/ | wc -l"
   ]
  },
  {
   "cell_type": "markdown",
   "metadata": {},
   "source": [
    "##### Generate md5 checksums file"
   ]
  },
  {
   "cell_type": "code",
   "execution_count": 5,
   "metadata": {
    "collapsed": false
   },
   "outputs": [
    {
     "name": "stderr",
     "output_type": "stream",
     "text": [
      "\n",
      "real\t23m13.177s\n",
      "user\t2m36.667s\n",
      "sys\t0m44.913s\n"
     ]
    }
   ],
   "source": [
    "%%bash\n",
    "\n",
    "#For loop generates a md5 checksum has value for each file\n",
    "#and appends the output to the checksums.md5 file.\n",
    "time for file in /Volumes/owl_home/mbdseq/*.gz\n",
    "    do\n",
    "        md5 \"$file\" >> /Volumes/owl_home/mbdseq/checksums.md5\n",
    "        done"
   ]
  },
  {
   "cell_type": "markdown",
   "metadata": {},
   "source": [
    "##### Calculate total number of reads generated by this project"
   ]
  },
  {
   "cell_type": "code",
   "execution_count": 7,
   "metadata": {
    "collapsed": false
   },
   "outputs": [
    {
     "name": "stdout",
     "output_type": "stream",
     "text": [
      "1481836875\n"
     ]
    },
    {
     "name": "stderr",
     "output_type": "stream",
     "text": [
      "bash: line 2: variable.: command not found\n",
      "\n",
      "real\t52m19.145s\n",
      "user\t28m18.301s\n",
      "sys\t3m16.723s\n"
     ]
    }
   ],
   "source": [
    "%%bash\n",
    "\n",
    "totalreads=0#Initializes variable.\n",
    "\n",
    "#For loop counts the lines in each file and divides them by four. This is performed because\n",
    "#Illumina sequencing files are composed of four lines per read.\n",
    "#A running total of the total number of reads is generated [totalreads=$((readcount+totalreads))]\n",
    "#and is printed after the for loop completes.\n",
    "time for file in /Volumes/owl_home/mbdseq/*.gz\n",
    "    do linecount=`gunzip -c \"$file\" | wc -l`\n",
    "    readcount=$((linecount/4))\n",
    "    totalreads=$((readcount+totalreads))\n",
    "done\n",
    "echo $totalreads"
   ]
  },
  {
   "cell_type": "markdown",
   "metadata": {},
   "source": [
    "##### Calculate number of reads per file and append filename and corresponding number of reads to readme file"
   ]
  },
  {
   "cell_type": "code",
   "execution_count": 8,
   "metadata": {
    "collapsed": false,
    "scrolled": true
   },
   "outputs": [
    {
     "name": "stdout",
     "output_type": "stream",
     "text": [
      "zr1394_10_s1_R1.fastq.gz\t12129726\n",
      "\n",
      "zr1394_10_s2_R1.fastq.gz\t11482874\n",
      "\n",
      "zr1394_10_s3_R1.fastq.gz\t10547199\n",
      "\n",
      "zr1394_10_s4_R1.fastq.gz\t26306980\n",
      "\n",
      "zr1394_10_s5_R1.fastq.gz\t26573036\n",
      "\n",
      "zr1394_10_s6_R1.fastq.gz\t26384567\n",
      "\n",
      "zr1394_11_s1_R1.fastq.gz\t7893266\n",
      "\n",
      "zr1394_11_s2_R1.fastq.gz\t7495554\n",
      "\n",
      "zr1394_11_s3_R1.fastq.gz\t6775729\n",
      "\n",
      "zr1394_11_s4_R1.fastq.gz\t18477911\n",
      "\n",
      "zr1394_11_s5_R1.fastq.gz\t18305906\n",
      "\n",
      "zr1394_11_s6_R1.fastq.gz\t18325711\n",
      "\n",
      "zr1394_12_s1_R1.fastq.gz\t9669005\n",
      "\n",
      "zr1394_12_s2_R1.fastq.gz\t9147875\n",
      "\n",
      "zr1394_12_s3_R1.fastq.gz\t8338418\n",
      "\n",
      "zr1394_12_s4_R1.fastq.gz\t20188420\n",
      "\n",
      "zr1394_12_s5_R1.fastq.gz\t20006134\n",
      "\n",
      "zr1394_12_s6_R1.fastq.gz\t19958692\n",
      "\n",
      "zr1394_13_s1_R1.fastq.gz\t9840016\n",
      "\n",
      "zr1394_13_s2_R1.fastq.gz\t9358447\n",
      "\n",
      "zr1394_13_s3_R1.fastq.gz\t8578615\n",
      "\n",
      "zr1394_13_s4_R1.fastq.gz\t21598254\n",
      "\n",
      "zr1394_13_s5_R1.fastq.gz\t21823361\n",
      "\n",
      "zr1394_13_s6_R1.fastq.gz\t21660067\n",
      "\n",
      "zr1394_14_s1_R1.fastq.gz\t13367447\n",
      "\n",
      "zr1394_14_s2_R1.fastq.gz\t12782967\n",
      "\n",
      "zr1394_14_s3_R1.fastq.gz\t11914441\n",
      "\n",
      "zr1394_14_s4_R1.fastq.gz\t29782244\n",
      "\n",
      "zr1394_14_s5_R1.fastq.gz\t29515814\n",
      "\n",
      "zr1394_14_s6_R1.fastq.gz\t29473848\n",
      "\n",
      "zr1394_15_s1_R1.fastq.gz\t10879464\n",
      "\n",
      "zr1394_15_s2_R1.fastq.gz\t10267923\n",
      "\n",
      "zr1394_15_s3_R1.fastq.gz\t9425665\n",
      "\n",
      "zr1394_15_s4_R1.fastq.gz\t23084106\n",
      "\n",
      "zr1394_15_s5_R1.fastq.gz\t22853637\n",
      "\n",
      "zr1394_15_s6_R1.fastq.gz\t22920249\n",
      "\n",
      "zr1394_16_s1_R1.fastq.gz\t11242167\n",
      "\n",
      "zr1394_16_s2_R1.fastq.gz\t10639584\n",
      "\n",
      "zr1394_16_s3_R1.fastq.gz\t9717312\n",
      "\n",
      "zr1394_16_s4_R1.fastq.gz\t25050434\n",
      "\n",
      "zr1394_16_s5_R1.fastq.gz\t25317275\n",
      "\n",
      "zr1394_16_s6_R1.fastq.gz\t25082606\n",
      "\n",
      "zr1394_17_s1_R1.fastq.gz\t6292243\n",
      "\n",
      "zr1394_17_s2_R1.fastq.gz\t5878505\n",
      "\n",
      "zr1394_17_s3_R1.fastq.gz\t5300767\n",
      "\n",
      "zr1394_17_s4_R1.fastq.gz\t14329557\n",
      "\n",
      "zr1394_17_s5_R1.fastq.gz\t14186344\n",
      "\n",
      "zr1394_17_s6_R1.fastq.gz\t14214584\n",
      "\n",
      "zr1394_18_s1_R1.fastq.gz\t8197198\n",
      "\n",
      "zr1394_18_s2_R1.fastq.gz\t7871675\n",
      "\n",
      "zr1394_18_s3_R1.fastq.gz\t6898091\n",
      "\n",
      "zr1394_18_s4_R1.fastq.gz\t18627445\n",
      "\n",
      "zr1394_18_s5_R1.fastq.gz\t18447543\n",
      "\n",
      "zr1394_18_s6_R1.fastq.gz\t18484693\n",
      "\n",
      "zr1394_1_s1_R1.fastq.gz\t6768171\n",
      "\n",
      "zr1394_1_s2_R1.fastq.gz\t7088611\n",
      "\n",
      "zr1394_1_s3_R1.fastq.gz\t6127974\n",
      "\n",
      "zr1394_1_s4_R1.fastq.gz\t15875631\n",
      "\n",
      "zr1394_1_s5_R1.fastq.gz\t15747941\n",
      "\n",
      "zr1394_1_s6_R1.fastq.gz\t15775841\n",
      "\n",
      "zr1394_2_s1_R1.fastq.gz\t7073025\n",
      "\n",
      "zr1394_2_s2_R1.fastq.gz\t6596118\n",
      "\n",
      "zr1394_2_s3_R1.fastq.gz\t6079643\n",
      "\n",
      "zr1394_2_s4_R1.fastq.gz\t15635185\n",
      "\n",
      "zr1394_2_s5_R1.fastq.gz\t15492802\n",
      "\n",
      "zr1394_2_s6_R1.fastq.gz\t15538451\n",
      "\n",
      "zr1394_3_s1_R1.fastq.gz\t7293076\n",
      "\n",
      "zr1394_3_s2_R1.fastq.gz\t6737811\n",
      "\n",
      "zr1394_3_s3_R1.fastq.gz\t6144269\n",
      "\n",
      "zr1394_3_s4_R1.fastq.gz\t16379997\n",
      "\n",
      "zr1394_3_s5_R1.fastq.gz\t16260168\n",
      "\n",
      "zr1394_3_s6_R1.fastq.gz\t16286455\n",
      "\n",
      "zr1394_4_s1_R1.fastq.gz\t6649632\n",
      "\n",
      "zr1394_4_s2_R1.fastq.gz\t6270620\n",
      "\n",
      "zr1394_4_s3_R1.fastq.gz\t5813100\n",
      "\n",
      "zr1394_4_s4_R1.fastq.gz\t15241034\n",
      "\n",
      "zr1394_4_s5_R1.fastq.gz\t15080117\n",
      "\n",
      "zr1394_4_s6_R1.fastq.gz\t15090774\n",
      "\n",
      "zr1394_5_s1_R1.fastq.gz\t7149560\n",
      "\n",
      "zr1394_5_s2_R1.fastq.gz\t6855766\n",
      "\n",
      "zr1394_5_s3_R1.fastq.gz\t6226422\n",
      "\n",
      "zr1394_5_s4_R1.fastq.gz\t16122713\n",
      "\n",
      "zr1394_5_s5_R1.fastq.gz\t15952921\n",
      "\n",
      "zr1394_5_s6_R1.fastq.gz\t15974422\n",
      "\n",
      "zr1394_6_s1_R1.fastq.gz\t6614004\n",
      "\n",
      "zr1394_6_s2_R1.fastq.gz\t6355162\n",
      "\n",
      "zr1394_6_s3_R1.fastq.gz\t5529830\n",
      "\n",
      "zr1394_6_s4_R1.fastq.gz\t15735916\n",
      "\n",
      "zr1394_6_s5_R1.fastq.gz\t15596312\n",
      "\n",
      "zr1394_6_s6_R1.fastq.gz\t15612183\n",
      "\n",
      "zr1394_7_s1_R1.fastq.gz\t7571742\n",
      "\n",
      "zr1394_7_s2_R1.fastq.gz\t7125072\n",
      "\n",
      "zr1394_7_s3_R1.fastq.gz\t6436872\n",
      "\n",
      "zr1394_7_s4_R1.fastq.gz\t16920844\n",
      "\n",
      "zr1394_7_s5_R1.fastq.gz\t16731051\n",
      "\n",
      "zr1394_7_s6_R1.fastq.gz\t16747458\n",
      "\n",
      "zr1394_8_s1_R1.fastq.gz\t6146166\n",
      "\n",
      "zr1394_8_s2_R1.fastq.gz\t5775399\n",
      "\n",
      "zr1394_8_s3_R1.fastq.gz\t5262335\n",
      "\n",
      "zr1394_8_s4_R1.fastq.gz\t13117656\n",
      "\n",
      "zr1394_8_s5_R1.fastq.gz\t12994067\n",
      "\n",
      "zr1394_8_s6_R1.fastq.gz\t13024791\n",
      "\n",
      "zr1394_9_s1_R1.fastq.gz\t11259296\n",
      "\n",
      "zr1394_9_s2_R1.fastq.gz\t11063708\n",
      "\n",
      "zr1394_9_s3_R1.fastq.gz\t9830662\n",
      "\n",
      "zr1394_9_s4_R1.fastq.gz\t26183621\n",
      "\n",
      "zr1394_9_s5_R1.fastq.gz\t25958649\n",
      "\n",
      "zr1394_9_s6_R1.fastq.gz\t26004238\n",
      "\n"
     ]
    },
    {
     "name": "stderr",
     "output_type": "stream",
     "text": [
      "\n",
      "real\t53m32.491s\n",
      "user\t28m18.631s\n",
      "sys\t3m17.064s\n"
     ]
    }
   ],
   "source": [
    "%%bash\n",
    "\n",
    "#For loop counts the lines in each file and divides them by four. This is performed because\n",
    "#Illumina sequencing files are composed of four lines per read.\n",
    "#Format the output (printf) to print the filename, followed by a tab, followed by the readcount.\n",
    "#The command \"tee -a\" is used to both print the output to the screen and append the output to the readme.md file.\n",
    "time for file in /Volumes/owl_home/mbdseq/*.gz\n",
    "    do linecount=`gunzip -c \"$file\" | wc -l`\n",
    "    readcount=$(($linecount/4))\n",
    "    printf \"%s\\t%s\\n\\n\" \"${file##*/}\" \"$readcount\" | tee -a  /Volumes/owl_web/nightingales/O_lurida/20160203_mbdseq/readme.md\n",
    "done"
   ]
  },
  {
   "cell_type": "markdown",
   "metadata": {},
   "source": [
    "##### Move files to Owl web folder"
   ]
  },
  {
   "cell_type": "code",
   "execution_count": 12,
   "metadata": {
    "collapsed": false,
    "scrolled": true
   },
   "outputs": [
    {
     "name": "stderr",
     "output_type": "stream",
     "text": [
      "mv: /Volumes/owl_web/nightingales/O_lurida/20160203_mbdseq/zr1394_2_s5_R1.fastq.gz: set owner/group (was: 504/20): Operation not permitted\n",
      "mv: /Volumes/owl_web/nightingales/O_lurida/20160203_mbdseq/zr1394_3_s1_R1.fastq.gz: set owner/group (was: 504/20): Operation not permitted\n",
      "mv: /Volumes/owl_web/nightingales/O_lurida/20160203_mbdseq/zr1394_3_s2_R1.fastq.gz: set owner/group (was: 504/20): Operation not permitted\n",
      "mv: /Volumes/owl_web/nightingales/O_lurida/20160203_mbdseq/zr1394_3_s4_R1.fastq.gz: set owner/group (was: 504/20): Operation not permitted\n",
      "mv: /Volumes/owl_home/mbdseq/zr1394_3_s5_R1.fastq.gz: No such file or directory\n",
      "mv: /Volumes/owl_web/nightingales/O_lurida/20160203_mbdseq/zr1394_4_s1_R1.fastq.gz: set owner/group (was: 504/20): Operation not permitted\n",
      "mv: /Volumes/owl_web/nightingales/O_lurida/20160203_mbdseq/zr1394_4_s2_R1.fastq.gz: set owner/group (was: 504/20): Operation not permitted\n",
      "mv: /Volumes/owl_web/nightingales/O_lurida/20160203_mbdseq/zr1394_4_s3_R1.fastq.gz: set owner/group (was: 504/20): Operation not permitted\n",
      "mv: /Volumes/owl_web/nightingales/O_lurida/20160203_mbdseq/zr1394_4_s5_R1.fastq.gz: set owner/group (was: 504/20): Operation not permitted\n",
      "mv: /Volumes/owl_home/mbdseq/zr1394_4_s6_R1.fastq.gz: No such file or directory\n",
      "mv: /Volumes/owl_web/nightingales/O_lurida/20160203_mbdseq/zr1394_5_s2_R1.fastq.gz: set owner/group (was: 504/20): Operation not permitted\n",
      "mv: /Volumes/owl_web/nightingales/O_lurida/20160203_mbdseq/zr1394_5_s4_R1.fastq.gz: set owner/group (was: 504/20): Operation not permitted\n",
      "mv: /Volumes/owl_web/nightingales/O_lurida/20160203_mbdseq/zr1394_5_s6_R1.fastq.gz: set owner/group (was: 504/20): Operation not permitted\n",
      "mv: /Volumes/owl_web/nightingales/O_lurida/20160203_mbdseq/zr1394_6_s1_R1.fastq.gz: set owner/group (was: 504/20): Operation not permitted\n",
      "mv: /Volumes/owl_home/mbdseq/zr1394_6_s2_R1.fastq.gz: No such file or directory\n",
      "mv: /Volumes/owl_web/nightingales/O_lurida/20160203_mbdseq/zr1394_6_s4_R1.fastq.gz: set owner/group (was: 504/20): Operation not permitted\n",
      "mv: /Volumes/owl_web/nightingales/O_lurida/20160203_mbdseq/zr1394_6_s6_R1.fastq.gz: set owner/group (was: 504/20): Operation not permitted\n",
      "mv: /Volumes/owl_web/nightingales/O_lurida/20160203_mbdseq/zr1394_7_s1_R1.fastq.gz: set owner/group (was: 504/20): Operation not permitted\n",
      "mv: /Volumes/owl_web/nightingales/O_lurida/20160203_mbdseq/zr1394_7_s3_R1.fastq.gz: set owner/group (was: 504/20): Operation not permitted\n",
      "mv: /Volumes/owl_web/nightingales/O_lurida/20160203_mbdseq/zr1394_7_s5_R1.fastq.gz: set owner/group (was: 504/20): Operation not permitted\n",
      "mv: /Volumes/owl_web/nightingales/O_lurida/20160203_mbdseq/zr1394_7_s6_R1.fastq.gz: set owner/group (was: 504/20): Operation not permitted\n",
      "mv: /Volumes/owl_home/mbdseq/zr1394_8_s1_R1.fastq.gz: No such file or directory\n",
      "mv: /Volumes/owl_home/mbdseq/zr1394_8_s2_R1.fastq.gz: No such file or directory\n",
      "mv: /Volumes/owl_web/nightingales/O_lurida/20160203_mbdseq/zr1394_8_s4_R1.fastq.gz: set owner/group (was: 504/20): Operation not permitted\n",
      "mv: /Volumes/owl_web/nightingales/O_lurida/20160203_mbdseq/zr1394_8_s6_R1.fastq.gz: set owner/group (was: 504/20): Operation not permitted\n",
      "mv: /Volumes/owl_web/nightingales/O_lurida/20160203_mbdseq/zr1394_9_s2_R1.fastq.gz: set owner/group (was: 504/20): Operation not permitted\n",
      "mv: /Volumes/owl_web/nightingales/O_lurida/20160203_mbdseq/zr1394_9_s3_R1.fastq.gz: set owner/group (was: 504/20): Operation not permitted\n",
      "mv: /Volumes/owl_web/nightingales/O_lurida/20160203_mbdseq/zr1394_9_s5_R1.fastq.gz: set owner/group (was: 504/20): Operation not permitted\n",
      "mv: /Volumes/owl_home/mbdseq/zr1394_9_s6_R1.fastq.gz: No such file or directory\n",
      "\n",
      "real\t9m49.431s\n",
      "user\t0m0.798s\n",
      "sys\t1m4.919s\n"
     ]
    }
   ],
   "source": [
    "%%bash\n",
    "\n",
    "time mv -n /Volumes/owl_home/mbdseq/*.gz /Volumes/owl_web/nightingales/O_lurida/20160203_mbdseq/"
   ]
  },
  {
   "cell_type": "code",
   "execution_count": 14,
   "metadata": {
    "collapsed": false
   },
   "outputs": [
    {
     "name": "stderr",
     "output_type": "stream",
     "text": [
      "mv: /Volumes/owl_web/nightingales/O_lurida/20160203_mbdseq/checksums.md5: set owner/group (was: 504/20): Operation not permitted\n",
      "\n",
      "real\t0m0.748s\n",
      "user\t0m0.001s\n",
      "sys\t0m0.004s\n"
     ]
    }
   ],
   "source": [
    "%%bash\n",
    "\n",
    "time mv -nf /Volumes/owl_home/mbdseq/checksums.md5 /Volumes/owl_web/nightingales/O_lurida/20160203_mbdseq/"
   ]
  },
  {
   "cell_type": "markdown",
   "metadata": {},
   "source": [
    "##### Verify files have been moved - only \"seqfiles.txt\" should remain (temp work file)"
   ]
  },
  {
   "cell_type": "code",
   "execution_count": 15,
   "metadata": {
    "collapsed": false
   },
   "outputs": [
    {
     "name": "stdout",
     "output_type": "stream",
     "text": [
      "seqfiles.txt\n"
     ]
    }
   ],
   "source": [
    "%%bash\n",
    "\n",
    "ls /Volumes/owl_home/mbdseq/"
   ]
  },
  {
   "cell_type": "code",
   "execution_count": 2,
   "metadata": {
    "collapsed": false,
    "scrolled": true
   },
   "outputs": [
    {
     "name": "stdout",
     "output_type": "stream",
     "text": [
      "\n",
      "  9.5K Feb  3 14:23 checksums.md5\n",
      "  3.6K Feb  3 13:06 readme.md\n",
      "  440M Feb  2 17:04 zr1394_10_s1_R1.fastq.gz\n",
      "  406M Feb  2 17:05 zr1394_10_s2_R1.fastq.gz\n",
      "  369M Feb  2 17:09 zr1394_10_s3_R1.fastq.gz\n",
      "  850M Feb  2 17:16 zr1394_10_s4_R1.fastq.gz\n",
      "  859M Feb  2 17:20 zr1394_10_s5_R1.fastq.gz\n",
      "  853M Feb  2 17:20 zr1394_10_s6_R1.fastq.gz\n",
      "  288M Feb  2 17:13 zr1394_11_s1_R1.fastq.gz\n",
      "  266M Feb  2 17:14 zr1394_11_s2_R1.fastq.gz\n",
      "  238M Feb  2 17:16 zr1394_11_s3_R1.fastq.gz\n",
      "  601M Feb  2 17:21 zr1394_11_s4_R1.fastq.gz\n",
      "  595M Feb  2 17:23 zr1394_11_s5_R1.fastq.gz\n",
      "  596M Feb  2 17:24 zr1394_11_s6_R1.fastq.gz\n",
      "  349M Feb  2 17:24 zr1394_12_s1_R1.fastq.gz\n",
      "  322M Feb  2 17:23 zr1394_12_s2_R1.fastq.gz\n",
      "  290M Feb  2 17:25 zr1394_12_s3_R1.fastq.gz\n",
      "  649M Feb  2 17:32 zr1394_12_s4_R1.fastq.gz\n",
      "  643M Feb  2 17:31 zr1394_12_s5_R1.fastq.gz\n",
      "  641M Feb  2 17:32 zr1394_12_s6_R1.fastq.gz\n",
      "  356M Feb  2 17:28 zr1394_13_s1_R1.fastq.gz\n",
      "  329M Feb  2 17:29 zr1394_13_s2_R1.fastq.gz\n",
      "  298M Feb  2 17:32 zr1394_13_s3_R1.fastq.gz\n",
      "  695M Feb  2 17:38 zr1394_13_s4_R1.fastq.gz\n",
      "  703M Feb  2 17:41 zr1394_13_s5_R1.fastq.gz\n",
      "  697M Feb  2 17:41 zr1394_13_s6_R1.fastq.gz\n",
      "  485M Feb  2 17:39 zr1394_14_s1_R1.fastq.gz\n",
      "  451M Feb  2 17:38 zr1394_14_s2_R1.fastq.gz\n",
      "  416M Feb  2 17:43 zr1394_14_s3_R1.fastq.gz\n",
      "  957M Feb  2 17:50 zr1394_14_s4_R1.fastq.gz\n",
      "  949M Feb  2 17:50 zr1394_14_s5_R1.fastq.gz\n",
      "  947M Feb  2 17:54 zr1394_14_s6_R1.fastq.gz\n",
      "  394M Feb  2 17:46 zr1394_15_s1_R1.fastq.gz\n",
      "  362M Feb  2 17:48 zr1394_15_s2_R1.fastq.gz\n",
      "  329M Feb  2 17:51 zr1394_15_s3_R1.fastq.gz\n",
      "  745M Feb  2 17:56 zr1394_15_s4_R1.fastq.gz\n",
      "  737M Feb  2 17:59 zr1394_15_s5_R1.fastq.gz\n",
      "  739M Feb  2 17:59 zr1394_15_s6_R1.fastq.gz\n",
      "  408M Feb  2 17:56 zr1394_16_s1_R1.fastq.gz\n",
      "  376M Feb  2 17:58 zr1394_16_s2_R1.fastq.gz\n",
      "  340M Feb  2 18:00 zr1394_16_s3_R1.fastq.gz\n",
      "  811M Feb  2 18:06 zr1394_16_s4_R1.fastq.gz\n",
      "  820M Feb  2 18:09 zr1394_16_s5_R1.fastq.gz\n",
      "  812M Feb  2 18:10 zr1394_16_s6_R1.fastq.gz\n",
      "  230M Feb  2 18:02 zr1394_17_s1_R1.fastq.gz\n",
      "  209M Feb  2 18:03 zr1394_17_s2_R1.fastq.gz\n",
      "  186M Feb  2 18:04 zr1394_17_s3_R1.fastq.gz\n",
      "  467M Feb  2 18:09 zr1394_17_s4_R1.fastq.gz\n",
      "  463M Feb  2 18:11 zr1394_17_s5_R1.fastq.gz\n",
      "  464M Feb  2 18:13 zr1394_17_s6_R1.fastq.gz\n",
      "  296M Feb  2 18:12 zr1394_18_s1_R1.fastq.gz\n",
      "  277M Feb  2 18:12 zr1394_18_s2_R1.fastq.gz\n",
      "  240M Feb  2 18:13 zr1394_18_s3_R1.fastq.gz\n",
      "  598M Feb  2 18:17 zr1394_18_s4_R1.fastq.gz\n",
      "  593M Feb  2 18:17 zr1394_18_s5_R1.fastq.gz\n",
      "  594M Feb  2 18:17 zr1394_18_s6_R1.fastq.gz\n",
      "  237M Feb  2 16:16 zr1394_1_s1_R1.fastq.gz\n",
      "  256M Feb  2 16:17 zr1394_1_s2_R1.fastq.gz\n",
      "  213M Feb  2 16:16 zr1394_1_s3_R1.fastq.gz\n",
      "  510M Feb  2 16:20 zr1394_1_s4_R1.fastq.gz\n",
      "  506M Feb  2 16:20 zr1394_1_s5_R1.fastq.gz\n",
      "  507M Feb  2 16:22 zr1394_1_s6_R1.fastq.gz\n",
      "  256M Feb  2 16:20 zr1394_2_s1_R1.fastq.gz\n",
      "  232M Feb  2 16:20 zr1394_2_s2_R1.fastq.gz\n",
      "  212M Feb  2 16:22 zr1394_2_s3_R1.fastq.gz\n",
      "  504M Feb  2 16:26 zr1394_2_s4_R1.fastq.gz\n",
      "  499M Feb  2 16:26 zr1394_2_s5_R1.fastq.gz\n",
      "  501M Feb  2 16:26 zr1394_2_s6_R1.fastq.gz\n",
      "  264M Feb  2 16:25 zr1394_3_s1_R1.fastq.gz\n",
      "  237M Feb  2 16:25 zr1394_3_s2_R1.fastq.gz\n",
      "  214M Feb  2 16:28 zr1394_3_s3_R1.fastq.gz\n",
      "  528M Feb  2 16:32 zr1394_3_s4_R1.fastq.gz\n",
      "  524M Feb  2 16:32 zr1394_3_s5_R1.fastq.gz\n",
      "  525M Feb  2 16:33 zr1394_3_s6_R1.fastq.gz\n",
      "  241M Feb  2 16:29 zr1394_4_s1_R1.fastq.gz\n",
      "  221M Feb  2 16:31 zr1394_4_s2_R1.fastq.gz\n",
      "  202M Feb  2 16:32 zr1394_4_s3_R1.fastq.gz\n",
      "  492M Feb  2 16:37 zr1394_4_s4_R1.fastq.gz\n",
      "  487M Feb  2 16:38 zr1394_4_s5_R1.fastq.gz\n",
      "  487M Feb  2 16:38 zr1394_4_s6_R1.fastq.gz\n",
      "  258M Feb  2 16:36 zr1394_5_s1_R1.fastq.gz\n",
      "  240M Feb  2 16:36 zr1394_5_s2_R1.fastq.gz\n",
      "  216M Feb  2 16:38 zr1394_5_s3_R1.fastq.gz\n",
      "  518M Feb  2 16:42 zr1394_5_s4_R1.fastq.gz\n",
      "  512M Feb  2 16:43 zr1394_5_s5_R1.fastq.gz\n",
      "  513M Feb  2 16:44 zr1394_5_s6_R1.fastq.gz\n",
      "  238M Feb  2 16:41 zr1394_6_s1_R1.fastq.gz\n",
      "  223M Feb  2 16:41 zr1394_6_s2_R1.fastq.gz\n",
      "  192M Feb  2 16:44 zr1394_6_s3_R1.fastq.gz\n",
      "  506M Feb  2 16:47 zr1394_6_s4_R1.fastq.gz\n",
      "  502M Feb  2 16:48 zr1394_6_s5_R1.fastq.gz\n",
      "  502M Feb  2 16:49 zr1394_6_s6_R1.fastq.gz\n",
      "  274M Feb  2 16:47 zr1394_7_s1_R1.fastq.gz\n",
      "  250M Feb  2 16:47 zr1394_7_s2_R1.fastq.gz\n",
      "  224M Feb  2 16:49 zr1394_7_s3_R1.fastq.gz\n",
      "  545M Feb  2 16:53 zr1394_7_s4_R1.fastq.gz\n",
      "  539M Feb  2 16:53 zr1394_7_s5_R1.fastq.gz\n",
      "  540M Feb  2 16:54 zr1394_7_s6_R1.fastq.gz\n",
      "  223M Feb  2 16:52 zr1394_8_s1_R1.fastq.gz\n",
      "  204M Feb  2 16:52 zr1394_8_s2_R1.fastq.gz\n",
      "  184M Feb  2 16:54 zr1394_8_s3_R1.fastq.gz\n",
      "  424M Feb  2 16:58 zr1394_8_s4_R1.fastq.gz\n",
      "  420M Feb  2 16:58 zr1394_8_s5_R1.fastq.gz\n",
      "  421M Feb  2 16:59 zr1394_8_s6_R1.fastq.gz\n",
      "  405M Feb  2 16:59 zr1394_9_s1_R1.fastq.gz\n",
      "  387M Feb  2 17:00 zr1394_9_s2_R1.fastq.gz\n",
      "  340M Feb  2 16:56 zr1394_9_s3_R1.fastq.gz\n",
      "  837M Feb  2 17:09 zr1394_9_s4_R1.fastq.gz\n",
      "  829M Feb  2 17:10 zr1394_9_s5_R1.fastq.gz\n",
      "  831M Feb  2 17:09 zr1394_9_s6_R1.fastq.gz\n"
     ]
    }
   ],
   "source": [
    "%%bash\n",
    "\n",
    "ls -lh /Volumes/owl_web/nightingales/O_lurida/20160203_mbdseq/ | cut -d ' ' -f7-"
   ]
  },
  {
   "cell_type": "code",
   "execution_count": 17,
   "metadata": {
    "collapsed": false
   },
   "outputs": [
    {
     "name": "stdout",
     "output_type": "stream",
     "text": [
      "     110\n"
     ]
    }
   ],
   "source": [
    "%%bash\n",
    "\n",
    "ls -1 /Volumes/owl_web/nightingales/O_lurida/20160203_mbdseq/ | wc -l"
   ]
  },
  {
   "cell_type": "code",
   "execution_count": null,
   "metadata": {
    "collapsed": true
   },
   "outputs": [],
   "source": []
  }
 ],
 "metadata": {
  "kernelspec": {
   "display_name": "Python 2",
   "language": "python",
   "name": "python2"
  },
  "language_info": {
   "codemirror_mode": {
    "name": "ipython",
    "version": 2
   },
   "file_extension": ".py",
   "mimetype": "text/x-python",
   "name": "python",
   "nbconvert_exporter": "python",
   "pygments_lexer": "ipython2",
   "version": "2.7.9"
  }
 },
 "nbformat": 4,
 "nbformat_minor": 0
}
