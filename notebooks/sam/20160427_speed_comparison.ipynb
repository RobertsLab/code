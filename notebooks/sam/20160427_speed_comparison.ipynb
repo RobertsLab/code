{
 "cells": [
  {
   "cell_type": "code",
   "execution_count": 1,
   "metadata": {
    "collapsed": false
   },
   "outputs": [
    {
     "name": "stdout",
     "output_type": "stream",
     "text": [
      "Wed Apr 27 14:26:11 PDT 2016\r\n"
     ]
    }
   ],
   "source": [
    "!date"
   ]
  },
  {
   "cell_type": "code",
   "execution_count": 2,
   "metadata": {
    "collapsed": false
   },
   "outputs": [
    {
     "name": "stdout",
     "output_type": "stream",
     "text": [
      "Software:\n",
      "\n",
      "    System Software Overview:\n",
      "\n",
      "      System Version: OS X 10.9.5 (13F34)\n",
      "      Kernel Version: Darwin 13.4.0\n",
      "      Boot Volume: Hummingbird\n",
      "      Boot Mode: Normal\n",
      "      Computer Name: hummingbird\n",
      "      User Name: Sam (Sam)\n",
      "      Secure Virtual Memory: Enabled\n",
      "      Time since boot: 9 days 4:31\n",
      "\n"
     ]
    }
   ],
   "source": [
    "%%bash\n",
    "system_profiler SPSoftwareDataType"
   ]
  },
  {
   "cell_type": "code",
   "execution_count": 3,
   "metadata": {
    "collapsed": false
   },
   "outputs": [
    {
     "name": "stdout",
     "output_type": "stream",
     "text": [
      "\n",
      "\n",
      "      Model Name: Xserve\n",
      "      Model Identifier: Xserve3,1\n",
      "      Processor Name: Quad-Core Intel Xeon\n",
      "      Processor Speed: 2.26 GHz\n",
      "      Number of Processors: 2\n",
      "      Total Number of Cores: 8\n",
      "      L2 Cache (per Core): 256 KB\n",
      "      L3 Cache (per Processor): 8 MB\n",
      "      Memory: 24 GB\n",
      "      Processor Interconnect Speed: 5.86 GT/s\n",
      "      Boot ROM Version: XS31.0081.B06\n",
      "      SMC Version (system): 1.43f4\n",
      "      LOM Revision: 1.1.8\n",
      "\n"
     ]
    }
   ],
   "source": [
    "%%bash\n",
    "#Uses grep to exclude lines that display serial number and hardware UUID\n",
    "system_profiler SPHardwareDataType | grep -v [SH][ea]"
   ]
  },
  {
   "cell_type": "markdown",
   "metadata": {},
   "source": [
    "### Show same file in each of three locations"
   ]
  },
  {
   "cell_type": "code",
   "execution_count": 4,
   "metadata": {
    "collapsed": false
   },
   "outputs": [
    {
     "name": "stdout",
     "output_type": "stream",
     "text": [
      "-rw-r--r--  1 Sam  admin   3.0G Apr 27 14:25 /Volumes/Data/Sam/scratch/160103_I137_FCH3V5YBBXX_L5_WHOSTibkDCAADWAAPEI-74_2.fq.gz\n"
     ]
    }
   ],
   "source": [
    "%%bash\n",
    "#Local copy of file\n",
    "ls -lh /Volumes/Data/Sam/scratch/160103_I137_FCH3V5YBBXX_L5_WHOSTibkDCAADWAAPEI-74_2.fq.gz"
   ]
  },
  {
   "cell_type": "code",
   "execution_count": 5,
   "metadata": {
    "collapsed": false
   },
   "outputs": [
    {
     "name": "stdout",
     "output_type": "stream",
     "text": [
      "-rw-r--r--  1 Sam  staff   3.0G Apr 27 14:21 /Volumes/toaster/sam/scratch/160103_I137_FCH3V5YBBXX_L5_WHOSTibkDCAADWAAPEI-74_2.fq.gz\n"
     ]
    }
   ],
   "source": [
    "%%bash\n",
    "#External HDD copy of file\n",
    "ls -lh /Volumes/toaster/sam/scratch/160103_I137_FCH3V5YBBXX_L5_WHOSTibkDCAADWAAPEI-74_2.fq.gz"
   ]
  },
  {
   "cell_type": "code",
   "execution_count": 6,
   "metadata": {
    "collapsed": false
   },
   "outputs": [
    {
     "name": "stdout",
     "output_type": "stream",
     "text": [
      "-rw-rw-rw-  1 Sam  staff   3.0G Jan 25 02:30 /Volumes/owl_web/nightingales/O_lurida/160103_I137_FCH3V5YBBXX_L5_WHOSTibkDCAADWAAPEI-74_2.fq.gz\n"
     ]
    }
   ],
   "source": [
    "%%bash\n",
    "#Server (Owl) copy of file\n",
    "ls -lh /Volumes/owl_web/nightingales/O_lurida/160103_I137_FCH3V5YBBXX_L5_WHOSTibkDCAADWAAPEI-74_2.fq.gz"
   ]
  },
  {
   "cell_type": "markdown",
   "metadata": {},
   "source": [
    "### Gunzip all three files and send output to /dev/null (i.e. data is not saved when directed here)"
   ]
  },
  {
   "cell_type": "code",
   "execution_count": 7,
   "metadata": {
    "collapsed": false
   },
   "outputs": [
    {
     "name": "stderr",
     "output_type": "stream",
     "text": [
      "\n",
      "real\t1m7.447s\n",
      "user\t1m5.863s\n",
      "sys\t0m1.136s\n"
     ]
    }
   ],
   "source": [
    "%%bash\n",
    "time gunzip -c /Volumes/Data/Sam/scratch/160103_I137_FCH3V5YBBXX_L5_WHOSTibkDCAADWAAPEI-74_2.fq.gz > /dev/null"
   ]
  },
  {
   "cell_type": "code",
   "execution_count": 8,
   "metadata": {
    "collapsed": false
   },
   "outputs": [
    {
     "name": "stderr",
     "output_type": "stream",
     "text": [
      "\n",
      "real\t1m6.946s\n",
      "user\t1m5.822s\n",
      "sys\t0m1.121s\n"
     ]
    }
   ],
   "source": [
    "%%bash\n",
    "time gunzip -c /Volumes/toaster/sam/scratch/160103_I137_FCH3V5YBBXX_L5_WHOSTibkDCAADWAAPEI-74_2.fq.gz > /dev/null"
   ]
  },
  {
   "cell_type": "code",
   "execution_count": 9,
   "metadata": {
    "collapsed": false
   },
   "outputs": [
    {
     "name": "stderr",
     "output_type": "stream",
     "text": [
      "\n",
      "real\t1m7.371s\n",
      "user\t1m5.826s\n",
      "sys\t0m1.201s\n"
     ]
    }
   ],
   "source": [
    "%%bash\n",
    "time gunzip -c /Volumes/owl_web/nightingales/O_lurida/160103_I137_FCH3V5YBBXX_L5_WHOSTibkDCAADWAAPEI-74_2.fq.gz > /dev/null"
   ]
  },
  {
   "cell_type": "markdown",
   "metadata": {},
   "source": [
    "#### Surprisingly we don't see much speed difference (comparing the \"real\" time) between the the three file locations. Let's try with a significantly larger file"
   ]
  },
  {
   "cell_type": "markdown",
   "metadata": {},
   "source": [
    "### Show same file in each of three locations"
   ]
  },
  {
   "cell_type": "code",
   "execution_count": 10,
   "metadata": {
    "collapsed": false
   },
   "outputs": [
    {
     "name": "stdout",
     "output_type": "stream",
     "text": [
      "-rw-r--r--  1 Sam  admin    17G Apr 27 14:53 /Volumes/Data/Sam/scratch/160123_I132_FCH3YHMBBXX_L4_OYSzenG1AAD96FAAPEI-109_1.fq.gz\n"
     ]
    }
   ],
   "source": [
    "%%bash\n",
    "#Local copy of file\n",
    "ls -lh /Volumes/Data/Sam/scratch/160123_I132_FCH3YHMBBXX_L4_OYSzenG1AAD96FAAPEI-109_1.fq.gz"
   ]
  },
  {
   "cell_type": "code",
   "execution_count": 11,
   "metadata": {
    "collapsed": false
   },
   "outputs": [
    {
     "name": "stdout",
     "output_type": "stream",
     "text": [
      "-rw-r--r--  1 Sam  staff    17G Apr 27 14:57 /Volumes/toaster/sam/scratch/160123_I132_FCH3YHMBBXX_L4_OYSzenG1AAD96FAAPEI-109_1.fq.gz\n"
     ]
    }
   ],
   "source": [
    "%%bash\n",
    "#External HDD copy of file\n",
    "ls -lh /Volumes/toaster/sam/scratch/160123_I132_FCH3YHMBBXX_L4_OYSzenG1AAD96FAAPEI-109_1.fq.gz"
   ]
  },
  {
   "cell_type": "code",
   "execution_count": 12,
   "metadata": {
    "collapsed": false
   },
   "outputs": [
    {
     "name": "stdout",
     "output_type": "stream",
     "text": [
      "-rw-r--r--  1 Sam  staff    17G Apr 22 04:21 /Volumes/owl_web/nightingales/O_lurida/20160223_gbs/160123_I132_FCH3YHMBBXX_L4_OYSzenG1AAD96FAAPEI-109_1.fq.gz\n"
     ]
    }
   ],
   "source": [
    "%%bash\n",
    "#Server (Owl) copy of file\n",
    "ls -lh /Volumes/owl_web/nightingales/O_lurida/20160223_gbs/160123_I132_FCH3YHMBBXX_L4_OYSzenG1AAD96FAAPEI-109_1.fq.gz"
   ]
  },
  {
   "cell_type": "markdown",
   "metadata": {},
   "source": [
    "### Gunzip all three files and send output to /dev/null (i.e. data is not saved when directed here)"
   ]
  },
  {
   "cell_type": "code",
   "execution_count": 13,
   "metadata": {
    "collapsed": false
   },
   "outputs": [
    {
     "name": "stderr",
     "output_type": "stream",
     "text": [
      "\n",
      "real\t6m45.887s\n",
      "user\t6m34.177s\n",
      "sys\t0m8.973s\n"
     ]
    }
   ],
   "source": [
    "%%bash\n",
    "#Local copy of file\n",
    "time gunzip -c /Volumes/Data/Sam/scratch/160123_I132_FCH3YHMBBXX_L4_OYSzenG1AAD96FAAPEI-109_1.fq.gz > /dev/null"
   ]
  },
  {
   "cell_type": "code",
   "execution_count": 14,
   "metadata": {
    "collapsed": false
   },
   "outputs": [
    {
     "name": "stderr",
     "output_type": "stream",
     "text": [
      "\n",
      "real\t7m54.975s\n",
      "user\t6m51.899s\n",
      "sys\t0m31.495s\n"
     ]
    }
   ],
   "source": [
    "%%bash\n",
    "#External HDD copy of file\n",
    "time gunzip -c /Volumes/toaster/sam/scratch/160123_I132_FCH3YHMBBXX_L4_OYSzenG1AAD96FAAPEI-109_1.fq.gz > /dev/null"
   ]
  },
  {
   "cell_type": "code",
   "execution_count": 15,
   "metadata": {
    "collapsed": false
   },
   "outputs": [
    {
     "name": "stderr",
     "output_type": "stream",
     "text": [
      "\n",
      "real\t13m52.376s\n",
      "user\t6m38.746s\n",
      "sys\t0m27.947s\n"
     ]
    }
   ],
   "source": [
    "%%bash\n",
    "#Server (Owl) copy of file\n",
    "time gunzip -c /Volumes/owl_web/nightingales/O_lurida/20160223_gbs/160123_I132_FCH3YHMBBXX_L4_OYSzenG1AAD96FAAPEI-109_1.fq.gz > /dev/null"
   ]
  },
  {
   "cell_type": "markdown",
   "metadata": {},
   "source": [
    "#### With the larger file, there is a large difference in speed (comparing \"real\" time). Seems to show that dealing with files housed on the server is much slower than handling files locally."
   ]
  }
 ],
 "metadata": {
  "kernelspec": {
   "display_name": "Python 2",
   "language": "python",
   "name": "python2"
  },
  "language_info": {
   "codemirror_mode": {
    "name": "ipython",
    "version": 2
   },
   "file_extension": ".py",
   "mimetype": "text/x-python",
   "name": "python",
   "nbconvert_exporter": "python",
   "pygments_lexer": "ipython2",
   "version": "2.7.9"
  }
 },
 "nbformat": 4,
 "nbformat_minor": 0
}
