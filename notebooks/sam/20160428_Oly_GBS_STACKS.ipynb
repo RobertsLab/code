{
 "cells": [
  {
   "cell_type": "code",
   "execution_count": 1,
   "metadata": {
    "collapsed": false
   },
   "outputs": [
    {
     "name": "stdout",
     "output_type": "stream",
     "text": [
      "Thu Apr 28 10:05:32 PDT 2016\n"
     ]
    }
   ],
   "source": [
    "%%bash\n",
    "date"
   ]
  },
  {
   "cell_type": "code",
   "execution_count": 2,
   "metadata": {
    "collapsed": false
   },
   "outputs": [
    {
     "name": "stdout",
     "output_type": "stream",
     "text": [
      "Software:\n",
      "\n",
      "    System Software Overview:\n",
      "\n",
      "      System Version: OS X 10.9.5 (13F34)\n",
      "      Kernel Version: Darwin 13.4.0\n",
      "      Boot Volume: Hummingbird\n",
      "      Boot Mode: Normal\n",
      "      Computer Name: hummingbird\n",
      "      User Name: Sam (Sam)\n",
      "      Secure Virtual Memory: Enabled\n",
      "      Time since boot: 10 days 11 minutes\n",
      "\n"
     ]
    }
   ],
   "source": [
    "%%bash\n",
    "system_profiler SPSoftwareDataType"
   ]
  },
  {
   "cell_type": "code",
   "execution_count": 3,
   "metadata": {
    "collapsed": false
   },
   "outputs": [
    {
     "name": "stdout",
     "output_type": "stream",
     "text": [
      "\n",
      "\n",
      "      Model Name: Xserve\n",
      "      Model Identifier: Xserve3,1\n",
      "      Processor Name: Quad-Core Intel Xeon\n",
      "      Processor Speed: 2.26 GHz\n",
      "      Number of Processors: 2\n",
      "      Total Number of Cores: 8\n",
      "      L2 Cache (per Core): 256 KB\n",
      "      L3 Cache (per Processor): 8 MB\n",
      "      Memory: 24 GB\n",
      "      Processor Interconnect Speed: 5.86 GT/s\n",
      "      Boot ROM Version: XS31.0081.B06\n",
      "      SMC Version (system): 1.43f4\n",
      "      LOM Revision: 1.1.8\n",
      "\n"
     ]
    }
   ],
   "source": [
    "%%bash\n",
    "#Uses grep to exclude lines that display serial number and hardware UUID\n",
    "system_profiler SPHardwareDataType | grep -v [SH][ea]"
   ]
  },
  {
   "cell_type": "markdown",
   "metadata": {},
   "source": [
    "#### Move to directory with GBS FASTQ files"
   ]
  },
  {
   "cell_type": "code",
   "execution_count": 20,
   "metadata": {
    "collapsed": false
   },
   "outputs": [
    {
     "name": "stdout",
     "output_type": "stream",
     "text": [
      "/Volumes/toaster/sam/scratch/20160428_Oly_GBS_stacks\n"
     ]
    }
   ],
   "source": [
    "cd /Volumes/toaster/sam/scratch/20160428_Oly_GBS_stacks/"
   ]
  },
  {
   "cell_type": "markdown",
   "metadata": {},
   "source": [
    "#### List all FASTQ files for use in subsequent STACKS command"
   ]
  },
  {
   "cell_type": "code",
   "execution_count": 22,
   "metadata": {
    "collapsed": false
   },
   "outputs": [
    {
     "name": "stdout",
     "output_type": "stream",
     "text": [
      "1HL_10A_1.fq.gz 1HL_11A_1.fq.gz 1HL_12A_1.fq.gz 1HL_13A_1.fq.gz 1HL_14A_1.fq.gz 1HL_15A_1.fq.gz 1HL_16A_1.fq.gz 1HL_17A_1.fq.gz 1HL_19A_1.fq.gz 1HL_1A_1.fq.gz 1HL_20A_1.fq.gz 1HL_21A_1.fq.gz 1HL_22A_1.fq.gz 1HL_23A_1.fq.gz 1HL_24A_1.fq.gz 1HL_25A_1.fq.gz 1HL_26A_1.fq.gz 1HL_27A_1.fq.gz 1HL_28A_1.fq.gz 1HL_29A_1.fq.gz 1HL_2A_1.fq.gz 1HL_31A_1.fq.gz 1HL_33A_1.fq.gz 1HL_34A_1.fq.gz 1HL_35A_1.fq.gz 1HL_3A_1.fq.gz 1HL_4A_1.fq.gz 1HL_5A_1.fq.gz 1HL_6A_1.fq.gz 1HL_7A_1.fq.gz 1HL_8A_1.fq.gz 1HL_9A_1.fq.gz 1NF_10A_1.fq.gz 1NF_11A_1.fq.gz 1NF_12A_1.fq.gz 1NF_13A_1.fq.gz 1NF_14A_1.fq.gz 1NF_15A_1.fq.gz 1NF_16A_1.fq.gz 1NF_17A_1.fq.gz 1NF_18A_1.fq.gz 1NF_19A_1.fq.gz 1NF_1A_1.fq.gz 1NF_20A_1.fq.gz 1NF_21A_1.fq.gz 1NF_22A_1.fq.gz 1NF_23A_1.fq.gz 1NF_24A_1.fq.gz 1NF_25A_1.fq.gz 1NF_26A_1.fq.gz 1NF_27A_1.fq.gz 1NF_28A_1.fq.gz 1NF_29A_1.fq.gz 1NF_2A_1.fq.gz 1NF_30A_1.fq.gz 1NF_31A_1.fq.gz 1NF_32A_1.fq.gz 1NF_33A_1.fq.gz 1NF_4A_1.fq.gz 1NF_5A_1.fq.gz 1NF_6A_1.fq.gz 1NF_7A_1.fq.gz 1NF_8A_1.fq.gz 1NF_9A_1.fq.gz 1SN_10A_1.fq.gz 1SN_11A_1.fq.gz 1SN_12A_1.fq.gz 1SN_13A_1.fq.gz 1SN_14A_1.fq.gz 1SN_15A_1.fq.gz 1SN_16A_1.fq.gz 1SN_17A_1.fq.gz 1SN_18A_1.fq.gz 1SN_19A_1.fq.gz 1SN_1A_1.fq.gz 1SN_20A_1.fq.gz 1SN_21A_1.fq.gz 1SN_22A_1.fq.gz 1SN_23A_1.fq.gz 1SN_24A_1.fq.gz 1SN_25A_1.fq.gz 1SN_26A_1.fq.gz 1SN_27A_1.fq.gz 1SN_28A_1.fq.gz 1SN_29A_1.fq.gz 1SN_2A_1.fq.gz 1SN_30A_1.fq.gz 1SN_31A_1.fq.gz 1SN_32A_1.fq.gz 1SN_3A_1.fq.gz 1SN_4A_1.fq.gz 1SN_5A_1.fq.gz 1SN_6A_1.fq.gz 1SN_7A_1.fq.gz 1SN_8A_1.fq.gz 1SN_9A_1.fq.gz UnKnow_1.fq.gz\n"
     ]
    }
   ],
   "source": [
    "%%bash\n",
    "echo *_1.fq.gz"
   ]
  },
  {
   "cell_type": "code",
   "execution_count": 23,
   "metadata": {
    "collapsed": false
   },
   "outputs": [
    {
     "name": "stdout",
     "output_type": "stream",
     "text": [
      "1HL_10A_2.fq.gz 1HL_11A_2.fq.gz 1HL_12A_2.fq.gz 1HL_13A_2.fq.gz 1HL_14A_2.fq.gz 1HL_15A_2.fq.gz 1HL_16A_2.fq.gz 1HL_17A_2.fq.gz 1HL_19A_2.fq.gz 1HL_1A_2.fq.gz 1HL_20A_2.fq.gz 1HL_21A_2.fq.gz 1HL_22A_2.fq.gz 1HL_23A_2.fq.gz 1HL_24A_2.fq.gz 1HL_25A_2.fq.gz 1HL_26A_2.fq.gz 1HL_27A_2.fq.gz 1HL_28A_2.fq.gz 1HL_29A_2.fq.gz 1HL_2A_2.fq.gz 1HL_31A_2.fq.gz 1HL_33A_2.fq.gz 1HL_34A_2.fq.gz 1HL_35A_2.fq.gz 1HL_3A_2.fq.gz 1HL_4A_2.fq.gz 1HL_5A_2.fq.gz 1HL_6A_2.fq.gz 1HL_7A_2.fq.gz 1HL_8A_2.fq.gz 1HL_9A_2.fq.gz 1NF_10A_2.fq.gz 1NF_11A_2.fq.gz 1NF_12A_2.fq.gz 1NF_13A_2.fq.gz 1NF_14A_2.fq.gz 1NF_15A_2.fq.gz 1NF_16A_2.fq.gz 1NF_17A_2.fq.gz 1NF_18A_2.fq.gz 1NF_19A_2.fq.gz 1NF_1A_2.fq.gz 1NF_20A_2.fq.gz 1NF_21A_2.fq.gz 1NF_22A_2.fq.gz 1NF_23A_2.fq.gz 1NF_24A_2.fq.gz 1NF_25A_2.fq.gz 1NF_26A_2.fq.gz 1NF_27A_2.fq.gz 1NF_28A_2.fq.gz 1NF_29A_2.fq.gz 1NF_2A_2.fq.gz 1NF_30A_2.fq.gz 1NF_31A_2.fq.gz 1NF_32A_2.fq.gz 1NF_33A_2.fq.gz 1NF_4A_2.fq.gz 1NF_5A_2.fq.gz 1NF_6A_2.fq.gz 1NF_7A_2.fq.gz 1NF_8A_2.fq.gz 1NF_9A_2.fq.gz 1SN_10A_2.fq.gz 1SN_11A_2.fq.gz 1SN_12A_2.fq.gz 1SN_13A_2.fq.gz 1SN_14A_2.fq.gz 1SN_15A_2.fq.gz 1SN_16A_2.fq.gz 1SN_17A_2.fq.gz 1SN_18A_2.fq.gz 1SN_19A_2.fq.gz 1SN_1A_2.fq.gz 1SN_20A_2.fq.gz 1SN_21A_2.fq.gz 1SN_22A_2.fq.gz 1SN_23A_2.fq.gz 1SN_24A_2.fq.gz 1SN_25A_2.fq.gz 1SN_26A_2.fq.gz 1SN_27A_2.fq.gz 1SN_28A_2.fq.gz 1SN_29A_2.fq.gz 1SN_2A_2.fq.gz 1SN_30A_2.fq.gz 1SN_31A_2.fq.gz 1SN_32A_2.fq.gz 1SN_3A_2.fq.gz 1SN_4A_2.fq.gz 1SN_5A_2.fq.gz 1SN_6A_2.fq.gz 1SN_7A_2.fq.gz 1SN_8A_2.fq.gz 1SN_9A_2.fq.gz UnKnow_2.fq.gz\n"
     ]
    }
   ],
   "source": [
    "%%bash\n",
    "echo *_2.fq.gz"
   ]
  },
  {
   "cell_type": "markdown",
   "metadata": {},
   "source": [
    "### Run QC on files with `process_radtags` component"
   ]
  },
  {
   "cell_type": "markdown",
   "metadata": {},
   "source": [
    "#### Cell below creates two lists (one list for each individual pair of FASTQs), loops through each as an array and assigns the corresponding FASTQ pairs to the variables \"i\" and \"j\". The values in \"i\" and \"j\" are used in the `process_radtags` command for matching the paired FASTQ files."
   ]
  },
  {
   "cell_type": "code",
   "execution_count": 24,
   "metadata": {
    "collapsed": false
   },
   "outputs": [
    {
     "name": "stderr",
     "output_type": "stream",
     "text": [
      "\n",
      "real\t386m2.612s\n",
      "user\t381m30.306s\n",
      "sys\t2m20.472s\n"
     ]
    }
   ],
   "source": [
    "%%bash\n",
    "seq1=( 1HL_10A_1.fq.gz 1HL_11A_1.fq.gz 1HL_12A_1.fq.gz 1HL_13A_1.fq.gz 1HL_14A_1.fq.gz 1HL_15A_1.fq.gz 1HL_16A_1.fq.gz 1HL_17A_1.fq.gz 1HL_19A_1.fq.gz 1HL_1A_1.fq.gz 1HL_20A_1.fq.gz 1HL_21A_1.fq.gz 1HL_22A_1.fq.gz 1HL_23A_1.fq.gz 1HL_24A_1.fq.gz 1HL_25A_1.fq.gz 1HL_26A_1.fq.gz 1HL_27A_1.fq.gz 1HL_28A_1.fq.gz 1HL_29A_1.fq.gz 1HL_2A_1.fq.gz 1HL_31A_1.fq.gz 1HL_33A_1.fq.gz 1HL_34A_1.fq.gz 1HL_35A_1.fq.gz 1HL_3A_1.fq.gz 1HL_4A_1.fq.gz 1HL_5A_1.fq.gz 1HL_6A_1.fq.gz 1HL_7A_1.fq.gz 1HL_8A_1.fq.gz 1HL_9A_1.fq.gz 1NF_10A_1.fq.gz 1NF_11A_1.fq.gz 1NF_12A_1.fq.gz 1NF_13A_1.fq.gz 1NF_14A_1.fq.gz 1NF_15A_1.fq.gz 1NF_16A_1.fq.gz 1NF_17A_1.fq.gz 1NF_18A_1.fq.gz 1NF_19A_1.fq.gz 1NF_1A_1.fq.gz 1NF_20A_1.fq.gz 1NF_21A_1.fq.gz 1NF_22A_1.fq.gz 1NF_23A_1.fq.gz 1NF_24A_1.fq.gz 1NF_25A_1.fq.gz 1NF_26A_1.fq.gz 1NF_27A_1.fq.gz 1NF_28A_1.fq.gz 1NF_29A_1.fq.gz 1NF_2A_1.fq.gz 1NF_30A_1.fq.gz 1NF_31A_1.fq.gz 1NF_32A_1.fq.gz 1NF_33A_1.fq.gz 1NF_4A_1.fq.gz 1NF_5A_1.fq.gz 1NF_6A_1.fq.gz 1NF_7A_1.fq.gz 1NF_8A_1.fq.gz 1NF_9A_1.fq.gz 1SN_10A_1.fq.gz 1SN_11A_1.fq.gz 1SN_12A_1.fq.gz 1SN_13A_1.fq.gz 1SN_14A_1.fq.gz 1SN_15A_1.fq.gz 1SN_16A_1.fq.gz 1SN_17A_1.fq.gz 1SN_18A_1.fq.gz 1SN_19A_1.fq.gz 1SN_1A_1.fq.gz 1SN_20A_1.fq.gz 1SN_21A_1.fq.gz 1SN_22A_1.fq.gz 1SN_23A_1.fq.gz 1SN_24A_1.fq.gz 1SN_25A_1.fq.gz 1SN_26A_1.fq.gz 1SN_27A_1.fq.gz 1SN_28A_1.fq.gz 1SN_29A_1.fq.gz 1SN_2A_1.fq.gz 1SN_30A_1.fq.gz 1SN_31A_1.fq.gz 1SN_32A_1.fq.gz 1SN_3A_1.fq.gz 1SN_4A_1.fq.gz 1SN_5A_1.fq.gz 1SN_6A_1.fq.gz 1SN_7A_1.fq.gz 1SN_8A_1.fq.gz 1SN_9A_1.fq.gz )\n",
    "seq2=( 1HL_10A_2.fq.gz 1HL_11A_2.fq.gz 1HL_12A_2.fq.gz 1HL_13A_2.fq.gz 1HL_14A_2.fq.gz 1HL_15A_2.fq.gz 1HL_16A_2.fq.gz 1HL_17A_2.fq.gz 1HL_19A_2.fq.gz 1HL_1A_2.fq.gz 1HL_20A_2.fq.gz 1HL_21A_2.fq.gz 1HL_22A_2.fq.gz 1HL_23A_2.fq.gz 1HL_24A_2.fq.gz 1HL_25A_2.fq.gz 1HL_26A_2.fq.gz 1HL_27A_2.fq.gz 1HL_28A_2.fq.gz 1HL_29A_2.fq.gz 1HL_2A_2.fq.gz 1HL_31A_2.fq.gz 1HL_33A_2.fq.gz 1HL_34A_2.fq.gz 1HL_35A_2.fq.gz 1HL_3A_2.fq.gz 1HL_4A_2.fq.gz 1HL_5A_2.fq.gz 1HL_6A_2.fq.gz 1HL_7A_2.fq.gz 1HL_8A_2.fq.gz 1HL_9A_2.fq.gz 1NF_10A_2.fq.gz 1NF_11A_2.fq.gz 1NF_12A_2.fq.gz 1NF_13A_2.fq.gz 1NF_14A_2.fq.gz 1NF_15A_2.fq.gz 1NF_16A_2.fq.gz 1NF_17A_2.fq.gz 1NF_18A_2.fq.gz 1NF_19A_2.fq.gz 1NF_1A_2.fq.gz 1NF_20A_2.fq.gz 1NF_21A_2.fq.gz 1NF_22A_2.fq.gz 1NF_23A_2.fq.gz 1NF_24A_2.fq.gz 1NF_25A_2.fq.gz 1NF_26A_2.fq.gz 1NF_27A_2.fq.gz 1NF_28A_2.fq.gz 1NF_29A_2.fq.gz 1NF_2A_2.fq.gz 1NF_30A_2.fq.gz 1NF_31A_2.fq.gz 1NF_32A_2.fq.gz 1NF_33A_2.fq.gz 1NF_4A_2.fq.gz 1NF_5A_2.fq.gz 1NF_6A_2.fq.gz 1NF_7A_2.fq.gz 1NF_8A_2.fq.gz 1NF_9A_2.fq.gz 1SN_10A_2.fq.gz 1SN_11A_2.fq.gz 1SN_12A_2.fq.gz 1SN_13A_2.fq.gz 1SN_14A_2.fq.gz 1SN_15A_2.fq.gz 1SN_16A_2.fq.gz 1SN_17A_2.fq.gz 1SN_18A_2.fq.gz 1SN_19A_2.fq.gz 1SN_1A_2.fq.gz 1SN_20A_2.fq.gz 1SN_21A_2.fq.gz 1SN_22A_2.fq.gz 1SN_23A_2.fq.gz 1SN_24A_2.fq.gz 1SN_25A_2.fq.gz 1SN_26A_2.fq.gz 1SN_27A_2.fq.gz 1SN_28A_2.fq.gz 1SN_29A_2.fq.gz 1SN_2A_2.fq.gz 1SN_30A_2.fq.gz 1SN_31A_2.fq.gz 1SN_32A_2.fq.gz 1SN_3A_2.fq.gz 1SN_4A_2.fq.gz 1SN_5A_2.fq.gz 1SN_6A_2.fq.gz 1SN_7A_2.fq.gz 1SN_8A_2.fq.gz 1SN_9A_2.fq.gz )\n",
    "time for pair in \"${!seq1[@]}\"; do\n",
    "  i=${seq1[$pair]}\n",
    "  j=${seq2[$pair]}\n",
    "  /usr/local/bioinformatics/stacks-1.37/process_radtags \\\n",
    "  -1 $i \\\n",
    "  -2 $j \\\n",
    "  -o /Volumes/toaster/sam/scratch/20160428_Oly_GBS_stacks/ \\\n",
    "  -e apeKI \\\n",
    "  -c \\\n",
    "  -q \\\n",
    "  -i gzfastq \\\n",
    "  >>radtags.stdout 2>>radtags.stderr\n",
    "done"
   ]
  },
  {
   "cell_type": "markdown",
   "metadata": {},
   "source": [
    "### Concatenate `process_radtags` output files into single FASTQ file"
   ]
  },
  {
   "cell_type": "markdown",
   "metadata": {},
   "source": [
    "#### Create four lists - each of the four output files generated per individual for use in subsequent concatenation command."
   ]
  },
  {
   "cell_type": "code",
   "execution_count": null,
   "metadata": {
    "collapsed": true
   },
   "outputs": [],
   "source": []
  },
  {
   "cell_type": "code",
   "execution_count": null,
   "metadata": {
    "collapsed": true
   },
   "outputs": [],
   "source": []
  },
  {
   "cell_type": "code",
   "execution_count": null,
   "metadata": {
    "collapsed": true
   },
   "outputs": [],
   "source": []
  },
  {
   "cell_type": "code",
   "execution_count": null,
   "metadata": {
    "collapsed": true
   },
   "outputs": [],
   "source": []
  },
  {
   "cell_type": "code",
   "execution_count": 25,
   "metadata": {
    "collapsed": false
   },
   "outputs": [
    {
     "name": "stderr",
     "output_type": "stream",
     "text": [
      "\n",
      "real\t22m35.250s\n",
      "user\t0m2.167s\n",
      "sys\t1m28.419s\n"
     ]
    }
   ],
   "source": [
    "%%bash\n",
    "list1=( 1HL_10A_1.1.fq.gz 1HL_11A_1.1.fq.gz 1HL_12A_1.1.fq.gz 1HL_13A_1.1.fq.gz 1HL_14A_1.1.fq.gz 1HL_15A_1.1.fq.gz 1HL_16A_1.1.fq.gz 1HL_17A_1.1.fq.gz 1HL_19A_1.1.fq.gz 1HL_1A_1.1.fq.gz 1HL_20A_1.1.fq.gz 1HL_21A_1.1.fq.gz 1HL_22A_1.1.fq.gz 1HL_23A_1.1.fq.gz 1HL_24A_1.1.fq.gz 1HL_25A_1.1.fq.gz 1HL_26A_1.1.fq.gz 1HL_27A_1.1.fq.gz 1HL_28A_1.1.fq.gz 1HL_29A_1.1.fq.gz 1HL_2A_1.1.fq.gz 1HL_31A_1.1.fq.gz 1HL_33A_1.1.fq.gz 1HL_34A_1.1.fq.gz 1HL_35A_1.1.fq.gz 1HL_3A_1.1.fq.gz 1HL_4A_1.1.fq.gz 1HL_5A_1.1.fq.gz 1HL_6A_1.1.fq.gz 1HL_7A_1.1.fq.gz 1HL_8A_1.1.fq.gz 1HL_9A_1.1.fq.gz 1NF_10A_1.1.fq.gz 1NF_11A_1.1.fq.gz 1NF_12A_1.1.fq.gz 1NF_13A_1.1.fq.gz 1NF_14A_1.1.fq.gz 1NF_15A_1.1.fq.gz 1NF_16A_1.1.fq.gz 1NF_17A_1.1.fq.gz 1NF_18A_1.1.fq.gz 1NF_19A_1.1.fq.gz 1NF_1A_1.1.fq.gz 1NF_20A_1.1.fq.gz 1NF_21A_1.1.fq.gz 1NF_22A_1.1.fq.gz 1NF_23A_1.1.fq.gz 1NF_24A_1.1.fq.gz 1NF_25A_1.1.fq.gz 1NF_26A_1.1.fq.gz 1NF_27A_1.1.fq.gz 1NF_28A_1.1.fq.gz 1NF_29A_1.1.fq.gz 1NF_2A_1.1.fq.gz 1NF_30A_1.1.fq.gz 1NF_31A_1.1.fq.gz 1NF_32A_1.1.fq.gz 1NF_33A_1.1.fq.gz 1NF_4A_1.1.fq.gz 1NF_5A_1.1.fq.gz 1NF_6A_1.1.fq.gz 1NF_7A_1.1.fq.gz 1NF_8A_1.1.fq.gz 1NF_9A_1.1.fq.gz 1SN_10A_1.1.fq.gz 1SN_11A_1.1.fq.gz 1SN_12A_1.1.fq.gz 1SN_13A_1.1.fq.gz 1SN_14A_1.1.fq.gz 1SN_15A_1.1.fq.gz 1SN_16A_1.1.fq.gz 1SN_17A_1.1.fq.gz 1SN_18A_1.1.fq.gz 1SN_19A_1.1.fq.gz 1SN_1A_1.1.fq.gz 1SN_20A_1.1.fq.gz 1SN_21A_1.1.fq.gz 1SN_22A_1.1.fq.gz 1SN_23A_1.1.fq.gz 1SN_24A_1.1.fq.gz 1SN_25A_1.1.fq.gz 1SN_26A_1.1.fq.gz 1SN_27A_1.1.fq.gz 1SN_28A_1.1.fq.gz 1SN_29A_1.1.fq.gz 1SN_2A_1.1.fq.gz 1SN_30A_1.1.fq.gz 1SN_31A_1.1.fq.gz 1SN_32A_1.1.fq.gz 1SN_3A_1.1.fq.gz 1SN_4A_1.1.fq.gz 1SN_5A_1.1.fq.gz 1SN_6A_1.1.fq.gz 1SN_7A_1.1.fq.gz 1SN_8A_1.1.fq.gz 1SN_9A_1.1.fq.gz )\n",
    "list2=( 1HL_10A_1.rem.1.fq.gz 1HL_11A_1.rem.1.fq.gz 1HL_12A_1.rem.1.fq.gz 1HL_13A_1.rem.1.fq.gz 1HL_14A_1.rem.1.fq.gz 1HL_15A_1.rem.1.fq.gz 1HL_16A_1.rem.1.fq.gz 1HL_17A_1.rem.1.fq.gz 1HL_19A_1.rem.1.fq.gz 1HL_1A_1.rem.1.fq.gz 1HL_20A_1.rem.1.fq.gz 1HL_21A_1.rem.1.fq.gz 1HL_22A_1.rem.1.fq.gz 1HL_23A_1.rem.1.fq.gz 1HL_24A_1.rem.1.fq.gz 1HL_25A_1.rem.1.fq.gz 1HL_26A_1.rem.1.fq.gz 1HL_27A_1.rem.1.fq.gz 1HL_28A_1.rem.1.fq.gz 1HL_29A_1.rem.1.fq.gz 1HL_2A_1.rem.1.fq.gz 1HL_31A_1.rem.1.fq.gz 1HL_33A_1.rem.1.fq.gz 1HL_34A_1.rem.1.fq.gz 1HL_35A_1.rem.1.fq.gz 1HL_3A_1.rem.1.fq.gz 1HL_4A_1.rem.1.fq.gz 1HL_5A_1.rem.1.fq.gz 1HL_6A_1.rem.1.fq.gz 1HL_7A_1.rem.1.fq.gz 1HL_8A_1.rem.1.fq.gz 1HL_9A_1.rem.1.fq.gz 1NF_10A_1.rem.1.fq.gz 1NF_11A_1.rem.1.fq.gz 1NF_12A_1.rem.1.fq.gz 1NF_13A_1.rem.1.fq.gz 1NF_14A_1.rem.1.fq.gz 1NF_15A_1.rem.1.fq.gz 1NF_16A_1.rem.1.fq.gz 1NF_17A_1.rem.1.fq.gz 1NF_18A_1.rem.1.fq.gz 1NF_19A_1.rem.1.fq.gz 1NF_1A_1.rem.1.fq.gz 1NF_20A_1.rem.1.fq.gz 1NF_21A_1.rem.1.fq.gz 1NF_22A_1.rem.1.fq.gz 1NF_23A_1.rem.1.fq.gz 1NF_24A_1.rem.1.fq.gz 1NF_25A_1.rem.1.fq.gz 1NF_26A_1.rem.1.fq.gz 1NF_27A_1.rem.1.fq.gz 1NF_28A_1.rem.1.fq.gz 1NF_29A_1.rem.1.fq.gz 1NF_2A_1.rem.1.fq.gz 1NF_30A_1.rem.1.fq.gz 1NF_31A_1.rem.1.fq.gz 1NF_32A_1.rem.1.fq.gz 1NF_33A_1.rem.1.fq.gz 1NF_4A_1.rem.1.fq.gz 1NF_5A_1.rem.1.fq.gz 1NF_6A_1.rem.1.fq.gz 1NF_7A_1.rem.1.fq.gz 1NF_8A_1.rem.1.fq.gz 1NF_9A_1.rem.1.fq.gz 1SN_10A_1.rem.1.fq.gz 1SN_11A_1.rem.1.fq.gz 1SN_12A_1.rem.1.fq.gz 1SN_13A_1.rem.1.fq.gz 1SN_14A_1.rem.1.fq.gz 1SN_15A_1.rem.1.fq.gz 1SN_16A_1.rem.1.fq.gz 1SN_17A_1.rem.1.fq.gz 1SN_18A_1.rem.1.fq.gz 1SN_19A_1.rem.1.fq.gz 1SN_1A_1.rem.1.fq.gz 1SN_20A_1.rem.1.fq.gz 1SN_21A_1.rem.1.fq.gz 1SN_22A_1.rem.1.fq.gz 1SN_23A_1.rem.1.fq.gz 1SN_24A_1.rem.1.fq.gz 1SN_25A_1.rem.1.fq.gz 1SN_26A_1.rem.1.fq.gz 1SN_27A_1.rem.1.fq.gz 1SN_28A_1.rem.1.fq.gz 1SN_29A_1.rem.1.fq.gz 1SN_2A_1.rem.1.fq.gz 1SN_30A_1.rem.1.fq.gz 1SN_31A_1.rem.1.fq.gz 1SN_32A_1.rem.1.fq.gz 1SN_3A_1.rem.1.fq.gz 1SN_4A_1.rem.1.fq.gz 1SN_5A_1.rem.1.fq.gz 1SN_6A_1.rem.1.fq.gz 1SN_7A_1.rem.1.fq.gz 1SN_8A_1.rem.1.fq.gz 1SN_9A_1.rem.1.fq.gz )\n",
    "list3=( 1HL_10A_2.2.fq.gz 1HL_11A_2.2.fq.gz 1HL_12A_2.2.fq.gz 1HL_13A_2.2.fq.gz 1HL_14A_2.2.fq.gz 1HL_15A_2.2.fq.gz 1HL_16A_2.2.fq.gz 1HL_17A_2.2.fq.gz 1HL_19A_2.2.fq.gz 1HL_1A_2.2.fq.gz 1HL_20A_2.2.fq.gz 1HL_21A_2.2.fq.gz 1HL_22A_2.2.fq.gz 1HL_23A_2.2.fq.gz 1HL_24A_2.2.fq.gz 1HL_25A_2.2.fq.gz 1HL_26A_2.2.fq.gz 1HL_27A_2.2.fq.gz 1HL_28A_2.2.fq.gz 1HL_29A_2.2.fq.gz 1HL_2A_2.2.fq.gz 1HL_31A_2.2.fq.gz 1HL_33A_2.2.fq.gz 1HL_34A_2.2.fq.gz 1HL_35A_2.2.fq.gz 1HL_3A_2.2.fq.gz 1HL_4A_2.2.fq.gz 1HL_5A_2.2.fq.gz 1HL_6A_2.2.fq.gz 1HL_7A_2.2.fq.gz 1HL_8A_2.2.fq.gz 1HL_9A_2.2.fq.gz 1NF_10A_2.2.fq.gz 1NF_11A_2.2.fq.gz 1NF_12A_2.2.fq.gz 1NF_13A_2.2.fq.gz 1NF_14A_2.2.fq.gz 1NF_15A_2.2.fq.gz 1NF_16A_2.2.fq.gz 1NF_17A_2.2.fq.gz 1NF_18A_2.2.fq.gz 1NF_19A_2.2.fq.gz 1NF_1A_2.2.fq.gz 1NF_20A_2.2.fq.gz 1NF_21A_2.2.fq.gz 1NF_22A_2.2.fq.gz 1NF_23A_2.2.fq.gz 1NF_24A_2.2.fq.gz 1NF_25A_2.2.fq.gz 1NF_26A_2.2.fq.gz 1NF_27A_2.2.fq.gz 1NF_28A_2.2.fq.gz 1NF_29A_2.2.fq.gz 1NF_2A_2.2.fq.gz 1NF_30A_2.2.fq.gz 1NF_31A_2.2.fq.gz 1NF_32A_2.2.fq.gz 1NF_33A_2.2.fq.gz 1NF_4A_2.2.fq.gz 1NF_5A_2.2.fq.gz 1NF_6A_2.2.fq.gz 1NF_7A_2.2.fq.gz 1NF_8A_2.2.fq.gz 1NF_9A_2.2.fq.gz 1SN_10A_2.2.fq.gz 1SN_11A_2.2.fq.gz 1SN_12A_2.2.fq.gz 1SN_13A_2.2.fq.gz 1SN_14A_2.2.fq.gz 1SN_15A_2.2.fq.gz 1SN_16A_2.2.fq.gz 1SN_17A_2.2.fq.gz 1SN_18A_2.2.fq.gz 1SN_19A_2.2.fq.gz 1SN_1A_2.2.fq.gz 1SN_20A_2.2.fq.gz 1SN_21A_2.2.fq.gz 1SN_22A_2.2.fq.gz 1SN_23A_2.2.fq.gz 1SN_24A_2.2.fq.gz 1SN_25A_2.2.fq.gz 1SN_26A_2.2.fq.gz 1SN_27A_2.2.fq.gz 1SN_28A_2.2.fq.gz 1SN_29A_2.2.fq.gz 1SN_2A_2.2.fq.gz 1SN_30A_2.2.fq.gz 1SN_31A_2.2.fq.gz 1SN_32A_2.2.fq.gz 1SN_3A_2.2.fq.gz 1SN_4A_2.2.fq.gz 1SN_5A_2.2.fq.gz 1SN_6A_2.2.fq.gz 1SN_7A_2.2.fq.gz 1SN_8A_2.2.fq.gz 1SN_9A_2.2.fq.gz )\n",
    "list4=( 1HL_10A_2.rem.2.fq.gz 1HL_11A_2.rem.2.fq.gz 1HL_12A_2.rem.2.fq.gz 1HL_13A_2.rem.2.fq.gz 1HL_14A_2.rem.2.fq.gz 1HL_15A_2.rem.2.fq.gz 1HL_16A_2.rem.2.fq.gz 1HL_17A_2.rem.2.fq.gz 1HL_19A_2.rem.2.fq.gz 1HL_1A_2.rem.2.fq.gz 1HL_20A_2.rem.2.fq.gz 1HL_21A_2.rem.2.fq.gz 1HL_22A_2.rem.2.fq.gz 1HL_23A_2.rem.2.fq.gz 1HL_24A_2.rem.2.fq.gz 1HL_25A_2.rem.2.fq.gz 1HL_26A_2.rem.2.fq.gz 1HL_27A_2.rem.2.fq.gz 1HL_28A_2.rem.2.fq.gz 1HL_29A_2.rem.2.fq.gz 1HL_2A_2.rem.2.fq.gz 1HL_31A_2.rem.2.fq.gz 1HL_33A_2.rem.2.fq.gz 1HL_34A_2.rem.2.fq.gz 1HL_35A_2.rem.2.fq.gz 1HL_3A_2.rem.2.fq.gz 1HL_4A_2.rem.2.fq.gz 1HL_5A_2.rem.2.fq.gz 1HL_6A_2.rem.2.fq.gz 1HL_7A_2.rem.2.fq.gz 1HL_8A_2.rem.2.fq.gz 1HL_9A_2.rem.2.fq.gz 1NF_10A_2.rem.2.fq.gz 1NF_11A_2.rem.2.fq.gz 1NF_12A_2.rem.2.fq.gz 1NF_13A_2.rem.2.fq.gz 1NF_14A_2.rem.2.fq.gz 1NF_15A_2.rem.2.fq.gz 1NF_16A_2.rem.2.fq.gz 1NF_17A_2.rem.2.fq.gz 1NF_18A_2.rem.2.fq.gz 1NF_19A_2.rem.2.fq.gz 1NF_1A_2.rem.2.fq.gz 1NF_20A_2.rem.2.fq.gz 1NF_21A_2.rem.2.fq.gz 1NF_22A_2.rem.2.fq.gz 1NF_23A_2.rem.2.fq.gz 1NF_24A_2.rem.2.fq.gz 1NF_25A_2.rem.2.fq.gz 1NF_26A_2.rem.2.fq.gz 1NF_27A_2.rem.2.fq.gz 1NF_28A_2.rem.2.fq.gz 1NF_29A_2.rem.2.fq.gz 1NF_2A_2.rem.2.fq.gz 1NF_30A_2.rem.2.fq.gz 1NF_31A_2.rem.2.fq.gz 1NF_32A_2.rem.2.fq.gz 1NF_33A_2.rem.2.fq.gz 1NF_4A_2.rem.2.fq.gz 1NF_5A_2.rem.2.fq.gz 1NF_6A_2.rem.2.fq.gz 1NF_7A_2.rem.2.fq.gz 1NF_8A_2.rem.2.fq.gz 1NF_9A_2.rem.2.fq.gz 1SN_10A_2.rem.2.fq.gz 1SN_11A_2.rem.2.fq.gz 1SN_12A_2.rem.2.fq.gz 1SN_13A_2.rem.2.fq.gz 1SN_14A_2.rem.2.fq.gz 1SN_15A_2.rem.2.fq.gz 1SN_16A_2.rem.2.fq.gz 1SN_17A_2.rem.2.fq.gz 1SN_18A_2.rem.2.fq.gz 1SN_19A_2.rem.2.fq.gz 1SN_1A_2.rem.2.fq.gz 1SN_20A_2.rem.2.fq.gz 1SN_21A_2.rem.2.fq.gz 1SN_22A_2.rem.2.fq.gz 1SN_23A_2.rem.2.fq.gz 1SN_24A_2.rem.2.fq.gz 1SN_25A_2.rem.2.fq.gz 1SN_26A_2.rem.2.fq.gz 1SN_27A_2.rem.2.fq.gz 1SN_28A_2.rem.2.fq.gz 1SN_29A_2.rem.2.fq.gz 1SN_2A_2.rem.2.fq.gz 1SN_30A_2.rem.2.fq.gz 1SN_31A_2.rem.2.fq.gz 1SN_32A_2.rem.2.fq.gz 1SN_3A_2.rem.2.fq.gz 1SN_4A_2.rem.2.fq.gz 1SN_5A_2.rem.2.fq.gz 1SN_6A_2.rem.2.fq.gz 1SN_7A_2.rem.2.fq.gz 1SN_8A_2.rem.2.fq.gz 1SN_9A_2.rem.2.fq.gz )\n",
    "\n",
    "time for index in \"${!list1[@]}\"; do\n",
    "  i=${list1[$index]}\n",
    "  j=${list2[$index]}\n",
    "  k=${list3[$index]}\n",
    "  l=${list4[$index]}\n",
    "  cat $i $j $k $l > ${i/_1.1/}\n",
    "  \n",
    "done"
   ]
  },
  {
   "cell_type": "code",
   "execution_count": 26,
   "metadata": {
    "collapsed": false
   },
   "outputs": [
    {
     "name": "stdout",
     "output_type": "stream",
     "text": [
      "1HL_10A.fq.gz 1HL_11A.fq.gz 1HL_12A.fq.gz 1HL_13A.fq.gz 1HL_14A.fq.gz 1HL_15A.fq.gz 1HL_16A.fq.gz 1HL_17A.fq.gz 1HL_19A.fq.gz 1HL_1A.fq.gz 1HL_20A.fq.gz 1HL_21A.fq.gz 1HL_22A.fq.gz 1HL_23A.fq.gz 1HL_24A.fq.gz 1HL_25A.fq.gz 1HL_26A.fq.gz 1HL_27A.fq.gz 1HL_28A.fq.gz 1HL_29A.fq.gz 1HL_2A.fq.gz 1HL_31A.fq.gz 1HL_33A.fq.gz 1HL_34A.fq.gz 1HL_35A.fq.gz 1HL_3A.fq.gz 1HL_4A.fq.gz 1HL_5A.fq.gz 1HL_6A.fq.gz 1HL_7A.fq.gz 1HL_8A.fq.gz 1HL_9A.fq.gz 1NF_10A.fq.gz 1NF_11A.fq.gz 1NF_12A.fq.gz 1NF_13A.fq.gz 1NF_14A.fq.gz 1NF_15A.fq.gz 1NF_16A.fq.gz 1NF_17A.fq.gz 1NF_18A.fq.gz 1NF_19A.fq.gz 1NF_1A.fq.gz 1NF_20A.fq.gz 1NF_21A.fq.gz 1NF_22A.fq.gz 1NF_23A.fq.gz 1NF_24A.fq.gz 1NF_25A.fq.gz 1NF_26A.fq.gz 1NF_27A.fq.gz 1NF_28A.fq.gz 1NF_29A.fq.gz 1NF_2A.fq.gz 1NF_30A.fq.gz 1NF_31A.fq.gz 1NF_32A.fq.gz 1NF_33A.fq.gz 1NF_4A.fq.gz 1NF_5A.fq.gz 1NF_6A.fq.gz 1NF_7A.fq.gz 1NF_8A.fq.gz 1NF_9A.fq.gz 1SN_10A.fq.gz 1SN_11A.fq.gz 1SN_12A.fq.gz 1SN_13A.fq.gz 1SN_14A.fq.gz 1SN_15A.fq.gz 1SN_16A.fq.gz 1SN_17A.fq.gz 1SN_18A.fq.gz 1SN_19A.fq.gz 1SN_1A.fq.gz 1SN_20A.fq.gz 1SN_21A.fq.gz 1SN_22A.fq.gz 1SN_23A.fq.gz 1SN_24A.fq.gz 1SN_25A.fq.gz 1SN_26A.fq.gz 1SN_27A.fq.gz 1SN_28A.fq.gz 1SN_29A.fq.gz 1SN_2A.fq.gz 1SN_30A.fq.gz 1SN_31A.fq.gz 1SN_32A.fq.gz 1SN_3A.fq.gz 1SN_4A.fq.gz 1SN_5A.fq.gz 1SN_6A.fq.gz 1SN_7A.fq.gz 1SN_8A.fq.gz 1SN_9A.fq.gz\n"
     ]
    }
   ],
   "source": [
    "%%bash\n",
    "echo *A.fq.gz"
   ]
  },
  {
   "cell_type": "code",
   "execution_count": null,
   "metadata": {
    "collapsed": true
   },
   "outputs": [],
   "source": [
    "%%bash\n",
    "#Runs ustacks and appends sql ID to each file for downstream analysis.\n",
    "sql_id=0\n",
    "time for i in *A.fq.gz; do\n",
    "  ((sql_id++))\n",
    "  /usr/local/bioinformatics/stacks-1.37/ustacks \\\n",
    "  -t gzfastq \\\n",
    "  -f $i \\\n",
    "  -o /Volumes/toaster/sam/scratch/20160428_Oly_GBS_stacks/stacks/ \\\n",
    "  -i $sql_id \\\n",
    "  -d \\\n",
    "  -r \\\n",
    "  -p 16\n",
    "done"
   ]
  },
  {
   "cell_type": "markdown",
   "metadata": {},
   "source": [
    "#### The command above continually failed with a segmentation fault 11 error. Additionally, the external HDD this operation was reading/writing to became unresponsive on 5/4/2016. Will proceed with whatever data has been completed for this analysis."
   ]
  },
  {
   "cell_type": "markdown",
   "metadata": {
    "collapsed": true
   },
   "source": [
    "### List file names and format for subsequent use in cstacks command"
   ]
  },
  {
   "cell_type": "code",
   "execution_count": 1,
   "metadata": {
    "collapsed": false
   },
   "outputs": [
    {
     "name": "stdout",
     "output_type": "stream",
     "text": [
      "/Volumes/toaster/sam/scratch/20160428_Oly_GBS_stacks/stacks\n"
     ]
    }
   ],
   "source": [
    "cd /Volumes/toaster/sam/scratch/20160428_Oly_GBS_stacks/stacks/"
   ]
  },
  {
   "cell_type": "code",
   "execution_count": 2,
   "metadata": {
    "collapsed": false
   },
   "outputs": [
    {
     "name": "stdout",
     "output_type": "stream",
     "text": [
      " -s 1HL_10A \\\n",
      " -s 1HL_11A \\\n",
      " -s 1HL_12A \\\n",
      " -s 1HL_13A \\\n",
      " -s 1HL_14A \\\n",
      " -s 1HL_15A \\\n",
      " -s 1HL_16A \\\n",
      " -s 1HL_17A \\\n",
      " -s 1HL_19A \\\n",
      " -s 1HL_1A \\\n",
      " -s 1HL_20A \\\n",
      " -s 1HL_21A \\\n",
      " -s 1HL_22A \\\n",
      " -s 1HL_23A \\\n",
      " -s 1HL_24A \\\n",
      " -s 1HL_25A \\\n",
      " -s 1HL_26A \\\n",
      " -s 1HL_27A \\\n",
      " -s 1HL_28A \\\n",
      " -s 1HL_29A \\\n",
      " -s 1HL_2A \\\n",
      " -s 1HL_31A \\\n",
      " -s 1HL_33A \\\n",
      " -s 1HL_34A \\\n",
      " -s 1HL_35A \\\n",
      " -s 1HL_3A \\\n",
      " -s 1HL_4A \\\n",
      " -s 1HL_5A \\\n",
      " -s 1HL_6A \\\n",
      " -s 1HL_7A \\\n",
      " -s 1HL_8A \\\n",
      " -s 1HL_9A \\\n",
      " -s 1NF_10A \\\n",
      " -s 1NF_11A \\\n",
      " -s 1NF_12A \\\n",
      " -s 1NF_13A \\\n",
      " -s 1NF_14A \\\n",
      " -s 1NF_15A \\\n",
      " -s 1NF_16A \\\n",
      " -s 1NF_17A \\\n",
      " -s 1NF_18A \\\n",
      " -s 1NF_19A \\\n",
      " -s 1NF_1A \\\n",
      " -s 1NF_20A \\\n",
      " -s 1NF_21A \\\n",
      " -s 1NF_22A \\\n",
      " -s 1NF_23A \\\n",
      " -s 1NF_24A \\\n",
      " -s 1NF_25A \\\n",
      " -s 1NF_26A \\\n",
      " -s 1NF_27A \\\n",
      " -s 1NF_28A \\\n",
      " -s 1NF_29A \\\n",
      " -s 1NF_2A \\\n",
      " -s 1NF_30A \\\n",
      " -s 1NF_31A \\\n",
      " -s 1NF_32A \\\n",
      " -s 1NF_33A \\\n",
      " -s 1NF_4A \\\n",
      " -s 1NF_5A \\\n",
      " -s 1NF_6A \\\n",
      " -s 1NF_7A \\\n",
      " -s 1NF_8A \\\n",
      " -s 1NF_9A \\\n",
      " -s 1SN_10A \\\n",
      " -s 1SN_11A \\\n",
      " -s 1SN_12A \\\n",
      " -s 1SN_13A \\\n",
      " -s 1SN_14A \\\n",
      " -s 1SN_15A \\\n",
      " -s 1SN_16A \\\n",
      " -s 1SN_17A \\\n",
      " -s 1SN_18A \\\n",
      " -s 1SN_19A \\\n",
      " -s 1SN_1A \\\n",
      " -s 1SN_20A \\\n",
      " -s 1SN_21A \\\n",
      " -s 1SN_22A \\\n",
      " -s 1SN_23A \\\n",
      " -s 1SN_24A \\\n",
      " -s 1SN_25A \\\n",
      " -s 1SN_26A \\\n",
      " -s 1SN_27A \\\n",
      " -s 1SN_28A \\\n",
      " -s 1SN_29A \\\n",
      " -s 1SN_2A \\\n",
      " -s 1SN_30A \\\n",
      " -s 1SN_31A \\\n",
      " -s 1SN_32A \\\n",
      " -s 1SN_3A \\\n"
     ]
    }
   ],
   "source": [
    "%%bash\n",
    "#Uses printf statement to print just the first part of each filename, without the extension, and ads a \"-s\" and a \" \\\"\n",
    "#to each line for use in the subsequent cstacks command.\n",
    "for fname in *; do printf \" %s\\n\" \"-s ${fname%%.*} \\\\\" >> tmp.txt; done\n",
    "cat tmp.txt | uniq\n",
    "rm tmp.txt"
   ]
  },
  {
   "cell_type": "code",
   "execution_count": 3,
   "metadata": {
    "collapsed": false
   },
   "outputs": [
    {
     "name": "stderr",
     "output_type": "stream",
     "text": [
      "Number of mismatches allowed between stacks: 1\n",
      "Loci matched based on sequence identity.\n",
      "Constructing catalog from 90 samples.\n",
      "Initializing new catalog...\n",
      "  Parsing 1HL_10A.tags.tsv.gz\n",
      "  Parsing 1HL_10A.snps.tsv.gz\n",
      "  Parsing 1HL_10A.alleles.tsv.gz\n",
      "Processing sample 1HL_10A [2 of 90]\n",
      "  Parsing 1HL_11A.tags.tsv.gz\n",
      "  Parsing 1HL_11A.snps.tsv.gz\n",
      "  Parsing 1HL_11A.alleles.tsv.gz\n",
      "Searching for sequence matches...\n",
      "  Distance allowed between stacks: 1\n",
      "  Using a k-mer length of 49\n",
      "  Number of kmers per sequence: 52\n",
      "  Minimum number of k-mers to define a match: 3\n",
      "  206709 loci in the catalog, 9475033 kmers in the catalog hash.\n",
      "Merging matches into catalog...\n",
      "  19048 loci matched more than one catalog locus and were excluded.\n",
      "Processing sample 1HL_11A [3 of 90]\n",
      "  Parsing 1HL_12A.tags.tsv.gz\n",
      "  Parsing 1HL_12A.snps.tsv.gz\n",
      "  Parsing 1HL_12A.alleles.tsv.gz\n",
      "Searching for sequence matches...\n",
      "  Distance allowed between stacks: 1\n",
      "  Using a k-mer length of 49\n",
      "  Number of kmers per sequence: 52\n",
      "  Minimum number of k-mers to define a match: 3\n",
      "  304949 loci in the catalog, 14156292 kmers in the catalog hash.\n",
      "Merging matches into catalog...\n",
      "  16397 loci matched more than one catalog locus and were excluded.\n",
      "Processing sample 1HL_12A [4 of 90]\n",
      "  Parsing 1HL_13A.tags.tsv.gz\n",
      "  Parsing 1HL_13A.snps.tsv.gz\n",
      "Error parsing 1HL_13A.snps.tsv.gz at line: 36196. SNP asks for nonexistent locus with ID: 116506\n",
      "Failed to load sample 4\n",
      "Processing sample 1HL_13A [4 of 90]\n",
      "  Parsing 1HL_14A.tags.tsv.gz\n",
      "  Parsing 1HL_14A.snps.tsv.gz\n",
      "Error parsing 1HL_14A.snps.tsv.gz at line: 31291. SNP asks for nonexistent locus with ID: 116883\n",
      "Failed to load sample 4\n",
      "Processing sample 1HL_14A [4 of 90]\n",
      "  Parsing 1HL_15A.tags.tsv.gz\n",
      "  Parsing 1HL_15A.snps.tsv.gz\n",
      "  Parsing 1HL_15A.alleles.tsv.gz\n",
      "Searching for sequence matches...\n",
      "  Distance allowed between stacks: 1\n",
      "  Using a k-mer length of 49\n",
      "  Number of kmers per sequence: 52\n",
      "  Minimum number of k-mers to define a match: 3\n",
      "  368906 loci in the catalog, 17317529 kmers in the catalog hash.\n",
      "Merging matches into catalog...\n",
      "  17807 loci matched more than one catalog locus and were excluded.\n",
      "Processing sample 1HL_15A [5 of 90]\n",
      "  Parsing 1HL_16A.tags.tsv.gz\n",
      "  Parsing 1HL_16A.snps.tsv.gz\n",
      "  Parsing 1HL_16A.alleles.tsv.gz\n",
      "Searching for sequence matches...\n",
      "bash: line 93: 83337 Segmentation fault: 11  /usr/local/bioinformatics/stacks-1.37/cstacks -b 1 -o . -p 16 -s 1HL_10A -s 1HL_11A -s 1HL_12A -s 1HL_13A -s 1HL_14A -s 1HL_15A -s 1HL_16A -s 1HL_17A -s 1HL_19A -s 1HL_1A -s 1HL_20A -s 1HL_21A -s 1HL_22A -s 1HL_23A -s 1HL_24A -s 1HL_25A -s 1HL_26A -s 1HL_27A -s 1HL_28A -s 1HL_29A -s 1HL_2A -s 1HL_31A -s 1HL_33A -s 1HL_34A -s 1HL_35A -s 1HL_3A -s 1HL_4A -s 1HL_5A -s 1HL_6A -s 1HL_7A -s 1HL_8A -s 1HL_9A -s 1NF_10A -s 1NF_11A -s 1NF_12A -s 1NF_13A -s 1NF_14A -s 1NF_15A -s 1NF_16A -s 1NF_17A -s 1NF_18A -s 1NF_19A -s 1NF_1A -s 1NF_20A -s 1NF_21A -s 1NF_22A -s 1NF_23A -s 1NF_24A -s 1NF_25A -s 1NF_26A -s 1NF_27A -s 1NF_28A -s 1NF_29A -s 1NF_2A -s 1NF_30A -s 1NF_31A -s 1NF_32A -s 1NF_33A -s 1NF_4A -s 1NF_5A -s 1NF_6A -s 1NF_7A -s 1NF_8A -s 1NF_9A -s 1SN_10A -s 1SN_11A -s 1SN_12A -s 1SN_13A -s 1SN_14A -s 1SN_15A -s 1SN_16A -s 1SN_17A -s 1SN_18A -s 1SN_19A -s 1SN_1A -s 1SN_20A -s 1SN_21A -s 1SN_22A -s 1SN_23A -s 1SN_24A -s 1SN_25A -s 1SN_26A -s 1SN_27A -s 1SN_28A -s 1SN_29A -s 1SN_2A -s 1SN_30A -s 1SN_31A -s 1SN_32A -s 1SN_3A\n",
      "\n",
      "real\t5m56.645s\n",
      "user\t5m44.765s\n",
      "sys\t0m10.503s\n"
     ]
    }
   ],
   "source": [
    "%%bash\n",
    "#cstacks command.\n",
    "time /usr/local/bioinformatics/stacks-1.37/cstacks -b 1 -o . \\\n",
    "-p 16 \\\n",
    " -s 1HL_10A \\\n",
    " -s 1HL_11A \\\n",
    " -s 1HL_12A \\\n",
    " -s 1HL_13A \\\n",
    " -s 1HL_14A \\\n",
    " -s 1HL_15A \\\n",
    " -s 1HL_16A \\\n",
    " -s 1HL_17A \\\n",
    " -s 1HL_19A \\\n",
    " -s 1HL_1A \\\n",
    " -s 1HL_20A \\\n",
    " -s 1HL_21A \\\n",
    " -s 1HL_22A \\\n",
    " -s 1HL_23A \\\n",
    " -s 1HL_24A \\\n",
    " -s 1HL_25A \\\n",
    " -s 1HL_26A \\\n",
    " -s 1HL_27A \\\n",
    " -s 1HL_28A \\\n",
    " -s 1HL_29A \\\n",
    " -s 1HL_2A \\\n",
    " -s 1HL_31A \\\n",
    " -s 1HL_33A \\\n",
    " -s 1HL_34A \\\n",
    " -s 1HL_35A \\\n",
    " -s 1HL_3A \\\n",
    " -s 1HL_4A \\\n",
    " -s 1HL_5A \\\n",
    " -s 1HL_6A \\\n",
    " -s 1HL_7A \\\n",
    " -s 1HL_8A \\\n",
    " -s 1HL_9A \\\n",
    " -s 1NF_10A \\\n",
    " -s 1NF_11A \\\n",
    " -s 1NF_12A \\\n",
    " -s 1NF_13A \\\n",
    " -s 1NF_14A \\\n",
    " -s 1NF_15A \\\n",
    " -s 1NF_16A \\\n",
    " -s 1NF_17A \\\n",
    " -s 1NF_18A \\\n",
    " -s 1NF_19A \\\n",
    " -s 1NF_1A \\\n",
    " -s 1NF_20A \\\n",
    " -s 1NF_21A \\\n",
    " -s 1NF_22A \\\n",
    " -s 1NF_23A \\\n",
    " -s 1NF_24A \\\n",
    " -s 1NF_25A \\\n",
    " -s 1NF_26A \\\n",
    " -s 1NF_27A \\\n",
    " -s 1NF_28A \\\n",
    " -s 1NF_29A \\\n",
    " -s 1NF_2A \\\n",
    " -s 1NF_30A \\\n",
    " -s 1NF_31A \\\n",
    " -s 1NF_32A \\\n",
    " -s 1NF_33A \\\n",
    " -s 1NF_4A \\\n",
    " -s 1NF_5A \\\n",
    " -s 1NF_6A \\\n",
    " -s 1NF_7A \\\n",
    " -s 1NF_8A \\\n",
    " -s 1NF_9A \\\n",
    " -s 1SN_10A \\\n",
    " -s 1SN_11A \\\n",
    " -s 1SN_12A \\\n",
    " -s 1SN_13A \\\n",
    " -s 1SN_14A \\\n",
    " -s 1SN_15A \\\n",
    " -s 1SN_16A \\\n",
    " -s 1SN_17A \\\n",
    " -s 1SN_18A \\\n",
    " -s 1SN_19A \\\n",
    " -s 1SN_1A \\\n",
    " -s 1SN_20A \\\n",
    " -s 1SN_21A \\\n",
    " -s 1SN_22A \\\n",
    " -s 1SN_23A \\\n",
    " -s 1SN_24A \\\n",
    " -s 1SN_25A \\\n",
    " -s 1SN_26A \\\n",
    " -s 1SN_27A \\\n",
    " -s 1SN_28A \\\n",
    " -s 1SN_29A \\\n",
    " -s 1SN_2A \\\n",
    " -s 1SN_30A \\\n",
    " -s 1SN_31A \\\n",
    " -s 1SN_32A \\\n",
    " -s 1SN_3A"
   ]
  },
  {
   "cell_type": "code",
   "execution_count": null,
   "metadata": {
    "collapsed": true
   },
   "outputs": [],
   "source": []
  }
 ],
 "metadata": {
  "kernelspec": {
   "display_name": "Python 2",
   "language": "python",
   "name": "python2"
  },
  "language_info": {
   "codemirror_mode": {
    "name": "ipython",
    "version": 2
   },
   "file_extension": ".py",
   "mimetype": "text/x-python",
   "name": "python",
   "nbconvert_exporter": "python",
   "pygments_lexer": "ipython2",
   "version": "2.7.9"
  }
 },
 "nbformat": 4,
 "nbformat_minor": 0
}
