{
 "cells": [
  {
   "cell_type": "code",
   "execution_count": 1,
   "metadata": {
    "collapsed": false
   },
   "outputs": [
    {
     "name": "stdout",
     "output_type": "stream",
     "text": [
      "Mon May  2 15:09:35 PDT 2016\n"
     ]
    }
   ],
   "source": [
    "%%bash\n",
    "date"
   ]
  },
  {
   "cell_type": "code",
   "execution_count": 2,
   "metadata": {
    "collapsed": false
   },
   "outputs": [
    {
     "name": "stdout",
     "output_type": "stream",
     "text": [
      "Software:\n",
      "\n",
      "    System Software Overview:\n",
      "\n",
      "      System Version: OS X 10.9.5 (13F34)\n",
      "      Kernel Version: Darwin 13.4.0\n",
      "      Boot Volume: Hummingbird\n",
      "      Boot Mode: Normal\n",
      "      Computer Name: hummingbird\n",
      "      User Name: Sam (Sam)\n",
      "      Secure Virtual Memory: Enabled\n",
      "      Time since boot: 14 days 5:14\n",
      "\n"
     ]
    }
   ],
   "source": [
    "%%bash\n",
    "system_profiler SPSoftwareDataType"
   ]
  },
  {
   "cell_type": "code",
   "execution_count": 3,
   "metadata": {
    "collapsed": false
   },
   "outputs": [
    {
     "name": "stdout",
     "output_type": "stream",
     "text": [
      "\n",
      "\n",
      "      Model Name: Xserve\n",
      "      Model Identifier: Xserve3,1\n",
      "      Processor Name: Quad-Core Intel Xeon\n",
      "      Processor Speed: 2.26 GHz\n",
      "      Number of Processors: 2\n",
      "      Total Number of Cores: 8\n",
      "      L2 Cache (per Core): 256 KB\n",
      "      L3 Cache (per Processor): 8 MB\n",
      "      Memory: 24 GB\n",
      "      Processor Interconnect Speed: 5.86 GT/s\n",
      "      Boot ROM Version: XS31.0081.B06\n",
      "      SMC Version (system): 1.43f4\n",
      "      LOM Revision: 1.1.8\n",
      "\n"
     ]
    }
   ],
   "source": [
    "%%bash\n",
    "#Uses grep to exclude lines that display serial number and hardware UUID\n",
    "system_profiler SPHardwareDataType | grep -v [SH][ea]"
   ]
  },
  {
   "cell_type": "code",
   "execution_count": 2,
   "metadata": {
    "collapsed": false
   },
   "outputs": [
    {
     "name": "stdout",
     "output_type": "stream",
     "text": [
      "/Volumes/toaster/sam/scratch\n"
     ]
    }
   ],
   "source": [
    "cd /Volumes/toaster/sam/scratch/"
   ]
  },
  {
   "cell_type": "code",
   "execution_count": 5,
   "metadata": {
    "collapsed": false
   },
   "outputs": [
    {
     "name": "stdout",
     "output_type": "stream",
     "text": [
      "160123_I132_FCH3YHMBBXX_L4_OYSzenG1AAD96FAAPEI-109_1.fq  \u001b[34m20160428_Oly_GBS_stacks\u001b[m\u001b[m/\r\n",
      "160123_I132_FCH3YHMBBXX_L4_OYSzenG1AAD96FAAPEI-109_2.fq\r\n"
     ]
    }
   ],
   "source": [
    "ls"
   ]
  },
  {
   "cell_type": "code",
   "execution_count": 6,
   "metadata": {
    "collapsed": false
   },
   "outputs": [
    {
     "name": "stdout",
     "output_type": "stream",
     "text": [
      "@K00132:90:H3YHMBBXX:4:1101:1316:1173 1:N:0:NAGGATGC\n",
      "CCCCCCCCCCCCCCCCCCCCCCCCCCCCCCCCCCCCCCCCCCCCCCCCCCCCCCCCCCCCCCCCCCCCCCCCCCCCCCCCCCCCCCCCCCCCCCCCCCCC\n",
      "+\n",
      "AAAFFJJFJJJFJJJJJJJJJJJJJJJJJJJJJJJJJJJJJJJJJJJJJJJJJJJJJJJJJJJJJJJJJJJJJJJJJJJJJJJJJJJJAJFJJJJJJJJJ\n"
     ]
    }
   ],
   "source": [
    "%%bash\n",
    "head -4 160123_I132_FCH3YHMBBXX_L4_OYSzenG1AAD96FAAPEI-109_1.fq"
   ]
  },
  {
   "cell_type": "markdown",
   "metadata": {},
   "source": []
  },
  {
   "cell_type": "code",
   "execution_count": 7,
   "metadata": {
    "collapsed": false
   },
   "outputs": [
    {
     "name": "stdout",
     "output_type": "stream",
     "text": [
      "NCTCC CTCC\n",
      "NTGCA TGCA\n",
      "NACTA ACTA\n",
      "NCAGA CAGA\n",
      "NAACT AACT\n"
     ]
    }
   ],
   "source": [
    "%%bash\n",
    "head -5 OlyGBS_BarcodeMap.txt"
   ]
  },
  {
   "cell_type": "code",
   "execution_count": 4,
   "metadata": {
    "collapsed": false
   },
   "outputs": [
    {
     "name": "stderr",
     "output_type": "stream",
     "text": [
      "sed: 1: \"160123_I132_FCH3YHMBBXX ...\": invalid command code _\n",
      "sed: 1: \"160123_I132_FCH3YHMBBXX ...\": invalid command code _\n",
      "sed: 1: \"160123_I132_FCH3YHMBBXX ...\": invalid command code _\n",
      "sed: 1: \"160123_I132_FCH3YHMBBXX ...\": invalid command code _\n",
      "sed: 1: \"160123_I132_FCH3YHMBBXX ...\": invalid command code _\n",
      "sed: 1: \"160123_I132_FCH3YHMBBXX ...\": invalid command code _\n",
      "sed: 1: \"160123_I132_FCH3YHMBBXX ...\": invalid command code _\n",
      "sed: 1: \"160123_I132_FCH3YHMBBXX ...\": invalid command code _\n",
      "sed: 1: \"160123_I132_FCH3YHMBBXX ...\": invalid command code _\n",
      "sed: 1: \"160123_I132_FCH3YHMBBXX ...\": invalid command code _\n",
      "sed: 1: \"160123_I132_FCH3YHMBBXX ...\": invalid command code _\n",
      "sed: 1: \"160123_I132_FCH3YHMBBXX ...\": invalid command code _\n",
      "sed: 1: \"160123_I132_FCH3YHMBBXX ...\": invalid command code _\n",
      "sed: 1: \"160123_I132_FCH3YHMBBXX ...\": invalid command code _\n",
      "sed: 1: \"160123_I132_FCH3YHMBBXX ...\": invalid command code _\n",
      "sed: 1: \"160123_I132_FCH3YHMBBXX ...\": invalid command code _\n",
      "sed: 1: \"160123_I132_FCH3YHMBBXX ...\": invalid command code _\n",
      "sed: 1: \"160123_I132_FCH3YHMBBXX ...\": invalid command code _\n",
      "sed: 1: \"160123_I132_FCH3YHMBBXX ...\": invalid command code _\n",
      "sed: 1: \"160123_I132_FCH3YHMBBXX ...\": invalid command code _\n",
      "sed: 1: \"160123_I132_FCH3YHMBBXX ...\": invalid command code _\n",
      "sed: 1: \"160123_I132_FCH3YHMBBXX ...\": invalid command code _\n",
      "sed: 1: \"160123_I132_FCH3YHMBBXX ...\": invalid command code _\n",
      "sed: 1: \"160123_I132_FCH3YHMBBXX ...\": invalid command code _\n",
      "sed: 1: \"160123_I132_FCH3YHMBBXX ...\": invalid command code _\n",
      "sed: 1: \"160123_I132_FCH3YHMBBXX ...\": invalid command code _\n",
      "sed: 1: \"160123_I132_FCH3YHMBBXX ...\": invalid command code _\n",
      "sed: 1: \"160123_I132_FCH3YHMBBXX ...\": invalid command code _\n",
      "sed: 1: \"160123_I132_FCH3YHMBBXX ...\": invalid command code _\n",
      "sed: 1: \"160123_I132_FCH3YHMBBXX ...\": invalid command code _\n",
      "sed: 1: \"160123_I132_FCH3YHMBBXX ...\": invalid command code _\n",
      "sed: 1: \"160123_I132_FCH3YHMBBXX ...\": invalid command code _\n",
      "sed: 1: \"160123_I132_FCH3YHMBBXX ...\": invalid command code _\n",
      "sed: 1: \"160123_I132_FCH3YHMBBXX ...\": invalid command code _\n",
      "sed: 1: \"160123_I132_FCH3YHMBBXX ...\": invalid command code _\n",
      "sed: 1: \"160123_I132_FCH3YHMBBXX ...\": invalid command code _\n",
      "sed: 1: \"160123_I132_FCH3YHMBBXX ...\": invalid command code _\n",
      "sed: 1: \"160123_I132_FCH3YHMBBXX ...\": invalid command code _\n",
      "sed: 1: \"160123_I132_FCH3YHMBBXX ...\": invalid command code _\n",
      "sed: 1: \"160123_I132_FCH3YHMBBXX ...\": invalid command code _\n",
      "sed: 1: \"160123_I132_FCH3YHMBBXX ...\": invalid command code _\n",
      "sed: 1: \"160123_I132_FCH3YHMBBXX ...\": invalid command code _\n",
      "sed: 1: \"160123_I132_FCH3YHMBBXX ...\": invalid command code _\n",
      "sed: 1: \"160123_I132_FCH3YHMBBXX ...\": invalid command code _\n",
      "sed: 1: \"160123_I132_FCH3YHMBBXX ...\": invalid command code _\n",
      "sed: 1: \"160123_I132_FCH3YHMBBXX ...\": invalid command code _\n",
      "sed: 1: \"160123_I132_FCH3YHMBBXX ...\": invalid command code _\n",
      "sed: 1: \"160123_I132_FCH3YHMBBXX ...\": invalid command code _\n",
      "sed: 1: \"160123_I132_FCH3YHMBBXX ...\": invalid command code _\n",
      "sed: 1: \"160123_I132_FCH3YHMBBXX ...\": invalid command code _\n",
      "sed: 1: \"160123_I132_FCH3YHMBBXX ...\": invalid command code _\n",
      "sed: 1: \"160123_I132_FCH3YHMBBXX ...\": invalid command code _\n",
      "sed: 1: \"160123_I132_FCH3YHMBBXX ...\": invalid command code _\n",
      "sed: 1: \"160123_I132_FCH3YHMBBXX ...\": invalid command code _\n",
      "sed: 1: \"160123_I132_FCH3YHMBBXX ...\": invalid command code _\n",
      "sed: 1: \"160123_I132_FCH3YHMBBXX ...\": invalid command code _\n",
      "sed: 1: \"160123_I132_FCH3YHMBBXX ...\": invalid command code _\n",
      "sed: 1: \"160123_I132_FCH3YHMBBXX ...\": invalid command code _\n",
      "sed: 1: \"160123_I132_FCH3YHMBBXX ...\": invalid command code _\n",
      "sed: 1: \"160123_I132_FCH3YHMBBXX ...\": invalid command code _\n",
      "sed: 1: \"160123_I132_FCH3YHMBBXX ...\": invalid command code _\n",
      "sed: 1: \"160123_I132_FCH3YHMBBXX ...\": invalid command code _\n",
      "sed: 1: \"160123_I132_FCH3YHMBBXX ...\": invalid command code _\n",
      "sed: 1: \"160123_I132_FCH3YHMBBXX ...\": invalid command code _\n",
      "sed: 1: \"160123_I132_FCH3YHMBBXX ...\": invalid command code _\n",
      "sed: 1: \"160123_I132_FCH3YHMBBXX ...\": invalid command code _\n",
      "sed: 1: \"160123_I132_FCH3YHMBBXX ...\": invalid command code _\n",
      "sed: 1: \"160123_I132_FCH3YHMBBXX ...\": invalid command code _\n",
      "sed: 1: \"160123_I132_FCH3YHMBBXX ...\": invalid command code _\n",
      "sed: 1: \"160123_I132_FCH3YHMBBXX ...\": invalid command code _\n",
      "sed: 1: \"160123_I132_FCH3YHMBBXX ...\": invalid command code _\n",
      "sed: 1: \"160123_I132_FCH3YHMBBXX ...\": invalid command code _\n",
      "sed: 1: \"160123_I132_FCH3YHMBBXX ...\": invalid command code _\n",
      "sed: 1: \"160123_I132_FCH3YHMBBXX ...\": invalid command code _\n",
      "sed: 1: \"160123_I132_FCH3YHMBBXX ...\": invalid command code _\n",
      "sed: 1: \"160123_I132_FCH3YHMBBXX ...\": invalid command code _\n",
      "sed: 1: \"160123_I132_FCH3YHMBBXX ...\": invalid command code _\n",
      "sed: 1: \"160123_I132_FCH3YHMBBXX ...\": invalid command code _\n",
      "sed: 1: \"160123_I132_FCH3YHMBBXX ...\": invalid command code _\n",
      "sed: 1: \"160123_I132_FCH3YHMBBXX ...\": invalid command code _\n",
      "sed: 1: \"160123_I132_FCH3YHMBBXX ...\": invalid command code _\n",
      "sed: 1: \"160123_I132_FCH3YHMBBXX ...\": invalid command code _\n",
      "sed: 1: \"160123_I132_FCH3YHMBBXX ...\": invalid command code _\n",
      "sed: 1: \"160123_I132_FCH3YHMBBXX ...\": invalid command code _\n",
      "sed: 1: \"160123_I132_FCH3YHMBBXX ...\": invalid command code _\n",
      "sed: 1: \"160123_I132_FCH3YHMBBXX ...\": invalid command code _\n",
      "sed: 1: \"160123_I132_FCH3YHMBBXX ...\": invalid command code _\n",
      "sed: 1: \"160123_I132_FCH3YHMBBXX ...\": invalid command code _\n",
      "sed: 1: \"160123_I132_FCH3YHMBBXX ...\": invalid command code _\n",
      "sed: 1: \"160123_I132_FCH3YHMBBXX ...\": invalid command code _\n",
      "sed: 1: \"160123_I132_FCH3YHMBBXX ...\": invalid command code _\n",
      "sed: 1: \"160123_I132_FCH3YHMBBXX ...\": invalid command code _\n",
      "sed: 1: \"160123_I132_FCH3YHMBBXX ...\": invalid command code _\n",
      "sed: 1: \"160123_I132_FCH3YHMBBXX ...\": invalid command code _\n",
      "sed: 1: \"160123_I132_FCH3YHMBBXX ...\": invalid command code _\n",
      "sed: 1: \"160123_I132_FCH3YHMBBXX ...\": invalid command code _\n",
      "\n",
      "real\t0m0.234s\n",
      "user\t0m0.098s\n",
      "sys\t0m0.135s\n"
     ]
    }
   ],
   "source": [
    "%%bash\n",
    "time while read line; do neww=${line##* }; oldw=${line%% *}; sed -i '/@/s/$oldw/$neww/g' 160123_I132_FCH3YHMBBXX_L4_OYSzenG1AAD96FAAPEI-109_1.fq; done < OlyGBS_BarcodeMap.txt"
   ]
  },
  {
   "cell_type": "code",
   "execution_count": null,
   "metadata": {
    "collapsed": true
   },
   "outputs": [],
   "source": []
  }
 ],
 "metadata": {
  "kernelspec": {
   "display_name": "Python 2",
   "language": "python",
   "name": "python2"
  },
  "language_info": {
   "codemirror_mode": {
    "name": "ipython",
    "version": 2
   },
   "file_extension": ".py",
   "mimetype": "text/x-python",
   "name": "python",
   "nbconvert_exporter": "python",
   "pygments_lexer": "ipython2",
   "version": "2.7.9"
  }
 },
 "nbformat": 4,
 "nbformat_minor": 0
}
