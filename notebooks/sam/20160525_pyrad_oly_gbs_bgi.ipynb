{
 "cells": [
  {
   "cell_type": "code",
   "execution_count": 1,
   "metadata": {
    "collapsed": false
   },
   "outputs": [
    {
     "name": "stdout",
     "output_type": "stream",
     "text": [
      "Wed May 25 12:35:03 PDT 2016\n"
     ]
    }
   ],
   "source": [
    "%%bash\n",
    "date"
   ]
  },
  {
   "cell_type": "code",
   "execution_count": 2,
   "metadata": {
    "collapsed": false
   },
   "outputs": [
    {
     "name": "stdout",
     "output_type": "stream",
     "text": [
      "Software:\n",
      "\n",
      "    System Software Overview:\n",
      "\n",
      "      System Version: OS X 10.8.5 (12F45)\n",
      "      Kernel Version: Darwin 12.6.0\n",
      "      Boot Volume: Macintosh HD\n",
      "      Boot Mode: Normal\n",
      "      Computer Name: genefish\n",
      "      User Name: Sam (Sam)\n",
      "      Secure Virtual Memory: Enabled\n",
      "      Time since boot: 105 days 2:33\n",
      "\n"
     ]
    }
   ],
   "source": [
    "%%bash\n",
    "system_profiler SPSoftwareDataType"
   ]
  },
  {
   "cell_type": "code",
   "execution_count": 3,
   "metadata": {
    "collapsed": false
   },
   "outputs": [
    {
     "name": "stdout",
     "output_type": "stream",
     "text": [
      "\n",
      "\n",
      "      Model Name: Mac mini\n",
      "      Model Identifier: Macmini6,2\n",
      "      Processor Name: Intel Core i7\n",
      "      Processor Speed: 2.3 GHz\n",
      "      Number of Processors: 1\n",
      "      Total Number of Cores: 4\n",
      "      L2 Cache (per Core): 256 KB\n",
      "      L3 Cache: 6 MB\n",
      "      Memory: 16 GB\n",
      "      Boot ROM Version: MM61.0106.B03\n",
      "      SMC Version (system): 2.8f0\n",
      "\n"
     ]
    }
   ],
   "source": [
    "%%bash\n",
    "#Uses grep to exclude lines that display serial number and hardware UUID\n",
    "system_profiler SPHardwareDataType | grep -v [SH][ea]"
   ]
  },
  {
   "cell_type": "code",
   "execution_count": 4,
   "metadata": {
    "collapsed": false
   },
   "outputs": [
    {
     "name": "stderr",
     "output_type": "stream",
     "text": [
      "\n",
      "real\t14m59.735s\n",
      "user\t0m0.061s\n",
      "sys\t1m2.362s\n"
     ]
    }
   ],
   "source": [
    "%%bash\n",
    "time cp /Volumes/web/nightingales/O_lurida/20160223_gbs/160123_I132_FCH3YHMBBXX_L4_OYSzenG1AAD96FAAPEI-109_*.gz /Users/Sam/oly_gbs_bgi/"
   ]
  },
  {
   "cell_type": "code",
   "execution_count": 5,
   "metadata": {
    "collapsed": false
   },
   "outputs": [
    {
     "data": {
      "text/plain": [
       "u'/Users/Sam/gitrepos/LabDocs/jupyter_nbs/sam'"
      ]
     },
     "execution_count": 5,
     "metadata": {},
     "output_type": "execute_result"
    }
   ],
   "source": [
    "pwd"
   ]
  },
  {
   "cell_type": "code",
   "execution_count": 1,
   "metadata": {
    "collapsed": false
   },
   "outputs": [
    {
     "name": "stdout",
     "output_type": "stream",
     "text": [
      "/Users/Sam\n"
     ]
    }
   ],
   "source": [
    "cd"
   ]
  },
  {
   "cell_type": "code",
   "execution_count": 2,
   "metadata": {
    "collapsed": false
   },
   "outputs": [
    {
     "name": "stdout",
     "output_type": "stream",
     "text": [
      "/Users/Sam/oly_gbs_bgi\n"
     ]
    }
   ],
   "source": [
    "cd oly_gbs_bgi/"
   ]
  },
  {
   "cell_type": "code",
   "execution_count": 8,
   "metadata": {
    "collapsed": false
   },
   "outputs": [
    {
     "name": "stdout",
     "output_type": "stream",
     "text": [
      "160123_I132_FCH3YHMBBXX_L4_OYSzenG1AAD96FAAPEI-109_1.fq.gz\r\n",
      "160123_I132_FCH3YHMBBXX_L4_OYSzenG1AAD96FAAPEI-109_2.fq.gz\r\n",
      "\u001b[34m20160525_pyrad\u001b[m\u001b[m/\r\n",
      "params.txt\r\n"
     ]
    }
   ],
   "source": [
    "ls"
   ]
  },
  {
   "cell_type": "markdown",
   "metadata": {},
   "source": [
    "### Rename FASTQ files to match R1 and R2 requirements for pyrad demultiplexing"
   ]
  },
  {
   "cell_type": "code",
   "execution_count": 9,
   "metadata": {
    "collapsed": true
   },
   "outputs": [],
   "source": [
    "mv 160123_I132_FCH3YHMBBXX_L4_OYSzenG1AAD96FAAPEI-109_1.fq.gz 160123_I132_FCH3YHMBBXX_L4_OYSzenG1AAD96FAAPEI-109_R1.fq.gz"
   ]
  },
  {
   "cell_type": "code",
   "execution_count": 10,
   "metadata": {
    "collapsed": true
   },
   "outputs": [],
   "source": [
    "mv 160123_I132_FCH3YHMBBXX_L4_OYSzenG1AAD96FAAPEI-109_2.fq.gz 160123_I132_FCH3YHMBBXX_L4_OYSzenG1AAD96FAAPEI-109_R2.fq.gz"
   ]
  },
  {
   "cell_type": "code",
   "execution_count": 11,
   "metadata": {
    "collapsed": false
   },
   "outputs": [
    {
     "name": "stdout",
     "output_type": "stream",
     "text": [
      "160123_I132_FCH3YHMBBXX_L4_OYSzenG1AAD96FAAPEI-109_R1.fq.gz\r\n",
      "160123_I132_FCH3YHMBBXX_L4_OYSzenG1AAD96FAAPEI-109_R2.fq.gz\r\n",
      "\u001b[34m20160525_pyrad\u001b[m\u001b[m/\r\n",
      "params.txt\r\n"
     ]
    }
   ],
   "source": [
    "ls"
   ]
  },
  {
   "cell_type": "code",
   "execution_count": 12,
   "metadata": {
    "collapsed": true
   },
   "outputs": [],
   "source": [
    "mv params.txt 20160525_pyrad/params.txt"
   ]
  },
  {
   "cell_type": "code",
   "execution_count": 3,
   "metadata": {
    "collapsed": false
   },
   "outputs": [
    {
     "name": "stdout",
     "output_type": "stream",
     "text": [
      "/Users/Sam/oly_gbs_bgi/20160525_pyrad\n"
     ]
    }
   ],
   "source": [
    "cd 20160525_pyrad/"
   ]
  },
  {
   "cell_type": "code",
   "execution_count": 14,
   "metadata": {
    "collapsed": false
   },
   "outputs": [
    {
     "name": "stdout",
     "output_type": "stream",
     "text": [
      "\u001b[34manalysis_pyrad\u001b[m\u001b[m/ params.txt\r\n"
     ]
    }
   ],
   "source": [
    "ls"
   ]
  },
  {
   "cell_type": "code",
   "execution_count": 15,
   "metadata": {
    "collapsed": false
   },
   "outputs": [
    {
     "name": "stdout",
     "output_type": "stream",
     "text": [
      "==** parameter inputs for pyRAD version 3.0.66  **======================== affected step ==\n",
      "./                     ## 1. Working directory                                 (all)\n",
      "/Users/Sam/oly_gbs_bgi/*.fq.gz             \t       ## 2. Loc. of non-demultiplexed files (if not line 18)  (s1)\n",
      "/Volumes/web/Athaliana/oly_gbs.barcodes\t               ## 3. Loc. of barcode file (if not line 18)             (s1)\n",
      "/usr/local/bin/vsearch-1.11.1/bin/vsearch                ## 4. command (or path) to call vsearch (or usearch)    (s3,s6)\n",
      "/usr/local/bin/muscle3.8.31_i86darwin64                    ## 5. command (or path) to call muscle                  (s3,s7)\n",
      "CWGC                   ## 6. Restriction overhang (e.g., C|TGCAG -> TGCAG)     (s1,s2)\n",
      "16                     ## 7. N processors (parallel)                           (all)\n",
      "6                      ## 8. Mindepth: min coverage for a cluster              (s4,s5)\n",
      "4                      ## 9. NQual: max # sites with qual < 20 (or see line 20)(s2)\n",
      ".88                    ## 10. Wclust: clustering threshold as a decimal        (s3,s6)\n",
      "merged                 ## 11. Datatype: rad,gbs,pairgbs,pairddrad,(others:see docs)(all)\n",
      "4                      ## 12. MinCov: min samples in a final locus             (s7)\n",
      "3                      ## 13. MaxSH: max inds with shared hetero site          (s7)\n",
      "oly_gbs_pyrad          ## 14. Prefix name for final output (no spaces)         (s7)\n",
      "==== optional params below this line ===================================  affected step ==\n",
      "                       ## 15.opt.: select subset (prefix* only selector)            (s2-s7)\n",
      "                       ## 16.opt.: add-on (outgroup) taxa (list or prefix*)         (s6,s7)\n",
      "                       ## 17.opt.: exclude taxa (list or prefix*)                   (s7)\n",
      "                       ## 18.opt.: loc. of de-multiplexed data                      (s2)\n",
      "                       ## 19.opt.: maxM: N mismatches in barcodes (def= 1)          (s1)\n",
      "                       ## 20.opt.: phred Qscore offset (def= 33)                    (s2)\n",
      "2                      ## 21.opt.: filter: def=0=NQual 1=NQual+adapters. 2=strict   (s2)\n",
      "                       ## 22.opt.: a priori E,H (def= 0.001,0.01, if not estimated) (s5)\n",
      "4                      ## 23.opt.: maxN: max Ns in a cons seq (def=5)               (s5)\n",
      "8                      ## 24.opt.: maxH: max heterozyg. sites in cons seq (def=5)   (s5)\n",
      "                       ## 25.opt.: ploidy: max alleles in cons seq (def=2;see docs) (s4,s5)\n",
      "                       ## 26.opt.: maxSNPs: (def=100). Paired (def=100,100)         (s7)\n",
      "                       ## 27.opt.: maxIndels: within-clust,across-clust (def. 3,99) (s3,s7)\n",
      "                       ## 28.opt.: random number seed (def. 112233)              (s3,s6,s7)\n",
      "                       ## 29.opt.: trim overhang left,right on final loci, def(0,0) (s7)\n",
      "*                      ## 30.opt.: output formats: p,n,a,s,v,u,t,m,k,g,* (see docs) (s7)\n",
      "                       ## 31.opt.: maj. base call at depth>x<mindepth (def.x=mindepth) (s5)\n",
      "50                     ## 32.opt.: keep trimmed reads (def=0). Enter min length.    (s2)\n",
      "                       ## 33.opt.: max stack size (int), def= max(500,mean+2*SD)    (s3)\n",
      "                       ## 34.opt.: minDerep: exclude dereps with <= N copies, def=1 (s3)\n",
      "                       ## 35.opt.: use hierarchical clustering (def.=0, 1=yes)      (s6)\n",
      "                       ## 36.opt.: repeat masking (def.=1='dust' method, 0=no)      (s3,s6)\n",
      "16                     ## 37.opt.: vsearch max threads per job (def.=6; see docs)   (s3,s6)\n",
      "==== optional: list group/clade assignments below this line (see docs) ==================\n",
      "1HL\t5\t1HL*\n",
      "1NF\t5\t1NF*\n",
      "1SN\t5\t1SN*\n"
     ]
    }
   ],
   "source": [
    "%%bash\n",
    "cat params.txt"
   ]
  },
  {
   "cell_type": "markdown",
   "metadata": {},
   "source": [
    "### Edited line 11 (Datatype) to reflect paired-end GBS data"
   ]
  },
  {
   "cell_type": "code",
   "execution_count": 16,
   "metadata": {
    "collapsed": false
   },
   "outputs": [
    {
     "name": "stdout",
     "output_type": "stream",
     "text": [
      "==** parameter inputs for pyRAD version 3.0.66  **======================== affected step ==\n",
      "./                     ## 1. Working directory                                 (all)\n",
      "/Users/Sam/oly_gbs_bgi/*.fq.gz             \t       ## 2. Loc. of non-demultiplexed files (if not line 18)  (s1)\n",
      "/Volumes/web/Athaliana/oly_gbs.barcodes\t               ## 3. Loc. of barcode file (if not line 18)             (s1)\n",
      "/usr/local/bin/vsearch-1.11.1/bin/vsearch                ## 4. command (or path) to call vsearch (or usearch)    (s3,s6)\n",
      "/usr/local/bin/muscle3.8.31_i86darwin64                    ## 5. command (or path) to call muscle                  (s3,s7)\n",
      "CWGC                   ## 6. Restriction overhang (e.g., C|TGCAG -> TGCAG)     (s1,s2)\n",
      "16                     ## 7. N processors (parallel)                           (all)\n",
      "6                      ## 8. Mindepth: min coverage for a cluster              (s4,s5)\n",
      "4                      ## 9. NQual: max # sites with qual < 20 (or see line 20)(s2)\n",
      ".88                    ## 10. Wclust: clustering threshold as a decimal        (s3,s6)\n",
      "pairgbs                 ## 11. Datatype: rad,gbs,pairgbs,pairddrad,(others:see docs)(all)\n",
      "4                      ## 12. MinCov: min samples in a final locus             (s7)\n",
      "3                      ## 13. MaxSH: max inds with shared hetero site          (s7)\n",
      "oly_gbs_pyrad          ## 14. Prefix name for final output (no spaces)         (s7)\n",
      "==== optional params below this line ===================================  affected step ==\n",
      "                       ## 15.opt.: select subset (prefix* only selector)            (s2-s7)\n",
      "                       ## 16.opt.: add-on (outgroup) taxa (list or prefix*)         (s6,s7)\n",
      "                       ## 17.opt.: exclude taxa (list or prefix*)                   (s7)\n",
      "                       ## 18.opt.: loc. of de-multiplexed data                      (s2)\n",
      "                       ## 19.opt.: maxM: N mismatches in barcodes (def= 1)          (s1)\n",
      "                       ## 20.opt.: phred Qscore offset (def= 33)                    (s2)\n",
      "2                      ## 21.opt.: filter: def=0=NQual 1=NQual+adapters. 2=strict   (s2)\n",
      "                       ## 22.opt.: a priori E,H (def= 0.001,0.01, if not estimated) (s5)\n",
      "4                      ## 23.opt.: maxN: max Ns in a cons seq (def=5)               (s5)\n",
      "8                      ## 24.opt.: maxH: max heterozyg. sites in cons seq (def=5)   (s5)\n",
      "                       ## 25.opt.: ploidy: max alleles in cons seq (def=2;see docs) (s4,s5)\n",
      "                       ## 26.opt.: maxSNPs: (def=100). Paired (def=100,100)         (s7)\n",
      "                       ## 27.opt.: maxIndels: within-clust,across-clust (def. 3,99) (s3,s7)\n",
      "                       ## 28.opt.: random number seed (def. 112233)              (s3,s6,s7)\n",
      "                       ## 29.opt.: trim overhang left,right on final loci, def(0,0) (s7)\n",
      "*                      ## 30.opt.: output formats: p,n,a,s,v,u,t,m,k,g,* (see docs) (s7)\n",
      "                       ## 31.opt.: maj. base call at depth>x<mindepth (def.x=mindepth) (s5)\n",
      "50                     ## 32.opt.: keep trimmed reads (def=0). Enter min length.    (s2)\n",
      "                       ## 33.opt.: max stack size (int), def= max(500,mean+2*SD)    (s3)\n",
      "                       ## 34.opt.: minDerep: exclude dereps with <= N copies, def=1 (s3)\n",
      "                       ## 35.opt.: use hierarchical clustering (def.=0, 1=yes)      (s6)\n",
      "                       ## 36.opt.: repeat masking (def.=1='dust' method, 0=no)      (s3,s6)\n",
      "16                     ## 37.opt.: vsearch max threads per job (def.=6; see docs)   (s3,s6)\n",
      "==== optional: list group/clade assignments below this line (see docs) ==================\n",
      "1HL\t5\t1HL*\n",
      "1NF\t5\t1NF*\n",
      "1SN\t5\t1SN*\n"
     ]
    }
   ],
   "source": [
    "%%bash\n",
    "cat params.txt"
   ]
  },
  {
   "cell_type": "markdown",
   "metadata": {},
   "source": [
    "### Step 1: De-multiplex reads"
   ]
  },
  {
   "cell_type": "code",
   "execution_count": 17,
   "metadata": {
    "collapsed": false
   },
   "outputs": [
    {
     "name": "stdout",
     "output_type": "stream",
     "text": [
      "\n",
      "\tFirst read files names must contain '_R1_'.\n"
     ]
    },
    {
     "name": "stderr",
     "output_type": "stream",
     "text": [
      "\n",
      "\n",
      "     ------------------------------------------------------------\n",
      "      pyRAD : RADseq for phylogenetics & introgression analyses\n",
      "     ------------------------------------------------------------\n",
      "\n",
      "\n",
      "\tstep 1: sorting reads by barcode\n",
      "\t \n",
      "real\t0m6.897s\n",
      "user\t0m0.462s\n",
      "sys\t0m0.335s\n"
     ]
    }
   ],
   "source": [
    "%%bash\n",
    "time pyrad -p params.txt -s 1"
   ]
  },
  {
   "cell_type": "markdown",
   "metadata": {},
   "source": [
    "#### Rename fastq files again, based on error message above"
   ]
  },
  {
   "cell_type": "code",
   "execution_count": 18,
   "metadata": {
    "collapsed": true
   },
   "outputs": [],
   "source": [
    "%%bash\n",
    "mv /Users/Sam/oly_gbs_bgi/160123_I132_FCH3YHMBBXX_L4_OYSzenG1AAD96FAAPEI-109_R1.fq.gz \\\n",
    "/Users/Sam/oly_gbs_bgi/160123_I132_FCH3YHMBBXX_L4_OYSzenG1AAD96FAAPEI-109_R1_.fq.gz"
   ]
  },
  {
   "cell_type": "code",
   "execution_count": 19,
   "metadata": {
    "collapsed": true
   },
   "outputs": [],
   "source": [
    "%%bash\n",
    "mv /Users/Sam/oly_gbs_bgi/160123_I132_FCH3YHMBBXX_L4_OYSzenG1AAD96FAAPEI-109_R2.fq.gz \\\n",
    "/Users/Sam/oly_gbs_bgi/160123_I132_FCH3YHMBBXX_L4_OYSzenG1AAD96FAAPEI-109_R2_.fq.gz"
   ]
  },
  {
   "cell_type": "code",
   "execution_count": 20,
   "metadata": {
    "collapsed": false
   },
   "outputs": [
    {
     "name": "stdout",
     "output_type": "stream",
     "text": [
      "160123_I132_FCH3YHMBBXX_L4_OYSzenG1AAD96FAAPEI-109_R1_.fq.gz\r\n",
      "160123_I132_FCH3YHMBBXX_L4_OYSzenG1AAD96FAAPEI-109_R2_.fq.gz\r\n",
      "\u001b[34m20160525_pyrad\u001b[m\u001b[m/\r\n"
     ]
    }
   ],
   "source": [
    "ls ../"
   ]
  },
  {
   "cell_type": "code",
   "execution_count": 5,
   "metadata": {
    "collapsed": false
   },
   "outputs": [
    {
     "name": "stdout",
     "output_type": "stream",
     "text": [
      "Process is terminated.\n"
     ]
    }
   ],
   "source": [
    "%%bash\n",
    "time pyrad -p params.txt -s 1"
   ]
  },
  {
   "cell_type": "code",
   "execution_count": null,
   "metadata": {
    "collapsed": true
   },
   "outputs": [],
   "source": []
  }
 ],
 "metadata": {
  "kernelspec": {
   "display_name": "Python 2",
   "language": "python",
   "name": "python2"
  },
  "language_info": {
   "codemirror_mode": {
    "name": "ipython",
    "version": 2
   },
   "file_extension": ".py",
   "mimetype": "text/x-python",
   "name": "python",
   "nbconvert_exporter": "python",
   "pygments_lexer": "ipython2",
   "version": "2.7.11"
  }
 },
 "nbformat": 4,
 "nbformat_minor": 0
}
