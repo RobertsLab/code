{
 "cells": [
  {
   "cell_type": "markdown",
   "metadata": {},
   "source": [
    "### Running in Docker container on Ostrich\n",
    "\n",
    "#### Started Docker container with the following command:\n",
    "\n",
    "```docker run - p 8888:8888 -v /Users/sam/data/:/data -v /Users/sam/owl_home/:/owl_home -v /Users/sam/owl_web/:owl_web -v /Users/sam/gitrepos/LabDocs/jupyter_nbs/sam/:/jupyter_nbs -it 0ba43904567e```\n",
    "\n",
    "The command allows access to Jupyter Notebook over port 8888 and makes my Jupyter Notebook GitHub repo and my data files on Owl/home and Owl/web accessible to the Docker container.\n",
    "\n",
    "Once the container was started, started Jupyter Notebook with the following command inside the Docker container:\n",
    "\n",
    "```jupyter notebook```\n",
    "\n",
    "This is configured in the Docker container to launch a Jupyter Notebook without a browser on port 8888.\n",
    "\n",
    "The Docker container is running on an image created from this [Dockerfile (Git commit 65ab831)](https://github.com/sr320/LabDocs/blob/65ab8317556e01c8b3ae3ca260119b1eb163ed44/code/dockerfiles/Dockerfile.bio)"
   ]
  },
  {
   "cell_type": "code",
   "execution_count": 1,
   "metadata": {
    "collapsed": false
   },
   "outputs": [
    {
     "name": "stdout",
     "output_type": "stream",
     "text": [
      "Thu Nov 17 22:30:49 UTC 2016\n"
     ]
    }
   ],
   "source": [
    "%%bash\n",
    "date"
   ]
  },
  {
   "cell_type": "markdown",
   "metadata": {},
   "source": [
    "### Check computer specs"
   ]
  },
  {
   "cell_type": "code",
   "execution_count": 2,
   "metadata": {
    "collapsed": false
   },
   "outputs": [
    {
     "name": "stdout",
     "output_type": "stream",
     "text": [
      "65e23f54bcc9\n"
     ]
    }
   ],
   "source": [
    "%%bash\n",
    "hostname"
   ]
  },
  {
   "cell_type": "code",
   "execution_count": 3,
   "metadata": {
    "collapsed": false
   },
   "outputs": [
    {
     "name": "stdout",
     "output_type": "stream",
     "text": [
      "Architecture:          x86_64\n",
      "CPU op-mode(s):        32-bit, 64-bit\n",
      "Byte Order:            Little Endian\n",
      "CPU(s):                8\n",
      "On-line CPU(s) list:   0-7\n",
      "Thread(s) per core:    1\n",
      "Core(s) per socket:    8\n",
      "Socket(s):             1\n",
      "Vendor ID:             GenuineIntel\n",
      "CPU family:            6\n",
      "Model:                 26\n",
      "Model name:            Intel(R) Xeon(R) CPU           E5520  @ 2.27GHz\n",
      "Stepping:              5\n",
      "CPU MHz:               2260.998\n",
      "BogoMIPS:              4521.99\n",
      "Hypervisor vendor:     KVM\n",
      "Virtualization type:   full\n",
      "L1d cache:             32K\n",
      "L1i cache:             32K\n",
      "L2 cache:              256K\n",
      "L3 cache:              8192K\n"
     ]
    }
   ],
   "source": [
    "%%bash\n",
    "lscpu"
   ]
  },
  {
   "cell_type": "markdown",
   "metadata": {},
   "source": [
    "### View PyRad output files"
   ]
  },
  {
   "cell_type": "code",
   "execution_count": 4,
   "metadata": {
    "collapsed": false
   },
   "outputs": [
    {
     "name": "stdout",
     "output_type": "stream",
     "text": [
      "total 1908968\n",
      "-rw-rw-rw- 1 srlab staff 260547113 Aug 16 15:46 oly_gbs_pyrad.alleles\n",
      "-rw-rw-rw- 1 srlab staff 239419515 Aug 16 15:46 oly_gbs_pyrad.excluded_loci\n",
      "-rw-rw-rw- 1 srlab staff 126920538 Aug 16 15:46 oly_gbs_pyrad.gphocs\n",
      "-rw-rw-rw- 1 srlab staff 133378169 Aug 16 15:46 oly_gbs_pyrad.loci\n",
      "-rw-rw-rw- 1 srlab staff     86991 Aug 16 15:47 oly_gbs_pyrad.migrate\n",
      "-rw-rw-rw- 1 srlab staff 571222263 Aug 16 15:47 oly_gbs_pyrad.nex\n",
      "-rw-rw-rw- 1 srlab staff 463115051 Aug 16 15:47 oly_gbs_pyrad.phy\n",
      "-rw-rw-rw- 1 srlab staff   1266466 Aug 16 15:46 oly_gbs_pyrad.phy.partitions\n",
      "-rw-rw-rw- 1 srlab staff  26795940 Aug 16 15:46 oly_gbs_pyrad.snps\n",
      "-rw-rw-rw- 1 srlab staff  11519817 Aug 16 15:46 oly_gbs_pyrad.snps.geno\n",
      "-rwxrwxrwx 1 srlab staff  13474538 Aug 16 22:20 oly_gbs_pyrad.str\n",
      "-rw-rw-rw- 1 srlab staff     30531 Aug 16 15:46 oly_gbs_pyrad.treemix.gz\n",
      "-rw-rw-rw- 1 srlab staff   2417961 Aug 16 15:46 oly_gbs_pyrad.unlinked_snps\n",
      "-rw-rw-rw- 1 srlab staff   2441102 Aug 16 15:46 oly_gbs_pyrad.usnps.geno\n",
      "-rw-rw-rw- 1 srlab staff  50527186 Aug 16 15:46 oly_gbs_pyrad.vcf\n",
      "-rw-rw-rw- 1 srlab staff         0 Aug 16 15:51 oly_gbs_pyrad.vcf.fai\n",
      "-rw-rw-rw- 1 srlab staff  50527182 Aug 16 16:01 oly_gbs_pyrad_no_spaces.vcf\n",
      "-rw-rw-rw- 1 srlab staff   1056041 Aug 16 16:24 oly_gbs_pyrad_no_spaces.vcf.idx\n"
     ]
    }
   ],
   "source": [
    "%%bash\n",
    "ls -l /root/owl_web/Athaliana/20160715_pyrad_outfiles"
   ]
  },
  {
   "cell_type": "markdown",
   "metadata": {},
   "source": [
    "### Make working directory & move PyRad VCF file to working directory"
   ]
  },
  {
   "cell_type": "code",
   "execution_count": 5,
   "metadata": {
    "collapsed": true
   },
   "outputs": [],
   "source": [
    "%%bash\n",
    "mkdir /root/data/20161117_oly_gbs_vcf_analysis"
   ]
  },
  {
   "cell_type": "code",
   "execution_count": 6,
   "metadata": {
    "collapsed": false
   },
   "outputs": [
    {
     "name": "stdout",
     "output_type": "stream",
     "text": [
      "'/root/owl_web/Athaliana/20160715_pyrad_outfiles/oly_gbs_pyrad.vcf' -> '/root/data/20161117_oly_gbs_vcf_analysis/oly_gbs_pyrad.vcf'\n"
     ]
    },
    {
     "name": "stderr",
     "output_type": "stream",
     "text": [
      "\n",
      "real\t0m2.747s\n",
      "user\t0m0.000s\n",
      "sys\t0m0.410s\n"
     ]
    }
   ],
   "source": [
    "%%bash\n",
    "time cp -avr /root/owl_web/Athaliana/20160715_pyrad_outfiles/oly_gbs_pyrad.vcf /root/data/20161117_oly_gbs_vcf_analysis/"
   ]
  },
  {
   "cell_type": "markdown",
   "metadata": {},
   "source": [
    "### View the VCF header info"
   ]
  },
  {
   "cell_type": "code",
   "execution_count": 7,
   "metadata": {
    "collapsed": false
   },
   "outputs": [
    {
     "name": "stdout",
     "output_type": "stream",
     "text": [
      "##fileformat=VCFv4.1\n",
      "##fileDate=20160725\n",
      "##source=pyRAD.v.3.0.66\n",
      "##reference=common_allele_at_each_locus\n",
      "##INFO=<ID=NS,Number=1,Type=Integer,Description=\"Number of Samples With Data\">\n",
      "##INFO=<ID=DP,Number=1,Type=Integer,Description=\"Total Depth\">\n",
      "##INFO=<ID=AF,Number=A,Type=Float,Description=\"Allele Frequency\">\n",
      "##INFO=<ID=AA,Number=1,Type=String,Description=\"Ancestral Allele\">\n",
      "##FORMAT=<ID=GT,Number=1,Type=String,Description=\"Genotype\">\n",
      "##FORMAT=<ID=GQ,Number=1,Type=Integer,Description=\"Genotype Quality\">\n",
      "##FORMAT=<ID=DP,Number=1,Type=Integer,Description=\"Read Depth\">\n",
      "#CHROM\tPOS\tID\tREF\tALT\tQUAL\tFILTER\tINFO    \tFORMAT\t1HL_10A.assembled\t1HL_11A.assembled\t1HL_12A.assembled\t1HL_13A.assembled\t1HL_14A.assembled\t1HL_15A.assembled\t1HL_16A.assembled\t1HL_17A.assembled\t1HL_19A.assembled\t1HL_1A.assembled\t1HL_20A.assembled\t1HL_21A.assembled\t1HL_22A.assembled\t1HL_23A.assembled\t1HL_24A.assembled\t1HL_25A.assembled\t1HL_26A.assembled\t1HL_27A.assembled\t1HL_28A.assembled\t1HL_29A.assembled\t1HL_2A.assembled\t1HL_31A.assembled\t1HL_33A.assembled\t1HL_34A.assembled\t1HL_35A.assembled\t1HL_3A.assembled\t1HL_4A.assembled\t1HL_5A.assembled\t1HL_6A.assembled\t1HL_7A.assembled\t1HL_8A.assembled\t1HL_9A.assembled\t1NF_10A.assembled\t1NF_11A.assembled\t1NF_12A.assembled\t1NF_13A.assembled\t1NF_14A.assembled\t1NF_15A.assembled\t1NF_16A.assembled\t1NF_17A.assembled\t1NF_18A.assembled\t1NF_19A.assembled\t1NF_1A.assembled\t1NF_20A.assembled\t1NF_21A.assembled\t1NF_22A.assembled\t1NF_23A.assembled\t1NF_24A.assembled\t1NF_25A.assembled\t1NF_26A.assembled\t1NF_27A.assembled\t1NF_28A.assembled\t1NF_29A.assembled\t1NF_2A.assembled\t1NF_30A.assembled\t1NF_31A.assembled\t1NF_32A.assembled\t1NF_33A.assembled\t1NF_4A.assembled\t1NF_5A.assembled\t1NF_6A.assembled\t1NF_7A.assembled\t1NF_8A.assembled\t1NF_9A.assembled\t1SN_10A.assembled\t1SN_11A.assembled\t1SN_12A.assembled\t1SN_13A.assembled\t1SN_14A.assembled\t1SN_15A.assembled\t1SN_16A.assembled\t1SN_17A.assembled\t1SN_18A.assembled\t1SN_19A.assembled\t1SN_1A.assembled\t1SN_20A.assembled\t1SN_21A.assembled\t1SN_22A.assembled\t1SN_23A.assembled\t1SN_24A.assembled\t1SN_25A.assembled\t1SN_26A.assembled\t1SN_27A.assembled\t1SN_28A.assembled\t1SN_29A.assembled\t1SN_2A.assembled\t1SN_30A.assembled\t1SN_31A.assembled\t1SN_32A.assembled\t1SN_3A.assembled\t1SN_4A.assembled\t1SN_5A.assembled\t1SN_6A.assembled\t1SN_7A.assembled\t1SN_8A.assembled\t1SN_9A.assembled\n"
     ]
    }
   ],
   "source": [
    "%%bash\n",
    "head -12 /root/data/20161117_oly_gbs_vcf_analysis/oly_gbs_pyrad.vcf"
   ]
  },
  {
   "cell_type": "markdown",
   "metadata": {},
   "source": [
    "### View the header again and perform line count\n",
    "\n",
    "#### This is done to show that the last line of the header (with all of the sample names) is truly a single line"
   ]
  },
  {
   "cell_type": "code",
   "execution_count": 8,
   "metadata": {
    "collapsed": false
   },
   "outputs": [
    {
     "name": "stdout",
     "output_type": "stream",
     "text": [
      "12\n"
     ]
    }
   ],
   "source": [
    "%%bash\n",
    "head -12 /root/data/20161117_oly_gbs_vcf_analysis/oly_gbs_pyrad.vcf | wc -l"
   ]
  },
  {
   "cell_type": "markdown",
   "metadata": {},
   "source": [
    "### Create population list files - necessary for subsequent vcftools commands\n",
    "\n",
    "#### vcftools requires separate population files that list the sample IDs for each individual within each population.  The command below uses a for loop to do the following:\n",
    "\n",
    "#### ```$(awk 'NR == 12 {print $0}'``` - This uses ```awk``` to process only the 12th line (```NR == 12```) of the file and prints all the fields (```{print $0}```) on that line.\n",
    "\n",
    "#### ```if [[ \"$i\" =~ 1HL.* ]] then echo \"$i\" >> /root/data/20161117_oly_gbs_vcf_analysis/1HL.pop``` - A set of if/elif statements that evaluate each field from the awk command and determines if they match a pattern (```[[ \"$i\" =~ 1HL.* ]]```. If they match that pattern, the value currently stored in ```$i``` is written to the appropriate population file."
   ]
  },
  {
   "cell_type": "code",
   "execution_count": 24,
   "metadata": {
    "collapsed": false
   },
   "outputs": [
    {
     "name": "stderr",
     "output_type": "stream",
     "text": [
      "\n",
      "real\t0m2.496s\n",
      "user\t0m0.050s\n",
      "sys\t0m0.900s\n"
     ]
    }
   ],
   "source": [
    "%%bash\n",
    "time for i in $(awk 'NR == 12 {print $0}' /root/data/20161117_oly_gbs_vcf_analysis/oly_gbs_pyrad.vcf)\n",
    "do\n",
    "    if [[ \"$i\" =~ 1HL.* ]]\n",
    "        then echo \"$i\" >> /root/data/20161117_oly_gbs_vcf_analysis/1HL.pop\n",
    "        elif [[ \"$i\" =~ 1NF.* ]]\n",
    "            then echo \"$i\" >> /root/data/20161117_oly_gbs_vcf_analysis/1NF.pop\n",
    "        elif [[ \"$i\" =~ 1SN.* ]]\n",
    "            then echo \"$i\" >> /root/data/20161117_oly_gbs_vcf_analysis/1SN.pop\n",
    "    fi\n",
    "done"
   ]
  },
  {
   "cell_type": "markdown",
   "metadata": {},
   "source": [
    "### Verify population files contents"
   ]
  },
  {
   "cell_type": "code",
   "execution_count": 25,
   "metadata": {
    "collapsed": false
   },
   "outputs": [
    {
     "name": "stdout",
     "output_type": "stream",
     "text": [
      "1HL_10A.assembled\n",
      "1HL_11A.assembled\n",
      "1HL_12A.assembled\n",
      "1HL_13A.assembled\n",
      "1HL_14A.assembled\n",
      "1HL_15A.assembled\n",
      "1HL_16A.assembled\n",
      "1HL_17A.assembled\n",
      "1HL_19A.assembled\n",
      "1HL_1A.assembled\n",
      "1HL_20A.assembled\n",
      "1HL_21A.assembled\n",
      "1HL_22A.assembled\n",
      "1HL_23A.assembled\n",
      "1HL_24A.assembled\n",
      "1HL_25A.assembled\n",
      "1HL_26A.assembled\n",
      "1HL_27A.assembled\n",
      "1HL_28A.assembled\n",
      "1HL_29A.assembled\n",
      "1HL_2A.assembled\n",
      "1HL_31A.assembled\n",
      "1HL_33A.assembled\n",
      "1HL_34A.assembled\n",
      "1HL_35A.assembled\n",
      "1HL_3A.assembled\n",
      "1HL_4A.assembled\n",
      "1HL_5A.assembled\n",
      "1HL_6A.assembled\n",
      "1HL_7A.assembled\n",
      "1HL_8A.assembled\n",
      "1HL_9A.assembled\n"
     ]
    }
   ],
   "source": [
    "%%bash\n",
    "cat /root/data/20161117_oly_gbs_vcf_analysis/1HL.pop"
   ]
  },
  {
   "cell_type": "code",
   "execution_count": 26,
   "metadata": {
    "collapsed": false
   },
   "outputs": [
    {
     "name": "stdout",
     "output_type": "stream",
     "text": [
      "1NF_10A.assembled\n",
      "1NF_11A.assembled\n",
      "1NF_12A.assembled\n",
      "1NF_13A.assembled\n",
      "1NF_14A.assembled\n",
      "1NF_15A.assembled\n",
      "1NF_16A.assembled\n",
      "1NF_17A.assembled\n",
      "1NF_18A.assembled\n",
      "1NF_19A.assembled\n",
      "1NF_1A.assembled\n",
      "1NF_20A.assembled\n",
      "1NF_21A.assembled\n",
      "1NF_22A.assembled\n",
      "1NF_23A.assembled\n",
      "1NF_24A.assembled\n",
      "1NF_25A.assembled\n",
      "1NF_26A.assembled\n",
      "1NF_27A.assembled\n",
      "1NF_28A.assembled\n",
      "1NF_29A.assembled\n",
      "1NF_2A.assembled\n",
      "1NF_30A.assembled\n",
      "1NF_31A.assembled\n",
      "1NF_32A.assembled\n",
      "1NF_33A.assembled\n",
      "1NF_4A.assembled\n",
      "1NF_5A.assembled\n",
      "1NF_6A.assembled\n",
      "1NF_7A.assembled\n",
      "1NF_8A.assembled\n",
      "1NF_9A.assembled\n"
     ]
    }
   ],
   "source": [
    "%%bash\n",
    "cat /root/data/20161117_oly_gbs_vcf_analysis/1NF.pop"
   ]
  },
  {
   "cell_type": "code",
   "execution_count": 27,
   "metadata": {
    "collapsed": false
   },
   "outputs": [
    {
     "name": "stdout",
     "output_type": "stream",
     "text": [
      "1SN_10A.assembled\n",
      "1SN_11A.assembled\n",
      "1SN_12A.assembled\n",
      "1SN_13A.assembled\n",
      "1SN_14A.assembled\n",
      "1SN_15A.assembled\n",
      "1SN_16A.assembled\n",
      "1SN_17A.assembled\n",
      "1SN_18A.assembled\n",
      "1SN_19A.assembled\n",
      "1SN_1A.assembled\n",
      "1SN_20A.assembled\n",
      "1SN_21A.assembled\n",
      "1SN_22A.assembled\n",
      "1SN_23A.assembled\n",
      "1SN_24A.assembled\n",
      "1SN_25A.assembled\n",
      "1SN_26A.assembled\n",
      "1SN_27A.assembled\n",
      "1SN_28A.assembled\n",
      "1SN_29A.assembled\n",
      "1SN_2A.assembled\n",
      "1SN_30A.assembled\n",
      "1SN_31A.assembled\n",
      "1SN_32A.assembled\n",
      "1SN_3A.assembled\n",
      "1SN_4A.assembled\n",
      "1SN_5A.assembled\n",
      "1SN_6A.assembled\n",
      "1SN_7A.assembled\n",
      "1SN_8A.assembled\n",
      "1SN_9A.assembled\n"
     ]
    }
   ],
   "source": [
    "%%bash\n",
    "cat /root/data/20161117_oly_gbs_vcf_analysis/1SN.pop"
   ]
  },
  {
   "cell_type": "markdown",
   "metadata": {},
   "source": [
    "### Verify each population file has expected number of individuals (32)"
   ]
  },
  {
   "cell_type": "code",
   "execution_count": 29,
   "metadata": {
    "collapsed": false
   },
   "outputs": [
    {
     "name": "stdout",
     "output_type": "stream",
     "text": [
      "32 /root/data/20161117_oly_gbs_vcf_analysis/1HL.pop\n",
      "32 /root/data/20161117_oly_gbs_vcf_analysis/1NF.pop\n",
      "32 /root/data/20161117_oly_gbs_vcf_analysis/1SN.pop\n"
     ]
    }
   ],
   "source": [
    "%%bash\n",
    "for i in /root/data/20161117_oly_gbs_vcf_analysis/*.pop\n",
    "do\n",
    "    wc -l \"$i\"\n",
    "done"
   ]
  },
  {
   "cell_type": "markdown",
   "metadata": {},
   "source": [
    "### Verify instllation of vcftools"
   ]
  },
  {
   "cell_type": "code",
   "execution_count": 30,
   "metadata": {
    "collapsed": false
   },
   "outputs": [
    {
     "name": "stdout",
     "output_type": "stream",
     "text": [
      "/usr/local/bin/vcftools\n"
     ]
    }
   ],
   "source": [
    "%%bash\n",
    "which vcftools"
   ]
  },
  {
   "cell_type": "markdown",
   "metadata": {},
   "source": [
    "### Determine Fst values between all population combinations"
   ]
  },
  {
   "cell_type": "markdown",
   "metadata": {},
   "source": [
    "#### 1HL vs. 1NF"
   ]
  },
  {
   "cell_type": "code",
   "execution_count": 31,
   "metadata": {
    "collapsed": false
   },
   "outputs": [
    {
     "name": "stderr",
     "output_type": "stream",
     "text": [
      "\n",
      "VCFtools - 0.1.14\n",
      "(C) Adam Auton and Anthony Marcketta 2009\n",
      "\n",
      "Parameters as interpreted:\n",
      "\t--vcf /root/data/20161117_oly_gbs_vcf_analysis/oly_gbs_pyrad.vcf\n",
      "\t--weir-fst-pop /root/data/20161117_oly_gbs_vcf_analysis/1HL.pop\n",
      "\t--weir-fst-pop /root/data/20161117_oly_gbs_vcf_analysis/1NF.pop\n",
      "\t--keep /root/data/20161117_oly_gbs_vcf_analysis/1HL.pop\n",
      "\t--keep /root/data/20161117_oly_gbs_vcf_analysis/1NF.pop\n",
      "\n",
      "Eighth Header entry should be INFO: INFO    \n",
      "Keeping individuals in 'keep' list\n",
      "After filtering, kept 64 out of 96 Individuals\n",
      "Outputting Weir and Cockerham Fst estimates.\n",
      "Weir and Cockerham mean Fst estimate: 0.0029054\n",
      "Weir and Cockerham weighted Fst estimate: 0.14582\n",
      "After filtering, kept 120130 out of a possible 120130 Sites\n",
      "Run Time = 25.00 seconds\n",
      "\n",
      "real\t0m24.933s\n",
      "user\t0m0.760s\n",
      "sys\t0m13.630s\n"
     ]
    }
   ],
   "source": [
    "%%bash\n",
    "time vcftools --vcf /root/data/20161117_oly_gbs_vcf_analysis/oly_gbs_pyrad.vcf \\\n",
    "--weir-fst-pop /root/data/20161117_oly_gbs_vcf_analysis/1HL.pop \\\n",
    "--weir-fst-pop /root/data/20161117_oly_gbs_vcf_analysis/1NF.pop\n",
    "\n",
    "mv out.weir.fst /root/data/20161117_oly_gbs_vcf_analysis/1HL_NF.fst"
   ]
  },
  {
   "cell_type": "markdown",
   "metadata": {},
   "source": [
    "#### 1HL vs. 1SN"
   ]
  },
  {
   "cell_type": "code",
   "execution_count": 32,
   "metadata": {
    "collapsed": false
   },
   "outputs": [
    {
     "name": "stderr",
     "output_type": "stream",
     "text": [
      "\n",
      "VCFtools - 0.1.14\n",
      "(C) Adam Auton and Anthony Marcketta 2009\n",
      "\n",
      "Parameters as interpreted:\n",
      "\t--vcf /root/data/20161117_oly_gbs_vcf_analysis/oly_gbs_pyrad.vcf\n",
      "\t--weir-fst-pop /root/data/20161117_oly_gbs_vcf_analysis/1HL.pop\n",
      "\t--weir-fst-pop /root/data/20161117_oly_gbs_vcf_analysis/1SN.pop\n",
      "\t--keep /root/data/20161117_oly_gbs_vcf_analysis/1HL.pop\n",
      "\t--keep /root/data/20161117_oly_gbs_vcf_analysis/1SN.pop\n",
      "\n",
      "Eighth Header entry should be INFO: INFO    \n",
      "Keeping individuals in 'keep' list\n",
      "After filtering, kept 64 out of 96 Individuals\n",
      "Outputting Weir and Cockerham Fst estimates.\n",
      "Weir and Cockerham mean Fst estimate: 0.018513\n",
      "Weir and Cockerham weighted Fst estimate: 0.18011\n",
      "After filtering, kept 120130 out of a possible 120130 Sites\n",
      "Run Time = 24.00 seconds\n",
      "\n",
      "real\t0m24.362s\n",
      "user\t0m0.800s\n",
      "sys\t0m13.780s\n"
     ]
    }
   ],
   "source": [
    "%%bash\n",
    "time vcftools --vcf /root/data/20161117_oly_gbs_vcf_analysis/oly_gbs_pyrad.vcf \\\n",
    "--weir-fst-pop /root/data/20161117_oly_gbs_vcf_analysis/1HL.pop \\\n",
    "--weir-fst-pop /root/data/20161117_oly_gbs_vcf_analysis/1SN.pop\n",
    "\n",
    "mv out.weir.fst /root/data/20161117_oly_gbs_vcf_analysis/1HL_SN.fst"
   ]
  },
  {
   "cell_type": "markdown",
   "metadata": {},
   "source": [
    "#### 1NF vs 1SN"
   ]
  },
  {
   "cell_type": "code",
   "execution_count": 33,
   "metadata": {
    "collapsed": false
   },
   "outputs": [
    {
     "name": "stderr",
     "output_type": "stream",
     "text": [
      "\n",
      "VCFtools - 0.1.14\n",
      "(C) Adam Auton and Anthony Marcketta 2009\n",
      "\n",
      "Parameters as interpreted:\n",
      "\t--vcf /root/data/20161117_oly_gbs_vcf_analysis/oly_gbs_pyrad.vcf\n",
      "\t--weir-fst-pop /root/data/20161117_oly_gbs_vcf_analysis/1NF.pop\n",
      "\t--weir-fst-pop /root/data/20161117_oly_gbs_vcf_analysis/1SN.pop\n",
      "\t--keep /root/data/20161117_oly_gbs_vcf_analysis/1NF.pop\n",
      "\t--keep /root/data/20161117_oly_gbs_vcf_analysis/1SN.pop\n",
      "\n",
      "Eighth Header entry should be INFO: INFO    \n",
      "Keeping individuals in 'keep' list\n",
      "After filtering, kept 64 out of 96 Individuals\n",
      "Outputting Weir and Cockerham Fst estimates.\n",
      "Weir and Cockerham mean Fst estimate: -0.010855\n",
      "Weir and Cockerham weighted Fst estimate: 0.10355\n",
      "After filtering, kept 120130 out of a possible 120130 Sites\n",
      "Run Time = 27.00 seconds\n",
      "\n",
      "real\t0m26.961s\n",
      "user\t0m1.890s\n",
      "sys\t0m12.430s\n"
     ]
    }
   ],
   "source": [
    "%%bash\n",
    "time vcftools --vcf /root/data/20161117_oly_gbs_vcf_analysis/oly_gbs_pyrad.vcf \\\n",
    "--weir-fst-pop /root/data/20161117_oly_gbs_vcf_analysis/1NF.pop \\\n",
    "--weir-fst-pop /root/data/20161117_oly_gbs_vcf_analysis/1SN.pop\n",
    "\n",
    "mv out.weir.fst /root/data/20161117_oly_gbs_vcf_analysis/1NF_1SN.fst"
   ]
  },
  {
   "cell_type": "markdown",
   "metadata": {},
   "source": [
    "#### 1HL vs. 1NF vs. 1SN"
   ]
  },
  {
   "cell_type": "code",
   "execution_count": 34,
   "metadata": {
    "collapsed": false
   },
   "outputs": [
    {
     "name": "stderr",
     "output_type": "stream",
     "text": [
      "\n",
      "VCFtools - 0.1.14\n",
      "(C) Adam Auton and Anthony Marcketta 2009\n",
      "\n",
      "Parameters as interpreted:\n",
      "\t--vcf /root/data/20161117_oly_gbs_vcf_analysis/oly_gbs_pyrad.vcf\n",
      "\t--weir-fst-pop /root/data/20161117_oly_gbs_vcf_analysis/1HL.pop\n",
      "\t--weir-fst-pop /root/data/20161117_oly_gbs_vcf_analysis/1NF.pop\n",
      "\t--weir-fst-pop /root/data/20161117_oly_gbs_vcf_analysis/1SN.pop\n",
      "\t--keep /root/data/20161117_oly_gbs_vcf_analysis/1HL.pop\n",
      "\t--keep /root/data/20161117_oly_gbs_vcf_analysis/1NF.pop\n",
      "\t--keep /root/data/20161117_oly_gbs_vcf_analysis/1SN.pop\n",
      "\n",
      "Eighth Header entry should be INFO: INFO    \n",
      "Keeping individuals in 'keep' list\n",
      "After filtering, kept 96 out of 96 Individuals\n",
      "Outputting Weir and Cockerham Fst estimates.\n",
      "Weir and Cockerham mean Fst estimate: 0.048516\n",
      "Weir and Cockerham weighted Fst estimate: 0.13739\n",
      "After filtering, kept 120130 out of a possible 120130 Sites\n",
      "Run Time = 25.00 seconds\n",
      "\n",
      "real\t0m24.840s\n",
      "user\t0m1.080s\n",
      "sys\t0m13.720s\n"
     ]
    }
   ],
   "source": [
    "%%bash\n",
    "time vcftools --vcf /root/data/20161117_oly_gbs_vcf_analysis/oly_gbs_pyrad.vcf \\\n",
    "--weir-fst-pop /root/data/20161117_oly_gbs_vcf_analysis/1HL.pop \\\n",
    "--weir-fst-pop /root/data/20161117_oly_gbs_vcf_analysis/1NF.pop \\\n",
    "--weir-fst-pop /root/data/20161117_oly_gbs_vcf_analysis/1SN.pop\n",
    "\n",
    "mv out.weir.fst /root/data/20161117_oly_gbs_vcf_analysis/1HL_1NF_1SN.fst"
   ]
  }
 ],
 "metadata": {
  "anaconda-cloud": {},
  "kernelspec": {
   "display_name": "Python 3",
   "language": "python",
   "name": "python3"
  },
  "language_info": {
   "codemirror_mode": {
    "name": "ipython",
    "version": 3
   },
   "file_extension": ".py",
   "mimetype": "text/x-python",
   "name": "python",
   "nbconvert_exporter": "python",
   "pygments_lexer": "ipython3",
   "version": "3.5.2"
  }
 },
 "nbformat": 4,
 "nbformat_minor": 1
}
