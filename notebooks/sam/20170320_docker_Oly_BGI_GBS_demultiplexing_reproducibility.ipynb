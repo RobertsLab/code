{
 "cells": [
  {
   "cell_type": "markdown",
   "metadata": {},
   "source": [
    "### Running in Docker container on Ostrich\n",
    "\n",
    "#### Started Docker container with the following command:\n",
    "\n",
    "```docker run -p 8888:8888 -v /Users/sam/data/:/data -v /Users/sam/owl_home/:/owl_home -v /Users/sam/owl_web/:/owl_web -v /Users/sam/gitrepos:/gitrepos -it f99537d7e06a```\n",
    "\n",
    "The command allows access to Jupyter Notebook over port 8888 and makes my Jupyter Notebook GitHub repo and my data files on Owl/home and Owl/web accessible to the Docker container.\n",
    "\n",
    "Once the container was started, started Jupyter Notebook with the following command inside the Docker container:\n",
    "\n",
    "```jupyter notebook```\n",
    "\n",
    "This is configured in the Docker container to launch a Jupyter Notebook without a browser on port 8888.\n",
    "\n",
    "The Docker container is running on an image created from this [Dockerfile (Git commit 443bc42)](https://github.com/sr320/LabDocs/blob/443bc425cd36d23a07cf12625f38b7e3a397b9be/code/dockerfiles/Dockerfile.bio)"
   ]
  },
  {
   "cell_type": "code",
   "execution_count": 1,
   "metadata": {
    "collapsed": false
   },
   "outputs": [
    {
     "name": "stdout",
     "output_type": "stream",
     "text": [
      "Mon Mar 20 22:17:40 UTC 2017\n"
     ]
    }
   ],
   "source": [
    "%%bash\n",
    "date"
   ]
  },
  {
   "cell_type": "markdown",
   "metadata": {},
   "source": [
    "### Check computer specs"
   ]
  },
  {
   "cell_type": "code",
   "execution_count": 2,
   "metadata": {
    "collapsed": false
   },
   "outputs": [
    {
     "name": "stdout",
     "output_type": "stream",
     "text": [
      "0f2bca9c664b\n"
     ]
    }
   ],
   "source": [
    "%%bash\n",
    "hostname"
   ]
  },
  {
   "cell_type": "code",
   "execution_count": 3,
   "metadata": {
    "collapsed": false
   },
   "outputs": [
    {
     "name": "stdout",
     "output_type": "stream",
     "text": [
      "Architecture:          x86_64\n",
      "CPU op-mode(s):        32-bit, 64-bit\n",
      "Byte Order:            Little Endian\n",
      "CPU(s):                8\n",
      "On-line CPU(s) list:   0-7\n",
      "Thread(s) per core:    1\n",
      "Core(s) per socket:    8\n",
      "Socket(s):             1\n",
      "Vendor ID:             GenuineIntel\n",
      "CPU family:            6\n",
      "Model:                 26\n",
      "Model name:            Intel(R) Xeon(R) CPU           E5520  @ 2.27GHz\n",
      "Stepping:              5\n",
      "CPU MHz:               2260.998\n",
      "BogoMIPS:              4521.99\n",
      "Hypervisor vendor:     KVM\n",
      "Virtualization type:   full\n",
      "L1d cache:             32K\n",
      "L1i cache:             32K\n",
      "L2 cache:              256K\n",
      "L3 cache:              8192K\n"
     ]
    }
   ],
   "source": [
    "%%bash\n",
    "lscpu"
   ]
  },
  {
   "cell_type": "code",
   "execution_count": 4,
   "metadata": {
    "collapsed": false
   },
   "outputs": [
    {
     "name": "stdout",
     "output_type": "stream",
     "text": [
      "/gitrepos/Reseqtools/iTools_Code\n"
     ]
    }
   ],
   "source": [
    "cd /gitrepos/Reseqtools/iTools_Code/"
   ]
  },
  {
   "cell_type": "markdown",
   "metadata": {},
   "source": [
    "### Double check files before beginning"
   ]
  },
  {
   "cell_type": "markdown",
   "metadata": {},
   "source": [
    "Check for raw FASTQ files"
   ]
  },
  {
   "cell_type": "code",
   "execution_count": 5,
   "metadata": {
    "collapsed": false
   },
   "outputs": [
    {
     "name": "stdout",
     "output_type": "stream",
     "text": [
      "160123_I132_FCH3YHMBBXX_L4_OYSzenG1AAD96FAAPEI-109_1.fq.gz  index.lst  split.sh\r\n",
      "160123_I132_FCH3YHMBBXX_L4_OYSzenG1AAD96FAAPEI-109_2.fq.gz  \u001b[0m\u001b[01;34msplit\u001b[0m/     \u001b[01;34msplit2\u001b[0m/\r\n"
     ]
    }
   ],
   "source": [
    "ls /data/oly_gbs_raw/"
   ]
  },
  {
   "cell_type": "markdown",
   "metadata": {},
   "source": [
    "Verify index file looks OK."
   ]
  },
  {
   "cell_type": "code",
   "execution_count": 6,
   "metadata": {
    "collapsed": false
   },
   "outputs": [
    {
     "name": "stdout",
     "output_type": "stream",
     "text": [
      "OYSzenG1AAD96FAAPEI-109\tCTCC\t1NF_1A\n",
      "OYSzenG1AAD96FAAPEI-109\tTGCA\t1NF_2A\n",
      "OYSzenG1AAD96FAAPEI-109\tACTA\t1NF_4A\n",
      "OYSzenG1AAD96FAAPEI-109\tCAGA\t1NF_5A\n",
      "OYSzenG1AAD96FAAPEI-109\tAACT\t1NF_6A\n",
      "OYSzenG1AAD96FAAPEI-109\tGCGT\t1NF_7A\n",
      "OYSzenG1AAD96FAAPEI-109\tCGAT\t1NF_8A\n",
      "OYSzenG1AAD96FAAPEI-109\tGTAA\t1NF_9A\n",
      "OYSzenG1AAD96FAAPEI-109\tAGGC\t1NF_10A\n",
      "OYSzenG1AAD96FAAPEI-109\tGATC\t1NF_11A\n"
     ]
    }
   ],
   "source": [
    "%%bash\n",
    "head /data/oly_gbs_raw/index.lst"
   ]
  },
  {
   "cell_type": "markdown",
   "metadata": {},
   "source": [
    "Whoops! That's not right! I forgot I moved the corrected files to my paper repo..."
   ]
  },
  {
   "cell_type": "code",
   "execution_count": 7,
   "metadata": {
    "collapsed": false
   },
   "outputs": [
    {
     "name": "stdout",
     "output_type": "stream",
     "text": [
      "\u001b[0m\u001b[01;34m160123_I132_FCH3YHMBBXX_L4_OYSzenG1AAD96FAAPEI-109_1_fastqc\u001b[0m/      SNP.stat.xls\r\n",
      "160123_I132_FCH3YHMBBXX_L4_OYSzenG1AAD96FAAPEI-109_1_fastqc.html  enzyme.txt\r\n",
      "\u001b[01;34m160123_I132_FCH3YHMBBXX_L4_OYSzenG1AAD96FAAPEI-109_2_fastqc\u001b[0m/      index.lst\r\n",
      "160123_I132_FCH3YHMBBXX_L4_OYSzenG1AAD96FAAPEI-109_2_fastqc.html  readme.md\r\n",
      "Data.stat.xls                                                     split.sh\r\n"
     ]
    }
   ],
   "source": [
    "ls /gitrepos/paper_oly_gbs/data/"
   ]
  },
  {
   "cell_type": "code",
   "execution_count": 8,
   "metadata": {
    "collapsed": false
   },
   "outputs": [
    {
     "name": "stdout",
     "output_type": "stream",
     "text": [
      "1NF_1A\tCTCC\n",
      "1NF_2A\tTGCA\n",
      "1NF_4A\tACTA\n",
      "1NF_5A\tCAGA\n",
      "1NF_6A\tAACT\n",
      "1NF_7A\tGCGT\n",
      "1NF_8A\tCGAT\n",
      "1NF_9A\tGTAA\n",
      "1NF_10A\tAGGC\n",
      "1NF_11A\tGATC\n",
      "CAGC\n",
      "CTGC\n"
     ]
    }
   ],
   "source": [
    "%%bash\n",
    "head /gitrepos/paper_oly_gbs/data/index.lst\n",
    "head /gitrepos/paper_oly_gbs/data/enzyme.txt"
   ]
  },
  {
   "cell_type": "markdown",
   "metadata": {},
   "source": [
    "Looks good!"
   ]
  },
  {
   "cell_type": "markdown",
   "metadata": {},
   "source": [
    "### Run BGI demultiplexing script"
   ]
  },
  {
   "cell_type": "code",
   "execution_count": 9,
   "metadata": {
    "collapsed": false
   },
   "outputs": [
    {
     "name": "stdout",
     "output_type": "stream",
     "text": [
      "Process is interrupted.\n"
     ]
    }
   ],
   "source": [
    "%%bash\n",
    "time ./iTools Fqtools splitpool \\\n",
    "-InFq1 /data/oly_gbs_raw/160123_I132_FCH3YHMBBXX_L4_OYSzenG1AAD96FAAPEI-109_1.fq.gz \\\n",
    "-InFq2 /data/oly_gbs_raw/160123_I132_FCH3YHMBBXX_L4_OYSzenG1AAD96FAAPEI-109_2.fq.gz \\\n",
    "-Index /gitrepos/paper_oly_gbs/data/index.lst \\\n",
    "-Flag /gitrepos/paper_oly_gbs/dataenzyme.txt \\\n",
    "-MisMatch \\\n",
    "-OutDir /data/oly_gbs_raw/split/"
   ]
  },
  {
   "cell_type": "markdown",
   "metadata": {},
   "source": [
    "Ugh. Ran it to the same directory as I did the last time I ran the script! Need to change to a different directory... \n",
    "\n",
    "This also means that some of the files from the first run are probably screwed up!\n",
    "\n",
    "However, the goal of this is to compare a subset of the output and see if the two runs produced different results. Don't need all the files in order to do that comparison."
   ]
  },
  {
   "cell_type": "code",
   "execution_count": 10,
   "metadata": {
    "collapsed": false
   },
   "outputs": [
    {
     "name": "stderr",
     "output_type": "stream",
     "text": [
      "\n",
      "real\t559m41.229s\n",
      "user\t392m10.870s\n",
      "sys\t145m5.860s\n"
     ]
    }
   ],
   "source": [
    "%%bash\n",
    "time ./iTools Fqtools splitpool \\\n",
    "-InFq1 /data/oly_gbs_raw/160123_I132_FCH3YHMBBXX_L4_OYSzenG1AAD96FAAPEI-109_1.fq.gz \\\n",
    "-InFq2 /data/oly_gbs_raw/160123_I132_FCH3YHMBBXX_L4_OYSzenG1AAD96FAAPEI-109_2.fq.gz \\\n",
    "-Index /gitrepos/paper_oly_gbs/data/index.lst \\\n",
    "-Flag /gitrepos/paper_oly_gbs/dataenzyme.txt \\\n",
    "-MisMatch \\\n",
    "-OutDir /data/oly_gbs_raw/split2/"
   ]
  },
  {
   "cell_type": "code",
   "execution_count": null,
   "metadata": {
    "collapsed": false
   },
   "outputs": [
    {
     "name": "stdout",
     "output_type": "stream",
     "text": [
      "total 130M\n",
      "-rw-r--r-- 1 srlab staff    0 Mar 20 22:22 1HL_10A_1.fq.gz\n",
      "-rw-r--r-- 1 srlab staff    0 Mar 20 22:22 1HL_10A_2.fq.gz\n",
      "-rw-r--r-- 1 srlab staff    0 Mar 20 22:23 1HL_11A_1.fq.gz\n",
      "-rw-r--r-- 1 srlab staff    0 Mar 20 22:23 1HL_11A_2.fq.gz\n",
      "-rw-r--r-- 1 srlab staff    0 Mar 20 22:23 1HL_12A_1.fq.gz\n",
      "-rw-r--r-- 1 srlab staff    0 Mar 20 22:23 1HL_12A_2.fq.gz\n",
      "-rw-r--r-- 1 srlab staff    0 Mar 20 22:23 1HL_13A_1.fq.gz\n",
      "-rw-r--r-- 1 srlab staff    0 Mar 20 22:23 1HL_13A_2.fq.gz\n",
      "-rw-r--r-- 1 srlab staff    0 Mar 20 22:23 1HL_14A_1.fq.gz\n"
     ]
    },
    {
     "name": "stderr",
     "output_type": "stream",
     "text": [
      "ls: write error: Broken pipe\n"
     ]
    }
   ],
   "source": [
    "%%bash\n",
    "ls -lh /data/oly_gbs_raw/split/ | head"
   ]
  },
  {
   "cell_type": "markdown",
   "metadata": {},
   "source": [
    "Nope. I screwed it up. The demultplexing I ran in Step 9 overwrote everything from the first run!\n",
    "\n",
    "Well, let's run it again so we have files to compare..."
   ]
  },
  {
   "cell_type": "code",
   "execution_count": null,
   "metadata": {
    "collapsed": false
   },
   "outputs": [
    {
     "name": "stderr",
     "output_type": "stream",
     "text": [
      "\n",
      "real\t571m24.244s\n",
      "user\t398m52.700s\n",
      "sys\t145m14.710s\n"
     ]
    }
   ],
   "source": [
    "%%bash\n",
    "time ./iTools Fqtools splitpool \\\n",
    "-InFq1 /data/oly_gbs_raw/160123_I132_FCH3YHMBBXX_L4_OYSzenG1AAD96FAAPEI-109_1.fq.gz \\\n",
    "-InFq2 /data/oly_gbs_raw/160123_I132_FCH3YHMBBXX_L4_OYSzenG1AAD96FAAPEI-109_2.fq.gz \\\n",
    "-Index /gitrepos/paper_oly_gbs/data/index.lst \\\n",
    "-Flag /gitrepos/paper_oly_gbs/dataenzyme.txt \\\n",
    "-MisMatch \\\n",
    "-OutDir /data/oly_gbs_raw/split/"
   ]
  },
  {
   "cell_type": "markdown",
   "metadata": {},
   "source": [
    "Arrived to lab this morning to disconnects errors. Let's see if these worked..."
   ]
  },
  {
   "cell_type": "code",
   "execution_count": 1,
   "metadata": {
    "collapsed": false
   },
   "outputs": [
    {
     "name": "stdout",
     "output_type": "stream",
     "text": [
      "total 37G\n",
      "-rw-r--r-- 1 srlab staff   20 Mar 21 17:16 1HL_10A_1.fq.gz\n",
      "-rw-r--r-- 1 srlab staff   20 Mar 21 17:16 1HL_10A_2.fq.gz\n",
      "-rw-r--r-- 1 srlab staff   20 Mar 21 17:16 1HL_11A_1.fq.gz\n",
      "-rw-r--r-- 1 srlab staff   20 Mar 21 17:16 1HL_11A_2.fq.gz\n",
      "-rw-r--r-- 1 srlab staff   20 Mar 21 17:16 1HL_12A_1.fq.gz\n",
      "-rw-r--r-- 1 srlab staff   20 Mar 21 17:16 1HL_12A_2.fq.gz\n",
      "-rw-r--r-- 1 srlab staff   20 Mar 21 17:16 1HL_13A_1.fq.gz\n",
      "-rw-r--r-- 1 srlab staff   20 Mar 21 17:16 1HL_13A_2.fq.gz\n",
      "-rw-r--r-- 1 srlab staff   20 Mar 21 17:16 1HL_14A_1.fq.gz\n"
     ]
    },
    {
     "name": "stderr",
     "output_type": "stream",
     "text": [
      "ls: write error: Broken pipe\n"
     ]
    }
   ],
   "source": [
    "%%bash\n",
    "ls -lh /data/oly_gbs_raw/split/ | head"
   ]
  },
  {
   "cell_type": "code",
   "execution_count": 2,
   "metadata": {
    "collapsed": false
   },
   "outputs": [
    {
     "name": "stdout",
     "output_type": "stream",
     "text": [
      "Tue Mar 21 18:47:32 UTC 2017\n"
     ]
    }
   ],
   "source": [
    "%%bash\n",
    "date"
   ]
  },
  {
   "cell_type": "code",
   "execution_count": 3,
   "metadata": {
    "collapsed": false,
    "scrolled": true
   },
   "outputs": [
    {
     "name": "stdout",
     "output_type": "stream",
     "text": [
      "total 37G\n",
      "-rw-r--r-- 1 srlab staff  20 Mar 21 07:45 1HL_10A_1.fq.gz\n",
      "-rw-r--r-- 1 srlab staff  20 Mar 21 07:45 1HL_10A_2.fq.gz\n",
      "-rw-r--r-- 1 srlab staff  20 Mar 21 07:45 1HL_11A_1.fq.gz\n",
      "-rw-r--r-- 1 srlab staff  20 Mar 21 07:45 1HL_11A_2.fq.gz\n",
      "-rw-r--r-- 1 srlab staff  20 Mar 21 07:45 1HL_12A_1.fq.gz\n",
      "-rw-r--r-- 1 srlab staff  20 Mar 21 07:45 1HL_12A_2.fq.gz\n",
      "-rw-r--r-- 1 srlab staff  20 Mar 21 07:45 1HL_13A_1.fq.gz\n",
      "-rw-r--r-- 1 srlab staff  20 Mar 21 07:45 1HL_13A_2.fq.gz\n",
      "-rw-r--r-- 1 srlab staff  20 Mar 21 07:45 1HL_14A_1.fq.gz\n",
      "-rw-r--r-- 1 srlab staff  20 Mar 21 07:45 1HL_14A_2.fq.gz\n",
      "-rw-r--r-- 1 srlab staff  20 Mar 21 07:45 1HL_15A_1.fq.gz\n",
      "-rw-r--r-- 1 srlab staff  20 Mar 21 07:45 1HL_15A_2.fq.gz\n",
      "-rw-r--r-- 1 srlab staff  20 Mar 21 07:45 1HL_16A_1.fq.gz\n",
      "-rw-r--r-- 1 srlab staff  20 Mar 21 07:45 1HL_16A_2.fq.gz\n",
      "-rw-r--r-- 1 srlab staff  20 Mar 21 07:45 1HL_17A_1.fq.gz\n",
      "-rw-r--r-- 1 srlab staff  20 Mar 21 07:45 1HL_17A_2.fq.gz\n",
      "-rw-r--r-- 1 srlab staff  20 Mar 21 07:45 1HL_19A_1.fq.gz\n",
      "-rw-r--r-- 1 srlab staff  20 Mar 21 07:45 1HL_19A_2.fq.gz\n",
      "-rw-r--r-- 1 srlab staff  20 Mar 21 07:45 1HL_1A_1.fq.gz\n",
      "-rw-r--r-- 1 srlab staff  20 Mar 21 07:45 1HL_1A_2.fq.gz\n",
      "-rw-r--r-- 1 srlab staff  20 Mar 21 07:45 1HL_20A_1.fq.gz\n",
      "-rw-r--r-- 1 srlab staff  20 Mar 21 07:45 1HL_20A_2.fq.gz\n",
      "-rw-r--r-- 1 srlab staff  20 Mar 21 07:45 1HL_21A_1.fq.gz\n",
      "-rw-r--r-- 1 srlab staff  20 Mar 21 07:45 1HL_21A_2.fq.gz\n",
      "-rw-r--r-- 1 srlab staff  20 Mar 21 07:45 1HL_22A_1.fq.gz\n",
      "-rw-r--r-- 1 srlab staff  20 Mar 21 07:45 1HL_22A_2.fq.gz\n",
      "-rw-r--r-- 1 srlab staff  20 Mar 21 07:45 1HL_23A_1.fq.gz\n",
      "-rw-r--r-- 1 srlab staff  20 Mar 21 07:45 1HL_23A_2.fq.gz\n",
      "-rw-r--r-- 1 srlab staff  20 Mar 21 07:45 1HL_24A_1.fq.gz\n",
      "-rw-r--r-- 1 srlab staff  20 Mar 21 07:45 1HL_24A_2.fq.gz\n",
      "-rw-r--r-- 1 srlab staff  20 Mar 21 07:45 1HL_25A_1.fq.gz\n",
      "-rw-r--r-- 1 srlab staff  20 Mar 21 07:45 1HL_25A_2.fq.gz\n",
      "-rw-r--r-- 1 srlab staff  20 Mar 21 07:45 1HL_26A_1.fq.gz\n",
      "-rw-r--r-- 1 srlab staff  20 Mar 21 07:45 1HL_26A_2.fq.gz\n",
      "-rw-r--r-- 1 srlab staff  20 Mar 21 07:45 1HL_27A_1.fq.gz\n",
      "-rw-r--r-- 1 srlab staff  20 Mar 21 07:45 1HL_27A_2.fq.gz\n",
      "-rw-r--r-- 1 srlab staff  20 Mar 21 07:45 1HL_28A_1.fq.gz\n",
      "-rw-r--r-- 1 srlab staff  20 Mar 21 07:45 1HL_28A_2.fq.gz\n",
      "-rw-r--r-- 1 srlab staff  20 Mar 21 07:45 1HL_29A_1.fq.gz\n",
      "-rw-r--r-- 1 srlab staff  20 Mar 21 07:45 1HL_29A_2.fq.gz\n",
      "-rw-r--r-- 1 srlab staff  20 Mar 21 07:45 1HL_2A_1.fq.gz\n",
      "-rw-r--r-- 1 srlab staff  20 Mar 21 07:45 1HL_2A_2.fq.gz\n",
      "-rw-r--r-- 1 srlab staff  20 Mar 21 07:45 1HL_31A_1.fq.gz\n",
      "-rw-r--r-- 1 srlab staff  20 Mar 21 07:45 1HL_31A_2.fq.gz\n",
      "-rw-r--r-- 1 srlab staff  20 Mar 21 07:45 1HL_33A_1.fq.gz\n",
      "-rw-r--r-- 1 srlab staff  20 Mar 21 07:45 1HL_33A_2.fq.gz\n",
      "-rw-r--r-- 1 srlab staff  20 Mar 21 07:45 1HL_34A_1.fq.gz\n",
      "-rw-r--r-- 1 srlab staff  20 Mar 21 07:45 1HL_34A_2.fq.gz\n",
      "-rw-r--r-- 1 srlab staff  20 Mar 21 07:45 1HL_35A_1.fq.gz\n",
      "-rw-r--r-- 1 srlab staff  20 Mar 21 07:45 1HL_35A_2.fq.gz\n",
      "-rw-r--r-- 1 srlab staff  20 Mar 21 07:45 1HL_3A_1.fq.gz\n",
      "-rw-r--r-- 1 srlab staff  20 Mar 21 07:45 1HL_3A_2.fq.gz\n",
      "-rw-r--r-- 1 srlab staff  20 Mar 21 07:45 1HL_4A_1.fq.gz\n",
      "-rw-r--r-- 1 srlab staff  20 Mar 21 07:45 1HL_4A_2.fq.gz\n",
      "-rw-r--r-- 1 srlab staff  20 Mar 21 07:45 1HL_5A_1.fq.gz\n",
      "-rw-r--r-- 1 srlab staff  20 Mar 21 07:45 1HL_5A_2.fq.gz\n",
      "-rw-r--r-- 1 srlab staff  20 Mar 21 07:45 1HL_6A_1.fq.gz\n",
      "-rw-r--r-- 1 srlab staff  20 Mar 21 07:45 1HL_6A_2.fq.gz\n",
      "-rw-r--r-- 1 srlab staff  20 Mar 21 07:45 1HL_7A_1.fq.gz\n",
      "-rw-r--r-- 1 srlab staff  20 Mar 21 07:45 1HL_7A_2.fq.gz\n",
      "-rw-r--r-- 1 srlab staff  20 Mar 21 07:45 1HL_8A_1.fq.gz\n",
      "-rw-r--r-- 1 srlab staff  20 Mar 21 07:45 1HL_8A_2.fq.gz\n",
      "-rw-r--r-- 1 srlab staff  20 Mar 21 07:45 1HL_9A_1.fq.gz\n",
      "-rw-r--r-- 1 srlab staff  20 Mar 21 07:45 1HL_9A_2.fq.gz\n",
      "-rw-r--r-- 1 srlab staff  20 Mar 21 07:45 1NF_10A_1.fq.gz\n",
      "-rw-r--r-- 1 srlab staff  20 Mar 21 07:45 1NF_10A_2.fq.gz\n",
      "-rw-r--r-- 1 srlab staff  20 Mar 21 07:45 1NF_11A_1.fq.gz\n",
      "-rw-r--r-- 1 srlab staff  20 Mar 21 07:45 1NF_11A_2.fq.gz\n",
      "-rw-r--r-- 1 srlab staff  20 Mar 21 07:45 1NF_12A_1.fq.gz\n",
      "-rw-r--r-- 1 srlab staff  20 Mar 21 07:45 1NF_12A_2.fq.gz\n",
      "-rw-r--r-- 1 srlab staff  20 Mar 21 07:45 1NF_13A_1.fq.gz\n",
      "-rw-r--r-- 1 srlab staff  20 Mar 21 07:45 1NF_13A_2.fq.gz\n",
      "-rw-r--r-- 1 srlab staff  20 Mar 21 07:45 1NF_14A_1.fq.gz\n",
      "-rw-r--r-- 1 srlab staff  20 Mar 21 07:45 1NF_14A_2.fq.gz\n",
      "-rw-r--r-- 1 srlab staff  20 Mar 21 07:45 1NF_15A_1.fq.gz\n",
      "-rw-r--r-- 1 srlab staff  20 Mar 21 07:45 1NF_15A_2.fq.gz\n",
      "-rw-r--r-- 1 srlab staff  20 Mar 21 07:45 1NF_16A_1.fq.gz\n",
      "-rw-r--r-- 1 srlab staff  20 Mar 21 07:45 1NF_16A_2.fq.gz\n",
      "-rw-r--r-- 1 srlab staff  20 Mar 21 07:45 1NF_17A_1.fq.gz\n",
      "-rw-r--r-- 1 srlab staff  20 Mar 21 07:45 1NF_17A_2.fq.gz\n",
      "-rw-r--r-- 1 srlab staff  20 Mar 21 07:45 1NF_18A_1.fq.gz\n",
      "-rw-r--r-- 1 srlab staff  20 Mar 21 07:45 1NF_18A_2.fq.gz\n",
      "-rw-r--r-- 1 srlab staff  20 Mar 21 07:45 1NF_19A_1.fq.gz\n",
      "-rw-r--r-- 1 srlab staff  20 Mar 21 07:45 1NF_19A_2.fq.gz\n",
      "-rw-r--r-- 1 srlab staff  20 Mar 21 07:45 1NF_1A_1.fq.gz\n",
      "-rw-r--r-- 1 srlab staff  20 Mar 21 07:45 1NF_1A_2.fq.gz\n",
      "-rw-r--r-- 1 srlab staff  20 Mar 21 07:45 1NF_20A_1.fq.gz\n",
      "-rw-r--r-- 1 srlab staff  20 Mar 21 07:45 1NF_20A_2.fq.gz\n",
      "-rw-r--r-- 1 srlab staff  20 Mar 21 07:45 1NF_21A_1.fq.gz\n",
      "-rw-r--r-- 1 srlab staff  20 Mar 21 07:45 1NF_21A_2.fq.gz\n",
      "-rw-r--r-- 1 srlab staff  20 Mar 21 07:45 1NF_22A_1.fq.gz\n",
      "-rw-r--r-- 1 srlab staff  20 Mar 21 07:45 1NF_22A_2.fq.gz\n",
      "-rw-r--r-- 1 srlab staff  20 Mar 21 07:45 1NF_23A_1.fq.gz\n",
      "-rw-r--r-- 1 srlab staff  20 Mar 21 07:45 1NF_23A_2.fq.gz\n",
      "-rw-r--r-- 1 srlab staff  20 Mar 21 07:45 1NF_24A_1.fq.gz\n",
      "-rw-r--r-- 1 srlab staff  20 Mar 21 07:45 1NF_24A_2.fq.gz\n",
      "-rw-r--r-- 1 srlab staff  20 Mar 21 07:45 1NF_25A_1.fq.gz\n",
      "-rw-r--r-- 1 srlab staff  20 Mar 21 07:45 1NF_25A_2.fq.gz\n",
      "-rw-r--r-- 1 srlab staff  20 Mar 21 07:45 1NF_26A_1.fq.gz\n",
      "-rw-r--r-- 1 srlab staff  20 Mar 21 07:45 1NF_26A_2.fq.gz\n",
      "-rw-r--r-- 1 srlab staff  20 Mar 21 07:45 1NF_27A_1.fq.gz\n",
      "-rw-r--r-- 1 srlab staff  20 Mar 21 07:45 1NF_27A_2.fq.gz\n",
      "-rw-r--r-- 1 srlab staff  20 Mar 21 07:45 1NF_28A_1.fq.gz\n",
      "-rw-r--r-- 1 srlab staff  20 Mar 21 07:45 1NF_28A_2.fq.gz\n",
      "-rw-r--r-- 1 srlab staff  20 Mar 21 07:45 1NF_29A_1.fq.gz\n",
      "-rw-r--r-- 1 srlab staff  20 Mar 21 07:45 1NF_29A_2.fq.gz\n",
      "-rw-r--r-- 1 srlab staff  20 Mar 21 07:45 1NF_2A_1.fq.gz\n",
      "-rw-r--r-- 1 srlab staff  20 Mar 21 07:45 1NF_2A_2.fq.gz\n",
      "-rw-r--r-- 1 srlab staff  20 Mar 21 07:45 1NF_30A_1.fq.gz\n",
      "-rw-r--r-- 1 srlab staff  20 Mar 21 07:45 1NF_30A_2.fq.gz\n",
      "-rw-r--r-- 1 srlab staff  20 Mar 21 07:45 1NF_31A_1.fq.gz\n",
      "-rw-r--r-- 1 srlab staff  20 Mar 21 07:45 1NF_31A_2.fq.gz\n",
      "-rw-r--r-- 1 srlab staff  20 Mar 21 07:45 1NF_32A_1.fq.gz\n",
      "-rw-r--r-- 1 srlab staff  20 Mar 21 07:45 1NF_32A_2.fq.gz\n",
      "-rw-r--r-- 1 srlab staff  20 Mar 21 07:45 1NF_33A_1.fq.gz\n",
      "-rw-r--r-- 1 srlab staff  20 Mar 21 07:45 1NF_33A_2.fq.gz\n",
      "-rw-r--r-- 1 srlab staff  20 Mar 21 07:45 1NF_4A_1.fq.gz\n",
      "-rw-r--r-- 1 srlab staff  20 Mar 21 07:45 1NF_4A_2.fq.gz\n",
      "-rw-r--r-- 1 srlab staff  20 Mar 21 07:45 1NF_5A_1.fq.gz\n",
      "-rw-r--r-- 1 srlab staff  20 Mar 21 07:45 1NF_5A_2.fq.gz\n",
      "-rw-r--r-- 1 srlab staff  20 Mar 21 07:45 1NF_6A_1.fq.gz\n",
      "-rw-r--r-- 1 srlab staff  20 Mar 21 07:45 1NF_6A_2.fq.gz\n",
      "-rw-r--r-- 1 srlab staff  20 Mar 21 07:45 1NF_7A_1.fq.gz\n",
      "-rw-r--r-- 1 srlab staff  20 Mar 21 07:45 1NF_7A_2.fq.gz\n",
      "-rw-r--r-- 1 srlab staff  20 Mar 21 07:45 1NF_8A_1.fq.gz\n",
      "-rw-r--r-- 1 srlab staff  20 Mar 21 07:45 1NF_8A_2.fq.gz\n",
      "-rw-r--r-- 1 srlab staff  20 Mar 21 07:45 1NF_9A_1.fq.gz\n",
      "-rw-r--r-- 1 srlab staff  20 Mar 21 07:45 1NF_9A_2.fq.gz\n",
      "-rw-r--r-- 1 srlab staff  20 Mar 21 07:45 1SN_10A_1.fq.gz\n",
      "-rw-r--r-- 1 srlab staff  20 Mar 21 07:45 1SN_10A_2.fq.gz\n",
      "-rw-r--r-- 1 srlab staff  20 Mar 21 07:45 1SN_11A_1.fq.gz\n",
      "-rw-r--r-- 1 srlab staff  20 Mar 21 07:45 1SN_11A_2.fq.gz\n",
      "-rw-r--r-- 1 srlab staff  20 Mar 21 07:45 1SN_12A_1.fq.gz\n",
      "-rw-r--r-- 1 srlab staff  20 Mar 21 07:45 1SN_12A_2.fq.gz\n",
      "-rw-r--r-- 1 srlab staff  20 Mar 21 07:45 1SN_13A_1.fq.gz\n",
      "-rw-r--r-- 1 srlab staff  20 Mar 21 07:45 1SN_13A_2.fq.gz\n",
      "-rw-r--r-- 1 srlab staff  20 Mar 21 07:45 1SN_14A_1.fq.gz\n",
      "-rw-r--r-- 1 srlab staff  20 Mar 21 07:45 1SN_14A_2.fq.gz\n",
      "-rw-r--r-- 1 srlab staff  20 Mar 21 07:45 1SN_15A_1.fq.gz\n",
      "-rw-r--r-- 1 srlab staff  20 Mar 21 07:45 1SN_15A_2.fq.gz\n",
      "-rw-r--r-- 1 srlab staff  20 Mar 21 07:45 1SN_16A_1.fq.gz\n",
      "-rw-r--r-- 1 srlab staff  20 Mar 21 07:45 1SN_16A_2.fq.gz\n",
      "-rw-r--r-- 1 srlab staff  20 Mar 21 07:45 1SN_17A_1.fq.gz\n",
      "-rw-r--r-- 1 srlab staff  20 Mar 21 07:45 1SN_17A_2.fq.gz\n",
      "-rw-r--r-- 1 srlab staff  20 Mar 21 07:45 1SN_18A_1.fq.gz\n",
      "-rw-r--r-- 1 srlab staff  20 Mar 21 07:45 1SN_18A_2.fq.gz\n",
      "-rw-r--r-- 1 srlab staff  20 Mar 21 07:45 1SN_19A_1.fq.gz\n",
      "-rw-r--r-- 1 srlab staff  20 Mar 21 07:45 1SN_19A_2.fq.gz\n",
      "-rw-r--r-- 1 srlab staff  20 Mar 21 07:45 1SN_1A_1.fq.gz\n",
      "-rw-r--r-- 1 srlab staff  20 Mar 21 07:45 1SN_1A_2.fq.gz\n",
      "-rw-r--r-- 1 srlab staff  20 Mar 21 07:45 1SN_20A_1.fq.gz\n",
      "-rw-r--r-- 1 srlab staff  20 Mar 21 07:45 1SN_20A_2.fq.gz\n",
      "-rw-r--r-- 1 srlab staff  20 Mar 21 07:45 1SN_21A_1.fq.gz\n",
      "-rw-r--r-- 1 srlab staff  20 Mar 21 07:45 1SN_21A_2.fq.gz\n",
      "-rw-r--r-- 1 srlab staff  20 Mar 21 07:45 1SN_22A_1.fq.gz\n",
      "-rw-r--r-- 1 srlab staff  20 Mar 21 07:45 1SN_22A_2.fq.gz\n",
      "-rw-r--r-- 1 srlab staff  20 Mar 21 07:45 1SN_23A_1.fq.gz\n",
      "-rw-r--r-- 1 srlab staff  20 Mar 21 07:45 1SN_23A_2.fq.gz\n",
      "-rw-r--r-- 1 srlab staff  20 Mar 21 07:45 1SN_24A_1.fq.gz\n",
      "-rw-r--r-- 1 srlab staff  20 Mar 21 07:45 1SN_24A_2.fq.gz\n",
      "-rw-r--r-- 1 srlab staff  20 Mar 21 07:45 1SN_25A_1.fq.gz\n",
      "-rw-r--r-- 1 srlab staff  20 Mar 21 07:45 1SN_25A_2.fq.gz\n",
      "-rw-r--r-- 1 srlab staff  20 Mar 21 07:45 1SN_26A_1.fq.gz\n",
      "-rw-r--r-- 1 srlab staff  20 Mar 21 07:45 1SN_26A_2.fq.gz\n",
      "-rw-r--r-- 1 srlab staff  20 Mar 21 07:45 1SN_27A_1.fq.gz\n",
      "-rw-r--r-- 1 srlab staff  20 Mar 21 07:45 1SN_27A_2.fq.gz\n",
      "-rw-r--r-- 1 srlab staff  20 Mar 21 07:45 1SN_28A_1.fq.gz\n",
      "-rw-r--r-- 1 srlab staff  20 Mar 21 07:45 1SN_28A_2.fq.gz\n",
      "-rw-r--r-- 1 srlab staff  20 Mar 21 07:45 1SN_29A_1.fq.gz\n",
      "-rw-r--r-- 1 srlab staff  20 Mar 21 07:45 1SN_29A_2.fq.gz\n",
      "-rw-r--r-- 1 srlab staff  20 Mar 21 07:45 1SN_2A_1.fq.gz\n",
      "-rw-r--r-- 1 srlab staff  20 Mar 21 07:45 1SN_2A_2.fq.gz\n",
      "-rw-r--r-- 1 srlab staff  20 Mar 21 07:45 1SN_30A_1.fq.gz\n",
      "-rw-r--r-- 1 srlab staff  20 Mar 21 07:45 1SN_30A_2.fq.gz\n",
      "-rw-r--r-- 1 srlab staff  20 Mar 21 07:45 1SN_31A_1.fq.gz\n",
      "-rw-r--r-- 1 srlab staff  20 Mar 21 07:45 1SN_31A_2.fq.gz\n",
      "-rw-r--r-- 1 srlab staff  20 Mar 21 07:45 1SN_32A_1.fq.gz\n",
      "-rw-r--r-- 1 srlab staff  20 Mar 21 07:45 1SN_32A_2.fq.gz\n",
      "-rw-r--r-- 1 srlab staff  20 Mar 21 07:45 1SN_3A_1.fq.gz\n",
      "-rw-r--r-- 1 srlab staff  20 Mar 21 07:45 1SN_3A_2.fq.gz\n",
      "-rw-r--r-- 1 srlab staff  20 Mar 21 07:45 1SN_4A_1.fq.gz\n",
      "-rw-r--r-- 1 srlab staff  20 Mar 21 07:45 1SN_4A_2.fq.gz\n",
      "-rw-r--r-- 1 srlab staff  20 Mar 21 07:45 1SN_5A_1.fq.gz\n",
      "-rw-r--r-- 1 srlab staff  20 Mar 21 07:45 1SN_5A_2.fq.gz\n",
      "-rw-r--r-- 1 srlab staff  20 Mar 21 07:45 1SN_6A_1.fq.gz\n",
      "-rw-r--r-- 1 srlab staff  20 Mar 21 07:45 1SN_6A_2.fq.gz\n",
      "-rw-r--r-- 1 srlab staff  20 Mar 21 07:45 1SN_7A_1.fq.gz\n",
      "-rw-r--r-- 1 srlab staff  20 Mar 21 07:45 1SN_7A_2.fq.gz\n",
      "-rw-r--r-- 1 srlab staff  20 Mar 21 07:45 1SN_8A_1.fq.gz\n",
      "-rw-r--r-- 1 srlab staff  20 Mar 21 07:45 1SN_8A_2.fq.gz\n",
      "-rw-r--r-- 1 srlab staff  20 Mar 21 07:45 1SN_9A_1.fq.gz\n",
      "-rw-r--r-- 1 srlab staff  20 Mar 21 07:45 1SN_9A_2.fq.gz\n",
      "-rw-r--r-- 1 srlab staff 17G Mar 21 07:45 UnKnow_1.fq.gz\n",
      "-rw-r--r-- 1 srlab staff 20G Mar 21 07:45 UnKnow_2.fq.gz\n"
     ]
    }
   ],
   "source": [
    "%%bash\n",
    "ls -lh /data/oly_gbs_raw/split2/"
   ]
  },
  {
   "cell_type": "markdown",
   "metadata": {},
   "source": [
    "OMG! There's a typo in the both of the demultiplexing scripts above! The path to the enzyme list is incorrect... :( Let's run them again...\n",
    "\n",
    "It certainly would be nice if some checks were built into this program (and, it's be nice if I was paying more attention)!"
   ]
  },
  {
   "cell_type": "code",
   "execution_count": 4,
   "metadata": {
    "collapsed": false
   },
   "outputs": [
    {
     "name": "stderr",
     "output_type": "stream",
     "text": [
      "bash: line 1: ./iTools: No such file or directory\n",
      "\n",
      "real\t0m0.002s\n",
      "user\t0m0.000s\n",
      "sys\t0m0.000s\n"
     ]
    }
   ],
   "source": [
    "%%bash\n",
    "time ./iTools Fqtools splitpool \\\n",
    "-InFq1 /data/oly_gbs_raw/160123_I132_FCH3YHMBBXX_L4_OYSzenG1AAD96FAAPEI-109_1.fq.gz \\\n",
    "-InFq2 /data/oly_gbs_raw/160123_I132_FCH3YHMBBXX_L4_OYSzenG1AAD96FAAPEI-109_2.fq.gz \\\n",
    "-Index /gitrepos/paper_oly_gbs/data/index.lst \\\n",
    "-Flag /gitrepos/paper_oly_gbs/data/enzyme.txt \\\n",
    "-MisMatch \\\n",
    "-OutDir /data/oly_gbs_raw/split2/"
   ]
  },
  {
   "cell_type": "code",
   "execution_count": 5,
   "metadata": {
    "collapsed": false
   },
   "outputs": [
    {
     "name": "stderr",
     "output_type": "stream",
     "text": [
      "bash: line 1: ./iTools: No such file or directory\n",
      "\n",
      "real\t0m0.001s\n",
      "user\t0m0.000s\n",
      "sys\t0m0.000s\n"
     ]
    }
   ],
   "source": [
    "%%bash\n",
    "time ./iTools Fqtools splitpool \\\n",
    "-InFq1 /data/oly_gbs_raw/160123_I132_FCH3YHMBBXX_L4_OYSzenG1AAD96FAAPEI-109_1.fq.gz \\\n",
    "-InFq2 /data/oly_gbs_raw/160123_I132_FCH3YHMBBXX_L4_OYSzenG1AAD96FAAPEI-109_2.fq.gz \\\n",
    "-Index /gitrepos/paper_oly_gbs/data/index.lst \\\n",
    "-Flag /gitrepos/paper_oly_gbs/data/enzyme.txt \\\n",
    "-MisMatch \\\n",
    "-OutDir /data/oly_gbs_raw/split/"
   ]
  },
  {
   "cell_type": "code",
   "execution_count": 6,
   "metadata": {
    "collapsed": false
   },
   "outputs": [
    {
     "name": "stdout",
     "output_type": "stream",
     "text": [
      "/gitrepos/Reseqtools/iTools_Code\n"
     ]
    }
   ],
   "source": [
    "cd /gitrepos/Reseqtools/iTools_Code/"
   ]
  },
  {
   "cell_type": "code",
   "execution_count": 7,
   "metadata": {
    "collapsed": false
   },
   "outputs": [
    {
     "name": "stderr",
     "output_type": "stream",
     "text": [
      "\n",
      "real\t984m39.534s\n",
      "user\t799m44.020s\n",
      "sys\t151m6.100s\n"
     ]
    }
   ],
   "source": [
    "%%bash\n",
    "time ./iTools Fqtools splitpool \\\n",
    "-InFq1 /data/oly_gbs_raw/160123_I132_FCH3YHMBBXX_L4_OYSzenG1AAD96FAAPEI-109_1.fq.gz \\\n",
    "-InFq2 /data/oly_gbs_raw/160123_I132_FCH3YHMBBXX_L4_OYSzenG1AAD96FAAPEI-109_2.fq.gz \\\n",
    "-Index /gitrepos/paper_oly_gbs/data/index.lst \\\n",
    "-Flag /gitrepos/paper_oly_gbs/data/enzyme.txt \\\n",
    "-MisMatch \\\n",
    "-OutDir /data/oly_gbs_raw/split/"
   ]
  },
  {
   "cell_type": "code",
   "execution_count": 8,
   "metadata": {
    "collapsed": false
   },
   "outputs": [
    {
     "name": "stderr",
     "output_type": "stream",
     "text": [
      "\n",
      "real\t984m28.356s\n",
      "user\t797m9.610s\n",
      "sys\t153m32.850s\n"
     ]
    }
   ],
   "source": [
    "%%bash\n",
    "time ./iTools Fqtools splitpool \\\n",
    "-InFq1 /data/oly_gbs_raw/160123_I132_FCH3YHMBBXX_L4_OYSzenG1AAD96FAAPEI-109_1.fq.gz \\\n",
    "-InFq2 /data/oly_gbs_raw/160123_I132_FCH3YHMBBXX_L4_OYSzenG1AAD96FAAPEI-109_2.fq.gz \\\n",
    "-Index /gitrepos/paper_oly_gbs/data/index.lst \\\n",
    "-Flag /gitrepos/paper_oly_gbs/data/enzyme.txt \\\n",
    "-MisMatch \\\n",
    "-OutDir /data/oly_gbs_raw/split2/"
   ]
  },
  {
   "cell_type": "code",
   "execution_count": null,
   "metadata": {
    "collapsed": true
   },
   "outputs": [],
   "source": []
  }
 ],
 "metadata": {
  "anaconda-cloud": {},
  "kernelspec": {
   "display_name": "Python [default]",
   "language": "python",
   "name": "python2"
  },
  "language_info": {
   "codemirror_mode": {
    "name": "ipython",
    "version": 2
   },
   "file_extension": ".py",
   "mimetype": "text/x-python",
   "name": "python",
   "nbconvert_exporter": "python",
   "pygments_lexer": "ipython2",
   "version": "2.7.12"
  }
 },
 "nbformat": 4,
 "nbformat_minor": 1
}
