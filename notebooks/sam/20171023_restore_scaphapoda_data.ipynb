{
 "cells": [
  {
   "cell_type": "markdown",
   "metadata": {},
   "source": [
    "Installed ocamlfuse for mounting Google Drive, per the nice [guide provided here.](http://www.omgubuntu.co.uk/2017/04/mount-google-drive-ocamlfuse-linux)"
   ]
  },
  {
   "cell_type": "code",
   "execution_count": 1,
   "metadata": {},
   "outputs": [
    {
     "name": "stderr",
     "output_type": "stream",
     "text": [
      "bash: line 1: syntax error near unexpected token `('\n",
      "bash: line 1: `host_name=%(hostname)'\n"
     ]
    }
   ],
   "source": [
    "%%bash\n",
    "host_name=%(hostname)\n",
    "echo \"TODAY'S DATE\"\n",
    "date\n",
    "echo \"------------\"\n",
    "echo \"\"\n",
    "echo \"HOSTNAME: $host_name\"\"\n",
    "echo \"\"\n",
    "echo \"------------\"\n",
    "echo \"Computer Specs:\"\n",
    "echo \"\"\n",
    "lscpu\n",
    "echo \"\"\n",
    "echo \"------------\"\n",
    "echo \"\"\n",
    "echo \"Memory Specs\"\n",
    "echo \"\"\n",
    "free -mh"
   ]
  },
  {
   "cell_type": "code",
   "execution_count": 2,
   "metadata": {},
   "outputs": [
    {
     "name": "stdout",
     "output_type": "stream",
     "text": [
      "TODAY'S DATE\n",
      "Mon Oct 23 09:01:50 PDT 2017\n",
      "------------\n",
      "\n"
     ]
    },
    {
     "name": "stderr",
     "output_type": "stream",
     "text": [
      "bash: line 16: unexpected EOF while looking for matching `\"'\n",
      "bash: line 18: syntax error: unexpected end of file\n"
     ]
    }
   ],
   "source": [
    "%%bash\n",
    "host_name=$(hostname)\n",
    "echo \"TODAY'S DATE\"\n",
    "date\n",
    "echo \"------------\"\n",
    "echo \"\"\n",
    "echo \"HOSTNAME: $host_name\"\"\n",
    "echo \"\"\n",
    "echo \"------------\"\n",
    "echo \"Computer Specs:\"\n",
    "echo \"\"\n",
    "lscpu\n",
    "echo \"\"\n",
    "echo \"------------\"\n",
    "echo \"\"\n",
    "echo \"Memory Specs\"\n",
    "echo \"\"\n",
    "free -mh"
   ]
  },
  {
   "cell_type": "code",
   "execution_count": 3,
   "metadata": {},
   "outputs": [
    {
     "name": "stdout",
     "output_type": "stream",
     "text": [
      "swoose\n",
      "Architecture:          x86_64\n",
      "CPU op-mode(s):        32-bit, 64-bit\n",
      "Byte Order:            Little Endian\n",
      "CPU(s):                24\n",
      "On-line CPU(s) list:   0-23\n",
      "Thread(s) per core:    2\n",
      "Core(s) per socket:    6\n",
      "Socket(s):             2\n",
      "NUMA node(s):          1\n",
      "Vendor ID:             GenuineIntel\n",
      "CPU family:            6\n",
      "Model:                 44\n",
      "Model name:            Intel(R) Xeon(R) CPU           X5670  @ 2.93GHz\n",
      "Stepping:              2\n",
      "CPU MHz:               2925.850\n",
      "BogoMIPS:              5851.96\n",
      "Virtualization:        VT-x\n",
      "L1d cache:             32K\n",
      "L1i cache:             32K\n",
      "L2 cache:              256K\n",
      "L3 cache:              12288K\n",
      "NUMA node0 CPU(s):     0-23\n",
      "Flags:                 fpu vme de pse tsc msr pae mce cx8 apic sep mtrr pge mca cmov pat pse36 clflush dts acpi mmx fxsr sse sse2 ss ht tm pbe syscall nx pdpe1gb rdtscp lm constant_tsc arch_perfmon pebs bts rep_good nopl xtopology nonstop_tsc aperfmperf pni pclmulqdq dtes64 monitor ds_cpl vmx smx est tm2 ssse3 cx16 xtpr pdcm pcid dca sse4_1 sse4_2 popcnt aes lahf_lm epb tpr_shadow vnmi flexpriority ept vpid dtherm ida arat\n",
      "              total        used        free      shared  buff/cache   available\n",
      "Mem:            70G        6.2G         15G        256M         49G         63G\n",
      "Swap:          4.7G        1.1G        3.6G\n"
     ]
    }
   ],
   "source": [
    "%%bash\n",
    "hostname\n",
    "lscpu\n",
    "free -mh"
   ]
  },
  {
   "cell_type": "code",
   "execution_count": 4,
   "metadata": {},
   "outputs": [
    {
     "name": "stdout",
     "output_type": "stream",
     "text": [
      "total 24\n",
      "drwxrwxr-x 2 sam sam 4096 Dec 31  1969 eagle_Archive\n",
      "drwxrwxr-x 2 sam sam 4096 Dec 31  1969 eagle_Backup\n",
      "drwxrwxr-x 2 sam sam 4096 Dec 31  1969 eagle_homes\n",
      "drwxrwxr-x 2 sam sam 4096 Dec 31  1969 eagle_photo\n",
      "drwxrwxr-x 2 sam sam 4096 Dec 31  1969 eagle_web\n",
      "drwxrwxr-x 2 sam sam 4096 Mar 18  2017 owl_web\n"
     ]
    }
   ],
   "source": [
    "%%bash\n",
    "ls -l /home/sam/uw_drive/"
   ]
  },
  {
   "cell_type": "code",
   "execution_count": 5,
   "metadata": {},
   "outputs": [
    {
     "name": "stdout",
     "output_type": "stream",
     "text": [
      "Athaliana\n",
      "btea\n",
      "cicese\n",
      "dlf\n",
      "eimd\n",
      "fish546\n",
      "generosa\n",
      "halfshell\n",
      "index.html\n",
      "index.php\n",
      "lilmax\n",
      "nightingales\n",
      "O_lurida_genome_assemblies_BGI\n",
      "P_generosa_genome_assemblies_BGI\n",
      "phainopepla\n",
      "porites\n",
      "sam\n",
      "scaphapoda\n",
      "spartina\n",
      "symbiodinium\n",
      "testing\n",
      "trochophora\n",
      "web_images\n",
      "wetgenes\n",
      "whale\n"
     ]
    }
   ],
   "source": [
    "%%bash\n",
    "ls /mnt/owl/"
   ]
  },
  {
   "cell_type": "code",
   "execution_count": 6,
   "metadata": {},
   "outputs": [
    {
     "name": "stderr",
     "output_type": "stream",
     "text": [
      "cp: cannot create directory '/mnt/owl/scaphapoda/Sean/Oly_Platanus_Metassemble_output': Permission denied\n",
      "cp: cannot create directory '/mnt/owl/scaphapoda/Sean/untitled folder': Permission denied\n",
      "cp: cannot create directory '/mnt/owl/scaphapoda/Sean/Oly_Platanus_Assembly_Kmer-22': Permission denied\n",
      "cp: cannot create directory '/mnt/owl/scaphapoda/Sean/Oly_Canu_Output': Permission denied\n",
      "cp: cannot create directory '/mnt/owl/scaphapoda/Sean/untitled folder (38095d93)': Permission denied\n",
      "cp: cannot create directory '/mnt/owl/scaphapoda/Sean/untitled folder 2': Permission denied\n",
      "cp: cannot create directory '/mnt/owl/scaphapoda/Sean/Oly_Redundans_Output_Try_2': Permission denied\n",
      "cp: cannot create directory '/mnt/owl/scaphapoda/Sean/untitled folder (9762e576)': Permission denied\n",
      "cp: cannot create directory '/mnt/owl/scaphapoda/Sean/C_virginica': Permission denied\n",
      "cp: cannot create directory '/mnt/owl/scaphapoda/Sean/Untitled Folder': Permission denied\n",
      "cp: cannot create regular file '/mnt/owl/scaphapoda/Sean/scaffolds.longreads.5.fa.tsv': Permission denied\n",
      "cp: cannot create regular file '/mnt/owl/scaphapoda/Sean/scaffolds.longreads.4.fa': Permission denied\n",
      "cp: cannot create regular file '/mnt/owl/scaphapoda/Sean/scaffolds.longreads.5.fa.fai': Permission denied\n",
      "cp: cannot create regular file '/mnt/owl/scaphapoda/Sean/scaffolds.longreads.5.fa': Permission denied\n",
      "cp: cannot create regular file '/mnt/owl/scaphapoda/Sean/scaffolds.longreads.4.fa.tsv': Permission denied\n",
      "cp: cannot create regular file '/mnt/owl/scaphapoda/Sean/scaffolds.longreads.4.fa.fai': Permission denied\n",
      "cp: cannot create regular file '/mnt/owl/scaphapoda/Sean/scaffolds.longreads.3.fa.tsv': Permission denied\n",
      "cp: cannot create regular file '/mnt/owl/scaphapoda/Sean/scaffolds.longreads.3.fa.fai': Permission denied\n",
      "cp: cannot create regular file '/mnt/owl/scaphapoda/Sean/scaffolds.longreads.3.fa': Permission denied\n",
      "cp: cannot create regular file '/mnt/owl/scaphapoda/Sean/scaffolds.longreads.1.fa': Permission denied\n",
      "cp: cannot create regular file '/mnt/owl/scaphapoda/Sean/scaffolds.longreads.2.fa.tsv': Permission denied\n",
      "cp: cannot create regular file '/mnt/owl/scaphapoda/Sean/scaffolds.longreads.2.fa.fai': Permission denied\n",
      "cp: cannot create regular file '/mnt/owl/scaphapoda/Sean/scaffolds.longreads.2.fa': Permission denied\n",
      "cp: cannot create regular file '/mnt/owl/scaphapoda/Sean/scaffolds.longreads.1.fa.tsv': Permission denied\n",
      "cp: cannot create regular file '/mnt/owl/scaphapoda/Sean/scaffolds.longreads.1.fa.fai': Permission denied\n",
      "cp: cannot create regular file '/mnt/owl/scaphapoda/Sean/scaffolds.longreads.10.fa.tsv': Permission denied\n",
      "cp: cannot create regular file '/mnt/owl/scaphapoda/Sean/scaffolds.longreads.10.fa.fai': Permission denied\n",
      "cp: cannot create regular file '/mnt/owl/scaphapoda/Sean/scaffolds.longreads.10.fa': Permission denied\n",
      "cp: cannot create regular file '/mnt/owl/scaphapoda/Sean/contigs.reduced.fa.hist.png': Permission denied\n",
      "cp: cannot create regular file '/mnt/owl/scaphapoda/Sean/contigs.reduced.fa': Permission denied\n",
      "cp: cannot create regular file '/mnt/owl/scaphapoda/Sean/contigs.reduced.fa.hetero.tsv': Permission denied\n",
      "cp: cannot create regular file '/mnt/owl/scaphapoda/Sean/contigs.reduced.fa.fai': Permission denied\n",
      "cp: cannot create regular file '/mnt/owl/scaphapoda/Sean/contigs.fa': Permission denied\n",
      "cp: cannot create regular file '/mnt/owl/scaphapoda/Sean/contigs.fa.fai': Permission denied\n",
      "cp: cannot create regular file '/mnt/owl/scaphapoda/Sean/scaffolds.longreads.6.fa': Permission denied\n",
      "cp: cannot create regular file '/mnt/owl/scaphapoda/Sean/scaffolds.longreads.7.fa.tsv': Permission denied\n",
      "cp: cannot create regular file '/mnt/owl/scaphapoda/Sean/scaffolds.longreads.fa': Permission denied\n",
      "cp: cannot create regular file '/mnt/owl/scaphapoda/Sean/scaffolds.longreads.6.fa.tsv': Permission denied\n",
      "cp: cannot create regular file '/mnt/owl/scaphapoda/Sean/scaffolds.longreads.fa.fai': Permission denied\n",
      "cp: cannot create regular file '/mnt/owl/scaphapoda/Sean/scaffolds.longreads.9.fa.tsv': Permission denied\n",
      "cp: cannot create regular file '/mnt/owl/scaphapoda/Sean/scaffolds.longreads.6.fa.fai': Permission denied\n",
      "cp: cannot create regular file '/mnt/owl/scaphapoda/Sean/scaffolds.reduced.fa': Permission denied\n",
      "cp: cannot create regular file '/mnt/owl/scaphapoda/Sean/scaffolds.longreads.8.fa.tsv': Permission denied\n",
      "cp: cannot create regular file '/mnt/owl/scaphapoda/Sean/scaffolds.reduced.fa.hist.png': Permission denied\n",
      "cp: cannot create regular file '/mnt/owl/scaphapoda/Sean/scaffolds.longreads.8.fa.fai': Permission denied\n",
      "cp: cannot create regular file '/mnt/owl/scaphapoda/Sean/scaffolds.reduced.fa.hetero.tsv': Permission denied\n",
      "cp: cannot create regular file '/mnt/owl/scaphapoda/Sean/scaffolds.longreads.7.fa.fai': Permission denied\n",
      "cp: cannot create regular file '/mnt/owl/scaphapoda/Sean/scaffolds.reduced.fa.fai': Permission denied\n",
      "cp: cannot create regular file '/mnt/owl/scaphapoda/Sean/scaffolds.longreads.9.fa': Permission denied\n",
      "cp: cannot create regular file '/mnt/owl/scaphapoda/Sean/scaffolds.longreads.9.fa.fai': Permission denied\n",
      "cp: cannot create regular file '/mnt/owl/scaphapoda/Sean/scaffolds.longreads.8.fa': Permission denied\n",
      "cp: cannot create regular file '/mnt/owl/scaphapoda/Sean/scaffolds.longreads.7.fa': Permission denied\n",
      "cp: cannot create directory '/mnt/owl/scaphapoda/Sean/Oly_Redundans_Output': Permission denied\n",
      "cp: cannot create directory '/mnt/owl/scaphapoda/Sean/Oly_Illumina_Platanus_Assembly': Permission denied\n",
      "cp: cannot create directory '/mnt/owl/scaphapoda/Sean/amb-un-hardtrimmed-ACAGTG': Permission denied\n",
      "cp: cannot create directory '/mnt/owl/scaphapoda/Sean/HardTrimmed_Virginica_Bismark_Output': Permission denied\n",
      "cp: cannot create directory '/mnt/owl/scaphapoda/Sean/Non-Directional-ACAGTG': Permission denied\n",
      "cp: cannot create directory '/mnt/owl/scaphapoda/Sean/Andrew-Trinity-intermediates': Permission denied\n",
      "cp: cannot create directory '/mnt/owl/scaphapoda/Sean/Bismark_seed_length_tests_Cvirginica': Permission denied\n",
      "cp: cannot create directory '/mnt/owl/scaphapoda/Sean/Untitled Folder (6de07f7b)': Permission denied\n",
      "cp: cannot create directory '/mnt/owl/scaphapoda/Sean/Andrew_Trinity_Blast_output': Permission denied\n",
      "cp: cannot create directory '/mnt/owl/scaphapoda/Sean/CodOutput': Permission denied\n",
      "cp: cannot create directory '/mnt/owl/scaphapoda/Sean/Marcos_Stranded_Dammit_output': Permission denied\n",
      "cp: cannot create directory '/mnt/owl/scaphapoda/Sean/SRA_Downloads': Permission denied\n",
      "cp: cannot create directory '/mnt/owl/scaphapoda/Sean/C_virginica_Methylation_analysis_w_ambig_unmapped': Permission denied\n",
      "cp: cannot create directory '/mnt/owl/scaphapoda/Sean/Oly_Gap_Filling_Results': Permission denied\n",
      "cp: cannot create directory '/mnt/owl/scaphapoda/Sean/C_Virginica_Methylation_Analysis': Permission denied\n",
      "cp: cannot create directory '/mnt/owl/scaphapoda/Sean/VirginicaGenome': Permission denied\n",
      "cp: cannot create regular file '/mnt/owl/scaphapoda/Sean/cVirginicaMeth.Rmd': Permission denied\n",
      "cp: cannot create directory '/mnt/owl/scaphapoda/Sean/Spanjer_CohoReads': Permission denied\n",
      "cp: cannot create directory '/mnt/owl/scaphapoda/Sean/Trinity-Test-Output': Permission denied\n",
      "cp: cannot create directory '/mnt/owl/scaphapoda/Sean/Geoduck_Analysis': Permission denied\n",
      "cp: cannot create directory '/mnt/owl/scaphapoda/Sean/Rhonda-2016-Oyster-Intermediates': Permission denied\n",
      "cp: cannot create directory '/mnt/owl/scaphapoda/Sean/pecanlogs': Permission denied\n",
      "cp: cannot create directory '/mnt/owl/scaphapoda/Sean/test-blib': Permission denied\n",
      "cp: cannot create regular file '/mnt/owl/scaphapoda/Sean/IMG_1921.JPG': Permission denied\n",
      "cp: cannot create directory '/mnt/owl/scaphapoda/Sean/MethylExtract_output': Permission denied\n",
      "cp: cannot create directory '/mnt/owl/scaphapoda/Sean/MethylExtractOut': Permission denied\n",
      "cp: cannot create directory '/mnt/owl/scaphapoda/Sean/Rmd': Permission denied\n",
      "cp: cannot create directory '/mnt/owl/scaphapoda/Sean/geoduck-trimmed-data': Permission denied\n",
      "cp: cannot create regular file '/mnt/owl/scaphapoda/Sean/Rplots-trimmed.pdf': Permission denied\n",
      "cp: cannot create regular file '/mnt/owl/scaphapoda/Sean/Rplots.pdf': Permission denied\n",
      "cp: cannot create directory '/mnt/owl/scaphapoda/Sean/geoduck-untrimmed-data': Permission denied\n",
      "cp: cannot create regular file '/mnt/owl/scaphapoda/Sean/Rplots2.pdf': Permission denied\n",
      "cp: cannot create regular file '/mnt/owl/scaphapoda/Sean/methylkit.R': Permission denied\n",
      "cp: cannot create directory '/mnt/owl/scaphapoda/Sean/ZR1394_BSMap_output': Permission denied\n",
      "cp: cannot create directory '/mnt/owl/scaphapoda/Sean/Oly_Bismark_Methylation_Output': Permission denied\n",
      "cp: cannot create directory '/mnt/owl/scaphapoda/Sean/Oly_Transposon': Permission denied\n",
      "cp: cannot create directory '/mnt/owl/scaphapoda/Sean/Oly Transposon': Permission denied\n",
      "cp: preserving permissions for '/mnt/owl/scaphapoda/Sean': Operation not permitted\n",
      "\n",
      "real\t0m1.148s\n",
      "user\t0m0.000s\n",
      "sys\t0m0.016s\n"
     ]
    }
   ],
   "source": [
    "%%bash\n",
    "time cp -R /home/sam/uw_drive/owl_web/scaphapoda/Sean/ \\\n",
    "/mnt/owl/scaphapoda/"
   ]
  },
  {
   "cell_type": "code",
   "execution_count": 7,
   "metadata": {},
   "outputs": [
    {
     "name": "stderr",
     "output_type": "stream",
     "text": [
      "sudo: no tty present and no askpass program specified\n",
      "\n",
      "real\t0m0.004s\n",
      "user\t0m0.000s\n",
      "sys\t0m0.004s\n"
     ]
    }
   ],
   "source": [
    "%%bash\n",
    "time sudo cp -R /home/sam/uw_drive/owl_web/scaphapoda/Sean/ \\\n",
    "/mnt/owl/scaphapoda/"
   ]
  },
  {
   "cell_type": "code",
   "execution_count": null,
   "metadata": {},
   "outputs": [],
   "source": []
  }
 ],
 "metadata": {
  "kernelspec": {
   "display_name": "Python 3",
   "language": "python",
   "name": "python3"
  },
  "language_info": {
   "codemirror_mode": {
    "name": "ipython",
    "version": 3
   },
   "file_extension": ".py",
   "mimetype": "text/x-python",
   "name": "python",
   "nbconvert_exporter": "python",
   "pygments_lexer": "ipython3",
   "version": "3.5.2"
  }
 },
 "nbformat": 4,
 "nbformat_minor": 2
}
