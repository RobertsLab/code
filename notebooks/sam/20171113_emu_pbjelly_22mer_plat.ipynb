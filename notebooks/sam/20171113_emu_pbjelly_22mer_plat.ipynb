{
 "cells": [
  {
   "cell_type": "code",
   "execution_count": 1,
   "metadata": {},
   "outputs": [
    {
     "name": "stdout",
     "output_type": "stream",
     "text": [
      "TODAY'S DATE\n",
      "Mon Nov 13 15:45:47 PST 2017\n",
      "------------\n",
      "\n",
      "Distributor ID:\tUbuntu\n",
      "Description:\tUbuntu 16.04.3 LTS\n",
      "Release:\t16.04\n",
      "Codename:\txenial\n",
      "\n",
      "------------\n",
      "HOSTNAME:  hostname\n",
      "\n",
      "------------\n",
      "Computer Specs:\n",
      "\n",
      "Architecture:          x86_64\n",
      "CPU op-mode(s):        32-bit, 64-bit\n",
      "Byte Order:            Little Endian\n",
      "CPU(s):                16\n",
      "On-line CPU(s) list:   0-15\n",
      "Thread(s) per core:    2\n",
      "Core(s) per socket:    4\n",
      "Socket(s):             2\n",
      "NUMA node(s):          1\n",
      "Vendor ID:             GenuineIntel\n",
      "CPU family:            6\n",
      "Model:                 26\n",
      "Model name:            Intel(R) Xeon(R) CPU           E5520  @ 2.27GHz\n",
      "Stepping:              5\n",
      "CPU MHz:               2394.000\n",
      "CPU max MHz:           2394.0000\n",
      "CPU min MHz:           1596.0000\n",
      "BogoMIPS:              4521.80\n",
      "Virtualization:        VT-x\n",
      "L1d cache:             32K\n",
      "L1i cache:             32K\n",
      "L2 cache:              256K\n",
      "L3 cache:              8192K\n",
      "NUMA node0 CPU(s):     0-15\n",
      "Flags:                 fpu vme de pse tsc msr pae mce cx8 apic sep mtrr pge mca cmov pat pse36 clflush dts acpi mmx fxsr sse sse2 ss ht tm pbe syscall nx rdtscp lm constant_tsc arch_perfmon pebs bts nopl xtopology nonstop_tsc aperfmperf pni dtes64 monitor ds_cpl vmx est tm2 ssse3 cx16 xtpr pdcm dca sse4_1 sse4_2 popcnt lahf_lm tpr_shadow vnmi flexpriority ept vpid dtherm ida\n",
      "\n",
      "------------\n",
      "\n",
      "Memory Specs\n",
      "\n",
      "              total        used        free      shared  buff/cache   available\n",
      "Mem:            47G        9.1G         11G        554M         26G         36G\n",
      "Swap:           11G        1.2G         10G\n"
     ]
    },
    {
     "name": "stderr",
     "output_type": "stream",
     "text": [
      "No LSB modules are available.\n"
     ]
    }
   ],
   "source": [
    "%%bash\n",
    "echo \"TODAY'S DATE\"\n",
    "date\n",
    "echo \"------------\"\n",
    "echo \"\"\n",
    "lsb_release -a\n",
    "echo \"\"\n",
    "echo \"------------\"\n",
    "echo \"HOSTNAME: \" hostname\n",
    "echo \"\"\n",
    "echo \"------------\"\n",
    "echo \"Computer Specs:\"\n",
    "echo \"\"\n",
    "lscpu\n",
    "echo \"\"\n",
    "echo \"------------\"\n",
    "echo \"\"\n",
    "echo \"Memory Specs\"\n",
    "echo \"\"\n",
    "free -mh"
   ]
  },
  {
   "cell_type": "code",
   "execution_count": 2,
   "metadata": {
    "collapsed": true
   },
   "outputs": [],
   "source": [
    "%%bash\n",
    "$hostname"
   ]
  },
  {
   "cell_type": "code",
   "execution_count": 3,
   "metadata": {},
   "outputs": [
    {
     "name": "stdout",
     "output_type": "stream",
     "text": [
      "\n"
     ]
    }
   ],
   "source": [
    "%%bash\n",
    "echo $hostname"
   ]
  },
  {
   "cell_type": "code",
   "execution_count": 4,
   "metadata": {},
   "outputs": [
    {
     "name": "stdout",
     "output_type": "stream",
     "text": [
      "emu\n"
     ]
    }
   ],
   "source": [
    "%%bash\n",
    "hostname"
   ]
  },
  {
   "cell_type": "code",
   "execution_count": 5,
   "metadata": {},
   "outputs": [
    {
     "name": "stdout",
     "output_type": "stream",
     "text": [
      "/home/sam/data\n",
      "total 72G\n",
      "-rw-rw-r-- 1 sam sam 6.6G Oct 24 14:48 151114_I191_FCH3Y35BCXX_L1_wHAIPI023992-37_1.fq.gz\n",
      "-rw-rw-r-- 1 sam sam 6.9G Oct 24 14:49 151114_I191_FCH3Y35BCXX_L1_wHAIPI023992-37_2.fq.gz\n",
      "-rw-rw-r-- 1 sam sam 6.6G Oct 24 14:50 151114_I191_FCH3Y35BCXX_L2_wHAMPI023991-66_1.fq.gz\n",
      "-rw-rw-r-- 1 sam sam 6.8G Oct 24 14:52 151114_I191_FCH3Y35BCXX_L2_wHAMPI023991-66_2.fq.gz\n",
      "-rw-rw-r-- 1 sam sam 3.8G Oct 24 14:53 151118_I137_FCH3KNJBBXX_L5_wHAXPI023905-96_1.fq.gz\n",
      "-rw-rw-r-- 1 sam sam 4.0G Oct 24 14:54 151118_I137_FCH3KNJBBXX_L5_wHAXPI023905-96_2.fq.gz\n",
      "-rw-rw-r-- 1 sam sam 2.4G Oct 24 14:54 160103_I137_FCH3V5YBBXX_L3_WHOSTibkDCABDLAAPEI-62_1.fq.gz\n",
      "-rw-rw-r-- 1 sam sam 2.8G Oct 24 14:55 160103_I137_FCH3V5YBBXX_L3_WHOSTibkDCABDLAAPEI-62_2.fq.gz\n",
      "-rw-rw-r-- 1 sam sam 1.3G Oct 24 14:55 160103_I137_FCH3V5YBBXX_L3_WHOSTibkDCACDTAAPEI-75_1.fq.gz\n",
      "-rw-rw-r-- 1 sam sam 1.5G Oct 24 14:56 160103_I137_FCH3V5YBBXX_L3_WHOSTibkDCACDTAAPEI-75_2.fq.gz\n",
      "-rw-rw-r-- 1 sam sam 2.4G Oct 24 14:56 160103_I137_FCH3V5YBBXX_L4_WHOSTibkDCABDLAAPEI-62_1.fq.gz\n",
      "-rw-rw-r-- 1 sam sam 2.8G Oct 24 14:57 160103_I137_FCH3V5YBBXX_L4_WHOSTibkDCABDLAAPEI-62_2.fq.gz\n",
      "-rw-rw-r-- 1 sam sam 1.3G Oct 24 14:57 160103_I137_FCH3V5YBBXX_L4_WHOSTibkDCACDTAAPEI-75_1.fq.gz\n",
      "-rw-rw-r-- 1 sam sam 1.5G Oct 24 14:57 160103_I137_FCH3V5YBBXX_L4_WHOSTibkDCACDTAAPEI-75_2.fq.gz\n",
      "-rw-rw-r-- 1 sam sam 2.7G Oct 24 14:58 160103_I137_FCH3V5YBBXX_L5_WHOSTibkDCAADWAAPEI-74_1.fq.gz\n",
      "-rw-rw-r-- 1 sam sam 3.1G Oct 24 14:58 160103_I137_FCH3V5YBBXX_L5_WHOSTibkDCAADWAAPEI-74_2.fq.gz\n",
      "-rw-rw-r-- 1 sam sam 2.6G Oct 24 14:59 160103_I137_FCH3V5YBBXX_L6_WHOSTibkDCAADWAAPEI-74_1.fq.gz\n",
      "-rw-rw-r-- 1 sam sam 3.0G Oct 24 15:00 160103_I137_FCH3V5YBBXX_L6_WHOSTibkDCAADWAAPEI-74_2.fq.gz\n",
      "-rw-rw-r-- 1 sam sam 4.2K Nov 13 15:46 2017113_emu_pbjelly.ipynb\n",
      "-rw-rw-r-- 1 sam sam 167M Oct 24 15:02 m130619_081336_42134_c100525122550000001823081109281326_s1_p0.fastq.gz\n",
      "-rwxrwxr-x 1 sam sam 1.2G Oct 24 15:02 m170211_224036_42134_c101073082550000001823236402101737_s1_X0_filtered_subreads.fastq.gz\n",
      "-rwxrwxr-x 1 sam sam 1.3G Oct 24 15:02 m170301_100013_42134_c101174162550000001823269408211761_s1_p0_filtered_subreads.fastq.gz\n",
      "-rwxrwxr-x 1 sam sam 1.2G Oct 24 15:02 m170301_162825_42134_c101174162550000001823269408211762_s1_p0_filtered_subreads.fastq.gz\n",
      "-rwxrwxr-x 1 sam sam 1.3G Oct 24 15:03 m170301_225711_42134_c101174162550000001823269408211763_s1_p0_filtered_subreads.fastq.gz\n",
      "-rwxrwxr-x 1 sam sam 1.3G Oct 24 15:03 m170308_163922_42134_c101174252550000001823269408211742_s1_p0_filtered_subreads.fastq.gz\n",
      "-rwxrwxr-x 1 sam sam 1.3G Oct 24 15:03 m170308_230815_42134_c101174252550000001823269408211743_s1_p0_filtered_subreads.fastq.gz\n",
      "-rwxrwxr-x 1 sam sam 869M Oct 24 15:04 m170315_001112_42134_c101169372550000001823273008151717_s1_p0_filtered_subreads.fastq.gz\n",
      "-rwxrwxr-x 1 sam sam 762M Oct 24 15:04 m170315_063041_42134_c101169382550000001823273008151700_s1_p0_filtered_subreads.fastq.gz\n",
      "-rwxrwxr-x 1 sam sam 691M Oct 24 15:04 m170315_124938_42134_c101169382550000001823273008151701_s1_p0_filtered_subreads.fastq.gz\n",
      "-rwxrwxr-x 1 sam sam 760M Oct 24 15:04 m170315_190851_42134_c101169382550000001823273008151702_s1_p0_filtered_subreads.fastq.gz\n"
     ]
    }
   ],
   "source": [
    "%%bash\n",
    "pwd\n",
    "ls -lh"
   ]
  },
  {
   "cell_type": "markdown",
   "metadata": {},
   "source": [
    "#### Decompress files, as required by PB Jelly"
   ]
  },
  {
   "cell_type": "code",
   "execution_count": 6,
   "metadata": {},
   "outputs": [
    {
     "name": "stderr",
     "output_type": "stream",
     "text": [
      "\n",
      "real\t7m44.597s\n",
      "user\t4m38.964s\n",
      "sys\t0m24.720s\n"
     ]
    }
   ],
   "source": [
    "%%bash\n",
    "time gunzip *s1_[pX0]*.gz"
   ]
  },
  {
   "cell_type": "code",
   "execution_count": 7,
   "metadata": {},
   "outputs": [
    {
     "name": "stdout",
     "output_type": "stream",
     "text": [
      "/home/sam/data\n",
      "total 86G\n",
      "-rw-rw-r-- 1 sam sam 6.6G Oct 24 14:48 151114_I191_FCH3Y35BCXX_L1_wHAIPI023992-37_1.fq.gz\n",
      "-rw-rw-r-- 1 sam sam 6.9G Oct 24 14:49 151114_I191_FCH3Y35BCXX_L1_wHAIPI023992-37_2.fq.gz\n",
      "-rw-rw-r-- 1 sam sam 6.6G Oct 24 14:50 151114_I191_FCH3Y35BCXX_L2_wHAMPI023991-66_1.fq.gz\n",
      "-rw-rw-r-- 1 sam sam 6.8G Oct 24 14:52 151114_I191_FCH3Y35BCXX_L2_wHAMPI023991-66_2.fq.gz\n",
      "-rw-rw-r-- 1 sam sam 3.8G Oct 24 14:53 151118_I137_FCH3KNJBBXX_L5_wHAXPI023905-96_1.fq.gz\n",
      "-rw-rw-r-- 1 sam sam 4.0G Oct 24 14:54 151118_I137_FCH3KNJBBXX_L5_wHAXPI023905-96_2.fq.gz\n",
      "-rw-rw-r-- 1 sam sam 2.4G Oct 24 14:54 160103_I137_FCH3V5YBBXX_L3_WHOSTibkDCABDLAAPEI-62_1.fq.gz\n",
      "-rw-rw-r-- 1 sam sam 2.8G Oct 24 14:55 160103_I137_FCH3V5YBBXX_L3_WHOSTibkDCABDLAAPEI-62_2.fq.gz\n",
      "-rw-rw-r-- 1 sam sam 1.3G Oct 24 14:55 160103_I137_FCH3V5YBBXX_L3_WHOSTibkDCACDTAAPEI-75_1.fq.gz\n",
      "-rw-rw-r-- 1 sam sam 1.5G Oct 24 14:56 160103_I137_FCH3V5YBBXX_L3_WHOSTibkDCACDTAAPEI-75_2.fq.gz\n",
      "-rw-rw-r-- 1 sam sam 2.4G Oct 24 14:56 160103_I137_FCH3V5YBBXX_L4_WHOSTibkDCABDLAAPEI-62_1.fq.gz\n",
      "-rw-rw-r-- 1 sam sam 2.8G Oct 24 14:57 160103_I137_FCH3V5YBBXX_L4_WHOSTibkDCABDLAAPEI-62_2.fq.gz\n",
      "-rw-rw-r-- 1 sam sam 1.3G Oct 24 14:57 160103_I137_FCH3V5YBBXX_L4_WHOSTibkDCACDTAAPEI-75_1.fq.gz\n",
      "-rw-rw-r-- 1 sam sam 1.5G Oct 24 14:57 160103_I137_FCH3V5YBBXX_L4_WHOSTibkDCACDTAAPEI-75_2.fq.gz\n",
      "-rw-rw-r-- 1 sam sam 2.7G Oct 24 14:58 160103_I137_FCH3V5YBBXX_L5_WHOSTibkDCAADWAAPEI-74_1.fq.gz\n",
      "-rw-rw-r-- 1 sam sam 3.1G Oct 24 14:58 160103_I137_FCH3V5YBBXX_L5_WHOSTibkDCAADWAAPEI-74_2.fq.gz\n",
      "-rw-rw-r-- 1 sam sam 2.6G Oct 24 14:59 160103_I137_FCH3V5YBBXX_L6_WHOSTibkDCAADWAAPEI-74_1.fq.gz\n",
      "-rw-rw-r-- 1 sam sam 3.0G Oct 24 15:00 160103_I137_FCH3V5YBBXX_L6_WHOSTibkDCAADWAAPEI-74_2.fq.gz\n",
      "-rw-rw-r-- 1 sam sam 8.1K Nov 13 15:50 2017113_emu_pbjelly.ipynb\n",
      "-rw-rw-r-- 1 sam sam 372M Oct 24 15:02 m130619_081336_42134_c100525122550000001823081109281326_s1_p0.fastq\n",
      "-rwxrwxr-x 1 sam sam 2.7G Oct 24 15:02 m170211_224036_42134_c101073082550000001823236402101737_s1_X0_filtered_subreads.fastq\n",
      "-rwxrwxr-x 1 sam sam 3.0G Oct 24 15:02 m170301_100013_42134_c101174162550000001823269408211761_s1_p0_filtered_subreads.fastq\n",
      "-rwxrwxr-x 1 sam sam 2.7G Oct 24 15:02 m170301_162825_42134_c101174162550000001823269408211762_s1_p0_filtered_subreads.fastq\n",
      "-rwxrwxr-x 1 sam sam 3.0G Oct 24 15:03 m170301_225711_42134_c101174162550000001823269408211763_s1_p0_filtered_subreads.fastq\n",
      "-rwxrwxr-x 1 sam sam 2.8G Oct 24 15:03 m170308_163922_42134_c101174252550000001823269408211742_s1_p0_filtered_subreads.fastq\n",
      "-rwxrwxr-x 1 sam sam 2.8G Oct 24 15:03 m170308_230815_42134_c101174252550000001823269408211743_s1_p0_filtered_subreads.fastq\n",
      "-rwxrwxr-x 1 sam sam 2.0G Oct 24 15:04 m170315_001112_42134_c101169372550000001823273008151717_s1_p0_filtered_subreads.fastq\n",
      "-rwxrwxr-x 1 sam sam 1.8G Oct 24 15:04 m170315_063041_42134_c101169382550000001823273008151700_s1_p0_filtered_subreads.fastq\n",
      "-rwxrwxr-x 1 sam sam 1.6G Oct 24 15:04 m170315_124938_42134_c101169382550000001823273008151701_s1_p0_filtered_subreads.fastq\n",
      "-rwxrwxr-x 1 sam sam 1.8G Oct 24 15:04 m170315_190851_42134_c101169382550000001823273008151702_s1_p0_filtered_subreads.fastq\n"
     ]
    }
   ],
   "source": [
    "%%bash\n",
    "pwd\n",
    "ls -lh"
   ]
  },
  {
   "cell_type": "markdown",
   "metadata": {},
   "source": [
    "#### Need reference assembly of Illumina data.\n",
    "\n",
    "Copy [Sean's Platanus assembly](https://genefish.wordpress.com/2017/06/02/oly-assembly-try-2-its-yuuuuuuge/) and rename to something more descriptive."
   ]
  },
  {
   "cell_type": "code",
   "execution_count": 8,
   "metadata": {},
   "outputs": [
    {
     "name": "stdout",
     "output_type": "stream",
     "text": [
      "-rw-rw-r-- 1 sam sam 1.9G Nov 13 16:04 oly_plat_22mer_sb_contig.fasta\n"
     ]
    },
    {
     "name": "stderr",
     "output_type": "stream",
     "text": [
      "\n",
      "real\t0m28.389s\n",
      "user\t0m0.008s\n",
      "sys\t0m2.160s\n"
     ]
    }
   ],
   "source": [
    "%%bash\n",
    "time cp /mnt/owl/scaphapoda/Sean/Oly_Platanus_Assembly_Kmer-22/Oly_Out__contig.fa oly_plat_22mer_sb_contig.fasta\n",
    "ls -lh oly_plat_22mer_sb_contig.fasta"
   ]
  },
  {
   "cell_type": "code",
   "execution_count": 9,
   "metadata": {},
   "outputs": [
    {
     "name": "stderr",
     "output_type": "stream",
     "text": [
      "mkdir: cannot create directory ‘/home/sam/analyses/20171113_oly_pbjelly’: No such file or directory\n"
     ]
    }
   ],
   "source": [
    "%%bash\n",
    "mkdir /home/sam/analyses/20171113_oly_pbjelly"
   ]
  },
  {
   "cell_type": "code",
   "execution_count": 10,
   "metadata": {
    "collapsed": true
   },
   "outputs": [],
   "source": [
    "%%bash\n",
    "mkdir /home/sam/analyses/\n",
    "mkdir /home/sam/analyses/20171113_oly_pbjelly"
   ]
  },
  {
   "cell_type": "code",
   "execution_count": 11,
   "metadata": {
    "collapsed": true
   },
   "outputs": [],
   "source": [
    "%%bash\n",
    "ls /home/sam/analyses/20171113_oly_pbjelly/"
   ]
  },
  {
   "cell_type": "markdown",
   "metadata": {},
   "source": [
    "#### View the Protocol.xml file tha PB Jelly uses to run."
   ]
  },
  {
   "cell_type": "code",
   "execution_count": 12,
   "metadata": {},
   "outputs": [
    {
     "name": "stdout",
     "output_type": "stream",
     "text": [
      "<jellyProtocol>\r\n",
      "    <reference>/home/sam/data/oly_plat_22mer_sb_contig.fasta</reference>  \r\n",
      "    <outputDir>/home/sam/analyses/20171113_oly_pbjelly</outputDir>\r\n",
      "    <blasr>-minMatch 8 -minPctIdentity 70 -bestn 1 -nCandidates 20 -maxScore -500 -nproc 48 -noSplitSubreads</blasr>\r\n",
      "    <input baseDir=\"/home/sam/data/\">\r\n",
      "        <job>m130619_081336_42134_c100525122550000001823081109281326_s1_p0.fastq</job>\r\n",
      "        <job>m170211_224036_42134_c101073082550000001823236402101737_s1_X0_filtered_subreads.fastq</job>\r\n",
      "\t<job>m170301_100013_42134_c101174162550000001823269408211761_s1_p0_filtered_subreads.fastq</job>\r\n",
      "\t<job>m170301_162825_42134_c101174162550000001823269408211762_s1_p0_filtered_subreads.fastq</job>\r\n",
      "\t<job>m170301_225711_42134_c101174162550000001823269408211763_s1_p0_filtered_subreads.fastq</job>\r\n",
      "\t<job>m170308_163922_42134_c101174252550000001823269408211742_s1_p0_filtered_subreads.fastq</job>\r\n",
      "\t<job>m170308_230815_42134_c101174252550000001823269408211743_s1_p0_filtered_subreads.fastq</job>\r\n",
      "\t<job>m170315_001112_42134_c101169372550000001823273008151717_s1_p0_filtered_subreads.fastq</job>\r\n",
      "\t<job>m170315_063041_42134_c101169382550000001823273008151700_s1_p0_filtered_subreads.fastq</job>\r\n",
      "\t<job>m170315_124938_42134_c101169382550000001823273008151701_s1_p0_filtered_subreads.fastq</job>\r\n",
      "\t<job>m170315_190851_42134_c101169382550000001823273008151702_s1_p0_filtered_subreads.fastq</job>\r\n",
      "    </input>\r\n",
      "</jellyProtocol>\r\n"
     ]
    }
   ],
   "source": [
    "cat /home/sam/analyses/20171113_oly_pbjelly/Protocol.xml"
   ]
  },
  {
   "cell_type": "markdown",
   "metadata": {},
   "source": [
    "#### Source (i.e. load) the PB Jelly setup script."
   ]
  },
  {
   "cell_type": "code",
   "execution_count": 13,
   "metadata": {
    "collapsed": true
   },
   "outputs": [],
   "source": [
    "%%bash\n",
    "source /home/shared/PBSuite_15.8.24/setup.sh"
   ]
  },
  {
   "cell_type": "markdown",
   "metadata": {},
   "source": [
    "#### Run PB Jelly.\n",
    "\n",
    "##### PB Jelly has 5 steps that must be run sequentially:\n",
    "- setup\n",
    "- mapping\n",
    "- support\n",
    "- extraction\n",
    "- assembly\n",
    "- output"
   ]
  },
  {
   "cell_type": "code",
   "execution_count": 14,
   "metadata": {},
   "outputs": [
    {
     "name": "stderr",
     "output_type": "stream",
     "text": [
      "Traceback (most recent call last):\n",
      "  File \"/home/shared/PBSuite_15.8.24/bin/Jelly.py\", line 15, in <module>\n",
      "    from pbsuite.jelly import Stages\n",
      "ImportError: No module named pbsuite.jelly\n",
      "Traceback (most recent call last):\n",
      "  File \"/home/shared/PBSuite_15.8.24/bin/Jelly.py\", line 15, in <module>\n",
      "    from pbsuite.jelly import Stages\n",
      "ImportError: No module named pbsuite.jelly\n",
      "Traceback (most recent call last):\n",
      "  File \"/home/shared/PBSuite_15.8.24/bin/Jelly.py\", line 15, in <module>\n",
      "    from pbsuite.jelly import Stages\n",
      "ImportError: No module named pbsuite.jelly\n",
      "Traceback (most recent call last):\n",
      "  File \"/home/shared/PBSuite_15.8.24/bin/Jelly.py\", line 15, in <module>\n",
      "    from pbsuite.jelly import Stages\n",
      "ImportError: No module named pbsuite.jelly\n",
      "Traceback (most recent call last):\n",
      "  File \"/home/shared/PBSuite_15.8.24/bin/Jelly.py\", line 15, in <module>\n",
      "    from pbsuite.jelly import Stages\n",
      "ImportError: No module named pbsuite.jelly\n",
      "Traceback (most recent call last):\n",
      "  File \"/home/shared/PBSuite_15.8.24/bin/Jelly.py\", line 15, in <module>\n",
      "    from pbsuite.jelly import Stages\n",
      "ImportError: No module named pbsuite.jelly\n"
     ]
    }
   ],
   "source": [
    "%%bash\n",
    "python /home/shared/PBSuite_15.8.24/bin/Jelly.py setup /home/sam/analyses/20171113_oly_pbjelly/Protocol.xml\n",
    "python /home/shared/PBSuite_15.8.24/bin/Jelly.py mapping /home/sam/analyses/20171113_oly_pbjelly/Protocol.xml\n",
    "python /home/shared/PBSuite_15.8.24/bin/Jelly.py support /home/sam/analyses/20171113_oly_pbjelly/Protocol.xml\n",
    "python /home/shared/PBSuite_15.8.24/bin/Jelly.py extraction /home/sam/analyses/20171113_oly_pbjelly/Protocol.xml\n",
    "python /home/shared/PBSuite_15.8.24/bin/Jelly.py assembly /home/sam/analyses/20171113_oly_pbjelly/Protocol.xml\n",
    "python /home/shared/PBSuite_15.8.24/bin/Jelly.py output /home/sam/analyses/20171113_oly_pbjelly/Protocol.xml"
   ]
  },
  {
   "cell_type": "markdown",
   "metadata": {},
   "source": [
    "Hmmm, I think the error is related to sourcing the setup.sh file. I think I might need to do it in the same cell as the execution commands..."
   ]
  },
  {
   "cell_type": "code",
   "execution_count": 15,
   "metadata": {},
   "outputs": [
    {
     "name": "stderr",
     "output_type": "stream",
     "text": [
      "2017-11-13 16:23:38,545 [INFO] Running /home/shared/PBSuite_15.8.24/bin/Jelly.py setup /home/sam/analyses/20171113_oly_pbjelly/Protocol.xml\n",
      "\n",
      "Please Cite: English, Adam C., Stephen Richards, Yi Han, Min Wang,\n",
      "             Vanesa Vee, Jiaxin Qu, Xiang Qin, et al. \"Mind the\n",
      "             Gap: Upgrading Genomes with Pacific Biosciences RS\n",
      "             Long-Read Sequencing Technology.\" PLoS ONE 7, no. 11\n",
      "             (November 21, 2012): e47768.\n",
      "             doi:10.1371/journal.pone.0047768.\n",
      "\n",
      "[WARNING] Couldn't find /home/sam/data/oly_plat_22mer_sb_contig.qual... assuming there isn't a quality file for the reference\n",
      "2017-11-13 16:23:38,582 [INFO] Executing Stage: setup\n",
      "2017-11-13 16:57:58,962 [INFO] Finished Running Stage: setup\n",
      "2017-11-13 16:58:00,395 [INFO] Running /home/shared/PBSuite_15.8.24/bin/Jelly.py mapping /home/sam/analyses/20171113_oly_pbjelly/Protocol.xml\n",
      "\n",
      "Please Cite: English, Adam C., Stephen Richards, Yi Han, Min Wang,\n",
      "             Vanesa Vee, Jiaxin Qu, Xiang Qin, et al. \"Mind the\n",
      "             Gap: Upgrading Genomes with Pacific Biosciences RS\n",
      "             Long-Read Sequencing Technology.\" PLoS ONE 7, no. 11\n",
      "             (November 21, 2012): e47768.\n",
      "             doi:10.1371/journal.pone.0047768.\n",
      "\n",
      "[WARNING] Couldn't find /home/sam/data/oly_plat_22mer_sb_contig.qual... assuming there isn't a quality file for the reference\n",
      "2017-11-13 16:58:00,487 [INFO] Executing Stage: mapping\n",
      "2017-11-13 16:58:00,487 [INFO] Running blasr\n",
      "2017-11-13 16:58:02,288 [INFO] Finished Running Stage: mapping\n",
      "2017-11-13 16:58:02,481 [INFO] Running /home/shared/PBSuite_15.8.24/bin/Jelly.py support /home/sam/analyses/20171113_oly_pbjelly/Protocol.xml\n",
      "\n",
      "Please Cite: English, Adam C., Stephen Richards, Yi Han, Min Wang,\n",
      "             Vanesa Vee, Jiaxin Qu, Xiang Qin, et al. \"Mind the\n",
      "             Gap: Upgrading Genomes with Pacific Biosciences RS\n",
      "             Long-Read Sequencing Technology.\" PLoS ONE 7, no. 11\n",
      "             (November 21, 2012): e47768.\n",
      "             doi:10.1371/journal.pone.0047768.\n",
      "\n",
      "[WARNING] Couldn't find /home/sam/data/oly_plat_22mer_sb_contig.qual... assuming there isn't a quality file for the reference\n",
      "2017-11-13 16:58:02,482 [INFO] Executing Stage: support\n",
      "2017-11-13 16:58:02,483 [WARNING] No mapping files found!\n",
      "2017-11-13 16:58:02,483 [INFO] Finished Running Stage: support\n",
      "2017-11-13 16:58:02,599 [INFO] Running /home/shared/PBSuite_15.8.24/bin/Jelly.py extraction /home/sam/analyses/20171113_oly_pbjelly/Protocol.xml\n",
      "\n",
      "Please Cite: English, Adam C., Stephen Richards, Yi Han, Min Wang,\n",
      "             Vanesa Vee, Jiaxin Qu, Xiang Qin, et al. \"Mind the\n",
      "             Gap: Upgrading Genomes with Pacific Biosciences RS\n",
      "             Long-Read Sequencing Technology.\" PLoS ONE 7, no. 11\n",
      "             (November 21, 2012): e47768.\n",
      "             doi:10.1371/journal.pone.0047768.\n",
      "\n",
      "[WARNING] Couldn't find /home/sam/data/oly_plat_22mer_sb_contig.qual... assuming there isn't a quality file for the reference\n",
      "2017-11-13 16:58:02,601 [INFO] Executing Stage: extraction\n",
      "2017-11-13 17:23:24,254 [INFO] Finished Running Stage: extraction\n",
      "2017-11-13 17:23:46,960 [INFO] Running /home/shared/PBSuite_15.8.24/bin/Jelly.py assembly /home/sam/analyses/20171113_oly_pbjelly/Protocol.xml\n",
      "\n",
      "Please Cite: English, Adam C., Stephen Richards, Yi Han, Min Wang,\n",
      "             Vanesa Vee, Jiaxin Qu, Xiang Qin, et al. \"Mind the\n",
      "             Gap: Upgrading Genomes with Pacific Biosciences RS\n",
      "             Long-Read Sequencing Technology.\" PLoS ONE 7, no. 11\n",
      "             (November 21, 2012): e47768.\n",
      "             doi:10.1371/journal.pone.0047768.\n",
      "\n",
      "[WARNING] Couldn't find /home/sam/data/oly_plat_22mer_sb_contig.qual... assuming there isn't a quality file for the reference\n",
      "2017-11-13 17:23:47,245 [INFO] Executing Stage: assembly\n",
      "2017-11-13 17:26:23,596 [WARNING] No gaps to be assembled were found in /home/sam/analyses/20171113_oly_pbjelly/assembly! Have you run 'extraction' yet?\n",
      "2017-11-13 17:27:33,662 [INFO] Running /home/shared/PBSuite_15.8.24/bin/Jelly.py output /home/sam/analyses/20171113_oly_pbjelly/Protocol.xml\n",
      "\n",
      "Please Cite: English, Adam C., Stephen Richards, Yi Han, Min Wang,\n",
      "             Vanesa Vee, Jiaxin Qu, Xiang Qin, et al. \"Mind the\n",
      "             Gap: Upgrading Genomes with Pacific Biosciences RS\n",
      "             Long-Read Sequencing Technology.\" PLoS ONE 7, no. 11\n",
      "             (November 21, 2012): e47768.\n",
      "             doi:10.1371/journal.pone.0047768.\n",
      "\n",
      "[WARNING] Couldn't find /home/sam/data/oly_plat_22mer_sb_contig.qual... assuming there isn't a quality file for the reference\n",
      "2017-11-13 17:27:33,664 [INFO] Executing Stage: output\n",
      "2017-11-13 17:35:59,065 [INFO] Finished Running Stage: output\n"
     ]
    }
   ],
   "source": [
    "%%bash\n",
    "source /home/shared/PBSuite_15.8.24/setup.sh\n",
    "python /home/shared/PBSuite_15.8.24/bin/Jelly.py setup /home/sam/analyses/20171113_oly_pbjelly/Protocol.xml\n",
    "python /home/shared/PBSuite_15.8.24/bin/Jelly.py mapping /home/sam/analyses/20171113_oly_pbjelly/Protocol.xml\n",
    "python /home/shared/PBSuite_15.8.24/bin/Jelly.py support /home/sam/analyses/20171113_oly_pbjelly/Protocol.xml\n",
    "python /home/shared/PBSuite_15.8.24/bin/Jelly.py extraction /home/sam/analyses/20171113_oly_pbjelly/Protocol.xml\n",
    "python /home/shared/PBSuite_15.8.24/bin/Jelly.py assembly /home/sam/analyses/20171113_oly_pbjelly/Protocol.xml\n",
    "python /home/shared/PBSuite_15.8.24/bin/Jelly.py output /home/sam/analyses/20171113_oly_pbjelly/Protocol.xml"
   ]
  },
  {
   "cell_type": "markdown",
   "metadata": {},
   "source": [
    "Looks like it worked! \n",
    "\n",
    "The warnings aren't much of a concern, as they are correct in determining that there is no quality file associated with the reference FASTA.\n",
    "\n",
    "However, one warning that's a bit concerning is the ASSEMBLY warning: No gaps to be assembled were found.\n",
    "\n",
    "Let's see what we have."
   ]
  },
  {
   "cell_type": "markdown",
   "metadata": {},
   "source": [
    "#### Run the output command."
   ]
  },
  {
   "cell_type": "code",
   "execution_count": 16,
   "metadata": {},
   "outputs": [
    {
     "name": "stderr",
     "output_type": "stream",
     "text": [
      "2017-11-14 06:24:58,342 [INFO] Running /home/shared/PBSuite_15.8.24/bin/Jelly.py output /home/sam/analyses/20171113_oly_pbjelly/Protocol.xml\n",
      "\n",
      "Please Cite: English, Adam C., Stephen Richards, Yi Han, Min Wang,\n",
      "             Vanesa Vee, Jiaxin Qu, Xiang Qin, et al. \"Mind the\n",
      "             Gap: Upgrading Genomes with Pacific Biosciences RS\n",
      "             Long-Read Sequencing Technology.\" PLoS ONE 7, no. 11\n",
      "             (November 21, 2012): e47768.\n",
      "             doi:10.1371/journal.pone.0047768.\n",
      "\n",
      "[WARNING] Couldn't find /home/sam/data/oly_plat_22mer_sb_contig.qual... assuming there isn't a quality file for the reference\n",
      "2017-11-14 06:24:58,344 [INFO] Executing Stage: output\n",
      "2017-11-14 06:33:17,275 [INFO] Finished Running Stage: output\n"
     ]
    }
   ],
   "source": [
    "%%bash\n",
    "source /home/shared/PBSuite_15.8.24/setup.sh\n",
    "python /home/shared/PBSuite_15.8.24/bin/Jelly.py output /home/sam/analyses/20171113_oly_pbjelly/Protocol.xml"
   ]
  },
  {
   "cell_type": "markdown",
   "metadata": {},
   "source": [
    "Not sure why I ran that! It's the last step in the whole sequence and I had already run it!\n",
    "\n",
    "Let's look at the outputs that are available..."
   ]
  },
  {
   "cell_type": "code",
   "execution_count": 17,
   "metadata": {},
   "outputs": [
    {
     "name": "stdout",
     "output_type": "stream",
     "text": [
      "\u001b[0m\u001b[01;34massembly\u001b[0m/            \u001b[01;34mmapping\u001b[0m/    output.out    \u001b[01;34msupport\u001b[0m/\r\n",
      "gap_fill_status.txt  output.err  Protocol.xml\r\n"
     ]
    }
   ],
   "source": [
    "ls /home/sam/analyses/20171113_oly_pbjelly/"
   ]
  },
  {
   "cell_type": "code",
   "execution_count": 18,
   "metadata": {
    "collapsed": true
   },
   "outputs": [],
   "source": [
    "%%bash\n",
    "head /home/sam/analyses/20171113_oly_pbjelly/output.out"
   ]
  },
  {
   "cell_type": "code",
   "execution_count": 19,
   "metadata": {},
   "outputs": [
    {
     "name": "stdout",
     "output_type": "stream",
     "text": [
      "[WARNING] Couldn't find /home/sam/data/oly_plat_22mer_sb_contig.qual... assuming there isn't a quality file for the reference\n",
      "2017-11-14 06:24:58,487 [INFO] Running /home/shared/PBSuite_15.8.24//bin//Collection.py /home/sam/analyses/20171113_oly_pbjelly/Protocol.xml\n",
      "2017-11-14 06:24:58,487 [INFO] Grabbing Filling Metrics\n",
      "2017-11-14 06:24:58,488 [INFO] Number of Gaps Addressed 0\n",
      "2017-11-14 06:24:58,488 [INFO] No Filling Metrics 0\n",
      "2017-11-14 06:24:58,488 [INFO] Min Read Failed 0\n",
      "2017-11-14 06:24:58,488 [INFO] Filled 0\n",
      "2017-11-14 06:24:58,488 [INFO] NFilled 0\n",
      "2017-11-14 06:24:58,488 [INFO] Single-End Reduced 0\n",
      "2017-11-14 06:24:58,488 [INFO] Double-End Reduced 0\n"
     ]
    }
   ],
   "source": [
    "%%bash\n",
    "head /home/sam/analyses/20171113_oly_pbjelly/output.err"
   ]
  },
  {
   "cell_type": "markdown",
   "metadata": {},
   "source": [
    "Well, the output of some of this file suggests that nothing was done. Is it possible that PB Jelly just functions as a gap-filler? Maybe that's all it's supposed to do and I used Sean's Platanus assembly, which I believe is just contigs (i.e. not scaffolds, which contains gaps)."
   ]
  },
  {
   "cell_type": "code",
   "execution_count": 20,
   "metadata": {},
   "outputs": [
    {
     "name": "stdout",
     "output_type": "stream",
     "text": [
      "extraction.err  extraction.out\r\n"
     ]
    }
   ],
   "source": [
    "ls /home/sam/analyses/20171113_oly_pbjelly/assembly/"
   ]
  },
  {
   "cell_type": "code",
   "execution_count": 21,
   "metadata": {},
   "outputs": [
    {
     "name": "stdout",
     "output_type": "stream",
     "text": [
      "m130619_081336_42134_c100525122550000001823081109281326_s1_p0.fastq.err\r\n",
      "m130619_081336_42134_c100525122550000001823081109281326_s1_p0.fastq.out\r\n",
      "m170211_224036_42134_c101073082550000001823236402101737_s1_X0_filtered_subreads.fastq.err\r\n",
      "m170211_224036_42134_c101073082550000001823236402101737_s1_X0_filtered_subreads.fastq.out\r\n",
      "m170301_100013_42134_c101174162550000001823269408211761_s1_p0_filtered_subreads.fastq.err\r\n",
      "m170301_100013_42134_c101174162550000001823269408211761_s1_p0_filtered_subreads.fastq.out\r\n",
      "m170301_162825_42134_c101174162550000001823269408211762_s1_p0_filtered_subreads.fastq.err\r\n",
      "m170301_162825_42134_c101174162550000001823269408211762_s1_p0_filtered_subreads.fastq.out\r\n",
      "m170301_225711_42134_c101174162550000001823269408211763_s1_p0_filtered_subreads.fastq.err\r\n",
      "m170301_225711_42134_c101174162550000001823269408211763_s1_p0_filtered_subreads.fastq.out\r\n",
      "m170308_163922_42134_c101174252550000001823269408211742_s1_p0_filtered_subreads.fastq.err\r\n",
      "m170308_163922_42134_c101174252550000001823269408211742_s1_p0_filtered_subreads.fastq.out\r\n",
      "m170308_230815_42134_c101174252550000001823269408211743_s1_p0_filtered_subreads.fastq.err\r\n",
      "m170308_230815_42134_c101174252550000001823269408211743_s1_p0_filtered_subreads.fastq.out\r\n",
      "m170315_001112_42134_c101169372550000001823273008151717_s1_p0_filtered_subreads.fastq.err\r\n",
      "m170315_001112_42134_c101169372550000001823273008151717_s1_p0_filtered_subreads.fastq.out\r\n",
      "m170315_063041_42134_c101169382550000001823273008151700_s1_p0_filtered_subreads.fastq.err\r\n",
      "m170315_063041_42134_c101169382550000001823273008151700_s1_p0_filtered_subreads.fastq.out\r\n",
      "m170315_124938_42134_c101169382550000001823273008151701_s1_p0_filtered_subreads.fastq.err\r\n",
      "m170315_124938_42134_c101169382550000001823273008151701_s1_p0_filtered_subreads.fastq.out\r\n",
      "m170315_190851_42134_c101169382550000001823273008151702_s1_p0_filtered_subreads.fastq.err\r\n",
      "m170315_190851_42134_c101169382550000001823273008151702_s1_p0_filtered_subreads.fastq.out\r\n"
     ]
    }
   ],
   "source": [
    "ls /home/sam/analyses/20171113_oly_pbjelly/mapping/"
   ]
  },
  {
   "cell_type": "markdown",
   "metadata": {},
   "source": [
    "#### Copy output to Owl."
   ]
  },
  {
   "cell_type": "code",
   "execution_count": 22,
   "metadata": {},
   "outputs": [
    {
     "name": "stderr",
     "output_type": "stream",
     "text": [
      "cp: cannot create regular file '/mnt/owl/Athaliana/20171113_oly_pbjelly/Protocol.xml': Permission denied\n",
      "cp: cannot create regular file '/mnt/owl/Athaliana/20171113_oly_pbjelly/output.out': Permission denied\n",
      "cp: cannot create regular file '/mnt/owl/Athaliana/20171113_oly_pbjelly/output.err': Permission denied\n",
      "cp: cannot create regular file '/mnt/owl/Athaliana/20171113_oly_pbjelly/gap_fill_status.txt': Permission denied\n",
      "cp: cannot create directory '/mnt/owl/Athaliana/20171113_oly_pbjelly/mapping': Permission denied\n",
      "cp: cannot create directory '/mnt/owl/Athaliana/20171113_oly_pbjelly/support': Permission denied\n",
      "cp: cannot create directory '/mnt/owl/Athaliana/20171113_oly_pbjelly/assembly': Permission denied\n",
      "cp: preserving times for '/mnt/owl/Athaliana/20171113_oly_pbjelly': Operation not permitted\n"
     ]
    }
   ],
   "source": [
    "%%bash\n",
    "cp -pR /home/sam/analyses/20171113_oly_pbjelly/ /mnt/owl/Athaliana/"
   ]
  },
  {
   "cell_type": "code",
   "execution_count": 23,
   "metadata": {},
   "outputs": [
    {
     "name": "stdout",
     "output_type": "stream",
     "text": [
      "\u001b[0m\u001b[01;34massembly\u001b[0m/            \u001b[01;34mmapping\u001b[0m/    output.out    \u001b[01;34msupport\u001b[0m/\r\n",
      "gap_fill_status.txt  output.err  Protocol.xml\r\n"
     ]
    }
   ],
   "source": [
    "ls /mnt/owl/Athaliana/20171113_oly_pbjelly/"
   ]
  },
  {
   "cell_type": "code",
   "execution_count": null,
   "metadata": {
    "collapsed": true
   },
   "outputs": [],
   "source": []
  }
 ],
 "metadata": {
  "kernelspec": {
   "display_name": "Python 3",
   "language": "python",
   "name": "python3"
  },
  "language_info": {
   "codemirror_mode": {
    "name": "ipython",
    "version": 3
   },
   "file_extension": ".py",
   "mimetype": "text/x-python",
   "name": "python",
   "nbconvert_exporter": "python",
   "pygments_lexer": "ipython3",
   "version": "3.5.2"
  }
 },
 "nbformat": 4,
 "nbformat_minor": 2
}
