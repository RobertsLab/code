{
 "cells": [
  {
   "cell_type": "code",
   "execution_count": 1,
   "metadata": {},
   "outputs": [
    {
     "name": "stdout",
     "output_type": "stream",
     "text": [
      "TODAY'S DATE\n",
      "Tue Nov 14 06:57:22 PST 2017\n",
      "------------\n",
      "\n",
      "Distributor ID:\tUbuntu\n",
      "Description:\tUbuntu 16.04.3 LTS\n",
      "Release:\t16.04\n",
      "Codename:\txenial\n",
      "\n",
      "------------\n",
      "HOSTNAME: \n",
      "emu\n",
      "\n",
      "------------\n",
      "Computer Specs:\n",
      "\n",
      "Architecture:          x86_64\n",
      "CPU op-mode(s):        32-bit, 64-bit\n",
      "Byte Order:            Little Endian\n",
      "CPU(s):                16\n",
      "On-line CPU(s) list:   0-15\n",
      "Thread(s) per core:    2\n",
      "Core(s) per socket:    4\n",
      "Socket(s):             2\n",
      "NUMA node(s):          1\n",
      "Vendor ID:             GenuineIntel\n",
      "CPU family:            6\n",
      "Model:                 26\n",
      "Model name:            Intel(R) Xeon(R) CPU           E5520  @ 2.27GHz\n",
      "Stepping:              5\n",
      "CPU MHz:               2394.000\n",
      "CPU max MHz:           2394.0000\n",
      "CPU min MHz:           1596.0000\n",
      "BogoMIPS:              4521.80\n",
      "Virtualization:        VT-x\n",
      "L1d cache:             32K\n",
      "L1i cache:             32K\n",
      "L2 cache:              256K\n",
      "L3 cache:              8192K\n",
      "NUMA node0 CPU(s):     0-15\n",
      "Flags:                 fpu vme de pse tsc msr pae mce cx8 apic sep mtrr pge mca cmov pat pse36 clflush dts acpi mmx fxsr sse sse2 ss ht tm pbe syscall nx rdtscp lm constant_tsc arch_perfmon pebs bts nopl xtopology nonstop_tsc aperfmperf pni dtes64 monitor ds_cpl vmx est tm2 ssse3 cx16 xtpr pdcm dca sse4_1 sse4_2 popcnt lahf_lm tpr_shadow vnmi flexpriority ept vpid dtherm ida\n",
      "\n",
      "------------\n",
      "\n",
      "Memory Specs\n",
      "\n",
      "              total        used        free      shared  buff/cache   available\n",
      "Mem:            47G        6.4G         21G        504M         18G         39G\n",
      "Swap:           11G        4.3G        7.7G\n"
     ]
    },
    {
     "name": "stderr",
     "output_type": "stream",
     "text": [
      "No LSB modules are available.\n"
     ]
    }
   ],
   "source": [
    "%%bash\n",
    "echo \"TODAY'S DATE\"\n",
    "date\n",
    "echo \"------------\"\n",
    "echo \"\"\n",
    "lsb_release -a\n",
    "echo \"\"\n",
    "echo \"------------\"\n",
    "echo \"HOSTNAME: \" \n",
    "hostname\n",
    "echo \"\"\n",
    "echo \"------------\"\n",
    "echo \"Computer Specs:\"\n",
    "echo \"\"\n",
    "lscpu\n",
    "echo \"\"\n",
    "echo \"------------\"\n",
    "echo \"\"\n",
    "echo \"Memory Specs\"\n",
    "echo \"\"\n",
    "free -mh"
   ]
  },
  {
   "cell_type": "code",
   "execution_count": 2,
   "metadata": {},
   "outputs": [
    {
     "name": "stdout",
     "output_type": "stream",
     "text": [
      "/home/sam/data\n",
      "total 96G\n",
      "-rw-rw-r-- 1 sam sam 6.6G Oct 24 14:48 151114_I191_FCH3Y35BCXX_L1_wHAIPI023992-37_1.fq.gz\n",
      "-rw-rw-r-- 1 sam sam 6.9G Oct 24 14:49 151114_I191_FCH3Y35BCXX_L1_wHAIPI023992-37_2.fq.gz\n",
      "-rw-rw-r-- 1 sam sam 6.6G Oct 24 14:50 151114_I191_FCH3Y35BCXX_L2_wHAMPI023991-66_1.fq.gz\n",
      "-rw-rw-r-- 1 sam sam 6.8G Oct 24 14:52 151114_I191_FCH3Y35BCXX_L2_wHAMPI023991-66_2.fq.gz\n",
      "-rw-rw-r-- 1 sam sam 3.8G Oct 24 14:53 151118_I137_FCH3KNJBBXX_L5_wHAXPI023905-96_1.fq.gz\n",
      "-rw-rw-r-- 1 sam sam 4.0G Oct 24 14:54 151118_I137_FCH3KNJBBXX_L5_wHAXPI023905-96_2.fq.gz\n",
      "-rw-rw-r-- 1 sam sam 2.4G Oct 24 14:54 160103_I137_FCH3V5YBBXX_L3_WHOSTibkDCABDLAAPEI-62_1.fq.gz\n",
      "-rw-rw-r-- 1 sam sam 2.8G Oct 24 14:55 160103_I137_FCH3V5YBBXX_L3_WHOSTibkDCABDLAAPEI-62_2.fq.gz\n",
      "-rw-rw-r-- 1 sam sam 1.3G Oct 24 14:55 160103_I137_FCH3V5YBBXX_L3_WHOSTibkDCACDTAAPEI-75_1.fq.gz\n",
      "-rw-rw-r-- 1 sam sam 1.5G Oct 24 14:56 160103_I137_FCH3V5YBBXX_L3_WHOSTibkDCACDTAAPEI-75_2.fq.gz\n",
      "-rw-rw-r-- 1 sam sam 2.4G Oct 24 14:56 160103_I137_FCH3V5YBBXX_L4_WHOSTibkDCABDLAAPEI-62_1.fq.gz\n",
      "-rw-rw-r-- 1 sam sam 2.8G Oct 24 14:57 160103_I137_FCH3V5YBBXX_L4_WHOSTibkDCABDLAAPEI-62_2.fq.gz\n",
      "-rw-rw-r-- 1 sam sam 1.3G Oct 24 14:57 160103_I137_FCH3V5YBBXX_L4_WHOSTibkDCACDTAAPEI-75_1.fq.gz\n",
      "-rw-rw-r-- 1 sam sam 1.5G Oct 24 14:57 160103_I137_FCH3V5YBBXX_L4_WHOSTibkDCACDTAAPEI-75_2.fq.gz\n",
      "-rw-rw-r-- 1 sam sam 2.7G Oct 24 14:58 160103_I137_FCH3V5YBBXX_L5_WHOSTibkDCAADWAAPEI-74_1.fq.gz\n",
      "-rw-rw-r-- 1 sam sam 3.1G Oct 24 14:58 160103_I137_FCH3V5YBBXX_L5_WHOSTibkDCAADWAAPEI-74_2.fq.gz\n",
      "-rw-rw-r-- 1 sam sam 2.6G Oct 24 14:59 160103_I137_FCH3V5YBBXX_L6_WHOSTibkDCAADWAAPEI-74_1.fq.gz\n",
      "-rw-rw-r-- 1 sam sam 3.0G Oct 24 15:00 160103_I137_FCH3V5YBBXX_L6_WHOSTibkDCAADWAAPEI-74_2.fq.gz\n",
      "-rw-rw-r-- 1 sam sam  33K Nov 14 06:52 2017113_emu_pbjelly_22mer_plat.ipynb\n",
      "-rw-rw-r-- 1 sam sam  33K Nov 14 06:53 201711_emu_pbjelly_BGI_scaffold.ipynb\n",
      "-rw-rw-r-- 1 sam sam 372M Oct 24 15:02 m130619_081336_42134_c100525122550000001823081109281326_s1_p0.fastq\n",
      "-rwxrwxr-x 1 sam sam 2.7G Oct 24 15:02 m170211_224036_42134_c101073082550000001823236402101737_s1_X0_filtered_subreads.fastq\n",
      "-rwxrwxr-x 1 sam sam 3.0G Oct 24 15:02 m170301_100013_42134_c101174162550000001823269408211761_s1_p0_filtered_subreads.fastq\n",
      "-rwxrwxr-x 1 sam sam 2.7G Oct 24 15:02 m170301_162825_42134_c101174162550000001823269408211762_s1_p0_filtered_subreads.fastq\n",
      "-rwxrwxr-x 1 sam sam 3.0G Oct 24 15:03 m170301_225711_42134_c101174162550000001823269408211763_s1_p0_filtered_subreads.fastq\n",
      "-rwxrwxr-x 1 sam sam 2.8G Oct 24 15:03 m170308_163922_42134_c101174252550000001823269408211742_s1_p0_filtered_subreads.fastq\n",
      "-rwxrwxr-x 1 sam sam 2.8G Oct 24 15:03 m170308_230815_42134_c101174252550000001823269408211743_s1_p0_filtered_subreads.fastq\n",
      "-rwxrwxr-x 1 sam sam 2.0G Oct 24 15:04 m170315_001112_42134_c101169372550000001823273008151717_s1_p0_filtered_subreads.fastq\n",
      "-rwxrwxr-x 1 sam sam 1.8G Oct 24 15:04 m170315_063041_42134_c101169382550000001823273008151700_s1_p0_filtered_subreads.fastq\n",
      "-rwxrwxr-x 1 sam sam 1.6G Oct 24 15:04 m170315_124938_42134_c101169382550000001823273008151701_s1_p0_filtered_subreads.fastq\n",
      "-rwxrwxr-x 1 sam sam 1.8G Oct 24 15:04 m170315_190851_42134_c101169382550000001823273008151702_s1_p0_filtered_subreads.fastq\n",
      "-rw-rw-r-- 1 sam sam 2.0G Nov 13 16:33 oly_plat_22mer_sb_contig.fasta\n",
      "-rw-rw-r-- 1 sam sam 1.9G Nov 13 16:04 oly_plat_22mer_sb_contig.fasta.original\n",
      "-rw-rw-r-- 1 sam sam 6.2G Nov 13 16:57 oly_plat_22mer_sb_contig.fasta.sa\n",
      "-rw-rw-r-- 1 sam sam 690M Nov 13 16:33 oly_plat_22mer_sb_contig.gapInfo.bed\n",
      "-rw-rw-r-- 1 sam sam  387 Nov 13 16:57 setup.err\n",
      "-rw-rw-r-- 1 sam sam    0 Nov 13 16:23 setup.out\n"
     ]
    }
   ],
   "source": [
    "%%bash\n",
    "pwd\n",
    "ls -lh"
   ]
  },
  {
   "cell_type": "markdown",
   "metadata": {},
   "source": [
    "#### Need reference assembly of Illumina data.\n",
    "\n",
    "Copy BGI scaffolded assembly and rename to something more descriptive."
   ]
  },
  {
   "cell_type": "code",
   "execution_count": 3,
   "metadata": {},
   "outputs": [
    {
     "name": "stdout",
     "output_type": "stream",
     "text": [
      "-rw-rw-r-- 1 sam sam 762M Nov 14 07:00 oly_BGI_scaffolds.fasta\n"
     ]
    },
    {
     "name": "stderr",
     "output_type": "stream",
     "text": [
      "\n",
      "real\t0m10.889s\n",
      "user\t0m0.008s\n",
      "sys\t0m0.888s\n"
     ]
    }
   ],
   "source": [
    "%%bash\n",
    "time cp /mnt/owl/O_lurida_genome_assemblies_BGI/20161201/cdts-hk.genomics.cn/Ostrea_lurida/Ostrea_lurida.fa oly_BGI_scaffolds.fasta\n",
    "ls -lh oly_BGI_scaffolds.fasta"
   ]
  },
  {
   "cell_type": "code",
   "execution_count": 4,
   "metadata": {
    "collapsed": true
   },
   "outputs": [],
   "source": [
    "%%bash\n",
    "mkdir /home/sam/analyses/2017111_oly_pbjelly"
   ]
  },
  {
   "cell_type": "code",
   "execution_count": 5,
   "metadata": {},
   "outputs": [
    {
     "name": "stdout",
     "output_type": "stream",
     "text": [
      "\u001b[0m\u001b[01;34massembly\u001b[0m/            \u001b[01;34mmapping\u001b[0m/    output.out    \u001b[01;34msupport\u001b[0m/\r\n",
      "gap_fill_status.txt  output.err  Protocol.xml\r\n"
     ]
    }
   ],
   "source": [
    "ls /home/sam/analyses/20171113_oly_pbjelly/"
   ]
  },
  {
   "cell_type": "code",
   "execution_count": 6,
   "metadata": {
    "collapsed": true
   },
   "outputs": [],
   "source": [
    "ls /home/sam/analyses/2017111_oly_pbjelly"
   ]
  },
  {
   "cell_type": "code",
   "execution_count": 7,
   "metadata": {
    "collapsed": true
   },
   "outputs": [],
   "source": [
    "mv /home/sam/analyses/2017111_oly_pbjelly /home/sam/analyses/20171114_oly_pbjelly"
   ]
  },
  {
   "cell_type": "code",
   "execution_count": 8,
   "metadata": {
    "collapsed": true
   },
   "outputs": [],
   "source": [
    "ls /home/sam/analyses/20171114_oly_pbjelly/"
   ]
  },
  {
   "cell_type": "markdown",
   "metadata": {},
   "source": [
    "#### View the Protocol.xml file tha PB Jelly uses to run."
   ]
  },
  {
   "cell_type": "code",
   "execution_count": 9,
   "metadata": {},
   "outputs": [
    {
     "name": "stdout",
     "output_type": "stream",
     "text": [
      "<jellyProtocol>\r\n",
      "    <reference>/home/sam/data/oly_BGI_scaffolds.fasta</reference>  \r\n",
      "    <outputDir>/home/sam/analyses/20171114_oly_pbjelly</outputDir>\r\n",
      "    <blasr>-minMatch 8 -minPctIdentity 70 -bestn 1 -nCandidates 20 -maxScore -500 -nproc 48 -noSplitSubreads</blasr>\r\n",
      "    <input baseDir=\"/home/sam/data/\">\r\n",
      "        <job>m130619_081336_42134_c100525122550000001823081109281326_s1_p0.fastq</job>\r\n",
      "        <job>m170211_224036_42134_c101073082550000001823236402101737_s1_X0_filtered_subreads.fastq</job>\r\n",
      "\t<job>m170301_100013_42134_c101174162550000001823269408211761_s1_p0_filtered_subreads.fastq</job>\r\n",
      "\t<job>m170301_162825_42134_c101174162550000001823269408211762_s1_p0_filtered_subreads.fastq</job>\r\n",
      "\t<job>m170301_225711_42134_c101174162550000001823269408211763_s1_p0_filtered_subreads.fastq</job>\r\n",
      "\t<job>m170308_163922_42134_c101174252550000001823269408211742_s1_p0_filtered_subreads.fastq</job>\r\n",
      "\t<job>m170308_230815_42134_c101174252550000001823269408211743_s1_p0_filtered_subreads.fastq</job>\r\n",
      "\t<job>m170315_001112_42134_c101169372550000001823273008151717_s1_p0_filtered_subreads.fastq</job>\r\n",
      "\t<job>m170315_063041_42134_c101169382550000001823273008151700_s1_p0_filtered_subreads.fastq</job>\r\n",
      "\t<job>m170315_124938_42134_c101169382550000001823273008151701_s1_p0_filtered_subreads.fastq</job>\r\n",
      "\t<job>m170315_190851_42134_c101169382550000001823273008151702_s1_p0_filtered_subreads.fastq</job>\r\n",
      "    </input>\r\n",
      "</jellyProtocol>\r\n"
     ]
    }
   ],
   "source": [
    "cat /home/sam/analyses/20171114_oly_pbjelly/Protocol.xml"
   ]
  },
  {
   "cell_type": "markdown",
   "metadata": {},
   "source": [
    "#### Source (i.e. load) the PB Jelly setup script and run PB Jelly.\n",
    "\n",
    "\n",
    "##### PB Jelly has 5 steps that must be run sequentially:\n",
    "- setup\n",
    "- mapping\n",
    "- support\n",
    "- extraction\n",
    "- assembly\n",
    "- output"
   ]
  },
  {
   "cell_type": "code",
   "execution_count": 10,
   "metadata": {},
   "outputs": [
    {
     "name": "stderr",
     "output_type": "stream",
     "text": [
      "2017-11-14 07:06:41,980 [INFO] Running /home/shared/PBSuite_15.8.24/bin/Jelly.py setup /home/sam/analyses/20171113_oly_pbjelly/Protocol.xml\n",
      "\n",
      "Please Cite: English, Adam C., Stephen Richards, Yi Han, Min Wang,\n",
      "             Vanesa Vee, Jiaxin Qu, Xiang Qin, et al. \"Mind the\n",
      "             Gap: Upgrading Genomes with Pacific Biosciences RS\n",
      "             Long-Read Sequencing Technology.\" PLoS ONE 7, no. 11\n",
      "             (November 21, 2012): e47768.\n",
      "             doi:10.1371/journal.pone.0047768.\n",
      "\n",
      "[WARNING] Couldn't find /home/sam/data/oly_plat_22mer_sb_contig.qual... assuming there isn't a quality file for the reference\n",
      "2017-11-14 07:06:41,994 [INFO] Executing Stage: setup\n",
      "2017-11-14 07:41:26,277 [INFO] Finished Running Stage: setup\n",
      "2017-11-14 07:41:27,495 [INFO] Running /home/shared/PBSuite_15.8.24/bin/Jelly.py mapping /home/sam/analyses/20171113_oly_pbjelly/Protocol.xml\n",
      "\n",
      "Please Cite: English, Adam C., Stephen Richards, Yi Han, Min Wang,\n",
      "             Vanesa Vee, Jiaxin Qu, Xiang Qin, et al. \"Mind the\n",
      "             Gap: Upgrading Genomes with Pacific Biosciences RS\n",
      "             Long-Read Sequencing Technology.\" PLoS ONE 7, no. 11\n",
      "             (November 21, 2012): e47768.\n",
      "             doi:10.1371/journal.pone.0047768.\n",
      "\n",
      "[WARNING] Couldn't find /home/sam/data/oly_plat_22mer_sb_contig.qual... assuming there isn't a quality file for the reference\n",
      "2017-11-14 07:41:27,554 [INFO] Executing Stage: mapping\n",
      "2017-11-14 07:41:27,554 [INFO] Running blasr\n",
      "2017-11-14 07:41:28,937 [INFO] Finished Running Stage: mapping\n",
      "2017-11-14 07:41:29,101 [INFO] Running /home/shared/PBSuite_15.8.24/bin/Jelly.py support /home/sam/analyses/20171113_oly_pbjelly/Protocol.xml\n",
      "\n",
      "Please Cite: English, Adam C., Stephen Richards, Yi Han, Min Wang,\n",
      "             Vanesa Vee, Jiaxin Qu, Xiang Qin, et al. \"Mind the\n",
      "             Gap: Upgrading Genomes with Pacific Biosciences RS\n",
      "             Long-Read Sequencing Technology.\" PLoS ONE 7, no. 11\n",
      "             (November 21, 2012): e47768.\n",
      "             doi:10.1371/journal.pone.0047768.\n",
      "\n",
      "[WARNING] Couldn't find /home/sam/data/oly_plat_22mer_sb_contig.qual... assuming there isn't a quality file for the reference\n",
      "2017-11-14 07:41:29,103 [INFO] Executing Stage: support\n",
      "2017-11-14 07:41:29,104 [WARNING] No mapping files found!\n",
      "2017-11-14 07:41:29,104 [INFO] Finished Running Stage: support\n",
      "2017-11-14 07:41:29,231 [INFO] Running /home/shared/PBSuite_15.8.24/bin/Jelly.py extraction /home/sam/analyses/20171113_oly_pbjelly/Protocol.xml\n",
      "\n",
      "Please Cite: English, Adam C., Stephen Richards, Yi Han, Min Wang,\n",
      "             Vanesa Vee, Jiaxin Qu, Xiang Qin, et al. \"Mind the\n",
      "             Gap: Upgrading Genomes with Pacific Biosciences RS\n",
      "             Long-Read Sequencing Technology.\" PLoS ONE 7, no. 11\n",
      "             (November 21, 2012): e47768.\n",
      "             doi:10.1371/journal.pone.0047768.\n",
      "\n",
      "[WARNING] Couldn't find /home/sam/data/oly_plat_22mer_sb_contig.qual... assuming there isn't a quality file for the reference\n",
      "2017-11-14 07:41:29,233 [INFO] Executing Stage: extraction\n",
      "2017-11-14 08:01:05,256 [INFO] Finished Running Stage: extraction\n",
      "2017-11-14 08:01:45,356 [INFO] Running /home/shared/PBSuite_15.8.24/bin/Jelly.py assembly /home/sam/analyses/20171113_oly_pbjelly/Protocol.xml\n",
      "\n",
      "Please Cite: English, Adam C., Stephen Richards, Yi Han, Min Wang,\n",
      "             Vanesa Vee, Jiaxin Qu, Xiang Qin, et al. \"Mind the\n",
      "             Gap: Upgrading Genomes with Pacific Biosciences RS\n",
      "             Long-Read Sequencing Technology.\" PLoS ONE 7, no. 11\n",
      "             (November 21, 2012): e47768.\n",
      "             doi:10.1371/journal.pone.0047768.\n",
      "\n",
      "[WARNING] Couldn't find /home/sam/data/oly_plat_22mer_sb_contig.qual... assuming there isn't a quality file for the reference\n",
      "2017-11-14 08:01:45,593 [INFO] Executing Stage: assembly\n",
      "2017-11-14 08:04:55,851 [WARNING] No gaps to be assembled were found in /home/sam/analyses/20171113_oly_pbjelly/assembly! Have you run 'extraction' yet?\n",
      "2017-11-14 08:06:07,253 [INFO] Running /home/shared/PBSuite_15.8.24/bin/Jelly.py output /home/sam/analyses/20171113_oly_pbjelly/Protocol.xml\n",
      "\n",
      "Please Cite: English, Adam C., Stephen Richards, Yi Han, Min Wang,\n",
      "             Vanesa Vee, Jiaxin Qu, Xiang Qin, et al. \"Mind the\n",
      "             Gap: Upgrading Genomes with Pacific Biosciences RS\n",
      "             Long-Read Sequencing Technology.\" PLoS ONE 7, no. 11\n",
      "             (November 21, 2012): e47768.\n",
      "             doi:10.1371/journal.pone.0047768.\n",
      "\n",
      "[WARNING] Couldn't find /home/sam/data/oly_plat_22mer_sb_contig.qual... assuming there isn't a quality file for the reference\n",
      "2017-11-14 08:06:07,254 [INFO] Executing Stage: output\n",
      "2017-11-14 08:14:39,847 [INFO] Finished Running Stage: output\n"
     ]
    }
   ],
   "source": [
    "%%bash\n",
    "source /home/shared/PBSuite_15.8.24/setup.sh\n",
    "python /home/shared/PBSuite_15.8.24/bin/Jelly.py setup /home/sam/analyses/20171113_oly_pbjelly/Protocol.xml\n",
    "python /home/shared/PBSuite_15.8.24/bin/Jelly.py mapping /home/sam/analyses/20171113_oly_pbjelly/Protocol.xml\n",
    "python /home/shared/PBSuite_15.8.24/bin/Jelly.py support /home/sam/analyses/20171113_oly_pbjelly/Protocol.xml\n",
    "python /home/shared/PBSuite_15.8.24/bin/Jelly.py extraction /home/sam/analyses/20171113_oly_pbjelly/Protocol.xml\n",
    "python /home/shared/PBSuite_15.8.24/bin/Jelly.py assembly /home/sam/analyses/20171113_oly_pbjelly/Protocol.xml\n",
    "python /home/shared/PBSuite_15.8.24/bin/Jelly.py output /home/sam/analyses/20171113_oly_pbjelly/Protocol.xml"
   ]
  },
  {
   "cell_type": "code",
   "execution_count": 11,
   "metadata": {},
   "outputs": [
    {
     "name": "stdout",
     "output_type": "stream",
     "text": [
      "Protocol.xml\r\n"
     ]
    }
   ],
   "source": [
    "ls /home/sam/analyses/20171114_oly_pbjelly/"
   ]
  },
  {
   "cell_type": "markdown",
   "metadata": {},
   "source": [
    "Doh! Copy and paste error in PB Jelly command cell above! Used wrong Protocol.xml file. Fixed path below."
   ]
  },
  {
   "cell_type": "code",
   "execution_count": 12,
   "metadata": {},
   "outputs": [
    {
     "name": "stderr",
     "output_type": "stream",
     "text": [
      "2017-11-14 09:27:41,063 [INFO] Running /home/shared/PBSuite_15.8.24/bin/Jelly.py setup /home/sam/analyses/20171114_oly_pbjelly/Protocol.xml\n",
      "\n",
      "Please Cite: English, Adam C., Stephen Richards, Yi Han, Min Wang,\n",
      "             Vanesa Vee, Jiaxin Qu, Xiang Qin, et al. \"Mind the\n",
      "             Gap: Upgrading Genomes with Pacific Biosciences RS\n",
      "             Long-Read Sequencing Technology.\" PLoS ONE 7, no. 11\n",
      "             (November 21, 2012): e47768.\n",
      "             doi:10.1371/journal.pone.0047768.\n",
      "\n",
      "[WARNING] Couldn't find /home/sam/data/oly_BGI_scaffolds.qual... assuming there isn't a quality file for the reference\n",
      "2017-11-14 09:27:41,094 [INFO] Executing Stage: setup\n",
      "2017-11-14 09:35:52,014 [INFO] Finished Running Stage: setup\n",
      "2017-11-14 09:35:52,166 [INFO] Running /home/shared/PBSuite_15.8.24/bin/Jelly.py mapping /home/sam/analyses/20171114_oly_pbjelly/Protocol.xml\n",
      "\n",
      "Please Cite: English, Adam C., Stephen Richards, Yi Han, Min Wang,\n",
      "             Vanesa Vee, Jiaxin Qu, Xiang Qin, et al. \"Mind the\n",
      "             Gap: Upgrading Genomes with Pacific Biosciences RS\n",
      "             Long-Read Sequencing Technology.\" PLoS ONE 7, no. 11\n",
      "             (November 21, 2012): e47768.\n",
      "             doi:10.1371/journal.pone.0047768.\n",
      "\n",
      "[WARNING] Couldn't find /home/sam/data/oly_BGI_scaffolds.qual... assuming there isn't a quality file for the reference\n",
      "2017-11-14 09:35:52,169 [INFO] Executing Stage: mapping\n",
      "2017-11-14 09:35:52,184 [INFO] Running blasr\n",
      "2017-11-14 09:35:53,836 [INFO] Finished Running Stage: mapping\n",
      "2017-11-14 09:35:53,991 [INFO] Running /home/shared/PBSuite_15.8.24/bin/Jelly.py support /home/sam/analyses/20171114_oly_pbjelly/Protocol.xml\n",
      "\n",
      "Please Cite: English, Adam C., Stephen Richards, Yi Han, Min Wang,\n",
      "             Vanesa Vee, Jiaxin Qu, Xiang Qin, et al. \"Mind the\n",
      "             Gap: Upgrading Genomes with Pacific Biosciences RS\n",
      "             Long-Read Sequencing Technology.\" PLoS ONE 7, no. 11\n",
      "             (November 21, 2012): e47768.\n",
      "             doi:10.1371/journal.pone.0047768.\n",
      "\n",
      "[WARNING] Couldn't find /home/sam/data/oly_BGI_scaffolds.qual... assuming there isn't a quality file for the reference\n",
      "2017-11-14 09:35:53,993 [INFO] Executing Stage: support\n",
      "2017-11-14 09:35:53,994 [WARNING] No mapping files found!\n",
      "2017-11-14 09:35:53,994 [INFO] Finished Running Stage: support\n",
      "2017-11-14 09:35:54,123 [INFO] Running /home/shared/PBSuite_15.8.24/bin/Jelly.py extraction /home/sam/analyses/20171114_oly_pbjelly/Protocol.xml\n",
      "\n",
      "Please Cite: English, Adam C., Stephen Richards, Yi Han, Min Wang,\n",
      "             Vanesa Vee, Jiaxin Qu, Xiang Qin, et al. \"Mind the\n",
      "             Gap: Upgrading Genomes with Pacific Biosciences RS\n",
      "             Long-Read Sequencing Technology.\" PLoS ONE 7, no. 11\n",
      "             (November 21, 2012): e47768.\n",
      "             doi:10.1371/journal.pone.0047768.\n",
      "\n",
      "[WARNING] Couldn't find /home/sam/data/oly_BGI_scaffolds.qual... assuming there isn't a quality file for the reference\n",
      "2017-11-14 09:35:54,124 [INFO] Executing Stage: extraction\n",
      "2017-11-14 09:41:23,941 [INFO] Finished Running Stage: extraction\n",
      "2017-11-14 09:41:24,239 [INFO] Running /home/shared/PBSuite_15.8.24/bin/Jelly.py assembly /home/sam/analyses/20171114_oly_pbjelly/Protocol.xml\n",
      "\n",
      "Please Cite: English, Adam C., Stephen Richards, Yi Han, Min Wang,\n",
      "             Vanesa Vee, Jiaxin Qu, Xiang Qin, et al. \"Mind the\n",
      "             Gap: Upgrading Genomes with Pacific Biosciences RS\n",
      "             Long-Read Sequencing Technology.\" PLoS ONE 7, no. 11\n",
      "             (November 21, 2012): e47768.\n",
      "             doi:10.1371/journal.pone.0047768.\n",
      "\n",
      "[WARNING] Couldn't find /home/sam/data/oly_BGI_scaffolds.qual... assuming there isn't a quality file for the reference\n",
      "2017-11-14 09:41:24,261 [INFO] Executing Stage: assembly\n",
      "2017-11-14 09:41:32,199 [WARNING] No gaps to be assembled were found in /home/sam/analyses/20171114_oly_pbjelly/assembly! Have you run 'extraction' yet?\n",
      "2017-11-14 09:41:34,555 [INFO] Running /home/shared/PBSuite_15.8.24/bin/Jelly.py output /home/sam/analyses/20171114_oly_pbjelly/Protocol.xml\n",
      "\n",
      "Please Cite: English, Adam C., Stephen Richards, Yi Han, Min Wang,\n",
      "             Vanesa Vee, Jiaxin Qu, Xiang Qin, et al. \"Mind the\n",
      "             Gap: Upgrading Genomes with Pacific Biosciences RS\n",
      "             Long-Read Sequencing Technology.\" PLoS ONE 7, no. 11\n",
      "             (November 21, 2012): e47768.\n",
      "             doi:10.1371/journal.pone.0047768.\n",
      "\n",
      "[WARNING] Couldn't find /home/sam/data/oly_BGI_scaffolds.qual... assuming there isn't a quality file for the reference\n",
      "2017-11-14 09:41:34,557 [INFO] Executing Stage: output\n",
      "2017-11-14 09:59:51,450 [INFO] Finished Running Stage: output\n"
     ]
    }
   ],
   "source": [
    "%%bash\n",
    "source /home/shared/PBSuite_15.8.24/setup.sh\n",
    "python /home/shared/PBSuite_15.8.24/bin/Jelly.py setup /home/sam/analyses/20171114_oly_pbjelly/Protocol.xml\n",
    "python /home/shared/PBSuite_15.8.24/bin/Jelly.py mapping /home/sam/analyses/20171114_oly_pbjelly/Protocol.xml\n",
    "python /home/shared/PBSuite_15.8.24/bin/Jelly.py support /home/sam/analyses/20171114_oly_pbjelly/Protocol.xml\n",
    "python /home/shared/PBSuite_15.8.24/bin/Jelly.py extraction /home/sam/analyses/20171114_oly_pbjelly/Protocol.xml\n",
    "python /home/shared/PBSuite_15.8.24/bin/Jelly.py assembly /home/sam/analyses/20171114_oly_pbjelly/Protocol.xml\n",
    "python /home/shared/PBSuite_15.8.24/bin/Jelly.py output /home/sam/analyses/20171114_oly_pbjelly/Protocol.xml"
   ]
  },
  {
   "cell_type": "code",
   "execution_count": 13,
   "metadata": {},
   "outputs": [
    {
     "name": "stdout",
     "output_type": "stream",
     "text": [
      "\u001b[0m\u001b[01;34massembly\u001b[0m/            jelly.out.qual      output.err    \u001b[01;34msupport\u001b[0m/\r\n",
      "gap_fill_status.txt  liftOverTable.json  output.out\r\n",
      "jelly.out.fasta      \u001b[01;34mmapping\u001b[0m/            Protocol.xml\r\n"
     ]
    }
   ],
   "source": [
    "ls /home/sam/analyses/20171114_oly_pbjelly/"
   ]
  },
  {
   "cell_type": "code",
   "execution_count": 14,
   "metadata": {},
   "outputs": [
    {
     "name": "stdout",
     "output_type": "stream",
     "text": [
      "[WARNING] Couldn't find /home/sam/data/oly_BGI_scaffolds.qual... assuming there isn't a quality file for the reference\n",
      "2017-11-14 09:41:34,844 [INFO] Running /home/shared/PBSuite_15.8.24//bin//Collection.py /home/sam/analyses/20171114_oly_pbjelly/Protocol.xml\n",
      "2017-11-14 09:41:34,844 [INFO] Grabbing Filling Metrics\n",
      "2017-11-14 09:41:34,845 [INFO] Number of Gaps Addressed 0\n",
      "2017-11-14 09:41:34,845 [INFO] No Filling Metrics 0\n",
      "2017-11-14 09:41:34,845 [INFO] Min Read Failed 0\n",
      "2017-11-14 09:41:34,845 [INFO] Filled 0\n",
      "2017-11-14 09:41:34,845 [INFO] NFilled 0\n",
      "2017-11-14 09:41:34,845 [INFO] Single-End Reduced 0\n",
      "2017-11-14 09:41:34,845 [INFO] Double-End Reduced 0\n"
     ]
    }
   ],
   "source": [
    "%%bash\n",
    "head /home/sam/analyses/20171114_oly_pbjelly/output.err"
   ]
  },
  {
   "cell_type": "markdown",
   "metadata": {},
   "source": [
    "Hmmm, no gaps filled or anything, but this did produce a FASTA file. Let's just check that it actually has someting in it."
   ]
  },
  {
   "cell_type": "code",
   "execution_count": 15,
   "metadata": {},
   "outputs": [
    {
     "name": "stdout",
     "output_type": "stream",
     "text": [
      "-rw-rw-r-- 1 sam sam 752M Nov 14 09:59 /home/sam/analyses/20171114_oly_pbjelly/jelly.out.fasta\r\n"
     ]
    }
   ],
   "source": [
    "ls -lh /home/sam/analyses/20171114_oly_pbjelly/jelly.out.fasta"
   ]
  },
  {
   "cell_type": "markdown",
   "metadata": {},
   "source": [
    "#### Copied to owl. Had to do so outside of notebook in order to use ```sudo``` for copying."
   ]
  },
  {
   "cell_type": "code",
   "execution_count": 16,
   "metadata": {},
   "outputs": [
    {
     "name": "stdout",
     "output_type": "stream",
     "text": [
      "\u001b[0m\u001b[01;34massembly\u001b[0m/            jelly.out.qual      output.err    \u001b[01;34msupport\u001b[0m/\r\n",
      "gap_fill_status.txt  liftOverTable.json  output.out\r\n",
      "jelly.out.fasta      \u001b[01;34mmapping\u001b[0m/            Protocol.xml\r\n"
     ]
    }
   ],
   "source": [
    "ls /mnt/owl/Athaliana/20171114_oly_pbjelly/"
   ]
  },
  {
   "cell_type": "code",
   "execution_count": null,
   "metadata": {
    "collapsed": true
   },
   "outputs": [],
   "source": []
  }
 ],
 "metadata": {
  "kernelspec": {
   "display_name": "Python 3",
   "language": "python",
   "name": "python3"
  },
  "language_info": {
   "codemirror_mode": {
    "name": "ipython",
    "version": 3
   },
   "file_extension": ".py",
   "mimetype": "text/x-python",
   "name": "python",
   "nbconvert_exporter": "python",
   "pygments_lexer": "ipython3",
   "version": "3.5.2"
  }
 },
 "nbformat": 4,
 "nbformat_minor": 2
}
