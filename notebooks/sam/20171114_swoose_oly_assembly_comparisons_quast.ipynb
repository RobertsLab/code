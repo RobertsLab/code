{
 "cells": [
  {
   "cell_type": "code",
   "execution_count": 1,
   "metadata": {},
   "outputs": [
    {
     "name": "stdout",
     "output_type": "stream",
     "text": [
      "TODAY'S DATE\n",
      "Tue Nov 14 12:16:51 PST 2017\n",
      "------------\n",
      "\n",
      "Distributor ID:\tUbuntu\n",
      "Description:\tUbuntu 16.04.3 LTS\n",
      "Release:\t16.04\n",
      "Codename:\txenial\n",
      "\n",
      "------------\n",
      "HOSTNAME: \n",
      "swoose\n",
      "\n",
      "------------\n",
      "Computer Specs:\n",
      "\n",
      "Architecture:          x86_64\n",
      "CPU op-mode(s):        32-bit, 64-bit\n",
      "Byte Order:            Little Endian\n",
      "CPU(s):                24\n",
      "On-line CPU(s) list:   0-23\n",
      "Thread(s) per core:    2\n",
      "Core(s) per socket:    6\n",
      "Socket(s):             2\n",
      "NUMA node(s):          1\n",
      "Vendor ID:             GenuineIntel\n",
      "CPU family:            6\n",
      "Model:                 44\n",
      "Model name:            Intel(R) Xeon(R) CPU           X5670  @ 2.93GHz\n",
      "Stepping:              2\n",
      "CPU MHz:               2925.853\n",
      "BogoMIPS:              5851.97\n",
      "Virtualization:        VT-x\n",
      "L1d cache:             32K\n",
      "L1i cache:             32K\n",
      "L2 cache:              256K\n",
      "L3 cache:              12288K\n",
      "NUMA node0 CPU(s):     0-23\n",
      "Flags:                 fpu vme de pse tsc msr pae mce cx8 apic sep mtrr pge mca cmov pat pse36 clflush dts acpi mmx fxsr sse sse2 ss ht tm pbe syscall nx pdpe1gb rdtscp lm constant_tsc arch_perfmon pebs bts rep_good nopl xtopology nonstop_tsc aperfmperf pni pclmulqdq dtes64 monitor ds_cpl vmx smx est tm2 ssse3 cx16 xtpr pdcm pcid dca sse4_1 sse4_2 popcnt aes lahf_lm epb tpr_shadow vnmi flexpriority ept vpid dtherm ida arat\n",
      "\n",
      "------------\n",
      "\n",
      "Memory Specs\n",
      "\n",
      "              total        used        free      shared  buff/cache   available\n",
      "Mem:            70G        4.8G         62G        236M        4.0G         65G\n",
      "Swap:          4.7G          0B        4.7G\n"
     ]
    },
    {
     "name": "stderr",
     "output_type": "stream",
     "text": [
      "No LSB modules are available.\n"
     ]
    }
   ],
   "source": [
    "%%bash\n",
    "echo \"TODAY'S DATE\"\n",
    "date\n",
    "echo \"------------\"\n",
    "echo \"\"\n",
    "lsb_release -a\n",
    "echo \"\"\n",
    "echo \"------------\"\n",
    "echo \"HOSTNAME: \"\n",
    "hostname\n",
    "echo \"\"\n",
    "echo \"------------\"\n",
    "echo \"Computer Specs:\"\n",
    "echo \"\"\n",
    "lscpu\n",
    "echo \"\"\n",
    "echo \"------------\"\n",
    "echo \"\"\n",
    "echo \"Memory Specs\"\n",
    "echo \"\"\n",
    "free -mh"
   ]
  },
  {
   "cell_type": "markdown",
   "metadata": {},
   "source": [
    "### Compare assemblies using [Quast v4.5](http://quast.sourceforge.net/quast)"
   ]
  },
  {
   "cell_type": "markdown",
   "metadata": {},
   "source": []
  },
  {
   "cell_type": "markdown",
   "metadata": {},
   "source": [
    "#### Set file locations as variables."
   ]
  },
  {
   "cell_type": "code",
   "execution_count": 2,
   "metadata": {},
   "outputs": [],
   "source": [
    "canu_sb_01=\"/mnt/owl/scaphapoda/Sean/Oly_Canu_Output/oly_pacbio_.contigs.fasta\"\n",
    "canu_sjw_01=\"/mnt/owl/Athaliana/20171018_oly_pacbio_canu/20171018_oly_pacbio.contigs.fasta\"\n",
    "pbjelly_sjw_01=\"/mnt/owl/Athaliana/20171114_oly_pbjelly/jelly.out.fasta\"\n",
    "platanus_sb_01=\"/mnt/owl/scaphapoda/Sean/Oly_Illumina_Platanus_Assembly/Oly_Out__contig.fa\"\n",
    "platanus_sb_02=\"/mnt/owl/scaphapoda/Sean/Oly_Platanus_Assembly_Kmer-22/Oly_Out__contig.fa\"\n",
    "racon_sjw_01=\"/mnt/owl/Athaliana/201709_oly_pacbio_assembly_minimap_asm_racon/20170918_oly_pacbio_racon1_consensus.fasta\"\n",
    "redundans_sb_01=\"/mnt/owl/scaphapoda/Sean/Oly_Redundans_Output/scaffolds.reduced.fa\"\n",
    "redundans_sb_02=\"/mnt/owl/scaphapoda/Sean/Oly_Redundans_Output_Try_2/scaffolds.reduced.fa\"\n",
    "redundans_sjw_01=\"/mnt/owl/Athaliana/20171005_redundans/scaffolds.reduced.fa\"\n",
    "redundans_sjw_02=\"/mnt/owl/Athaliana/20171004_redundans/scaffolds.reduced.fa\"\n",
    "redundans_sjw_03=\"/mnt/owl/Athaliana/20171024_docker_oly_redundans_01/scaffolds.reduced.fa\"\n",
    "soap_bgi_01=\"/mnt/owl/O_lurida_genome_assemblies_BGI/20161201/cdts-hk.genomics.cn/Ostrea_lurida/Ostrea_lurida.fa\""
   ]
  },
  {
   "cell_type": "code",
   "execution_count": 3,
   "metadata": {},
   "outputs": [
    {
     "name": "stdout",
     "output_type": "stream",
     "text": [
      "python: can't open file '/usr/local/bioinformatics/quast-4.5/quast.py': [Errno 2] No such file or directory\r\n"
     ]
    }
   ],
   "source": [
    "!python /usr/local/bioinformatics/quast-4.5/quast.py \\\n",
    "-t 24 \\\n",
    "$canu_sb_01 \\\n",
    "$canu_sjw_01 \\\n",
    "$pbjelly_sjw_01 \\\n",
    "$platanus_sb_01 \\\n",
    "$platanus_sb_02 \\\n",
    "$racon_sjw_01 \\\n",
    "$redundans_sb_01 \\\n",
    "$redundans_sb_02 \\\n",
    "$redundans_sjw_01 \\\n",
    "$redundans_sjw_02 \\\n",
    "$redundans_sjw_03 \\\n",
    "$soap_bgi_01"
   ]
  },
  {
   "cell_type": "markdown",
   "metadata": {},
   "source": [
    "Whoops! Copy & paste error from a different notebook. Point to correct location of Quast on this computer..."
   ]
  },
  {
   "cell_type": "code",
   "execution_count": 4,
   "metadata": {},
   "outputs": [
    {
     "name": "stdout",
     "output_type": "stream",
     "text": [
      "/home/sam/software/quast-4.5/quast.py -t 24 /mnt/owl/scaphapoda/Sean/Oly_Canu_Output/oly_pacbio_.contigs.fasta /mnt/owl/Athaliana/20171018_oly_pacbio_canu/20171018_oly_pacbio.contigs.fasta /mnt/owl/Athaliana/20171114_oly_pbjelly/jelly.out.fasta /mnt/owl/scaphapoda/Sean/Oly_Illumina_Platanus_Assembly/Oly_Out__contig.fa /mnt/owl/scaphapoda/Sean/Oly_Platanus_Assembly_Kmer-22/Oly_Out__contig.fa /mnt/owl/Athaliana/201709_oly_pacbio_assembly_minimap_asm_racon/20170918_oly_pacbio_racon1_consensus.fasta /mnt/owl/scaphapoda/Sean/Oly_Redundans_Output/scaffolds.reduced.fa /mnt/owl/scaphapoda/Sean/Oly_Redundans_Output_Try_2/scaffolds.reduced.fa /mnt/owl/Athaliana/20171005_redundans/scaffolds.reduced.fa /mnt/owl/Athaliana/20171004_redundans/scaffolds.reduced.fa /mnt/owl/Athaliana/20171024_docker_oly_redundans_01/scaffolds.reduced.fa /mnt/owl/O_lurida_genome_assemblies_BGI/20161201/cdts-hk.genomics.cn/Ostrea_lurida/Ostrea_lurida.fa\n",
      "\n",
      "Version: 4.5, 15ca3b9\n",
      "\n",
      "System information:\n",
      "  OS: Linux-4.4.0-98-generic-x86_64-with-Ubuntu-16.04-xenial (linux_64)\n",
      "  Python version: 2.7.12\n",
      "  CPUs number: 24\n",
      "\n",
      "Started: 2017-11-14 12:30:25\n",
      "\n",
      "Logging to /home/sam/gitrepos/LabDocs/jupyter_nbs/sam/quast_results/results_2017_11_14_12_30_25/quast.log\n",
      "\n",
      "CWD: /home/sam/gitrepos/LabDocs/jupyter_nbs/sam\n",
      "Main parameters: \n",
      "  Threads: 24, minimum contig length: 500, ambiguity: one, threshold for extensive misassembly size: 1000\n",
      "\n",
      "WARNING: Can't draw plots: python-matplotlib is missing or corrupted.\n",
      "\n",
      "Contigs:\n",
      "  Pre-processing...\n",
      "  1  /mnt/owl/scaphapoda/Sean/Oly_Canu_Output/oly_pacbio_.contigs.fasta ==> oly_pacbio_.contigs\n",
      "  2  /mnt/owl/Athaliana/20171018_oly_pacbio_canu/20171018_oly_pacbio.contigs.fasta ==> 20171018_oly_pacbio.contigs\n",
      "  3  /mnt/owl/Athaliana/20171114_oly_pbjelly/jelly.out.fasta ==> jelly.out\n",
      "  4  /mnt/owl/scaphapoda/Sean/Oly_Illumina_Platanus_Assembly/Oly_Out__contig.fa ==> Oly_Illumina_Platanus_Assembly_Oly_Out__contig\n",
      "  5  /mnt/owl/scaphapoda/Sean/Oly_Platanus_Assembly_Kmer-22/Oly_Out__contig.fa ==> Oly_Platanus_Assembly_Kmer-22_Oly_Out__contig\n",
      "  6  /mnt/owl/Athaliana/201709_oly_pacbio_assembly_minimap_asm_racon/20170918_oly_pacbio_racon1_consensus.fasta ==> 20170918_oly_pacbio_racon1_consensus\n",
      "  7  /mnt/owl/scaphapoda/Sean/Oly_Redundans_Output/scaffolds.reduced.fa ==> Oly_Redundans_Output_scaffolds.reduced\n",
      "  8  /mnt/owl/scaphapoda/Sean/Oly_Redundans_Output_Try_2/scaffolds.reduced.fa ==> Oly_Redundans_Output_Try_2_scaffolds.reduced\n",
      "  9  /mnt/owl/Athaliana/20171005_redundans/scaffolds.reduced.fa ==> 20171005_redundans_scaffolds.reduced\n",
      "  10 /mnt/owl/Athaliana/20171004_redundans/scaffolds.reduced.fa ==> 20171004_redundans_scaffolds.reduced\n",
      "  11 /mnt/owl/Athaliana/20171024_docker_oly_redundans_01/scaffolds.reduced.fa ==> 20171024_docker_oly_redundans_01_scaffolds.reduced\n",
      "  12 /mnt/owl/O_lurida_genome_assemblies_BGI/20161201/cdts-hk.genomics.cn/Ostrea_lurida/Ostrea_lurida.fa ==> Ostrea_lurida\n",
      "\n",
      "2017-11-14 12:32:54\n",
      "Running Basic statistics processor...\n",
      "  Contig files: \n",
      "    1  oly_pacbio_.contigs\n",
      "    2  20171018_oly_pacbio.contigs\n",
      "    3  jelly.out\n",
      "    4  Oly_Illumina_Platanus_Assembly_Oly_Out__contig\n",
      "    5  Oly_Platanus_Assembly_Kmer-22_Oly_Out__contig\n",
      "    6  20170918_oly_pacbio_racon1_consensus\n",
      "    7  Oly_Redundans_Output_scaffolds.reduced\n",
      "    8  Oly_Redundans_Output_Try_2_scaffolds.reduced\n",
      "    9  20171005_redundans_scaffolds.reduced\n",
      "    10 20171004_redundans_scaffolds.reduced\n",
      "    11 20171024_docker_oly_redundans_01_scaffolds.reduced\n",
      "    12 Ostrea_lurida\n",
      "  Calculating N50 and L50...\n",
      "    1  oly_pacbio_.contigs, N50 = 14117, L50 = 1230, Total length = 46288879, GC % = 36.45, # N's per 100 kbp =  0.00\n",
      "    2  20171018_oly_pacbio.contigs, N50 = 13157, L50 = 3329, Total length = 132146852, GC % = 36.40, # N's per 100 kbp =  0.00\n",
      "    3  jelly.out, N50 = 4204, L50 = 43989, Total length = 697528655, GC % = 35.83, # N's per 100 kbp =  19162.18\n",
      "    4  Oly_Illumina_Platanus_Assembly_Oly_Out__contig, N50 = 684, L50 = 2, Total length = 2693, GC % = 46.05, # N's per 100 kbp =  0.00\n",
      "    5  Oly_Platanus_Assembly_Kmer-22_Oly_Out__contig, N50 = 1245, L50 = 97869, Total length = 417951161, GC % = 35.70, # N's per 100 kbp =  0.00\n",
      "    6  20170918_oly_pacbio_racon1_consensus, N50 = 13763, L50 = 896, Total length = 33483762, GC % = 36.43, # N's per 100 kbp =  0.00\n",
      "    7  Oly_Redundans_Output_scaffolds.reduced, N50 = 682, L50 = 40, Total length = 85207, GC % = 36.24, # N's per 100 kbp =  17127.70\n",
      "    8  Oly_Redundans_Output_Try_2_scaffolds.reduced, N50 = 4175, L50 = 32022, Total length = 513841258, GC % = 35.90, # N's per 100 kbp =  1019.31\n",
      "    9  20171005_redundans_scaffolds.reduced, N50 = 16565, L50 = 452, Total length = 29292260, GC % = 36.39, # N's per 100 kbp =  918.03\n",
      "    10 20171004_redundans_scaffolds.reduced, N50 = 17679, L50 = 573, Total length = 40561504, GC % = 36.46, # N's per 100 kbp =  695.24\n",
      "    11 20171024_docker_oly_redundans_01_scaffolds.reduced, N50 = 16998, L50 = 1724, Total length = 111139362, GC % = 36.34, # N's per 100 kbp =  626.41\n",
      "    12 Ostrea_lurida, N50 = 4204, L50 = 43989, Total length = 697528655, GC % = 35.83, # N's per 100 kbp =  19149.50\n",
      "Done.\n",
      "\n",
      "NOTICE: Genes are not predicted by default. Use --gene-finding option to enable it.\n",
      "\n",
      "2017-11-14 12:35:17\n",
      "Creating large visual summaries...\n",
      "This may take a while: press Ctrl-C to skip this step..\n",
      "  1 of 1: Creating Icarus viewers...\n",
      "Done\n",
      "\n",
      "2017-11-14 12:36:03\n",
      "RESULTS:\n",
      "  Text versions of total report are saved to /home/sam/gitrepos/LabDocs/jupyter_nbs/sam/quast_results/results_2017_11_14_12_30_25/report.txt, report.tsv, and report.tex\n",
      "  Text versions of transposed total report are saved to /home/sam/gitrepos/LabDocs/jupyter_nbs/sam/quast_results/results_2017_11_14_12_30_25/transposed_report.txt, transposed_report.tsv, and transposed_report.tex\n",
      "  HTML version (interactive tables and plots) saved to /home/sam/gitrepos/LabDocs/jupyter_nbs/sam/quast_results/results_2017_11_14_12_30_25/report.html\n",
      "  Icarus (contig browser) is saved to /home/sam/gitrepos/LabDocs/jupyter_nbs/sam/quast_results/results_2017_11_14_12_30_25/icarus.html\n",
      "  Log saved to /home/sam/gitrepos/LabDocs/jupyter_nbs/sam/quast_results/results_2017_11_14_12_30_25/quast.log\n",
      "\n",
      "Finished: 2017-11-14 12:36:04\n",
      "Elapsed time: 0:05:38.666589\n",
      "NOTICEs: 1; WARNINGs: 1; non-fatal ERRORs: 0\n",
      "\n",
      "Thank you for using QUAST!\n"
     ]
    }
   ],
   "source": [
    "!python /home/sam/software/quast-4.5/quast.py \\\n",
    "-t 24 \\\n",
    "$canu_sb_01 \\\n",
    "$canu_sjw_01 \\\n",
    "$pbjelly_sjw_01 \\\n",
    "$platanus_sb_01 \\\n",
    "$platanus_sb_02 \\\n",
    "$racon_sjw_01 \\\n",
    "$redundans_sb_01 \\\n",
    "$redundans_sb_02 \\\n",
    "$redundans_sjw_01 \\\n",
    "$redundans_sjw_02 \\\n",
    "$redundans_sjw_03 \\\n",
    "$soap_bgi_01"
   ]
  },
  {
   "cell_type": "code",
   "execution_count": 5,
   "metadata": {},
   "outputs": [
    {
     "name": "stdout",
     "output_type": "stream",
     "text": [
      "All statistics are based on contigs of size >= 500 bp, unless otherwise noted (e.g., \"# contigs (>= 0 bp)\" and \"Total length (>= 0 bp)\" include all contigs).\n",
      "Suggestion: assemblies jelly.out, Oly_Redundans_Output_scaffolds.reduced, Oly_Redundans_Output_Try_2_scaffolds.reduced, 20171005_redundans_scaffolds.reduced, 20171004_redundans_scaffolds.reduced, 20171024_docker_oly_redundans_01_scaffolds.reduced, Ostrea_lurida contain continuous fragments of N's of length >= 10 bp. You may consider rerunning QUAST using --scaffolds (-s) option!\n",
      "\n",
      "Assembly                    oly_pacbio_.contigs  20171018_oly_pacbio.contigs  jelly.out  Oly_Illumina_Platanus_Assembly_Oly_Out__contig  Oly_Platanus_Assembly_Kmer-22_Oly_Out__contig  20170918_oly_pacbio_racon1_consensus  Oly_Redundans_Output_scaffolds.reduced  Oly_Redundans_Output_Try_2_scaffolds.reduced  20171005_redundans_scaffolds.reduced  20171004_redundans_scaffolds.reduced  20171024_docker_oly_redundans_01_scaffolds.reduced  Ostrea_lurida\n",
      "# contigs (>= 0 bp)         3388                 11246                        765755     193390                                          12395459                                       2896                                  3642                                    300593                                        2078                                  2315                                  7408                                                765755       \n",
      "# contigs (>= 1000 bp)      3388                 11246                        184804     0                                               141851                                         2776                                  18                                      137301                                        1971                                  2315                                  7408                                                184804       \n",
      "# contigs (>= 5000 bp)      3338                 10751                        33792      0                                               2631                                           2492                                  0                                       24009                                         1744                                  2282                                  7270                                                33792        \n",
      "# contigs (>= 10000 bp)     2662                 5469                         8733       0                                               157                                            1715                                  0                                       6254                                          1202                                  1811                                  4127                                                8733         \n",
      "# contigs (>= 25000 bp)     119                  547                          553        0                                               0                                              88                                    0                                       586                                           204                                   304                                   823                                                 553          \n",
      "# contigs (>= 50000 bp)     3                    17                           21         0                                               0                                              2                                     0                                       36                                            66                                    91                                    216                                                 21           \n",
      "Total length (>= 0 bp)      46288879             132146852                    776306190  16949361                                        1633553496                                     33496662                              968128                                  546928670                                     29303793                              40561504                              111139362                                           776306190    \n",
      "Total length (>= 1000 bp)   46288879             132146852                    642346712  0                                               257934533                                      33421961                              25115                                   476206320                                     29235249                              40561504                              111139362                                           642346712    \n",
      "Total length (>= 5000 bp)   46112108             130500089                    302087694  0                                               17549692                                       32715909                              0                                       220366692                                     28679494                              40443936                              110651100                                           302087694    \n",
      "Total length (>= 10000 bp)  40284040             90550146                     131223850  0                                               1977623                                        26428099                              0                                       99646272                                      24316776                              36412694                              86479013                                            131223850    \n",
      "Total length (>= 25000 bp)  3651638              17592727                     17851807   0                                               0                                              2808408                               0                                       19574809                                      9732934                               14794719                              37385867                                            17851807     \n",
      "Total length (>= 50000 bp)  174603               940167                       1283294    0                                               0                                              127712                                0                                       2106424                                       5126002                               7662042                               17006058                                            1283294      \n",
      "# contigs                   3388                 11246                        259186     4                                               373312                                         2856                                  114                                     188612                                        2045                                  2315                                  7408                                                259186       \n",
      "Largest contig              61184                76280                        130073     764                                             23341                                          68522                                 3063                                    78788                                         252259                                322397                                256714                                              130073       \n",
      "Total length                46288879             132146852                    697528655  2693                                            417951161                                      33483762                              85207                                   513841258                                     29292260                              40561504                              111139362                                           697528655    \n",
      "GC (%)                      36.45                36.40                        35.83      46.05                                           35.70                                          36.43                                 36.24                                   35.90                                         36.39                                 36.46                                 36.34                                               35.83        \n",
      "N50                         14117                13157                        4204       684                                             1245                                           13763                                 682                                     4175                                          16565                                 17679                                 16998                                               4204         \n",
      "N75                         11415                9066                         2078       644                                             784                                            10543                                 569                                     2103                                          11605                                 12211                                 10536                                               2078         \n",
      "L50                         1230                 3329                         43989      2                                               97869                                          896                                   40                                      32022                                         452                                   573                                   1724                                                43989        \n",
      "L75                         2145                 6369                         103370     3                                               204757                                         1588                                  74                                      75613                                         984                                   1274                                  3823                                                103370       \n",
      "# N's per 100 kbp           0.00                 0.00                         19162.18   0.00                                            0.00                                           0.00                                  17127.70                                1019.31                                       918.03                                695.24                                626.41                                              19149.50     \n"
     ]
    }
   ],
   "source": [
    "%%bash\n",
    "cat quast_results/results_2017_11_14_12_30_25/report.txt"
   ]
  },
  {
   "cell_type": "code",
   "execution_count": 6,
   "metadata": {},
   "outputs": [
    {
     "name": "stderr",
     "output_type": "stream",
     "text": [
      "cp: cannot create directory '/mnt/owl/Athaliana/quast_results/results_2017_11_14_12_30_25': Permission denied\n"
     ]
    }
   ],
   "source": [
    "%%bash\n",
    "cp -pR quast_results/results_2017_11_14_12_30_25/ /mnt/owl/Athaliana/quast_results/"
   ]
  },
  {
   "cell_type": "markdown",
   "metadata": {},
   "source": [
    "#### Needed to use ```sudo``` to cp, so did that outside of notebook."
   ]
  },
  {
   "cell_type": "code",
   "execution_count": 7,
   "metadata": {},
   "outputs": [
    {
     "name": "stdout",
     "output_type": "stream",
     "text": [
      "basic_stats\n",
      "icarus.html\n",
      "icarus_viewers\n",
      "quast.log\n",
      "report.html\n",
      "report.tex\n",
      "report.tsv\n",
      "report.txt\n",
      "transposed_report.tex\n",
      "transposed_report.tsv\n",
      "transposed_report.txt\n"
     ]
    }
   ],
   "source": [
    "%%bash\n",
    "ls /mnt/owl/Athaliana/quast_results/results_2017_11_14_12_30_25/"
   ]
  },
  {
   "cell_type": "markdown",
   "metadata": {},
   "source": [
    "OK, so this all worked. However, text file output is difficult to view in Jupyter notebook. View it here: [http://owl.fish.washington.edu/Athaliana/quast_results/results_2017_11_14_12_30_25/report.txt](http://owl.fish.washington.edu/Athaliana/quast_results/results_2017_11_14_12_30_25/report.txt)\n",
    "\n",
    "Use this link to view color-coded table of output:\n",
    "\n",
    "[http://owl.fish.washington.edu/Athaliana/quast_results/results_2017_11_14_12_30_25/report.html](http://owl.fish.washington.edu/Athaliana/quast_results/results_2017_11_14_12_30_25/report.html)"
   ]
  },
  {
   "cell_type": "code",
   "execution_count": null,
   "metadata": {},
   "outputs": [],
   "source": []
  }
 ],
 "metadata": {
  "kernelspec": {
   "display_name": "Python 3",
   "language": "python",
   "name": "python3"
  },
  "language_info": {
   "codemirror_mode": {
    "name": "ipython",
    "version": 3
   },
   "file_extension": ".py",
   "mimetype": "text/x-python",
   "name": "python",
   "nbconvert_exporter": "python",
   "pygments_lexer": "ipython3",
   "version": "3.5.2"
  }
 },
 "nbformat": 4,
 "nbformat_minor": 2
}
