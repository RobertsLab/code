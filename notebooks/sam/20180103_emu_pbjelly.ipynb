{
 "cells": [
  {
   "cell_type": "code",
   "execution_count": 1,
   "metadata": {
    "collapsed": false
   },
   "outputs": [
    {
     "name": "stdout",
     "output_type": "stream",
     "text": [
      "TODAY'S DATE:\n",
      "Wed Jan  3 15:23:35 PST 2018\n",
      "------------\n",
      "\n",
      "Distributor ID:\tUbuntu\n",
      "Description:\tUbuntu 16.04.3 LTS\n",
      "Release:\t16.04\n",
      "Codename:\txenial\n",
      "\n",
      "------------\n",
      "HOSTNAME: \n",
      "emu\n",
      "\n",
      "------------\n",
      "Computer Specs:\n",
      "\n",
      "Architecture:          x86_64\n",
      "CPU op-mode(s):        32-bit, 64-bit\n",
      "Byte Order:            Little Endian\n",
      "CPU(s):                16\n",
      "On-line CPU(s) list:   0-15\n",
      "Thread(s) per core:    2\n",
      "Core(s) per socket:    4\n",
      "Socket(s):             2\n",
      "NUMA node(s):          1\n",
      "Vendor ID:             GenuineIntel\n",
      "CPU family:            6\n",
      "Model:                 26\n",
      "Model name:            Intel(R) Xeon(R) CPU           E5520  @ 2.27GHz\n",
      "Stepping:              5\n",
      "CPU MHz:               2394.000\n",
      "CPU max MHz:           2394.0000\n",
      "CPU min MHz:           1596.0000\n",
      "BogoMIPS:              4521.80\n",
      "Virtualization:        VT-x\n",
      "L1d cache:             32K\n",
      "L1i cache:             32K\n",
      "L2 cache:              256K\n",
      "L3 cache:              8192K\n",
      "NUMA node0 CPU(s):     0-15\n",
      "Flags:                 fpu vme de pse tsc msr pae mce cx8 apic sep mtrr pge mca cmov pat pse36 clflush dts acpi mmx fxsr sse sse2 ss ht tm pbe syscall nx rdtscp lm constant_tsc arch_perfmon pebs bts nopl xtopology nonstop_tsc aperfmperf pni dtes64 monitor ds_cpl vmx est tm2 ssse3 cx16 xtpr pdcm dca sse4_1 sse4_2 popcnt lahf_lm tpr_shadow vnmi flexpriority ept vpid dtherm ida\n",
      "\n",
      "------------\n",
      "\n",
      "Memory Specs\n",
      "\n",
      "              total        used        free      shared  buff/cache   available\n",
      "Mem:            47G         29G        5.3G        462M         12G         16G\n",
      "Swap:           11G        6.5G        5.5G\n"
     ]
    },
    {
     "name": "stderr",
     "output_type": "stream",
     "text": [
      "No LSB modules are available.\n"
     ]
    }
   ],
   "source": [
    "%%bash\n",
    "echo \"TODAY'S DATE:\"\n",
    "date\n",
    "echo \"------------\"\n",
    "echo \"\"\n",
    "lsb_release -a\n",
    "echo \"\"\n",
    "echo \"------------\"\n",
    "echo \"HOSTNAME: \"; hostname \n",
    "echo \"\"\n",
    "echo \"------------\"\n",
    "echo \"Computer Specs:\"\n",
    "echo \"\"\n",
    "lscpu\n",
    "echo \"\"\n",
    "echo \"------------\"\n",
    "echo \"\"\n",
    "echo \"Memory Specs\"\n",
    "echo \"\"\n",
    "free -mh"
   ]
  },
  {
   "cell_type": "code",
   "execution_count": 2,
   "metadata": {
    "collapsed": true
   },
   "outputs": [],
   "source": [
    "%%bash\n",
    "mkdir /home/sam/analyses/20180103_oly_pbjelly"
   ]
  },
  {
   "cell_type": "code",
   "execution_count": 3,
   "metadata": {
    "collapsed": false
   },
   "outputs": [],
   "source": [
    "ls /home/sam/analyses/20180103_oly_pbjelly/"
   ]
  },
  {
   "cell_type": "code",
   "execution_count": 4,
   "metadata": {
    "collapsed": true
   },
   "outputs": [],
   "source": [
    "%%bash\n",
    "cp /home/sam/analyses/20171130_oly_pbjelly/Protocol.xml /home/sam/analyses/20180103_oly_pbjelly/"
   ]
  },
  {
   "cell_type": "code",
   "execution_count": 5,
   "metadata": {
    "collapsed": false
   },
   "outputs": [
    {
     "name": "stdout",
     "output_type": "stream",
     "text": [
      "<jellyProtocol>\n",
      "    <reference>/home/sam/data/oly_BGI_scaffolds.fasta</reference>  \n",
      "    <outputDir>/home/sam/analyses/20171130_oly_pbjelly</outputDir>\n",
      "    <blasr>-minMatch 8 -minPctIdentity 70 -bestn 1 -nCandidates 20 -maxScore -500 -nproc 48 -noSplitSubreads</blasr>\n",
      "    <input baseDir=\"/home/sam/data/\">\n",
      "        <job>m130619_081336_42134_c100525122550000001823081109281326_s1_p0.fastq</job>\n",
      "        <job>m170211_224036_42134_c101073082550000001823236402101737_s1_X0_filtered_subreads.fastq</job>\n",
      "\t<job>m170301_100013_42134_c101174162550000001823269408211761_s1_p0_filtered_subreads.fastq</job>\n",
      "\t<job>m170301_162825_42134_c101174162550000001823269408211762_s1_p0_filtered_subreads.fastq</job>\n",
      "\t<job>m170301_225711_42134_c101174162550000001823269408211763_s1_p0_filtered_subreads.fastq</job>\n",
      "\t<job>m170308_163922_42134_c101174252550000001823269408211742_s1_p0_filtered_subreads.fastq</job>\n",
      "\t<job>m170308_230815_42134_c101174252550000001823269408211743_s1_p0_filtered_subreads.fastq</job>\n",
      "\t<job>m170315_001112_42134_c101169372550000001823273008151717_s1_p0_filtered_subreads.fastq</job>\n",
      "\t<job>m170315_063041_42134_c101169382550000001823273008151700_s1_p0_filtered_subreads.fastq</job>\n",
      "\t<job>m170315_124938_42134_c101169382550000001823273008151701_s1_p0_filtered_subreads.fastq</job>\n",
      "\t<job>m170315_190851_42134_c101169382550000001823273008151702_s1_p0_filtered_subreads.fastq</job>\n",
      "    </input>\n",
      "</jellyProtocol>\n"
     ]
    }
   ],
   "source": [
    "%%bash\n",
    "cat /home/sam/analyses/20180103_oly_pbjelly/Protocol.xml"
   ]
  },
  {
   "cell_type": "code",
   "execution_count": 6,
   "metadata": {
    "collapsed": true
   },
   "outputs": [],
   "source": [
    "%%bash\n",
    "sed -i 's/20171130_oly_pbjelly/20180103_oly_pbjelly/g' /home/sam/analyses/20180103_oly_pbjelly/Protocol.xml"
   ]
  },
  {
   "cell_type": "code",
   "execution_count": 7,
   "metadata": {
    "collapsed": false
   },
   "outputs": [
    {
     "name": "stdout",
     "output_type": "stream",
     "text": [
      "<jellyProtocol>\n",
      "    <reference>/home/sam/data/oly_BGI_scaffolds.fasta</reference>  \n",
      "    <outputDir>/home/sam/analyses/20171130_oly_pbjelly</outputDir>\n",
      "    <blasr>-minMatch 8 -minPctIdentity 70 -bestn 1 -nCandidates 20 -maxScore -500 -nproc 48 -noSplitSubreads</blasr>\n",
      "    <input baseDir=\"/home/sam/data/\">\n",
      "        <job>m130619_081336_42134_c100525122550000001823081109281326_s1_p0.fastq</job>\n",
      "        <job>m170211_224036_42134_c101073082550000001823236402101737_s1_X0_filtered_subreads.fastq</job>\n",
      "\t<job>m170301_100013_42134_c101174162550000001823269408211761_s1_p0_filtered_subreads.fastq</job>\n",
      "\t<job>m170301_162825_42134_c101174162550000001823269408211762_s1_p0_filtered_subreads.fastq</job>\n",
      "\t<job>m170301_225711_42134_c101174162550000001823269408211763_s1_p0_filtered_subreads.fastq</job>\n",
      "\t<job>m170308_163922_42134_c101174252550000001823269408211742_s1_p0_filtered_subreads.fastq</job>\n",
      "\t<job>m170308_230815_42134_c101174252550000001823269408211743_s1_p0_filtered_subreads.fastq</job>\n",
      "\t<job>m170315_001112_42134_c101169372550000001823273008151717_s1_p0_filtered_subreads.fastq</job>\n",
      "\t<job>m170315_063041_42134_c101169382550000001823273008151700_s1_p0_filtered_subreads.fastq</job>\n",
      "\t<job>m170315_124938_42134_c101169382550000001823273008151701_s1_p0_filtered_subreads.fastq</job>\n",
      "\t<job>m170315_190851_42134_c101169382550000001823273008151702_s1_p0_filtered_subreads.fastq</job>\n",
      "    </input>\n",
      "</jellyProtocol>\n"
     ]
    }
   ],
   "source": [
    "%%bash\n",
    "cat /home/sam/analyses/20180103_oly_pbjelly/Protocol.xml"
   ]
  },
  {
   "cell_type": "markdown",
   "metadata": {},
   "source": [
    "WHOOPS! Copy/paste error. Let's try again..."
   ]
  },
  {
   "cell_type": "code",
   "execution_count": 8,
   "metadata": {
    "collapsed": false
   },
   "outputs": [
    {
     "name": "stdout",
     "output_type": "stream",
     "text": [
      "<jellyProtocol>\n",
      "    <reference>/home/sam/data/oly_BGI_scaffolds.fasta</reference>  \n",
      "    <outputDir>/home/sam/analyses/20180103_oly_pbjelly</outputDir>\n",
      "    <blasr>-minMatch 8 -minPctIdentity 70 -bestn 1 -nCandidates 20 -maxScore -500 -nproc 48 -noSplitSubreads</blasr>\n",
      "    <input baseDir=\"/home/sam/data/\">\n",
      "        <job>m130619_081336_42134_c100525122550000001823081109281326_s1_p0.fastq</job>\n",
      "        <job>m170211_224036_42134_c101073082550000001823236402101737_s1_X0_filtered_subreads.fastq</job>\n",
      "\t<job>m170301_100013_42134_c101174162550000001823269408211761_s1_p0_filtered_subreads.fastq</job>\n",
      "\t<job>m170301_162825_42134_c101174162550000001823269408211762_s1_p0_filtered_subreads.fastq</job>\n",
      "\t<job>m170301_225711_42134_c101174162550000001823269408211763_s1_p0_filtered_subreads.fastq</job>\n",
      "\t<job>m170308_163922_42134_c101174252550000001823269408211742_s1_p0_filtered_subreads.fastq</job>\n",
      "\t<job>m170308_230815_42134_c101174252550000001823269408211743_s1_p0_filtered_subreads.fastq</job>\n",
      "\t<job>m170315_001112_42134_c101169372550000001823273008151717_s1_p0_filtered_subreads.fastq</job>\n",
      "\t<job>m170315_063041_42134_c101169382550000001823273008151700_s1_p0_filtered_subreads.fastq</job>\n",
      "\t<job>m170315_124938_42134_c101169382550000001823273008151701_s1_p0_filtered_subreads.fastq</job>\n",
      "\t<job>m170315_190851_42134_c101169382550000001823273008151702_s1_p0_filtered_subreads.fastq</job>\n",
      "    </input>\n",
      "</jellyProtocol>\n"
     ]
    }
   ],
   "source": [
    "%%bash\n",
    "cat /home/sam/analyses/20180103_oly_pbjelly/Protocol.xml"
   ]
  },
  {
   "cell_type": "markdown",
   "metadata": {},
   "source": [
    "#### Need to insert special command to tell PB Jelly that this is NOT on a cluster. Will insert into line #4 of ```Protocol.xml``` file using ```sed```\n",
    "\n",
    "Hopefully this adjustment will increase the speed of PB Jelly on Emu."
   ]
  },
  {
   "cell_type": "code",
   "execution_count": 9,
   "metadata": {
    "collapsed": true
   },
   "outputs": [],
   "source": [
    "%%bash\n",
    "sed -i '4i    <command>${CMD} ${JOBNAME} 2> ${STDERR} 1> ${STDOUT} &</command>' /home/sam/analyses/20180103_oly_pbjelly/Protocol.xml"
   ]
  },
  {
   "cell_type": "code",
   "execution_count": 10,
   "metadata": {
    "collapsed": false
   },
   "outputs": [
    {
     "name": "stdout",
     "output_type": "stream",
     "text": [
      "<jellyProtocol>\n",
      "    <reference>/home/sam/data/oly_BGI_scaffolds.fasta</reference>  \n",
      "    <outputDir>/home/sam/analyses/20180103_oly_pbjelly</outputDir>\n",
      "<command>${CMD} ${JOBNAME} 2> ${STDERR} 1> ${STDOUT} &</command>\n",
      "    <blasr>-minMatch 8 -minPctIdentity 70 -bestn 1 -nCandidates 20 -maxScore -500 -nproc 48 -noSplitSubreads</blasr>\n",
      "    <input baseDir=\"/home/sam/data/\">\n",
      "        <job>m130619_081336_42134_c100525122550000001823081109281326_s1_p0.fastq</job>\n",
      "        <job>m170211_224036_42134_c101073082550000001823236402101737_s1_X0_filtered_subreads.fastq</job>\n",
      "\t<job>m170301_100013_42134_c101174162550000001823269408211761_s1_p0_filtered_subreads.fastq</job>\n",
      "\t<job>m170301_162825_42134_c101174162550000001823269408211762_s1_p0_filtered_subreads.fastq</job>\n",
      "\t<job>m170301_225711_42134_c101174162550000001823269408211763_s1_p0_filtered_subreads.fastq</job>\n",
      "\t<job>m170308_163922_42134_c101174252550000001823269408211742_s1_p0_filtered_subreads.fastq</job>\n",
      "\t<job>m170308_230815_42134_c101174252550000001823269408211743_s1_p0_filtered_subreads.fastq</job>\n",
      "\t<job>m170315_001112_42134_c101169372550000001823273008151717_s1_p0_filtered_subreads.fastq</job>\n",
      "\t<job>m170315_063041_42134_c101169382550000001823273008151700_s1_p0_filtered_subreads.fastq</job>\n",
      "\t<job>m170315_124938_42134_c101169382550000001823273008151701_s1_p0_filtered_subreads.fastq</job>\n",
      "\t<job>m170315_190851_42134_c101169382550000001823273008151702_s1_p0_filtered_subreads.fastq</job>\n",
      "    </input>\n",
      "</jellyProtocol>\n"
     ]
    }
   ],
   "source": [
    "%%bash\n",
    "cat /home/sam/analyses/20180103_oly_pbjelly/Protocol.xml"
   ]
  },
  {
   "cell_type": "code",
   "execution_count": 11,
   "metadata": {
    "collapsed": false
   },
   "outputs": [
    {
     "name": "stderr",
     "output_type": "stream",
     "text": [
      "2018-01-03 15:37:24,992 [INFO] Running /home/shared/PBSuite_15.8.24/bin/Jelly.py setup /home/sam/analyses/20180103_oly_pbjelly/Protocol.xml\n",
      "\n",
      "Please Cite: English, Adam C., Stephen Richards, Yi Han, Min Wang,\n",
      "             Vanesa Vee, Jiaxin Qu, Xiang Qin, et al. \"Mind the\n",
      "             Gap: Upgrading Genomes with Pacific Biosciences RS\n",
      "             Long-Read Sequencing Technology.\" PLoS ONE 7, no. 11\n",
      "             (November 21, 2012): e47768.\n",
      "             doi:10.1371/journal.pone.0047768.\n",
      "\n",
      "2018-01-03 15:37:24,993 [ERROR] If you're actually sure the input Protocol is where you said it is, then the Protocol doesn't have valid XML Format. Use an XML validator.\n",
      "\n",
      "real\t0m0.370s\n",
      "user\t0m0.244s\n",
      "sys\t0m0.900s\n",
      "2018-01-03 15:37:25,140 [INFO] Running /home/shared/PBSuite_15.8.24/bin/Jelly.py mapping /home/sam/analyses/20180103_oly_pbjelly/Protocol.xml\n",
      "\n",
      "Please Cite: English, Adam C., Stephen Richards, Yi Han, Min Wang,\n",
      "             Vanesa Vee, Jiaxin Qu, Xiang Qin, et al. \"Mind the\n",
      "             Gap: Upgrading Genomes with Pacific Biosciences RS\n",
      "             Long-Read Sequencing Technology.\" PLoS ONE 7, no. 11\n",
      "             (November 21, 2012): e47768.\n",
      "             doi:10.1371/journal.pone.0047768.\n",
      "\n",
      "2018-01-03 15:37:25,141 [ERROR] If you're actually sure the input Protocol is where you said it is, then the Protocol doesn't have valid XML Format. Use an XML validator.\n",
      "\n",
      "real\t0m0.152s\n",
      "user\t0m0.288s\n",
      "sys\t0m1.064s\n",
      "2018-01-03 15:37:25,314 [INFO] Running /home/shared/PBSuite_15.8.24/bin/Jelly.py support /home/sam/analyses/20180103_oly_pbjelly/Protocol.xml\n",
      "\n",
      "Please Cite: English, Adam C., Stephen Richards, Yi Han, Min Wang,\n",
      "             Vanesa Vee, Jiaxin Qu, Xiang Qin, et al. \"Mind the\n",
      "             Gap: Upgrading Genomes with Pacific Biosciences RS\n",
      "             Long-Read Sequencing Technology.\" PLoS ONE 7, no. 11\n",
      "             (November 21, 2012): e47768.\n",
      "             doi:10.1371/journal.pone.0047768.\n",
      "\n",
      "2018-01-03 15:37:25,316 [ERROR] If you're actually sure the input Protocol is where you said it is, then the Protocol doesn't have valid XML Format. Use an XML validator.\n",
      "\n",
      "real\t0m0.177s\n",
      "user\t0m0.308s\n",
      "sys\t0m1.264s\n",
      "2018-01-03 15:37:25,467 [INFO] Running /home/shared/PBSuite_15.8.24/bin/Jelly.py extraction /home/sam/analyses/20180103_oly_pbjelly/Protocol.xml\n",
      "\n",
      "Please Cite: English, Adam C., Stephen Richards, Yi Han, Min Wang,\n",
      "             Vanesa Vee, Jiaxin Qu, Xiang Qin, et al. \"Mind the\n",
      "             Gap: Upgrading Genomes with Pacific Biosciences RS\n",
      "             Long-Read Sequencing Technology.\" PLoS ONE 7, no. 11\n",
      "             (November 21, 2012): e47768.\n",
      "             doi:10.1371/journal.pone.0047768.\n",
      "\n",
      "2018-01-03 15:37:25,469 [ERROR] If you're actually sure the input Protocol is where you said it is, then the Protocol doesn't have valid XML Format. Use an XML validator.\n",
      "\n",
      "real\t0m0.155s\n",
      "user\t0m0.208s\n",
      "sys\t0m0.628s\n",
      "2018-01-03 15:37:25,689 [INFO] Running /home/shared/PBSuite_15.8.24/bin/Jelly.py assembly /home/sam/analyses/20180103_oly_pbjelly/Protocol.xml\n",
      "\n",
      "Please Cite: English, Adam C., Stephen Richards, Yi Han, Min Wang,\n",
      "             Vanesa Vee, Jiaxin Qu, Xiang Qin, et al. \"Mind the\n",
      "             Gap: Upgrading Genomes with Pacific Biosciences RS\n",
      "             Long-Read Sequencing Technology.\" PLoS ONE 7, no. 11\n",
      "             (November 21, 2012): e47768.\n",
      "             doi:10.1371/journal.pone.0047768.\n",
      "\n",
      "2018-01-03 15:37:25,690 [ERROR] If you're actually sure the input Protocol is where you said it is, then the Protocol doesn't have valid XML Format. Use an XML validator.\n",
      "\n",
      "real\t0m0.217s\n",
      "user\t0m0.312s\n",
      "sys\t0m1.268s\n",
      "2018-01-03 15:37:25,832 [INFO] Running /home/shared/PBSuite_15.8.24/bin/Jelly.py output /home/sam/analyses/20180103_oly_pbjelly/Protocol.xml\n",
      "\n",
      "Please Cite: English, Adam C., Stephen Richards, Yi Han, Min Wang,\n",
      "             Vanesa Vee, Jiaxin Qu, Xiang Qin, et al. \"Mind the\n",
      "             Gap: Upgrading Genomes with Pacific Biosciences RS\n",
      "             Long-Read Sequencing Technology.\" PLoS ONE 7, no. 11\n",
      "             (November 21, 2012): e47768.\n",
      "             doi:10.1371/journal.pone.0047768.\n",
      "\n",
      "2018-01-03 15:37:25,834 [ERROR] If you're actually sure the input Protocol is where you said it is, then the Protocol doesn't have valid XML Format. Use an XML validator.\n",
      "\n",
      "real\t0m0.139s\n",
      "user\t0m0.164s\n",
      "sys\t0m0.568s\n"
     ]
    }
   ],
   "source": [
    "%%bash\n",
    "source /home/shared/PBSuite_15.8.24/setup.sh\n",
    "time python /home/shared/PBSuite_15.8.24/bin/Jelly.py setup /home/sam/analyses/20180103_oly_pbjelly/Protocol.xml\n",
    "time python /home/shared/PBSuite_15.8.24/bin/Jelly.py mapping /home/sam/analyses/20180103_oly_pbjelly/Protocol.xml\n",
    "time python /home/shared/PBSuite_15.8.24/bin/Jelly.py support /home/sam/analyses/20180103_oly_pbjelly/Protocol.xml\n",
    "time python /home/shared/PBSuite_15.8.24/bin/Jelly.py extraction /home/sam/analyses/20180103_oly_pbjelly/Protocol.xml\n",
    "time python /home/shared/PBSuite_15.8.24/bin/Jelly.py assembly /home/sam/analyses/20180103_oly_pbjelly/Protocol.xml\n",
    "time python /home/shared/PBSuite_15.8.24/bin/Jelly.py output /home/sam/analyses/20180103_oly_pbjelly/Protocol.xml"
   ]
  },
  {
   "cell_type": "code",
   "execution_count": 12,
   "metadata": {
    "collapsed": false
   },
   "outputs": [
    {
     "name": "stderr",
     "output_type": "stream",
     "text": [
      "bash: line 3: emailme: command not found\n"
     ]
    }
   ],
   "source": [
    "%%bash\n",
    "source ~/.bashrc\n",
    "source ~/.bash_aliases\n",
    "emailme"
   ]
  },
  {
   "cell_type": "markdown",
   "metadata": {},
   "source": [
    "#### Fixed spacing of newly inserted line."
   ]
  },
  {
   "cell_type": "code",
   "execution_count": 13,
   "metadata": {
    "collapsed": false
   },
   "outputs": [
    {
     "name": "stdout",
     "output_type": "stream",
     "text": [
      "<jellyProtocol>\n",
      "    <reference>/home/sam/data/oly_BGI_scaffolds.fasta</reference>  \n",
      "    <outputDir>/home/sam/analyses/20180103_oly_pbjelly</outputDir>\n",
      "    <command>${CMD} ${JOBNAME} 2> ${STDERR} 1> ${STDOUT} &</command>\n",
      "    <blasr>-minMatch 8 -minPctIdentity 70 -bestn 1 -nCandidates 20 -maxScore -500 -nproc 48 -noSplitSubreads</blasr>\n",
      "    <input baseDir=\"/home/sam/data/\">\n",
      "        <job>m130619_081336_42134_c100525122550000001823081109281326_s1_p0.fastq</job>\n",
      "        <job>m170211_224036_42134_c101073082550000001823236402101737_s1_X0_filtered_subreads.fastq</job>\n",
      "\t<job>m170301_100013_42134_c101174162550000001823269408211761_s1_p0_filtered_subreads.fastq</job>\n",
      "\t<job>m170301_162825_42134_c101174162550000001823269408211762_s1_p0_filtered_subreads.fastq</job>\n",
      "\t<job>m170301_225711_42134_c101174162550000001823269408211763_s1_p0_filtered_subreads.fastq</job>\n",
      "\t<job>m170308_163922_42134_c101174252550000001823269408211742_s1_p0_filtered_subreads.fastq</job>\n",
      "\t<job>m170308_230815_42134_c101174252550000001823269408211743_s1_p0_filtered_subreads.fastq</job>\n",
      "\t<job>m170315_001112_42134_c101169372550000001823273008151717_s1_p0_filtered_subreads.fastq</job>\n",
      "\t<job>m170315_063041_42134_c101169382550000001823273008151700_s1_p0_filtered_subreads.fastq</job>\n",
      "\t<job>m170315_124938_42134_c101169382550000001823273008151701_s1_p0_filtered_subreads.fastq</job>\n",
      "\t<job>m170315_190851_42134_c101169382550000001823273008151702_s1_p0_filtered_subreads.fastq</job>\n",
      "    </input>\n",
      "</jellyProtocol>\n"
     ]
    }
   ],
   "source": [
    "%%bash\n",
    "cat /home/sam/analyses/20180103_oly_pbjelly/Protocol.xml"
   ]
  },
  {
   "cell_type": "code",
   "execution_count": 14,
   "metadata": {
    "collapsed": false
   },
   "outputs": [
    {
     "name": "stderr",
     "output_type": "stream",
     "text": [
      "2018-01-03 15:42:50,796 [INFO] Running /home/shared/PBSuite_15.8.24/bin/Jelly.py setup /home/sam/analyses/20180103_oly_pbjelly/Protocol.xml\n",
      "\n",
      "Please Cite: English, Adam C., Stephen Richards, Yi Han, Min Wang,\n",
      "             Vanesa Vee, Jiaxin Qu, Xiang Qin, et al. \"Mind the\n",
      "             Gap: Upgrading Genomes with Pacific Biosciences RS\n",
      "             Long-Read Sequencing Technology.\" PLoS ONE 7, no. 11\n",
      "             (November 21, 2012): e47768.\n",
      "             doi:10.1371/journal.pone.0047768.\n",
      "\n",
      "2018-01-03 15:42:50,798 [ERROR] If you're actually sure the input Protocol is where you said it is, then the Protocol doesn't have valid XML Format. Use an XML validator.\n",
      "\n",
      "real\t0m0.177s\n",
      "user\t0m0.292s\n",
      "sys\t0m1.220s\n",
      "2018-01-03 15:42:50,947 [INFO] Running /home/shared/PBSuite_15.8.24/bin/Jelly.py mapping /home/sam/analyses/20180103_oly_pbjelly/Protocol.xml\n",
      "\n",
      "Please Cite: English, Adam C., Stephen Richards, Yi Han, Min Wang,\n",
      "             Vanesa Vee, Jiaxin Qu, Xiang Qin, et al. \"Mind the\n",
      "             Gap: Upgrading Genomes with Pacific Biosciences RS\n",
      "             Long-Read Sequencing Technology.\" PLoS ONE 7, no. 11\n",
      "             (November 21, 2012): e47768.\n",
      "             doi:10.1371/journal.pone.0047768.\n",
      "\n",
      "2018-01-03 15:42:50,949 [ERROR] If you're actually sure the input Protocol is where you said it is, then the Protocol doesn't have valid XML Format. Use an XML validator.\n",
      "\n",
      "real\t0m0.152s\n",
      "user\t0m0.284s\n",
      "sys\t0m1.052s\n",
      "2018-01-03 15:42:51,081 [INFO] Running /home/shared/PBSuite_15.8.24/bin/Jelly.py support /home/sam/analyses/20180103_oly_pbjelly/Protocol.xml\n",
      "\n",
      "Please Cite: English, Adam C., Stephen Richards, Yi Han, Min Wang,\n",
      "             Vanesa Vee, Jiaxin Qu, Xiang Qin, et al. \"Mind the\n",
      "             Gap: Upgrading Genomes with Pacific Biosciences RS\n",
      "             Long-Read Sequencing Technology.\" PLoS ONE 7, no. 11\n",
      "             (November 21, 2012): e47768.\n",
      "             doi:10.1371/journal.pone.0047768.\n",
      "\n",
      "2018-01-03 15:42:51,082 [ERROR] If you're actually sure the input Protocol is where you said it is, then the Protocol doesn't have valid XML Format. Use an XML validator.\n",
      "\n",
      "real\t0m0.127s\n",
      "user\t0m0.136s\n",
      "sys\t0m0.592s\n",
      "2018-01-03 15:42:51,208 [INFO] Running /home/shared/PBSuite_15.8.24/bin/Jelly.py extraction /home/sam/analyses/20180103_oly_pbjelly/Protocol.xml\n",
      "\n",
      "Please Cite: English, Adam C., Stephen Richards, Yi Han, Min Wang,\n",
      "             Vanesa Vee, Jiaxin Qu, Xiang Qin, et al. \"Mind the\n",
      "             Gap: Upgrading Genomes with Pacific Biosciences RS\n",
      "             Long-Read Sequencing Technology.\" PLoS ONE 7, no. 11\n",
      "             (November 21, 2012): e47768.\n",
      "             doi:10.1371/journal.pone.0047768.\n",
      "\n",
      "2018-01-03 15:42:51,209 [ERROR] If you're actually sure the input Protocol is where you said it is, then the Protocol doesn't have valid XML Format. Use an XML validator.\n",
      "\n",
      "real\t0m0.129s\n",
      "user\t0m0.204s\n",
      "sys\t0m0.692s\n",
      "2018-01-03 15:42:51,359 [INFO] Running /home/shared/PBSuite_15.8.24/bin/Jelly.py assembly /home/sam/analyses/20180103_oly_pbjelly/Protocol.xml\n",
      "\n",
      "Please Cite: English, Adam C., Stephen Richards, Yi Han, Min Wang,\n",
      "             Vanesa Vee, Jiaxin Qu, Xiang Qin, et al. \"Mind the\n",
      "             Gap: Upgrading Genomes with Pacific Biosciences RS\n",
      "             Long-Read Sequencing Technology.\" PLoS ONE 7, no. 11\n",
      "             (November 21, 2012): e47768.\n",
      "             doi:10.1371/journal.pone.0047768.\n",
      "\n",
      "2018-01-03 15:42:51,360 [ERROR] If you're actually sure the input Protocol is where you said it is, then the Protocol doesn't have valid XML Format. Use an XML validator.\n",
      "\n",
      "real\t0m0.153s\n",
      "user\t0m0.260s\n",
      "sys\t0m1.084s\n",
      "2018-01-03 15:42:51,496 [INFO] Running /home/shared/PBSuite_15.8.24/bin/Jelly.py output /home/sam/analyses/20180103_oly_pbjelly/Protocol.xml\n",
      "\n",
      "Please Cite: English, Adam C., Stephen Richards, Yi Han, Min Wang,\n",
      "             Vanesa Vee, Jiaxin Qu, Xiang Qin, et al. \"Mind the\n",
      "             Gap: Upgrading Genomes with Pacific Biosciences RS\n",
      "             Long-Read Sequencing Technology.\" PLoS ONE 7, no. 11\n",
      "             (November 21, 2012): e47768.\n",
      "             doi:10.1371/journal.pone.0047768.\n",
      "\n",
      "2018-01-03 15:42:51,498 [ERROR] If you're actually sure the input Protocol is where you said it is, then the Protocol doesn't have valid XML Format. Use an XML validator.\n",
      "\n",
      "real\t0m0.139s\n",
      "user\t0m0.256s\n",
      "sys\t0m0.768s\n"
     ]
    }
   ],
   "source": [
    "%%bash\n",
    "source /home/shared/PBSuite_15.8.24/setup.sh\n",
    "time python /home/shared/PBSuite_15.8.24/bin/Jelly.py setup /home/sam/analyses/20180103_oly_pbjelly/Protocol.xml\n",
    "time python /home/shared/PBSuite_15.8.24/bin/Jelly.py mapping /home/sam/analyses/20180103_oly_pbjelly/Protocol.xml\n",
    "time python /home/shared/PBSuite_15.8.24/bin/Jelly.py support /home/sam/analyses/20180103_oly_pbjelly/Protocol.xml\n",
    "time python /home/shared/PBSuite_15.8.24/bin/Jelly.py extraction /home/sam/analyses/20180103_oly_pbjelly/Protocol.xml\n",
    "time python /home/shared/PBSuite_15.8.24/bin/Jelly.py assembly /home/sam/analyses/20180103_oly_pbjelly/Protocol.xml\n",
    "time python /home/shared/PBSuite_15.8.24/bin/Jelly.py output /home/sam/analyses/20180103_oly_pbjelly/Protocol.xml"
   ]
  },
  {
   "cell_type": "code",
   "execution_count": 15,
   "metadata": {
    "collapsed": true
   },
   "outputs": [],
   "source": [
    "%%bash\n",
    "sed -i 's/\\&/\\&amp;/g' /home/sam/analyses/20180103_oly_pbjelly/Protocol.xml"
   ]
  },
  {
   "cell_type": "code",
   "execution_count": 16,
   "metadata": {
    "collapsed": false
   },
   "outputs": [
    {
     "name": "stdout",
     "output_type": "stream",
     "text": [
      "<jellyProtocol>\n",
      "    <reference>/home/sam/data/oly_BGI_scaffolds.fasta</reference>  \n",
      "    <outputDir>/home/sam/analyses/20180103_oly_pbjelly</outputDir>\n",
      "    <command>${CMD} ${JOBNAME} 2> ${STDERR} 1> ${STDOUT} &amp;</command>\n",
      "    <blasr>-minMatch 8 -minPctIdentity 70 -bestn 1 -nCandidates 20 -maxScore -500 -nproc 48 -noSplitSubreads</blasr>\n",
      "    <input baseDir=\"/home/sam/data/\">\n",
      "        <job>m130619_081336_42134_c100525122550000001823081109281326_s1_p0.fastq</job>\n",
      "        <job>m170211_224036_42134_c101073082550000001823236402101737_s1_X0_filtered_subreads.fastq</job>\n",
      "\t<job>m170301_100013_42134_c101174162550000001823269408211761_s1_p0_filtered_subreads.fastq</job>\n",
      "\t<job>m170301_162825_42134_c101174162550000001823269408211762_s1_p0_filtered_subreads.fastq</job>\n",
      "\t<job>m170301_225711_42134_c101174162550000001823269408211763_s1_p0_filtered_subreads.fastq</job>\n",
      "\t<job>m170308_163922_42134_c101174252550000001823269408211742_s1_p0_filtered_subreads.fastq</job>\n",
      "\t<job>m170308_230815_42134_c101174252550000001823269408211743_s1_p0_filtered_subreads.fastq</job>\n",
      "\t<job>m170315_001112_42134_c101169372550000001823273008151717_s1_p0_filtered_subreads.fastq</job>\n",
      "\t<job>m170315_063041_42134_c101169382550000001823273008151700_s1_p0_filtered_subreads.fastq</job>\n",
      "\t<job>m170315_124938_42134_c101169382550000001823273008151701_s1_p0_filtered_subreads.fastq</job>\n",
      "\t<job>m170315_190851_42134_c101169382550000001823273008151702_s1_p0_filtered_subreads.fastq</job>\n",
      "    </input>\n",
      "</jellyProtocol>\n"
     ]
    }
   ],
   "source": [
    "%%bash\n",
    "cat /home/sam/analyses/20180103_oly_pbjelly/Protocol.xml"
   ]
  },
  {
   "cell_type": "code",
   "execution_count": null,
   "metadata": {
    "collapsed": true
   },
   "outputs": [],
   "source": [
    "%%bash\n",
    "source /home/shared/PBSuite_15.8.24/setup.sh\n",
    "time python /home/shared/PBSuite_15.8.24/bin/Jelly.py setup /home/sam/analyses/20180103_oly_pbjelly/Protocol.xml\n",
    "time python /home/shared/PBSuite_15.8.24/bin/Jelly.py mapping /home/sam/analyses/20180103_oly_pbjelly/Protocol.xml\n",
    "time python /home/shared/PBSuite_15.8.24/bin/Jelly.py support /home/sam/analyses/20180103_oly_pbjelly/Protocol.xml\n",
    "time python /home/shared/PBSuite_15.8.24/bin/Jelly.py extraction /home/sam/analyses/20180103_oly_pbjelly/Protocol.xml\n",
    "time python /home/shared/PBSuite_15.8.24/bin/Jelly.py assembly /home/sam/analyses/20180103_oly_pbjelly/Protocol.xml\n",
    "time python /home/shared/PBSuite_15.8.24/bin/Jelly.py output /home/sam/analyses/20180103_oly_pbjelly/Protocol.xml"
   ]
  },
  {
   "cell_type": "code",
   "execution_count": null,
   "metadata": {
    "collapsed": true
   },
   "outputs": [],
   "source": [
    "%%bash\n",
    "source ~/.bashrc\n",
    "source ~/.bash_aliases\n",
    "emailme"
   ]
  },
  {
   "cell_type": "code",
   "execution_count": null,
   "metadata": {
    "collapsed": true
   },
   "outputs": [],
   "source": []
  }
 ],
 "metadata": {
  "kernelspec": {
   "display_name": "Python 2",
   "language": "python",
   "name": "python2"
  },
  "language_info": {
   "codemirror_mode": {
    "name": "ipython",
    "version": 2
   },
   "file_extension": ".py",
   "mimetype": "text/x-python",
   "name": "python",
   "nbconvert_exporter": "python",
   "pygments_lexer": "ipython2",
   "version": "2.7.12"
  }
 },
 "nbformat": 4,
 "nbformat_minor": 2
}
