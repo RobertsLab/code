{
 "cells": [
  {
   "cell_type": "code",
   "execution_count": 1,
   "metadata": {},
   "outputs": [
    {
     "name": "stdout",
     "output_type": "stream",
     "text": [
      "TODAY'S DATE\n",
      "Tue Jan 16 10:06:29 PST 2018\n",
      "------------\n",
      "\n",
      "Distributor ID:\tUbuntu\n",
      "Description:\tUbuntu 16.04.3 LTS\n",
      "Release:\t16.04\n",
      "Codename:\txenial\n",
      "\n",
      "------------\n",
      "HOSTNAME: \n",
      "swoose\n",
      "\n",
      "------------\n",
      "Computer Specs:\n",
      "\n",
      "Architecture:          x86_64\n",
      "CPU op-mode(s):        32-bit, 64-bit\n",
      "Byte Order:            Little Endian\n",
      "CPU(s):                24\n",
      "On-line CPU(s) list:   0-23\n",
      "Thread(s) per core:    2\n",
      "Core(s) per socket:    6\n",
      "Socket(s):             2\n",
      "NUMA node(s):          1\n",
      "Vendor ID:             GenuineIntel\n",
      "CPU family:            6\n",
      "Model:                 44\n",
      "Model name:            Intel(R) Xeon(R) CPU           X5670  @ 2.93GHz\n",
      "Stepping:              2\n",
      "CPU MHz:               2925.818\n",
      "BogoMIPS:              5851.96\n",
      "Virtualization:        VT-x\n",
      "L1d cache:             32K\n",
      "L1i cache:             32K\n",
      "L2 cache:              256K\n",
      "L3 cache:              12288K\n",
      "NUMA node0 CPU(s):     0-23\n",
      "Flags:                 fpu vme de pse tsc msr pae mce cx8 apic sep mtrr pge mca cmov pat pse36 clflush dts acpi mmx fxsr sse sse2 ss ht tm pbe syscall nx pdpe1gb rdtscp lm constant_tsc arch_perfmon pebs bts rep_good nopl xtopology nonstop_tsc aperfmperf pni pclmulqdq dtes64 monitor ds_cpl vmx smx est tm2 ssse3 cx16 xtpr pdcm pcid dca sse4_1 sse4_2 popcnt aes lahf_lm epb kaiser tpr_shadow vnmi flexpriority ept vpid dtherm ida arat\n",
      "\n",
      "------------\n",
      "\n",
      "Memory Specs\n",
      "\n",
      "              total        used        free      shared  buff/cache   available\n",
      "Mem:            70G        4.3G         60G        384M        5.5G         65G\n",
      "Swap:          4.7G          0B        4.7G\n"
     ]
    },
    {
     "name": "stderr",
     "output_type": "stream",
     "text": [
      "No LSB modules are available.\n"
     ]
    }
   ],
   "source": [
    "%%bash\n",
    "echo \"TODAY'S DATE\"\n",
    "date\n",
    "echo \"------------\"\n",
    "echo \"\"\n",
    "lsb_release -a\n",
    "echo \"\"\n",
    "echo \"------------\"\n",
    "echo \"HOSTNAME: \"\n",
    "hostname\n",
    "echo \"\"\n",
    "echo \"------------\"\n",
    "echo \"Computer Specs:\"\n",
    "echo \"\"\n",
    "lscpu\n",
    "echo \"\"\n",
    "echo \"------------\"\n",
    "echo \"\"\n",
    "echo \"Memory Specs\"\n",
    "echo \"\"\n",
    "free -mh"
   ]
  },
  {
   "cell_type": "markdown",
   "metadata": {},
   "source": [
    "### Compare assemblies using [Quast v4.5](http://quast.sourceforge.net/quast)"
   ]
  },
  {
   "cell_type": "markdown",
   "metadata": {},
   "source": [
    "#### Set file locations as variables."
   ]
  },
  {
   "cell_type": "code",
   "execution_count": 2,
   "metadata": {
    "collapsed": true
   },
   "outputs": [],
   "source": [
    "canu_sb_01=\"/mnt/owl/scaphapoda/Sean/Oly_Canu_Output/oly_pacbio_.contigs.fasta\"\n",
    "canu_sjw_01=\"/mnt/owl/Athaliana/20171018_oly_pacbio_canu/20171018_oly_pacbio.contigs.fasta\"\n",
    "pbjelly_sjw_01=\"/mnt/owl/Athaliana/20171130_oly_pbjelly/jelly.out.fasta\"\n",
    "platanus_sb_01=\"/mnt/owl/scaphapoda/Sean/Oly_Illumina_Platanus_Assembly/Oly_Out__contig.fa\"\n",
    "platanus_sb_02=\"/mnt/owl/scaphapoda/Sean/Oly_Platanus_Assembly_Kmer-22/Oly_Out__contig.fa\"\n",
    "racon_sjw_01=\"/mnt/owl/Athaliana/201709_oly_pacbio_assembly_minimap_asm_racon/20170918_oly_pacbio_racon1_consensus.fasta\"\n",
    "redundans_sb_01=\"/mnt/owl/scaphapoda/Sean/Oly_Redundans_Output/scaffolds.reduced.fa\"\n",
    "redundans_sb_02=\"/mnt/owl/scaphapoda/Sean/Oly_Redundans_Output_Try_2/scaffolds.reduced.fa\"\n",
    "redundans_sjw_01=\"/mnt/owl/Athaliana/20171005_redundans/scaffolds.reduced.fa\"\n",
    "redundans_sjw_02=\"/mnt/owl/Athaliana/20171004_redundans/scaffolds.reduced.fa\"\n",
    "redundans_sjw_03=\"/mnt/owl/Athaliana/20171024_docker_oly_redundans_01/scaffolds.reduced.fa\"\n",
    "soap_bgi_01=\"/mnt/owl/O_lurida_genome_assemblies_BGI/20161201/cdts-hk.genomics.cn/Ostrea_lurida/Ostrea_lurida.fa\""
   ]
  },
  {
   "cell_type": "code",
   "execution_count": 3,
   "metadata": {},
   "outputs": [
    {
     "name": "stdout",
     "output_type": "stream",
     "text": [
      "/home/sam/software/quast-4.5/quast.py -t 24 /mnt/owl/scaphapoda/Sean/Oly_Canu_Output/oly_pacbio_.contigs.fasta /mnt/owl/Athaliana/20171018_oly_pacbio_canu/20171018_oly_pacbio.contigs.fasta /mnt/owl/Athaliana/20171130_oly_pbjelly/jelly.out.fasta /mnt/owl/scaphapoda/Sean/Oly_Illumina_Platanus_Assembly/Oly_Out__contig.fa /mnt/owl/scaphapoda/Sean/Oly_Platanus_Assembly_Kmer-22/Oly_Out__contig.fa /mnt/owl/Athaliana/201709_oly_pacbio_assembly_minimap_asm_racon/20170918_oly_pacbio_racon1_consensus.fasta /mnt/owl/scaphapoda/Sean/Oly_Redundans_Output/scaffolds.reduced.fa /mnt/owl/scaphapoda/Sean/Oly_Redundans_Output_Try_2/scaffolds.reduced.fa /mnt/owl/Athaliana/20171005_redundans/scaffolds.reduced.fa /mnt/owl/Athaliana/20171004_redundans/scaffolds.reduced.fa /mnt/owl/Athaliana/20171024_docker_oly_redundans_01/scaffolds.reduced.fa /mnt/owl/O_lurida_genome_assemblies_BGI/20161201/cdts-hk.genomics.cn/Ostrea_lurida/Ostrea_lurida.fa\n",
      "\n",
      "Version: 4.5, 15ca3b9\n",
      "\n",
      "System information:\n",
      "  OS: Linux-4.4.0-109-generic-x86_64-with-Ubuntu-16.04-xenial (linux_64)\n",
      "  Python version: 2.7.12\n",
      "  CPUs number: 24\n",
      "\n",
      "Started: 2018-01-16 10:08:35\n",
      "\n",
      "Logging to /home/sam/gitrepos/LabDocs/jupyter_nbs/sam/quast_results/results_2018_01_16_10_08_35/quast.log\n",
      "\n",
      "CWD: /home/sam/gitrepos/LabDocs/jupyter_nbs/sam\n",
      "Main parameters: \n",
      "  Threads: 24, minimum contig length: 500, ambiguity: one, threshold for extensive misassembly size: 1000\n",
      "\n",
      "WARNING: Can't draw plots: python-matplotlib is missing or corrupted.\n",
      "\n",
      "Contigs:\n",
      "  Pre-processing...\n",
      "  1  /mnt/owl/scaphapoda/Sean/Oly_Canu_Output/oly_pacbio_.contigs.fasta ==> oly_pacbio_.contigs\n",
      "  2  /mnt/owl/Athaliana/20171018_oly_pacbio_canu/20171018_oly_pacbio.contigs.fasta ==> 20171018_oly_pacbio.contigs\n",
      "  3  /mnt/owl/Athaliana/20171130_oly_pbjelly/jelly.out.fasta ==> jelly.out\n",
      "  4  /mnt/owl/scaphapoda/Sean/Oly_Illumina_Platanus_Assembly/Oly_Out__contig.fa ==> Oly_Illumina_Platanus_Assembly_Oly_Out__contig\n",
      "  5  /mnt/owl/scaphapoda/Sean/Oly_Platanus_Assembly_Kmer-22/Oly_Out__contig.fa ==> Oly_Platanus_Assembly_Kmer-22_Oly_Out__contig\n",
      "  6  /mnt/owl/Athaliana/201709_oly_pacbio_assembly_minimap_asm_racon/20170918_oly_pacbio_racon1_consensus.fasta ==> 20170918_oly_pacbio_racon1_consensus\n",
      "  7  /mnt/owl/scaphapoda/Sean/Oly_Redundans_Output/scaffolds.reduced.fa ==> Oly_Redundans_Output_scaffolds.reduced\n",
      "  8  /mnt/owl/scaphapoda/Sean/Oly_Redundans_Output_Try_2/scaffolds.reduced.fa ==> Oly_Redundans_Output_Try_2_scaffolds.reduced\n",
      "  9  /mnt/owl/Athaliana/20171005_redundans/scaffolds.reduced.fa ==> 20171005_redundans_scaffolds.reduced\n",
      "  10 /mnt/owl/Athaliana/20171004_redundans/scaffolds.reduced.fa ==> 20171004_redundans_scaffolds.reduced\n",
      "  11 /mnt/owl/Athaliana/20171024_docker_oly_redundans_01/scaffolds.reduced.fa ==> 20171024_docker_oly_redundans_01_scaffolds.reduced\n",
      "  12 /mnt/owl/O_lurida_genome_assemblies_BGI/20161201/cdts-hk.genomics.cn/Ostrea_lurida/Ostrea_lurida.fa ==> Ostrea_lurida\n",
      "\n",
      "2018-01-16 10:11:11\n",
      "Running Basic statistics processor...\n",
      "  Contig files: \n",
      "    1  oly_pacbio_.contigs\n",
      "    2  20171018_oly_pacbio.contigs\n",
      "    3  jelly.out\n",
      "    4  Oly_Illumina_Platanus_Assembly_Oly_Out__contig\n",
      "    5  Oly_Platanus_Assembly_Kmer-22_Oly_Out__contig\n",
      "    6  20170918_oly_pacbio_racon1_consensus\n",
      "    7  Oly_Redundans_Output_scaffolds.reduced\n",
      "    8  Oly_Redundans_Output_Try_2_scaffolds.reduced\n",
      "    9  20171005_redundans_scaffolds.reduced\n",
      "    10 20171004_redundans_scaffolds.reduced\n",
      "    11 20171024_docker_oly_redundans_01_scaffolds.reduced\n",
      "    12 Ostrea_lurida\n",
      "  Calculating N50 and L50...\n",
      "    1  oly_pacbio_.contigs, N50 = 14117, L50 = 1230, Total length = 46288879, GC % = 36.45, # N's per 100 kbp =  0.00\n",
      "    2  20171018_oly_pacbio.contigs, N50 = 13157, L50 = 3329, Total length = 132146852, GC % = 36.40, # N's per 100 kbp =  0.00\n",
      "    3  jelly.out, N50 = 12433, L50 = 26241, Total length = 1180563613, GC % = 36.57, # N's per 100 kbp =  6580.58\n",
      "    4  Oly_Illumina_Platanus_Assembly_Oly_Out__contig, N50 = 684, L50 = 2, Total length = 2693, GC % = 46.05, # N's per 100 kbp =  0.00\n",
      "    5  Oly_Platanus_Assembly_Kmer-22_Oly_Out__contig, N50 = 1245, L50 = 97869, Total length = 417951161, GC % = 35.70, # N's per 100 kbp =  0.00\n",
      "    6  20170918_oly_pacbio_racon1_consensus, N50 = 13763, L50 = 896, Total length = 33483762, GC % = 36.43, # N's per 100 kbp =  0.00\n",
      "    7  Oly_Redundans_Output_scaffolds.reduced, N50 = 682, L50 = 40, Total length = 85207, GC % = 36.24, # N's per 100 kbp =  17127.70\n",
      "    8  Oly_Redundans_Output_Try_2_scaffolds.reduced, N50 = 4175, L50 = 32022, Total length = 513841258, GC % = 35.90, # N's per 100 kbp =  1019.31\n",
      "    9  20171005_redundans_scaffolds.reduced, N50 = 16565, L50 = 452, Total length = 29292260, GC % = 36.39, # N's per 100 kbp =  918.03\n",
      "    10 20171004_redundans_scaffolds.reduced, N50 = 17679, L50 = 573, Total length = 40561504, GC % = 36.46, # N's per 100 kbp =  695.24\n",
      "    11 20171024_docker_oly_redundans_01_scaffolds.reduced, N50 = 16998, L50 = 1724, Total length = 111139362, GC % = 36.34, # N's per 100 kbp =  626.41\n",
      "    12 Ostrea_lurida, N50 = 4204, L50 = 43989, Total length = 697528655, GC % = 35.83, # N's per 100 kbp =  19149.50\n",
      "Done.\n",
      "\n",
      "NOTICE: Genes are not predicted by default. Use --gene-finding option to enable it.\n",
      "\n",
      "2018-01-16 10:14:02\n",
      "Creating large visual summaries...\n",
      "This may take a while: press Ctrl-C to skip this step..\n",
      "  1 of 1: Creating Icarus viewers...\n",
      "Done\n",
      "\n",
      "2018-01-16 10:14:56\n",
      "RESULTS:\n",
      "  Text versions of total report are saved to /home/sam/gitrepos/LabDocs/jupyter_nbs/sam/quast_results/results_2018_01_16_10_08_35/report.txt, report.tsv, and report.tex\n",
      "  Text versions of transposed total report are saved to /home/sam/gitrepos/LabDocs/jupyter_nbs/sam/quast_results/results_2018_01_16_10_08_35/transposed_report.txt, transposed_report.tsv, and transposed_report.tex\n",
      "  HTML version (interactive tables and plots) saved to /home/sam/gitrepos/LabDocs/jupyter_nbs/sam/quast_results/results_2018_01_16_10_08_35/report.html\n",
      "  Icarus (contig browser) is saved to /home/sam/gitrepos/LabDocs/jupyter_nbs/sam/quast_results/results_2018_01_16_10_08_35/icarus.html\n",
      "  Log saved to /home/sam/gitrepos/LabDocs/jupyter_nbs/sam/quast_results/results_2018_01_16_10_08_35/quast.log\n",
      "\n",
      "Finished: 2018-01-16 10:14:57\n",
      "Elapsed time: 0:06:21.404593\n",
      "NOTICEs: 1; WARNINGs: 1; non-fatal ERRORs: 0\n",
      "\n",
      "Thank you for using QUAST!\n"
     ]
    }
   ],
   "source": [
    "!python /home/sam/software/quast-4.5/quast.py \\\n",
    "-t 24 \\\n",
    "$canu_sb_01 \\\n",
    "$canu_sjw_01 \\\n",
    "$pbjelly_sjw_01 \\\n",
    "$platanus_sb_01 \\\n",
    "$platanus_sb_02 \\\n",
    "$racon_sjw_01 \\\n",
    "$redundans_sb_01 \\\n",
    "$redundans_sb_02 \\\n",
    "$redundans_sjw_01 \\\n",
    "$redundans_sjw_02 \\\n",
    "$redundans_sjw_03 \\\n",
    "$soap_bgi_01"
   ]
  },
  {
   "cell_type": "code",
   "execution_count": 4,
   "metadata": {},
   "outputs": [
    {
     "name": "stderr",
     "output_type": "stream",
     "text": [
      "cp: cannot create directory '/mnt/owl/Athaliana/quast_results/results_2018_01_16_10_08_35': Permission denied\n"
     ]
    }
   ],
   "source": [
    "%%bash\n",
    "cp -pR quast_results/results_2018_01_16_10_08_35/ /mnt/owl/Athaliana/quast_results/"
   ]
  },
  {
   "cell_type": "markdown",
   "metadata": {},
   "source": [
    "#### Needed to use ```sudo``` to cp, so did that outside of notebook."
   ]
  },
  {
   "cell_type": "code",
   "execution_count": 5,
   "metadata": {},
   "outputs": [
    {
     "name": "stdout",
     "output_type": "stream",
     "text": [
      "basic_stats\n",
      "icarus.html\n",
      "icarus_viewers\n",
      "quast.log\n",
      "report.html\n",
      "report.tex\n",
      "report.tsv\n",
      "report.txt\n",
      "transposed_report.tex\n",
      "transposed_report.tsv\n",
      "transposed_report.txt\n"
     ]
    }
   ],
   "source": [
    "%%bash\n",
    "ls /mnt/owl/Athaliana/quast_results/results_2018_01_16_10_08_35/"
   ]
  },
  {
   "cell_type": "markdown",
   "metadata": {},
   "source": [
    "OK, so this all worked. However, text file output is difficult to view in Jupyter notebook. View it here: [http://owl.fish.washington.edu/Athaliana/quast_results/results_2018_01_16_10_08_35/report.txt](http://owl.fish.washington.edu/Athaliana/quast_results/results_2018_01_16_10_08_35/report.txt)\n",
    "\n",
    "Use this link to view color-coded table of output:\n",
    "\n",
    "[http://owl.fish.washington.edu/Athaliana/quast_results/results_2018_01_16_10_08_35/report.html](http://owl.fish.washington.edu/Athaliana/quast_results/results_2018_01_16_10_08_35/report.html)"
   ]
  },
  {
   "cell_type": "code",
   "execution_count": null,
   "metadata": {
    "collapsed": true
   },
   "outputs": [],
   "source": []
  }
 ],
 "metadata": {
  "kernelspec": {
   "display_name": "Python 3",
   "language": "python",
   "name": "python3"
  },
  "language_info": {
   "codemirror_mode": {
    "name": "ipython",
    "version": 3
   },
   "file_extension": ".py",
   "mimetype": "text/x-python",
   "name": "python",
   "nbconvert_exporter": "python",
   "pygments_lexer": "ipython3",
   "version": "3.6.3"
  }
 },
 "nbformat": 4,
 "nbformat_minor": 2
}
