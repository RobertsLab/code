{
 "cells": [
  {
   "cell_type": "code",
   "execution_count": 1,
   "metadata": {},
   "outputs": [
    {
     "name": "stdout",
     "output_type": "stream",
     "text": [
      "TODAY'S DATE\n",
      "Mon Feb  5 13:50:49 PST 2018\n",
      "------------\n",
      "\n",
      "Distributor ID:\tUbuntu\n",
      "Description:\tUbuntu 16.04.3 LTS\n",
      "Release:\t16.04\n",
      "Codename:\txenial\n",
      "\n",
      "------------\n",
      "HOSTNAME: \n",
      "roadrunner\n",
      "\n",
      "------------\n",
      "Computer Specs:\n",
      "\n",
      "Architecture:          x86_64\n",
      "CPU op-mode(s):        32-bit, 64-bit\n",
      "Byte Order:            Little Endian\n",
      "CPU(s):                16\n",
      "On-line CPU(s) list:   0-15\n",
      "Thread(s) per core:    2\n",
      "Core(s) per socket:    4\n",
      "Socket(s):             2\n",
      "NUMA node(s):          1\n",
      "Vendor ID:             GenuineIntel\n",
      "CPU family:            6\n",
      "Model:                 26\n",
      "Model name:            Intel(R) Xeon(R) CPU           E5520  @ 2.27GHz\n",
      "Stepping:              5\n",
      "CPU MHz:               1596.000\n",
      "CPU max MHz:           2394.0000\n",
      "CPU min MHz:           1596.0000\n",
      "BogoMIPS:              4521.78\n",
      "Virtualization:        VT-x\n",
      "L1d cache:             32K\n",
      "L1i cache:             32K\n",
      "L2 cache:              256K\n",
      "L3 cache:              8192K\n",
      "NUMA node0 CPU(s):     0-15\n",
      "Flags:                 fpu vme de pse tsc msr pae mce cx8 apic sep mtrr pge mca cmov pat pse36 clflush dts acpi mmx fxsr sse sse2 ss ht tm pbe syscall nx rdtscp lm constant_tsc arch_perfmon pebs bts nopl xtopology nonstop_tsc aperfmperf pni dtes64 monitor ds_cpl vmx est tm2 ssse3 cx16 xtpr pdcm dca sse4_1 sse4_2 popcnt lahf_lm kaiser tpr_shadow vnmi flexpriority ept vpid dtherm ida\n",
      "\n",
      "------------\n",
      "\n",
      "Memory Specs\n",
      "\n",
      "              total        used        free      shared  buff/cache   available\n",
      "Mem:            47G        1.1G         44G         18M        1.4G         45G\n",
      "Swap:           47G          0B         47G\n"
     ]
    },
    {
     "name": "stderr",
     "output_type": "stream",
     "text": [
      "No LSB modules are available.\n"
     ]
    }
   ],
   "source": [
    "%%bash\n",
    "echo \"TODAY'S DATE\"\n",
    "date\n",
    "echo \"------------\"\n",
    "echo \"\"\n",
    "lsb_release -a\n",
    "echo \"\"\n",
    "echo \"------------\"\n",
    "echo \"HOSTNAME: \"\n",
    "hostname\n",
    "echo \"\"\n",
    "echo \"------------\"\n",
    "echo \"Computer Specs:\"\n",
    "echo \"\"\n",
    "lscpu\n",
    "echo \"\"\n",
    "echo \"------------\"\n",
    "echo \"\"\n",
    "echo \"Memory Specs\"\n",
    "echo \"\"\n",
    "free -mh"
   ]
  },
  {
   "cell_type": "code",
   "execution_count": 2,
   "metadata": {
    "collapsed": true
   },
   "outputs": [],
   "source": [
    "%%bash\n",
    "mkdir /home/sam/20180205_soap_geoduck"
   ]
  },
  {
   "cell_type": "code",
   "execution_count": 3,
   "metadata": {
    "collapsed": true
   },
   "outputs": [],
   "source": [
    "%%bash\n",
    "mkdir /home/sam/20180206_meraculous_geoduck"
   ]
  },
  {
   "cell_type": "code",
   "execution_count": 4,
   "metadata": {
    "collapsed": true
   },
   "outputs": [],
   "source": [
    "%%bash\n",
    "mkdir /home/sam/data/geoduck_illumina/trimmed/trimmed_again/20180206_kmergenie"
   ]
  },
  {
   "cell_type": "code",
   "execution_count": 5,
   "metadata": {},
   "outputs": [
    {
     "name": "stderr",
     "output_type": "stream",
     "text": [
      "mkdir: cannot create directory ‘/home/sam/data/geoduck_illumina/trimmed/20180129_trimmed_again/’: File exists\n"
     ]
    }
   ],
   "source": [
    "%%bash\n",
    "rmdir /home/sam/data/geoduck_illumina/trimmed/trimmed_again/20180206_kmergenie\n",
    "mkdir /home/sam/data/geoduck_illumina/trimmed/20180129_trimmed_again/"
   ]
  },
  {
   "cell_type": "code",
   "execution_count": 6,
   "metadata": {
    "collapsed": true
   },
   "outputs": [],
   "source": [
    "%%bash\n",
    "mkdir /home/sam/data/geoduck_illumina/trimmed/20180129_trimmed_again/20180206_kmergenie"
   ]
  },
  {
   "cell_type": "code",
   "execution_count": 7,
   "metadata": {},
   "outputs": [
    {
     "name": "stdout",
     "output_type": "stream",
     "text": [
      "/home/sam/data/geoduck_illumina/trimmed/20180129_trimmed_again/AD002_S9_L001_R1_001_val_1_val_1.fq.gz\n",
      "/home/sam/data/geoduck_illumina/trimmed/20180129_trimmed_again/AD002_S9_L001_R2_001_val_2_val_2.fq.gz\n",
      "/home/sam/data/geoduck_illumina/trimmed/20180129_trimmed_again/AD002_S9_L002_R1_001_val_1_val_1.fq.gz\n",
      "/home/sam/data/geoduck_illumina/trimmed/20180129_trimmed_again/AD002_S9_L002_R2_001_val_2_val_2.fq.gz\n",
      "/home/sam/data/geoduck_illumina/trimmed/20180129_trimmed_again/NR005_S4_L001_R1_001_val_1_val_1.fq.gz\n",
      "/home/sam/data/geoduck_illumina/trimmed/20180129_trimmed_again/NR005_S4_L001_R2_001_val_2_val_2.fq.gz\n",
      "/home/sam/data/geoduck_illumina/trimmed/20180129_trimmed_again/NR005_S4_L002_R1_001_val_1_val_1.fq.gz\n",
      "/home/sam/data/geoduck_illumina/trimmed/20180129_trimmed_again/NR005_S4_L002_R2_001_val_2_val_2.fq.gz\n",
      "/home/sam/data/geoduck_illumina/trimmed/20180129_trimmed_again/NR006_S3_L001_R1_001_val_1_val_1.fq.gz\n",
      "/home/sam/data/geoduck_illumina/trimmed/20180129_trimmed_again/NR006_S3_L001_R2_001_val_2_val_2.fq.gz\n",
      "/home/sam/data/geoduck_illumina/trimmed/20180129_trimmed_again/NR006_S3_L002_R1_001_val_1_val_1.fq.gz\n",
      "/home/sam/data/geoduck_illumina/trimmed/20180129_trimmed_again/NR006_S3_L002_R2_001_val_2_val_2.fq.gz\n",
      "/home/sam/data/geoduck_illumina/trimmed/20180129_trimmed_again/NR012_S1_L001_R1_001_val_1_val_1.fq.gz\n",
      "/home/sam/data/geoduck_illumina/trimmed/20180129_trimmed_again/NR012_S1_L001_R2_001_val_2_val_2.fq.gz\n",
      "/home/sam/data/geoduck_illumina/trimmed/20180129_trimmed_again/NR012_S1_L002_R1_001_val_1_val_1.fq.gz\n",
      "/home/sam/data/geoduck_illumina/trimmed/20180129_trimmed_again/NR012_S1_L002_R2_001_val_2_val_2.fq.gz\n",
      "/home/sam/data/geoduck_illumina/trimmed/20180129_trimmed_again/NR013_AD013_S2_L001_R1_001_val_1_val_1.fq.gz\n",
      "/home/sam/data/geoduck_illumina/trimmed/20180129_trimmed_again/NR013_AD013_S2_L001_R2_001_val_2_val_2.fq.gz\n",
      "/home/sam/data/geoduck_illumina/trimmed/20180129_trimmed_again/NR013_AD013_S2_L002_R1_001_val_1_val_1.fq.gz\n",
      "/home/sam/data/geoduck_illumina/trimmed/20180129_trimmed_again/NR013_AD013_S2_L002_R2_001_val_2_val_2.fq.gz\n",
      "/home/sam/data/geoduck_illumina/trimmed/20180129_trimmed_again/NR014_AD014_S5_L001_R1_001_val_1_val_1.fq.gz\n",
      "/home/sam/data/geoduck_illumina/trimmed/20180129_trimmed_again/NR014_AD014_S5_L001_R2_001_val_2_val_2.fq.gz\n",
      "/home/sam/data/geoduck_illumina/trimmed/20180129_trimmed_again/NR014_AD014_S5_L002_R1_001_val_1_val_1.fq.gz\n",
      "/home/sam/data/geoduck_illumina/trimmed/20180129_trimmed_again/NR014_AD014_S5_L002_R2_001_val_2_val_2.fq.gz\n",
      "/home/sam/data/geoduck_illumina/trimmed/20180129_trimmed_again/NR015_AD015_S6_L001_R1_001_val_1_val_1.fq.gz\n",
      "/home/sam/data/geoduck_illumina/trimmed/20180129_trimmed_again/NR015_AD015_S6_L001_R2_001_val_2_val_2.fq.gz\n",
      "/home/sam/data/geoduck_illumina/trimmed/20180129_trimmed_again/NR015_AD015_S6_L002_R1_001_val_1_val_1.fq.gz\n",
      "/home/sam/data/geoduck_illumina/trimmed/20180129_trimmed_again/NR015_AD015_S6_L002_R2_001_val_2_val_2.fq.gz\n",
      "/home/sam/data/geoduck_illumina/trimmed/20180129_trimmed_again/NR019_S7_L001_R1_001_val_1_val_1.fq.gz\n",
      "/home/sam/data/geoduck_illumina/trimmed/20180129_trimmed_again/NR019_S7_L001_R2_001_val_2_val_2.fq.gz\n",
      "/home/sam/data/geoduck_illumina/trimmed/20180129_trimmed_again/NR019_S7_L002_R1_001_val_1_val_1.fq.gz\n",
      "/home/sam/data/geoduck_illumina/trimmed/20180129_trimmed_again/NR019_S7_L002_R2_001_val_2_val_2.fq.gz\n",
      "/home/sam/data/geoduck_illumina/trimmed/20180129_trimmed_again/NR021_S8_L001_R1_001_val_1_val_1.fq.gz\n",
      "/home/sam/data/geoduck_illumina/trimmed/20180129_trimmed_again/NR021_S8_L001_R2_001_val_2_val_2.fq.gz\n",
      "/home/sam/data/geoduck_illumina/trimmed/20180129_trimmed_again/NR021_S8_L002_R1_001_val_1_val_1.fq.gz\n",
      "/home/sam/data/geoduck_illumina/trimmed/20180129_trimmed_again/NR021_S8_L002_R2_001_val_2_val_2.fq.gz\n"
     ]
    }
   ],
   "source": [
    "%%bash\n",
    "for fastq in /home/sam/data/geoduck_illumina/trimmed/20180129_trimmed_again/*.fq.gz\n",
    "do\n",
    "echo \"$fastq\" >> /home/sam/data/geoduck_illumina/trimmed/20180129_trimmed_again/20180206_kmergenie/fastq_list.txt\n",
    "done\n",
    "\n",
    "cat /home/sam/data/geoduck_illumina/trimmed/20180129_trimmed_again/20180206_kmergenie/fastq_list.txt"
   ]
  },
  {
   "cell_type": "code",
   "execution_count": 8,
   "metadata": {},
   "outputs": [
    {
     "name": "stdout",
     "output_type": "stream",
     "text": [
      "running histogram estimation\n",
      "list of reads:\n",
      "/home/sam/data/geoduck_illumina/trimmed/20180129_trimmed_again/AD002_S9_L001_R1_001_val_1_val_1.fq.gz\n",
      "/home/sam/data/geoduck_illumina/trimmed/20180129_trimmed_again/AD002_S9_L001_R2_001_val_2_val_2.fq.gz\n",
      "/home/sam/data/geoduck_illumina/trimmed/20180129_trimmed_again/AD002_S9_L002_R1_001_val_1_val_1.fq.gz\n",
      "/home/sam/data/geoduck_illumina/trimmed/20180129_trimmed_again/AD002_S9_L002_R2_001_val_2_val_2.fq.gz\n",
      "/home/sam/data/geoduck_illumina/trimmed/20180129_trimmed_again/NR005_S4_L001_R1_001_val_1_val_1.fq.gz\n",
      "/home/sam/data/geoduck_illumina/trimmed/20180129_trimmed_again/NR005_S4_L001_R2_001_val_2_val_2.fq.gz\n",
      "/home/sam/data/geoduck_illumina/trimmed/20180129_trimmed_again/NR005_S4_L002_R1_001_val_1_val_1.fq.gz\n",
      "/home/sam/data/geoduck_illumina/trimmed/20180129_trimmed_again/NR005_S4_L002_R2_001_val_2_val_2.fq.gz\n",
      "/home/sam/data/geoduck_illumina/trimmed/20180129_trimmed_again/NR006_S3_L001_R1_001_val_1_val_1.fq.gz\n",
      "/home/sam/data/geoduck_illumina/trimmed/20180129_trimmed_again/NR006_S3_L001_R2_001_val_2_val_2.fq.gz\n",
      "/home/sam/data/geoduck_illumina/trimmed/20180129_trimmed_again/NR006_S3_L002_R1_001_val_1_val_1.fq.gz\n",
      "/home/sam/data/geoduck_illumina/trimmed/20180129_trimmed_again/NR006_S3_L002_R2_001_val_2_val_2.fq.gz\n",
      "/home/sam/data/geoduck_illumina/trimmed/20180129_trimmed_again/NR012_S1_L001_R1_001_val_1_val_1.fq.gz\n",
      "/home/sam/data/geoduck_illumina/trimmed/20180129_trimmed_again/NR012_S1_L001_R2_001_val_2_val_2.fq.gz\n",
      "/home/sam/data/geoduck_illumina/trimmed/20180129_trimmed_again/NR012_S1_L002_R1_001_val_1_val_1.fq.gz\n",
      "/home/sam/data/geoduck_illumina/trimmed/20180129_trimmed_again/NR012_S1_L002_R2_001_val_2_val_2.fq.gz\n",
      "/home/sam/data/geoduck_illumina/trimmed/20180129_trimmed_again/NR013_AD013_S2_L001_R1_001_val_1_val_1.fq.gz\n",
      "/home/sam/data/geoduck_illumina/trimmed/20180129_trimmed_again/NR013_AD013_S2_L001_R2_001_val_2_val_2.fq.gz\n",
      "/home/sam/data/geoduck_illumina/trimmed/20180129_trimmed_again/NR013_AD013_S2_L002_R1_001_val_1_val_1.fq.gz\n",
      "/home/sam/data/geoduck_illumina/trimmed/20180129_trimmed_again/NR013_AD013_S2_L002_R2_001_val_2_val_2.fq.gz\n",
      "/home/sam/data/geoduck_illumina/trimmed/20180129_trimmed_again/NR014_AD014_S5_L001_R1_001_val_1_val_1.fq.gz\n",
      "/home/sam/data/geoduck_illumina/trimmed/20180129_trimmed_again/NR014_AD014_S5_L001_R2_001_val_2_val_2.fq.gz\n",
      "/home/sam/data/geoduck_illumina/trimmed/20180129_trimmed_again/NR014_AD014_S5_L002_R1_001_val_1_val_1.fq.gz\n",
      "/home/sam/data/geoduck_illumina/trimmed/20180129_trimmed_again/NR014_AD014_S5_L002_R2_001_val_2_val_2.fq.gz\n",
      "/home/sam/data/geoduck_illumina/trimmed/20180129_trimmed_again/NR015_AD015_S6_L001_R1_001_val_1_val_1.fq.gz\n",
      "/home/sam/data/geoduck_illumina/trimmed/20180129_trimmed_again/NR015_AD015_S6_L001_R2_001_val_2_val_2.fq.gz\n",
      "/home/sam/data/geoduck_illumina/trimmed/20180129_trimmed_again/NR015_AD015_S6_L002_R1_001_val_1_val_1.fq.gz\n",
      "/home/sam/data/geoduck_illumina/trimmed/20180129_trimmed_again/NR015_AD015_S6_L002_R2_001_val_2_val_2.fq.gz\n",
      "/home/sam/data/geoduck_illumina/trimmed/20180129_trimmed_again/NR019_S7_L001_R1_001_val_1_val_1.fq.gz\n",
      "/home/sam/data/geoduck_illumina/trimmed/20180129_trimmed_again/NR019_S7_L001_R2_001_val_2_val_2.fq.gz\n",
      "/home/sam/data/geoduck_illumina/trimmed/20180129_trimmed_again/NR019_S7_L002_R1_001_val_1_val_1.fq.gz\n",
      "/home/sam/data/geoduck_illumina/trimmed/20180129_trimmed_again/NR019_S7_L002_R2_001_val_2_val_2.fq.gz\n",
      "/home/sam/data/geoduck_illumina/trimmed/20180129_trimmed_again/NR021_S8_L001_R1_001_val_1_val_1.fq.gz\n",
      "/home/sam/data/geoduck_illumina/trimmed/20180129_trimmed_again/NR021_S8_L001_R2_001_val_2_val_2.fq.gz\n",
      "/home/sam/data/geoduck_illumina/trimmed/20180129_trimmed_again/NR021_S8_L002_R1_001_val_1_val_1.fq.gz\n",
      "/home/sam/data/geoduck_illumina/trimmed/20180129_trimmed_again/NR021_S8_L002_R2_001_val_2_val_2.fq.gz\n",
      "Setting maximum kmer length to: 151 bp\n",
      "computing histograms (from k=21 to k=121): 51 61 41 31 21 81 71 91 111 101 121 estimation of the best k so far: 121\n",
      "\n",
      "ntCard wall-clock time over all k values: 47879 seconds \n",
      "fitting model to histograms to estimate best k\n",
      "refining estimation around [115; 121], with a step of 2\n",
      "running histogram estimation\n",
      "list of reads:\n",
      "/home/sam/data/geoduck_illumina/trimmed/20180129_trimmed_again/AD002_S9_L001_R1_001_val_1_val_1.fq.gz\n",
      "/home/sam/data/geoduck_illumina/trimmed/20180129_trimmed_again/AD002_S9_L001_R2_001_val_2_val_2.fq.gz\n",
      "/home/sam/data/geoduck_illumina/trimmed/20180129_trimmed_again/AD002_S9_L002_R1_001_val_1_val_1.fq.gz\n",
      "/home/sam/data/geoduck_illumina/trimmed/20180129_trimmed_again/AD002_S9_L002_R2_001_val_2_val_2.fq.gz\n",
      "/home/sam/data/geoduck_illumina/trimmed/20180129_trimmed_again/NR005_S4_L001_R1_001_val_1_val_1.fq.gz\n",
      "/home/sam/data/geoduck_illumina/trimmed/20180129_trimmed_again/NR005_S4_L001_R2_001_val_2_val_2.fq.gz\n",
      "/home/sam/data/geoduck_illumina/trimmed/20180129_trimmed_again/NR005_S4_L002_R1_001_val_1_val_1.fq.gz\n",
      "/home/sam/data/geoduck_illumina/trimmed/20180129_trimmed_again/NR005_S4_L002_R2_001_val_2_val_2.fq.gz\n",
      "/home/sam/data/geoduck_illumina/trimmed/20180129_trimmed_again/NR006_S3_L001_R1_001_val_1_val_1.fq.gz\n",
      "/home/sam/data/geoduck_illumina/trimmed/20180129_trimmed_again/NR006_S3_L001_R2_001_val_2_val_2.fq.gz\n",
      "/home/sam/data/geoduck_illumina/trimmed/20180129_trimmed_again/NR006_S3_L002_R1_001_val_1_val_1.fq.gz\n",
      "/home/sam/data/geoduck_illumina/trimmed/20180129_trimmed_again/NR006_S3_L002_R2_001_val_2_val_2.fq.gz\n",
      "/home/sam/data/geoduck_illumina/trimmed/20180129_trimmed_again/NR012_S1_L001_R1_001_val_1_val_1.fq.gz\n",
      "/home/sam/data/geoduck_illumina/trimmed/20180129_trimmed_again/NR012_S1_L001_R2_001_val_2_val_2.fq.gz\n",
      "/home/sam/data/geoduck_illumina/trimmed/20180129_trimmed_again/NR012_S1_L002_R1_001_val_1_val_1.fq.gz\n",
      "/home/sam/data/geoduck_illumina/trimmed/20180129_trimmed_again/NR012_S1_L002_R2_001_val_2_val_2.fq.gz\n",
      "/home/sam/data/geoduck_illumina/trimmed/20180129_trimmed_again/NR013_AD013_S2_L001_R1_001_val_1_val_1.fq.gz\n",
      "/home/sam/data/geoduck_illumina/trimmed/20180129_trimmed_again/NR013_AD013_S2_L001_R2_001_val_2_val_2.fq.gz\n",
      "/home/sam/data/geoduck_illumina/trimmed/20180129_trimmed_again/NR013_AD013_S2_L002_R1_001_val_1_val_1.fq.gz\n",
      "/home/sam/data/geoduck_illumina/trimmed/20180129_trimmed_again/NR013_AD013_S2_L002_R2_001_val_2_val_2.fq.gz\n",
      "/home/sam/data/geoduck_illumina/trimmed/20180129_trimmed_again/NR014_AD014_S5_L001_R1_001_val_1_val_1.fq.gz\n",
      "/home/sam/data/geoduck_illumina/trimmed/20180129_trimmed_again/NR014_AD014_S5_L001_R2_001_val_2_val_2.fq.gz\n",
      "/home/sam/data/geoduck_illumina/trimmed/20180129_trimmed_again/NR014_AD014_S5_L002_R1_001_val_1_val_1.fq.gz\n",
      "/home/sam/data/geoduck_illumina/trimmed/20180129_trimmed_again/NR014_AD014_S5_L002_R2_001_val_2_val_2.fq.gz\n",
      "/home/sam/data/geoduck_illumina/trimmed/20180129_trimmed_again/NR015_AD015_S6_L001_R1_001_val_1_val_1.fq.gz\n",
      "/home/sam/data/geoduck_illumina/trimmed/20180129_trimmed_again/NR015_AD015_S6_L001_R2_001_val_2_val_2.fq.gz\n",
      "/home/sam/data/geoduck_illumina/trimmed/20180129_trimmed_again/NR015_AD015_S6_L002_R1_001_val_1_val_1.fq.gz\n",
      "/home/sam/data/geoduck_illumina/trimmed/20180129_trimmed_again/NR015_AD015_S6_L002_R2_001_val_2_val_2.fq.gz\n",
      "/home/sam/data/geoduck_illumina/trimmed/20180129_trimmed_again/NR019_S7_L001_R1_001_val_1_val_1.fq.gz\n",
      "/home/sam/data/geoduck_illumina/trimmed/20180129_trimmed_again/NR019_S7_L001_R2_001_val_2_val_2.fq.gz\n",
      "/home/sam/data/geoduck_illumina/trimmed/20180129_trimmed_again/NR019_S7_L002_R1_001_val_1_val_1.fq.gz\n",
      "/home/sam/data/geoduck_illumina/trimmed/20180129_trimmed_again/NR019_S7_L002_R2_001_val_2_val_2.fq.gz\n",
      "/home/sam/data/geoduck_illumina/trimmed/20180129_trimmed_again/NR021_S8_L001_R1_001_val_1_val_1.fq.gz\n",
      "/home/sam/data/geoduck_illumina/trimmed/20180129_trimmed_again/NR021_S8_L001_R2_001_val_2_val_2.fq.gz\n",
      "/home/sam/data/geoduck_illumina/trimmed/20180129_trimmed_again/NR021_S8_L002_R1_001_val_1_val_1.fq.gz\n",
      "/home/sam/data/geoduck_illumina/trimmed/20180129_trimmed_again/NR021_S8_L002_R2_001_val_2_val_2.fq.gz\n",
      "Setting maximum kmer length to: 151 bp\n",
      "computing histograms (from k=117 to k=121): 117 119 121 table of predicted num. of genomic k-mers: histograms.dat\n",
      "recommended coverage cut-off for best k: 4\n",
      "best k: 117\n",
      "\n",
      "ntCard wall-clock time over all k values: 45509 seconds \n",
      "fitting model to histograms to estimate best k\n"
     ]
    },
    {
     "name": "stderr",
     "output_type": "stream",
     "text": [
      "\n",
      "real\t1557m8.632s\n",
      "user\t5832m21.724s\n",
      "sys\t359m59.412s\n"
     ]
    }
   ],
   "source": [
    "%%bash\n",
    "cd /home/shared/kmergenie-1.7044/\n",
    "time ./kmergenie /home/sam/data/geoduck_illumina/trimmed/20180129_trimmed_again/20180206_kmergenie/fastq_list.txt\n",
    "cat ~/.default-subject.mail | msmtp \"$EMAIL\""
   ]
  },
  {
   "cell_type": "code",
   "execution_count": 9,
   "metadata": {},
   "outputs": [
    {
     "name": "stdout",
     "output_type": "stream",
     "text": [
      "total 2044\n",
      "-rw-r--r-- 1 sam sam   3790 May  3  2017 README\n",
      "-rw-r--r-- 1 sam sam   2087 May  3  2017 readfq.py\n",
      "-rw-r--r-- 1 sam sam   2512 May  3  2017 makefile\n",
      "-rw-r--r-- 1 sam sam  10753 May  3  2017 main.cpp\n",
      "-rw-r--r-- 1 sam sam  22745 May  3  2017 LICENSE\n",
      "-rw-r--r-- 1 sam sam      0 May  3  2017 CHANGELOG\n",
      "-rw-r--r-- 1 sam sam   1948 May  3  2017 wrapper.py\n",
      "-rw-r--r-- 1 sam sam    874 May  3  2017 setup.py\n",
      "-rwxr-xr-x 1 sam sam  11102 May  3  2017 kmergenie\n",
      "-rw-r--r-- 1 sam sam      0 May  3  2017 __init__.py\n",
      "drwxr-xr-x 3 sam sam   4096 Feb  6 07:27 third_party\n",
      "drwxr-xr-x 2 sam sam   4096 Feb  6 07:31 minia\n",
      "-rwxrwxr-x 1 sam sam 118512 Feb  6 07:31 specialk\n",
      "drwxr-xr-x 5 sam sam   4096 Feb  6 07:31 ntCard\n",
      "drwxrwxr-x 2 sam sam   4096 Feb  6 07:40 __pycache__\n",
      "-rw-rw-r-- 1 sam sam  85399 Feb  6 12:10 histograms-k61.histo\n",
      "-rw-rw-r-- 1 sam sam  87660 Feb  6 12:10 histograms-k51.histo\n",
      "-rw-rw-r-- 1 sam sam  91393 Feb  6 12:19 histograms-k41.histo\n",
      "-rw-rw-r-- 1 sam sam  94299 Feb  6 12:25 histograms-k31.histo\n",
      "-rw-rw-r-- 1 sam sam  98123 Feb  6 12:26 histograms-k21.histo\n",
      "-rw-rw-r-- 1 sam sam  80894 Feb  6 16:44 histograms-k81.histo\n",
      "-rw-rw-r-- 1 sam sam  82809 Feb  6 16:44 histograms-k71.histo\n",
      "-rw-rw-r-- 1 sam sam  79364 Feb  6 16:47 histograms-k91.histo\n",
      "-rw-rw-r-- 1 sam sam  76319 Feb  6 16:56 histograms-k111.histo\n",
      "-rw-rw-r-- 1 sam sam  77695 Feb  6 16:56 histograms-k101.histo\n",
      "drwxr-xr-x 3 sam sam   4096 Feb  6 20:58 scripts\n",
      "-rw-rw-r-- 1 sam sam  75192 Feb  7 01:10 histograms-k117.histo\n",
      "-rw-rw-r-- 1 sam sam  74770 Feb  7 05:23 histograms-k119.histo\n",
      "-rw-rw-r-- 1 sam sam  74665 Feb  7 09:37 histograms-k121.histo\n",
      "-rw-rw-r-- 1 sam sam   5746 Feb  7 09:37 histograms-k117.histo.pdf\n",
      "-rw-rw-r-- 1 sam sam   5672 Feb  7 09:37 histograms-k119.histo.pdf\n",
      "-rw-rw-r-- 1 sam sam   8628 Feb  7 09:37 histograms-k71.histo.pdf\n",
      "-rw-rw-r-- 1 sam sam   6064 Feb  7 09:37 histograms-k111.histo.pdf\n",
      "-rw-rw-r-- 1 sam sam  11590 Feb  7 09:37 histograms-k41.histo.pdf\n",
      "-rw-rw-r-- 1 sam sam   5584 Feb  7 09:37 histograms-k121.histo.pdf\n",
      "-rw-rw-r-- 1 sam sam   7615 Feb  7 09:37 histograms-k81.histo.pdf\n",
      "-rw-rw-r-- 1 sam sam   6557 Feb  7 09:37 histograms-k101.histo.pdf\n",
      "-rw-rw-r-- 1 sam sam  13596 Feb  7 09:37 histograms-k31.histo.pdf\n",
      "-rw-rw-r-- 1 sam sam  16073 Feb  7 09:37 histograms-k21.histo.pdf\n",
      "-rw-rw-r-- 1 sam sam  10411 Feb  7 09:37 histograms-k51.histo.pdf\n",
      "-rw-rw-r-- 1 sam sam   7121 Feb  7 09:37 histograms-k91.histo.pdf\n",
      "-rw-rw-r-- 1 sam sam   9552 Feb  7 09:37 histograms-k61.histo.pdf\n",
      "-rw-rw-r-- 1 sam sam    247 Feb  7 09:37 histograms.dat\n",
      "-rw-rw-r-- 1 sam sam 625084 Feb  7 09:37 histograms_report.html\n",
      "-rw-rw-r-- 1 sam sam   4546 Feb  7 09:37 histograms.dat.pdf\n"
     ]
    }
   ],
   "source": [
    "%%bash\n",
    "ls -ltr /home/shared/kmergenie-1.7044/"
   ]
  },
  {
   "cell_type": "code",
   "execution_count": 10,
   "metadata": {
    "collapsed": true
   },
   "outputs": [],
   "source": [
    "%%bash\n",
    "mv /home/shared/kmergenie-1.7044/histograms* /home/sam/data/geoduck_illumina/trimmed/20180129_trimmed_again/20180206_kmergenie/"
   ]
  },
  {
   "cell_type": "code",
   "execution_count": 11,
   "metadata": {},
   "outputs": [
    {
     "name": "stdout",
     "output_type": "stream",
     "text": [
      "fastq_list.txt\n",
      "histograms.dat\n",
      "histograms.dat.pdf\n",
      "histograms-k101.histo\n",
      "histograms-k101.histo.pdf\n",
      "histograms-k111.histo\n",
      "histograms-k111.histo.pdf\n",
      "histograms-k117.histo\n",
      "histograms-k117.histo.pdf\n",
      "histograms-k119.histo\n",
      "histograms-k119.histo.pdf\n",
      "histograms-k121.histo\n",
      "histograms-k121.histo.pdf\n",
      "histograms-k21.histo\n",
      "histograms-k21.histo.pdf\n",
      "histograms-k31.histo\n",
      "histograms-k31.histo.pdf\n",
      "histograms-k41.histo\n",
      "histograms-k41.histo.pdf\n",
      "histograms-k51.histo\n",
      "histograms-k51.histo.pdf\n",
      "histograms-k61.histo\n",
      "histograms-k61.histo.pdf\n",
      "histograms-k71.histo\n",
      "histograms-k71.histo.pdf\n",
      "histograms-k81.histo\n",
      "histograms-k81.histo.pdf\n",
      "histograms-k91.histo\n",
      "histograms-k91.histo.pdf\n",
      "histograms_report.html\n"
     ]
    }
   ],
   "source": [
    "%%bash\n",
    "ls /home/sam/data/geoduck_illumina/trimmed/20180129_trimmed_again/20180206_kmergenie/"
   ]
  },
  {
   "cell_type": "markdown",
   "metadata": {},
   "source": [
    "Concerned about the amount of space left on this drive for the upcoming assembly. Moving to \"toaster\"."
   ]
  },
  {
   "cell_type": "code",
   "execution_count": 12,
   "metadata": {},
   "outputs": [
    {
     "name": "stderr",
     "output_type": "stream",
     "text": [
      "\n",
      "real\t88m11.549s\n",
      "user\t0m10.484s\n",
      "sys\t14m7.736s\n"
     ]
    }
   ],
   "source": [
    "%%bash\n",
    "mkdir /media/sam/toaster/geoduck_novaseq_meraculous_assembly\n",
    "time mv /home/sam/data/geoduck_illumina/trimmed/20180129_trimmed_again/ /media/sam/toaster/geoduck_novaseq_meraculous_assembly"
   ]
  },
  {
   "cell_type": "code",
   "execution_count": 13,
   "metadata": {},
   "outputs": [
    {
     "name": "stdout",
     "output_type": "stream",
     "text": [
      "20180129_trimmed_again\n"
     ]
    }
   ],
   "source": [
    "%%bash\n",
    "ls /media/sam/toaster/geoduck_novaseq_meraculous_assembly"
   ]
  },
  {
   "cell_type": "code",
   "execution_count": 14,
   "metadata": {},
   "outputs": [
    {
     "name": "stdout",
     "output_type": "stream",
     "text": [
      "20180206_kmergenie\n",
      "AD002_S9_L001_R1_001_val_1.fq.gz_trimming_report.txt\n",
      "AD002_S9_L001_R1_001_val_1_val_1.fq.gz\n",
      "AD002_S9_L001_R2_001_val_2.fq.gz_trimming_report.txt\n",
      "AD002_S9_L001_R2_001_val_2_val_2.fq.gz\n",
      "AD002_S9_L002_R1_001_val_1.fq.gz_trimming_report.txt\n",
      "AD002_S9_L002_R1_001_val_1_val_1.fq.gz\n",
      "AD002_S9_L002_R2_001_val_2.fq.gz_trimming_report.txt\n",
      "AD002_S9_L002_R2_001_val_2_val_2.fq.gz\n",
      "NR005_S4_L001_R1_001_val_1.fq.gz_trimming_report.txt\n",
      "NR005_S4_L001_R1_001_val_1_val_1.fq.gz\n",
      "NR005_S4_L001_R2_001_val_2.fq.gz_trimming_report.txt\n",
      "NR005_S4_L001_R2_001_val_2_val_2.fq.gz\n",
      "NR005_S4_L002_R1_001_val_1.fq.gz_trimming_report.txt\n",
      "NR005_S4_L002_R1_001_val_1_val_1.fq.gz\n",
      "NR005_S4_L002_R2_001_val_2.fq.gz_trimming_report.txt\n",
      "NR005_S4_L002_R2_001_val_2_val_2.fq.gz\n",
      "NR006_S3_L001_R1_001_val_1.fq.gz_trimming_report.txt\n",
      "NR006_S3_L001_R1_001_val_1_val_1.fq.gz\n",
      "NR006_S3_L001_R2_001_val_2.fq.gz_trimming_report.txt\n",
      "NR006_S3_L001_R2_001_val_2_val_2.fq.gz\n",
      "NR006_S3_L002_R1_001_val_1.fq.gz_trimming_report.txt\n",
      "NR006_S3_L002_R1_001_val_1_val_1.fq.gz\n",
      "NR006_S3_L002_R2_001_val_2.fq.gz_trimming_report.txt\n",
      "NR006_S3_L002_R2_001_val_2_val_2.fq.gz\n",
      "NR012_S1_L001_R1_001_val_1.fq.gz_trimming_report.txt\n",
      "NR012_S1_L001_R1_001_val_1_val_1.fq.gz\n",
      "NR012_S1_L001_R2_001_val_2.fq.gz_trimming_report.txt\n",
      "NR012_S1_L001_R2_001_val_2_val_2.fq.gz\n",
      "NR012_S1_L002_R1_001_val_1.fq.gz_trimming_report.txt\n",
      "NR012_S1_L002_R1_001_val_1_val_1.fq.gz\n",
      "NR012_S1_L002_R2_001_val_2.fq.gz_trimming_report.txt\n",
      "NR012_S1_L002_R2_001_val_2_val_2.fq.gz\n",
      "NR013_AD013_S2_L001_R1_001_val_1.fq.gz_trimming_report.txt\n",
      "NR013_AD013_S2_L001_R1_001_val_1_val_1.fq.gz\n",
      "NR013_AD013_S2_L001_R2_001_val_2.fq.gz_trimming_report.txt\n",
      "NR013_AD013_S2_L001_R2_001_val_2_val_2.fq.gz\n",
      "NR013_AD013_S2_L002_R1_001_val_1.fq.gz_trimming_report.txt\n",
      "NR013_AD013_S2_L002_R1_001_val_1_val_1.fq.gz\n",
      "NR013_AD013_S2_L002_R2_001_val_2.fq.gz_trimming_report.txt\n",
      "NR013_AD013_S2_L002_R2_001_val_2_val_2.fq.gz\n",
      "NR014_AD014_S5_L001_R1_001_val_1.fq.gz_trimming_report.txt\n",
      "NR014_AD014_S5_L001_R1_001_val_1_val_1.fq.gz\n",
      "NR014_AD014_S5_L001_R2_001_val_2.fq.gz_trimming_report.txt\n",
      "NR014_AD014_S5_L001_R2_001_val_2_val_2.fq.gz\n",
      "NR014_AD014_S5_L002_R1_001_val_1.fq.gz_trimming_report.txt\n",
      "NR014_AD014_S5_L002_R1_001_val_1_val_1.fq.gz\n",
      "NR014_AD014_S5_L002_R2_001_val_2.fq.gz_trimming_report.txt\n",
      "NR014_AD014_S5_L002_R2_001_val_2_val_2.fq.gz\n",
      "NR015_AD015_S6_L001_R1_001_val_1.fq.gz_trimming_report.txt\n",
      "NR015_AD015_S6_L001_R1_001_val_1_val_1.fq.gz\n",
      "NR015_AD015_S6_L001_R2_001_val_2.fq.gz_trimming_report.txt\n",
      "NR015_AD015_S6_L001_R2_001_val_2_val_2.fq.gz\n",
      "NR015_AD015_S6_L002_R1_001_val_1.fq.gz_trimming_report.txt\n",
      "NR015_AD015_S6_L002_R1_001_val_1_val_1.fq.gz\n",
      "NR015_AD015_S6_L002_R2_001_val_2.fq.gz_trimming_report.txt\n",
      "NR015_AD015_S6_L002_R2_001_val_2_val_2.fq.gz\n",
      "NR019_S7_L001_R1_001_val_1.fq.gz_trimming_report.txt\n",
      "NR019_S7_L001_R1_001_val_1_val_1.fq.gz\n",
      "NR019_S7_L001_R2_001_val_2.fq.gz_trimming_report.txt\n",
      "NR019_S7_L001_R2_001_val_2_val_2.fq.gz\n",
      "NR019_S7_L002_R1_001_val_1.fq.gz_trimming_report.txt\n",
      "NR019_S7_L002_R1_001_val_1_val_1.fq.gz\n",
      "NR019_S7_L002_R2_001_val_2.fq.gz_trimming_report.txt\n",
      "NR019_S7_L002_R2_001_val_2_val_2.fq.gz\n",
      "NR021_S8_L001_R1_001_val_1.fq.gz_trimming_report.txt\n",
      "NR021_S8_L001_R1_001_val_1_val_1.fq.gz\n",
      "NR021_S8_L001_R2_001_val_2.fq.gz_trimming_report.txt\n",
      "NR021_S8_L001_R2_001_val_2_val_2.fq.gz\n",
      "NR021_S8_L002_R1_001_val_1.fq.gz_trimming_report.txt\n",
      "NR021_S8_L002_R1_001_val_1_val_1.fq.gz\n",
      "NR021_S8_L002_R2_001_val_2.fq.gz_trimming_report.txt\n",
      "NR021_S8_L002_R2_001_val_2_val_2.fq.gz\n"
     ]
    }
   ],
   "source": [
    "%%bash\n",
    "ls /media/sam/toaster/geoduck_novaseq_meraculous_assembly/20180129_trimmed_again/"
   ]
  },
  {
   "cell_type": "code",
   "execution_count": 15,
   "metadata": {},
   "outputs": [
    {
     "name": "stdout",
     "output_type": "stream",
     "text": [
      "/media/sam/toaster/geoduck_novaseq_meraculous_assembly/20180129_trimmed_again/AD002_S9_L001_R1_001_val_1_val_1.fq.gz\n",
      "/media/sam/toaster/geoduck_novaseq_meraculous_assembly/20180129_trimmed_again/AD002_S9_L001_R2_001_val_2_val_2.fq.gz\n",
      "/media/sam/toaster/geoduck_novaseq_meraculous_assembly/20180129_trimmed_again/AD002_S9_L002_R1_001_val_1_val_1.fq.gz\n",
      "/media/sam/toaster/geoduck_novaseq_meraculous_assembly/20180129_trimmed_again/AD002_S9_L002_R2_001_val_2_val_2.fq.gz\n",
      "/media/sam/toaster/geoduck_novaseq_meraculous_assembly/20180129_trimmed_again/NR005_S4_L001_R1_001_val_1_val_1.fq.gz\n",
      "/media/sam/toaster/geoduck_novaseq_meraculous_assembly/20180129_trimmed_again/NR005_S4_L001_R2_001_val_2_val_2.fq.gz\n",
      "/media/sam/toaster/geoduck_novaseq_meraculous_assembly/20180129_trimmed_again/NR005_S4_L002_R1_001_val_1_val_1.fq.gz\n",
      "/media/sam/toaster/geoduck_novaseq_meraculous_assembly/20180129_trimmed_again/NR005_S4_L002_R2_001_val_2_val_2.fq.gz\n",
      "/media/sam/toaster/geoduck_novaseq_meraculous_assembly/20180129_trimmed_again/NR006_S3_L001_R1_001_val_1_val_1.fq.gz\n",
      "/media/sam/toaster/geoduck_novaseq_meraculous_assembly/20180129_trimmed_again/NR006_S3_L001_R2_001_val_2_val_2.fq.gz\n",
      "/media/sam/toaster/geoduck_novaseq_meraculous_assembly/20180129_trimmed_again/NR006_S3_L002_R1_001_val_1_val_1.fq.gz\n",
      "/media/sam/toaster/geoduck_novaseq_meraculous_assembly/20180129_trimmed_again/NR006_S3_L002_R2_001_val_2_val_2.fq.gz\n",
      "/media/sam/toaster/geoduck_novaseq_meraculous_assembly/20180129_trimmed_again/NR012_S1_L001_R1_001_val_1_val_1.fq.gz\n",
      "/media/sam/toaster/geoduck_novaseq_meraculous_assembly/20180129_trimmed_again/NR012_S1_L001_R2_001_val_2_val_2.fq.gz\n",
      "/media/sam/toaster/geoduck_novaseq_meraculous_assembly/20180129_trimmed_again/NR012_S1_L002_R1_001_val_1_val_1.fq.gz\n",
      "/media/sam/toaster/geoduck_novaseq_meraculous_assembly/20180129_trimmed_again/NR012_S1_L002_R2_001_val_2_val_2.fq.gz\n",
      "/media/sam/toaster/geoduck_novaseq_meraculous_assembly/20180129_trimmed_again/NR013_AD013_S2_L001_R1_001_val_1_val_1.fq.gz\n",
      "/media/sam/toaster/geoduck_novaseq_meraculous_assembly/20180129_trimmed_again/NR013_AD013_S2_L001_R2_001_val_2_val_2.fq.gz\n",
      "/media/sam/toaster/geoduck_novaseq_meraculous_assembly/20180129_trimmed_again/NR013_AD013_S2_L002_R1_001_val_1_val_1.fq.gz\n",
      "/media/sam/toaster/geoduck_novaseq_meraculous_assembly/20180129_trimmed_again/NR013_AD013_S2_L002_R2_001_val_2_val_2.fq.gz\n",
      "/media/sam/toaster/geoduck_novaseq_meraculous_assembly/20180129_trimmed_again/NR014_AD014_S5_L001_R1_001_val_1_val_1.fq.gz\n",
      "/media/sam/toaster/geoduck_novaseq_meraculous_assembly/20180129_trimmed_again/NR014_AD014_S5_L001_R2_001_val_2_val_2.fq.gz\n",
      "/media/sam/toaster/geoduck_novaseq_meraculous_assembly/20180129_trimmed_again/NR014_AD014_S5_L002_R1_001_val_1_val_1.fq.gz\n",
      "/media/sam/toaster/geoduck_novaseq_meraculous_assembly/20180129_trimmed_again/NR014_AD014_S5_L002_R2_001_val_2_val_2.fq.gz\n",
      "/media/sam/toaster/geoduck_novaseq_meraculous_assembly/20180129_trimmed_again/NR015_AD015_S6_L001_R1_001_val_1_val_1.fq.gz\n",
      "/media/sam/toaster/geoduck_novaseq_meraculous_assembly/20180129_trimmed_again/NR015_AD015_S6_L001_R2_001_val_2_val_2.fq.gz\n",
      "/media/sam/toaster/geoduck_novaseq_meraculous_assembly/20180129_trimmed_again/NR015_AD015_S6_L002_R1_001_val_1_val_1.fq.gz\n",
      "/media/sam/toaster/geoduck_novaseq_meraculous_assembly/20180129_trimmed_again/NR015_AD015_S6_L002_R2_001_val_2_val_2.fq.gz\n",
      "/media/sam/toaster/geoduck_novaseq_meraculous_assembly/20180129_trimmed_again/NR019_S7_L001_R1_001_val_1_val_1.fq.gz\n",
      "/media/sam/toaster/geoduck_novaseq_meraculous_assembly/20180129_trimmed_again/NR019_S7_L001_R2_001_val_2_val_2.fq.gz\n",
      "/media/sam/toaster/geoduck_novaseq_meraculous_assembly/20180129_trimmed_again/NR019_S7_L002_R1_001_val_1_val_1.fq.gz\n",
      "/media/sam/toaster/geoduck_novaseq_meraculous_assembly/20180129_trimmed_again/NR019_S7_L002_R2_001_val_2_val_2.fq.gz\n",
      "/media/sam/toaster/geoduck_novaseq_meraculous_assembly/20180129_trimmed_again/NR021_S8_L001_R1_001_val_1_val_1.fq.gz\n",
      "/media/sam/toaster/geoduck_novaseq_meraculous_assembly/20180129_trimmed_again/NR021_S8_L001_R2_001_val_2_val_2.fq.gz\n",
      "/media/sam/toaster/geoduck_novaseq_meraculous_assembly/20180129_trimmed_again/NR021_S8_L002_R1_001_val_1_val_1.fq.gz\n",
      "/media/sam/toaster/geoduck_novaseq_meraculous_assembly/20180129_trimmed_again/NR021_S8_L002_R2_001_val_2_val_2.fq.gz\n"
     ]
    }
   ],
   "source": [
    "%%bash\n",
    "ls /media/sam/toaster/geoduck_novaseq_meraculous_assembly/20180129_trimmed_again/*.fq.gz"
   ]
  },
  {
   "cell_type": "code",
   "execution_count": 16,
   "metadata": {
    "collapsed": true
   },
   "outputs": [],
   "source": [
    "%%bash\n",
    "echo \\\n",
    "\"###################################\n",
    "#\n",
    "#  Meraculous params file\n",
    "#\n",
    "###################################\n",
    "\n",
    "\n",
    "#######################################\n",
    "#\n",
    "# Basic parameters\n",
    "#\n",
    "########################################\n",
    "\n",
    "\n",
    "\n",
    "# Describe the libraries ( one line per library )\n",
    "# lib_seq [ wildcard ][ prefix ][ insAvg ][ insSdev ][ avgReadLen ][ hasInnieArtifact ][ isRevComped ][ useForContigging ][ onoSetId ][ useForGapClosing ][ 5pWiggleRoom ][3pWiggleRoom]\n",
    "#\n",
    "\n",
    "lib_seq /media/sam/toaster/geoduck_novaseq_meraculous_assembly/20180129_trimmed_again/AD002_S9_L001_R1*.fq.gz,/media/sam/toaster/geoduck_novaseq_meraculous_assembly/20180129_trimmed_again/AD002_S9_L001_R2*.fq.fz AD002  800  10   150 0 0   0 1 1  0 0\n",
    "lib_seq /media/sam/toaster/geoduck_novaseq_meraculous_assembly/20180129_trimmed_again/AD002_S9_L002_R1*.fq.gz,/media/sam/toaster/geoduck_novaseq_meraculous_assembly/20180129_trimmed_again/AD002_S9_L002_R2*.fq.gz AD002  800  10   150 0 0   0 1 1  0 0\n",
    "lib_seq /media/sam/toaster/geoduck_novaseq_meraculous_assembly/20180129_trimmed_again/NR005_S4_L001_R1*.fq.gz,/media/sam/toaster/geoduck_novaseq_meraculous_assembly/20180129_trimmed_again/NR005_S4_L001_R2*.fq.gz NR005  800  10   150 0 0   0 1 1  0 0\n",
    "lib_seq /media/sam/toaster/geoduck_novaseq_meraculous_assembly/20180129_trimmed_again/NR005_S4_L002_R1*.fq.gz,/media/sam/toaster/geoduck_novaseq_meraculous_assembly/20180129_trimmed_again/NR005_S4_L002_R2*.fq.gz NR005  800  10   150 0 0   0 1 1  0 0\n",
    "lib_seq /media/sam/toaster/geoduck_novaseq_meraculous_assembly/20180129_trimmed_again/NR006_S3_L001_R1*.fq.gz,/media/sam/toaster/geoduck_novaseq_meraculous_assembly/20180129_trimmed_again/NR006_S3_L001_R2*.fq.gz NR006  800  10   150 0 0   0 1 1  0 0\n",
    "lib_seq /media/sam/toaster/geoduck_novaseq_meraculous_assembly/20180129_trimmed_again/NR006_S3_L002_R1*.fq.gz,/media/sam/toaster/geoduck_novaseq_meraculous_assembly/20180129_trimmed_again/NR006_S3_L002_R2*.fq.gz NR006  800  10   150 0 0   0 1 1  0 0\n",
    "lib_seq /media/sam/toaster/geoduck_novaseq_meraculous_assembly/20180129_trimmed_again/NR012_S1_L001_R1*.fq.gz,/media/sam/toaster/geoduck_novaseq_meraculous_assembly/20180129_trimmed_again/NR012_S1_L001_R2*.fq.gz NR012  800  10   150 0 0   0 1 1  0 0\n",
    "lib_seq /media/sam/toaster/geoduck_novaseq_meraculous_assembly/20180129_trimmed_again/NR012_S1_L002_R1*.fq.gz,/media/sam/toaster/geoduck_novaseq_meraculous_assembly/20180129_trimmed_again/NR012_S1_L002_R2*fq.gz NR012  800  10   150 0 0   0 1 1  0 0\n",
    "lib_seq /media/sam/toaster/geoduck_novaseq_meraculous_assembly/20180129_trimmed_again/NR013_AD013_S2_L001_R1*.fq.gz,/media/sam/toaster/geoduck_novaseq_meraculous_assembly/20180129_trimmed_again/NR013_AD013_S2_L001_R2*.fq.gz NR013  800  10   150 0 0   0 1 1  0 0\n",
    "lib_seq /media/sam/toaster/geoduck_novaseq_meraculous_assembly/20180129_trimmed_again/NR013_AD013_S2_L002_R1*.fq.gz,/media/sam/toaster/geoduck_novaseq_meraculous_assembly/20180129_trimmed_again/NR013_AD013_S2_L002_R2*.fq.gz NR013  800  10   150 0 0   0 1 1  0 0\n",
    "lib_seq /media/sam/toaster/geoduck_novaseq_meraculous_assembly/20180129_trimmed_again/NR014_AD014_S5_L001_R1*.fq.gz,/media/sam/toaster/geoduck_novaseq_meraculous_assembly/20180129_trimmed_again/NR014_AD014_S5_L001_R2*.fq.gz NR014  800  10   150 0 0   0 1 1  0 0\n",
    "lib_seq /media/sam/toaster/geoduck_novaseq_meraculous_assembly/20180129_trimmed_again/NR014_AD014_S5_L002_R1*.fq.gz,/media/sam/toaster/geoduck_novaseq_meraculous_assembly/20180129_trimmed_again/NR014_AD014_S5_L002_R2*.fq.gz NR014  800  10   150 0 0   0 1 1  0 0\n",
    "lib_seq /media/sam/toaster/geoduck_novaseq_meraculous_assembly/20180129_trimmed_again/NR015_AD015_S6_L001_R1*.fq.gz,/media/sam/toaster/geoduck_novaseq_meraculous_assembly/20180129_trimmed_again/NR015_AD015_S6_L001_R2*.fq.gz NR015  800  10   150 0 0   0 1 1  0 0\n",
    "lib_seq /media/sam/toaster/geoduck_novaseq_meraculous_assembly/20180129_trimmed_again/NR015_AD015_S6_L002_R1*.fq.gz,/media/sam/toaster/geoduck_novaseq_meraculous_assembly/20180129_trimmed_again/NR015_AD015_S6_L002_R2*.fq.gz NR015  800  10   150 0 0   0 1 1  0 0\n",
    "lib_seq /media/sam/toaster/geoduck_novaseq_meraculous_assembly/20180129_trimmed_again/NR019_S7_L001_R1*.fq.gz,/media/sam/toaster/geoduck_novaseq_meraculous_assembly/20180129_trimmed_again/NR019_S7_L001_R2*.fq.gz NR019  800  10   150 0 0   0 1 1  0 0\n",
    "lib_seq /media/sam/toaster/geoduck_novaseq_meraculous_assembly/20180129_trimmed_again/NR019_S7_L002_R1*.fq.gz,/media/sam/toaster/geoduck_novaseq_meraculous_assembly/20180129_trimmed_again/NR019_S7_L002_R2*.fq.gz NR019  800  10   150 0 0   0 1 1  0 0\n",
    "lib_seq /media/sam/toaster/geoduck_novaseq_meraculous_assembly/20180129_trimmed_again/NR021_S8_L001_R1*.fq.gz,/media/sam/toaster/geoduck_novaseq_meraculous_assembly/20180129_trimmed_again/NR021_S8_L001_R2*.fq.gz NR021  800  10   150 0 0   0 1 1  0 0\n",
    "lib_seq /media/sam/toaster/geoduck_novaseq_meraculous_assembly/20180129_trimmed_again/NR021_S8_L002_R1*.fq.gz,/media/sam/toaster/geoduck_novaseq_meraculous_assembly/20180129_trimmed_again/NR021_S8_L002_R2*.fq.gz NR021  800  10   150 0 0   0 1 1  0 0\n",
    "\n",
    "\n",
    "genome_size   2.1697\n",
    "\n",
    "diploid_mode    1\n",
    "\n",
    "mer_size 117\n",
    "\n",
    "min_depth_cutoff        7\n",
    "\n",
    "num_prefix_blocks 4\n",
    "\n",
    "\n",
    "#################################################\n",
    "#\n",
    "# Advanced parameters \n",
    "#\n",
    "#################################################\n",
    "\n",
    "no_read_validation 1\n",
    "\n",
    "use_cluster 0\n",
    "\n",
    "local_num_procs       16\n",
    "\n",
    "local_max_retries                 0\n",
    "\" \\\n",
    "> /home/sam/20180206_meraculous_geoduck/meraculous.config"
   ]
  },
  {
   "cell_type": "code",
   "execution_count": 17,
   "metadata": {
    "collapsed": true
   },
   "outputs": [],
   "source": [
    "%%bash\n",
    "echo \\\n",
    "\"###################################\n",
    "#\n",
    "#  Meraculous params file\n",
    "#\n",
    "###################################\n",
    "\n",
    "\n",
    "#######################################\n",
    "#\n",
    "# Basic parameters\n",
    "#\n",
    "########################################\n",
    "\n",
    "\n",
    "\n",
    "# Describe the libraries ( one line per library )\n",
    "# lib_seq [ wildcard ][ prefix ][ insAvg ][ insSdev ][ avgReadLen ][ hasInnieArtifact ][ isRevComped ][ useForContigging ][ onoSetId ][ useForGapClosing ][ 5pWiggleRoom ][3pWiggleRoom]\n",
    "#\n",
    "\n",
    "lib_seq /media/sam/toaster/geoduck_novaseq_meraculous_assembly/20180129_trimmed_again/AD002_S9_L001_R1*.fq.gz,/media/sam/toaster/geoduck_novaseq_meraculous_assembly/20180129_trimmed_again/AD002_S9_L001_R2*.fq.fz AD002  800  10   150 0 0   0 1 1  0 0\n",
    "lib_seq /media/sam/toaster/geoduck_novaseq_meraculous_assembly/20180129_trimmed_again/AD002_S9_L002_R1*.fq.gz,/media/sam/toaster/geoduck_novaseq_meraculous_assembly/20180129_trimmed_again/AD002_S9_L002_R2*.fq.gz AD002  800  10   150 0 0   0 1 1  0 0\n",
    "lib_seq /media/sam/toaster/geoduck_novaseq_meraculous_assembly/20180129_trimmed_again/NR005_S4_L001_R1*.fq.gz,/media/sam/toaster/geoduck_novaseq_meraculous_assembly/20180129_trimmed_again/NR005_S4_L001_R2*.fq.gz NR005  800  10   150 0 0   0 1 1  0 0\n",
    "lib_seq /media/sam/toaster/geoduck_novaseq_meraculous_assembly/20180129_trimmed_again/NR005_S4_L002_R1*.fq.gz,/media/sam/toaster/geoduck_novaseq_meraculous_assembly/20180129_trimmed_again/NR005_S4_L002_R2*.fq.gz NR005  800  10   150 0 0   0 1 1  0 0\n",
    "lib_seq /media/sam/toaster/geoduck_novaseq_meraculous_assembly/20180129_trimmed_again/NR006_S3_L001_R1*.fq.gz,/media/sam/toaster/geoduck_novaseq_meraculous_assembly/20180129_trimmed_again/NR006_S3_L001_R2*.fq.gz NR006  800  10   150 0 0   0 1 1  0 0\n",
    "lib_seq /media/sam/toaster/geoduck_novaseq_meraculous_assembly/20180129_trimmed_again/NR006_S3_L002_R1*.fq.gz,/media/sam/toaster/geoduck_novaseq_meraculous_assembly/20180129_trimmed_again/NR006_S3_L002_R2*.fq.gz NR006  800  10   150 0 0   0 1 1  0 0\n",
    "lib_seq /media/sam/toaster/geoduck_novaseq_meraculous_assembly/20180129_trimmed_again/NR012_S1_L001_R1*.fq.gz,/media/sam/toaster/geoduck_novaseq_meraculous_assembly/20180129_trimmed_again/NR012_S1_L001_R2*.fq.gz NR012  800  10   150 0 0   0 1 1  0 0\n",
    "lib_seq /media/sam/toaster/geoduck_novaseq_meraculous_assembly/20180129_trimmed_again/NR012_S1_L002_R1*.fq.gz,/media/sam/toaster/geoduck_novaseq_meraculous_assembly/20180129_trimmed_again/NR012_S1_L002_R2*fq.gz NR012  800  10   150 0 0   0 1 1  0 0\n",
    "lib_seq /media/sam/toaster/geoduck_novaseq_meraculous_assembly/20180129_trimmed_again/NR013_AD013_S2_L001_R1*.fq.gz,/media/sam/toaster/geoduck_novaseq_meraculous_assembly/20180129_trimmed_again/NR013_AD013_S2_L001_R2*.fq.gz NR013  800  10   150 0 0   0 1 1  0 0\n",
    "lib_seq /media/sam/toaster/geoduck_novaseq_meraculous_assembly/20180129_trimmed_again/NR013_AD013_S2_L002_R1*.fq.gz,/media/sam/toaster/geoduck_novaseq_meraculous_assembly/20180129_trimmed_again/NR013_AD013_S2_L002_R2*.fq.gz NR013  800  10   150 0 0   0 1 1  0 0\n",
    "lib_seq /media/sam/toaster/geoduck_novaseq_meraculous_assembly/20180129_trimmed_again/NR014_AD014_S5_L001_R1*.fq.gz,/media/sam/toaster/geoduck_novaseq_meraculous_assembly/20180129_trimmed_again/NR014_AD014_S5_L001_R2*.fq.gz NR014  800  10   150 0 0   0 1 1  0 0\n",
    "lib_seq /media/sam/toaster/geoduck_novaseq_meraculous_assembly/20180129_trimmed_again/NR014_AD014_S5_L002_R1*.fq.gz,/media/sam/toaster/geoduck_novaseq_meraculous_assembly/20180129_trimmed_again/NR014_AD014_S5_L002_R2*.fq.gz NR014  800  10   150 0 0   0 1 1  0 0\n",
    "lib_seq /media/sam/toaster/geoduck_novaseq_meraculous_assembly/20180129_trimmed_again/NR015_AD015_S6_L001_R1*.fq.gz,/media/sam/toaster/geoduck_novaseq_meraculous_assembly/20180129_trimmed_again/NR015_AD015_S6_L001_R2*.fq.gz NR015  800  10   150 0 0   0 1 1  0 0\n",
    "lib_seq /media/sam/toaster/geoduck_novaseq_meraculous_assembly/20180129_trimmed_again/NR015_AD015_S6_L002_R1*.fq.gz,/media/sam/toaster/geoduck_novaseq_meraculous_assembly/20180129_trimmed_again/NR015_AD015_S6_L002_R2*.fq.gz NR015  800  10   150 0 0   0 1 1  0 0\n",
    "lib_seq /media/sam/toaster/geoduck_novaseq_meraculous_assembly/20180129_trimmed_again/NR019_S7_L001_R1*.fq.gz,/media/sam/toaster/geoduck_novaseq_meraculous_assembly/20180129_trimmed_again/NR019_S7_L001_R2*.fq.gz NR019  800  10   150 0 0   0 1 1  0 0\n",
    "lib_seq /media/sam/toaster/geoduck_novaseq_meraculous_assembly/20180129_trimmed_again/NR019_S7_L002_R1*.fq.gz,/media/sam/toaster/geoduck_novaseq_meraculous_assembly/20180129_trimmed_again/NR019_S7_L002_R2*.fq.gz NR019  800  10   150 0 0   0 1 1  0 0\n",
    "lib_seq /media/sam/toaster/geoduck_novaseq_meraculous_assembly/20180129_trimmed_again/NR021_S8_L001_R1*.fq.gz,/media/sam/toaster/geoduck_novaseq_meraculous_assembly/20180129_trimmed_again/NR021_S8_L001_R2*.fq.gz NR021  800  10   150 0 0   0 1 1  0 0\n",
    "lib_seq /media/sam/toaster/geoduck_novaseq_meraculous_assembly/20180129_trimmed_again/NR021_S8_L002_R1*.fq.gz,/media/sam/toaster/geoduck_novaseq_meraculous_assembly/20180129_trimmed_again/NR021_S8_L002_R2*.fq.gz NR021  800  10   150 0 0   0 1 1  0 0\n",
    "\n",
    "\n",
    "genome_size   2.1697\n",
    "\n",
    "diploid_mode    1\n",
    "\n",
    "mer_size 117\n",
    "\n",
    "min_depth_cutoff        7\n",
    "\n",
    "num_prefix_blocks 4\n",
    "\n",
    "\n",
    "#################################################\n",
    "#\n",
    "# Advanced parameters \n",
    "#\n",
    "#################################################\n",
    "\n",
    "no_read_validation 1\n",
    "\n",
    "use_cluster 0\n",
    "\n",
    "local_num_procs       16\n",
    "\n",
    "local_max_retries                 0\n",
    "\" \\\n",
    "> /media/sam/toaster/geoduck_novaseq_meraculous_assembly/meraculous.config"
   ]
  },
  {
   "cell_type": "code",
   "execution_count": 18,
   "metadata": {},
   "outputs": [
    {
     "name": "stdout",
     "output_type": "stream",
     "text": [
      "###################################\n",
      "#\n",
      "#  Meraculous params file\n",
      "#\n",
      "###################################\n",
      "\n",
      "\n",
      "#######################################\n",
      "#\n",
      "# Basic parameters\n",
      "#\n",
      "########################################\n",
      "\n",
      "\n",
      "\n",
      "# Describe the libraries ( one line per library )\n",
      "# lib_seq [ wildcard ][ prefix ][ insAvg ][ insSdev ][ avgReadLen ][ hasInnieArtifact ][ isRevComped ][ useForContigging ][ onoSetId ][ useForGapClosing ][ 5pWiggleRoom ][3pWiggleRoom]\n",
      "#\n",
      "\n",
      "lib_seq /media/sam/toaster/geoduck_novaseq_meraculous_assembly/20180129_trimmed_again/AD002_S9_L001_R1*.fq.gz,/media/sam/toaster/geoduck_novaseq_meraculous_assembly/20180129_trimmed_again/AD002_S9_L001_R2*.fq.fz AD002  800  10   150 0 0   0 1 1  0 0\n",
      "lib_seq /media/sam/toaster/geoduck_novaseq_meraculous_assembly/20180129_trimmed_again/AD002_S9_L002_R1*.fq.gz,/media/sam/toaster/geoduck_novaseq_meraculous_assembly/20180129_trimmed_again/AD002_S9_L002_R2*.fq.gz AD002  800  10   150 0 0   0 1 1  0 0\n",
      "lib_seq /media/sam/toaster/geoduck_novaseq_meraculous_assembly/20180129_trimmed_again/NR005_S4_L001_R1*.fq.gz,/media/sam/toaster/geoduck_novaseq_meraculous_assembly/20180129_trimmed_again/NR005_S4_L001_R2*.fq.gz NR005  800  10   150 0 0   0 1 1  0 0\n",
      "lib_seq /media/sam/toaster/geoduck_novaseq_meraculous_assembly/20180129_trimmed_again/NR005_S4_L002_R1*.fq.gz,/media/sam/toaster/geoduck_novaseq_meraculous_assembly/20180129_trimmed_again/NR005_S4_L002_R2*.fq.gz NR005  800  10   150 0 0   0 1 1  0 0\n",
      "lib_seq /media/sam/toaster/geoduck_novaseq_meraculous_assembly/20180129_trimmed_again/NR006_S3_L001_R1*.fq.gz,/media/sam/toaster/geoduck_novaseq_meraculous_assembly/20180129_trimmed_again/NR006_S3_L001_R2*.fq.gz NR006  800  10   150 0 0   0 1 1  0 0\n",
      "lib_seq /media/sam/toaster/geoduck_novaseq_meraculous_assembly/20180129_trimmed_again/NR006_S3_L002_R1*.fq.gz,/media/sam/toaster/geoduck_novaseq_meraculous_assembly/20180129_trimmed_again/NR006_S3_L002_R2*.fq.gz NR006  800  10   150 0 0   0 1 1  0 0\n",
      "lib_seq /media/sam/toaster/geoduck_novaseq_meraculous_assembly/20180129_trimmed_again/NR012_S1_L001_R1*.fq.gz,/media/sam/toaster/geoduck_novaseq_meraculous_assembly/20180129_trimmed_again/NR012_S1_L001_R2*.fq.gz NR012  800  10   150 0 0   0 1 1  0 0\n",
      "lib_seq /media/sam/toaster/geoduck_novaseq_meraculous_assembly/20180129_trimmed_again/NR012_S1_L002_R1*.fq.gz,/media/sam/toaster/geoduck_novaseq_meraculous_assembly/20180129_trimmed_again/NR012_S1_L002_R2*fq.gz NR012  800  10   150 0 0   0 1 1  0 0\n",
      "lib_seq /media/sam/toaster/geoduck_novaseq_meraculous_assembly/20180129_trimmed_again/NR013_AD013_S2_L001_R1*.fq.gz,/media/sam/toaster/geoduck_novaseq_meraculous_assembly/20180129_trimmed_again/NR013_AD013_S2_L001_R2*.fq.gz NR013  800  10   150 0 0   0 1 1  0 0\n",
      "lib_seq /media/sam/toaster/geoduck_novaseq_meraculous_assembly/20180129_trimmed_again/NR013_AD013_S2_L002_R1*.fq.gz,/media/sam/toaster/geoduck_novaseq_meraculous_assembly/20180129_trimmed_again/NR013_AD013_S2_L002_R2*.fq.gz NR013  800  10   150 0 0   0 1 1  0 0\n",
      "lib_seq /media/sam/toaster/geoduck_novaseq_meraculous_assembly/20180129_trimmed_again/NR014_AD014_S5_L001_R1*.fq.gz,/media/sam/toaster/geoduck_novaseq_meraculous_assembly/20180129_trimmed_again/NR014_AD014_S5_L001_R2*.fq.gz NR014  800  10   150 0 0   0 1 1  0 0\n",
      "lib_seq /media/sam/toaster/geoduck_novaseq_meraculous_assembly/20180129_trimmed_again/NR014_AD014_S5_L002_R1*.fq.gz,/media/sam/toaster/geoduck_novaseq_meraculous_assembly/20180129_trimmed_again/NR014_AD014_S5_L002_R2*.fq.gz NR014  800  10   150 0 0   0 1 1  0 0\n",
      "lib_seq /media/sam/toaster/geoduck_novaseq_meraculous_assembly/20180129_trimmed_again/NR015_AD015_S6_L001_R1*.fq.gz,/media/sam/toaster/geoduck_novaseq_meraculous_assembly/20180129_trimmed_again/NR015_AD015_S6_L001_R2*.fq.gz NR015  800  10   150 0 0   0 1 1  0 0\n",
      "lib_seq /media/sam/toaster/geoduck_novaseq_meraculous_assembly/20180129_trimmed_again/NR015_AD015_S6_L002_R1*.fq.gz,/media/sam/toaster/geoduck_novaseq_meraculous_assembly/20180129_trimmed_again/NR015_AD015_S6_L002_R2*.fq.gz NR015  800  10   150 0 0   0 1 1  0 0\n",
      "lib_seq /media/sam/toaster/geoduck_novaseq_meraculous_assembly/20180129_trimmed_again/NR019_S7_L001_R1*.fq.gz,/media/sam/toaster/geoduck_novaseq_meraculous_assembly/20180129_trimmed_again/NR019_S7_L001_R2*.fq.gz NR019  800  10   150 0 0   0 1 1  0 0\n",
      "lib_seq /media/sam/toaster/geoduck_novaseq_meraculous_assembly/20180129_trimmed_again/NR019_S7_L002_R1*.fq.gz,/media/sam/toaster/geoduck_novaseq_meraculous_assembly/20180129_trimmed_again/NR019_S7_L002_R2*.fq.gz NR019  800  10   150 0 0   0 1 1  0 0\n",
      "lib_seq /media/sam/toaster/geoduck_novaseq_meraculous_assembly/20180129_trimmed_again/NR021_S8_L001_R1*.fq.gz,/media/sam/toaster/geoduck_novaseq_meraculous_assembly/20180129_trimmed_again/NR021_S8_L001_R2*.fq.gz NR021  800  10   150 0 0   0 1 1  0 0\n",
      "lib_seq /media/sam/toaster/geoduck_novaseq_meraculous_assembly/20180129_trimmed_again/NR021_S8_L002_R1*.fq.gz,/media/sam/toaster/geoduck_novaseq_meraculous_assembly/20180129_trimmed_again/NR021_S8_L002_R2*.fq.gz NR021  800  10   150 0 0   0 1 1  0 0\n",
      "\n",
      "\n",
      "genome_size   2.1697\n",
      "\n",
      "diploid_mode    1\n",
      "\n",
      "mer_size 117\n",
      "\n",
      "min_depth_cutoff        7\n",
      "\n",
      "num_prefix_blocks 4\n",
      "\n",
      "\n",
      "#################################################\n",
      "#\n",
      "# Advanced parameters \n",
      "#\n",
      "#################################################\n",
      "\n",
      "no_read_validation 1\n",
      "\n",
      "use_cluster 0\n",
      "\n",
      "local_num_procs       16\n",
      "\n",
      "local_max_retries                 0\n",
      "\n"
     ]
    }
   ],
   "source": [
    "%%bash\n",
    "cat /media/sam/toaster/geoduck_novaseq_meraculous_assembly/meraculous.config"
   ]
  },
  {
   "cell_type": "code",
   "execution_count": 19,
   "metadata": {},
   "outputs": [
    {
     "name": "stdout",
     "output_type": "stream",
     "text": [
      "meraculous run exited prematurely: 1\n"
     ]
    },
    {
     "name": "stderr",
     "output_type": "stream",
     "text": [
      "Smartmatch is experimental at /home/shared/meraculous-2.2.5/bin/meraculous.pl line 929.\n",
      "Smartmatch is experimental at /home/shared/meraculous-2.2.5/bin/meraculous.pl line 2789.\n",
      "2018/02/09 07:03:40 Meraculous runtime root directory: /home/shared/meraculous-2.2.5/\n",
      "2018/02/09 07:03:40 Loading run parameters from /media/sam/toaster/geoduck_novaseq_meraculous_assembly/meraculous.config ...\n",
      "2018/02/09 07:03:40 Setting the stage for the new run..\n",
      "2018/02/09 07:03:40 Error: Multiple user parameter entries for library NR014!\n",
      "2018/02/09 07:03:40 Unable to load user-defined library info!\n",
      "2018/02/09 07:03:40 Error: Cannot load library info!\n",
      "Died at /home/shared/meraculous-2.2.5/bin/meraculous.pl line 527.\n",
      "\n",
      "real\t0m0.665s\n",
      "user\t0m0.148s\n",
      "sys\t0m0.028s\n"
     ]
    }
   ],
   "source": [
    "%%bash\n",
    "time /home/shared/meraculous-2.2.5/bin/run_meraculous.sh -dir /media/sam/toaster/geoduck_novaseq_meraculous_assembly/ -c /media/sam/toaster/geoduck_novaseq_meraculous_assembly/meraculous.config"
   ]
  },
  {
   "cell_type": "code",
   "execution_count": 20,
   "metadata": {
    "collapsed": true
   },
   "outputs": [],
   "source": [
    "%%bash\n",
    "echo \\\n",
    "\"###################################\n",
    "#\n",
    "#  Meraculous params file\n",
    "#\n",
    "###################################\n",
    "\n",
    "\n",
    "#######################################\n",
    "#\n",
    "# Basic parameters\n",
    "#\n",
    "########################################\n",
    "\n",
    "\n",
    "\n",
    "# Describe the libraries ( one line per library )\n",
    "# lib_seq [ wildcard ][ prefix ][ insAvg ][ insSdev ][ avgReadLen ][ hasInnieArtifact ][ isRevComped ][ useForContigging ][ onoSetId ][ useForGapClosing ][ 5pWiggleRoom ][3pWiggleRoom]\n",
    "#\n",
    "\n",
    "lib_seq /media/sam/toaster/geoduck_novaseq_meraculous_assembly/20180129_trimmed_again/AD002_S9_L001_R1*.fq.gz,/media/sam/toaster/geoduck_novaseq_meraculous_assembly/20180129_trimmed_again/AD002_S9_L001_R2*.fq.fz AD00201  800  10   150 0 0   0 1 1  0 0\n",
    "lib_seq /media/sam/toaster/geoduck_novaseq_meraculous_assembly/20180129_trimmed_again/AD002_S9_L002_R1*.fq.gz,/media/sam/toaster/geoduck_novaseq_meraculous_assembly/20180129_trimmed_again/AD002_S9_L002_R2*.fq.gz AD00202  800  10   150 0 0   0 1 1  0 0\n",
    "lib_seq /media/sam/toaster/geoduck_novaseq_meraculous_assembly/20180129_trimmed_again/NR005_S4_L001_R1*.fq.gz,/media/sam/toaster/geoduck_novaseq_meraculous_assembly/20180129_trimmed_again/NR005_S4_L001_R2*.fq.gz NR00501  800  10   150 0 0   0 1 1  0 0\n",
    "lib_seq /media/sam/toaster/geoduck_novaseq_meraculous_assembly/20180129_trimmed_again/NR005_S4_L002_R1*.fq.gz,/media/sam/toaster/geoduck_novaseq_meraculous_assembly/20180129_trimmed_again/NR005_S4_L002_R2*.fq.gz NR00502  800  10   150 0 0   0 1 1  0 0\n",
    "lib_seq /media/sam/toaster/geoduck_novaseq_meraculous_assembly/20180129_trimmed_again/NR006_S3_L001_R1*.fq.gz,/media/sam/toaster/geoduck_novaseq_meraculous_assembly/20180129_trimmed_again/NR006_S3_L001_R2*.fq.gz NR00601  800  10   150 0 0   0 1 1  0 0\n",
    "lib_seq /media/sam/toaster/geoduck_novaseq_meraculous_assembly/20180129_trimmed_again/NR006_S3_L002_R1*.fq.gz,/media/sam/toaster/geoduck_novaseq_meraculous_assembly/20180129_trimmed_again/NR006_S3_L002_R2*.fq.gz NR00602  800  10   150 0 0   0 1 1  0 0\n",
    "lib_seq /media/sam/toaster/geoduck_novaseq_meraculous_assembly/20180129_trimmed_again/NR012_S1_L001_R1*.fq.gz,/media/sam/toaster/geoduck_novaseq_meraculous_assembly/20180129_trimmed_again/NR012_S1_L001_R2*.fq.gz NR01201  800  10   150 0 0   0 1 1  0 0\n",
    "lib_seq /media/sam/toaster/geoduck_novaseq_meraculous_assembly/20180129_trimmed_again/NR012_S1_L002_R1*.fq.gz,/media/sam/toaster/geoduck_novaseq_meraculous_assembly/20180129_trimmed_again/NR012_S1_L002_R2*,fq.gz NR01202  800  10   150 0 0   0 1 1  0 0\n",
    "lib_seq /media/sam/toaster/geoduck_novaseq_meraculous_assembly/20180129_trimmed_again/NR013_AD013_S2_L001_R1*.fq.gz,/media/sam/toaster/geoduck_novaseq_meraculous_assembly/20180129_trimmed_again/NR013_AD013_S2_L001_R2*.fq.gz NR01301  800  10   150 0 0   0 1 1  0 0\n",
    "lib_seq /media/sam/toaster/geoduck_novaseq_meraculous_assembly/20180129_trimmed_again/NR013_AD013_S2_L002_R1*.fq.gz,/media/sam/toaster/geoduck_novaseq_meraculous_assembly/20180129_trimmed_again/NR013_AD013_S2_L002_R2*.fq.gz NR01302  800  10   150 0 0   0 1 1  0 0\n",
    "lib_seq /media/sam/toaster/geoduck_novaseq_meraculous_assembly/20180129_trimmed_again/NR014_AD014_S5_L001_R1*.fq.gz,/media/sam/toaster/geoduck_novaseq_meraculous_assembly/20180129_trimmed_again/NR014_AD014_S5_L001_R2*.fq.gz NR01401  800  10   150 0 0   0 1 1  0 0\n",
    "lib_seq /media/sam/toaster/geoduck_novaseq_meraculous_assembly/20180129_trimmed_again/NR014_AD014_S5_L002_R1*.fq.gz,/media/sam/toaster/geoduck_novaseq_meraculous_assembly/20180129_trimmed_again/NR014_AD014_S5_L002_R2*.fq.gz NR01402  800  10   150 0 0   0 1 1  0 0\n",
    "lib_seq /media/sam/toaster/geoduck_novaseq_meraculous_assembly/20180129_trimmed_again/NR015_AD015_S6_L001_R1*.fq.gz,/media/sam/toaster/geoduck_novaseq_meraculous_assembly/20180129_trimmed_again/NR015_AD015_S6_L001_R2*.fq.gz NR01501  800  10   150 0 0   0 1 1  0 0\n",
    "lib_seq /media/sam/toaster/geoduck_novaseq_meraculous_assembly/20180129_trimmed_again/NR015_AD015_S6_L002_R1*.fq.gz,/media/sam/toaster/geoduck_novaseq_meraculous_assembly/20180129_trimmed_again/NR015_AD015_S6_L002_R2*.fq.gz NR01502  800  10   150 0 0   0 1 1  0 0\n",
    "lib_seq /media/sam/toaster/geoduck_novaseq_meraculous_assembly/20180129_trimmed_again/NR019_S7_L001_R1*.fq.gz,/media/sam/toaster/geoduck_novaseq_meraculous_assembly/20180129_trimmed_again/NR019_S7_L001_R2*.fq.gz NR01901  800  10   150 0 0   0 1 1  0 0\n",
    "lib_seq /media/sam/toaster/geoduck_novaseq_meraculous_assembly/20180129_trimmed_again/NR019_S7_L002_R1*.fq.gz,/media/sam/toaster/geoduck_novaseq_meraculous_assembly/20180129_trimmed_again/NR019_S7_L002_R2*.fq.gz NR01902  800  10   150 0 0   0 1 1  0 0\n",
    "lib_seq /media/sam/toaster/geoduck_novaseq_meraculous_assembly/20180129_trimmed_again/NR021_S8_L001_R1*.fq.gz,/media/sam/toaster/geoduck_novaseq_meraculous_assembly/20180129_trimmed_again/NR021_S8_L001_R2*.fq.gz NR02101  800  10   150 0 0   0 1 1  0 0\n",
    "lib_seq /media/sam/toaster/geoduck_novaseq_meraculous_assembly/20180129_trimmed_again/NR021_S8_L002_R1*.fq.gz,/media/sam/toaster/geoduck_novaseq_meraculous_assembly/20180129_trimmed_again/NR021_S8_L002_R2*.fq.gz NR02102  800  10   150 0 0   0 1 1  0 0\n",
    "\n",
    "\n",
    "genome_size   2.1697\n",
    "\n",
    "diploid_mode    1\n",
    "\n",
    "mer_size 117\n",
    "\n",
    "min_depth_cutoff        7\n",
    "\n",
    "num_prefix_blocks 4\n",
    "\n",
    "\n",
    "#################################################\n",
    "#\n",
    "# Advanced parameters\n",
    "#\n",
    "#################################################\n",
    "\n",
    "no_read_validation 1\n",
    "\n",
    "use_cluster 0\n",
    "\n",
    "local_num_procs       16\n",
    "\n",
    "local_max_retries                 0\n",
    "\" \\\n",
    "> /media/sam/toaster/geoduck_novaseq_meraculous_assembly/meraculous.config"
   ]
  },
  {
   "cell_type": "code",
   "execution_count": 21,
   "metadata": {},
   "outputs": [
    {
     "name": "stdout",
     "output_type": "stream",
     "text": [
      "meraculous run exited prematurely: 1\n"
     ]
    },
    {
     "name": "stderr",
     "output_type": "stream",
     "text": [
      "Smartmatch is experimental at /home/shared/meraculous-2.2.5/bin/meraculous.pl line 929.\n",
      "Smartmatch is experimental at /home/shared/meraculous-2.2.5/bin/meraculous.pl line 2789.\n",
      "2018/02/09 07:47:41 Meraculous runtime root directory: /home/shared/meraculous-2.2.5/\n",
      "2018/02/09 07:47:41 Loading run parameters from /media/sam/toaster/geoduck_novaseq_meraculous_assembly/meraculous.config ...\n",
      "2018/02/09 07:47:41 Setting the stage for the new run..\n",
      "2018/02/09 07:47:41 Prep work complete. From here on will channel all messages to appropriate logs ...\n",
      "2018/02/09 07:47:41 Logging to /home/sam/gitrepos/LabDocs/jupyter_nbs/sam/run_2018-02-09_07h47m41s/log/ ...\n",
      "\n",
      "\u001b[34m2018/02/09 07:47:42 meraculous.pl main:: 737> RUNNING STAGE: meraculous_import \u001b[0m\n",
      "\u001b[35m2018/02/09 09:04:29 meraculous.pl main::run_meraculous_import 985> Error in user parameters:  No files found matching /media/sam/toaster/geoduck_novaseq_meraculous_assembly/20180129_trimmed_again/AD002_S9_L001_R2*.fq.fz \u001b[0m\n",
      "\u001b[35m2018/02/09 09:04:30 meraculous.pl main:: 769> Stage meraculous_import failed (4608.297121 seconds)\u001b[0m\n",
      "\u001b[35m \u001b[0m\n",
      "\u001b[34m2018/02/09 09:04:30 meraculous.pl main:: 824> RUN DID NOT COMPLETE ! \u001b[0m\n",
      "\u001b[34m2018/02/09 09:04:30 meraculous.pl main:: 828> Total run time: 4608.398879 seconds. \u001b[0m\n",
      "\u001b[34m2018/02/09 09:04:30 meraculous.pl main:: 830> Thank you for running Meraculous! \u001b[0m\n",
      "\n",
      "real\t76m48.563s\n",
      "user\t138m43.424s\n",
      "sys\t19m20.252s\n"
     ]
    }
   ],
   "source": [
    "%%bash\n",
    "time /home/shared/meraculous-2.2.5/bin/run_meraculous.sh -dir /media/sam/toaster/geoduck_novaseq_meraculous_assembly/ -c /media/sam/toaster/geoduck_novaseq_meraculous_assembly/meraculous.config\n",
    "cat ~/.default-subject.mail | msmtp \"$EMAIL\""
   ]
  },
  {
   "cell_type": "code",
   "execution_count": 22,
   "metadata": {
    "collapsed": true
   },
   "outputs": [],
   "source": [
    "%%bash\n",
    "echo \\\n",
    "\"###################################\n",
    "#\n",
    "#  Meraculous params file\n",
    "#\n",
    "###################################\n",
    "\n",
    "\n",
    "#######################################\n",
    "#\n",
    "# Basic parameters\n",
    "#\n",
    "########################################\n",
    "\n",
    "\n",
    "\n",
    "# Describe the libraries ( one line per library )\n",
    "# lib_seq [ wildcard ][ prefix ][ insAvg ][ insSdev ][ avgReadLen ][ hasInnieArtifact ][ isRevComped ][ useForContigging ][ onoSetId ][ useForGapClosing ][ 5pWiggleRoom ][3pWiggleRoom]\n",
    "#\n",
    "\n",
    "lib_seq /media/sam/toaster/geoduck_novaseq_meraculous_assembly/20180129_trimmed_again/AD002_S9_L001_R1*.fq.gz,/media/sam/toaster/geoduck_novaseq_meraculous_assembly/20180129_trimmed_again/AD002_S9_L001_R2*.fq.gz AD00201  800  10   150 0 0   0 1 1  0 0\n",
    "lib_seq /media/sam/toaster/geoduck_novaseq_meraculous_assembly/20180129_trimmed_again/AD002_S9_L002_R1*.fq.gz,/media/sam/toaster/geoduck_novaseq_meraculous_assembly/20180129_trimmed_again/AD002_S9_L002_R2*.fq.gz AD00202  800  10   150 0 0   0 1 1  0 0\n",
    "lib_seq /media/sam/toaster/geoduck_novaseq_meraculous_assembly/20180129_trimmed_again/NR005_S4_L001_R1*.fq.gz,/media/sam/toaster/geoduck_novaseq_meraculous_assembly/20180129_trimmed_again/NR005_S4_L001_R2*.fq.gz NR00501  800  10   150 0 0   0 1 1  0 0\n",
    "lib_seq /media/sam/toaster/geoduck_novaseq_meraculous_assembly/20180129_trimmed_again/NR005_S4_L002_R1*.fq.gz,/media/sam/toaster/geoduck_novaseq_meraculous_assembly/20180129_trimmed_again/NR005_S4_L002_R2*.fq.gz NR00502  800  10   150 0 0   0 1 1  0 0\n",
    "lib_seq /media/sam/toaster/geoduck_novaseq_meraculous_assembly/20180129_trimmed_again/NR006_S3_L001_R1*.fq.gz,/media/sam/toaster/geoduck_novaseq_meraculous_assembly/20180129_trimmed_again/NR006_S3_L001_R2*.fq.gz NR00601  800  10   150 0 0   0 1 1  0 0\n",
    "lib_seq /media/sam/toaster/geoduck_novaseq_meraculous_assembly/20180129_trimmed_again/NR006_S3_L002_R1*.fq.gz,/media/sam/toaster/geoduck_novaseq_meraculous_assembly/20180129_trimmed_again/NR006_S3_L002_R2*.fq.gz NR00602  800  10   150 0 0   0 1 1  0 0\n",
    "lib_seq /media/sam/toaster/geoduck_novaseq_meraculous_assembly/20180129_trimmed_again/NR012_S1_L001_R1*.fq.gz,/media/sam/toaster/geoduck_novaseq_meraculous_assembly/20180129_trimmed_again/NR012_S1_L001_R2*.fq.gz NR01201  800  10   150 0 0   0 1 1  0 0\n",
    "lib_seq /media/sam/toaster/geoduck_novaseq_meraculous_assembly/20180129_trimmed_again/NR012_S1_L002_R1*.fq.gz,/media/sam/toaster/geoduck_novaseq_meraculous_assembly/20180129_trimmed_again/NR012_S1_L002_R2*,fq.gz NR01202  800  10   150 0 0   0 1 1  0 0\n",
    "lib_seq /media/sam/toaster/geoduck_novaseq_meraculous_assembly/20180129_trimmed_again/NR013_AD013_S2_L001_R1*.fq.gz,/media/sam/toaster/geoduck_novaseq_meraculous_assembly/20180129_trimmed_again/NR013_AD013_S2_L001_R2*.fq.gz NR01301  800  10   150 0 0   0 1 1  0 0\n",
    "lib_seq /media/sam/toaster/geoduck_novaseq_meraculous_assembly/20180129_trimmed_again/NR013_AD013_S2_L002_R1*.fq.gz,/media/sam/toaster/geoduck_novaseq_meraculous_assembly/20180129_trimmed_again/NR013_AD013_S2_L002_R2*.fq.gz NR01302  800  10   150 0 0   0 1 1  0 0\n",
    "lib_seq /media/sam/toaster/geoduck_novaseq_meraculous_assembly/20180129_trimmed_again/NR014_AD014_S5_L001_R1*.fq.gz,/media/sam/toaster/geoduck_novaseq_meraculous_assembly/20180129_trimmed_again/NR014_AD014_S5_L001_R2*.fq.gz NR01401  800  10   150 0 0   0 1 1  0 0\n",
    "lib_seq /media/sam/toaster/geoduck_novaseq_meraculous_assembly/20180129_trimmed_again/NR014_AD014_S5_L002_R1*.fq.gz,/media/sam/toaster/geoduck_novaseq_meraculous_assembly/20180129_trimmed_again/NR014_AD014_S5_L002_R2*.fq.gz NR01402  800  10   150 0 0   0 1 1  0 0\n",
    "lib_seq /media/sam/toaster/geoduck_novaseq_meraculous_assembly/20180129_trimmed_again/NR015_AD015_S6_L001_R1*.fq.gz,/media/sam/toaster/geoduck_novaseq_meraculous_assembly/20180129_trimmed_again/NR015_AD015_S6_L001_R2*.fq.gz NR01501  800  10   150 0 0   0 1 1  0 0\n",
    "lib_seq /media/sam/toaster/geoduck_novaseq_meraculous_assembly/20180129_trimmed_again/NR015_AD015_S6_L002_R1*.fq.gz,/media/sam/toaster/geoduck_novaseq_meraculous_assembly/20180129_trimmed_again/NR015_AD015_S6_L002_R2*.fq.gz NR01502  800  10   150 0 0   0 1 1  0 0\n",
    "lib_seq /media/sam/toaster/geoduck_novaseq_meraculous_assembly/20180129_trimmed_again/NR019_S7_L001_R1*.fq.gz,/media/sam/toaster/geoduck_novaseq_meraculous_assembly/20180129_trimmed_again/NR019_S7_L001_R2*.fq.gz NR01901  800  10   150 0 0   0 1 1  0 0\n",
    "lib_seq /media/sam/toaster/geoduck_novaseq_meraculous_assembly/20180129_trimmed_again/NR019_S7_L002_R1*.fq.gz,/media/sam/toaster/geoduck_novaseq_meraculous_assembly/20180129_trimmed_again/NR019_S7_L002_R2*.fq.gz NR01902  800  10   150 0 0   0 1 1  0 0\n",
    "lib_seq /media/sam/toaster/geoduck_novaseq_meraculous_assembly/20180129_trimmed_again/NR021_S8_L001_R1*.fq.gz,/media/sam/toaster/geoduck_novaseq_meraculous_assembly/20180129_trimmed_again/NR021_S8_L001_R2*.fq.gz NR02101  800  10   150 0 0   0 1 1  0 0\n",
    "lib_seq /media/sam/toaster/geoduck_novaseq_meraculous_assembly/20180129_trimmed_again/NR021_S8_L002_R1*.fq.gz,/media/sam/toaster/geoduck_novaseq_meraculous_assembly/20180129_trimmed_again/NR021_S8_L002_R2*.fq.gz NR02102  800  10   150 0 0   0 1 1  0 0\n",
    "\n",
    "\n",
    "genome_size   2.1697\n",
    "\n",
    "diploid_mode    1\n",
    "\n",
    "mer_size 117\n",
    "\n",
    "min_depth_cutoff        7\n",
    "\n",
    "num_prefix_blocks 4\n",
    "\n",
    "\n",
    "#################################################\n",
    "#\n",
    "# Advanced parameters\n",
    "#\n",
    "#################################################\n",
    "\n",
    "no_read_validation 1\n",
    "\n",
    "use_cluster 0\n",
    "\n",
    "local_num_procs       16\n",
    "\n",
    "local_max_retries                 0\n",
    "\" \\\n",
    "> /media/sam/toaster/geoduck_novaseq_meraculous_assembly/meraculous.config"
   ]
  },
  {
   "cell_type": "code",
   "execution_count": 23,
   "metadata": {},
   "outputs": [
    {
     "name": "stdout",
     "output_type": "stream",
     "text": [
      "meraculous run exited prematurely: 1\n"
     ]
    },
    {
     "name": "stderr",
     "output_type": "stream",
     "text": [
      "Smartmatch is experimental at /home/shared/meraculous-2.2.5/bin/meraculous.pl line 929.\n",
      "Smartmatch is experimental at /home/shared/meraculous-2.2.5/bin/meraculous.pl line 2789.\n",
      "2018/02/09 09:38:01 Meraculous runtime root directory: /home/shared/meraculous-2.2.5/\n",
      "2018/02/09 09:38:01 Loading run parameters from /media/sam/toaster/geoduck_novaseq_meraculous_assembly/meraculous.config ...\n",
      "2018/02/09 09:38:01 Setting the stage for the new run..\n",
      "2018/02/09 09:38:01 Prep work complete. From here on will channel all messages to appropriate logs ...\n",
      "2018/02/09 09:38:01 Logging to /home/sam/gitrepos/LabDocs/jupyter_nbs/sam/run_2018-02-09_09h38m01s/log/ ...\n",
      "\n",
      "\u001b[34m2018/02/09 09:38:01 meraculous.pl main:: 737> RUNNING STAGE: meraculous_import \u001b[0m\n",
      "\u001b[35m2018/02/09 09:57:40 M_Generic_Config.pm M_Generic_Config::config_print_all 1380> Unable to close the configuration file!\u001b[0m\n",
      "\u001b[35mFile:\t/home/sam/gitrepos/LabDocs/jupyter_nbs/sam/run_2018-02-09_09h38m01s/checkpoints/meraculous_import.local.params \u001b[0m\n",
      "\u001b[35m2018/02/09 09:57:40 meraculous.pl main::write_stage_params_file 3608> Params file creation failed for stage meraculous_import! \u001b[0m\n",
      "\u001b[35m2018/02/09 09:57:40 meraculous.pl main:: 769> Stage meraculous_import failed (1178.939498 seconds)\u001b[0m\n",
      "\u001b[35mDied at /home/shared/meraculous-2.2.5/bin/meraculous.pl line 3609.\u001b[0m\n",
      "\u001b[35m \u001b[0m\n",
      "\u001b[34m2018/02/09 09:57:40 meraculous.pl main:: 824> RUN DID NOT COMPLETE ! \u001b[0m\n",
      "\u001b[34m2018/02/09 09:57:40 meraculous.pl main:: 828> Total run time: 1179.055165 seconds. \u001b[0m\n",
      "\u001b[34m2018/02/09 09:57:40 meraculous.pl main:: 830> Thank you for running Meraculous! \u001b[0m\n",
      "\n",
      "real\t19m39.709s\n",
      "user\t36m5.940s\n",
      "sys\t5m7.884s\n",
      "msmtp: cannot rewind temporary file: No space left on device\n"
     ]
    }
   ],
   "source": [
    "%%bash\n",
    "time /home/shared/meraculous-2.2.5/bin/run_meraculous.sh -dir /media/sam/toaster/geoduck_novaseq_meraculous_assembly/ -c /media/sam/toaster/geoduck_novaseq_meraculous_assembly/meraculous.config\n",
    "cat ~/.default-subject.mail | msmtp \"$EMAIL\""
   ]
  },
  {
   "cell_type": "code",
   "execution_count": 24,
   "metadata": {},
   "outputs": [
    {
     "ename": "SyntaxError",
     "evalue": "invalid syntax (<ipython-input-24-126808350732>, line 1)",
     "output_type": "error",
     "traceback": [
      "\u001b[0;36m  File \u001b[0;32m\"<ipython-input-24-126808350732>\"\u001b[0;36m, line \u001b[0;32m1\u001b[0m\n\u001b[0;31m    du -h /home/sam/data/ | grep '[0-9\\.]\\+G'\u001b[0m\n\u001b[0m                          ^\u001b[0m\n\u001b[0;31mSyntaxError\u001b[0m\u001b[0;31m:\u001b[0m invalid syntax\n"
     ]
    },
    {
     "name": "stdout",
     "output_type": "stream",
     "text": [
      "The history saving thread hit an unexpected error (OperationalError('database or disk is full',)).History will not be written to the database.\n"
     ]
    }
   ],
   "source": [
    "du -h /home/sam/data/ | grep '[0-9\\.]\\+G'"
   ]
  },
  {
   "cell_type": "code",
   "execution_count": 25,
   "metadata": {},
   "outputs": [
    {
     "name": "stdout",
     "output_type": "stream",
     "text": [
      "381G\t/home/sam/data/geoduck_illumina/trimmed\n",
      "921G\t/home/sam/data/geoduck_illumina\n",
      "921G\t/home/sam/data/\n"
     ]
    }
   ],
   "source": [
    "%%bash\n",
    "du -h /home/sam/data/ | grep '[0-9\\.]\\+G'"
   ]
  },
  {
   "cell_type": "code",
   "execution_count": 26,
   "metadata": {},
   "outputs": [
    {
     "name": "stdout",
     "output_type": "stream",
     "text": [
      "total 541G\n",
      "-rwxr-xr-x 1 sam sam  15G Jan 25 09:05 AD002_S9_L001_R1_001.fastq.gz\n",
      "-rwxr-xr-x 1 sam sam  15G Jan 25 09:08 AD002_S9_L001_R2_001.fastq.gz\n",
      "-rwxr-xr-x 1 sam sam  17G Jan 25 09:13 AD002_S9_L002_R1_001.fastq.gz\n",
      "-rwxr-xr-x 1 sam sam  18G Jan 25 09:17 AD002_S9_L002_R2_001.fastq.gz\n",
      "-rwxr-xr-x 1 sam sam 3.4M Jan 25 09:17 NR005_S4_L001_R1_001.fastq.gz\n",
      "-rwxr-xr-x 1 sam sam 3.5M Jan 25 09:17 NR005_S4_L001_R2_001.fastq.gz\n",
      "-rwxr-xr-x 1 sam sam 2.8M Jan 25 09:17 NR005_S4_L002_R1_001.fastq.gz\n",
      "-rwxr-xr-x 1 sam sam 2.9M Jan 25 09:17 NR005_S4_L002_R2_001.fastq.gz\n",
      "-rwxr-xr-x 1 sam sam 262M Jan 25 09:17 NR006_S3_L001_R1_001.fastq.gz\n",
      "-rwxr-xr-x 1 sam sam 271M Jan 25 09:17 NR006_S3_L001_R2_001.fastq.gz\n",
      "-rwxr-xr-x 1 sam sam 217M Jan 25 09:17 NR006_S3_L002_R1_001.fastq.gz\n",
      "-rwxr-xr-x 1 sam sam 226M Jan 25 09:17 NR006_S3_L002_R2_001.fastq.gz\n",
      "-rwxr-xr-x 1 sam sam  25M Jan 25 09:17 NR012_S1_L001_R1_001.fastq.gz\n",
      "-rwxr-xr-x 1 sam sam  27M Jan 25 09:17 NR012_S1_L001_R2_001.fastq.gz\n",
      "-rwxr-xr-x 1 sam sam  28M Jan 25 09:17 NR012_S1_L002_R1_001.fastq.gz\n",
      "-rwxr-xr-x 1 sam sam  29M Jan 25 09:17 NR012_S1_L002_R2_001.fastq.gz\n",
      "-rwxr-xr-x 1 sam sam  26G Jan 25 09:23 NR013_AD013_S2_L001_R1_001.fastq.gz\n",
      "-rwxr-xr-x 1 sam sam  28G Jan 25 09:30 NR013_AD013_S2_L001_R2_001.fastq.gz\n",
      "-rwxr-xr-x 1 sam sam  30G Jan 25 09:37 NR013_AD013_S2_L002_R1_001.fastq.gz\n",
      "-rwxr-xr-x 1 sam sam  32G Jan 25 09:44 NR013_AD013_S2_L002_R2_001.fastq.gz\n",
      "-rwxr-xr-x 1 sam sam  64G Jan 25 10:02 NR014_AD014_S5_L001_R1_001.fastq.gz\n",
      "-rwxr-xr-x 1 sam sam  66G Jan 25 10:20 NR014_AD014_S5_L001_R2_001.fastq.gz\n",
      "-rwxr-xr-x 1 sam sam  70G Jan 25 10:39 NR014_AD014_S5_L002_R1_001.fastq.gz\n",
      "-rwxr-xr-x 1 sam sam  73G Jan 25 11:01 NR014_AD014_S5_L002_R2_001.fastq.gz\n",
      "-rwxr-xr-x 1 sam sam  22G Jan 25 11:07 NR015_AD015_S6_L001_R1_001.fastq.gz\n",
      "-rwxr-xr-x 1 sam sam  23G Jan 25 11:15 NR015_AD015_S6_L001_R2_001.fastq.gz\n",
      "-rwxr-xr-x 1 sam sam  23G Jan 25 11:23 NR015_AD015_S6_L002_R1_001.fastq.gz\n",
      "-rwxr-xr-x 1 sam sam  24G Jan 25 11:31 NR015_AD015_S6_L002_R2_001.fastq.gz\n",
      "-rwxr-xr-x 1 sam sam 4.5M Jan 25 11:31 NR019_S7_L001_R1_001.fastq.gz\n",
      "-rwxr-xr-x 1 sam sam 4.5M Jan 25 11:31 NR019_S7_L001_R2_001.fastq.gz\n",
      "-rwxr-xr-x 1 sam sam 2.5M Jan 25 11:31 NR019_S7_L002_R1_001.fastq.gz\n",
      "-rwxr-xr-x 1 sam sam 2.5M Jan 25 11:31 NR019_S7_L002_R2_001.fastq.gz\n",
      "-rwxr-xr-x 1 sam sam 319M Jan 25 11:31 NR021_S8_L001_R1_001.fastq.gz\n",
      "-rwxr-xr-x 1 sam sam 333M Jan 25 11:31 NR021_S8_L001_R2_001.fastq.gz\n",
      "-rwxr-xr-x 1 sam sam 265M Jan 25 11:31 NR021_S8_L002_R1_001.fastq.gz\n",
      "-rwxr-xr-x 1 sam sam 276M Jan 25 11:31 NR021_S8_L002_R2_001.fastq.gz\n",
      "drwxrwxr-x 7 sam sam  12K Feb  9 11:08 trimmed\n"
     ]
    }
   ],
   "source": [
    "%%bash\n",
    "ls -lh /home/sam/data/geoduck_illumina/"
   ]
  },
  {
   "cell_type": "code",
   "execution_count": 27,
   "metadata": {
    "collapsed": true
   },
   "outputs": [],
   "source": [
    "%%bash\n",
    "rm /home/sam/data/geoduck_illumina/*.gz"
   ]
  },
  {
   "cell_type": "code",
   "execution_count": 28,
   "metadata": {},
   "outputs": [
    {
     "name": "stdout",
     "output_type": "stream",
     "text": [
      "meraculous run exited prematurely: 1\n"
     ]
    },
    {
     "name": "stderr",
     "output_type": "stream",
     "text": [
      "Smartmatch is experimental at /home/shared/meraculous-2.2.5/bin/meraculous.pl line 929.\n",
      "Smartmatch is experimental at /home/shared/meraculous-2.2.5/bin/meraculous.pl line 2789.\n",
      "2018/02/09 11:14:36 Meraculous runtime root directory: /home/shared/meraculous-2.2.5/\n",
      "2018/02/09 11:14:36 Loading run parameters from /media/sam/toaster/geoduck_novaseq_meraculous_assembly/meraculous.config ...\n",
      "2018/02/09 11:14:36 Setting the stage for the new run..\n",
      "2018/02/09 11:14:36 Prep work complete. From here on will channel all messages to appropriate logs ...\n",
      "2018/02/09 11:14:36 Logging to /home/sam/gitrepos/LabDocs/jupyter_nbs/sam/run_2018-02-09_11h14m36s/log/ ...\n",
      "\n",
      "\u001b[34m2018/02/09 11:14:36 meraculous.pl main:: 737> RUNNING STAGE: meraculous_import \u001b[0m\n",
      "\u001b[35m2018/02/09 12:54:39 M_Generic_Config.pm M_Generic_Config::config_print_all 1380> Unable to close the configuration file!\u001b[0m\n",
      "\u001b[35mFile:\t/home/sam/gitrepos/LabDocs/jupyter_nbs/sam/run_2018-02-09_11h14m36s/checkpoints/meraculous_import.local.params \u001b[0m\n",
      "\u001b[35m2018/02/09 12:54:39 meraculous.pl main::write_stage_params_file 3608> Params file creation failed for stage meraculous_import! \u001b[0m\n",
      "\u001b[35m2018/02/09 12:54:39 meraculous.pl main:: 769> Stage meraculous_import failed (6003.4647 seconds)\u001b[0m\n",
      "\u001b[35mDied at /home/shared/meraculous-2.2.5/bin/meraculous.pl line 3609.\u001b[0m\n",
      "\u001b[35m \u001b[0m\n",
      "\u001b[34m2018/02/09 12:54:39 meraculous.pl main:: 824> RUN DID NOT COMPLETE ! \u001b[0m\n",
      "\u001b[34m2018/02/09 12:54:39 meraculous.pl main:: 828> Total run time: 6003.605069 seconds. \u001b[0m\n",
      "\u001b[34m2018/02/09 12:54:39 meraculous.pl main:: 830> Thank you for running Meraculous! \u001b[0m\n",
      "\n",
      "real\t100m4.039s\n",
      "user\t177m3.684s\n",
      "sys\t25m46.032s\n",
      "msmtp: cannot rewind temporary file: No space left on device\n"
     ]
    }
   ],
   "source": [
    "%%bash\n",
    "time /home/shared/meraculous-2.2.5/bin/run_meraculous.sh -dir /media/sam/toaster/geoduck_novaseq_meraculous_assembly/ -c /media/sam/toaster/geoduck_novaseq_meraculous_assembly/meraculous.config\n",
    "cat ~/.default-subject.mail | msmtp \"$EMAIL\""
   ]
  },
  {
   "cell_type": "code",
   "execution_count": 29,
   "metadata": {},
   "outputs": [
    {
     "name": "stdout",
     "output_type": "stream",
     "text": [
      "total 50M\n",
      "-rw-rw-r-- 1 sam sam  29K Mar  7  2017 20160203_Olurida_Zymo_Data_Handling.ipynb\n",
      "-rw-rw-r-- 1 sam sam  24K Mar  7  2017 20160126_Pgenerosa_BGI_data_handling.ipynb\n",
      "-rw-rw-r-- 1 sam sam  24K Mar  7  2017 20160126_Olurida_BGI_data_handling.ipynb\n",
      "-rw-rw-r-- 1 sam sam  14K Mar  7  2017 20160114_wasted_space_synologies.ipynb\n",
      "-rw-rw-r-- 1 sam sam  19K Mar  7  2017 20150521_Cgigas_larvae_OA_Trimmomatic_FASTQC.ipynb\n",
      "-rw-rw-r-- 1 sam sam 9.3K Mar  7  2017 20150506_Cgigas_larvae_OA_trimmomatic_FASTQC.ipynb\n",
      "-rw-rw-r-- 1 sam sam  23K Mar  7  2017 20150501_Cgigas_larvae_OA_BLASTn_nt.ipynb\n",
      "-rw-rw-r-- 1 sam sam  15K Mar  7  2017 20150429_Gigas_larvae_OA_BLASTn.ipynb\n",
      "-rw-rw-r-- 1 sam sam  73K Mar  7  2017 20150414_C_virginica_LSU_Oil_Spill_Trimmomatic_FASTQC.ipynb\n",
      "-rw-rw-r-- 1 sam sam  62K Mar  7  2017 20150414_C_gigas_Larvae_OA_Trimmomatic_FASTQC.ipynb\n",
      "-rw-rw-r-- 1 sam sam 5.1K Mar  7  2017 20150408_Install_Bismark_bisulfite_mapper.ipynb\n",
      "-rw-rw-r-- 1 sam sam 8.1K Mar  7  2017 20150317_LSU_OilSpill_EpinextAdaptor1_ID.ipynb\n",
      "-rw-rw-r-- 1 sam sam  14K Mar  7  2017 20150316_LSU_OilSpill_Adapter_ID.ipynb\n",
      "-rw-rw-r-- 1 sam sam  30K Mar  7  2017 20150313_LSU_Oil_Spill_IndexID_Comparisons.ipynb\n",
      "-rw-rw-r-- 1 sam sam  31M Mar  7  2017 20160308_find_rename_2bRAD_undetermined_fastqs.ipynb\n",
      "-rw-rw-r-- 1 sam sam 164K Mar  7  2017 20160406_STACKS_install.ipynb\n",
      "-rw-rw-r-- 1 sam sam 1.4M Mar  7  2017 20160406_Oly_GBS_STACKS.ipynb\n",
      "-rw-rw-r-- 1 sam sam  21K Mar  7  2017 20160314_Olurida_GBS_data_management.ipynb\n",
      "-rw-rw-r-- 1 sam sam 7.3K Mar  7  2017 20160516_Oly_Small_Insert_Library_Genome_Read_Counts.ipynb\n",
      "-rw-rw-r-- 1 sam sam  12K Mar  7  2017 20160502_Oly_GBS_barcode_repair.ipynb\n",
      "-rw-rw-r-- 1 sam sam  33K Mar  7  2017 20160428_Oly_GBS_STACKS.ipynb\n",
      "-rw-rw-r-- 1 sam sam 9.5K Mar  7  2017 20160427_speed_comparison.ipynb\n",
      "-rw-rw-r-- 1 sam sam 5.3K Mar  7  2017 20160427_Oly_GBS_data_management.ipynb\n",
      "-rw-rw-r-- 1 sam sam 135K Mar  7  2017 20160418_pyrad_oly_PE-GBS.ipynb\n",
      "-rw-rw-r-- 1 sam sam 114K Mar  7  2017 20160418_Oly_GBS_PE-Pyrad_populations.ipynb\n",
      "-rw-rw-r-- 1 sam sam  16K Mar  7  2017 20160411_Concatenate_Oly_MBDseq.ipynb\n",
      "-rw-rw-r-- 1 sam sam  18K Mar  7  2017 20160525_pyrad_oly_gbs_bgi.ipynb\n",
      "-rw-rw-r-- 1 sam sam 2.9M Mar  7  2017 20160523_Oly_GBS_Stacks.ipynb\n",
      "-rw-rw-r-- 1 sam sam 327K Mar  7  2017 20160715_ec2_oly_gbs_pyrad.ipynb\n",
      "-rw-rw-r-- 1 sam sam  95K Mar  7  2017 20160714_EC2_Oly_GBS_stacks_analysis.ipynb\n",
      "-rw-rw-r-- 1 sam sam 422K Mar  7  2017 20160609_pyrad_oly_gbs_bgi.ipynb\n",
      "-rw-rw-r-- 1 sam sam  24K Mar  7  2017 20170104_docker_oly_BGI_genome_corruption_solved.ipynb\n",
      "-rw-rw-r-- 1 sam sam  37K Mar  7  2017 20161230_docker_geoduck_RRBS_md5_checks.ipynb\n",
      "-rw-rw-r-- 1 sam sam  22K Mar  7  2017 20161229_docker_genewiz_geoduck_RRBS_data.ipynb\n",
      "-rw-rw-r-- 1 sam sam  19K Mar  7  2017 20161214_docker_notebook_trimming.ipynb\n",
      "-rw-rw-r-- 1 sam sam  81K Mar  7  2017 20161214_docker_BGI_data_integrity_check.ipynb\n",
      "-rw-rw-r-- 1 sam sam 6.4K Mar  7  2017 20161206_docker_BGI_genome_downloads.ipynb\n",
      "-rw-rw-r-- 1 sam sam 387K Mar  7  2017 20161129_docker_R_magics_failure.ipynb\n",
      "-rw-rw-r-- 1 sam sam  24K Mar  7  2017 20161117_docker_oly_vcf_analysis.ipynb\n",
      "-rw-rw-r-- 1 sam sam  23K Mar  7  2017 20161117_docker_oly_genome_fastq_corruption.ipynb\n",
      "-rw-rw-r-- 1 sam sam 7.4K Mar  7  2017 20161025_Pgenerosa_Small_Library_Genome_Read_Counts.ipynb\n",
      "-rw-rw-r-- 1 sam sam 677K Mar  7  2017 20160816_oly_gbs_fst_calcs.ipynb\n",
      "-rwxrwxr-x 1 sam sam  17K Mar  7  2017 PhageNGS.ipynb\n",
      "-rwxrwxr-x 1 sam sam 112K Mar  7  2017 PhageNGS_ID.ipynb\n",
      "-rw-rw-r-- 1 sam sam  97K Mar  7  2017 PE-GBS_empirical.ipynb\n",
      "-rwxrwxr-x 1 sam sam  21K Mar  7  2017 InstallingBLAST.ipynb\n",
      "-rw-rw-r-- 1 sam sam 338K Mar  7  2017 20170306_docker_fastqc_demultiplexed_bgi_oly_gbs.ipynb\n",
      "-rw-rw-r-- 1 sam sam 117K Mar  7  2017 20170227_docker_jay_ngs_data_retrieval.ipynb\n",
      "-rw-rw-r-- 1 sam sam  30K Jan 25 08:15 20170320_docker_Oly_BGI_GBS_demultiplexing_reproducibility.ipynb\n",
      "-rw-rw-r-- 1 sam sam  93K Jan 25 08:15 20170314_docker_Oly_BGI_GBS_demultiplexing_reproducibility.ipynb\n",
      "-rw-rw-r-- 1 sam sam  49K Jan 25 08:15 20170301_docker_fastqc_nondemultiplexed_bgi_oly_gbs.ipynb\n",
      "-rw-rw-r-- 1 sam sam  45K Jan 25 08:15 20170918_docker_pacbio_oly_miniasm0.2.ipynb\n",
      "-rw-rw-r-- 1 sam sam  44K Jan 25 08:15 20170907_docker_pacbio_oly_minimap2.ipynb\n",
      "-rw-rw-r-- 1 sam sam  78K Jan 25 08:15 20170622_oly_pacbio_data_management.ipynb\n",
      "-rw-rw-r-- 1 sam sam 1.3M Jan 25 08:15 20170918_docker_pacbio_oly_racon0.5.0.ipynb\n",
      "-rw-rw-r-- 1 sam sam 1.3M Jan 25 08:15 20171003_docker_oly_assembly_comparisons.ipynb\n",
      "-rw-rw-r-- 1 sam sam 3.1M Jan 25 08:15 20171004_docker_oly_redundans.ipynb\n",
      "-rw-rw-r-- 1 sam sam 291K Jan 25 08:15 20171018_docker_oly_canu.ipynb\n",
      "-rw-rw-r-- 1 sam sam 1.6M Jan 25 08:15 20171005_docker_oly_redundans.ipynb\n",
      "-rw-rw-r-- 1 sam sam  240 Jan 25 08:15 README.md\n",
      "-rw-rw-r-- 1 sam sam  31K Jan 25 08:15 20180103_emu_pbjelly.ipynb\n",
      "-rw-rw-r-- 1 sam sam  20K Jan 25 08:15 20171130_emu_pbjelly.ipynb\n",
      "-rw-rw-r-- 1 sam sam  27K Jan 25 08:15 20171114_swoose_oly_assembly_comparisons_quast.ipynb\n",
      "-rw-rw-r-- 1 sam sam  28K Jan 25 08:15 20171114_emu_pbjelly_BGI_scaffold.ipynb\n",
      "-rw-rw-r-- 1 sam sam  34K Jan 25 08:15 20171113_emu_pbjelly_22mer_plat.ipynb\n",
      "-rw-rw-r-- 1 sam sam  17K Jan 25 08:15 20171023_restore_scaphapoda_data.ipynb\n",
      "-rw-rw-r-- 1 sam sam  35K Jan 25 08:15 20171023_docker_oly_redundans.ipynb\n",
      "-rw-rw-r-- 1 sam sam 961K Jan 25 08:15 20171023_docker_oly_pacbio_canu_comparisons.ipynb\n",
      "-rw-rw-r-- 1 sam sam  15K Jan 25 08:55 20180116_swoose_oly_assembly_comparisons_quast.ipynb\n",
      "-rw-rw-r-- 1 sam sam 1.1K Jan 25 08:58 template_linux.ipynb\n",
      "-rw-rw-r-- 1 sam sam 1.1M Jan 29 07:43 multiqc_report.html\n",
      "drwxrwxr-x 2 sam sam 4.0K Jan 29 07:43 multiqc_data\n",
      "-rw-rw-r-- 1 sam sam 6.3K Jan 29 08:07 stdin_fastqc.zip\n",
      "-rw-rw-r-- 1 sam sam 927K Feb  5 13:09 20180125_roadrunner_trimming_geoduck_novaseq.ipynb\n",
      "-rw-rw-r-- 1 sam sam 1.4K Feb  5 14:31 Untitled.ipynb\n",
      "drwxrwxr-x 3 sam sam 4.0K Feb  9 07:03 run_2018-02-09_07h03m40s\n",
      "drwxrwxr-x 5 sam sam 4.0K Feb  9 07:47 run_2018-02-09_07h47m41s\n",
      "drwxrwxr-x 5 sam sam 4.0K Feb  9 09:38 run_2018-02-09_09h38m01s\n",
      "drwxrwxr-x 5 sam sam 4.0K Feb  9 11:14 run_2018-02-09_11h14m36s\n",
      "-rw-rw-r-- 1 sam sam  77K Feb  9 11:14 20180205_roadrunner_SoapDeNovo_geoduck_novaseq.ipynb\n"
     ]
    }
   ],
   "source": [
    "%%bash\n",
    "ls -ltrh"
   ]
  },
  {
   "cell_type": "code",
   "execution_count": 30,
   "metadata": {
    "collapsed": true
   },
   "outputs": [],
   "source": [
    "%%bash\n",
    "rm -rf run_2018*"
   ]
  },
  {
   "cell_type": "code",
   "execution_count": 31,
   "metadata": {},
   "outputs": [
    {
     "name": "stdout",
     "output_type": "stream",
     "text": [
      "meraculous run exited prematurely: 1\n"
     ]
    },
    {
     "name": "stderr",
     "output_type": "stream",
     "text": [
      "Smartmatch is experimental at /home/shared/meraculous-2.2.5/bin/meraculous.pl line 929.\n",
      "Smartmatch is experimental at /home/shared/meraculous-2.2.5/bin/meraculous.pl line 2789.\n",
      "2018/02/09 16:28:40 Meraculous runtime root directory: /home/shared/meraculous-2.2.5/\n",
      "2018/02/09 16:28:40 Loading run parameters from /media/sam/toaster/geoduck_novaseq_meraculous_assembly/meraculous.config ...\n",
      "2018/02/09 16:28:40 Setting the stage for the new run..\n",
      "2018/02/09 16:28:40 Prep work complete. From here on will channel all messages to appropriate logs ...\n",
      "2018/02/09 16:28:40 Logging to /media/sam/toaster/geoduck_novaseq_meraculous_assembly/run_2018-02-09_16h28m40s/log/ ...\n",
      "\n",
      "\u001b[34m2018/02/09 16:28:59 meraculous.pl main:: 737> RUNNING STAGE: meraculous_import \u001b[0m\n",
      "\u001b[35m2018/02/10 08:00:40 meraculous.pl main::run_meraculous_import 985> Error in user parameters:  No files found matching /media/sam/toaster/geoduck_novaseq_meraculous_assembly/run_2018-02-09_16h28m40s/../fq.gz \u001b[0m\n",
      "\u001b[35m2018/02/10 08:00:40 meraculous.pl main:: 769> Stage meraculous_import failed (55900.91221 seconds)\u001b[0m\n",
      "\u001b[35m \u001b[0m\n",
      "\u001b[34m2018/02/10 08:00:40 meraculous.pl main:: 824> RUN DID NOT COMPLETE ! \u001b[0m\n",
      "\u001b[34m2018/02/10 08:00:40 meraculous.pl main:: 828> Total run time: 55919.270211 seconds. \u001b[0m\n",
      "\u001b[34m2018/02/10 08:00:40 meraculous.pl main:: 830> Thank you for running Meraculous! \u001b[0m\n",
      "\n",
      "real\t931m59.704s\n",
      "user\t422m36.140s\n",
      "sys\t82m33.192s\n"
     ]
    }
   ],
   "source": [
    "%%bash\n",
    "cd /media/sam/toaster/geoduck_novaseq_meraculous_assembly/\n",
    "time /home/shared/meraculous-2.2.5/bin/run_meraculous.sh -dir /media/sam/toaster/geoduck_novaseq_meraculous_assembly/ -c /media/sam/toaster/geoduck_novaseq_meraculous_assembly/meraculous.config\n",
    "cat ~/.default-subject.mail | msmtp \"$EMAIL\""
   ]
  },
  {
   "cell_type": "markdown",
   "metadata": {},
   "source": [
    "Giving up on this for the time being. Have emailed the people who made this software to see if they can help."
   ]
  },
  {
   "cell_type": "code",
   "execution_count": 1,
   "metadata": {},
   "outputs": [
    {
     "name": "stdout",
     "output_type": "stream",
     "text": [
      "Mon Feb 12 13:18:59 PST 2018\n"
     ]
    }
   ],
   "source": [
    "%%bash\n",
    "date"
   ]
  },
  {
   "cell_type": "markdown",
   "metadata": {},
   "source": [
    "There was typo in the config file - the path to library NR01202 had a comma in it. \n",
    "\n",
    "Discovered this after the author pointed out that there's a log file that can be examined (human readable, pretty short).\n",
    "\n",
    "Here's the updated config file."
   ]
  },
  {
   "cell_type": "code",
   "execution_count": 2,
   "metadata": {},
   "outputs": [
    {
     "name": "stdout",
     "output_type": "stream",
     "text": [
      "###################################\n",
      "#\n",
      "#  Meraculous params file\n",
      "#\n",
      "###################################\n",
      "\n",
      "\n",
      "#######################################\n",
      "#\n",
      "# Basic parameters\n",
      "#\n",
      "########################################\n",
      "\n",
      "\n",
      "\n",
      "# Describe the libraries ( one line per library )\n",
      "# lib_seq [ wildcard ][ prefix ][ insAvg ][ insSdev ][ avgReadLen ][ hasInnieArtifact ][ isRevComped ][ useForContigging ][ onoSetId ][ useForGapClosing ][ 5pWiggleRoom ][3pWiggleRoom]\n",
      "#\n",
      "\n",
      "lib_seq /media/sam/toaster/geoduck_novaseq_meraculous_assembly/20180129_trimmed_again/AD002_S9_L001_R1*.fq.gz,/media/sam/toaster/geoduck_novaseq_meraculous_assembly/20180129_trimmed_again/AD002_S9_L001_R2*.fq.gz AD00201  800  10   150 0 0   0 1 1  0 0\n",
      "lib_seq /media/sam/toaster/geoduck_novaseq_meraculous_assembly/20180129_trimmed_again/AD002_S9_L002_R1*.fq.gz,/media/sam/toaster/geoduck_novaseq_meraculous_assembly/20180129_trimmed_again/AD002_S9_L002_R2*.fq.gz AD00202  800  10   150 0 0   0 1 1  0 0\n",
      "lib_seq /media/sam/toaster/geoduck_novaseq_meraculous_assembly/20180129_trimmed_again/NR005_S4_L001_R1*.fq.gz,/media/sam/toaster/geoduck_novaseq_meraculous_assembly/20180129_trimmed_again/NR005_S4_L001_R2*.fq.gz NR00501  800  10   150 0 0   0 1 1  0 0\n",
      "lib_seq /media/sam/toaster/geoduck_novaseq_meraculous_assembly/20180129_trimmed_again/NR005_S4_L002_R1*.fq.gz,/media/sam/toaster/geoduck_novaseq_meraculous_assembly/20180129_trimmed_again/NR005_S4_L002_R2*.fq.gz NR00502  800  10   150 0 0   0 1 1  0 0\n",
      "lib_seq /media/sam/toaster/geoduck_novaseq_meraculous_assembly/20180129_trimmed_again/NR006_S3_L001_R1*.fq.gz,/media/sam/toaster/geoduck_novaseq_meraculous_assembly/20180129_trimmed_again/NR006_S3_L001_R2*.fq.gz NR00601  800  10   150 0 0   0 1 1  0 0\n",
      "lib_seq /media/sam/toaster/geoduck_novaseq_meraculous_assembly/20180129_trimmed_again/NR006_S3_L002_R1*.fq.gz,/media/sam/toaster/geoduck_novaseq_meraculous_assembly/20180129_trimmed_again/NR006_S3_L002_R2*.fq.gz NR00602  800  10   150 0 0   0 1 1  0 0\n",
      "lib_seq /media/sam/toaster/geoduck_novaseq_meraculous_assembly/20180129_trimmed_again/NR012_S1_L001_R1*.fq.gz,/media/sam/toaster/geoduck_novaseq_meraculous_assembly/20180129_trimmed_again/NR012_S1_L001_R2*.fq.gz NR01201  800  10   150 0 0   0 1 1  0 0\n",
      "lib_seq /media/sam/toaster/geoduck_novaseq_meraculous_assembly/20180129_trimmed_again/NR012_S1_L002_R1*.fq.gz,/media/sam/toaster/geoduck_novaseq_meraculous_assembly/20180129_trimmed_again/NR012_S1_L002_R2*.fq.gz NR01202  800  10   150 0 0   0 1 1  0 0\n",
      "lib_seq /media/sam/toaster/geoduck_novaseq_meraculous_assembly/20180129_trimmed_again/NR013_AD013_S2_L001_R1*.fq.gz,/media/sam/toaster/geoduck_novaseq_meraculous_assembly/20180129_trimmed_again/NR013_AD013_S2_L001_R2*.fq.gz NR01301  800  10   150 0 0   0 1 1  0 0\n",
      "lib_seq /media/sam/toaster/geoduck_novaseq_meraculous_assembly/20180129_trimmed_again/NR013_AD013_S2_L002_R1*.fq.gz,/media/sam/toaster/geoduck_novaseq_meraculous_assembly/20180129_trimmed_again/NR013_AD013_S2_L002_R2*.fq.gz NR01302  800  10   150 0 0   0 1 1  0 0\n",
      "lib_seq /media/sam/toaster/geoduck_novaseq_meraculous_assembly/20180129_trimmed_again/NR014_AD014_S5_L001_R1*.fq.gz,/media/sam/toaster/geoduck_novaseq_meraculous_assembly/20180129_trimmed_again/NR014_AD014_S5_L001_R2*.fq.gz NR01401  800  10   150 0 0   0 1 1  0 0\n",
      "lib_seq /media/sam/toaster/geoduck_novaseq_meraculous_assembly/20180129_trimmed_again/NR014_AD014_S5_L002_R1*.fq.gz,/media/sam/toaster/geoduck_novaseq_meraculous_assembly/20180129_trimmed_again/NR014_AD014_S5_L002_R2*.fq.gz NR01402  800  10   150 0 0   0 1 1  0 0\n",
      "lib_seq /media/sam/toaster/geoduck_novaseq_meraculous_assembly/20180129_trimmed_again/NR015_AD015_S6_L001_R1*.fq.gz,/media/sam/toaster/geoduck_novaseq_meraculous_assembly/20180129_trimmed_again/NR015_AD015_S6_L001_R2*.fq.gz NR01501  800  10   150 0 0   0 1 1  0 0\n",
      "lib_seq /media/sam/toaster/geoduck_novaseq_meraculous_assembly/20180129_trimmed_again/NR015_AD015_S6_L002_R1*.fq.gz,/media/sam/toaster/geoduck_novaseq_meraculous_assembly/20180129_trimmed_again/NR015_AD015_S6_L002_R2*.fq.gz NR01502  800  10   150 0 0   0 1 1  0 0\n",
      "lib_seq /media/sam/toaster/geoduck_novaseq_meraculous_assembly/20180129_trimmed_again/NR019_S7_L001_R1*.fq.gz,/media/sam/toaster/geoduck_novaseq_meraculous_assembly/20180129_trimmed_again/NR019_S7_L001_R2*.fq.gz NR01901  800  10   150 0 0   0 1 1  0 0\n",
      "lib_seq /media/sam/toaster/geoduck_novaseq_meraculous_assembly/20180129_trimmed_again/NR019_S7_L002_R1*.fq.gz,/media/sam/toaster/geoduck_novaseq_meraculous_assembly/20180129_trimmed_again/NR019_S7_L002_R2*.fq.gz NR01902  800  10   150 0 0   0 1 1  0 0\n",
      "lib_seq /media/sam/toaster/geoduck_novaseq_meraculous_assembly/20180129_trimmed_again/NR021_S8_L001_R1*.fq.gz,/media/sam/toaster/geoduck_novaseq_meraculous_assembly/20180129_trimmed_again/NR021_S8_L001_R2*.fq.gz NR02101  800  10   150 0 0   0 1 1  0 0\n",
      "lib_seq /media/sam/toaster/geoduck_novaseq_meraculous_assembly/20180129_trimmed_again/NR021_S8_L002_R1*.fq.gz,/media/sam/toaster/geoduck_novaseq_meraculous_assembly/20180129_trimmed_again/NR021_S8_L002_R2*.fq.gz NR02102  800  10   150 0 0   0 1 1  0 0\n",
      "\n",
      "\n",
      "genome_size   2.1697\n",
      "\n",
      "diploid_mode    1\n",
      "\n",
      "mer_size 117\n",
      "\n",
      "min_depth_cutoff        7\n",
      "\n",
      "num_prefix_blocks 4\n",
      "\n",
      "\n",
      "#################################################\n",
      "#\n",
      "# Advanced parameters\n",
      "#\n",
      "#################################################\n",
      "\n",
      "no_read_validation 1\n",
      "\n",
      "use_cluster 0\n",
      "\n",
      "local_num_procs       16\n",
      "\n",
      "local_max_retries                 0\n",
      "\n"
     ]
    }
   ],
   "source": [
    "%%bash\n",
    "cat /media/sam/toaster/geoduck_novaseq_meraculous_assembly/meraculous.config"
   ]
  },
  {
   "cell_type": "code",
   "execution_count": 3,
   "metadata": {},
   "outputs": [
    {
     "name": "stdout",
     "output_type": "stream",
     "text": [
      "Process is terminated.\n"
     ]
    }
   ],
   "source": [
    "%%bash\n",
    "cd /media/sam/toaster/geoduck_novaseq_meraculous_assembly/\n",
    "time /home/shared/meraculous-2.2.5/bin/run_meraculous.sh -dir /media/sam/toaster/geoduck_novaseq_meraculous_assembly/ -c /media/sam/toaster/geoduck_novaseq_meraculous_assembly/meraculous.config\n",
    "cat ~/.default-subject.mail | msmtp \"$EMAIL\""
   ]
  },
  {
   "cell_type": "markdown",
   "metadata": {},
   "source": [
    "Stopped to change config file, per author's recommendation. Changing to use for contiging."
   ]
  },
  {
   "cell_type": "code",
   "execution_count": 4,
   "metadata": {},
   "outputs": [
    {
     "name": "stdout",
     "output_type": "stream",
     "text": [
      "###################################\n",
      "#\n",
      "#  Meraculous params file\n",
      "#\n",
      "###################################\n",
      "\n",
      "\n",
      "#######################################\n",
      "#\n",
      "# Basic parameters\n",
      "#\n",
      "########################################\n",
      "\n",
      "\n",
      "\n",
      "# Describe the libraries ( one line per library )\n",
      "# lib_seq [ wildcard ][ prefix ][ insAvg ][ insSdev ][ avgReadLen ][ hasInnieArtifact ][ isRevComped ][ useForContigging ][ onoSetId ][ useForGapClosing ][ 5pWiggleRoom ][3pWiggleRoom]\n",
      "#\n",
      "\n",
      "lib_seq /media/sam/toaster/geoduck_novaseq_meraculous_assembly/20180129_trimmed_again/AD002_S9_L001_R1*.fq.gz,/media/sam/toaster/geoduck_novaseq_meraculous_assembly/20180129_trimmed_again/AD002_S9_L001_R2*.fq.gz AD00201  800  10   150 0 0   1 1 1  0 0\n",
      "lib_seq /media/sam/toaster/geoduck_novaseq_meraculous_assembly/20180129_trimmed_again/AD002_S9_L002_R1*.fq.gz,/media/sam/toaster/geoduck_novaseq_meraculous_assembly/20180129_trimmed_again/AD002_S9_L002_R2*.fq.gz AD00202  800  10   150 0 0   1 1 1  0 0\n",
      "lib_seq /media/sam/toaster/geoduck_novaseq_meraculous_assembly/20180129_trimmed_again/NR005_S4_L001_R1*.fq.gz,/media/sam/toaster/geoduck_novaseq_meraculous_assembly/20180129_trimmed_again/NR005_S4_L001_R2*.fq.gz NR00501  800  10   150 0 0   1 1 1  0 0\n",
      "lib_seq /media/sam/toaster/geoduck_novaseq_meraculous_assembly/20180129_trimmed_again/NR005_S4_L002_R1*.fq.gz,/media/sam/toaster/geoduck_novaseq_meraculous_assembly/20180129_trimmed_again/NR005_S4_L002_R2*.fq.gz NR00502  800  10   150 0 0   1 1 1  0 0\n",
      "lib_seq /media/sam/toaster/geoduck_novaseq_meraculous_assembly/20180129_trimmed_again/NR006_S3_L001_R1*.fq.gz,/media/sam/toaster/geoduck_novaseq_meraculous_assembly/20180129_trimmed_again/NR006_S3_L001_R2*.fq.gz NR00601  800  10   150 0 0   1 1 1  0 0\n",
      "lib_seq /media/sam/toaster/geoduck_novaseq_meraculous_assembly/20180129_trimmed_again/NR006_S3_L002_R1*.fq.gz,/media/sam/toaster/geoduck_novaseq_meraculous_assembly/20180129_trimmed_again/NR006_S3_L002_R2*.fq.gz NR00602  800  10   150 0 0   1 1 1  0 0\n",
      "lib_seq /media/sam/toaster/geoduck_novaseq_meraculous_assembly/20180129_trimmed_again/NR012_S1_L001_R1*.fq.gz,/media/sam/toaster/geoduck_novaseq_meraculous_assembly/20180129_trimmed_again/NR012_S1_L001_R2*.fq.gz NR01201  800  10   150 0 0   1 1 1  0 0\n",
      "lib_seq /media/sam/toaster/geoduck_novaseq_meraculous_assembly/20180129_trimmed_again/NR012_S1_L002_R1*.fq.gz,/media/sam/toaster/geoduck_novaseq_meraculous_assembly/20180129_trimmed_again/NR012_S1_L002_R2*.fq.gz NR01202  800  10   150 0 0   1 1 1  0 0\n",
      "lib_seq /media/sam/toaster/geoduck_novaseq_meraculous_assembly/20180129_trimmed_again/NR013_AD013_S2_L001_R1*.fq.gz,/media/sam/toaster/geoduck_novaseq_meraculous_assembly/20180129_trimmed_again/NR013_AD013_S2_L001_R2*.fq.gz NR01301  800  10   150 0 0   1 1 1  0 0\n",
      "lib_seq /media/sam/toaster/geoduck_novaseq_meraculous_assembly/20180129_trimmed_again/NR013_AD013_S2_L002_R1*.fq.gz,/media/sam/toaster/geoduck_novaseq_meraculous_assembly/20180129_trimmed_again/NR013_AD013_S2_L002_R2*.fq.gz NR01302  800  10   150 0 0   1 1 1  0 0\n",
      "lib_seq /media/sam/toaster/geoduck_novaseq_meraculous_assembly/20180129_trimmed_again/NR014_AD014_S5_L001_R1*.fq.gz,/media/sam/toaster/geoduck_novaseq_meraculous_assembly/20180129_trimmed_again/NR014_AD014_S5_L001_R2*.fq.gz NR01401  800  10   150 0 0   1 1 1  0 0\n",
      "lib_seq /media/sam/toaster/geoduck_novaseq_meraculous_assembly/20180129_trimmed_again/NR014_AD014_S5_L002_R1*.fq.gz,/media/sam/toaster/geoduck_novaseq_meraculous_assembly/20180129_trimmed_again/NR014_AD014_S5_L002_R2*.fq.gz NR01402  800  10   150 0 0   1 1 1  0 0\n",
      "lib_seq /media/sam/toaster/geoduck_novaseq_meraculous_assembly/20180129_trimmed_again/NR015_AD015_S6_L001_R1*.fq.gz,/media/sam/toaster/geoduck_novaseq_meraculous_assembly/20180129_trimmed_again/NR015_AD015_S6_L001_R2*.fq.gz NR01501  800  10   150 0 0   1 1 1  0 0\n",
      "lib_seq /media/sam/toaster/geoduck_novaseq_meraculous_assembly/20180129_trimmed_again/NR015_AD015_S6_L002_R1*.fq.gz,/media/sam/toaster/geoduck_novaseq_meraculous_assembly/20180129_trimmed_again/NR015_AD015_S6_L002_R2*.fq.gz NR01502  800  10   150 0 0   1 1 1  0 0\n",
      "lib_seq /media/sam/toaster/geoduck_novaseq_meraculous_assembly/20180129_trimmed_again/NR019_S7_L001_R1*.fq.gz,/media/sam/toaster/geoduck_novaseq_meraculous_assembly/20180129_trimmed_again/NR019_S7_L001_R2*.fq.gz NR01901  800  10   150 0 0   1 1 1  0 0\n",
      "lib_seq /media/sam/toaster/geoduck_novaseq_meraculous_assembly/20180129_trimmed_again/NR019_S7_L002_R1*.fq.gz,/media/sam/toaster/geoduck_novaseq_meraculous_assembly/20180129_trimmed_again/NR019_S7_L002_R2*.fq.gz NR01902  800  10   150 0 0   1 1 1  0 0\n",
      "lib_seq /media/sam/toaster/geoduck_novaseq_meraculous_assembly/20180129_trimmed_again/NR021_S8_L001_R1*.fq.gz,/media/sam/toaster/geoduck_novaseq_meraculous_assembly/20180129_trimmed_again/NR021_S8_L001_R2*.fq.gz NR02101  800  10   150 0 0   1 1 1  0 0\n",
      "lib_seq /media/sam/toaster/geoduck_novaseq_meraculous_assembly/20180129_trimmed_again/NR021_S8_L002_R1*.fq.gz,/media/sam/toaster/geoduck_novaseq_meraculous_assembly/20180129_trimmed_again/NR021_S8_L002_R2*.fq.gz NR02102  800  10   150 0 0   1 1 1  0 0\n",
      "\n",
      "\n",
      "genome_size   2.1697\n",
      "\n",
      "diploid_mode    1\n",
      "\n",
      "mer_size 117\n",
      "\n",
      "min_depth_cutoff        7\n",
      "\n",
      "num_prefix_blocks 4\n",
      "\n",
      "\n",
      "#################################################\n",
      "#\n",
      "# Advanced parameters\n",
      "#\n",
      "#################################################\n",
      "\n",
      "no_read_validation 1\n",
      "\n",
      "use_cluster 0\n",
      "\n",
      "local_num_procs       16\n",
      "\n",
      "local_max_retries                 0\n",
      "\n"
     ]
    }
   ],
   "source": [
    "%%bash\n",
    "cat /media/sam/toaster/geoduck_novaseq_meraculous_assembly/meraculous.config"
   ]
  },
  {
   "cell_type": "code",
   "execution_count": 5,
   "metadata": {},
   "outputs": [
    {
     "name": "stderr",
     "output_type": "stream",
     "text": [
      "Smartmatch is experimental at /home/shared/meraculous-2.2.5/bin/meraculous.pl line 929.\n",
      "Smartmatch is experimental at /home/shared/meraculous-2.2.5/bin/meraculous.pl line 2789.\n",
      "2018/02/12 14:46:24 Meraculous runtime root directory: /home/shared/meraculous-2.2.5/\n",
      "2018/02/12 14:46:24 Loading run parameters from /media/sam/toaster/geoduck_novaseq_meraculous_assembly/meraculous.config ...\n",
      "2018/02/12 14:46:24 Setting the stage for the new run..\n",
      "2018/02/12 14:46:24 Prep work complete. From here on will channel all messages to appropriate logs ...\n",
      "2018/02/12 14:46:24 Logging to /media/sam/toaster/geoduck_novaseq_meraculous_assembly/run_2018-02-12_14h46m24s/log/ ...\n",
      "\n",
      "\u001b[34m2018/02/12 14:46:24 meraculous.pl main:: 737> RUNNING STAGE: meraculous_import \u001b[0m\n",
      "\u001b[35m2018/02/12 16:29:48 M_Utility.pm M_Utility::run_local_cmd 770> Command failed! Return value: (7168) Command: (cd /media/sam/toaster/geoduck_novaseq_meraculous_assembly/run_2018-02-12_14h46m24s/meraculous_import; /home/shared/meraculous-2.2.5/bin/memtime -f /media/sam/toaster/geoduck_novaseq_meraculous_assembly/run_2018-02-12_14h46m24s/meraculous_import/JOB_SET_DIR.split-validate.NR01502/0.memtime perl /home/shared/meraculous-2.2.5/bin/split_and_validate_reads.pl -f \"/media/sam/toaster/geoduck_novaseq_meraculous_assembly/run_2018-02-12_14h46m24s/meraculous_import/source_reads/NR01502.fastq.0.F.gz /media/sam/toaster/geoduck_novaseq_meraculous_assembly/run_2018-02-12_14h46m24s/meraculous_import/source_reads/NR01502.fastq.0.R.gz\" -p NR01502.fastq.0  -r 0.0001 -s 3333334  -N > /media/sam/toaster/geoduck_novaseq_meraculous_assembly/run_2018-02-12_14h46m24s/meraculous_import/JOB_SET_DIR.split-validate.NR01502/stdout_files/0/job_set.0.out 2> /media/sam/toaster/geoduck_novaseq_meraculous_assembly/run_2018-02-12_14h46m24s/meraculous_import/NR01502.splitNvalidate.0.err)\u001b[0m\n",
      "\u001b[35mFor more clues on what went wrong please examine the output and stderr files produced by this command! \u001b[0m\n",
      "\u001b[35m2018/02/12 16:29:48 meraculous.pl main:: 769> Stage meraculous_import failed (6203.749161 seconds)\u001b[0m\n",
      "\u001b[35mCannot write to '/media/sam/toaster/geoduck_novaseq_meraculous_assembly/run_2018-02-12_14h46m24s/log/errors.log': No space left on device at /usr/local/share/perl/5.22.1/Log/Log4perl/Appender/File.pm line 313.\u001b[0m\n",
      "\u001b[35m \u001b[0m\n",
      "Cannot write to '/media/sam/toaster/geoduck_novaseq_meraculous_assembly/run_2018-02-12_14h46m24s/log/errors.log': No space left on device at /usr/local/share/perl/5.22.1/Log/Log4perl/Appender/File.pm line 313.\n",
      "Can't close /media/sam/toaster/geoduck_novaseq_meraculous_assembly/run_2018-02-12_14h46m24s/log/errors.log (No space left on device) at /usr/local/share/perl/5.22.1/Log/Log4perl/Appender/File.pm line 349 during global destruction.\n",
      "\n",
      "real\t103m24.526s\n",
      "user\t48m55.632s\n",
      "sys\t9m21.852s\n"
     ]
    }
   ],
   "source": [
    "%%bash\n",
    "cd /media/sam/toaster/geoduck_novaseq_meraculous_assembly/\n",
    "time /home/shared/meraculous-2.2.5/bin/run_meraculous.sh -dir /media/sam/toaster/geoduck_novaseq_meraculous_assembly/ -c /media/sam/toaster/geoduck_novaseq_meraculous_assembly/meraculous.config\n",
    "cat ~/.default-subject.mail | msmtp \"$EMAIL\""
   ]
  },
  {
   "cell_type": "code",
   "execution_count": 6,
   "metadata": {},
   "outputs": [
    {
     "name": "stdout",
     "output_type": "stream",
     "text": [
      "20180129_trimmed_again\n",
      "meraculous.config\n",
      "run_2018-02-09_16h28m40s\n",
      "run_2018-02-12_13h40m03s\n",
      "run_2018-02-12_14h46m24s\n"
     ]
    }
   ],
   "source": [
    "%%bash\n",
    "ls /media/sam/toaster/geoduck_novaseq_meraculous_assembly/"
   ]
  },
  {
   "cell_type": "code",
   "execution_count": 7,
   "metadata": {
    "collapsed": true
   },
   "outputs": [],
   "source": [
    "%%bash\n",
    "rm -rf /media/sam/toaster/geoduck_novaseq_meraculous_assembly/run*"
   ]
  },
  {
   "cell_type": "code",
   "execution_count": 8,
   "metadata": {},
   "outputs": [
    {
     "name": "stdout",
     "output_type": "stream",
     "text": [
      ".\n",
      "..\n",
      "20180129_trimmed_again\n",
      "meraculous.config\n"
     ]
    }
   ],
   "source": [
    "%%bash\n",
    "ls -a /media/sam/toaster/geoduck_novaseq_meraculous_assembly/"
   ]
  },
  {
   "cell_type": "markdown",
   "metadata": {},
   "source": [
    "Re-run with ```cleanup``` flag"
   ]
  },
  {
   "cell_type": "code",
   "execution_count": 9,
   "metadata": {},
   "outputs": [
    {
     "name": "stderr",
     "output_type": "stream",
     "text": [
      "Smartmatch is experimental at /home/shared/meraculous-2.2.5/bin/meraculous.pl line 929.\n",
      "Smartmatch is experimental at /home/shared/meraculous-2.2.5/bin/meraculous.pl line 2789.\n",
      "2018/02/13 06:54:01 Meraculous runtime root directory: /home/shared/meraculous-2.2.5/\n",
      "2018/02/13 06:54:01 Loading run parameters from /media/sam/toaster/geoduck_novaseq_meraculous_assembly/meraculous.config ...\n",
      "2018/02/13 06:54:01 Setting the stage for the new run..\n",
      "2018/02/13 06:54:01 Prep work complete. From here on will channel all messages to appropriate logs ...\n",
      "2018/02/13 06:54:01 Logging to /media/sam/toaster/geoduck_novaseq_meraculous_assembly/run_2018-02-13_06h54m01s/log/ ...\n",
      "\n",
      "\u001b[34m2018/02/13 06:54:01 meraculous.pl main:: 737> RUNNING STAGE: meraculous_import \u001b[0m\n",
      "\u001b[35m2018/02/14 00:53:21 M_Utility.pm M_Utility::run_local_cmd 770> Command failed! Return value: (7168) Command: (cd /media/sam/toaster/geoduck_novaseq_meraculous_assembly/run_2018-02-13_06h54m01s/meraculous_import; /home/shared/meraculous-2.2.5/bin/memtime -f /media/sam/toaster/geoduck_novaseq_meraculous_assembly/run_2018-02-13_06h54m01s/meraculous_import/JOB_SET_DIR.split-validate.NR01302/0.memtime perl /home/shared/meraculous-2.2.5/bin/split_and_validate_reads.pl -f \"/media/sam/toaster/geoduck_novaseq_meraculous_assembly/run_2018-02-13_06h54m01s/meraculous_import/source_reads/NR01302.fastq.0.F.gz /media/sam/toaster/geoduck_novaseq_meraculous_assembly/run_2018-02-13_06h54m01s/meraculous_import/source_reads/NR01302.fastq.0.R.gz\" -p NR01302.fastq.0  -r 0.0001 -s 3333334  -N > /media/sam/toaster/geoduck_novaseq_meraculous_assembly/run_2018-02-13_06h54m01s/meraculous_import/JOB_SET_DIR.split-validate.NR01302/stdout_files/0/job_set.0.out 2> /media/sam/toaster/geoduck_novaseq_meraculous_assembly/run_2018-02-13_06h54m01s/meraculous_import/NR01302.splitNvalidate.0.err)\u001b[0m\n",
      "\u001b[35mFor more clues on what went wrong please examine the output and stderr files produced by this command! \u001b[0m\n",
      "\u001b[35m2018/02/14 00:53:21 meraculous.pl main:: 769> Stage meraculous_import failed (64759.583242 seconds)\u001b[0m\n",
      "\u001b[35mCannot write to '/media/sam/toaster/geoduck_novaseq_meraculous_assembly/run_2018-02-13_06h54m01s/log/errors.log': No space left on device at /usr/local/share/perl/5.22.1/Log/Log4perl/Appender/File.pm line 313.\u001b[0m\n",
      "\u001b[35m \u001b[0m\n",
      "Cannot write to '/media/sam/toaster/geoduck_novaseq_meraculous_assembly/run_2018-02-13_06h54m01s/log/errors.log': No space left on device at /usr/local/share/perl/5.22.1/Log/Log4perl/Appender/File.pm line 313.\n",
      "Can't close /media/sam/toaster/geoduck_novaseq_meraculous_assembly/run_2018-02-13_06h54m01s/log/errors.log (No space left on device) at /usr/local/share/perl/5.22.1/Log/Log4perl/Appender/File.pm line 349 during global destruction.\n",
      "\n",
      "real\t1079m20.569s\n",
      "user\t504m41.236s\n",
      "sys\t97m9.556s\n"
     ]
    }
   ],
   "source": [
    "%%bash\n",
    "cd /media/sam/toaster/geoduck_novaseq_meraculous_assembly/\n",
    "time /home/shared/meraculous-2.2.5/bin/run_meraculous.sh \\\n",
    "-dir /media/sam/toaster/geoduck_novaseq_meraculous_assembly/ \\\n",
    "-cleanup_level 1 \\\n",
    "-c /media/sam/toaster/geoduck_novaseq_meraculous_assembly/meraculous.config\n",
    "cat ~/.default-subject.mail | msmtp \"$EMAIL\""
   ]
  },
  {
   "cell_type": "code",
   "execution_count": 10,
   "metadata": {},
   "outputs": [
    {
     "name": "stdout",
     "output_type": "stream",
     "text": [
      "Filesystem                     Size  Used Avail Use% Mounted on\n",
      "udev                            24G     0   24G   0% /dev\n",
      "tmpfs                          4.8G  490M  4.3G  11% /run\n",
      "/dev/sdb2                      1.8T  493G  1.2T  30% /\n",
      "tmpfs                           24G  308K   24G   1% /dev/shm\n",
      "tmpfs                          5.0M     0  5.0M   0% /run/lock\n",
      "tmpfs                           24G     0   24G   0% /sys/fs/cgroup\n",
      "/dev/sdb1                      511M  3.5M  508M   1% /boot/efi\n",
      "tmpfs                          4.8G  112K  4.8G   1% /run/user/1001\n",
      "//owl.fish.washington.edu/web   51T   41T   11T  80% /home/sam/owl\n",
      "/dev/sda1                      1.9T  1.9T     0 100% /media/sam/toaster\n"
     ]
    }
   ],
   "source": [
    "%%bash\n",
    "df -h"
   ]
  },
  {
   "cell_type": "code",
   "execution_count": 11,
   "metadata": {
    "collapsed": true
   },
   "outputs": [],
   "source": [
    "%%bash\n",
    "rm -rf /media/sam/toaster/geoduck_novaseq_meraculous_assembly/run_2018-02-13_06h54m01s/"
   ]
  },
  {
   "cell_type": "code",
   "execution_count": 12,
   "metadata": {},
   "outputs": [
    {
     "name": "stdout",
     "output_type": "stream",
     "text": [
      "Filesystem                     Size  Used Avail Use% Mounted on\n",
      "udev                            24G     0   24G   0% /dev\n",
      "tmpfs                          4.8G  490M  4.3G  11% /run\n",
      "/dev/sdb2                      1.8T  493G  1.2T  30% /\n",
      "tmpfs                           24G  308K   24G   1% /dev/shm\n",
      "tmpfs                          5.0M     0  5.0M   0% /run/lock\n",
      "tmpfs                           24G     0   24G   0% /sys/fs/cgroup\n",
      "/dev/sdb1                      511M  3.5M  508M   1% /boot/efi\n",
      "tmpfs                          4.8G  112K  4.8G   1% /run/user/1001\n",
      "//owl.fish.washington.edu/web   51T   41T   11T  80% /home/sam/owl\n",
      "/dev/sda1                      1.9T  374G  1.5T  21% /media/sam/toaster\n"
     ]
    }
   ],
   "source": [
    "%%bash\n",
    "df -h"
   ]
  },
  {
   "cell_type": "code",
   "execution_count": 13,
   "metadata": {},
   "outputs": [
    {
     "name": "stderr",
     "output_type": "stream",
     "text": [
      "rm: cannot remove '/media/sam/toaster/geoduck_novaseq_meraculous_assembly/20180129_trimmed_again/': Directory not empty\n"
     ]
    }
   ],
   "source": [
    "%%bash\n",
    "rm -rf /media/sam/toaster/geoduck_novaseq_meraculous_assembly/20180129_trimmed_again/"
   ]
  },
  {
   "cell_type": "code",
   "execution_count": 14,
   "metadata": {},
   "outputs": [
    {
     "name": "stdout",
     "output_type": "stream",
     "text": [
      "Filesystem                     Size  Used Avail Use% Mounted on\n",
      "udev                            24G     0   24G   0% /dev\n",
      "tmpfs                          4.8G  490M  4.3G  11% /run\n",
      "/dev/sdb2                      1.8T  493G  1.2T  30% /\n",
      "tmpfs                           24G  308K   24G   1% /dev/shm\n",
      "tmpfs                          5.0M     0  5.0M   0% /run/lock\n",
      "tmpfs                           24G     0   24G   0% /sys/fs/cgroup\n",
      "/dev/sdb1                      511M  3.5M  508M   1% /boot/efi\n",
      "tmpfs                          4.8G  112K  4.8G   1% /run/user/1001\n",
      "//owl.fish.washington.edu/web   51T   41T   11T  80% /home/sam/owl\n",
      "/dev/sda1                      1.9T   44G  1.8T   3% /media/sam/toaster\n"
     ]
    }
   ],
   "source": [
    "%%bash\n",
    "df -h"
   ]
  },
  {
   "cell_type": "code",
   "execution_count": 15,
   "metadata": {},
   "outputs": [
    {
     "name": "stdout",
     "output_type": "stream",
     "text": [
      "###################################\n",
      "#\n",
      "#  Meraculous params file\n",
      "#\n",
      "###################################\n",
      "\n",
      "\n",
      "#######################################\n",
      "#\n",
      "# Basic parameters\n",
      "#\n",
      "########################################\n",
      "\n",
      "\n",
      "\n",
      "# Describe the libraries ( one line per library )\n",
      "# lib_seq [ wildcard ][ prefix ][ insAvg ][ insSdev ][ avgReadLen ][ hasInnieArtifact ][ isRevComped ][ useForContigging ][ onoSetId ][ useForGapClosing ][ 5pWiggleRoom ][3pWiggleRoom]\n",
      "#\n",
      "\n",
      "lib_seq /home/sam/data/geoduck_illumina/trimmed/AD002*R1*.fq.gz,/home/sam/data/geoduck_illumina/trimmed/AD002*R2*.fq.gz AD002  800  10   150 0 0   0 1 1  0 0\n",
      "lib_seq /home/sam/data/geoduck_illumina/trimmed/NR005*R1*.fq.gz,/home/sam/data/geoduck_illumina/trimmed/NR005*R2*.fq.gz NR005  800  10   150 0 0   0 1 1  0 0\n",
      "lib_seq /home/sam/data/geoduck_illumina/trimmed/NR006*R1*.fq.gz,/home/sam/data/geoduck_illumina/trimmed/NR006*R2*.fq.gz NR006  800  10   150 0 0   0 1 1  0 0\n",
      "lib_seq /home/sam/data/geoduck_illumina/trimmed/NR012*R1*.fq.gz,/home/sam/data/geoduck_illumina/trimmed/NR012*R2*.fq.gz NR012  800  10   150 0 0   0 1 1  0 0\n",
      "lib_seq /home/sam/data/geoduck_illumina/trimmed/NR013*R1*.fq.gz,/home/sam/data/geoduck_illumina/trimmed/NR013*R2*.fq.gz NR013  800  10   150 0 0   0 1 1  0 0\n",
      "lib_seq /home/sam/data/geoduck_illumina/trimmed/NR014*R1*.fq.gz,/home/sam/data/geoduck_illumina/trimmed/NR014*R2*.fq.gz NR014  800  10   150 0 0   0 1 1  0 0\n",
      "lib_seq /home/sam/data/geoduck_illumina/trimmed/NR015*R1*.fq.gz,/home/sam/data/geoduck_illumina/trimmed/NR015*R2*.fq.gz NR015  800  10   150 0 0   0 1 1  0 0\n",
      "lib_seq /home/sam/data/geoduck_illumina/trimmed/NR019*R1*.fq.gz,/home/sam/data/geoduck_illumina/trimmed/NR019*R2*.fq.gz NR019  800  10   150 0 0   0 1 1  0 0\n",
      "lib_seq /home/sam/data/geoduck_illumina/trimmed/NR021*R1*.fq.gz,/home/sam/data/geoduck_illumina/trimmed/NR021*R2*.fq.gz NR021  800  10   150 0 0   0 1 1  0 0\n",
      "\n",
      "\n",
      "\n",
      "genome_size   2.1697\n",
      "\n",
      "diploid_mode    1\n",
      "\n",
      "mer_size 117\n",
      "\n",
      "min_depth_cutoff        7\n",
      "\n",
      "num_prefix_blocks 4\n",
      "\n",
      "\n",
      "#################################################\n",
      "#\n",
      "# Advanced parameters\n",
      "#\n",
      "#################################################\n",
      "\n",
      "no_read_validation 1\n",
      "\n",
      "use_cluster 0\n",
      "\n",
      "local_num_procs       16\n",
      "\n",
      "local_max_retries                 0\n",
      "\n"
     ]
    }
   ],
   "source": [
    "%%bash\n",
    "cat /media/sam/toaster/geoduck_novaseq_meraculous_assembly/meraculous.config"
   ]
  },
  {
   "cell_type": "markdown",
   "metadata": {},
   "source": [
    "Deleted fastq files from \"toaster\". Changed \"cleanup level\" to highest level (i.e. will delete most intermediate files)."
   ]
  },
  {
   "cell_type": "code",
   "execution_count": 16,
   "metadata": {},
   "outputs": [
    {
     "name": "stdout",
     "output_type": "stream",
     "text": [
      "meraculous run exited prematurely: 1\n"
     ]
    },
    {
     "name": "stderr",
     "output_type": "stream",
     "text": [
      "Smartmatch is experimental at /home/shared/meraculous-2.2.5/bin/meraculous.pl line 929.\n",
      "Smartmatch is experimental at /home/shared/meraculous-2.2.5/bin/meraculous.pl line 2789.\n",
      "2018/02/15 11:08:40 Meraculous runtime root directory: /home/shared/meraculous-2.2.5/\n",
      "2018/02/15 11:08:40 Loading run parameters from /media/sam/toaster/geoduck_novaseq_meraculous_assembly/meraculous.config ...\n",
      "2018/02/15 11:08:40 Setting the stage for the new run..\n",
      "2018/02/15 11:08:40 Prep work complete. From here on will channel all messages to appropriate logs ...\n",
      "2018/02/15 11:08:40 Logging to /media/sam/toaster/geoduck_novaseq_meraculous_assembly/run_2018-02-15_11h08m40s/log/ ...\n",
      "\n",
      "\u001b[34m2018/02/15 11:08:40 meraculous.pl main:: 737> RUNNING STAGE: meraculous_import \u001b[0m\n",
      "\u001b[35m2018/02/15 20:14:13 meraculous.pl main::run_meraculous_import 1194> ERROR: Can't perform load balancing:  /media/sam/toaster/geoduck_novaseq_meraculous_assembly/run_2018-02-15_11h08m40s/meraculous_import/prefixer.sample.info is empty!   Please verify that at least one library is selected for contig generation.  \u001b[0m\n",
      "\u001b[35m2018/02/15 20:14:13 meraculous.pl main:: 769> Stage meraculous_import failed (32732.106668 seconds)\u001b[0m\n",
      "\u001b[35m \u001b[0m\n",
      "\u001b[34m2018/02/15 20:14:13 meraculous.pl main:: 824> RUN DID NOT COMPLETE ! \u001b[0m\n",
      "\u001b[34m2018/02/15 20:14:13 meraculous.pl main:: 828> Total run time: 32732.258263 seconds. \u001b[0m\n",
      "\u001b[34m2018/02/15 20:14:13 meraculous.pl main:: 830> Thank you for running Meraculous! \u001b[0m\n",
      "\n",
      "real\t545m33.077s\n",
      "user\t652m25.780s\n",
      "sys\t144m16.544s\n"
     ]
    }
   ],
   "source": [
    "%%bash\n",
    "cd /media/sam/toaster/geoduck_novaseq_meraculous_assembly/\n",
    "time /home/shared/meraculous-2.2.5/bin/run_meraculous.sh \\\n",
    "-dir /media/sam/toaster/geoduck_novaseq_meraculous_assembly/ \\\n",
    "-cleanup_level 2 \\\n",
    "-c /media/sam/toaster/geoduck_novaseq_meraculous_assembly/meraculous.config\n",
    "cat ~/.default-subject.mail | msmtp \"$EMAIL\""
   ]
  },
  {
   "cell_type": "markdown",
   "metadata": {},
   "source": [
    "Oh my gosh! I edited the wrong config file and had the wrong contig value in! Grrrr. Edited again and it should be correct, now."
   ]
  },
  {
   "cell_type": "code",
   "execution_count": 18,
   "metadata": {},
   "outputs": [
    {
     "name": "stdout",
     "output_type": "stream",
     "text": [
      "###################################\n",
      "#\n",
      "#  Meraculous params file\n",
      "#\n",
      "###################################\n",
      "\n",
      "\n",
      "#######################################\n",
      "#\n",
      "# Basic parameters\n",
      "#\n",
      "########################################\n",
      "\n",
      "\n",
      "\n",
      "# Describe the libraries ( one line per library )\n",
      "# lib_seq [ wildcard ][ prefix ][ insAvg ][ insSdev ][ avgReadLen ][ hasInnieArtifact ][ isRevComped ][ useForContigging ][ onoSetId ][ useForGapClosing ][ 5pWiggleRoom ][3pWiggleRoom]\n",
      "#\n",
      "\n",
      "lib_seq /home/sam/data/geoduck_illumina/trimmed/AD002*R1*.fq.gz,/home/sam/data/geoduck_illumina/trimmed/AD002*R2*.fq.gz AD002  800  10   150 0 0   1 1 1  0 0\n",
      "lib_seq /home/sam/data/geoduck_illumina/trimmed/NR005*R1*.fq.gz,/home/sam/data/geoduck_illumina/trimmed/NR005*R2*.fq.gz NR005  800  10   150 0 0   1 1 1  0 0\n",
      "lib_seq /home/sam/data/geoduck_illumina/trimmed/NR006*R1*.fq.gz,/home/sam/data/geoduck_illumina/trimmed/NR006*R2*.fq.gz NR006  800  10   150 0 0   1 1 1  0 0\n",
      "lib_seq /home/sam/data/geoduck_illumina/trimmed/NR012*R1*.fq.gz,/home/sam/data/geoduck_illumina/trimmed/NR012*R2*.fq.gz NR012  800  10   150 0 0   1 1 1  0 0\n",
      "lib_seq /home/sam/data/geoduck_illumina/trimmed/NR013*R1*.fq.gz,/home/sam/data/geoduck_illumina/trimmed/NR013*R2*.fq.gz NR013  800  10   150 0 0   1 1 1  0 0\n",
      "lib_seq /home/sam/data/geoduck_illumina/trimmed/NR014*R1*.fq.gz,/home/sam/data/geoduck_illumina/trimmed/NR014*R2*.fq.gz NR014  800  10   150 0 0   1 1 1  0 0\n",
      "lib_seq /home/sam/data/geoduck_illumina/trimmed/NR015*R1*.fq.gz,/home/sam/data/geoduck_illumina/trimmed/NR015*R2*.fq.gz NR015  800  10   150 0 0   1 1 1  0 0\n",
      "lib_seq /home/sam/data/geoduck_illumina/trimmed/NR019*R1*.fq.gz,/home/sam/data/geoduck_illumina/trimmed/NR019*R2*.fq.gz NR019  800  10   150 0 0   1 1 1  0 0\n",
      "lib_seq /home/sam/data/geoduck_illumina/trimmed/NR021*R1*.fq.gz,/home/sam/data/geoduck_illumina/trimmed/NR021*R2*.fq.gz NR021  800  10   150 0 0   1 1 1  0 0\n",
      "\n",
      "\n",
      "\n",
      "genome_size   2.1697\n",
      "\n",
      "diploid_mode    1\n",
      "\n",
      "mer_size 117\n",
      "\n",
      "min_depth_cutoff        7\n",
      "\n",
      "num_prefix_blocks 4\n",
      "\n",
      "\n",
      "#################################################\n",
      "#\n",
      "# Advanced parameters\n",
      "#\n",
      "#################################################\n",
      "\n",
      "no_read_validation 1\n",
      "\n",
      "use_cluster 0\n",
      "\n",
      "local_num_procs       16\n",
      "\n",
      "local_max_retries                 0\n",
      "\n"
     ]
    }
   ],
   "source": [
    "%%bash\n",
    "cat /media/sam/toaster/geoduck_novaseq_meraculous_assembly/meraculous.config"
   ]
  },
  {
   "cell_type": "code",
   "execution_count": 19,
   "metadata": {},
   "outputs": [
    {
     "name": "stdout",
     "output_type": "stream",
     "text": [
      "Process is terminated.\n"
     ]
    }
   ],
   "source": [
    "%%bash\n",
    "cd /media/sam/toaster/geoduck_novaseq_meraculous_assembly/\n",
    "time /home/shared/meraculous-2.2.5/bin/run_meraculous.sh \\\n",
    "-dir /media/sam/toaster/geoduck_novaseq_meraculous_assembly/ \\\n",
    "-cleanup_level 2 \\\n",
    "-c /media/sam/toaster/geoduck_novaseq_meraculous_assembly/meraculous.config\n",
    "cat ~/.default-subject.mail | msmtp \"$EMAIL\""
   ]
  },
  {
   "cell_type": "code",
   "execution_count": 20,
   "metadata": {},
   "outputs": [
    {
     "name": "stdout",
     "output_type": "stream",
     "text": [
      "Filesystem                     Size  Used Avail Use% Mounted on\n",
      "udev                            24G     0   24G   0% /dev\n",
      "tmpfs                          4.8G  522M  4.3G  11% /run\n",
      "/dev/sdb2                      1.8T  493G  1.2T  30% /\n",
      "tmpfs                           24G  308K   24G   1% /dev/shm\n",
      "tmpfs                          5.0M     0  5.0M   0% /run/lock\n",
      "tmpfs                           24G     0   24G   0% /sys/fs/cgroup\n",
      "/dev/sdb1                      511M  3.5M  508M   1% /boot/efi\n",
      "tmpfs                          4.8G  112K  4.8G   1% /run/user/1001\n",
      "//owl.fish.washington.edu/web   51T   41T   11T  80% /home/sam/owl\n",
      "/dev/sda1                      1.9T  1.8T   44G  98% /media/sam/toaster\n"
     ]
    }
   ],
   "source": [
    "%%bash\n",
    "df -h"
   ]
  },
  {
   "cell_type": "code",
   "execution_count": 21,
   "metadata": {},
   "outputs": [
    {
     "name": "stdout",
     "output_type": "stream",
     "text": [
      "Filesystem                     Size  Used Avail Use% Mounted on\n",
      "udev                            24G     0   24G   0% /dev\n",
      "tmpfs                          4.8G  522M  4.3G  11% /run\n",
      "/dev/sdb2                      1.8T  493G  1.2T  30% /\n",
      "tmpfs                           24G  308K   24G   1% /dev/shm\n",
      "tmpfs                          5.0M     0  5.0M   0% /run/lock\n",
      "tmpfs                           24G     0   24G   0% /sys/fs/cgroup\n",
      "/dev/sdb1                      511M  3.5M  508M   1% /boot/efi\n",
      "tmpfs                          4.8G  112K  4.8G   1% /run/user/1001\n",
      "//owl.fish.washington.edu/web   51T   41T   11T  80% /home/sam/owl\n",
      "/dev/sda1                      1.9T  125M  1.9T   1% /media/sam/toaster\n"
     ]
    }
   ],
   "source": [
    "%%bash\n",
    "rm -rf /media/sam/toaster/geoduck_novaseq_meraculous_assembly/run*\n",
    "df -h"
   ]
  },
  {
   "cell_type": "code",
   "execution_count": null,
   "metadata": {
    "collapsed": true
   },
   "outputs": [],
   "source": [
    "%%bash\n",
    "cd /media/sam/toaster/geoduck_novaseq_meraculous_assembly/\n",
    "time /home/shared/meraculous-2.2.5/bin/run_meraculous.sh \\\n",
    "-dir /media/sam/toaster/geoduck_novaseq_meraculous_assembly/ \\\n",
    "-cleanup_level 2 \\\n",
    "-c /media/sam/toaster/geoduck_novaseq_meraculous_assembly/meraculous.config\n",
    "cat ~/.default-subject.mail | msmtp \"$EMAIL\""
   ]
  },
  {
   "cell_type": "code",
   "execution_count": null,
   "metadata": {
    "collapsed": true
   },
   "outputs": [],
   "source": []
  }
 ],
 "metadata": {
  "kernelspec": {
   "display_name": "Python 3",
   "language": "python",
   "name": "python3"
  },
  "language_info": {
   "codemirror_mode": {
    "name": "ipython",
    "version": 3
   },
   "file_extension": ".py",
   "mimetype": "text/x-python",
   "name": "python",
   "nbconvert_exporter": "python",
   "pygments_lexer": "ipython3",
   "version": "3.6.3"
  }
 },
 "nbformat": 4,
 "nbformat_minor": 2
}
