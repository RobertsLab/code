{
 "cells": [
  {
   "cell_type": "code",
   "execution_count": 1,
   "metadata": {},
   "outputs": [
    {
     "name": "stdout",
     "output_type": "stream",
     "text": [
      "TODAY'S DATE:\n",
      "Wed May 16 12:28:08 PDT 2018\n",
      "------------\n",
      "\n",
      "Distributor ID:\tUbuntu\n",
      "Description:\tUbuntu 16.04.4 LTS\n",
      "Release:\t16.04\n",
      "Codename:\txenial\n",
      "\n",
      "------------\n",
      "HOSTNAME: \n",
      "roadrunner\n",
      "\n",
      "------------\n",
      "Computer Specs:\n",
      "\n",
      "Architecture:          x86_64\n",
      "CPU op-mode(s):        32-bit, 64-bit\n",
      "Byte Order:            Little Endian\n",
      "CPU(s):                16\n",
      "On-line CPU(s) list:   0-15\n",
      "Thread(s) per core:    2\n",
      "Core(s) per socket:    4\n",
      "Socket(s):             2\n",
      "NUMA node(s):          1\n",
      "Vendor ID:             GenuineIntel\n",
      "CPU family:            6\n",
      "Model:                 26\n",
      "Model name:            Intel(R) Xeon(R) CPU           E5520  @ 2.27GHz\n",
      "Stepping:              5\n",
      "CPU MHz:               1596.000\n",
      "CPU max MHz:           2394.0000\n",
      "CPU min MHz:           1596.0000\n",
      "BogoMIPS:              4521.81\n",
      "Virtualization:        VT-x\n",
      "L1d cache:             32K\n",
      "L1i cache:             32K\n",
      "L2 cache:              256K\n",
      "L3 cache:              8192K\n",
      "NUMA node0 CPU(s):     0-15\n",
      "Flags:                 fpu vme de pse tsc msr pae mce cx8 apic sep mtrr pge mca cmov pat pse36 clflush dts acpi mmx fxsr sse sse2 ss ht tm pbe syscall nx rdtscp lm constant_tsc arch_perfmon pebs bts nopl xtopology nonstop_tsc aperfmperf pni dtes64 monitor ds_cpl vmx est tm2 ssse3 cx16 xtpr pdcm dca sse4_1 sse4_2 popcnt lahf_lm retpoline kaiser tpr_shadow vnmi flexpriority ept vpid dtherm ida\n",
      "\n",
      "------------\n",
      "\n",
      "Memory Specs\n",
      "\n",
      "              total        used        free      shared  buff/cache   available\n",
      "Mem:            47G        376M        295M        306M         46G         45G\n",
      "Swap:           47G        281M         47G\n"
     ]
    },
    {
     "name": "stderr",
     "output_type": "stream",
     "text": [
      "No LSB modules are available.\n"
     ]
    }
   ],
   "source": [
    "%%bash\n",
    "echo \"TODAY'S DATE:\"\n",
    "date\n",
    "echo \"------------\"\n",
    "echo \"\"\n",
    "lsb_release -a #Display operating system info\n",
    "echo \"\"\n",
    "echo \"------------\"\n",
    "echo \"HOSTNAME: \"; hostname \n",
    "echo \"\"\n",
    "echo \"------------\"\n",
    "echo \"Computer Specs:\"\n",
    "echo \"\"\n",
    "lscpu\n",
    "echo \"\"\n",
    "echo \"------------\"\n",
    "echo \"\"\n",
    "echo \"Memory Specs\"\n",
    "echo \"\"\n",
    "free -mh"
   ]
  },
  {
   "cell_type": "code",
   "execution_count": 2,
   "metadata": {},
   "outputs": [
    {
     "name": "stderr",
     "output_type": "stream",
     "text": [
      "\n",
      "real\t119m10.036s\n",
      "user\t604m40.564s\n",
      "sys\t14m19.368s\n"
     ]
    }
   ],
   "source": [
    "%%bash\n",
    "mkdir /home/sam/analyses/20180516_geoduck_EPI_fastqc\n",
    "cd /home/sam/data/geoduck_EPI\n",
    "\n",
    "time \\\n",
    "/home/shared/fastqc_v0.11.7/fastqc \\\n",
    "--outdir /home/sam/analyses/20180516_geoduck_EPI_fastqc \\\n",
    "--threads 16 \\\n",
    "EPI-103_S27_L005_R1_001.fastq.gz \\\n",
    "EPI-103_S27_L005_R2_001.fastq.gz \\\n",
    "EPI-104_S28_L005_R1_001.fastq.gz \\\n",
    "EPI-104_S28_L005_R2_001.fastq.gz \\\n",
    "EPI-111_S29_L005_R1_001.fastq.gz \\\n",
    "EPI-111_S29_L005_R2_001.fastq.gz \\\n",
    "EPI-113_S30_L005_R1_001.fastq.gz \\\n",
    "EPI-113_S30_L005_R2_001.fastq.gz \\\n",
    "EPI-119_S31_L005_R1_001.fastq.gz \\\n",
    "EPI-119_S31_L005_R2_001.fastq.gz \\\n",
    "EPI-120_S32_L005_R1_001.fastq.gz \\\n",
    "EPI-120_S32_L005_R2_001.fastq.gz \\\n",
    "EPI-127_S33_L005_R1_001.fastq.gz \\\n",
    "EPI-127_S33_L005_R2_001.fastq.gz \\\n",
    "EPI-128_S34_L005_R1_001.fastq.gz \\\n",
    "EPI-128_S34_L005_R2_001.fastq.gz \\\n",
    "EPI-135_S35_L005_R1_001.fastq.gz \\\n",
    "EPI-135_S35_L005_R2_001.fastq.gz \\\n",
    "EPI-135WG_S42_L005_R1_001.fastq.gz \\\n",
    "EPI-135WG_S42_L005_R2_001.fastq.gz \\\n",
    "EPI-136_S36_L005_R1_001.fastq.gz \\\n",
    "EPI-136_S36_L005_R2_001.fastq.gz \\\n",
    "EPI-143_S37_L005_R1_001.fastq.gz \\\n",
    "EPI-143_S37_L005_R2_001.fastq.gz \\\n",
    "EPI-145_S38_L005_R1_001.fastq.gz \\\n",
    "EPI-145_S38_L005_R2_001.fastq.gz \\\n",
    "EPI-151_S2_L002_R1_001.fastq.gz \\\n",
    "EPI-151_S2_L002_R2_001.fastq.gz \\\n",
    "EPI-152_S3_L002_R1_001.fastq.gz \\\n",
    "EPI-152_S3_L002_R2_001.fastq.gz \\\n",
    "EPI-153_S4_L002_R1_001.fastq.gz \\\n",
    "EPI-153_S4_L002_R2_001.fastq.gz \\\n",
    "EPI-154_S5_L002_R1_001.fastq.gz \\\n",
    "EPI-154_S5_L002_R2_001.fastq.gz \\\n",
    "EPI-159_S6_L002_R1_001.fastq.gz \\\n",
    "EPI-159_S6_L002_R2_001.fastq.gz \\\n",
    "EPI-160_S7_L002_R1_001.fastq.gz \\\n",
    "EPI-160_S7_L002_R2_001.fastq.gz \\\n",
    "EPI-161_S8_L002_R1_001.fastq.gz \\\n",
    "EPI-161_S8_L002_R2_001.fastq.gz \\\n",
    "EPI-162_S9_L002_R1_001.fastq.gz \\\n",
    "EPI-162_S9_L002_R2_001.fastq.gz \\\n",
    "EPI-167_S10_L002_R1_001.fastq.gz \\\n",
    "EPI-167_S10_L002_R2_001.fastq.gz \\\n",
    "EPI-168_S11_L002_R1_001.fastq.gz \\\n",
    "EPI-168_S11_L002_R2_001.fastq.gz \\\n",
    "EPI-169_S12_L002_R1_001.fastq.gz \\\n",
    "EPI-169_S12_L002_R2_001.fastq.gz \\\n",
    "EPI-170_S13_L002_R1_001.fastq.gz \\\n",
    "EPI-170_S13_L002_R2_001.fastq.gz \\\n",
    "EPI-175_S14_L003_R1_001.fastq.gz \\\n",
    "EPI-175_S14_L003_R2_001.fastq.gz \\\n",
    "EPI-176_S15_L003_R1_001.fastq.gz \\\n",
    "EPI-176_S15_L003_R2_001.fastq.gz \\\n",
    "EPI-181_S16_L003_R1_001.fastq.gz \\\n",
    "EPI-181_S16_L003_R2_001.fastq.gz \\\n",
    "EPI-182_S17_L003_R1_001.fastq.gz \\\n",
    "EPI-182_S17_L003_R2_001.fastq.gz \\\n",
    "EPI-184_S18_L003_R1_001.fastq.gz \\\n",
    "EPI-184_S18_L003_R2_001.fastq.gz \\\n",
    "EPI-185_S19_L003_R1_001.fastq.gz \\\n",
    "EPI-185_S19_L003_R2_001.fastq.gz \\\n",
    "EPI-187_S20_L003_R1_001.fastq.gz \\\n",
    "EPI-187_S20_L003_R2_001.fastq.gz \\\n",
    "EPI-188_S21_L003_R1_001.fastq.gz \\\n",
    "EPI-188_S21_L003_R2_001.fastq.gz \\\n",
    "EPI-193_S22_L003_R1_001.fastq.gz \\\n",
    "EPI-193_S22_L003_R2_001.fastq.gz \\\n",
    "EPI-194_S23_L003_R1_001.fastq.gz \\\n",
    "EPI-194_S23_L003_R2_001.fastq.gz \\\n",
    "EPI-199_S24_L003_R1_001.fastq.gz \\\n",
    "EPI-199_S24_L003_R2_001.fastq.gz \\\n",
    "EPI-200_S25_L003_R1_001.fastq.gz \\\n",
    "EPI-200_S25_L003_R2_001.fastq.gz \\\n",
    "EPI-205_S26_L004_R1_001.fastq.gz \\\n",
    "EPI-205_S26_L004_R2_001.fastq.gz \\\n",
    "EPI-206_S27_L004_R1_001.fastq.gz \\\n",
    "EPI-206_S27_L004_R2_001.fastq.gz \\\n",
    "EPI-208_S28_L004_R1_001.fastq.gz \\\n",
    "EPI-208_S28_L004_R2_001.fastq.gz \\\n",
    "EPI-209_S29_L004_R1_001.fastq.gz \\\n",
    "EPI-209_S29_L004_R2_001.fastq.gz \\\n",
    "EPI-214_S30_L004_R1_001.fastq.gz \\\n",
    "EPI-214_S30_L004_R2_001.fastq.gz \\\n",
    "EPI-215_S31_L004_R1_001.fastq.gz \\\n",
    "EPI-215_S31_L004_R2_001.fastq.gz \\\n",
    "EPI-220_S32_L004_R1_001.fastq.gz \\\n",
    "EPI-220_S32_L004_R2_001.fastq.gz \\\n",
    "EPI-221_S33_L004_R1_001.fastq.gz \\\n",
    "EPI-221_S33_L004_R2_001.fastq.gz \\\n",
    "EPI-226_S34_L004_R1_001.fastq.gz \\\n",
    "EPI-226_S34_L004_R2_001.fastq.gz \\\n",
    "EPI-227_S35_L004_R1_001.fastq.gz \\\n",
    "EPI-227_S35_L004_R2_001.fastq.gz \\\n",
    "EPI-229_S36_L004_R1_001.fastq.gz \\\n",
    "EPI-229_S36_L004_R2_001.fastq.gz \\\n",
    "EPI-230_S37_L004_R1_001.fastq.gz \\\n",
    "EPI-230_S37_L004_R2_001.fastq.gz \\\n",
    "EPI-41_S38_L005_R1_001.fastq.gz \\\n",
    "EPI-41_S38_L005_R2_001.fastq.gz \\\n",
    "EPI-42_S39_L005_R1_001.fastq.gz \\\n",
    "EPI-42_S39_L005_R2_001.fastq.gz \\\n",
    "EPI-43_S40_L005_R1_001.fastq.gz \\\n",
    "EPI-43_S40_L005_R2_001.fastq.gz \\\n",
    "EPI-44_S41_L005_R1_001.fastq.gz \\\n",
    "EPI-44_S41_L005_R2_001.fastq.gz \\\n",
    "> /home/sam/analyses/20180516_geoduck_EPI_fastqc/20180516_geo_fastqc.out \\\n",
    "2> /home/sam/analyses/20180516_geoduck_EPI_fastqc/20180516_geo_fastqc.err\n",
    "\n",
    "sed '/^Subject:/ s/ / fastqc JOB COMPLETE/' ~/.default-subject.mail | msmtp \"$EMAIL\""
   ]
  },
  {
   "cell_type": "code",
   "execution_count": 3,
   "metadata": {},
   "outputs": [
    {
     "name": "stdout",
     "output_type": "stream",
     "text": [
      "Check stdout\n",
      "Analysis complete for EPI-230_S37_L004_R1_001.fastq.gz\n",
      "Analysis complete for EPI-230_S37_L004_R2_001.fastq.gz\n",
      "Analysis complete for EPI-42_S39_L005_R1_001.fastq.gz\n",
      "Analysis complete for EPI-43_S40_L005_R1_001.fastq.gz\n",
      "Analysis complete for EPI-42_S39_L005_R2_001.fastq.gz\n",
      "Analysis complete for EPI-43_S40_L005_R2_001.fastq.gz\n",
      "Analysis complete for EPI-135WG_S42_L005_R1_001.fastq.gz\n",
      "Analysis complete for EPI-135WG_S42_L005_R2_001.fastq.gz\n",
      "Analysis complete for EPI-44_S41_L005_R1_001.fastq.gz\n",
      "Analysis complete for EPI-44_S41_L005_R2_001.fastq.gz\n",
      "--------------------------\n",
      "\n",
      "Check stderr\n",
      "Approx 80% complete for EPI-44_S41_L005_R1_001.fastq.gz\n",
      "Approx 70% complete for EPI-44_S41_L005_R2_001.fastq.gz\n",
      "Approx 85% complete for EPI-44_S41_L005_R1_001.fastq.gz\n",
      "Approx 75% complete for EPI-44_S41_L005_R2_001.fastq.gz\n",
      "Approx 90% complete for EPI-44_S41_L005_R1_001.fastq.gz\n",
      "Approx 80% complete for EPI-44_S41_L005_R2_001.fastq.gz\n",
      "Approx 95% complete for EPI-44_S41_L005_R1_001.fastq.gz\n",
      "Approx 85% complete for EPI-44_S41_L005_R2_001.fastq.gz\n",
      "Approx 90% complete for EPI-44_S41_L005_R2_001.fastq.gz\n",
      "Approx 95% complete for EPI-44_S41_L005_R2_001.fastq.gz\n"
     ]
    }
   ],
   "source": [
    "%%bash\n",
    "echo \"Check stdout\"\n",
    "tail /home/sam/analyses/20180516_geoduck_EPI_fastqc/20180516_geo_fastqc.out\n",
    "\n",
    "echo \"--------------------------\"\n",
    "echo \"\"\n",
    "echo \"Check stderr\"\n",
    "tail /home/sam/analyses/20180516_geoduck_EPI_fastqc/20180516_geo_fastqc.err"
   ]
  },
  {
   "cell_type": "code",
   "execution_count": 4,
   "metadata": {},
   "outputs": [
    {
     "name": "stdout",
     "output_type": "stream",
     "text": [
      "Searching 214 files..\n"
     ]
    },
    {
     "name": "stderr",
     "output_type": "stream",
     "text": [
      "[INFO   ]         multiqc : This is MultiQC v1.5.dev0\n",
      "[INFO   ]         multiqc : Template    : default\n",
      "[INFO   ]         multiqc : Searching '.'\n",
      "[INFO   ]          fastqc : Found 106 reports\n",
      "[INFO   ]         multiqc : Compressing plot data\n",
      "[INFO   ]         multiqc : Report      : multiqc_report.html\n",
      "[INFO   ]         multiqc : Data        : multiqc_data\n",
      "[INFO   ]         multiqc : MultiQC complete\n"
     ]
    }
   ],
   "source": [
    "%%bash\n",
    "cd /home/sam/analyses/20180516_geoduck_EPI_fastqc\n",
    "\n",
    "/home/shared/anaconda3/bin/multiqc .\n",
    "\n",
    "mv /home/sam/analyses/20180516_geoduck_EPI_fastqc/multiqc_report.html \\\n",
    "/home/sam/analyses/20180516_geoduck_EPI_fastqc/multiqc_data"
   ]
  },
  {
   "cell_type": "code",
   "execution_count": 5,
   "metadata": {},
   "outputs": [
    {
     "name": "stdout",
     "output_type": "stream",
     "text": [
      "mqc_fastqc_adapter_content_plot_1.txt\n",
      "mqc_fastqc_overrepresented_sequencesi_plot_1.txt\n",
      "mqc_fastqc_per_base_n_content_plot_1.txt\n",
      "mqc_fastqc_per_base_sequence_quality_plot_1.txt\n",
      "mqc_fastqc_per_sequence_gc_content_plot_Counts.txt\n",
      "mqc_fastqc_per_sequence_gc_content_plot_Percentages.txt\n",
      "mqc_fastqc_per_sequence_quality_scores_plot_1.txt\n",
      "mqc_fastqc_sequence_duplication_levels_plot_1.txt\n",
      "multiqc_data.json\n",
      "multiqc_fastqc.txt\n",
      "multiqc_general_stats.txt\n",
      "multiqc.log\n",
      "multiqc_report.html\n",
      "multiqc_sources.txt\n"
     ]
    }
   ],
   "source": [
    "%%bash\n",
    "ls /home/sam/analyses/20180516_geoduck_EPI_fastqc/multiqc_data"
   ]
  },
  {
   "cell_type": "code",
   "execution_count": 6,
   "metadata": {},
   "outputs": [
    {
     "name": "stdout",
     "output_type": "stream",
     "text": [
      "mqc_fastqc_adapter_content_plot_1.txt\n",
      "mqc_fastqc_overrepresented_sequencesi_plot_1.txt\n",
      "mqc_fastqc_per_base_n_content_plot_1.txt\n",
      "mqc_fastqc_per_base_sequence_quality_plot_1.txt\n",
      "mqc_fastqc_per_sequence_gc_content_plot_Counts.txt\n",
      "mqc_fastqc_per_sequence_gc_content_plot_Percentages.txt\n",
      "mqc_fastqc_per_sequence_quality_scores_plot_1.txt\n",
      "mqc_fastqc_sequence_duplication_levels_plot_1.txt\n",
      "multiqc_data.json\n",
      "multiqc_fastqc.txt\n",
      "multiqc_general_stats.txt\n",
      "multiqc.log\n",
      "multiqc_report.html\n",
      "multiqc_sources.txt\n"
     ]
    }
   ],
   "source": [
    "%%bash\n",
    "ls /mnt/owl/Athaliana/20180516_geoduck_EPI_fastqc/multiqc_data/"
   ]
  },
  {
   "cell_type": "code",
   "execution_count": null,
   "metadata": {
    "collapsed": true
   },
   "outputs": [],
   "source": []
  }
 ],
 "metadata": {
  "kernelspec": {
   "display_name": "Python 3",
   "language": "python",
   "name": "python3"
  },
  "language_info": {
   "codemirror_mode": {
    "name": "ipython",
    "version": 3
   },
   "file_extension": ".py",
   "mimetype": "text/x-python",
   "name": "python",
   "nbconvert_exporter": "python",
   "pygments_lexer": "ipython3",
   "version": "3.6.3"
  }
 },
 "nbformat": 4,
 "nbformat_minor": 2
}
