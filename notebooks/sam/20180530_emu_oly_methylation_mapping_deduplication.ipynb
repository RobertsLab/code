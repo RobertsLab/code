{
 "cells": [
  {
   "cell_type": "code",
   "execution_count": 1,
   "metadata": {
    "collapsed": false
   },
   "outputs": [
    {
     "name": "stdout",
     "output_type": "stream",
     "text": [
      "TODAY'S DATE\n",
      "Wed May 30 12:15:30 PDT 2018\n",
      "------------\n",
      "\n",
      "Distributor ID:\tUbuntu\n",
      "Description:\tUbuntu 16.04.4 LTS\n",
      "Release:\t16.04\n",
      "Codename:\txenial\n",
      "\n",
      "------------\n",
      "HOSTNAME: \n",
      "emu\n",
      "\n",
      "------------\n",
      "Computer Specs:\n",
      "\n",
      "Architecture:          x86_64\n",
      "CPU op-mode(s):        32-bit, 64-bit\n",
      "Byte Order:            Little Endian\n",
      "CPU(s):                16\n",
      "On-line CPU(s) list:   0-15\n",
      "Thread(s) per core:    2\n",
      "Core(s) per socket:    4\n",
      "Socket(s):             2\n",
      "NUMA node(s):          1\n",
      "Vendor ID:             GenuineIntel\n",
      "CPU family:            6\n",
      "Model:                 26\n",
      "Model name:            Intel(R) Xeon(R) CPU           E5520  @ 2.27GHz\n",
      "Stepping:              5\n",
      "CPU MHz:               2394.000\n",
      "CPU max MHz:           2394.0000\n",
      "CPU min MHz:           1596.0000\n",
      "BogoMIPS:              4521.81\n",
      "Virtualization:        VT-x\n",
      "L1d cache:             32K\n",
      "L1i cache:             32K\n",
      "L2 cache:              256K\n",
      "L3 cache:              8192K\n",
      "NUMA node0 CPU(s):     0-15\n",
      "Flags:                 fpu vme de pse tsc msr pae mce cx8 apic sep mtrr pge mca cmov pat pse36 clflush dts acpi mmx fxsr sse sse2 ss ht tm pbe syscall nx rdtscp lm constant_tsc arch_perfmon pebs bts nopl xtopology nonstop_tsc aperfmperf pni dtes64 monitor ds_cpl vmx est tm2 ssse3 cx16 xtpr pdcm dca sse4_1 sse4_2 popcnt lahf_lm tpr_shadow vnmi flexpriority ept vpid dtherm ida\n",
      "\n",
      "------------\n",
      "\n",
      "Memory Specs\n",
      "\n",
      "              total        used        free      shared  buff/cache   available\n",
      "Mem:            47G        552M         40G        258M        6.0G         45G\n",
      "Swap:           11G          0B         11G\n"
     ]
    },
    {
     "name": "stderr",
     "output_type": "stream",
     "text": [
      "No LSB modules are available.\n"
     ]
    }
   ],
   "source": [
    "%%bash\n",
    "echo \"TODAY'S DATE\"\n",
    "date\n",
    "echo \"------------\"\n",
    "echo \"\"\n",
    "lsb_release -a\n",
    "echo \"\"\n",
    "echo \"------------\"\n",
    "echo \"HOSTNAME: \"\n",
    "hostname\n",
    "echo \"\"\n",
    "echo \"------------\"\n",
    "echo \"Computer Specs:\"\n",
    "echo \"\"\n",
    "lscpu\n",
    "echo \"\"\n",
    "echo \"------------\"\n",
    "echo \"\"\n",
    "echo \"Memory Specs\"\n",
    "echo \"\"\n",
    "free -mh"
   ]
  },
  {
   "cell_type": "code",
   "execution_count": 2,
   "metadata": {
    "collapsed": false
   },
   "outputs": [
    {
     "name": "stdout",
     "output_type": "stream",
     "text": [
      "1_ATCACG_L001_R1_001_trimmed_bismark_bt2.bam\n",
      "1_ATCACG_L001_R1_001_trimmed_bismark_bt2_SE_report.txt\n",
      "20180507_bismark_01.err\n",
      "20180507_bismark_02.err\n",
      "2_CGATGT_L001_R1_001_trimmed_bismark_bt2.bam\n",
      "2_CGATGT_L001_R1_001_trimmed_bismark_bt2_SE_report.txt\n",
      "3_TTAGGC_L001_R1_001_trimmed_bismark_bt2.bam\n",
      "3_TTAGGC_L001_R1_001_trimmed_bismark_bt2_SE_report.txt\n",
      "4_TGACCA_L001_R1_001_trimmed_bismark_bt2.bam\n",
      "4_TGACCA_L001_R1_001_trimmed_bismark_bt2_SE_report.txt\n",
      "5_ACAGTG_L001_R1_001_trimmed_bismark_bt2.bam\n",
      "5_ACAGTG_L001_R1_001_trimmed_bismark_bt2_SE_report.txt\n",
      "6_GCCAAT_L001_R1_001_trimmed_bismark_bt2.bam\n",
      "6_GCCAAT_L001_R1_001_trimmed_bismark_bt2_SE_report.txt\n",
      "7_CAGATC_L001_R1_001_trimmed_bismark_bt2.bam\n",
      "7_CAGATC_L001_R1_001_trimmed_bismark_bt2_SE_report.txt\n",
      "8_ACTTGA_L001_R1_001_trimmed_bismark_bt2.bam\n",
      "8_ACTTGA_L001_R1_001_trimmed_bismark_bt2_SE_report.txt\n",
      "zr1394_10_s456_trimmed_bismark_bt2.bam\n",
      "zr1394_10_s456_trimmed_bismark_bt2_SE_report.txt\n",
      "zr1394_11_s456_trimmed_bismark_bt2.bam\n",
      "zr1394_11_s456_trimmed_bismark_bt2_SE_report.txt\n",
      "zr1394_12_s456_trimmed_bismark_bt2.bam\n",
      "zr1394_12_s456_trimmed_bismark_bt2_SE_report.txt\n",
      "zr1394_13_s456_trimmed_bismark_bt2.bam\n",
      "zr1394_13_s456_trimmed_bismark_bt2_SE_report.txt\n",
      "zr1394_14_s456_trimmed_bismark_bt2.bam\n",
      "zr1394_14_s456_trimmed_bismark_bt2_SE_report.txt\n",
      "zr1394_15_s456_trimmed_bismark_bt2.bam\n",
      "zr1394_15_s456_trimmed_bismark_bt2_SE_report.txt\n",
      "zr1394_16_s456_trimmed_bismark_bt2.bam\n",
      "zr1394_16_s456_trimmed_bismark_bt2_SE_report.txt\n",
      "zr1394_17_s456_trimmed_bismark_bt2.bam\n",
      "zr1394_17_s456_trimmed_bismark_bt2_SE_report.txt\n",
      "zr1394_18_s456_trimmed_bismark_bt2.bam\n",
      "zr1394_18_s456_trimmed_bismark_bt2_SE_report.txt\n",
      "zr1394_1_s456_trimmed_bismark_bt2.bam\n",
      "zr1394_1_s456_trimmed_bismark_bt2_SE_report.txt\n",
      "zr1394_2_s456_trimmed_bismark_bt2.bam\n",
      "zr1394_2_s456_trimmed_bismark_bt2_SE_report.txt\n",
      "zr1394_3_s456_trimmed_bismark_bt2.bam\n",
      "zr1394_3_s456_trimmed_bismark_bt2_SE_report.txt\n",
      "zr1394_4_s456_trimmed_bismark_bt2.bam\n",
      "zr1394_4_s456_trimmed_bismark_bt2_SE_report.txt\n",
      "zr1394_5_s456_trimmed_bismark_bt2.bam\n",
      "zr1394_5_s456_trimmed_bismark_bt2_SE_report.txt\n",
      "zr1394_6_s456_trimmed_bismark_bt2.bam\n",
      "zr1394_6_s456_trimmed_bismark_bt2_SE_report.txt\n",
      "zr1394_7_s456_trimmed_bismark_bt2.bam\n",
      "zr1394_7_s456_trimmed_bismark_bt2_SE_report.txt\n",
      "zr1394_8_s456_trimmed_bismark_bt2.bam\n",
      "zr1394_8_s456_trimmed_bismark_bt2_SE_report.txt\n",
      "zr1394_9_s456_trimmed_bismark_bt2.bam\n",
      "zr1394_9_s456_trimmed_bismark_bt2_SE_report.txt\n"
     ]
    }
   ],
   "source": [
    "%%bash\n",
    "ls /home/sam/analyses/20180507_oly_methylseq_bismark/"
   ]
  },
  {
   "cell_type": "code",
   "execution_count": 3,
   "metadata": {
    "collapsed": false
   },
   "outputs": [
    {
     "name": "stderr",
     "output_type": "stream",
     "text": [
      "bash: line 5: /home/shared/Bismark-0.19.1/deduplicate_bismark/20180531_dedup_stdout.txt: Not a directory\n",
      "\n",
      "real\t0m0.001s\n",
      "user\t0m0.000s\n",
      "sys\t0m0.000s\n"
     ]
    }
   ],
   "source": [
    "%%bash\n",
    "mkdir /home/sam/analyses/20180531_oly_bismark_deduplication\n",
    "\n",
    "time \\\n",
    "/home/shared/Bismark-0.19.1/deduplicate_bismark \\\n",
    "--single \\\n",
    "--bam \\\n",
    "--samtools_path /home/shared/samtools-1.8/samtools \\\n",
    "--output_dir /home/sam/analyses/20180531_oly_bismark_deduplication \\\n",
    "/home/sam/analyses/20180531_oly_bismark_deduplication/*.bam \\\n",
    "1> /home/shared/Bismark-0.19.1/deduplicate_bismark/20180531_dedup_stdout.txt \\\n",
    "2> /home/shared/Bismark-0.19.1/deduplicate_bismark/20180531_dedup_stederr.txt\n",
    "\n",
    "sed '/^Subject:/ s/ / deduplication JOB COMPLETE/' ~/.default-subject.mail | msmtp \"$EMAIL\""
   ]
  },
  {
   "cell_type": "code",
   "execution_count": 4,
   "metadata": {
    "collapsed": false
   },
   "outputs": [
    {
     "name": "stderr",
     "output_type": "stream",
     "text": [
      "mkdir: cannot create directory ‘/home/sam/analyses/20180531_oly_bismark_deduplication’: File exists\n",
      "bash: line 5: /home/shared/Bismark-0.19.1/deduplicate_bismark/20180531_dedup_stdout.txt: Not a directory\n",
      "\n",
      "real\t0m0.001s\n",
      "user\t0m0.000s\n",
      "sys\t0m0.000s\n"
     ]
    }
   ],
   "source": [
    "%%bash\n",
    "mkdir /home/sam/analyses/20180531_oly_bismark_deduplication\n",
    "\n",
    "time \\\n",
    "/home/shared/Bismark-0.19.1/deduplicate_bismark \\\n",
    "--single \\\n",
    "--bam \\\n",
    "--samtools_path /home/shared/samtools-1.8/samtools \\\n",
    "--output_dir /home/sam/analyses/20180531_oly_bismark_deduplication \\\n",
    "/home/sam/analyses/20180507_oly_methylseq_bismark/*.bam \\\n",
    "1> /home/shared/Bismark-0.19.1/deduplicate_bismark/20180531_dedup_stdout.txt \\\n",
    "2> /home/shared/Bismark-0.19.1/deduplicate_bismark/20180531_dedup_stederr.txt\n",
    "\n",
    "sed '/^Subject:/ s/ / deduplication JOB COMPLETE/' ~/.default-subject.mail | msmtp \"$EMAIL\""
   ]
  },
  {
   "cell_type": "code",
   "execution_count": 5,
   "metadata": {
    "collapsed": false
   },
   "outputs": [
    {
     "name": "stderr",
     "output_type": "stream",
     "text": [
      "\n",
      "real\t6m49.106s\n",
      "user\t9m58.688s\n",
      "sys\t0m13.152s\n"
     ]
    }
   ],
   "source": [
    "%%bash\n",
    "\n",
    "time \\\n",
    "/home/shared/Bismark-0.19.1/deduplicate_bismark \\\n",
    "--single \\\n",
    "--bam \\\n",
    "--samtools_path /home/shared/samtools-1.8/samtools \\\n",
    "--output_dir /home/sam/analyses/20180531_oly_bismark_deduplication \\\n",
    "/home/sam/analyses/20180507_oly_methylseq_bismark/*.bam \\\n",
    "1> /home/sam/analyses/20180531_oly_bismark_deduplication/20180531_dedup_stdout.txt \\\n",
    "2> /home/sam/analyses/20180531_oly_bismark_deduplication/20180531_dedup_stederr.txt\n",
    "\n",
    "sed '/^Subject:/ s/ / deduplication JOB COMPLETE/' ~/.default-subject.mail | msmtp \"$EMAIL\""
   ]
  },
  {
   "cell_type": "code",
   "execution_count": 6,
   "metadata": {
    "collapsed": false
   },
   "outputs": [
    {
     "name": "stdout",
     "output_type": "stream",
     "text": [
      "1_ATCACG_L001_R1_001_trimmed_bismark_bt2.deduplicated.bam\n",
      "1_ATCACG_L001_R1_001_trimmed_bismark_bt2.deduplication_report.txt\n",
      "20180531_dedup_stdout.txt\n",
      "20180531_dedup_stederr.txt\n",
      "2_CGATGT_L001_R1_001_trimmed_bismark_bt2.deduplicated.bam\n",
      "2_CGATGT_L001_R1_001_trimmed_bismark_bt2.deduplication_report.txt\n",
      "3_TTAGGC_L001_R1_001_trimmed_bismark_bt2.deduplicated.bam\n",
      "3_TTAGGC_L001_R1_001_trimmed_bismark_bt2.deduplication_report.txt\n",
      "4_TGACCA_L001_R1_001_trimmed_bismark_bt2.deduplicated.bam\n",
      "4_TGACCA_L001_R1_001_trimmed_bismark_bt2.deduplication_report.txt\n",
      "5_ACAGTG_L001_R1_001_trimmed_bismark_bt2.deduplicated.bam\n",
      "5_ACAGTG_L001_R1_001_trimmed_bismark_bt2.deduplication_report.txt\n",
      "6_GCCAAT_L001_R1_001_trimmed_bismark_bt2.deduplicated.bam\n",
      "6_GCCAAT_L001_R1_001_trimmed_bismark_bt2.deduplication_report.txt\n",
      "7_CAGATC_L001_R1_001_trimmed_bismark_bt2.deduplicated.bam\n",
      "7_CAGATC_L001_R1_001_trimmed_bismark_bt2.deduplication_report.txt\n",
      "8_ACTTGA_L001_R1_001_trimmed_bismark_bt2.deduplicated.bam\n",
      "8_ACTTGA_L001_R1_001_trimmed_bismark_bt2.deduplication_report.txt\n",
      "zr1394_10_s456_trimmed_bismark_bt2.deduplicated.bam\n",
      "zr1394_10_s456_trimmed_bismark_bt2.deduplication_report.txt\n",
      "zr1394_11_s456_trimmed_bismark_bt2.deduplicated.bam\n",
      "zr1394_11_s456_trimmed_bismark_bt2.deduplication_report.txt\n",
      "zr1394_12_s456_trimmed_bismark_bt2.deduplicated.bam\n",
      "zr1394_12_s456_trimmed_bismark_bt2.deduplication_report.txt\n",
      "zr1394_13_s456_trimmed_bismark_bt2.deduplicated.bam\n",
      "zr1394_13_s456_trimmed_bismark_bt2.deduplication_report.txt\n",
      "zr1394_14_s456_trimmed_bismark_bt2.deduplicated.bam\n",
      "zr1394_14_s456_trimmed_bismark_bt2.deduplication_report.txt\n",
      "zr1394_15_s456_trimmed_bismark_bt2.deduplicated.bam\n",
      "zr1394_15_s456_trimmed_bismark_bt2.deduplication_report.txt\n",
      "zr1394_16_s456_trimmed_bismark_bt2.deduplicated.bam\n",
      "zr1394_16_s456_trimmed_bismark_bt2.deduplication_report.txt\n",
      "zr1394_17_s456_trimmed_bismark_bt2.deduplicated.bam\n",
      "zr1394_17_s456_trimmed_bismark_bt2.deduplication_report.txt\n",
      "zr1394_18_s456_trimmed_bismark_bt2.deduplicated.bam\n",
      "zr1394_18_s456_trimmed_bismark_bt2.deduplication_report.txt\n",
      "zr1394_1_s456_trimmed_bismark_bt2.deduplicated.bam\n",
      "zr1394_1_s456_trimmed_bismark_bt2.deduplication_report.txt\n",
      "zr1394_2_s456_trimmed_bismark_bt2.deduplicated.bam\n",
      "zr1394_2_s456_trimmed_bismark_bt2.deduplication_report.txt\n",
      "zr1394_3_s456_trimmed_bismark_bt2.deduplicated.bam\n",
      "zr1394_3_s456_trimmed_bismark_bt2.deduplication_report.txt\n",
      "zr1394_4_s456_trimmed_bismark_bt2.deduplicated.bam\n",
      "zr1394_4_s456_trimmed_bismark_bt2.deduplication_report.txt\n",
      "zr1394_5_s456_trimmed_bismark_bt2.deduplicated.bam\n",
      "zr1394_5_s456_trimmed_bismark_bt2.deduplication_report.txt\n",
      "zr1394_6_s456_trimmed_bismark_bt2.deduplicated.bam\n",
      "zr1394_6_s456_trimmed_bismark_bt2.deduplication_report.txt\n",
      "zr1394_7_s456_trimmed_bismark_bt2.deduplicated.bam\n",
      "zr1394_7_s456_trimmed_bismark_bt2.deduplication_report.txt\n",
      "zr1394_8_s456_trimmed_bismark_bt2.deduplicated.bam\n",
      "zr1394_8_s456_trimmed_bismark_bt2.deduplication_report.txt\n",
      "zr1394_9_s456_trimmed_bismark_bt2.deduplicated.bam\n",
      "zr1394_9_s456_trimmed_bismark_bt2.deduplication_report.txt\n"
     ]
    }
   ],
   "source": [
    "%%bash\n",
    "\n",
    "ls /home/sam/analyses/20180531_oly_bismark_deduplication"
   ]
  },
  {
   "cell_type": "code",
   "execution_count": 7,
   "metadata": {
    "collapsed": false
   },
   "outputs": [
    {
     "name": "stdout",
     "output_type": "stream",
     "text": [
      "\n",
      "Output file is: zr1394_9_s456_trimmed_bismark_bt2.deduplicated.bam\n",
      "\n",
      "\n",
      "Total number of alignments analysed in /home/sam/analyses/20180507_oly_methylseq_bismark/zr1394_9_s456_trimmed_bismark_bt2.bam:\t345938\n",
      "Total number duplicated alignments removed:\t9557 (2.76%)\n",
      "Duplicated alignments were found at:\t7288 different position(s)\n",
      "\n",
      "Total count of deduplicated leftover sequences: 336381 (97.24% of total)\n",
      "\n"
     ]
    }
   ],
   "source": [
    "%%bash\n",
    "tail /home/sam/analyses/20180531_oly_bismark_deduplication/20180531_dedup_stederr.txt"
   ]
  },
  {
   "cell_type": "code",
   "execution_count": 8,
   "metadata": {
    "collapsed": false
   },
   "outputs": [
    {
     "name": "stdout",
     "output_type": "stream",
     "text": [
      "skipping header line:\t@SQ\tSN:Contig696937\tLN:102\n",
      "skipping header line:\t@SQ\tSN:Contig696938\tLN:104\n",
      "skipping header line:\t@SQ\tSN:Contig696939\tLN:221\n",
      "skipping header line:\t@SQ\tSN:Contig696940\tLN:107\n",
      "skipping header line:\t@SQ\tSN:Contig696941\tLN:107\n",
      "skipping header line:\t@SQ\tSN:Contig696942\tLN:160\n",
      "skipping header line:\t@SQ\tSN:Contig696943\tLN:108\n",
      "skipping header line:\t@SQ\tSN:Contig696944\tLN:127\n",
      "skipping header line:\t@SQ\tSN:Contig696945\tLN:171\n",
      "skipping header line:\t@PG\tID:Bismark\tVN:v0.19.1\tCL:\"bismark --path_to_bowtie /home/shared/bowtie2-2.3.4.1-linux-x86_64/ --genome /home/sam/data/oly_methylseq/oly_genome/ -u 1000000 -p 16 --non_directional /home/sam/analyses/20180503_oly_methylseq_trimgalore/1_ATCACG_L001_R1_001_trimmed.fq.gz /home/sam/analyses/20180503_oly_methylseq_trimgalore/2_CGATGT_L001_R1_001_trimmed.fq.gz /home/sam/analyses/20180503_oly_methylseq_trimgalore/3_TTAGGC_L001_R1_001_trimmed.fq.gz /home/sam/analyses/20180503_oly_methylseq_trimgalore/4_TGACCA_L001_R1_001_trimmed.fq.gz /home/sam/analyses/20180503_oly_methylseq_trimgalore/5_ACAGTG_L001_R1_001_trimmed.fq.gz /home/sam/analyses/20180503_oly_methylseq_trimgalore/6_GCCAAT_L001_R1_001_trimmed.fq.gz /home/sam/analyses/20180503_oly_methylseq_trimgalore/7_CAGATC_L001_R1_001_trimmed.fq.gz /home/sam/analyses/20180503_oly_methylseq_trimgalore/8_ACTTGA_L001_R1_001_trimmed.fq.gz /home/sam/analyses/20180503_oly_methylseq_trimgalore/zr1394_10_s456_trimmed.fq.gz /home/sam/analyses/20180503_oly_methylseq_trimgalore/zr1394_11_s456_trimmed.fq.gz /home/sam/analyses/20180503_oly_methylseq_trimgalore/zr1394_12_s456_trimmed.fq.gz /home/sam/analyses/20180503_oly_methylseq_trimgalore/zr1394_13_s456_trimmed.fq.gz /home/sam/analyses/20180503_oly_methylseq_trimgalore/zr1394_14_s456_trimmed.fq.gz /home/sam/analyses/20180503_oly_methylseq_trimgalore/zr1394_15_s456_trimmed.fq.gz /home/sam/analyses/20180503_oly_methylseq_trimgalore/zr1394_16_s456_trimmed.fq.gz /home/sam/analyses/20180503_oly_methylseq_trimgalore/zr1394_17_s456_trimmed.fq.gz /home/sam/analyses/20180503_oly_methylseq_trimgalore/zr1394_18_s456_trimmed.fq.gz /home/sam/analyses/20180503_oly_methylseq_trimgalore/zr1394_1_s456_trimmed.fq.gz /home/sam/analyses/20180503_oly_methylseq_trimgalore/zr1394_2_s456_trimmed.fq.gz /home/sam/analyses/20180503_oly_methylseq_trimgalore/zr1394_3_s456_trimmed.fq.gz /home/sam/analyses/20180503_oly_methylseq_trimgalore/zr1394_4_s456_trimmed.fq.gz /home/sam/analyses/20180503_oly_methylseq_trimgalore/zr1394_5_s456_trimmed.fq.gz /home/sam/analyses/20180503_oly_methylseq_trimgalore/zr1394_6_s456_trimmed.fq.gz /home/sam/analyses/20180503_oly_methylseq_trimgalore/zr1394_7_s456_trimmed.fq.gz /home/sam/analyses/20180503_oly_methylseq_trimgalore/zr1394_8_s456_trimmed.fq.gz /home/sam/analyses/20180503_oly_methylseq_trimgalore/zr1394_9_s456_trimmed.fq.gz\"\n"
     ]
    }
   ],
   "source": [
    "%%bash\n",
    "tail /home/sam/analyses/20180531_oly_bismark_deduplication/20180531_dedup_stdout.txt"
   ]
  },
  {
   "cell_type": "code",
   "execution_count": 9,
   "metadata": {
    "collapsed": false
   },
   "outputs": [
    {
     "name": "stderr",
     "output_type": "stream",
     "text": [
      "bash: line 13: unexpected EOF while looking for matching `\"'\n",
      "bash: line 14: syntax error: unexpected end of file\n"
     ]
    }
   ],
   "source": [
    "%%bash\n",
    "suffix=\"_trimmed_bismark_bt2.deduplicated.bam\"\n",
    "\n",
    "cd /home/sam/analyses/20180531_oly_bismark_deduplication/\n",
    "\n",
    "time \\\n",
    "find . -name \"*deduplicated.bam\" \\\n",
    "| xargs basename -s \"$suffix\" \\\n",
    "| xargs -I {} /home/shared/samtools-1.8/samtools \\\n",
    "sort {}\"$suffix\"\" \\\n",
    "-o {}_dedup.sorted.bam \\\n",
    "2> 20180531_samtools_stderr.txt\n",
    "\n",
    "sed '/^Subject:/ s/ / samtools sorting JOB COMPLETE/' ~/.default-subject.mail | msmtp \"$EMAIL\""
   ]
  },
  {
   "cell_type": "code",
   "execution_count": 10,
   "metadata": {
    "collapsed": false
   },
   "outputs": [
    {
     "name": "stderr",
     "output_type": "stream",
     "text": [
      "bash: line 13: unexpected EOF while looking for matching `\"'\n",
      "bash: line 14: syntax error: unexpected end of file\n"
     ]
    }
   ],
   "source": [
    "%%bash\n",
    "suffix=\"_trimmed_bismark_bt2.deduplicated.bam\"\n",
    "\n",
    "cd /home/sam/analyses/20180531_oly_bismark_deduplication/\n",
    "\n",
    "time \\\n",
    "find . -name \"*deduplicated.bam\" \\\n",
    "| xargs basename -s \"$suffix\" \\\n",
    "| xargs -I{} /home/shared/samtools-1.8/samtools \\\n",
    "sort {}\"$suffix\"\" \\\n",
    "-o {}_dedup.sorted.bam \\\n",
    "2> 20180531_samtools_stderr.txt\n",
    "\n",
    "sed '/^Subject:/ s/ / samtools sorting JOB COMPLETE/' ~/.default-subject.mail | msmtp \"$EMAIL\""
   ]
  },
  {
   "cell_type": "markdown",
   "metadata": {},
   "source": [
    "Figured it out! Got jacked up by the autocompletion feature when typing parenthese or quotes! There's an extra \" in the ```sort``` line!! "
   ]
  },
  {
   "cell_type": "code",
   "execution_count": 11,
   "metadata": {
    "collapsed": false
   },
   "outputs": [
    {
     "name": "stderr",
     "output_type": "stream",
     "text": [
      "\n",
      "real\t5m39.963s\n",
      "user\t5m28.912s\n",
      "sys\t0m2.168s\n"
     ]
    }
   ],
   "source": [
    "%%bash\n",
    "suffix=\"_trimmed_bismark_bt2.deduplicated.bam\"\n",
    "\n",
    "cd /home/sam/analyses/20180531_oly_bismark_deduplication/\n",
    "\n",
    "time \\\n",
    "find . -name \"*deduplicated.bam\" \\\n",
    "| xargs basename -s \"$suffix\" \\\n",
    "| xargs -I{} /home/shared/samtools-1.8/samtools \\\n",
    "sort {}\"$suffix\" \\\n",
    "-o {}_dedup.sorted.bam \\\n",
    "2> 20180531_samtools_stderr.txt\n",
    "\n",
    "sed '/^Subject:/ s/ / samtools sorting JOB COMPLETE/' ~/.default-subject.mail | msmtp \"$EMAIL\""
   ]
  },
  {
   "cell_type": "code",
   "execution_count": 12,
   "metadata": {
    "collapsed": false
   },
   "outputs": [
    {
     "name": "stdout",
     "output_type": "stream",
     "text": [
      "-rw-rw-r-- 1 sam sam 25197027 May 30 13:53 zr1394_5_s456_dedup.sorted.bam\n",
      "-rw-rw-r-- 1 sam sam 23630948 May 30 13:53 zr1394_4_s456_dedup.sorted.bam\n",
      "-rw-rw-r-- 1 sam sam 31590476 May 30 13:54 4_TGACCA_L001_R1_001_dedup.sorted.bam\n",
      "-rw-rw-r-- 1 sam sam 31307068 May 30 13:54 2_CGATGT_L001_R1_001_dedup.sorted.bam\n",
      "-rw-rw-r-- 1 sam sam 23768268 May 30 13:54 zr1394_8_s456_dedup.sorted.bam\n",
      "-rw-rw-r-- 1 sam sam 31150179 May 30 13:54 8_ACTTGA_L001_R1_001_dedup.sorted.bam\n",
      "-rw-rw-r-- 1 sam sam 24494495 May 30 13:55 zr1394_2_s456_dedup.sorted.bam\n",
      "-rw-rw-r-- 1 sam sam 31543876 May 30 13:55 1_ATCACG_L001_R1_001_dedup.sorted.bam\n",
      "-rw-rw-r-- 1 sam sam 22976097 May 30 13:55 zr1394_17_s456_dedup.sorted.bam\n",
      "-rw-rw-r-- 1 sam sam 21297219 May 30 13:55 zr1394_11_s456_dedup.sorted.bam\n",
      "-rw-rw-r-- 1 sam sam 31321161 May 30 13:55 3_TTAGGC_L001_R1_001_dedup.sorted.bam\n",
      "-rw-rw-r-- 1 sam sam 23793528 May 30 13:56 zr1394_1_s456_dedup.sorted.bam\n",
      "-rw-rw-r-- 1 sam sam 22115792 May 30 13:56 zr1394_15_s456_dedup.sorted.bam\n",
      "-rw-rw-r-- 1 sam sam 22004950 May 30 13:56 zr1394_16_s456_dedup.sorted.bam\n",
      "-rw-rw-r-- 1 sam sam 22996512 May 30 13:56 zr1394_13_s456_dedup.sorted.bam\n",
      "-rw-rw-r-- 1 sam sam 31198018 May 30 13:56 5_ACAGTG_L001_R1_001_dedup.sorted.bam\n",
      "-rw-rw-r-- 1 sam sam 31051100 May 30 13:57 6_GCCAAT_L001_R1_001_dedup.sorted.bam\n",
      "-rw-rw-r-- 1 sam sam 25355389 May 30 13:57 zr1394_12_s456_dedup.sorted.bam\n",
      "-rw-rw-r-- 1 sam sam 24664288 May 30 13:57 zr1394_9_s456_dedup.sorted.bam\n",
      "-rw-rw-r-- 1 sam sam 24698718 May 30 13:57 zr1394_18_s456_dedup.sorted.bam\n",
      "-rw-rw-r-- 1 sam sam 23071669 May 30 13:58 zr1394_10_s456_dedup.sorted.bam\n",
      "-rw-rw-r-- 1 sam sam 23713220 May 30 13:58 zr1394_7_s456_dedup.sorted.bam\n",
      "-rw-rw-r-- 1 sam sam 31467088 May 30 13:58 7_CAGATC_L001_R1_001_dedup.sorted.bam\n",
      "-rw-rw-r-- 1 sam sam 23521567 May 30 13:58 zr1394_3_s456_dedup.sorted.bam\n",
      "-rw-rw-r-- 1 sam sam 22265093 May 30 13:58 zr1394_14_s456_dedup.sorted.bam\n",
      "-rw-rw-r-- 1 sam sam 25365395 May 30 13:59 zr1394_6_s456_dedup.sorted.bam\n"
     ]
    }
   ],
   "source": [
    "%%bash\n",
    "cd /home/sam/analyses/20180531_oly_bismark_deduplication/\n",
    "\n",
    "ls -ltr *sorted.bam"
   ]
  },
  {
   "cell_type": "markdown",
   "metadata": {},
   "source": [
    "Had to use ```sudo``` to copy to owl, so copied outside of notebook."
   ]
  },
  {
   "cell_type": "code",
   "execution_count": 13,
   "metadata": {
    "collapsed": false
   },
   "outputs": [
    {
     "name": "stdout",
     "output_type": "stream",
     "text": [
      "total 2.1G\n",
      "-rw-rw-r-- 1 sam users  31M May 30 13:55 1_ATCACG_L001_R1_001_dedup.sorted.bam\n",
      "-rw-rw-r-- 1 sam users  31M May 30 12:37 1_ATCACG_L001_R1_001_trimmed_bismark_bt2.deduplicated.bam\n",
      "-rw-rw-r-- 1 sam users  341 May 30 12:37 1_ATCACG_L001_R1_001_trimmed_bismark_bt2.deduplication_report.txt\n",
      "-rw-rw-r-- 1 sam users 849M May 30 12:43 20180531_dedup_stdout.txt\n",
      "-rw-rw-r-- 1 sam users  20K May 30 12:43 20180531_dedup_stederr.txt\n",
      "-rw-rw-r-- 1 sam users    0 May 30 13:53 20180531_samtools_stderr.txt\n",
      "-rw-rw-r-- 1 sam users  30M May 30 13:54 2_CGATGT_L001_R1_001_dedup.sorted.bam\n",
      "-rw-rw-r-- 1 sam users  31M May 30 12:37 2_CGATGT_L001_R1_001_trimmed_bismark_bt2.deduplicated.bam\n",
      "-rw-rw-r-- 1 sam users  340 May 30 12:37 2_CGATGT_L001_R1_001_trimmed_bismark_bt2.deduplication_report.txt\n",
      "-rw-rw-r-- 1 sam users  30M May 30 13:55 3_TTAGGC_L001_R1_001_dedup.sorted.bam\n",
      "-rw-rw-r-- 1 sam users  31M May 30 12:37 3_TTAGGC_L001_R1_001_trimmed_bismark_bt2.deduplicated.bam\n",
      "-rw-rw-r-- 1 sam users  340 May 30 12:37 3_TTAGGC_L001_R1_001_trimmed_bismark_bt2.deduplication_report.txt\n",
      "-rw-rw-r-- 1 sam users  31M May 30 13:54 4_TGACCA_L001_R1_001_dedup.sorted.bam\n",
      "-rw-rw-r-- 1 sam users  31M May 30 12:38 4_TGACCA_L001_R1_001_trimmed_bismark_bt2.deduplicated.bam\n",
      "-rw-rw-r-- 1 sam users  340 May 30 12:38 4_TGACCA_L001_R1_001_trimmed_bismark_bt2.deduplication_report.txt\n",
      "-rw-rw-r-- 1 sam users  30M May 30 13:56 5_ACAGTG_L001_R1_001_dedup.sorted.bam\n",
      "-rw-rw-r-- 1 sam users  30M May 30 12:38 5_ACAGTG_L001_R1_001_trimmed_bismark_bt2.deduplicated.bam\n",
      "-rw-rw-r-- 1 sam users  340 May 30 12:38 5_ACAGTG_L001_R1_001_trimmed_bismark_bt2.deduplication_report.txt\n",
      "-rw-rw-r-- 1 sam users  30M May 30 13:57 6_GCCAAT_L001_R1_001_dedup.sorted.bam\n",
      "-rw-rw-r-- 1 sam users  30M May 30 12:38 6_GCCAAT_L001_R1_001_trimmed_bismark_bt2.deduplicated.bam\n",
      "-rw-rw-r-- 1 sam users  340 May 30 12:38 6_GCCAAT_L001_R1_001_trimmed_bismark_bt2.deduplication_report.txt\n",
      "-rw-rw-r-- 1 sam users  31M May 30 13:58 7_CAGATC_L001_R1_001_dedup.sorted.bam\n",
      "-rw-rw-r-- 1 sam users  31M May 30 12:38 7_CAGATC_L001_R1_001_trimmed_bismark_bt2.deduplicated.bam\n",
      "-rw-rw-r-- 1 sam users  340 May 30 12:38 7_CAGATC_L001_R1_001_trimmed_bismark_bt2.deduplication_report.txt\n",
      "-rw-rw-r-- 1 sam users  30M May 30 13:54 8_ACTTGA_L001_R1_001_dedup.sorted.bam\n",
      "-rw-rw-r-- 1 sam users  30M May 30 12:39 8_ACTTGA_L001_R1_001_trimmed_bismark_bt2.deduplicated.bam\n",
      "-rw-rw-r-- 1 sam users  340 May 30 12:39 8_ACTTGA_L001_R1_001_trimmed_bismark_bt2.deduplication_report.txt\n",
      "-rw-rw-r-- 1 sam users 1.1K May 30 14:29 readme.txt\n",
      "-rw-rw-r-- 1 sam users  23M May 30 13:58 zr1394_10_s456_dedup.sorted.bam\n",
      "-rw-rw-r-- 1 sam users  23M May 30 12:39 zr1394_10_s456_trimmed_bismark_bt2.deduplicated.bam\n",
      "-rw-rw-r-- 1 sam users  335 May 30 12:39 zr1394_10_s456_trimmed_bismark_bt2.deduplication_report.txt\n",
      "-rw-rw-r-- 1 sam users  21M May 30 13:55 zr1394_11_s456_dedup.sorted.bam\n",
      "-rw-rw-r-- 1 sam users  21M May 30 12:39 zr1394_11_s456_trimmed_bismark_bt2.deduplicated.bam\n",
      "-rw-rw-r-- 1 sam users  335 May 30 12:39 zr1394_11_s456_trimmed_bismark_bt2.deduplication_report.txt\n",
      "-rw-rw-r-- 1 sam users  25M May 30 13:57 zr1394_12_s456_dedup.sorted.bam\n",
      "-rw-rw-r-- 1 sam users  25M May 30 12:39 zr1394_12_s456_trimmed_bismark_bt2.deduplicated.bam\n",
      "-rw-rw-r-- 1 sam users  333 May 30 12:39 zr1394_12_s456_trimmed_bismark_bt2.deduplication_report.txt\n",
      "-rw-rw-r-- 1 sam users  22M May 30 13:56 zr1394_13_s456_dedup.sorted.bam\n",
      "-rw-rw-r-- 1 sam users  23M May 30 12:40 zr1394_13_s456_trimmed_bismark_bt2.deduplicated.bam\n",
      "-rw-rw-r-- 1 sam users  335 May 30 12:40 zr1394_13_s456_trimmed_bismark_bt2.deduplication_report.txt\n",
      "-rw-rw-r-- 1 sam users  22M May 30 13:58 zr1394_14_s456_dedup.sorted.bam\n",
      "-rw-rw-r-- 1 sam users  22M May 30 12:40 zr1394_14_s456_trimmed_bismark_bt2.deduplicated.bam\n",
      "-rw-rw-r-- 1 sam users  335 May 30 12:40 zr1394_14_s456_trimmed_bismark_bt2.deduplication_report.txt\n",
      "-rw-rw-r-- 1 sam users  22M May 30 13:56 zr1394_15_s456_dedup.sorted.bam\n",
      "-rw-rw-r-- 1 sam users  22M May 30 12:40 zr1394_15_s456_trimmed_bismark_bt2.deduplicated.bam\n",
      "-rw-rw-r-- 1 sam users  335 May 30 12:40 zr1394_15_s456_trimmed_bismark_bt2.deduplication_report.txt\n",
      "-rw-rw-r-- 1 sam users  21M May 30 13:56 zr1394_16_s456_dedup.sorted.bam\n",
      "-rw-rw-r-- 1 sam users  22M May 30 12:40 zr1394_16_s456_trimmed_bismark_bt2.deduplicated.bam\n",
      "-rw-rw-r-- 1 sam users  335 May 30 12:40 zr1394_16_s456_trimmed_bismark_bt2.deduplication_report.txt\n",
      "-rw-rw-r-- 1 sam users  22M May 30 13:55 zr1394_17_s456_dedup.sorted.bam\n",
      "-rw-rw-r-- 1 sam users  23M May 30 12:41 zr1394_17_s456_trimmed_bismark_bt2.deduplicated.bam\n",
      "-rw-rw-r-- 1 sam users  335 May 30 12:41 zr1394_17_s456_trimmed_bismark_bt2.deduplication_report.txt\n",
      "-rw-rw-r-- 1 sam users  24M May 30 13:57 zr1394_18_s456_dedup.sorted.bam\n",
      "-rw-rw-r-- 1 sam users  24M May 30 12:41 zr1394_18_s456_trimmed_bismark_bt2.deduplicated.bam\n",
      "-rw-rw-r-- 1 sam users  334 May 30 12:41 zr1394_18_s456_trimmed_bismark_bt2.deduplication_report.txt\n",
      "-rw-rw-r-- 1 sam users  23M May 30 13:56 zr1394_1_s456_dedup.sorted.bam\n",
      "-rw-rw-r-- 1 sam users  24M May 30 12:41 zr1394_1_s456_trimmed_bismark_bt2.deduplicated.bam\n",
      "-rw-rw-r-- 1 sam users  333 May 30 12:41 zr1394_1_s456_trimmed_bismark_bt2.deduplication_report.txt\n",
      "-rw-rw-r-- 1 sam users  24M May 30 13:55 zr1394_2_s456_dedup.sorted.bam\n",
      "-rw-rw-r-- 1 sam users  24M May 30 12:41 zr1394_2_s456_trimmed_bismark_bt2.deduplicated.bam\n",
      "-rw-rw-r-- 1 sam users  333 May 30 12:41 zr1394_2_s456_trimmed_bismark_bt2.deduplication_report.txt\n",
      "-rw-rw-r-- 1 sam users  23M May 30 13:58 zr1394_3_s456_dedup.sorted.bam\n",
      "-rw-rw-r-- 1 sam users  23M May 30 12:42 zr1394_3_s456_trimmed_bismark_bt2.deduplicated.bam\n",
      "-rw-rw-r-- 1 sam users  333 May 30 12:42 zr1394_3_s456_trimmed_bismark_bt2.deduplication_report.txt\n",
      "-rw-rw-r-- 1 sam users  23M May 30 13:53 zr1394_4_s456_dedup.sorted.bam\n",
      "-rw-rw-r-- 1 sam users  23M May 30 12:42 zr1394_4_s456_trimmed_bismark_bt2.deduplicated.bam\n",
      "-rw-rw-r-- 1 sam users  333 May 30 12:42 zr1394_4_s456_trimmed_bismark_bt2.deduplication_report.txt\n",
      "-rw-rw-r-- 1 sam users  25M May 30 13:53 zr1394_5_s456_dedup.sorted.bam\n",
      "-rw-rw-r-- 1 sam users  25M May 30 12:42 zr1394_5_s456_trimmed_bismark_bt2.deduplicated.bam\n",
      "-rw-rw-r-- 1 sam users  332 May 30 12:42 zr1394_5_s456_trimmed_bismark_bt2.deduplication_report.txt\n",
      "-rw-rw-r-- 1 sam users  25M May 30 13:59 zr1394_6_s456_dedup.sorted.bam\n",
      "-rw-rw-r-- 1 sam users  25M May 30 12:42 zr1394_6_s456_trimmed_bismark_bt2.deduplicated.bam\n",
      "-rw-rw-r-- 1 sam users  332 May 30 12:42 zr1394_6_s456_trimmed_bismark_bt2.deduplication_report.txt\n",
      "-rw-rw-r-- 1 sam users  23M May 30 13:58 zr1394_7_s456_dedup.sorted.bam\n",
      "-rw-rw-r-- 1 sam users  23M May 30 12:43 zr1394_7_s456_trimmed_bismark_bt2.deduplicated.bam\n",
      "-rw-rw-r-- 1 sam users  333 May 30 12:43 zr1394_7_s456_trimmed_bismark_bt2.deduplication_report.txt\n",
      "-rw-rw-r-- 1 sam users  23M May 30 13:54 zr1394_8_s456_dedup.sorted.bam\n",
      "-rw-rw-r-- 1 sam users  24M May 30 12:43 zr1394_8_s456_trimmed_bismark_bt2.deduplicated.bam\n",
      "-rw-rw-r-- 1 sam users  333 May 30 12:43 zr1394_8_s456_trimmed_bismark_bt2.deduplication_report.txt\n",
      "-rw-rw-r-- 1 sam users  24M May 30 13:57 zr1394_9_s456_dedup.sorted.bam\n",
      "-rw-rw-r-- 1 sam users  24M May 30 12:43 zr1394_9_s456_trimmed_bismark_bt2.deduplicated.bam\n",
      "-rw-rw-r-- 1 sam users  332 May 30 12:43 zr1394_9_s456_trimmed_bismark_bt2.deduplication_report.txt\n"
     ]
    }
   ],
   "source": [
    "%%bash\n",
    "ls -lh /mnt/owl/Athaliana/20180531_oly_bismark_deduplication/"
   ]
  },
  {
   "cell_type": "code",
   "execution_count": null,
   "metadata": {
    "collapsed": true
   },
   "outputs": [],
   "source": []
  }
 ],
 "metadata": {
  "kernelspec": {
   "display_name": "Python 2",
   "language": "python",
   "name": "python2"
  },
  "language_info": {
   "codemirror_mode": {
    "name": "ipython",
    "version": 2
   },
   "file_extension": ".py",
   "mimetype": "text/x-python",
   "name": "python",
   "nbconvert_exporter": "python",
   "pygments_lexer": "ipython2",
   "version": "2.7.12"
  }
 },
 "nbformat": 4,
 "nbformat_minor": 2
}
