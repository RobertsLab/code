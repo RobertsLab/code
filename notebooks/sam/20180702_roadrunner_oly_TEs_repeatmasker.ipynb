{
 "cells": [
  {
   "cell_type": "code",
   "execution_count": 1,
   "metadata": {},
   "outputs": [
    {
     "ename": "SyntaxError",
     "evalue": "invalid syntax (<ipython-input-1-dcd5c9efe8d4>, line 1)",
     "output_type": "error",
     "traceback": [
      "\u001b[0;36m  File \u001b[0;32m\"<ipython-input-1-dcd5c9efe8d4>\"\u001b[0;36m, line \u001b[0;32m1\u001b[0m\n\u001b[0;31m    echo \"TODAY'S DATE:\"\u001b[0m\n\u001b[0m                       ^\u001b[0m\n\u001b[0;31mSyntaxError\u001b[0m\u001b[0;31m:\u001b[0m invalid syntax\n"
     ]
    }
   ],
   "source": [
    "echo \"TODAY'S DATE:\"\n",
    "date\n",
    "echo \"------------\"\n",
    "echo \"\"\n",
    "#Display operating system info\n",
    "lsb_release -a\n",
    "echo \"\"\n",
    "echo \"------------\"\n",
    "echo \"HOSTNAME: \"; hostname \n",
    "echo \"\"\n",
    "echo \"------------\"\n",
    "echo \"Computer Specs:\"\n",
    "echo \"\"\n",
    "lscpu\n",
    "echo \"\"\n",
    "echo \"------------\"\n",
    "echo \"\"\n",
    "echo \"Memory Specs\"\n",
    "echo \"\"\n",
    "free -mh"
   ]
  },
  {
   "cell_type": "code",
   "execution_count": 2,
   "metadata": {},
   "outputs": [
    {
     "name": "stdout",
     "output_type": "stream",
     "text": [
      "TODAY'S DATE:\n",
      "Mon Jul  2 08:32:22 PDT 2018\n",
      "------------\n",
      "\n",
      "Distributor ID:\tUbuntu\n",
      "Description:\tUbuntu 16.04.4 LTS\n",
      "Release:\t16.04\n",
      "Codename:\txenial\n",
      "\n",
      "------------\n",
      "HOSTNAME: \n",
      "roadrunner\n",
      "\n",
      "------------\n",
      "Computer Specs:\n",
      "\n",
      "Architecture:          x86_64\n",
      "CPU op-mode(s):        32-bit, 64-bit\n",
      "Byte Order:            Little Endian\n",
      "CPU(s):                16\n",
      "On-line CPU(s) list:   0-15\n",
      "Thread(s) per core:    2\n",
      "Core(s) per socket:    4\n",
      "Socket(s):             2\n",
      "NUMA node(s):          1\n",
      "Vendor ID:             GenuineIntel\n",
      "CPU family:            6\n",
      "Model:                 26\n",
      "Model name:            Intel(R) Xeon(R) CPU           E5520  @ 2.27GHz\n",
      "Stepping:              5\n",
      "CPU MHz:               1596.000\n",
      "CPU max MHz:           2394.0000\n",
      "CPU min MHz:           1596.0000\n",
      "BogoMIPS:              4521.78\n",
      "Virtualization:        VT-x\n",
      "L1d cache:             32K\n",
      "L1i cache:             32K\n",
      "L2 cache:              256K\n",
      "L3 cache:              8192K\n",
      "NUMA node0 CPU(s):     0-15\n",
      "Flags:                 fpu vme de pse tsc msr pae mce cx8 apic sep mtrr pge mca cmov pat pse36 clflush dts acpi mmx fxsr sse sse2 ss ht tm pbe syscall nx rdtscp lm constant_tsc arch_perfmon pebs bts nopl xtopology nonstop_tsc aperfmperf pni dtes64 monitor ds_cpl vmx est tm2 ssse3 cx16 xtpr pdcm dca sse4_1 sse4_2 popcnt lahf_lm kaiser tpr_shadow vnmi flexpriority ept vpid dtherm ida\n",
      "\n",
      "------------\n",
      "\n",
      "Memory Specs\n",
      "\n",
      "              total        used        free      shared  buff/cache   available\n",
      "Mem:            47G        518M         14G        509M         31G         45G\n",
      "Swap:           47G        4.8M         47G\n"
     ]
    },
    {
     "name": "stderr",
     "output_type": "stream",
     "text": [
      "No LSB modules are available.\n"
     ]
    }
   ],
   "source": [
    "%%bash\n",
    "echo \"TODAY'S DATE:\"\n",
    "date\n",
    "echo \"------------\"\n",
    "echo \"\"\n",
    "#Display operating system info\n",
    "lsb_release -a\n",
    "echo \"\"\n",
    "echo \"------------\"\n",
    "echo \"HOSTNAME: \"; hostname \n",
    "echo \"\"\n",
    "echo \"------------\"\n",
    "echo \"Computer Specs:\"\n",
    "echo \"\"\n",
    "lscpu\n",
    "echo \"\"\n",
    "echo \"------------\"\n",
    "echo \"\"\n",
    "echo \"Memory Specs\"\n",
    "echo \"\"\n",
    "free -mh"
   ]
  },
  {
   "cell_type": "markdown",
   "metadata": {},
   "source": [
    "#### Assembly ```Olurida_v081.fa``` details are here: https://github.com/RobertsLab/resources/wiki/Genomic-Resources#genome-1"
   ]
  },
  {
   "cell_type": "markdown",
   "metadata": {},
   "source": [
    "##### Make output directories"
   ]
  },
  {
   "cell_type": "code",
   "execution_count": 3,
   "metadata": {
    "collapsed": true
   },
   "outputs": [],
   "source": [
    "%%bash\n",
    "mkdir /home/sam/analyses/20180702_oly_repeatmasker_defaults\n",
    "mkdir /home/sam/analyses/20180702_oly_repeatmasker_Cgigas\n",
    "mkdir /home/sam/analyses/20180702_oly_repeatmasker_Cvirginica\n",
    "mkdir /home/sam/analyses/20180702_oly_repeatmasker_Olurida"
   ]
  },
  {
   "cell_type": "markdown",
   "metadata": {},
   "source": [
    "#### Run RepeatMasker with default setting and following options:\n",
    "\n",
    "-par 15 : Use 15 CPU threads\n",
    "\n",
    "-gff : Create GFF output file (in addition to default files)\n",
    "\n",
    "-excln : Adjusts output table calculations to exclude sequence runs of >=25Ns. Useful for draft genome assemblies.\n",
    "\n",
    "-1> : Send stdout to file instead of printing to notebook.\n",
    "\n",
    "-2> : Send stderr to file instead of printing to notebook."
   ]
  },
  {
   "cell_type": "code",
   "execution_count": 4,
   "metadata": {},
   "outputs": [
    {
     "name": "stderr",
     "output_type": "stream",
     "text": [
      "\n",
      "real\t252m34.218s\n",
      "user\t3228m1.044s\n",
      "sys\t539m4.084s\n"
     ]
    }
   ],
   "source": [
    "%%bash\n",
    "wd=\"/home/sam/analyses/20180702_oly_repeatmasker_defaults\"\n",
    "cd \"$wd\"\n",
    "time \\\n",
    "/home/shared/RepeatMasker-4.0.7/RepeatMasker \\\n",
    "/home/sam/data/oly_assemblies/Olurida_v081.fa \\\n",
    "-par 15 \\\n",
    "-gff \\\n",
    "-excln \\\n",
    "1> \"$wd\"/stdout.out \\\n",
    "2> \"$wd\"/stderr.err\n",
    "sed '/^Subject:/ s/ / repeatmasker defaults JOB COMPLETE/' ~/.default-subject.mail | msmtp \"$EMAIL\""
   ]
  },
  {
   "cell_type": "markdown",
   "metadata": {},
   "source": [
    "#### Run RepeatMasker with Crassostrea gigas species setting and following options:\n",
    "\n",
    "-species \"crassostrea gigas\" : Sets species to Crassostrea gigas\n",
    "\n",
    "-par 15 : Use 15 CPU threads\n",
    "\n",
    "-gff : Create GFF output file (in addition to default files)\n",
    "\n",
    "-excln : Adjusts output table calculations to exclude sequence runs of >=25Ns. Useful for draft genome assemblies.\n",
    "\n",
    "-1> : Send stdout to file instead of printing to notebook.\n",
    "\n",
    "-2> : Send stderr to file instead of printing to notebook."
   ]
  },
  {
   "cell_type": "code",
   "execution_count": 5,
   "metadata": {},
   "outputs": [
    {
     "name": "stderr",
     "output_type": "stream",
     "text": [
      "\n",
      "real\t248m53.801s\n",
      "user\t3021m41.000s\n",
      "sys\t399m32.716s\n"
     ]
    }
   ],
   "source": [
    "%%bash\n",
    "wd=\"/home/sam/analyses/20180702_oly_repeatmasker_Cgigas\"\n",
    "cd \"$wd\"\n",
    "time \\\n",
    "/home/shared/RepeatMasker-4.0.7/RepeatMasker \\\n",
    "/home/sam/data/oly_assemblies/Olurida_v081.fa \\\n",
    "-species \"crassostrea gigas\" \\\n",
    "-par 15 \\\n",
    "-gff \\\n",
    "-excln \\\n",
    "1> \"$wd\"/stdout.out \\\n",
    "2> \"$wd\"/stderr.err\n",
    "sed '/^Subject:/ s/ / repeatmasker gigas JOB COMPLETE/' ~/.default-subject.mail | msmtp \"$EMAIL\""
   ]
  },
  {
   "cell_type": "markdown",
   "metadata": {},
   "source": [
    "#### Run RepeatMasker with Crassostrea virginica species setting and following options:\n",
    "\n",
    "-species \"crassostrea virginica\" : Sets species to Crassostrea virginica\n",
    "\n",
    "-par 15 : Use 15 CPU threads\n",
    "\n",
    "-gff : Create GFF output file (in addition to default files)\n",
    "\n",
    "-excln : Adjusts output table calculations to exclude sequence runs of >=25Ns. Useful for draft genome assemblies.\n",
    "\n",
    "-1> : Send stdout to file instead of printing to notebook.\n",
    "\n",
    "-2> : Send stderr to file instead of printing to notebook."
   ]
  },
  {
   "cell_type": "code",
   "execution_count": 6,
   "metadata": {},
   "outputs": [
    {
     "name": "stderr",
     "output_type": "stream",
     "text": [
      "\n",
      "real\t151m26.032s\n",
      "user\t1605m31.120s\n",
      "sys\t426m29.152s\n"
     ]
    }
   ],
   "source": [
    "%%bash\n",
    "wd=\"/home/sam/analyses/20180702_oly_repeatmasker_Cvirginica\"\n",
    "cd \"$wd\"\n",
    "time \\\n",
    "/home/shared/RepeatMasker-4.0.7/RepeatMasker \\\n",
    "/home/sam/data/oly_assemblies/Olurida_v081.fa \\\n",
    "-species \"crassostrea virginica\" \\\n",
    "-par 15 \\\n",
    "-gff \\\n",
    "-excln \\\n",
    "1> \"$wd\"/stdout.out \\\n",
    "2> \"$wd\"/stderr.err\n",
    "sed '/^Subject:/ s/ / repeatmasker virginica JOB COMPLETE/' ~/.default-subject.mail | msmtp \"$EMAIL\""
   ]
  },
  {
   "cell_type": "markdown",
   "metadata": {},
   "source": [
    "#### Run RepeatMasker with Ostrea lurida species setting and following options:\n",
    "\n",
    "-species \"ostrea lurida\" : Sets species to Ostrea lurida\n",
    "\n",
    "-par 15 : Use 15 CPU threads\n",
    "\n",
    "-gff : Create GFF output file (in addition to default files)\n",
    "\n",
    "-excln : Adjusts output table calculations to exclude sequence runs of >=25Ns. Useful for draft genome assemblies.\n",
    "\n",
    "-1> : Send stdout to file instead of printing to notebook.\n",
    "\n",
    "-2> : Send stderr to file instead of printing to notebook.\n"
   ]
  },
  {
   "cell_type": "code",
   "execution_count": 7,
   "metadata": {},
   "outputs": [
    {
     "name": "stderr",
     "output_type": "stream",
     "text": [
      "\n",
      "real\t146m27.018s\n",
      "user\t1575m41.164s\n",
      "sys\t428m13.936s\n"
     ]
    }
   ],
   "source": [
    "%%bash\n",
    "wd=\"/home/sam/analyses/20180702_oly_repeatmasker_Olurida\"\n",
    "cd \"$wd\"\n",
    "time \\\n",
    "/home/shared/RepeatMasker-4.0.7/RepeatMasker \\\n",
    "/home/sam/data/oly_assemblies/Olurida_v081.fa \\\n",
    "-species \"ostrea lurida\" \\\n",
    "-par 15 \\\n",
    "-gff \\\n",
    "-excln \\\n",
    "1> \"$wd\"/stdout.out \\\n",
    "2> \"$wd\"/stderr.err\n",
    "sed '/^Subject:/ s/ / repeatmasker lurida JOB COMPLETE/' ~/.default-subject.mail | msmtp \"$EMAIL\""
   ]
  },
  {
   "cell_type": "markdown",
   "metadata": {},
   "source": [
    "#### Re-run RepeatMasker with Crassostrea gigas species setting and following options:\n",
    "\n",
    "-species \"crassostrea gigas\" : Sets species to Crassostrea gigas\n",
    "\n",
    "-par 15 : Use 15 CPU threads\n",
    "\n",
    "-gff : Create GFF output file (in addition to default files)\n",
    "\n",
    "-excln : Adjusts output table calculations to exclude sequence runs of >=25Ns. Useful for draft genome assemblies.\n",
    "\n",
    "-1> : Send stdout to file instead of printing to notebook.\n",
    "\n",
    "-2> : Send stderr to file instead of printing to notebook.\n",
    "\n",
    "Re-ran this due to problems with output files being ovewritten by subsequent job(s). This is an irritating aspect of RepeatMasker..."
   ]
  },
  {
   "cell_type": "code",
   "execution_count": 8,
   "metadata": {},
   "outputs": [
    {
     "name": "stderr",
     "output_type": "stream",
     "text": [
      "\n",
      "real\t247m19.775s\n",
      "user\t3003m2.852s\n",
      "sys\t397m16.468s\n"
     ]
    }
   ],
   "source": [
    "%%bash\n",
    "wd=\"/home/sam/analyses/20180702_oly_repeatmasker_Cgigas\"\n",
    "cd \"$wd\"\n",
    "time \\\n",
    "/home/shared/RepeatMasker-4.0.7/RepeatMasker \\\n",
    "/home/sam/data/oly_assemblies/Olurida_v081.fa \\\n",
    "-species \"crassostrea gigas\" \\\n",
    "-par 15 \\\n",
    "-gff \\\n",
    "-excln \\\n",
    "1> \"$wd\"/stdout.out \\\n",
    "2> \"$wd\"/stderr.err\n",
    "sed '/^Subject:/ s/ / repeatmasker gigas JOB COMPLETE/' ~/.default-subject.mail | msmtp \"$EMAIL\""
   ]
  },
  {
   "cell_type": "markdown",
   "metadata": {},
   "source": [
    "#### Re-run RepeatMasker with Ostrea lurida species setting and following options:\n",
    "\n",
    "-species \"ostrea lurida\" : Sets species to Ostrea lurida\n",
    "\n",
    "-par 15 : Use 15 CPU threads\n",
    "\n",
    "-gff : Create GFF output file (in addition to default files)\n",
    "\n",
    "-excln : Adjusts output table calculations to exclude sequence runs of >=25Ns. Useful for draft genome assemblies.\n",
    "\n",
    "-1> : Send stdout to file instead of printing to notebook.\n",
    "\n",
    "-2> : Send stderr to file instead of printing to notebook.\n",
    "\n",
    "Re-ran this due to problems with output files being ovewritten by subsequent job(s). This is an irritating aspect of RepeatMasker...\n"
   ]
  },
  {
   "cell_type": "code",
   "execution_count": 9,
   "metadata": {},
   "outputs": [
    {
     "name": "stderr",
     "output_type": "stream",
     "text": [
      "\n",
      "real\t147m27.320s\n",
      "user\t1578m28.308s\n",
      "sys\t437m29.592s\n"
     ]
    }
   ],
   "source": [
    "%%bash\n",
    "wd=\"/home/sam/analyses/20180702_oly_repeatmasker_Olurida\"\n",
    "cd \"$wd\"\n",
    "time \\\n",
    "/home/shared/RepeatMasker-4.0.7/RepeatMasker \\\n",
    "/home/sam/data/oly_assemblies/Olurida_v081.fa \\\n",
    "-species \"ostrea lurida\" \\\n",
    "-par 15 \\\n",
    "-gff \\\n",
    "-excln \\\n",
    "1> \"$wd\"/stdout.out \\\n",
    "2> \"$wd\"/stderr.err\n",
    "sed '/^Subject:/ s/ / repeatmasker lurida JOB COMPLETE/' ~/.default-subject.mail | msmtp \"$EMAIL\""
   ]
  },
  {
   "cell_type": "markdown",
   "metadata": {},
   "source": [
    "#### SUMMARY TABLE (default settings)"
   ]
  },
  {
   "cell_type": "code",
   "execution_count": 10,
   "metadata": {},
   "outputs": [
    {
     "name": "stdout",
     "output_type": "stream",
     "text": [
      "==================================================\n",
      "file name: Olurida_v081.fa          \n",
      "sequences:        159429\n",
      "total length: 1140787867 bp  (1077373535 bp excl N/X-runs)\n",
      "GC level:         36.58 %\n",
      "bases masked:   17954347 bp ( 1.67 %)\n",
      "==================================================\n",
      "               number of      length   percentage\n",
      "               elements*    occupied  of sequence\n",
      "--------------------------------------------------\n",
      "SINEs:            16599       978030 bp    0.09 %\n",
      "      ALUs            1          292 bp    0.00 %\n",
      "      MIRs          937        72873 bp    0.01 %\n",
      "\n",
      "LINEs:             3279       752631 bp    0.07 %\n",
      "      LINE1         172        10882 bp    0.00 %\n",
      "      LINE2         646        67827 bp    0.01 %\n",
      "      L3/CR1        659        60327 bp    0.01 %\n",
      "\n",
      "LTR elements:       569       127808 bp    0.01 %\n",
      "      ERVL           32         1949 bp    0.00 %\n",
      "      ERVL-MaLRs     10          490 bp    0.00 %\n",
      "      ERV_classI    165        17699 bp    0.00 %\n",
      "      ERV_classII    26         1590 bp    0.00 %\n",
      "\n",
      "DNA elements:      1911       161957 bp    0.02 %\n",
      "     hAT-Charlie     74         4216 bp    0.00 %\n",
      "     TcMar-Tigger   584        24985 bp    0.00 %\n",
      "\n",
      "Unclassified:        78         9834 bp    0.00 %\n",
      "\n",
      "Total interspersed repeats:  2030260 bp    0.19 %\n",
      "\n",
      "\n",
      "Small RNA:         5592       409456 bp    0.04 %\n",
      "\n",
      "Satellites:         117        21278 bp    0.00 %\n",
      "Simple repeats:  270784     12935570 bp    1.20 %\n",
      "Low complexity:   42130      2568284 bp    0.24 %\n",
      "==================================================\n",
      "\n",
      "* most repeats fragmented by insertions or deletions\n",
      "  have been counted as one element\n",
      "  Runs of >=20 X/Ns in query were excluded in % calcs\n",
      "\n",
      "\n",
      "The query species was assumed to be homo sapiens  \n",
      "RepeatMasker Combined Database: Dfam_Consensus-20170127, RepBase-20170127\n",
      "        \n",
      "run with rmblastn version 2.6.0+\n",
      "\n"
     ]
    }
   ],
   "source": [
    "%%bash\n",
    "cat /home/sam/analyses/20180702_oly_repeatmasker_defaults/Olurida_v081.fa.tbl"
   ]
  },
  {
   "cell_type": "markdown",
   "metadata": {},
   "source": [
    "#### SUMMARY TABLE (_Crassostrea gigas_)"
   ]
  },
  {
   "cell_type": "code",
   "execution_count": 11,
   "metadata": {},
   "outputs": [
    {
     "name": "stdout",
     "output_type": "stream",
     "text": [
      "==================================================\n",
      "file name: Olurida_v081.fa          \n",
      "sequences:        159429\n",
      "total length: 1140787867 bp  (1077373535 bp excl N/X-runs)\n",
      "GC level:         36.58 %\n",
      "bases masked:  152816516 bp ( 14.18 %)\n",
      "==================================================\n",
      "               number of      length   percentage\n",
      "               elements*    occupied  of sequence\n",
      "--------------------------------------------------\n",
      "Retroelements       193250     67253771 bp    6.24 %\n",
      "   SINEs:             2087       284274 bp    0.03 %\n",
      "   Penelope         158576     56080082 bp    5.21 %\n",
      "   LINEs:           179430     61300904 bp    5.69 %\n",
      "    CRE/SLACS            0            0 bp    0.00 %\n",
      "     L2/CR1/Rex        675       348273 bp    0.03 %\n",
      "     R1/LOA/Jockey       0            0 bp    0.00 %\n",
      "     R2/R4/NeSL          7        10781 bp    0.00 %\n",
      "     RTE/Bov-B        7051      1827344 bp    0.17 %\n",
      "     L1/CIN4             0            0 bp    0.00 %\n",
      "   LTR elements:     11733      5668593 bp    0.53 %\n",
      "     BEL/Pao          1517       871288 bp    0.08 %\n",
      "     Ty1/Copia          78        72481 bp    0.01 %\n",
      "     Gypsy/DIRS1      9151      4445789 bp    0.41 %\n",
      "       Retroviral        0            0 bp    0.00 %\n",
      "\n",
      "DNA transposons     233691     33727339 bp    3.13 %\n",
      "   hobo-Activator    17578      1886743 bp    0.18 %\n",
      "   Tc1-IS630-Pogo    39184      6403235 bp    0.59 %\n",
      "   En-Spm                0            0 bp    0.00 %\n",
      "   MuDR-IS905            0            0 bp    0.00 %\n",
      "   PiggyBac           7261      1003937 bp    0.09 %\n",
      "   Tourist/Harbinger  8635       823434 bp    0.08 %\n",
      "   Other (Mirage,        0            0 bp    0.00 %\n",
      "    P-element, Transib)\n",
      "\n",
      "Rolling-circles          0            0 bp    0.00 %\n",
      "\n",
      "Unclassified:       157855     36675484 bp    3.40 %\n",
      "\n",
      "Total interspersed repeats:   137656594 bp   12.78 %\n",
      "\n",
      "\n",
      "Small RNA:             222        72690 bp    0.01 %\n",
      "\n",
      "Satellites:           6260      1238331 bp    0.11 %\n",
      "Simple repeats:     241081     11662466 bp    1.08 %\n",
      "Low complexity:      38915      2347827 bp    0.22 %\n",
      "==================================================\n",
      "\n",
      "* most repeats fragmented by insertions or deletions\n",
      "  have been counted as one element\n",
      "  Runs of >=20 X/Ns in query were excluded in % calcs\n",
      "\n",
      "\n",
      "The query species was assumed to be crassostrea gigas\n",
      "RepeatMasker Combined Database: Dfam_Consensus-20170127, RepBase-20170127\n",
      "        \n",
      "run with rmblastn version 2.6.0+\n",
      "\n"
     ]
    }
   ],
   "source": [
    "%%bash\n",
    "cat /home/sam/analyses/20180702_oly_repeatmasker_Cgigas/Olurida_v081.fa.tbl"
   ]
  },
  {
   "cell_type": "markdown",
   "metadata": {},
   "source": [
    "#### SUMMARY TABLE (_Crassostrea virginica_)"
   ]
  },
  {
   "cell_type": "code",
   "execution_count": 12,
   "metadata": {},
   "outputs": [
    {
     "name": "stdout",
     "output_type": "stream",
     "text": [
      "==================================================\n",
      "file name: Olurida_v081.fa          \n",
      "sequences:        159429\n",
      "total length: 1140787867 bp  (1077373535 bp excl N/X-runs)\n",
      "GC level:         36.58 %\n",
      "bases masked:   36996910 bp ( 3.43 %)\n",
      "==================================================\n",
      "               number of      length   percentage\n",
      "               elements*    occupied  of sequence\n",
      "--------------------------------------------------\n",
      "Retroelements        59806      9886111 bp    0.92 %\n",
      "   SINEs:            59806      9886111 bp    0.92 %\n",
      "   Penelope              0            0 bp    0.00 %\n",
      "   LINEs:                0            0 bp    0.00 %\n",
      "    CRE/SLACS            0            0 bp    0.00 %\n",
      "     L2/CR1/Rex          0            0 bp    0.00 %\n",
      "     R1/LOA/Jockey       0            0 bp    0.00 %\n",
      "     R2/R4/NeSL          0            0 bp    0.00 %\n",
      "     RTE/Bov-B           0            0 bp    0.00 %\n",
      "     L1/CIN4             0            0 bp    0.00 %\n",
      "   LTR elements:         0            0 bp    0.00 %\n",
      "     BEL/Pao             0            0 bp    0.00 %\n",
      "     Ty1/Copia           0            0 bp    0.00 %\n",
      "     Gypsy/DIRS1         0            0 bp    0.00 %\n",
      "       Retroviral        0            0 bp    0.00 %\n",
      "\n",
      "DNA transposons       8720      2230426 bp    0.21 %\n",
      "   hobo-Activator        0            0 bp    0.00 %\n",
      "   Tc1-IS630-Pogo        0            0 bp    0.00 %\n",
      "   En-Spm                0            0 bp    0.00 %\n",
      "   MuDR-IS905            0            0 bp    0.00 %\n",
      "   PiggyBac              0            0 bp    0.00 %\n",
      "   Tourist/Harbinger     0            0 bp    0.00 %\n",
      "   Other (Mirage,        0            0 bp    0.00 %\n",
      "    P-element, Transib)\n",
      "\n",
      "Rolling-circles          0            0 bp    0.00 %\n",
      "\n",
      "Unclassified:        47005      9434652 bp    0.88 %\n",
      "\n",
      "Total interspersed repeats:    21551189 bp    2.00 %\n",
      "\n",
      "\n",
      "Small RNA:           60030      9959172 bp    0.92 %\n",
      "\n",
      "Satellites:              8         5100 bp    0.00 %\n",
      "Simple repeats:     259134     12795379 bp    1.19 %\n",
      "Low complexity:      42184      2581162 bp    0.24 %\n",
      "==================================================\n",
      "\n",
      "* most repeats fragmented by insertions or deletions\n",
      "  have been counted as one element\n",
      "  Runs of >=20 X/Ns in query were excluded in % calcs\n",
      "\n",
      "\n",
      "The query species was assumed to be crassostrea virginica\n",
      "RepeatMasker Combined Database: Dfam_Consensus-20170127, RepBase-20170127\n",
      "        \n",
      "run with rmblastn version 2.6.0+\n",
      "\n"
     ]
    }
   ],
   "source": [
    "%%bash\n",
    "cat /home/sam/analyses/20180702_oly_repeatmasker_Cvirginica/Olurida_v081.fa.tbl"
   ]
  },
  {
   "cell_type": "markdown",
   "metadata": {},
   "source": [
    "#### SUMMARY TABLE (_Ostrea lurida_)"
   ]
  },
  {
   "cell_type": "code",
   "execution_count": 13,
   "metadata": {},
   "outputs": [
    {
     "name": "stderr",
     "output_type": "stream",
     "text": [
      "cat: /home/sam/analyses/20180702_oly_repeatmasker_Olurida/Olurida_v081.fa.tbl: No such file or directory\n"
     ]
    }
   ],
   "source": [
    "%%bash\n",
    "cat /home/sam/analyses/20180702_oly_repeatmasker_Olurida/Olurida_v081.fa.tbl"
   ]
  },
  {
   "cell_type": "code",
   "execution_count": 14,
   "metadata": {},
   "outputs": [
    {
     "name": "stdout",
     "output_type": "stream",
     "text": [
      "==================================================\n",
      "file name: Olurida_v081.fa          \n",
      "sequences:        159429\n",
      "total length: 1140787867 bp  (1077373535 bp excl N/X-runs)\n",
      "GC level:         36.58 %\n",
      "bases masked:   15918797 bp ( 1.48 %)\n",
      "==================================================\n",
      "               number of      length   percentage\n",
      "               elements*    occupied  of sequence\n",
      "--------------------------------------------------\n",
      "Retroelements            0            0 bp    0.00 %\n",
      "   SINEs:                0            0 bp    0.00 %\n",
      "   Penelope              0            0 bp    0.00 %\n",
      "   LINEs:                0            0 bp    0.00 %\n",
      "    CRE/SLACS            0            0 bp    0.00 %\n",
      "     L2/CR1/Rex          0            0 bp    0.00 %\n",
      "     R1/LOA/Jockey       0            0 bp    0.00 %\n",
      "     R2/R4/NeSL          0            0 bp    0.00 %\n",
      "     RTE/Bov-B           0            0 bp    0.00 %\n",
      "     L1/CIN4             0            0 bp    0.00 %\n",
      "   LTR elements:         0            0 bp    0.00 %\n",
      "     BEL/Pao             0            0 bp    0.00 %\n",
      "     Ty1/Copia           0            0 bp    0.00 %\n",
      "     Gypsy/DIRS1         0            0 bp    0.00 %\n",
      "       Retroviral        0            0 bp    0.00 %\n",
      "\n",
      "DNA transposons          0            0 bp    0.00 %\n",
      "   hobo-Activator        0            0 bp    0.00 %\n",
      "   Tc1-IS630-Pogo        0            0 bp    0.00 %\n",
      "   En-Spm                0            0 bp    0.00 %\n",
      "   MuDR-IS905            0            0 bp    0.00 %\n",
      "   PiggyBac              0            0 bp    0.00 %\n",
      "   Tourist/Harbinger     0            0 bp    0.00 %\n",
      "   Other (Mirage,        0            0 bp    0.00 %\n",
      "    P-element, Transib)\n",
      "\n",
      "Rolling-circles          0            0 bp    0.00 %\n",
      "\n",
      "Unclassified:            3          189 bp    0.00 %\n",
      "\n",
      "Total interspersed repeats:         189 bp    0.00 %\n",
      "\n",
      "\n",
      "Small RNA:             224        73061 bp    0.01 %\n",
      "\n",
      "Satellites:              8         5100 bp    0.00 %\n",
      "Simple repeats:     273098     13256460 bp    1.23 %\n",
      "Low complexity:      42443      2592212 bp    0.24 %\n",
      "==================================================\n",
      "\n",
      "* most repeats fragmented by insertions or deletions\n",
      "  have been counted as one element\n",
      "  Runs of >=20 X/Ns in query were excluded in % calcs\n",
      "\n",
      "\n",
      "The query species was assumed to be ostrea lurida \n",
      "RepeatMasker Combined Database: Dfam_Consensus-20170127, RepBase-20170127\n",
      "        \n",
      "run with rmblastn version 2.6.0+\n",
      "\n"
     ]
    }
   ],
   "source": [
    "%%bash\n",
    "cat /home/sam/analyses/20180702_oly_repeatmasker_Olurida/Olurida_v081.fa.tbl"
   ]
  },
  {
   "cell_type": "markdown",
   "metadata": {},
   "source": [
    "Had to use sudo to copy files to Owl."
   ]
  },
  {
   "cell_type": "code",
   "execution_count": 15,
   "metadata": {},
   "outputs": [
    {
     "name": "stdout",
     "output_type": "stream",
     "text": [
      "/mnt/owl/Athaliana/20180702_oly_repeatmasker_Cgigas:\n",
      "Olurida_v081.fa.cat.gz\n",
      "Olurida_v081.fa.masked\n",
      "Olurida_v081.fa.out\n",
      "Olurida_v081.fa.out.gff\n",
      "Olurida_v081.fa.tbl\n",
      "readme.txt\n",
      "stderr.err\n",
      "stdout.out\n",
      "\n",
      "/mnt/owl/Athaliana/20180702_oly_repeatmasker_Cvirginica:\n",
      "Olurida_v081.fa.cat.gz\n",
      "Olurida_v081.fa.masked\n",
      "Olurida_v081.fa.out\n",
      "Olurida_v081.fa.out.gff\n",
      "Olurida_v081.fa.tbl\n",
      "readme.txt\n",
      "stderr.err\n",
      "stdout.out\n",
      "\n",
      "/mnt/owl/Athaliana/20180702_oly_repeatmasker_defaults:\n",
      "Olurida_v081.fa.cat.gz\n",
      "Olurida_v081.fa.masked\n",
      "Olurida_v081.fa.out\n",
      "Olurida_v081.fa.out.gff\n",
      "Olurida_v081.fa.tbl\n",
      "readme.txt\n",
      "stderr.err\n",
      "stdout.out\n",
      "\n",
      "/mnt/owl/Athaliana/20180702_oly_repeatmasker_Olurida:\n",
      "Olurida_v081.fa.cat.gz\n",
      "Olurida_v081.fa.masked\n",
      "Olurida_v081.fa.out\n",
      "Olurida_v081.fa.out.gff\n",
      "Olurida_v081.fa.tbl\n",
      "readme.txt\n",
      "stderr.err\n",
      "stdout.out\n"
     ]
    }
   ],
   "source": [
    "%%bash\n",
    "ls /mnt/owl/Athaliana/20180702_oly_repeatmasker*"
   ]
  },
  {
   "cell_type": "code",
   "execution_count": null,
   "metadata": {
    "collapsed": true
   },
   "outputs": [],
   "source": []
  }
 ],
 "metadata": {
  "kernelspec": {
   "display_name": "Python 3",
   "language": "python",
   "name": "python3"
  },
  "language_info": {
   "codemirror_mode": {
    "name": "ipython",
    "version": 3
   },
   "file_extension": ".py",
   "mimetype": "text/x-python",
   "name": "python",
   "nbconvert_exporter": "python",
   "pygments_lexer": "ipython3",
   "version": "3.6.3"
  }
 },
 "nbformat": 4,
 "nbformat_minor": 2
}
