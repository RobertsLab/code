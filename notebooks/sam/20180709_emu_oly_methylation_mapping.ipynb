{
 "cells": [
  {
   "cell_type": "code",
   "execution_count": null,
   "metadata": {
    "collapsed": true
   },
   "outputs": [],
   "source": [
    "%%bash\n",
    "echo \"TODAY'S DATE:\"\n",
    "date\n",
    "echo \"------------\"\n",
    "echo \"\"\n",
    "#Display operating system info\n",
    "lsb_release -a\n",
    "echo \"\"\n",
    "echo \"------------\"\n",
    "echo \"HOSTNAME: \"; hostname \n",
    "echo \"\"\n",
    "echo \"------------\"\n",
    "echo \"Computer Specs:\"\n",
    "echo \"\"\n",
    "lscpu\n",
    "echo \"\"\n",
    "echo \"------------\"\n",
    "echo \"\"\n",
    "echo \"Memory Specs\"\n",
    "echo \"\"\n",
    "free -mh"
   ]
  },
  {
   "cell_type": "code",
   "execution_count": null,
   "metadata": {
    "collapsed": true
   },
   "outputs": [],
   "source": [
    "%%bash\n",
    "mkdir /home/sam/analyses/20180709_oly_methylseq"
   ]
  },
  {
   "cell_type": "code",
   "execution_count": null,
   "metadata": {
    "collapsed": true
   },
   "outputs": [],
   "source": [
    "%%bash\n",
    "time \\\n",
    "/home/shared/Bismark-0.19.1/bismark \\\n",
    "--path_to_bowtie /home/shared/bowtie2-2.3.4.1-linux-x86_64/ \\\n",
    "--genome /home/sam/data/oly_methylseq/oly_genome/ \\\n",
    "-p 16 \\\n",
    "--non_directional \\\n",
    "/home/sam/analyses/20180503_oly_methylseq_trimgalore/1_ATCACG_L001_R1_001_trimmed.fq.gz \\\n",
    "/home/sam/analyses/20180503_oly_methylseq_trimgalore/2_CGATGT_L001_R1_001_trimmed.fq.gz \\\n",
    "/home/sam/analyses/20180503_oly_methylseq_trimgalore/3_TTAGGC_L001_R1_001_trimmed.fq.gz \\\n",
    "/home/sam/analyses/20180503_oly_methylseq_trimgalore/4_TGACCA_L001_R1_001_trimmed.fq.gz \\\n",
    "/home/sam/analyses/20180503_oly_methylseq_trimgalore/5_ACAGTG_L001_R1_001_trimmed.fq.gz \\\n",
    "/home/sam/analyses/20180503_oly_methylseq_trimgalore/6_GCCAAT_L001_R1_001_trimmed.fq.gz \\\n",
    "/home/sam/analyses/20180503_oly_methylseq_trimgalore/7_CAGATC_L001_R1_001_trimmed.fq.gz \\\n",
    "/home/sam/analyses/20180503_oly_methylseq_trimgalore/8_ACTTGA_L001_R1_001_trimmed.fq.gz \\\n",
    "/home/sam/analyses/20180503_oly_methylseq_trimgalore/zr1394_10_s456_trimmed.fq.gz \\\n",
    "/home/sam/analyses/20180503_oly_methylseq_trimgalore/zr1394_11_s456_trimmed.fq.gz \\\n",
    "/home/sam/analyses/20180503_oly_methylseq_trimgalore/zr1394_12_s456_trimmed.fq.gz \\\n",
    "/home/sam/analyses/20180503_oly_methylseq_trimgalore/zr1394_13_s456_trimmed.fq.gz \\\n",
    "/home/sam/analyses/20180503_oly_methylseq_trimgalore/zr1394_14_s456_trimmed.fq.gz \\\n",
    "/home/sam/analyses/20180503_oly_methylseq_trimgalore/zr1394_15_s456_trimmed.fq.gz \\\n",
    "/home/sam/analyses/20180503_oly_methylseq_trimgalore/zr1394_16_s456_trimmed.fq.gz \\\n",
    "/home/sam/analyses/20180503_oly_methylseq_trimgalore/zr1394_17_s456_trimmed.fq.gz \\\n",
    "/home/sam/analyses/20180503_oly_methylseq_trimgalore/zr1394_18_s456_trimmed.fq.gz \\\n",
    "/home/sam/analyses/20180503_oly_methylseq_trimgalore/zr1394_1_s456_trimmed.fq.gz \\\n",
    "/home/sam/analyses/20180503_oly_methylseq_trimgalore/zr1394_2_s456_trimmed.fq.gz \\\n",
    "/home/sam/analyses/20180503_oly_methylseq_trimgalore/zr1394_3_s456_trimmed.fq.gz \\\n",
    "/home/sam/analyses/20180503_oly_methylseq_trimgalore/zr1394_4_s456_trimmed.fq.gz \\\n",
    "/home/sam/analyses/20180503_oly_methylseq_trimgalore/zr1394_5_s456_trimmed.fq.gz \\\n",
    "/home/sam/analyses/20180503_oly_methylseq_trimgalore/zr1394_6_s456_trimmed.fq.gz \\\n",
    "/home/sam/analyses/20180503_oly_methylseq_trimgalore/zr1394_7_s456_trimmed.fq.gz \\\n",
    "/home/sam/analyses/20180503_oly_methylseq_trimgalore/zr1394_8_s456_trimmed.fq.gz \\\n",
    "/home/sam/analyses/20180503_oly_methylseq_trimgalore/zr1394_9_s456_trimmed.fq.gz \\\n",
    "1> /home/sam/analyses/20180709_oly_methylseq/20180709_bismark_01.out\n",
    "2> /home/sam/analyses/20180709_oly_methylseq/20180709_bismark_01.err"
   ]
  },
  {
   "cell_type": "code",
   "execution_count": null,
   "metadata": {
    "collapsed": true
   },
   "outputs": [],
   "source": [
    "%%bash\n",
    "time \\\n",
    "/home/shared/Bismark-0.19.1/bismark \\\n",
    "--path_to_bowtie /home/shared/bowtie2-2.3.4.1-linux-x86_64/ \\\n",
    "--genome /home/sam/data/oly_methylseq/20180503_oly_genome_pbjelly_sjw_01_bismark \\\n",
    "-p 16 \\\n",
    "--non_directional \\\n",
    "/home/sam/analyses/20180503_oly_methylseq_trimgalore/1_ATCACG_L001_R1_001_trimmed.fq.gz \\\n",
    "/home/sam/analyses/20180503_oly_methylseq_trimgalore/2_CGATGT_L001_R1_001_trimmed.fq.gz \\\n",
    "/home/sam/analyses/20180503_oly_methylseq_trimgalore/3_TTAGGC_L001_R1_001_trimmed.fq.gz \\\n",
    "/home/sam/analyses/20180503_oly_methylseq_trimgalore/4_TGACCA_L001_R1_001_trimmed.fq.gz \\\n",
    "/home/sam/analyses/20180503_oly_methylseq_trimgalore/5_ACAGTG_L001_R1_001_trimmed.fq.gz \\\n",
    "/home/sam/analyses/20180503_oly_methylseq_trimgalore/6_GCCAAT_L001_R1_001_trimmed.fq.gz \\\n",
    "/home/sam/analyses/20180503_oly_methylseq_trimgalore/7_CAGATC_L001_R1_001_trimmed.fq.gz \\\n",
    "/home/sam/analyses/20180503_oly_methylseq_trimgalore/8_ACTTGA_L001_R1_001_trimmed.fq.gz \\\n",
    "/home/sam/analyses/20180503_oly_methylseq_trimgalore/zr1394_10_s456_trimmed.fq.gz \\\n",
    "/home/sam/analyses/20180503_oly_methylseq_trimgalore/zr1394_11_s456_trimmed.fq.gz \\\n",
    "/home/sam/analyses/20180503_oly_methylseq_trimgalore/zr1394_12_s456_trimmed.fq.gz \\\n",
    "/home/sam/analyses/20180503_oly_methylseq_trimgalore/zr1394_13_s456_trimmed.fq.gz \\\n",
    "/home/sam/analyses/20180503_oly_methylseq_trimgalore/zr1394_14_s456_trimmed.fq.gz \\\n",
    "/home/sam/analyses/20180503_oly_methylseq_trimgalore/zr1394_15_s456_trimmed.fq.gz \\\n",
    "/home/sam/analyses/20180503_oly_methylseq_trimgalore/zr1394_16_s456_trimmed.fq.gz \\\n",
    "/home/sam/analyses/20180503_oly_methylseq_trimgalore/zr1394_17_s456_trimmed.fq.gz \\\n",
    "/home/sam/analyses/20180503_oly_methylseq_trimgalore/zr1394_18_s456_trimmed.fq.gz \\\n",
    "/home/sam/analyses/20180503_oly_methylseq_trimgalore/zr1394_1_s456_trimmed.fq.gz \\\n",
    "/home/sam/analyses/20180503_oly_methylseq_trimgalore/zr1394_2_s456_trimmed.fq.gz \\\n",
    "/home/sam/analyses/20180503_oly_methylseq_trimgalore/zr1394_3_s456_trimmed.fq.gz \\\n",
    "/home/sam/analyses/20180503_oly_methylseq_trimgalore/zr1394_4_s456_trimmed.fq.gz \\\n",
    "/home/sam/analyses/20180503_oly_methylseq_trimgalore/zr1394_5_s456_trimmed.fq.gz \\\n",
    "/home/sam/analyses/20180503_oly_methylseq_trimgalore/zr1394_6_s456_trimmed.fq.gz \\\n",
    "/home/sam/analyses/20180503_oly_methylseq_trimgalore/zr1394_7_s456_trimmed.fq.gz \\\n",
    "/home/sam/analyses/20180503_oly_methylseq_trimgalore/zr1394_8_s456_trimmed.fq.gz \\\n",
    "/home/sam/analyses/20180503_oly_methylseq_trimgalore/zr1394_9_s456_trimmed.fq.gz \\\n",
    "1> /home/sam/analyses/20180709_oly_methylseq/20180709_bismark_01.out\n",
    "2> /home/sam/analyses/20180709_oly_methylseq/20180709_bismark_01.err"
   ]
  },
  {
   "cell_type": "code",
   "execution_count": null,
   "metadata": {
    "collapsed": true
   },
   "outputs": [],
   "source": [
    "sed '/^Subject:/ s/ / bismark JOB COMPLETE/' ~/.default-subject.mail | msmtp \"$EMAIL\""
   ]
  },
  {
   "cell_type": "code",
   "execution_count": null,
   "metadata": {
    "collapsed": true
   },
   "outputs": [],
   "source": [
    "%%bash\n",
    "ls"
   ]
  },
  {
   "cell_type": "code",
   "execution_count": 1,
   "metadata": {
    "collapsed": false
   },
   "outputs": [
    {
     "name": "stdout",
     "output_type": "stream",
     "text": [
      "total 21G\n",
      "-rw-rw-r-- 1 sam sam 239M Jul  9 13:14 1_ATCACG_L001_R1_001_trimmed_bismark_bt2.bam\n",
      "-rw-rw-r-- 1 sam sam 1.8K Jul  9 13:14 1_ATCACG_L001_R1_001_trimmed_bismark_bt2_SE_report.txt\n",
      "-rw-rw-r-- 1 sam sam    0 Jul 23 03:25 20180709_bismark_01.err\n",
      "-rw-rw-r-- 1 sam sam  18M Jul 23 03:25 20180709_bismark_01.out\n",
      "-rw-rw-r-- 1 sam sam 296M Jul  9 17:05 2_CGATGT_L001_R1_001_trimmed_bismark_bt2.bam\n",
      "-rw-rw-r-- 1 sam sam 1.8K Jul  9 17:05 2_CGATGT_L001_R1_001_trimmed_bismark_bt2_SE_report.txt\n",
      "-rw-rw-r-- 1 sam sam 295M Jul  9 20:52 3_TTAGGC_L001_R1_001_trimmed_bismark_bt2.bam\n",
      "-rw-rw-r-- 1 sam sam 1.8K Jul  9 20:52 3_TTAGGC_L001_R1_001_trimmed_bismark_bt2_SE_report.txt\n",
      "-rw-rw-r-- 1 sam sam 293M Jul 10 00:39 4_TGACCA_L001_R1_001_trimmed_bismark_bt2.bam\n",
      "-rw-rw-r-- 1 sam sam 1.8K Jul 10 00:39 4_TGACCA_L001_R1_001_trimmed_bismark_bt2_SE_report.txt\n",
      "-rw-rw-r-- 1 sam sam 310M Jul 10 04:40 5_ACAGTG_L001_R1_001_trimmed_bismark_bt2.bam\n",
      "-rw-rw-r-- 1 sam sam 1.8K Jul 10 04:40 5_ACAGTG_L001_R1_001_trimmed_bismark_bt2_SE_report.txt\n",
      "-rw-rw-r-- 1 sam sam 307M Jul 10 08:39 6_GCCAAT_L001_R1_001_trimmed_bismark_bt2.bam\n",
      "-rw-rw-r-- 1 sam sam 1.8K Jul 10 08:39 6_GCCAAT_L001_R1_001_trimmed_bismark_bt2_SE_report.txt\n",
      "-rw-rw-r-- 1 sam sam 258M Jul 10 12:00 7_CAGATC_L001_R1_001_trimmed_bismark_bt2.bam\n",
      "-rw-rw-r-- 1 sam sam 1.8K Jul 10 12:00 7_CAGATC_L001_R1_001_trimmed_bismark_bt2_SE_report.txt\n",
      "-rw-rw-r-- 1 sam sam 351M Jul 10 16:34 8_ACTTGA_L001_R1_001_trimmed_bismark_bt2.bam\n",
      "-rw-rw-r-- 1 sam sam 1.8K Jul 10 16:34 8_ACTTGA_L001_R1_001_trimmed_bismark_bt2_SE_report.txt\n",
      "-rw-rw-r-- 1 sam sam 1.5G Jul 11 15:33 zr1394_10_s456_trimmed_bismark_bt2.bam\n",
      "-rw-rw-r-- 1 sam sam 1.8K Jul 11 15:33 zr1394_10_s456_trimmed_bismark_bt2_SE_report.txt\n",
      "-rw-rw-r-- 1 sam sam 901M Jul 12 06:54 zr1394_11_s456_trimmed_bismark_bt2.bam\n",
      "-rw-rw-r-- 1 sam sam 1.8K Jul 12 06:55 zr1394_11_s456_trimmed_bismark_bt2_SE_report.txt\n",
      "-rw-rw-r-- 1 sam sam 1.2G Jul 13 00:37 zr1394_12_s456_trimmed_bismark_bt2.bam\n",
      "-rw-rw-r-- 1 sam sam 1.8K Jul 13 00:37 zr1394_12_s456_trimmed_bismark_bt2_SE_report.txt\n",
      "-rw-rw-r-- 1 sam sam 1.1G Jul 13 19:08 zr1394_13_s456_trimmed_bismark_bt2.bam\n",
      "-rw-rw-r-- 1 sam sam 1.8K Jul 13 19:08 zr1394_13_s456_trimmed_bismark_bt2_SE_report.txt\n",
      "-rw-rw-r-- 1 sam sam 1.5G Jul 14 20:01 zr1394_14_s456_trimmed_bismark_bt2.bam\n",
      "-rw-rw-r-- 1 sam sam 1.8K Jul 14 20:01 zr1394_14_s456_trimmed_bismark_bt2_SE_report.txt\n",
      "-rw-rw-r-- 1 sam sam 1.2G Jul 15 15:12 zr1394_15_s456_trimmed_bismark_bt2.bam\n",
      "-rw-rw-r-- 1 sam sam 1.8K Jul 15 15:13 zr1394_15_s456_trimmed_bismark_bt2_SE_report.txt\n",
      "-rw-rw-r-- 1 sam sam 1.2G Jul 16 12:12 zr1394_16_s456_trimmed_bismark_bt2.bam\n",
      "-rw-rw-r-- 1 sam sam 1.8K Jul 16 12:12 zr1394_16_s456_trimmed_bismark_bt2_SE_report.txt\n",
      "-rw-rw-r-- 1 sam sam 740M Jul 17 00:19 zr1394_17_s456_trimmed_bismark_bt2.bam\n",
      "-rw-rw-r-- 1 sam sam 1.8K Jul 17 00:19 zr1394_17_s456_trimmed_bismark_bt2_SE_report.txt\n",
      "-rw-rw-r-- 1 sam sam 1.1G Jul 17 16:42 zr1394_18_s456_trimmed_bismark_bt2.bam\n",
      "-rw-rw-r-- 1 sam sam 1.8K Jul 17 16:42 zr1394_18_s456_trimmed_bismark_bt2_SE_report.txt\n",
      "-rw-rw-r-- 1 sam sam 829M Jul 18 06:19 zr1394_1_s456_trimmed_bismark_bt2.bam\n",
      "-rw-rw-r-- 1 sam sam 1.8K Jul 18 06:19 zr1394_1_s456_trimmed_bismark_bt2_SE_report.txt\n",
      "-rw-rw-r-- 1 sam sam 843M Jul 18 19:50 zr1394_2_s456_trimmed_bismark_bt2.bam\n",
      "-rw-rw-r-- 1 sam sam 1.8K Jul 18 19:50 zr1394_2_s456_trimmed_bismark_bt2_SE_report.txt\n",
      "-rw-rw-r-- 1 sam sam 842M Jul 19 09:46 zr1394_3_s456_trimmed_bismark_bt2.bam\n",
      "-rw-rw-r-- 1 sam sam 1.8K Jul 19 09:46 zr1394_3_s456_trimmed_bismark_bt2_SE_report.txt\n",
      "-rw-rw-r-- 1 sam sam 793M Jul 19 22:46 zr1394_4_s456_trimmed_bismark_bt2.bam\n",
      "-rw-rw-r-- 1 sam sam 1.8K Jul 19 22:46 zr1394_4_s456_trimmed_bismark_bt2_SE_report.txt\n",
      "-rw-rw-r-- 1 sam sam 892M Jul 20 12:53 zr1394_5_s456_trimmed_bismark_bt2.bam\n",
      "-rw-rw-r-- 1 sam sam 1.8K Jul 20 12:53 zr1394_5_s456_trimmed_bismark_bt2_SE_report.txt\n",
      "-rw-rw-r-- 1 sam sam 879M Jul 21 02:44 zr1394_6_s456_trimmed_bismark_bt2.bam\n",
      "-rw-rw-r-- 1 sam sam 1.8K Jul 21 02:44 zr1394_6_s456_trimmed_bismark_bt2_SE_report.txt\n",
      "-rw-rw-r-- 1 sam sam 878M Jul 21 17:06 zr1394_7_s456_trimmed_bismark_bt2.bam\n",
      "-rw-rw-r-- 1 sam sam 1.8K Jul 21 17:06 zr1394_7_s456_trimmed_bismark_bt2_SE_report.txt\n",
      "-rw-rw-r-- 1 sam sam 690M Jul 22 04:21 zr1394_8_s456_trimmed_bismark_bt2.bam\n",
      "-rw-rw-r-- 1 sam sam 1.8K Jul 22 04:21 zr1394_8_s456_trimmed_bismark_bt2_SE_report.txt\n",
      "-rw-rw-r-- 1 sam sam 1.4G Jul 23 03:25 zr1394_9_s456_trimmed_bismark_bt2.bam\n",
      "-rw-rw-r-- 1 sam sam 1.8K Jul 23 03:25 zr1394_9_s456_trimmed_bismark_bt2_SE_report.txt\n"
     ]
    },
    {
     "name": "stderr",
     "output_type": "stream",
     "text": [
      "mv: cannot stat '*bt2*': No such file or directory\n"
     ]
    }
   ],
   "source": [
    "%%bash\n",
    "mv *bt2* /home/sam/analyses/20180709_oly_methylseq/\n",
    "ls -lh /home/sam/analyses/20180709_oly_methylseq/"
   ]
  },
  {
   "cell_type": "markdown",
   "metadata": {},
   "source": [
    "#### Deduplication"
   ]
  },
  {
   "cell_type": "code",
   "execution_count": 2,
   "metadata": {
    "collapsed": false
   },
   "outputs": [
    {
     "name": "stderr",
     "output_type": "stream",
     "text": [
      "\n",
      "real\t132m33.812s\n",
      "user\t254m16.060s\n",
      "sys\t4m15.860s\n"
     ]
    }
   ],
   "source": [
    "%%bash\n",
    "cd /home/sam/analyses/20180709_oly_methylseq/\n",
    "time \\\n",
    "/home/shared/Bismark-0.19.1/deduplicate_bismark \\\n",
    "--bam \\\n",
    "--single \\\n",
    "*.bam \\\n",
    "1> 20180805_dedup.out \\\n",
    "2> 20180805_dedup.err\n",
    "sed '/^Subject:/ s/ / deduplication JOB COMPLETE/' ~/.default-subject.mail | msmtp \"$EMAIL\""
   ]
  },
  {
   "cell_type": "code",
   "execution_count": 3,
   "metadata": {
    "collapsed": false
   },
   "outputs": [
    {
     "name": "stdout",
     "output_type": "stream",
     "text": [
      "total 35G\n",
      "-rw-rw-r-- 1 sam sam 239M Jul  9 13:14 1_ATCACG_L001_R1_001_trimmed_bismark_bt2.bam\n",
      "-rw-rw-r-- 1 sam sam 213M Aug  6 12:59 1_ATCACG_L001_R1_001_trimmed_bismark_bt2.deduplicated.bam\n",
      "-rw-rw-r-- 1 sam sam  296 Aug  6 12:59 1_ATCACG_L001_R1_001_trimmed_bismark_bt2.deduplication_report.txt\n",
      "-rw-rw-r-- 1 sam sam 1.8K Jul  9 13:14 1_ATCACG_L001_R1_001_trimmed_bismark_bt2_SE_report.txt\n",
      "-rw-rw-r-- 1 sam sam    0 Jul 23 03:25 20180709_bismark_01.err\n",
      "-rw-rw-r-- 1 sam sam  18M Jul 23 03:25 20180709_bismark_01.out\n",
      "-rw-rw-r-- 1 sam sam  16K Aug  6 15:10 20180805_dedup.err\n",
      "-rw-rw-r-- 1 sam sam 849M Aug  6 15:10 20180805_dedup.out\n",
      "-rw-rw-r-- 1 sam sam 296M Jul  9 17:05 2_CGATGT_L001_R1_001_trimmed_bismark_bt2.bam\n",
      "-rw-rw-r-- 1 sam sam 261M Aug  6 13:01 2_CGATGT_L001_R1_001_trimmed_bismark_bt2.deduplicated.bam\n",
      "-rw-rw-r-- 1 sam sam  296 Aug  6 13:01 2_CGATGT_L001_R1_001_trimmed_bismark_bt2.deduplication_report.txt\n",
      "-rw-rw-r-- 1 sam sam 1.8K Jul  9 17:05 2_CGATGT_L001_R1_001_trimmed_bismark_bt2_SE_report.txt\n",
      "-rw-rw-r-- 1 sam sam 295M Jul  9 20:52 3_TTAGGC_L001_R1_001_trimmed_bismark_bt2.bam\n",
      "-rw-rw-r-- 1 sam sam 259M Aug  6 13:03 3_TTAGGC_L001_R1_001_trimmed_bismark_bt2.deduplicated.bam\n",
      "-rw-rw-r-- 1 sam sam  296 Aug  6 13:03 3_TTAGGC_L001_R1_001_trimmed_bismark_bt2.deduplication_report.txt\n",
      "-rw-rw-r-- 1 sam sam 1.8K Jul  9 20:52 3_TTAGGC_L001_R1_001_trimmed_bismark_bt2_SE_report.txt\n",
      "-rw-rw-r-- 1 sam sam 293M Jul 10 00:39 4_TGACCA_L001_R1_001_trimmed_bismark_bt2.bam\n",
      "-rw-rw-r-- 1 sam sam 260M Aug  6 13:05 4_TGACCA_L001_R1_001_trimmed_bismark_bt2.deduplicated.bam\n",
      "-rw-rw-r-- 1 sam sam  296 Aug  6 13:05 4_TGACCA_L001_R1_001_trimmed_bismark_bt2.deduplication_report.txt\n",
      "-rw-rw-r-- 1 sam sam 1.8K Jul 10 00:39 4_TGACCA_L001_R1_001_trimmed_bismark_bt2_SE_report.txt\n",
      "-rw-rw-r-- 1 sam sam 310M Jul 10 04:40 5_ACAGTG_L001_R1_001_trimmed_bismark_bt2.bam\n",
      "-rw-rw-r-- 1 sam sam 271M Aug  6 13:08 5_ACAGTG_L001_R1_001_trimmed_bismark_bt2.deduplicated.bam\n",
      "-rw-rw-r-- 1 sam sam  296 Aug  6 13:08 5_ACAGTG_L001_R1_001_trimmed_bismark_bt2.deduplication_report.txt\n",
      "-rw-rw-r-- 1 sam sam 1.8K Jul 10 04:40 5_ACAGTG_L001_R1_001_trimmed_bismark_bt2_SE_report.txt\n",
      "-rw-rw-r-- 1 sam sam 307M Jul 10 08:39 6_GCCAAT_L001_R1_001_trimmed_bismark_bt2.bam\n",
      "-rw-rw-r-- 1 sam sam 270M Aug  6 13:10 6_GCCAAT_L001_R1_001_trimmed_bismark_bt2.deduplicated.bam\n",
      "-rw-rw-r-- 1 sam sam  296 Aug  6 13:10 6_GCCAAT_L001_R1_001_trimmed_bismark_bt2.deduplication_report.txt\n",
      "-rw-rw-r-- 1 sam sam 1.8K Jul 10 08:39 6_GCCAAT_L001_R1_001_trimmed_bismark_bt2_SE_report.txt\n",
      "-rw-rw-r-- 1 sam sam 258M Jul 10 12:00 7_CAGATC_L001_R1_001_trimmed_bismark_bt2.bam\n",
      "-rw-rw-r-- 1 sam sam 233M Aug  6 13:12 7_CAGATC_L001_R1_001_trimmed_bismark_bt2.deduplicated.bam\n",
      "-rw-rw-r-- 1 sam sam  296 Aug  6 13:12 7_CAGATC_L001_R1_001_trimmed_bismark_bt2.deduplication_report.txt\n",
      "-rw-rw-r-- 1 sam sam 1.8K Jul 10 12:00 7_CAGATC_L001_R1_001_trimmed_bismark_bt2_SE_report.txt\n",
      "-rw-rw-r-- 1 sam sam 351M Jul 10 16:34 8_ACTTGA_L001_R1_001_trimmed_bismark_bt2.bam\n",
      "-rw-rw-r-- 1 sam sam 307M Aug  6 13:14 8_ACTTGA_L001_R1_001_trimmed_bismark_bt2.deduplicated.bam\n",
      "-rw-rw-r-- 1 sam sam  296 Aug  6 13:14 8_ACTTGA_L001_R1_001_trimmed_bismark_bt2.deduplication_report.txt\n",
      "-rw-rw-r-- 1 sam sam 1.8K Jul 10 16:34 8_ACTTGA_L001_R1_001_trimmed_bismark_bt2_SE_report.txt\n",
      "-rw-rw-r-- 1 sam sam 1.5G Jul 11 15:33 zr1394_10_s456_trimmed_bismark_bt2.bam\n",
      "-rw-rw-r-- 1 sam sam 520M Aug  6 13:23 zr1394_10_s456_trimmed_bismark_bt2.deduplicated.bam\n",
      "-rw-rw-r-- 1 sam sam  294 Aug  6 13:23 zr1394_10_s456_trimmed_bismark_bt2.deduplication_report.txt\n",
      "-rw-rw-r-- 1 sam sam 1.8K Jul 11 15:33 zr1394_10_s456_trimmed_bismark_bt2_SE_report.txt\n",
      "-rw-rw-r-- 1 sam sam 901M Jul 12 06:54 zr1394_11_s456_trimmed_bismark_bt2.bam\n",
      "-rw-rw-r-- 1 sam sam 478M Aug  6 13:28 zr1394_11_s456_trimmed_bismark_bt2.deduplicated.bam\n",
      "-rw-rw-r-- 1 sam sam  293 Aug  6 13:28 zr1394_11_s456_trimmed_bismark_bt2.deduplication_report.txt\n",
      "-rw-rw-r-- 1 sam sam 1.8K Jul 12 06:55 zr1394_11_s456_trimmed_bismark_bt2_SE_report.txt\n",
      "-rw-rw-r-- 1 sam sam 1.2G Jul 13 00:37 zr1394_12_s456_trimmed_bismark_bt2.bam\n",
      "-rw-rw-r-- 1 sam sam 776M Aug  6 13:36 zr1394_12_s456_trimmed_bismark_bt2.deduplicated.bam\n",
      "-rw-rw-r-- 1 sam sam  294 Aug  6 13:36 zr1394_12_s456_trimmed_bismark_bt2.deduplication_report.txt\n",
      "-rw-rw-r-- 1 sam sam 1.8K Jul 13 00:37 zr1394_12_s456_trimmed_bismark_bt2_SE_report.txt\n",
      "-rw-rw-r-- 1 sam sam 1.1G Jul 13 19:08 zr1394_13_s456_trimmed_bismark_bt2.bam\n",
      "-rw-rw-r-- 1 sam sam 648M Aug  6 13:42 zr1394_13_s456_trimmed_bismark_bt2.deduplicated.bam\n",
      "-rw-rw-r-- 1 sam sam  294 Aug  6 13:42 zr1394_13_s456_trimmed_bismark_bt2.deduplication_report.txt\n",
      "-rw-rw-r-- 1 sam sam 1.8K Jul 13 19:08 zr1394_13_s456_trimmed_bismark_bt2_SE_report.txt\n",
      "-rw-rw-r-- 1 sam sam 1.5G Jul 14 20:01 zr1394_14_s456_trimmed_bismark_bt2.bam\n",
      "-rw-rw-r-- 1 sam sam 829M Aug  6 13:51 zr1394_14_s456_trimmed_bismark_bt2.deduplicated.bam\n",
      "-rw-rw-r-- 1 sam sam  295 Aug  6 13:51 zr1394_14_s456_trimmed_bismark_bt2.deduplication_report.txt\n",
      "-rw-rw-r-- 1 sam sam 1.8K Jul 14 20:01 zr1394_14_s456_trimmed_bismark_bt2_SE_report.txt\n",
      "-rw-rw-r-- 1 sam sam 1.2G Jul 15 15:12 zr1394_15_s456_trimmed_bismark_bt2.bam\n",
      "-rw-rw-r-- 1 sam sam 626M Aug  6 13:58 zr1394_15_s456_trimmed_bismark_bt2.deduplicated.bam\n",
      "-rw-rw-r-- 1 sam sam  294 Aug  6 13:58 zr1394_15_s456_trimmed_bismark_bt2.deduplication_report.txt\n",
      "-rw-rw-r-- 1 sam sam 1.8K Jul 15 15:13 zr1394_15_s456_trimmed_bismark_bt2_SE_report.txt\n",
      "-rw-rw-r-- 1 sam sam 1.2G Jul 16 12:12 zr1394_16_s456_trimmed_bismark_bt2.bam\n",
      "-rw-rw-r-- 1 sam sam 690M Aug  6 14:05 zr1394_16_s456_trimmed_bismark_bt2.deduplicated.bam\n",
      "-rw-rw-r-- 1 sam sam  294 Aug  6 14:05 zr1394_16_s456_trimmed_bismark_bt2.deduplication_report.txt\n",
      "-rw-rw-r-- 1 sam sam 1.8K Jul 16 12:12 zr1394_16_s456_trimmed_bismark_bt2_SE_report.txt\n",
      "-rw-rw-r-- 1 sam sam 740M Jul 17 00:19 zr1394_17_s456_trimmed_bismark_bt2.bam\n",
      "-rw-rw-r-- 1 sam sam 457M Aug  6 14:09 zr1394_17_s456_trimmed_bismark_bt2.deduplicated.bam\n",
      "-rw-rw-r-- 1 sam sam  293 Aug  6 14:09 zr1394_17_s456_trimmed_bismark_bt2.deduplication_report.txt\n",
      "-rw-rw-r-- 1 sam sam 1.8K Jul 17 00:19 zr1394_17_s456_trimmed_bismark_bt2_SE_report.txt\n",
      "-rw-rw-r-- 1 sam sam 1.1G Jul 17 16:42 zr1394_18_s456_trimmed_bismark_bt2.bam\n",
      "-rw-rw-r-- 1 sam sam 690M Aug  6 14:16 zr1394_18_s456_trimmed_bismark_bt2.deduplicated.bam\n",
      "-rw-rw-r-- 1 sam sam  294 Aug  6 14:16 zr1394_18_s456_trimmed_bismark_bt2.deduplication_report.txt\n",
      "-rw-rw-r-- 1 sam sam 1.8K Jul 17 16:42 zr1394_18_s456_trimmed_bismark_bt2_SE_report.txt\n",
      "-rw-rw-r-- 1 sam sam 829M Jul 18 06:19 zr1394_1_s456_trimmed_bismark_bt2.bam\n",
      "-rw-rw-r-- 1 sam sam 588M Aug  6 14:21 zr1394_1_s456_trimmed_bismark_bt2.deduplicated.bam\n",
      "-rw-rw-r-- 1 sam sam  293 Aug  6 14:21 zr1394_1_s456_trimmed_bismark_bt2.deduplication_report.txt\n",
      "-rw-rw-r-- 1 sam sam 1.8K Jul 18 06:19 zr1394_1_s456_trimmed_bismark_bt2_SE_report.txt\n",
      "-rw-rw-r-- 1 sam sam 843M Jul 18 19:50 zr1394_2_s456_trimmed_bismark_bt2.bam\n",
      "-rw-rw-r-- 1 sam sam 591M Aug  6 14:27 zr1394_2_s456_trimmed_bismark_bt2.deduplicated.bam\n",
      "-rw-rw-r-- 1 sam sam  293 Aug  6 14:27 zr1394_2_s456_trimmed_bismark_bt2.deduplication_report.txt\n",
      "-rw-rw-r-- 1 sam sam 1.8K Jul 18 19:50 zr1394_2_s456_trimmed_bismark_bt2_SE_report.txt\n",
      "-rw-rw-r-- 1 sam sam 842M Jul 19 09:46 zr1394_3_s456_trimmed_bismark_bt2.bam\n",
      "-rw-rw-r-- 1 sam sam 601M Aug  6 14:33 zr1394_3_s456_trimmed_bismark_bt2.deduplicated.bam\n",
      "-rw-rw-r-- 1 sam sam  293 Aug  6 14:33 zr1394_3_s456_trimmed_bismark_bt2.deduplication_report.txt\n",
      "-rw-rw-r-- 1 sam sam 1.8K Jul 19 09:46 zr1394_3_s456_trimmed_bismark_bt2_SE_report.txt\n",
      "-rw-rw-r-- 1 sam sam 793M Jul 19 22:46 zr1394_4_s456_trimmed_bismark_bt2.bam\n",
      "-rw-rw-r-- 1 sam sam 550M Aug  6 14:38 zr1394_4_s456_trimmed_bismark_bt2.deduplicated.bam\n",
      "-rw-rw-r-- 1 sam sam  292 Aug  6 14:38 zr1394_4_s456_trimmed_bismark_bt2.deduplication_report.txt\n",
      "-rw-rw-r-- 1 sam sam 1.8K Jul 19 22:46 zr1394_4_s456_trimmed_bismark_bt2_SE_report.txt\n",
      "-rw-rw-r-- 1 sam sam 892M Jul 20 12:53 zr1394_5_s456_trimmed_bismark_bt2.bam\n",
      "-rw-rw-r-- 1 sam sam 673M Aug  6 14:44 zr1394_5_s456_trimmed_bismark_bt2.deduplicated.bam\n",
      "-rw-rw-r-- 1 sam sam  293 Aug  6 14:44 zr1394_5_s456_trimmed_bismark_bt2.deduplication_report.txt\n",
      "-rw-rw-r-- 1 sam sam 1.8K Jul 20 12:53 zr1394_5_s456_trimmed_bismark_bt2_SE_report.txt\n",
      "-rw-rw-r-- 1 sam sam 879M Jul 21 02:44 zr1394_6_s456_trimmed_bismark_bt2.bam\n",
      "-rw-rw-r-- 1 sam sam 674M Aug  6 14:50 zr1394_6_s456_trimmed_bismark_bt2.deduplicated.bam\n",
      "-rw-rw-r-- 1 sam sam  293 Aug  6 14:50 zr1394_6_s456_trimmed_bismark_bt2.deduplication_report.txt\n",
      "-rw-rw-r-- 1 sam sam 1.8K Jul 21 02:44 zr1394_6_s456_trimmed_bismark_bt2_SE_report.txt\n",
      "-rw-rw-r-- 1 sam sam 878M Jul 21 17:06 zr1394_7_s456_trimmed_bismark_bt2.bam\n",
      "-rw-rw-r-- 1 sam sam 617M Aug  6 14:56 zr1394_7_s456_trimmed_bismark_bt2.deduplicated.bam\n",
      "-rw-rw-r-- 1 sam sam  293 Aug  6 14:56 zr1394_7_s456_trimmed_bismark_bt2.deduplication_report.txt\n",
      "-rw-rw-r-- 1 sam sam 1.8K Jul 21 17:06 zr1394_7_s456_trimmed_bismark_bt2_SE_report.txt\n",
      "-rw-rw-r-- 1 sam sam 690M Jul 22 04:21 zr1394_8_s456_trimmed_bismark_bt2.bam\n",
      "-rw-rw-r-- 1 sam sam 491M Aug  6 15:01 zr1394_8_s456_trimmed_bismark_bt2.deduplicated.bam\n",
      "-rw-rw-r-- 1 sam sam  292 Aug  6 15:01 zr1394_8_s456_trimmed_bismark_bt2.deduplication_report.txt\n",
      "-rw-rw-r-- 1 sam sam 1.8K Jul 22 04:21 zr1394_8_s456_trimmed_bismark_bt2_SE_report.txt\n",
      "-rw-rw-r-- 1 sam sam 1.4G Jul 23 03:25 zr1394_9_s456_trimmed_bismark_bt2.bam\n",
      "-rw-rw-r-- 1 sam sam 945M Aug  6 15:10 zr1394_9_s456_trimmed_bismark_bt2.deduplicated.bam\n",
      "-rw-rw-r-- 1 sam sam  293 Aug  6 15:10 zr1394_9_s456_trimmed_bismark_bt2.deduplication_report.txt\n",
      "-rw-rw-r-- 1 sam sam 1.8K Jul 23 03:25 zr1394_9_s456_trimmed_bismark_bt2_SE_report.txt\n"
     ]
    }
   ],
   "source": [
    "%%bash\n",
    "cd /home/sam/analyses/20180709_oly_methylseq/\n",
    "ls -lh"
   ]
  },
  {
   "cell_type": "markdown",
   "metadata": {},
   "source": [
    "#### Methylation extraction"
   ]
  },
  {
   "cell_type": "code",
   "execution_count": 4,
   "metadata": {
    "collapsed": false
   },
   "outputs": [
    {
     "name": "stderr",
     "output_type": "stream",
     "text": [
      "\n",
      "real\t120m22.874s\n",
      "user\t911m12.688s\n",
      "sys\t191m7.556s\n"
     ]
    }
   ],
   "source": [
    "%%bash\n",
    "cd /home/sam/analyses/20180709_oly_methylseq/\n",
    "time \\\n",
    "/home/shared/Bismark-0.19.1/bismark_methylation_extractor \\\n",
    "--bedgraph \\\n",
    "--counts \\\n",
    "--scaffolds \\\n",
    "--remove_spaces \\\n",
    "--multicore 16 \\\n",
    "--buffer_size 75% \\\n",
    "*deduplicated.bam \\\n",
    "1> 20180806_methyl_extraction.out \\\n",
    "2> 20180806_methyl_extraction.err\n",
    "sed '/^Subject:/ s/ / methyl extraction JOB COMPLETE/' ~/.default-subject.mail | msmtp \"$EMAIL\""
   ]
  },
  {
   "cell_type": "code",
   "execution_count": null,
   "metadata": {
    "collapsed": true
   },
   "outputs": [],
   "source": []
  }
 ],
 "metadata": {
  "kernelspec": {
   "display_name": "Python 2",
   "language": "python",
   "name": "python2"
  },
  "language_info": {
   "codemirror_mode": {
    "name": "ipython",
    "version": 2
   },
   "file_extension": ".py",
   "mimetype": "text/x-python",
   "name": "python",
   "nbconvert_exporter": "python",
   "pygments_lexer": "ipython2",
   "version": "2.7.12"
  }
 },
 "nbformat": 4,
 "nbformat_minor": 2
}
