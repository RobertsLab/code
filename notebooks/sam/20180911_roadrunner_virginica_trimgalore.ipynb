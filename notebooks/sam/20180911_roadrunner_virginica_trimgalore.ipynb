{
 "cells": [
  {
   "cell_type": "code",
   "execution_count": 1,
   "metadata": {},
   "outputs": [
    {
     "name": "stdout",
     "output_type": "stream",
     "text": [
      "TODAY'S DATE:\n",
      "Tue Sep 11 12:47:33 PDT 2018\n",
      "------------\n",
      "\n",
      "Distributor ID:\tUbuntu\n",
      "Description:\tUbuntu 16.04.5 LTS\n",
      "Release:\t16.04\n",
      "Codename:\txenial\n",
      "\n",
      "------------\n",
      "HOSTNAME: \n",
      "roadrunner\n",
      "\n",
      "------------\n",
      "Computer Specs:\n",
      "\n",
      "Architecture:          x86_64\n",
      "CPU op-mode(s):        32-bit, 64-bit\n",
      "Byte Order:            Little Endian\n",
      "CPU(s):                16\n",
      "On-line CPU(s) list:   0-15\n",
      "Thread(s) per core:    2\n",
      "Core(s) per socket:    4\n",
      "Socket(s):             2\n",
      "NUMA node(s):          1\n",
      "Vendor ID:             GenuineIntel\n",
      "CPU family:            6\n",
      "Model:                 26\n",
      "Model name:            Intel(R) Xeon(R) CPU           E5520  @ 2.27GHz\n",
      "Stepping:              5\n",
      "CPU MHz:               2394.000\n",
      "CPU max MHz:           2394.0000\n",
      "CPU min MHz:           1596.0000\n",
      "BogoMIPS:              4521.80\n",
      "Virtualization:        VT-x\n",
      "L1d cache:             32K\n",
      "L1i cache:             32K\n",
      "L2 cache:              256K\n",
      "L3 cache:              8192K\n",
      "NUMA node0 CPU(s):     0-15\n",
      "Flags:                 fpu vme de pse tsc msr pae mce cx8 apic sep mtrr pge mca cmov pat pse36 clflush dts acpi mmx fxsr sse sse2 ss ht tm pbe syscall nx rdtscp lm constant_tsc arch_perfmon pebs bts nopl xtopology nonstop_tsc aperfmperf eagerfpu pni dtes64 monitor ds_cpl vmx est tm2 ssse3 cx16 xtpr pdcm dca sse4_1 sse4_2 popcnt lahf_lm kaiser tpr_shadow vnmi flexpriority ept vpid dtherm ida\n",
      "\n",
      "------------\n",
      "\n",
      "Memory Specs\n",
      "\n",
      "              total        used        free      shared  buff/cache   available\n",
      "Mem:            47G        2.1G        9.8G        559M         35G         43G\n",
      "Swap:           47G          0B         47G\n"
     ]
    },
    {
     "name": "stderr",
     "output_type": "stream",
     "text": [
      "No LSB modules are available.\n"
     ]
    }
   ],
   "source": [
    "%%bash\n",
    "echo \"TODAY'S DATE:\"\n",
    "date\n",
    "echo \"------------\"\n",
    "echo \"\"\n",
    "#Display operating system info\n",
    "lsb_release -a\n",
    "echo \"\"\n",
    "echo \"------------\"\n",
    "echo \"HOSTNAME: \"; hostname \n",
    "echo \"\"\n",
    "echo \"------------\"\n",
    "echo \"Computer Specs:\"\n",
    "echo \"\"\n",
    "lscpu\n",
    "echo \"\"\n",
    "echo \"------------\"\n",
    "echo \"\"\n",
    "echo \"Memory Specs\"\n",
    "echo \"\"\n",
    "free -mh"
   ]
  },
  {
   "cell_type": "code",
   "execution_count": 2,
   "metadata": {},
   "outputs": [
    {
     "name": "stdout",
     "output_type": "stream",
     "text": [
      "20180910_Cvirginica_oil_fastqc\n",
      "2112_lane1_ACAGTG.fastq.gz\n",
      "2112_lane1_ATCACG.fastq.gz\n",
      "2112_lane1_CAGATC.fastq.gz\n",
      "2112_lane1_GCCAAT.fastq.gz\n",
      "2112_lane1_TGACCA.fastq.gz\n",
      "2112_lane1_TTAGGC.fastq.gz\n"
     ]
    }
   ],
   "source": [
    "%%bash\n",
    "ls /home/sam/data/Cvirginica/concatenated/"
   ]
  },
  {
   "cell_type": "code",
   "execution_count": 3,
   "metadata": {},
   "outputs": [
    {
     "name": "stderr",
     "output_type": "stream",
     "text": [
      "\n",
      "real\t0m0.091s\n",
      "user\t0m0.044s\n",
      "sys\t0m0.004s\n"
     ]
    }
   ],
   "source": [
    "%%bash\n",
    "mkdir /home/sam/analyses/20180911_virginica_oil_trimgalore_01\n",
    "mkdir /home/sam/analyses/20180911_virginica_oil_trimgalore_01/20180911_virginica_oil_trimmed_fastqc\n",
    "cd /home/sam/data/Cvirginica/concatenated/\n",
    "\n",
    "time \\\n",
    "/home/shared/TrimGalore-0.4.5/trim_galore \\\n",
    "--ouput_dir /home/sam/analyses/20180911_virginica_oil_trimgalore_01 \\\n",
    "--fastqc_args \\\n",
    "\"--outdir /home/sam/analyses/20180911_virginica_oil_trimgalore_01/20180911_virginica_oil_trimmed_fastqc \\\n",
    "--threads 16\" \\\n",
    "2112_lane1_ACAGTG.fastq.gz \\\n",
    "2112_lane1_ATCACG.fastq.gz \\\n",
    "2112_lane1_CAGATC.fastq.gz \\\n",
    "2112_lane1_GCCAAT.fastq.gz \\\n",
    "2112_lane1_TGACCA.fastq.gz \\\n",
    "2112_lane1_TTAGGC.fastq.gz \\\n",
    "> /home/sam/analyses/20180911_virginica_oil_trimgalore_01/20180911_trimgalore.stdout.log \\\n",
    "2> /home/sam/analyses/20180911_virginica_oil_trimgalore_01/20180911_trimgalore.stderr.log\n",
    "\n",
    "sed '/^Subject:/ s/ / trimgalore JOB COMPLETE/' ~/.default-subject.mail | msmtp \"$EMAIL\""
   ]
  },
  {
   "cell_type": "code",
   "execution_count": 4,
   "metadata": {
    "collapsed": true
   },
   "outputs": [],
   "source": [
    "%%bash\n",
    "tail /home/sam/analyses/20180911_virginica_oil_trimgalore_01/20180911_trimgalore.stdout.log"
   ]
  },
  {
   "cell_type": "code",
   "execution_count": 5,
   "metadata": {},
   "outputs": [
    {
     "name": "stdout",
     "output_type": "stream",
     "text": [
      "Unknown option: ouput_dir\n",
      "Please respecify command line options\n"
     ]
    }
   ],
   "source": [
    "%%bash\n",
    "tail /home/sam/analyses/20180911_virginica_oil_trimgalore_01/20180911_trimgalore.stderr.log"
   ]
  },
  {
   "cell_type": "markdown",
   "metadata": {},
   "source": [
    "#### Fix typo"
   ]
  },
  {
   "cell_type": "code",
   "execution_count": 6,
   "metadata": {},
   "outputs": [
    {
     "name": "stderr",
     "output_type": "stream",
     "text": [
      "mkdir: cannot create directory ‘/home/sam/analyses/20180911_virginica_oil_trimgalore_01’: File exists\n",
      "mkdir: cannot create directory ‘/home/sam/analyses/20180911_virginica_oil_trimgalore_01/20180911_virginica_oil_trimmed_fastqc’: File exists\n",
      "\n",
      "real\t78m53.332s\n",
      "user\t144m38.712s\n",
      "sys\t3m52.692s\n"
     ]
    }
   ],
   "source": [
    "%%bash\n",
    "mkdir /home/sam/analyses/20180911_virginica_oil_trimgalore_01\n",
    "mkdir /home/sam/analyses/20180911_virginica_oil_trimgalore_01/20180911_virginica_oil_trimmed_fastqc\n",
    "cd /home/sam/data/Cvirginica/concatenated/\n",
    "\n",
    "time \\\n",
    "/home/shared/TrimGalore-0.4.5/trim_galore \\\n",
    "--output_dir /home/sam/analyses/20180911_virginica_oil_trimgalore_01 \\\n",
    "--fastqc_args \\\n",
    "\"--outdir /home/sam/analyses/20180911_virginica_oil_trimgalore_01/20180911_virginica_oil_trimmed_fastqc \\\n",
    "--threads 16\" \\\n",
    "2112_lane1_ACAGTG.fastq.gz \\\n",
    "2112_lane1_ATCACG.fastq.gz \\\n",
    "2112_lane1_CAGATC.fastq.gz \\\n",
    "2112_lane1_GCCAAT.fastq.gz \\\n",
    "2112_lane1_TGACCA.fastq.gz \\\n",
    "2112_lane1_TTAGGC.fastq.gz \\\n",
    "> /home/sam/analyses/20180911_virginica_oil_trimgalore_01/20180911_trimgalore.stdout.log \\\n",
    "2> /home/sam/analyses/20180911_virginica_oil_trimgalore_01/20180911_trimgalore.stderr.log\n",
    "\n",
    "sed '/^Subject:/ s/ / trimgalore JOB COMPLETE/' ~/.default-subject.mail | msmtp \"$EMAIL\""
   ]
  },
  {
   "cell_type": "code",
   "execution_count": 7,
   "metadata": {},
   "outputs": [
    {
     "name": "stdout",
     "output_type": "stream",
     "text": [
      "20180911_trimgalore.stderr.log\n",
      "20180911_trimgalore.stdout.log\n",
      "20180911_virginica_oil_trimmed_fastqc\n",
      "2112_lane1_ACAGTG.fastq.gz_trimming_report.txt\n",
      "2112_lane1_ACAGTG_trimmed.fq.gz\n",
      "2112_lane1_ATCACG.fastq.gz_trimming_report.txt\n",
      "2112_lane1_ATCACG_trimmed.fq.gz\n",
      "2112_lane1_CAGATC.fastq.gz_trimming_report.txt\n",
      "2112_lane1_CAGATC_trimmed.fq.gz\n",
      "2112_lane1_GCCAAT.fastq.gz_trimming_report.txt\n",
      "2112_lane1_GCCAAT_trimmed.fq.gz\n",
      "2112_lane1_TGACCA.fastq.gz_trimming_report.txt\n",
      "2112_lane1_TGACCA_trimmed.fq.gz\n",
      "2112_lane1_TTAGGC.fastq.gz_trimming_report.txt\n",
      "2112_lane1_TTAGGC_trimmed.fq.gz\n"
     ]
    }
   ],
   "source": [
    "%%bash\n",
    "ls /home/sam/analyses/20180911_virginica_oil_trimgalore_01"
   ]
  },
  {
   "cell_type": "code",
   "execution_count": 8,
   "metadata": {},
   "outputs": [
    {
     "name": "stdout",
     "output_type": "stream",
     "text": [
      "2112_lane1_ACAGTG_trimmed_fastqc.html\n",
      "2112_lane1_ACAGTG_trimmed_fastqc.zip\n",
      "2112_lane1_ATCACG_trimmed_fastqc.html\n",
      "2112_lane1_ATCACG_trimmed_fastqc.zip\n",
      "2112_lane1_CAGATC_trimmed_fastqc.html\n",
      "2112_lane1_CAGATC_trimmed_fastqc.zip\n",
      "2112_lane1_GCCAAT_trimmed_fastqc.html\n",
      "2112_lane1_GCCAAT_trimmed_fastqc.zip\n",
      "2112_lane1_TGACCA_trimmed_fastqc.html\n",
      "2112_lane1_TGACCA_trimmed_fastqc.zip\n",
      "2112_lane1_TTAGGC_trimmed_fastqc.html\n",
      "2112_lane1_TTAGGC_trimmed_fastqc.zip\n"
     ]
    }
   ],
   "source": [
    "%%bash\n",
    "ls /home/sam/analyses/20180911_virginica_oil_trimgalore_01/20180911_virginica_oil_trimmed_fastqc"
   ]
  },
  {
   "cell_type": "code",
   "execution_count": 9,
   "metadata": {},
   "outputs": [
    {
     "name": "stdout",
     "output_type": "stream",
     "text": [
      "Searching 26 files..\n",
      "Searching 12 files..\n"
     ]
    },
    {
     "name": "stderr",
     "output_type": "stream",
     "text": [
      "[WARNING]         multiqc : MultiQC Version v1.6 now available!\n",
      "[INFO   ]         multiqc : This is MultiQC v1.5.dev0\n",
      "[INFO   ]         multiqc : Template    : default\n",
      "[INFO   ]         multiqc : Searching '.'\n",
      "[INFO   ]        cutadapt : Found 6 reports\n",
      "[INFO   ]          fastqc : Found 6 reports\n",
      "[INFO   ]         multiqc : Compressing plot data\n",
      "[INFO   ]         multiqc : Report      : multiqc_report.html\n",
      "[INFO   ]         multiqc : Data        : multiqc_data\n",
      "[INFO   ]         multiqc : MultiQC complete\n",
      "[WARNING]         multiqc : MultiQC Version v1.6 now available!\n",
      "[INFO   ]         multiqc : This is MultiQC v1.5.dev0\n",
      "[INFO   ]         multiqc : Template    : default\n",
      "[INFO   ]         multiqc : Searching '.'\n",
      "[INFO   ]          fastqc : Found 6 reports\n",
      "[INFO   ]         multiqc : Compressing plot data\n",
      "[INFO   ]         multiqc : Report      : multiqc_report.html\n",
      "[INFO   ]         multiqc : Data        : multiqc_data\n",
      "[INFO   ]         multiqc : MultiQC complete\n"
     ]
    }
   ],
   "source": [
    "%%bash\n",
    "cd /home/sam/analyses/20180911_virginica_oil_trimgalore_01\n",
    "multiqc .\n",
    "cd /home/sam/analyses/20180911_virginica_oil_trimgalore_01/20180911_virginica_oil_trimmed_fastqc\n",
    "multiqc .\n",
    "\n",
    "sed '/^Subject:/ s/ / multiqc JOB COMPLETE/' ~/.default-subject.mail | msmtp \"$EMAIL\""
   ]
  },
  {
   "cell_type": "markdown",
   "metadata": {},
   "source": [
    "#### Used ```sudo``` to copy to Owl outside of notebook"
   ]
  },
  {
   "cell_type": "code",
   "execution_count": 10,
   "metadata": {},
   "outputs": [
    {
     "name": "stdout",
     "output_type": "stream",
     "text": [
      "/mnt/owl/Athaliana/20180911_virginica_oil_trimgalore_01/\n",
      "├── 20180911_trimgalore.stderr.log\n",
      "├── 20180911_trimgalore.stdout.log\n",
      "├── 20180911_virginica_oil_trimmed_fastqc\n",
      "│   ├── 2112_lane1_ACAGTG_trimmed_fastqc.html\n",
      "│   ├── 2112_lane1_ACAGTG_trimmed_fastqc.zip\n",
      "│   ├── 2112_lane1_ATCACG_trimmed_fastqc.html\n",
      "│   ├── 2112_lane1_ATCACG_trimmed_fastqc.zip\n",
      "│   ├── 2112_lane1_CAGATC_trimmed_fastqc.html\n",
      "│   ├── 2112_lane1_CAGATC_trimmed_fastqc.zip\n",
      "│   ├── 2112_lane1_GCCAAT_trimmed_fastqc.html\n",
      "│   ├── 2112_lane1_GCCAAT_trimmed_fastqc.zip\n",
      "│   ├── 2112_lane1_TGACCA_trimmed_fastqc.html\n",
      "│   ├── 2112_lane1_TGACCA_trimmed_fastqc.zip\n",
      "│   ├── 2112_lane1_TTAGGC_trimmed_fastqc.html\n",
      "│   ├── 2112_lane1_TTAGGC_trimmed_fastqc.zip\n",
      "│   ├── multiqc_data\n",
      "│   │   ├── multiqc_data.json\n",
      "│   │   ├── multiqc_fastqc.txt\n",
      "│   │   ├── multiqc_general_stats.txt\n",
      "│   │   ├── multiqc.log\n",
      "│   │   └── multiqc_sources.txt\n",
      "│   └── multiqc_report.html\n",
      "├── 2112_lane1_ACAGTG.fastq.gz_trimming_report.txt\n",
      "├── 2112_lane1_ACAGTG_trimmed.fq.gz\n",
      "├── 2112_lane1_ATCACG.fastq.gz_trimming_report.txt\n",
      "├── 2112_lane1_ATCACG_trimmed.fq.gz\n",
      "├── 2112_lane1_CAGATC.fastq.gz_trimming_report.txt\n",
      "├── 2112_lane1_CAGATC_trimmed.fq.gz\n",
      "├── 2112_lane1_GCCAAT.fastq.gz_trimming_report.txt\n",
      "├── 2112_lane1_GCCAAT_trimmed.fq.gz\n",
      "├── 2112_lane1_TGACCA.fastq.gz_trimming_report.txt\n",
      "├── 2112_lane1_TGACCA_trimmed.fq.gz\n",
      "├── 2112_lane1_TTAGGC.fastq.gz_trimming_report.txt\n",
      "├── 2112_lane1_TTAGGC_trimmed.fq.gz\n",
      "├── multiqc_data\n",
      "│   ├── multiqc_cutadapt.txt\n",
      "│   ├── multiqc_data.json\n",
      "│   ├── multiqc_fastqc.txt\n",
      "│   ├── multiqc_general_stats.txt\n",
      "│   ├── multiqc.log\n",
      "│   └── multiqc_sources.txt\n",
      "└── multiqc_report.html\n",
      "\n",
      "3 directories, 39 files\n"
     ]
    }
   ],
   "source": [
    "%%bash\n",
    "tree /mnt/owl/Athaliana/20180911_virginica_oil_trimgalore_01/"
   ]
  },
  {
   "cell_type": "code",
   "execution_count": null,
   "metadata": {
    "collapsed": true
   },
   "outputs": [],
   "source": []
  }
 ],
 "metadata": {
  "kernelspec": {
   "display_name": "Python 3",
   "language": "python",
   "name": "python3"
  },
  "language_info": {
   "codemirror_mode": {
    "name": "ipython",
    "version": 3
   },
   "file_extension": ".py",
   "mimetype": "text/x-python",
   "name": "python",
   "nbconvert_exporter": "python",
   "pygments_lexer": "ipython3",
   "version": "3.6.3"
  }
 },
 "nbformat": 4,
 "nbformat_minor": 2
}
