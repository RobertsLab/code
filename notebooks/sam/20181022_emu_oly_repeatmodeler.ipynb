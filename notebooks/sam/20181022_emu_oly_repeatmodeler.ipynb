{
 "cells": [
  {
   "cell_type": "code",
   "execution_count": 1,
   "metadata": {
    "collapsed": false
   },
   "outputs": [
    {
     "name": "stdout",
     "output_type": "stream",
     "text": [
      "TODAY'S DATE:\n",
      "Mon Oct 22 14:15:28 PDT 2018\n",
      "------------\n",
      "\n",
      "Distributor ID:\tUbuntu\n",
      "Description:\tUbuntu 16.04.5 LTS\n",
      "Release:\t16.04\n",
      "Codename:\txenial\n",
      "\n",
      "------------\n",
      "HOSTNAME: \n",
      "emu\n",
      "\n",
      "------------\n",
      "Computer Specs:\n",
      "\n",
      "Architecture:          x86_64\n",
      "CPU op-mode(s):        32-bit, 64-bit\n",
      "Byte Order:            Little Endian\n",
      "CPU(s):                16\n",
      "On-line CPU(s) list:   0-15\n",
      "Thread(s) per core:    2\n",
      "Core(s) per socket:    4\n",
      "Socket(s):             2\n",
      "NUMA node(s):          1\n",
      "Vendor ID:             GenuineIntel\n",
      "CPU family:            6\n",
      "Model:                 26\n",
      "Model name:            Intel(R) Xeon(R) CPU           E5520  @ 2.27GHz\n",
      "Stepping:              5\n",
      "CPU MHz:               2394.000\n",
      "CPU max MHz:           2394.0000\n",
      "CPU min MHz:           1596.0000\n",
      "BogoMIPS:              4521.80\n",
      "Virtualization:        VT-x\n",
      "L1d cache:             32K\n",
      "L1i cache:             32K\n",
      "L2 cache:              256K\n",
      "L3 cache:              8192K\n",
      "NUMA node0 CPU(s):     0-15\n",
      "Flags:                 fpu vme de pse tsc msr pae mce cx8 apic sep mtrr pge mca cmov pat pse36 clflush dts acpi mmx fxsr sse sse2 ss ht tm pbe syscall nx rdtscp lm constant_tsc arch_perfmon pebs bts nopl xtopology nonstop_tsc aperfmperf pni dtes64 monitor ds_cpl vmx est tm2 ssse3 cx16 xtpr pdcm dca sse4_1 sse4_2 popcnt lahf_lm tpr_shadow vnmi flexpriority ept vpid dtherm ida\n",
      "\n",
      "------------\n",
      "\n",
      "Memory Specs\n",
      "\n"
     ]
    },
    {
     "name": "stderr",
     "output_type": "stream",
     "text": [
      "No LSB modules are available.\n"
     ]
    }
   ],
   "source": [
    "%%bash\n",
    "echo \"TODAY'S DATE:\"\n",
    "date\n",
    "echo \"------------\"\n",
    "echo \"\"\n",
    "#Display operating system info\n",
    "lsb_release -a\n",
    "echo \"\"\n",
    "echo \"------------\"\n",
    "echo \"HOSTNAME: \"; hostname \n",
    "echo \"\"\n",
    "echo \"------------\"\n",
    "echo \"Computer Specs:\"\n",
    "echo \"\"\n",
    "lscpu\n",
    "echo \"\"\n",
    "echo \"------------\"\n",
    "echo \"\"\n",
    "echo \"Memory Specs\"\n",
    "echo \"\""
   ]
  },
  {
   "cell_type": "code",
   "execution_count": 2,
   "metadata": {
    "collapsed": false
   },
   "outputs": [
    {
     "name": "stdout",
     "output_type": "stream",
     "text": [
      "              total        used        free      shared  buff/cache   available\n",
      "Mem:            47G        1.5G         28G        597M         17G         44G\n",
      "Swap:           11G          0B         11G\n"
     ]
    }
   ],
   "source": [
    "%%bash\n",
    "free -mh"
   ]
  },
  {
   "cell_type": "code",
   "execution_count": 3,
   "metadata": {
    "collapsed": true
   },
   "outputs": [],
   "source": [
    "%%bash\n",
    "mkdir /home/sam/analyses/20181022_Olurida_v080_repeatmodeler\n",
    "mkdir /home/sam/analyses/20181022_Olurida_v081_repeatmodeler"
   ]
  },
  {
   "cell_type": "code",
   "execution_count": 4,
   "metadata": {
    "collapsed": false
   },
   "outputs": [
    {
     "name": "stdout",
     "output_type": "stream",
     "text": [
      "------------------------------------------------------------------------\n",
      "Begin v080 RepeatModeler\n",
      "------------------------------------------------------------------------\n",
      "\n",
      "------------------------------------------------------------------------\n",
      "Begin v081 RepeatModeler\n",
      "------------------------------------------------------------------------\n",
      "Begin v080 RepeatModeler\n"
     ]
    },
    {
     "name": "stderr",
     "output_type": "stream",
     "text": [
      "\n",
      "real\t1m12.758s\n",
      "user\t1m4.244s\n",
      "sys\t0m3.320s\n",
      "\n",
      "real\t0m45.485s\n",
      "user\t0m37.752s\n",
      "sys\t0m2.672s\n"
     ]
    }
   ],
   "source": [
    "%%bash\n",
    "# RepeatModeler path\n",
    "rptm=/home/shared/RepeatModeler-open-1.0.11/\n",
    "\n",
    "# Genome paths\n",
    "Olurida_v080=/home/sam/data/genomes/oly/Olurida_v080.fa\n",
    "Olurida_v081=/home/sam/data/genomes/oly/Olurida_v081.fa\n",
    "\n",
    "# Run on v080\n",
    "echo \"------------------------------------------------------------------------\"\n",
    "echo \"Begin v080 RepeatModeler\"\n",
    "cd /home/sam/analyses/20181022_Olurida_v080_repeatmodeler\n",
    "time \\\n",
    "perl ${rptm}BuildDatabase \\\n",
    "-name Ostrea_lurida_v080 \\\n",
    "${Olurida_v080} \\\n",
    "1> stdout.out \\\n",
    "2> stderr.err\n",
    "\n",
    "sed '/^Subject:/ s/ / repeatmodeler v080 JOB COMPLETE/' ~/.default-subject.mail | msmtp \"$EMAIL\"\n",
    "\n",
    "echo \"------------------------------------------------------------------------\"\n",
    "echo \"\"\n",
    "echo \"------------------------------------------------------------------------\"\n",
    "echo \"Begin v081 RepeatModeler\"\n",
    "\n",
    "# Run on v081\n",
    "echo \"------------------------------------------------------------------------\"\n",
    "echo \"Begin v080 RepeatModeler\"\n",
    "cd /home/sam/analyses/20181022_Olurida_v081_repeatmodeler\n",
    "time \\\n",
    "perl ${rptm}BuildDatabase \\\n",
    "-name Ostrea_lurida_v081 \\\n",
    "${Olurida_v081} \\\n",
    "1> stdout.out \\\n",
    "2> stderr.err\n",
    "\n",
    "sed '/^Subject:/ s/ / repeatmodeler v081 JOB COMPLETE/' ~/.default-subject.mail | msmtp \"$EMAIL\""
   ]
  },
  {
   "cell_type": "code",
   "execution_count": 5,
   "metadata": {
    "collapsed": false
   },
   "outputs": [
    {
     "name": "stdout",
     "output_type": "stream",
     "text": [
      "Ostrea_lurida_v080.nhr\n",
      "Ostrea_lurida_v080.nin\n",
      "Ostrea_lurida_v080.nnd\n",
      "Ostrea_lurida_v080.nni\n",
      "Ostrea_lurida_v080.nog\n",
      "Ostrea_lurida_v080.nsq\n",
      "Ostrea_lurida_v080.translation\n",
      "stderr.err\n",
      "stdout.out\n"
     ]
    }
   ],
   "source": [
    "%%bash\n",
    "ls /home/sam/analyses/20181022_Olurida_v080_repeatmodeler"
   ]
  },
  {
   "cell_type": "code",
   "execution_count": 6,
   "metadata": {
    "collapsed": false
   },
   "outputs": [
    {
     "name": "stdout",
     "output_type": "stream",
     "text": [
      "total 358M\n",
      "-rw-rw-r-- 1 sam sam    0 Oct 22 14:51 stderr.err\n",
      "-rw-rw-r-- 1 sam sam  14M Oct 22 14:51 Ostrea_lurida_v080.translation\n",
      "-rw-rw-r-- 1 sam sam 303M Oct 22 14:52 Ostrea_lurida_v080.nsq\n",
      "-rw-rw-r-- 1 sam sam 8.0M Oct 22 14:52 Ostrea_lurida_v080.nin\n",
      "-rw-rw-r-- 1 sam sam  26M Oct 22 14:52 Ostrea_lurida_v080.nhr\n",
      "-rw-rw-r-- 1 sam sam  22K Oct 22 14:52 Ostrea_lurida_v080.nni\n",
      "-rw-rw-r-- 1 sam sam 5.4M Oct 22 14:52 Ostrea_lurida_v080.nnd\n",
      "-rw-rw-r-- 1 sam sam 2.7M Oct 22 14:52 Ostrea_lurida_v080.nog\n",
      "-rw-rw-r-- 1 sam sam  157 Oct 22 14:52 stdout.out\n"
     ]
    }
   ],
   "source": [
    "%%bash\n",
    "ls -ltrh /home/sam/analyses/20181022_Olurida_v080_repeatmodeler"
   ]
  },
  {
   "cell_type": "code",
   "execution_count": 7,
   "metadata": {
    "collapsed": false
   },
   "outputs": [
    {
     "name": "stdout",
     "output_type": "stream",
     "text": [
      "Building database Ostrea_lurida_v080:\n",
      "  Adding /home/sam/data/genomes/oly/Olurida_v080.fa to database\n",
      "Number of sequences (bp) added to database: 0 ( 0 bp )\n"
     ]
    }
   ],
   "source": [
    "%%bash\n",
    "tail /home/sam/analyses/20181022_Olurida_v080_repeatmodeler/stdout.out"
   ]
  },
  {
   "cell_type": "code",
   "execution_count": 8,
   "metadata": {
    "collapsed": false
   },
   "outputs": [
    {
     "name": "stdout",
     "output_type": "stream",
     "text": [
      "------------------------------------------------------------------------\n",
      "Begin v080 RepeatModeler\n",
      "------------------------------------------------------------------------\n",
      "\n",
      "------------------------------------------------------------------------\n",
      "Begin v081 RepeatModeler\n"
     ]
    },
    {
     "name": "stderr",
     "output_type": "stream",
     "text": [
      "\n",
      "real\t1m11.241s\n",
      "user\t1m5.240s\n",
      "sys\t0m3.044s\n",
      "\n",
      "real\t0m44.712s\n",
      "user\t0m37.732s\n",
      "sys\t0m2.732s\n"
     ]
    }
   ],
   "source": [
    "%%bash\n",
    "# RepeatModeler path\n",
    "rptm=/home/shared/RepeatModeler-open-1.0.11/\n",
    "\n",
    "# Genome paths\n",
    "Olurida_v080=/home/sam/data/genomes/oly/Olurida_v080.fa\n",
    "Olurida_v081=/home/sam/data/genomes/oly/Olurida_v081.fa\n",
    "\n",
    "# Run on v080\n",
    "echo \"------------------------------------------------------------------------\"\n",
    "echo \"Begin v080 RepeatModeler\"\n",
    "cd /home/sam/analyses/20181022_Olurida_v080_repeatmodeler\n",
    "time \\\n",
    "perl ${rptm}BuildDatabase \\\n",
    "-name Ostrea_lurida_v080 \\\n",
    "-engine ncbi \\\n",
    "${Olurida_v080} \\\n",
    "1> stdout.out \\\n",
    "2> stderr.err\n",
    "\n",
    "sed '/^Subject:/ s/ / repeatmodeler v080 JOB COMPLETE/' ~/.default-subject.mail | msmtp \"$EMAIL\"\n",
    "\n",
    "echo \"------------------------------------------------------------------------\"\n",
    "echo \"\"\n",
    "echo \"------------------------------------------------------------------------\"\n",
    "\n",
    "# Run on v081\n",
    "echo \"Begin v081 RepeatModeler\"\n",
    "cd /home/sam/analyses/20181022_Olurida_v081_repeatmodeler\n",
    "time \\\n",
    "perl ${rptm}BuildDatabase \\\n",
    "-name Ostrea_lurida_v081 \\\n",
    "-engine ncbi \\\n",
    "${Olurida_v081} \\\n",
    "1> stdout.out \\\n",
    "2> stderr.err\n",
    "\n",
    "sed '/^Subject:/ s/ / repeatmodeler v081 JOB COMPLETE/' ~/.default-subject.mail | msmtp \"$EMAIL\""
   ]
  },
  {
   "cell_type": "code",
   "execution_count": 9,
   "metadata": {
    "collapsed": false
   },
   "outputs": [
    {
     "name": "stdout",
     "output_type": "stream",
     "text": [
      "total 358M\n",
      "-rw-rw-r-- 1 sam sam    0 Oct 22 15:03 stderr.err\n",
      "-rw-rw-r-- 1 sam sam  14M Oct 22 15:04 Ostrea_lurida_v080.translation\n",
      "-rw-rw-r-- 1 sam sam 303M Oct 22 15:05 Ostrea_lurida_v080.nsq\n",
      "-rw-rw-r-- 1 sam sam 8.0M Oct 22 15:05 Ostrea_lurida_v080.nin\n",
      "-rw-rw-r-- 1 sam sam  26M Oct 22 15:05 Ostrea_lurida_v080.nhr\n",
      "-rw-rw-r-- 1 sam sam  22K Oct 22 15:05 Ostrea_lurida_v080.nni\n",
      "-rw-rw-r-- 1 sam sam 5.4M Oct 22 15:05 Ostrea_lurida_v080.nnd\n",
      "-rw-rw-r-- 1 sam sam 2.7M Oct 22 15:05 Ostrea_lurida_v080.nog\n",
      "-rw-rw-r-- 1 sam sam  157 Oct 22 15:05 stdout.out\n",
      "Building database Ostrea_lurida_v080:\n",
      "  Adding /home/sam/data/genomes/oly/Olurida_v080.fa to database\n",
      "Number of sequences (bp) added to database: 0 ( 0 bp )\n"
     ]
    }
   ],
   "source": [
    "%%bash\n",
    "ls -ltrh /home/sam/analyses/20181022_Olurida_v080_repeatmodeler\n",
    "tail /home/sam/analyses/20181022_Olurida_v080_repeatmodeler/stdout.out"
   ]
  },
  {
   "cell_type": "code",
   "execution_count": 10,
   "metadata": {
    "collapsed": false
   },
   "outputs": [
    {
     "name": "stdout",
     "output_type": "stream",
     "text": [
      "------------------------------------------------------------------------\n",
      "Begin v080 RepeatModeler\n",
      "------------------------------------------------------------------------\n",
      "\n",
      "------------------------------------------------------------------------\n",
      "Begin v081 RepeatModeler\n"
     ]
    },
    {
     "name": "stderr",
     "output_type": "stream",
     "text": [
      "\n",
      "real\t0m0.148s\n",
      "user\t0m0.132s\n",
      "sys\t0m0.008s\n",
      "\n",
      "real\t0m0.113s\n",
      "user\t0m0.104s\n",
      "sys\t0m0.008s\n"
     ]
    }
   ],
   "source": [
    "%%bash\n",
    "# RepeatModeler path\n",
    "rptm=/home/shared/RepeatModeler-open-1.0.11/\n",
    "\n",
    "# Run on v080\n",
    "echo \"------------------------------------------------------------------------\"\n",
    "echo \"Begin v080 RepeatModeler\"\n",
    "cd /home/sam/analyses/20181022_Olurida_v080_repeatmodeler\n",
    "time \\\n",
    "perl ${rptm}RepeatModeler \\\n",
    "-database /home/sam/analyses/20181022_Olurida_v080_repeatmodeler/Ostrea_lurida_v080 \\\n",
    "-engine ncbi \\\n",
    "-pa 16 \\\n",
    ">& run.out\n",
    "\n",
    "sed '/^Subject:/ s/ / repeatmodeler v080 JOB COMPLETE/' ~/.default-subject.mail | msmtp \"$EMAIL\"\n",
    "\n",
    "echo \"------------------------------------------------------------------------\"\n",
    "echo \"\"\n",
    "echo \"------------------------------------------------------------------------\"\n",
    "\n",
    "# Run on v081\n",
    "echo \"Begin v081 RepeatModeler\"\n",
    "cd /home/sam/analyses/20181022_Olurida_v081_repeatmodeler\n",
    "time \\\n",
    "perl ${rptm}BuildDatabase \\\n",
    "-database /home/sam/analyses/20181022_Olurida_v081_repeatmodeler/Ostrea_lurida_v081 \\\n",
    "-engine ncbi \\\n",
    "-pa 16 \\\n",
    ">& run.out\n",
    "\n",
    "sed '/^Subject:/ s/ / repeatmodeler v081 JOB COMPLETE/' ~/.default-subject.mail | msmtp \"$EMAIL\""
   ]
  },
  {
   "cell_type": "markdown",
   "metadata": {},
   "source": [
    "#### Re-configured RepeatModeler installation to point to entire BLAST suite of tools."
   ]
  },
  {
   "cell_type": "code",
   "execution_count": 11,
   "metadata": {
    "collapsed": false
   },
   "outputs": [
    {
     "name": "stdout",
     "output_type": "stream",
     "text": [
      "Process is interrupted.\n"
     ]
    }
   ],
   "source": [
    "%%bash\n",
    "# RepeatModeler path\n",
    "rptm=/home/shared/RepeatModeler-open-1.0.11/\n",
    "\n",
    "# Run on v080\n",
    "echo \"------------------------------------------------------------------------\"\n",
    "echo \"Begin v080 RepeatModeler\"\n",
    "cd /home/sam/analyses/20181022_Olurida_v080_repeatmodeler\n",
    "time \\\n",
    "perl ${rptm}RepeatModeler \\\n",
    "-database /home/sam/analyses/20181022_Olurida_v080_repeatmodeler/Ostrea_lurida_v080 \\\n",
    "-engine ncbi \\\n",
    "-pa 16 \\\n",
    ">& database_build_run.out\n",
    "\n",
    "sed '/^Subject:/ s/ / repeatmodeler v080 JOB COMPLETE/' ~/.default-subject.mail | msmtp \"$EMAIL\"\n",
    "\n",
    "echo \"------------------------------------------------------------------------\"\n",
    "echo \"\"\n",
    "echo \"------------------------------------------------------------------------\"\n",
    "\n",
    "# Run on v081\n",
    "echo \"Begin v081 RepeatModeler\"\n",
    "cd /home/sam/analyses/20181022_Olurida_v081_repeatmodeler\n",
    "time \\\n",
    "perl ${rptm}BuildDatabase \\\n",
    "-database /home/sam/analyses/20181022_Olurida_v081_repeatmodeler/Ostrea_lurida_v081 \\\n",
    "-engine ncbi \\\n",
    "-pa 16 \\\n",
    ">& database_build_run.out\n",
    "\n",
    "sed '/^Subject:/ s/ / repeatmodeler v081 JOB COMPLETE/' ~/.default-subject.mail | msmtp \"$EMAIL\""
   ]
  },
  {
   "cell_type": "markdown",
   "metadata": {},
   "source": [
    "Whoops! Ran the wrong program!!"
   ]
  },
  {
   "cell_type": "code",
   "execution_count": 12,
   "metadata": {
    "collapsed": false
   },
   "outputs": [
    {
     "name": "stdout",
     "output_type": "stream",
     "text": [
      "------------------------------------------------------------------------\n",
      "Begin v080 RepeatModeler database builder\n",
      "------------------------------------------------------------------------\n",
      "\n",
      "------------------------------------------------------------------------\n",
      "Begin v081 RepeatModeler database builder\n"
     ]
    },
    {
     "name": "stderr",
     "output_type": "stream",
     "text": [
      "\n",
      "real\t1m4.328s\n",
      "user\t0m59.520s\n",
      "sys\t0m3.116s\n",
      "\n",
      "real\t0m41.983s\n",
      "user\t0m36.252s\n",
      "sys\t0m2.716s\n"
     ]
    }
   ],
   "source": [
    "%%bash\n",
    "# RepeatModeler path\n",
    "rptm=/home/shared/RepeatModeler-open-1.0.11/\n",
    "\n",
    "# Genome paths\n",
    "Olurida_v080=/home/sam/data/genomes/oly/Olurida_v080.fa\n",
    "Olurida_v081=/home/sam/data/genomes/oly/Olurida_v081.fa\n",
    "\n",
    "# Run on v080\n",
    "echo \"------------------------------------------------------------------------\"\n",
    "echo \"Begin v080 RepeatModeler database builder\"\n",
    "cd /home/sam/analyses/20181022_Olurida_v080_repeatmodeler\n",
    "time \\\n",
    "perl ${rptm}BuildDatabase \\\n",
    "-name Ostrea_lurida_v080 \\\n",
    "-engine ncbi \\\n",
    "${Olurida_v080} \\\n",
    ">& database_build_run.out\n",
    "\n",
    "sed '/^Subject:/ s/ / repeatmodeler v080 JOB COMPLETE/' ~/.default-subject.mail | msmtp \"$EMAIL\"\n",
    "\n",
    "echo \"------------------------------------------------------------------------\"\n",
    "echo \"\"\n",
    "echo \"------------------------------------------------------------------------\"\n",
    "\n",
    "# Run on v081\n",
    "echo \"Begin v081 RepeatModeler database builder\"\n",
    "cd /home/sam/analyses/20181022_Olurida_v081_repeatmodeler\n",
    "time \\\n",
    "perl ${rptm}BuildDatabase \\\n",
    "-name Ostrea_lurida_v081 \\\n",
    "-engine ncbi \\\n",
    "${Olurida_v081} \\\n",
    ">& database_build_run.out\n",
    "\n",
    "sed '/^Subject:/ s/ / repeatmodeler v081 JOB COMPLETE/' ~/.default-subject.mail | msmtp \"$EMAIL\""
   ]
  },
  {
   "cell_type": "code",
   "execution_count": 13,
   "metadata": {
    "collapsed": false
   },
   "outputs": [
    {
     "ename": "SyntaxError",
     "evalue": "invalid syntax (<ipython-input-13-8bf47baf8486>, line 1)",
     "output_type": "error",
     "traceback": [
      "\u001b[0;36m  File \u001b[0;32m\"<ipython-input-13-8bf47baf8486>\"\u001b[0;36m, line \u001b[0;32m1\u001b[0m\n\u001b[0;31m    $$bash\u001b[0m\n\u001b[0m    ^\u001b[0m\n\u001b[0;31mSyntaxError\u001b[0m\u001b[0;31m:\u001b[0m invalid syntax\n"
     ]
    }
   ],
   "source": [
    "$$bash\n",
    "cat /home/sam/analyses/20181022_Olurida_v080_repeatmodeler/database_build_run.out\n",
    "echo\"\"\n",
    "cat /home/sam/analyses/20181022_Olurida_v080_repeatmodeler/database_build_run.out"
   ]
  },
  {
   "cell_type": "code",
   "execution_count": 14,
   "metadata": {
    "collapsed": false
   },
   "outputs": [
    {
     "name": "stdout",
     "output_type": "stream",
     "text": [
      "Building database Ostrea_lurida_v080:\n",
      "  Adding /home/sam/data/genomes/oly/Olurida_v080.fa to database\n",
      "Number of sequences (bp) added to database: 696946 ( 1253001795 bp )\n",
      "\n",
      "Building database Ostrea_lurida_v080:\n",
      "  Adding /home/sam/data/genomes/oly/Olurida_v080.fa to database\n",
      "Number of sequences (bp) added to database: 696946 ( 1253001795 bp )\n"
     ]
    }
   ],
   "source": [
    "%%bash\n",
    "cat /home/sam/analyses/20181022_Olurida_v080_repeatmodeler/database_build_run.out\n",
    "echo\"\"\n",
    "cat /home/sam/analyses/20181022_Olurida_v080_repeatmodeler/database_build_run.out"
   ]
  },
  {
   "cell_type": "code",
   "execution_count": 15,
   "metadata": {
    "collapsed": false
   },
   "outputs": [
    {
     "name": "stdout",
     "output_type": "stream",
     "text": [
      "Building database Ostrea_lurida_v080:\n",
      "  Adding /home/sam/data/genomes/oly/Olurida_v080.fa to database\n",
      "Number of sequences (bp) added to database: 696946 ( 1253001795 bp )\n",
      "\n",
      "Building database Ostrea_lurida_v081:\n",
      "  Adding /home/sam/data/genomes/oly/Olurida_v081.fa to database\n",
      "Number of sequences (bp) added to database: 159429 ( 1140787867 bp )\n"
     ]
    }
   ],
   "source": [
    "%%bash\n",
    "cat /home/sam/analyses/20181022_Olurida_v080_repeatmodeler/database_build_run.out\n",
    "echo\"\"\n",
    "cat /home/sam/analyses/20181022_Olurida_v081_repeatmodeler/database_build_run.out"
   ]
  },
  {
   "cell_type": "code",
   "execution_count": null,
   "metadata": {
    "collapsed": true
   },
   "outputs": [],
   "source": [
    "%%bash\n",
    "# RepeatModeler path\n",
    "rptm=/home/shared/RepeatModeler-open-1.0.11/\n",
    "\n",
    "# Genome paths\n",
    "Olurida_v080=/home/sam/data/genomes/oly/Olurida_v080.fa\n",
    "Olurida_v081=/home/sam/data/genomes/oly/Olurida_v081.fa\n",
    "\n",
    "# Run on v080\n",
    "echo \"------------------------------------------------------------------------\"\n",
    "echo \"Begin v080 RepeatModeler database builder\"\n",
    "cd /home/sam/analyses/20181022_Olurida_v080_repeatmodeler\n",
    "time \\\n",
    "perl ${rptm}BuildDatabase \\\n",
    "-name Ostrea_lurida_v080 \\\n",
    "-engine ncbi \\\n",
    "${Olurida_v080} \\\n",
    ">& database_build_run.out\n",
    "\n",
    "sed '/^Subject:/ s/ / repeatmodeler v080 JOB COMPLETE/' ~/.default-subject.mail | msmtp \"$EMAIL\"\n",
    "\n",
    "echo \"------------------------------------------------------------------------\"\n",
    "echo \"\"\n",
    "echo \"------------------------------------------------------------------------\"\n",
    "\n",
    "# Run on v081\n",
    "echo \"Begin v081 RepeatModeler database builder\"\n",
    "cd /home/sam/analyses/20181022_Olurida_v081_repeatmodeler\n",
    "time \\\n",
    "perl ${rptm}BuildDatabase \\\n",
    "-name Ostrea_lurida_v081 \\\n",
    "-engine ncbi \\\n",
    "${Olurida_v081} \\\n",
    ">& database_build_run.out\n",
    "\n",
    "sed '/^Subject:/ s/ / repeatmodeler v081 JOB COMPLETE/' ~/.default-subject.mail | msmtp \"$EMAIL\""
   ]
  },
  {
   "cell_type": "code",
   "execution_count": null,
   "metadata": {
    "collapsed": true
   },
   "outputs": [],
   "source": []
  }
 ],
 "metadata": {
  "kernelspec": {
   "display_name": "Python 2",
   "language": "python",
   "name": "python2"
  },
  "language_info": {
   "codemirror_mode": {
    "name": "ipython",
    "version": 2
   },
   "file_extension": ".py",
   "mimetype": "text/x-python",
   "name": "python",
   "nbconvert_exporter": "python",
   "pygments_lexer": "ipython2",
   "version": "2.7.12"
  }
 },
 "nbformat": 4,
 "nbformat_minor": 2
}
