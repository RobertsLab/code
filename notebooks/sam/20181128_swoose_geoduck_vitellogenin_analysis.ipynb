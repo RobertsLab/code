{
 "cells": [
  {
   "cell_type": "code",
   "execution_count": 1,
   "metadata": {},
   "outputs": [
    {
     "name": "stdout",
     "output_type": "stream",
     "text": [
      "TODAY'S DATE:\n",
      "Wed Nov 28 12:01:27 PST 2018\n",
      "------------\n",
      "\n",
      "Distributor ID:\tUbuntu\n",
      "Description:\tUbuntu 16.04.5 LTS\n",
      "Release:\t16.04\n",
      "Codename:\txenial\n",
      "\n",
      "------------\n",
      "HOSTNAME: \n",
      "swoose\n",
      "\n",
      "------------\n",
      "Computer Specs:\n",
      "\n",
      "Architecture:          x86_64\n",
      "CPU op-mode(s):        32-bit, 64-bit\n",
      "Byte Order:            Little Endian\n",
      "CPU(s):                24\n",
      "On-line CPU(s) list:   0-23\n",
      "Thread(s) per core:    2\n",
      "Core(s) per socket:    6\n",
      "Socket(s):             2\n",
      "NUMA node(s):          1\n",
      "Vendor ID:             GenuineIntel\n",
      "CPU family:            6\n",
      "Model:                 44\n",
      "Model name:            Intel(R) Xeon(R) CPU           X5670  @ 2.93GHz\n",
      "Stepping:              2\n",
      "CPU MHz:               2925.866\n",
      "BogoMIPS:              5851.93\n",
      "Virtualization:        VT-x\n",
      "L1d cache:             32K\n",
      "L1i cache:             32K\n",
      "L2 cache:              256K\n",
      "L3 cache:              12288K\n",
      "NUMA node0 CPU(s):     0-23\n",
      "Flags:                 fpu vme de pse tsc msr pae mce cx8 apic sep mtrr pge mca cmov pat pse36 clflush dts acpi mmx fxsr sse sse2 ss ht tm pbe syscall nx pdpe1gb rdtscp lm constant_tsc arch_perfmon pebs bts rep_good nopl xtopology nonstop_tsc aperfmperf pni pclmulqdq dtes64 monitor ds_cpl vmx smx est tm2 ssse3 cx16 xtpr pdcm pcid dca sse4_1 sse4_2 popcnt aes lahf_lm epb kaiser tpr_shadow vnmi flexpriority ept vpid dtherm ida arat\n",
      "\n",
      "------------\n",
      "\n",
      "Memory Specs\n",
      "\n",
      "              total        used        free      shared  buff/cache   available\n",
      "Mem:            70G        3.0G         65G        112M        2.5G         67G\n",
      "Swap:          4.7G          0B        4.7G\n"
     ]
    },
    {
     "name": "stderr",
     "output_type": "stream",
     "text": [
      "No LSB modules are available.\n"
     ]
    }
   ],
   "source": [
    "%%bash\n",
    "echo \"TODAY'S DATE:\"\n",
    "date\n",
    "echo \"------------\"\n",
    "echo \"\"\n",
    "#Display operating system info\n",
    "lsb_release -a\n",
    "echo \"\"\n",
    "echo \"------------\"\n",
    "echo \"HOSTNAME: \"; hostname \n",
    "echo \"\"\n",
    "echo \"------------\"\n",
    "echo \"Computer Specs:\"\n",
    "echo \"\"\n",
    "lscpu\n",
    "echo \"\"\n",
    "echo \"------------\"\n",
    "echo \"\"\n",
    "echo \"Memory Specs\"\n",
    "echo \"\"\n",
    "free -mh"
   ]
  },
  {
   "cell_type": "code",
   "execution_count": 2,
   "metadata": {},
   "outputs": [],
   "source": [
    "%%bash\n",
    "mkdir /home/sam/data/geoduck\n",
    "mkdir /home/sam/data/geoduck/transcriptomes\n",
    "mkdir /home/sam/data/geoduck/transcriptomes/transdecoder_fasta_splits"
   ]
  },
  {
   "cell_type": "code",
   "execution_count": 3,
   "metadata": {},
   "outputs": [
    {
     "name": "stdout",
     "output_type": "stream",
     "text": [
      "-rw-r--r--    283,967,118 2018/11/23 15:42:16 20180827_trinity_geoduck.fasta.transdecoder.cds\n",
      "total 4.0K\n",
      "drwxrwxr-x 2 sam sam 4.0K Nov 28 12:04 transdecoder_fasta_splits\n"
     ]
    }
   ],
   "source": [
    "%%bash\n",
    "cd /home/sam/data/geoduck/transcriptomes\n",
    "rsync gannet:/volume1/web/Atumefaciens/20181121_geo_transdecoder/20180827_trinity_geoduck.fasta.transdecoder.cds\n",
    "ls -lh"
   ]
  },
  {
   "cell_type": "code",
   "execution_count": 4,
   "metadata": {},
   "outputs": [
    {
     "name": "stdout",
     "output_type": "stream",
     "text": [
      "-------------------\n",
      "NUMBER OF SEQUENCES IN ORIGINAL FASTA\n",
      "-------------------\n",
      "\n",
      "\n",
      "-------------------\n",
      "NUMBER OF INDIVIDUAL FASTA FILES\n",
      "0\n",
      "-------------------\n"
     ]
    },
    {
     "name": "stderr",
     "output_type": "stream",
     "text": [
      "grep: 20180827_trinity_geoduck.fasta.transdecoder.cds: No such file or directory\n",
      "Traceback (most recent call last):\n",
      "  File \"/home/sam/software/bin/pyfaidx-0.5.5.2\", line 9, in <module>\n",
      "    load_entry_point('pyfaidx==0.5.5.2', 'console_scripts', 'faidx')()\n",
      "  File \"build/bdist.linux-x86_64/egg/pyfaidx/cli.py\", line 197, in main\n",
      "  File \"build/bdist.linux-x86_64/egg/pyfaidx/cli.py\", line 21, in write_sequence\n",
      "  File \"build/bdist.linux-x86_64/egg/pyfaidx/__init__.py\", line 996, in __init__\n",
      "  File \"build/bdist.linux-x86_64/egg/pyfaidx/__init__.py\", line 368, in __init__\n",
      "pyfaidx.FastaNotFoundError: Cannot read FASTA file ../20180827_trinity_geoduck.fasta.transdecoder.cds\n",
      "\n",
      "real\t0m0.150s\n",
      "user\t0m0.104s\n",
      "sys\t0m0.020s\n"
     ]
    }
   ],
   "source": [
    "%%bash\n",
    "cd /home/sam/data/geoduck/transcriptomes/\n",
    "\n",
    "# Count sequences in FastA\n",
    "echo \"-------------------\"\n",
    "echo \"NUMBER OF SEQUENCES IN ORIGINAL FASTA\"\n",
    "grep -c \">\" 20180827_trinity_geoduck.fasta.transdecoder.cds\n",
    "echo \"-------------------\"\n",
    "echo \"\"\n",
    "echo \"\"\n",
    "\n",
    "cd /home/sam/data/geoduck/transcriptomes/transdecoder_fasta_splits/\n",
    "\n",
    "# Split FastA\n",
    "time \\\n",
    "/home/sam/software/bin/pyfaidx-0.5.5.2 \\\n",
    "--split-files \\\n",
    "../20180827_trinity_geoduck.fasta.transdecoder.cds\n",
    "\n",
    "# Count number of individual FastA files\n",
    "echo \"-------------------\"\n",
    "echo \"NUMBER OF INDIVIDUAL FASTA FILES\"\n",
    "ls -1 | wc -l\n",
    "echo \"-------------------\""
   ]
  },
  {
   "cell_type": "code",
   "execution_count": 5,
   "metadata": {},
   "outputs": [
    {
     "name": "stdout",
     "output_type": "stream",
     "text": [
      "-------------------\n",
      "total 271M\n",
      "-rw-r--r-- 1 sam users 271M Nov 23 15:42 20180827_trinity_geoduck.fasta.transdecoder.cds\n",
      "drwxrwxr-x 2 sam sam   4.0K Nov 28 12:04 transdecoder_fasta_splits\n"
     ]
    }
   ],
   "source": [
    "%%bash\n",
    "cd /home/sam/data/geoduck/transcriptomes\n",
    "rsync \\\n",
    "--archive \\\n",
    "gannet:/volume1/web/Atumefaciens/20181121_geo_transdecoder/20180827_trinity_geoduck.fasta.transdecoder.cds .\n",
    "\n",
    "echo \"-------------------\"\n",
    "\n",
    "ls -lh"
   ]
  },
  {
   "cell_type": "code",
   "execution_count": 6,
   "metadata": {},
   "outputs": [
    {
     "name": "stdout",
     "output_type": "stream",
     "text": [
      "-------------------\n",
      "NUMBER OF SEQUENCES IN ORIGINAL FASTA\n",
      "210586\n",
      "-------------------\n",
      "\n",
      "\n",
      "-------------------\n",
      "NUMBER OF INDIVIDUAL FASTA FILES\n",
      "210586\n",
      "-------------------\n"
     ]
    },
    {
     "name": "stderr",
     "output_type": "stream",
     "text": [
      "\n",
      "real\t0m43.789s\n",
      "user\t0m36.340s\n",
      "sys\t0m6.656s\n"
     ]
    }
   ],
   "source": [
    "%%bash\n",
    "cd /home/sam/data/geoduck/transcriptomes/\n",
    "\n",
    "# Count sequences in FastA\n",
    "echo \"-------------------\"\n",
    "echo \"NUMBER OF SEQUENCES IN ORIGINAL FASTA\"\n",
    "grep -c \">\" 20180827_trinity_geoduck.fasta.transdecoder.cds\n",
    "echo \"-------------------\"\n",
    "echo \"\"\n",
    "echo \"\"\n",
    "\n",
    "cd /home/sam/data/geoduck/transcriptomes/transdecoder_fasta_splits/\n",
    "\n",
    "# Split FastA\n",
    "time \\\n",
    "/home/sam/software/bin/pyfaidx-0.5.5.2 \\\n",
    "--split-files \\\n",
    "../20180827_trinity_geoduck.fasta.transdecoder.cds\n",
    "\n",
    "# Count number of individual FastA files\n",
    "echo \"-------------------\"\n",
    "echo \"NUMBER OF INDIVIDUAL FASTA FILES\"\n",
    "ls -1 | wc -l\n",
    "echo \"-------------------\""
   ]
  },
  {
   "cell_type": "code",
   "execution_count": null,
   "metadata": {},
   "outputs": [],
   "source": []
  }
 ],
 "metadata": {
  "kernelspec": {
   "display_name": "Python 3",
   "language": "python",
   "name": "python3"
  },
  "language_info": {
   "codemirror_mode": {
    "name": "ipython",
    "version": 3
   },
   "file_extension": ".py",
   "mimetype": "text/x-python",
   "name": "python",
   "nbconvert_exporter": "python",
   "pygments_lexer": "ipython3",
   "version": "3.5.2"
  }
 },
 "nbformat": 4,
 "nbformat_minor": 2
}
