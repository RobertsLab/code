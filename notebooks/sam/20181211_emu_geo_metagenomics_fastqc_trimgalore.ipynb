{
 "cells": [
  {
   "cell_type": "code",
   "execution_count": 1,
   "metadata": {
    "collapsed": false
   },
   "outputs": [
    {
     "name": "stdout",
     "output_type": "stream",
     "text": [
      "TODAY'S DATE:\n",
      "Tue Dec 11 12:37:42 PST 2018\n",
      "------------\n",
      "\n",
      "Distributor ID:\tUbuntu\n",
      "Description:\tUbuntu 16.04.5 LTS\n",
      "Release:\t16.04\n",
      "Codename:\txenial\n",
      "\n",
      "------------\n",
      "HOSTNAME: \n",
      "emu\n",
      "\n",
      "------------\n",
      "Computer Specs:\n",
      "\n",
      "Architecture:          x86_64\n",
      "CPU op-mode(s):        32-bit, 64-bit\n",
      "Byte Order:            Little Endian\n",
      "CPU(s):                16\n",
      "On-line CPU(s) list:   0-15\n",
      "Thread(s) per core:    2\n",
      "Core(s) per socket:    4\n",
      "Socket(s):             2\n",
      "NUMA node(s):          1\n",
      "Vendor ID:             GenuineIntel\n",
      "CPU family:            6\n",
      "Model:                 26\n",
      "Model name:            Intel(R) Xeon(R) CPU           E5520  @ 2.27GHz\n",
      "Stepping:              5\n",
      "CPU MHz:               2394.000\n",
      "CPU max MHz:           2394.0000\n",
      "CPU min MHz:           1596.0000\n",
      "BogoMIPS:              4521.80\n",
      "Virtualization:        VT-x\n",
      "L1d cache:             32K\n",
      "L1i cache:             32K\n",
      "L2 cache:              256K\n",
      "L3 cache:              8192K\n",
      "NUMA node0 CPU(s):     0-15\n",
      "Flags:                 fpu vme de pse tsc msr pae mce cx8 apic sep mtrr pge mca cmov pat pse36 clflush dts acpi mmx fxsr sse sse2 ss ht tm pbe syscall nx rdtscp lm constant_tsc arch_perfmon pebs bts nopl xtopology nonstop_tsc aperfmperf pni dtes64 monitor ds_cpl vmx est tm2 ssse3 cx16 xtpr pdcm dca sse4_1 sse4_2 popcnt lahf_lm tpr_shadow vnmi flexpriority ept vpid dtherm ida\n",
      "\n",
      "------------\n",
      "\n",
      "Memory Specs\n",
      "\n",
      "              total        used        free      shared  buff/cache   available\n",
      "Mem:            47G        1.2G         44G         92M        1.0G         45G\n",
      "Swap:           11G          0B         11G\n"
     ]
    },
    {
     "name": "stderr",
     "output_type": "stream",
     "text": [
      "No LSB modules are available.\n"
     ]
    }
   ],
   "source": [
    "%%bash\n",
    "echo \"TODAY'S DATE:\"\n",
    "date\n",
    "echo \"------------\"\n",
    "echo \"\"\n",
    "#Display operating system info\n",
    "lsb_release -a\n",
    "echo \"\"\n",
    "echo \"------------\"\n",
    "echo \"HOSTNAME: \"; hostname \n",
    "echo \"\"\n",
    "echo \"------------\"\n",
    "echo \"Computer Specs:\"\n",
    "echo \"\"\n",
    "lscpu\n",
    "echo \"\"\n",
    "echo \"------------\"\n",
    "echo \"\"\n",
    "echo \"Memory Specs\"\n",
    "echo \"\"\n",
    "free -mh"
   ]
  },
  {
   "cell_type": "markdown",
   "metadata": {},
   "source": [
    "### Create directories"
   ]
  },
  {
   "cell_type": "code",
   "execution_count": 3,
   "metadata": {
    "collapsed": false
   },
   "outputs": [
    {
     "name": "stderr",
     "output_type": "stream",
     "text": [
      "mkdir: cannot create directory ‘/home/data/metagenomics’: No such file or directory\n",
      "mkdir: cannot create directory ‘/home/data/metagenomics/trimmed’: No such file or directory\n"
     ]
    }
   ],
   "source": [
    "%%bash\n",
    "mkdir /home/data/metagenomics\n",
    "mkdir /home/data/metagenomics/trimmed\n",
    "mkdir /home/sam/analyses/20181211_metagenomics_fastqc_trimgalore\n",
    "mkdir /home/sam/analyses/20181211_metagenomics_fastqc_trimgalore/20181211_metagenomics_fastqc\n",
    "mkdir /home/sam/analyses/20181211_metagenomics_fastqc_trimgalore/20181211_metagenomics_trimmed_fastqc"
   ]
  },
  {
   "cell_type": "code",
   "execution_count": 4,
   "metadata": {
    "collapsed": true
   },
   "outputs": [],
   "source": [
    "%%bash\n",
    "mkdir /home/sam/data/metagenomics\n",
    "mkdir /home/sam/data/metagenomics/trimmed"
   ]
  },
  {
   "cell_type": "markdown",
   "metadata": {},
   "source": [
    "### Download necessary files"
   ]
  },
  {
   "cell_type": "code",
   "execution_count": 2,
   "metadata": {
    "collapsed": false
   },
   "outputs": [
    {
     "name": "stdout",
     "output_type": "stream",
     "text": [
      "-rw-r--r--  7,518,039,443 2018/08/08 13:10:44 Library_Geoduck_MG_1_S3_L002_R1_001.fastq.gz\n",
      "-rwxr-xr-x  8,402,314,754 2018/08/08 13:10:47 Library_Geoduck_MG_1_S3_L002_R2_001.fastq.gz\n",
      "-rwxr-xr-x  7,297,982,002 2018/08/08 13:10:46 Library_Geoduck_MG_2_S4_L002_R1_001.fastq.gz\n",
      "-rwxr-xr-x  8,207,635,685 2018/08/08 13:10:49 Library_Geoduck_MG_2_S4_L002_R2_001.fastq.gz\n",
      "-rwxr-xr-x  7,646,637,193 2018/08/08 13:10:44 Library_Geoduck_MG_3_S1_L002_R1_001.fastq.gz\n",
      "-rwxr-xr-x  8,367,711,486 2018/08/08 13:10:45 Library_Geoduck_MG_3_S1_L002_R2_001.fastq.gz\n",
      "-rwxr-xr-x  6,385,163,571 2018/08/08 13:10:50 Library_Geoduck_MG_5_S6_L002_R1_001.fastq.gz\n",
      "-rwxr-xr-x  7,173,483,445 2018/08/08 13:10:49 Library_Geoduck_MG_5_S6_L002_R2_001.fastq.gz\n",
      "-rwxr-xr-x  6,545,457,745 2018/08/08 13:10:47 Library_Geoduck_MG_6_S5_L002_R1_001.fastq.gz\n",
      "-rwxr-xr-x  7,323,776,170 2018/08/08 13:10:50 Library_Geoduck_MG_6_S5_L002_R2_001.fastq.gz\n",
      "-rwxr-xr-x  7,784,441,910 2018/08/08 13:10:45 Library_Geoduck_MG_7_S2_L002_R1_001.fastq.gz\n",
      "-rwxr-xr-x  8,730,171,313 2018/08/08 13:10:45 Library_Geoduck_MG_7_S2_L002_R2_001.fastq.gz\n",
      "total 496K\n",
      "-rw-rw-r-- 1 sam sam   31 Jun 28 10:22 README.md\n",
      "-rw-rw-r-- 1 sam sam 166K Aug 16 10:32 20180709_emu_oly_methylation_mapping.ipynb\n",
      "-rw-rw-r-- 1 sam sam  15K Oct 22 14:09 20180911_roadrunner_virginica_trimgalore.ipynb\n",
      "-rw-rw-r-- 1 sam sam  31K Oct 22 14:09 20180822_roadrunner_virginica_TEs_repeatmasker.ipynb\n",
      "-rw-rw-r-- 1 sam sam  30K Oct 22 14:16 20180702_roadrunner_oly_TEs_repeatmasker.ipynb\n",
      "-rw-rw-r-- 1 sam sam  39K Nov  7 15:34 20181022_emu_oly_repeatmodeler.ipynb\n",
      "-rw-rw-r-- 1 sam sam  49K Dec 11 11:22 20181211_swoose_gigas_mt_primer_design.ipynb\n",
      "-rw-rw-r-- 1 sam sam 115K Dec 11 11:22 20181128_swoose_geoduck_vitellogenin_analysis.ipynb\n",
      "-rw-rw-r-- 1 sam sam  19K Dec 11 12:36 20180910_roadrunner_virginica_fastqc.ipynb\n",
      "-rw-rw-r-- 1 sam sam 2.6K Dec 11 12:49 Untitled.ipynb\n",
      "-rw-rw-r-- 1 sam sam  12K Dec 11 13:25 20181211_emu_geo_metagenomics_fastqc_trimgalore.ipynb\n"
     ]
    },
    {
     "name": "stderr",
     "output_type": "stream",
     "text": [
      "bash: line 2: cd: /home/data/metagenomics: No such file or directory\n",
      "\n",
      "real\t0m2.461s\n",
      "user\t0m0.020s\n",
      "sys\t0m0.000s\n"
     ]
    }
   ],
   "source": [
    "%%bash\n",
    "\n",
    "cd /home/data/metagenomics\n",
    "\n",
    "# Uncomment following lines to download files from server\n",
    "#time \\\n",
    "#wget \\\n",
    "#--quiet \\\n",
    "#--no-directories \\\n",
    "#--recursive \\\n",
    "#--accept gz \\\n",
    "#--accept-regex \"Library_Geoduck_MG_[0-9]\" \\\n",
    "#http://owl.fish.washington.edu/nightingales/P_generosa/\n",
    "\n",
    "time \\\n",
    "rsync --archive \\\n",
    "owl:/volume1/web/nightingales/P_generosa/Library_Geoduck*gz\n",
    "\n",
    "sed '/^Subject:/ s/ / metagenomics download JOB COMPLETE/' ~/.default-subject.mail | msmtp \"$EMAIL\"\n",
    "\n",
    "ls -ltrh"
   ]
  },
  {
   "cell_type": "markdown",
   "metadata": {},
   "source": [
    "##### Re-run with correct directory and correct rsync command..."
   ]
  },
  {
   "cell_type": "code",
   "execution_count": 5,
   "metadata": {
    "collapsed": false
   },
   "outputs": [
    {
     "name": "stdout",
     "output_type": "stream",
     "text": [
      "total 86G\n",
      "-rwxr-xr-x 1 sam sam 7.2G Aug  8 13:10 Library_Geoduck_MG_3_S1_L002_R1_001.fastq.gz\n",
      "-rw-r--r-- 1 sam sam 7.1G Aug  8 13:10 Library_Geoduck_MG_1_S3_L002_R1_001.fastq.gz\n",
      "-rwxr-xr-x 1 sam sam 8.2G Aug  8 13:10 Library_Geoduck_MG_7_S2_L002_R2_001.fastq.gz\n",
      "-rwxr-xr-x 1 sam sam 7.3G Aug  8 13:10 Library_Geoduck_MG_7_S2_L002_R1_001.fastq.gz\n",
      "-rwxr-xr-x 1 sam sam 7.8G Aug  8 13:10 Library_Geoduck_MG_3_S1_L002_R2_001.fastq.gz\n",
      "-rwxr-xr-x 1 sam sam 6.8G Aug  8 13:10 Library_Geoduck_MG_2_S4_L002_R1_001.fastq.gz\n",
      "-rwxr-xr-x 1 sam sam 6.1G Aug  8 13:10 Library_Geoduck_MG_6_S5_L002_R1_001.fastq.gz\n",
      "-rwxr-xr-x 1 sam sam 7.9G Aug  8 13:10 Library_Geoduck_MG_1_S3_L002_R2_001.fastq.gz\n",
      "-rwxr-xr-x 1 sam sam 6.7G Aug  8 13:10 Library_Geoduck_MG_5_S6_L002_R2_001.fastq.gz\n",
      "-rwxr-xr-x 1 sam sam 7.7G Aug  8 13:10 Library_Geoduck_MG_2_S4_L002_R2_001.fastq.gz\n",
      "-rwxr-xr-x 1 sam sam 6.9G Aug  8 13:10 Library_Geoduck_MG_6_S5_L002_R2_001.fastq.gz\n",
      "-rwxr-xr-x 1 sam sam 6.0G Aug  8 13:10 Library_Geoduck_MG_5_S6_L002_R1_001.fastq.gz\n",
      "drwxrwxr-x 2 sam sam 4.0K Dec 11 13:27 trimmed\n"
     ]
    },
    {
     "name": "stderr",
     "output_type": "stream",
     "text": [
      "\n",
      "real\t60m16.704s\n",
      "user\t20m34.552s\n",
      "sys\t7m59.060s\n"
     ]
    }
   ],
   "source": [
    "%%bash\n",
    "\n",
    "cd /home/sam/data/metagenomics\n",
    "\n",
    "# Uncomment following lines to download files from server\n",
    "#time \\\n",
    "#wget \\\n",
    "#--quiet \\\n",
    "#--no-directories \\\n",
    "#--recursive \\\n",
    "#--accept gz \\\n",
    "#--accept-regex \"Library_Geoduck_MG_[0-9]\" \\\n",
    "#http://owl.fish.washington.edu/nightingales/P_generosa/\n",
    "\n",
    "time \\\n",
    "rsync --archive \\\n",
    "owl:/volume1/web/nightingales/P_generosa/Library_Geoduck*gz .\n",
    "\n",
    "sed '/^Subject:/ s/ / metagenomics download JOB COMPLETE/' ~/.default-subject.mail | msmtp \"$EMAIL\"\n",
    "\n",
    "ls -ltrh"
   ]
  },
  {
   "cell_type": "markdown",
   "metadata": {},
   "source": [
    "### Run FastQC\n",
    "\n",
    "The code belows creates a space-delimited list of the FastQ files (FASTQ_LIST).\n",
    "\n",
    "This is then passed to FastQC."
   ]
  },
  {
   "cell_type": "code",
   "execution_count": 6,
   "metadata": {
    "collapsed": false
   },
   "outputs": [
    {
     "name": "stdout",
     "output_type": "stream",
     "text": [
      "Library_Geoduck_MG_1_S3_L002_R1_001_fastqc\n",
      "Library_Geoduck_MG_1_S3_L002_R1_001_fastqc.html\n",
      "Library_Geoduck_MG_1_S3_L002_R1_001_fastqc.zip\n",
      "Library_Geoduck_MG_1_S3_L002_R2_001_fastqc\n",
      "Library_Geoduck_MG_1_S3_L002_R2_001_fastqc.html\n",
      "Library_Geoduck_MG_1_S3_L002_R2_001_fastqc.zip\n",
      "Library_Geoduck_MG_2_S4_L002_R1_001_fastqc\n",
      "Library_Geoduck_MG_2_S4_L002_R1_001_fastqc.html\n",
      "Library_Geoduck_MG_2_S4_L002_R1_001_fastqc.zip\n",
      "Library_Geoduck_MG_2_S4_L002_R2_001_fastqc\n",
      "Library_Geoduck_MG_2_S4_L002_R2_001_fastqc.html\n",
      "Library_Geoduck_MG_2_S4_L002_R2_001_fastqc.zip\n",
      "Library_Geoduck_MG_3_S1_L002_R1_001_fastqc\n",
      "Library_Geoduck_MG_3_S1_L002_R1_001_fastqc.html\n",
      "Library_Geoduck_MG_3_S1_L002_R1_001_fastqc.zip\n",
      "Library_Geoduck_MG_3_S1_L002_R2_001_fastqc\n",
      "Library_Geoduck_MG_3_S1_L002_R2_001_fastqc.html\n",
      "Library_Geoduck_MG_3_S1_L002_R2_001_fastqc.zip\n",
      "Library_Geoduck_MG_5_S6_L002_R1_001_fastqc\n",
      "Library_Geoduck_MG_5_S6_L002_R1_001_fastqc.html\n",
      "Library_Geoduck_MG_5_S6_L002_R1_001_fastqc.zip\n",
      "Library_Geoduck_MG_5_S6_L002_R2_001_fastqc\n",
      "Library_Geoduck_MG_5_S6_L002_R2_001_fastqc.html\n",
      "Library_Geoduck_MG_5_S6_L002_R2_001_fastqc.zip\n",
      "Library_Geoduck_MG_6_S5_L002_R1_001_fastqc\n",
      "Library_Geoduck_MG_6_S5_L002_R1_001_fastqc.html\n",
      "Library_Geoduck_MG_6_S5_L002_R1_001_fastqc.zip\n",
      "Library_Geoduck_MG_6_S5_L002_R2_001_fastqc\n",
      "Library_Geoduck_MG_6_S5_L002_R2_001_fastqc.html\n",
      "Library_Geoduck_MG_6_S5_L002_R2_001_fastqc.zip\n",
      "Library_Geoduck_MG_7_S2_L002_R1_001_fastqc\n",
      "Library_Geoduck_MG_7_S2_L002_R1_001_fastqc.html\n",
      "Library_Geoduck_MG_7_S2_L002_R1_001_fastqc.zip\n",
      "Library_Geoduck_MG_7_S2_L002_R2_001_fastqc\n",
      "Library_Geoduck_MG_7_S2_L002_R2_001_fastqc.html\n",
      "Library_Geoduck_MG_7_S2_L002_R2_001_fastqc.zip\n"
     ]
    },
    {
     "name": "stderr",
     "output_type": "stream",
     "text": [
      "\n",
      "real\t42m51.799s\n",
      "user\t340m21.900s\n",
      "sys\t5m27.380s\n"
     ]
    }
   ],
   "source": [
    "%%bash\n",
    "fastq_dir=\"/home/sam/data/metagenomics/\"\n",
    "out_dir=\"/home/sam/analyses/20181211_metagenomics_fastqc_trimgalore/20181211_metagenomics_fastqc\"\n",
    "\n",
    "cd ${fastq_dir}\n",
    "\n",
    "# List all gzip files and then replace newline with space\n",
    "FASTQ_LIST=\"$(ls -1 *.gz| tr '\\n' ' ')\"\n",
    "\n",
    "# Run FastQC\n",
    "time \\\n",
    "/home/shared/fastqc_0.11.7/fastqc \\\n",
    "--extract \\\n",
    "--threads 16 \\\n",
    "--quiet \\\n",
    "--outdir ${out_dir} \\\n",
    "$FASTQ_LIST\n",
    "\n",
    "sed '/^Subject:/ s/ / fastqc JOB COMPLETE/' ~/.default-subject.mail | msmtp \"$EMAIL\"\n",
    "\n",
    "ls ${out_dir}"
   ]
  },
  {
   "cell_type": "markdown",
   "metadata": {},
   "source": [
    "### Run MultiQC."
   ]
  },
  {
   "cell_type": "code",
   "execution_count": 7,
   "metadata": {
    "collapsed": false
   },
   "outputs": [
    {
     "name": "stdout",
     "output_type": "stream",
     "text": [
      "Searching 228 files..\n",
      "Library_Geoduck_MG_1_S3_L002_R1_001_fastqc\n",
      "Library_Geoduck_MG_1_S3_L002_R1_001_fastqc.html\n",
      "Library_Geoduck_MG_1_S3_L002_R1_001_fastqc.zip\n",
      "Library_Geoduck_MG_1_S3_L002_R2_001_fastqc\n",
      "Library_Geoduck_MG_1_S3_L002_R2_001_fastqc.html\n",
      "Library_Geoduck_MG_1_S3_L002_R2_001_fastqc.zip\n",
      "Library_Geoduck_MG_2_S4_L002_R1_001_fastqc\n",
      "Library_Geoduck_MG_2_S4_L002_R1_001_fastqc.html\n",
      "Library_Geoduck_MG_2_S4_L002_R1_001_fastqc.zip\n",
      "Library_Geoduck_MG_2_S4_L002_R2_001_fastqc\n",
      "Library_Geoduck_MG_2_S4_L002_R2_001_fastqc.html\n",
      "Library_Geoduck_MG_2_S4_L002_R2_001_fastqc.zip\n",
      "Library_Geoduck_MG_3_S1_L002_R1_001_fastqc\n",
      "Library_Geoduck_MG_3_S1_L002_R1_001_fastqc.html\n",
      "Library_Geoduck_MG_3_S1_L002_R1_001_fastqc.zip\n",
      "Library_Geoduck_MG_3_S1_L002_R2_001_fastqc\n",
      "Library_Geoduck_MG_3_S1_L002_R2_001_fastqc.html\n",
      "Library_Geoduck_MG_3_S1_L002_R2_001_fastqc.zip\n",
      "Library_Geoduck_MG_5_S6_L002_R1_001_fastqc\n",
      "Library_Geoduck_MG_5_S6_L002_R1_001_fastqc.html\n",
      "Library_Geoduck_MG_5_S6_L002_R1_001_fastqc.zip\n",
      "Library_Geoduck_MG_5_S6_L002_R2_001_fastqc\n",
      "Library_Geoduck_MG_5_S6_L002_R2_001_fastqc.html\n",
      "Library_Geoduck_MG_5_S6_L002_R2_001_fastqc.zip\n",
      "Library_Geoduck_MG_6_S5_L002_R1_001_fastqc\n",
      "Library_Geoduck_MG_6_S5_L002_R1_001_fastqc.html\n",
      "Library_Geoduck_MG_6_S5_L002_R1_001_fastqc.zip\n",
      "Library_Geoduck_MG_6_S5_L002_R2_001_fastqc\n",
      "Library_Geoduck_MG_6_S5_L002_R2_001_fastqc.html\n",
      "Library_Geoduck_MG_6_S5_L002_R2_001_fastqc.zip\n",
      "Library_Geoduck_MG_7_S2_L002_R1_001_fastqc\n",
      "Library_Geoduck_MG_7_S2_L002_R1_001_fastqc.html\n",
      "Library_Geoduck_MG_7_S2_L002_R1_001_fastqc.zip\n",
      "Library_Geoduck_MG_7_S2_L002_R2_001_fastqc\n",
      "Library_Geoduck_MG_7_S2_L002_R2_001_fastqc.html\n",
      "Library_Geoduck_MG_7_S2_L002_R2_001_fastqc.zip\n",
      "multiqc_data\n",
      "multiqc_report.html\n"
     ]
    },
    {
     "name": "stderr",
     "output_type": "stream",
     "text": [
      "[INFO   ]         multiqc : This is MultiQC v1.6.dev0\n",
      "[INFO   ]         multiqc : Template    : default\n",
      "[INFO   ]         multiqc : Searching '.'\n",
      "[INFO   ]          fastqc : Found 12 reports\n",
      "[INFO   ]         multiqc : Compressing plot data\n",
      "[INFO   ]         multiqc : Report      : multiqc_report.html\n",
      "[INFO   ]         multiqc : Data        : multiqc_data\n",
      "[INFO   ]         multiqc : MultiQC complete\n",
      "\n",
      "real\t0m9.390s\n",
      "user\t0m4.744s\n",
      "sys\t0m1.368s\n"
     ]
    }
   ],
   "source": [
    "%%bash\n",
    "cd /home/sam/analyses/20181211_metagenomics_fastqc_trimgalore/20181211_metagenomics_fastqc\n",
    "time \\\n",
    "multiqc .\n",
    "ls"
   ]
  },
  {
   "cell_type": "markdown",
   "metadata": {},
   "source": [
    "#### Create a new directory and rename another"
   ]
  },
  {
   "cell_type": "code",
   "execution_count": 8,
   "metadata": {
    "collapsed": false
   },
   "outputs": [
    {
     "name": "stderr",
     "output_type": "stream",
     "text": [
      "mkdir: cannot create directory ‘/home/sam/analyses/lyses/20181211_metagenomics_fastqc_trimgalore/20181211_metagenomics_trimgalore_01’: No such file or directory\n",
      "mv: cannot move '/home/sam/analyses/20181211_metagenomics_fastqc_trimgalore/20181211_metagenomics_trimmed_fastqc' to '/home/sam/analyses/20181211_metagenomics_fastqc_trimgalore/20181211_metagenomics_trimgalore_01/20181211_metagenomics_trimmed_fastqc': No such file or directory\n"
     ]
    }
   ],
   "source": [
    "%%bash\n",
    "mkdir /home/sam/analyses/lyses/20181211_metagenomics_fastqc_trimgalore/20181211_metagenomics_trimgalore_01\n",
    "mv /home/sam/analyses/20181211_metagenomics_fastqc_trimgalore/20181211_metagenomics_trimmed_fastqc \\\n",
    "/home/sam/analyses/20181211_metagenomics_fastqc_trimgalore/20181211_metagenomics_trimgalore_01/20181211_metagenomics_trimmed_fastqc"
   ]
  },
  {
   "cell_type": "code",
   "execution_count": 9,
   "metadata": {
    "collapsed": true
   },
   "outputs": [],
   "source": [
    "%%bash\n",
    "mkdir /home/sam/analyses/20181211_metagenomics_fastqc_trimgalore/20181211_metagenomics_trimgalore_01\n",
    "mv /home/sam/analyses/20181211_metagenomics_fastqc_trimgalore/20181211_metagenomics_trimmed_fastqc/ \\\n",
    "/home/sam/analyses/20181211_metagenomics_fastqc_trimgalore/20181211_metagenomics_trimgalore_01/20181211_metagenomics_trimmed_fastqc"
   ]
  },
  {
   "cell_type": "markdown",
   "metadata": {},
   "source": [
    "#### Run TrimGalore! w/FastQC, follow by MultiQC"
   ]
  },
  {
   "cell_type": "code",
   "execution_count": 10,
   "metadata": {
    "collapsed": false
   },
   "outputs": [
    {
     "name": "stdout",
     "output_type": "stream",
     "text": [
      "Searching 24 files..\n",
      "\n",
      "--------------------\n",
      "TAIL STDOUT\n",
      "--------------------\n",
      "Analysis complete for Library_Geoduck_MG_2_S4_L002_R1_001_trimmed.fq.gz\n",
      "Analysis complete for Library_Geoduck_MG_2_S4_L002_R2_001_trimmed.fq.gz\n",
      "Analysis complete for Library_Geoduck_MG_3_S1_L002_R1_001_trimmed.fq.gz\n",
      "Analysis complete for Library_Geoduck_MG_3_S1_L002_R2_001_trimmed.fq.gz\n",
      "Analysis complete for Library_Geoduck_MG_5_S6_L002_R1_001_trimmed.fq.gz\n",
      "Analysis complete for Library_Geoduck_MG_5_S6_L002_R2_001_trimmed.fq.gz\n",
      "Analysis complete for Library_Geoduck_MG_6_S5_L002_R1_001_trimmed.fq.gz\n",
      "Analysis complete for Library_Geoduck_MG_6_S5_L002_R2_001_trimmed.fq.gz\n",
      "Analysis complete for Library_Geoduck_MG_7_S2_L002_R1_001_trimmed.fq.gz\n",
      "Analysis complete for Library_Geoduck_MG_7_S2_L002_R2_001_trimmed.fq.gz\n",
      "\n",
      "--------------------\n",
      "TAIL STDERR\n",
      "--------------------\n",
      "Approx 60% complete for Library_Geoduck_MG_7_S2_L002_R2_001_trimmed.fq.gz\n",
      "Approx 65% complete for Library_Geoduck_MG_7_S2_L002_R2_001_trimmed.fq.gz\n",
      "Approx 70% complete for Library_Geoduck_MG_7_S2_L002_R2_001_trimmed.fq.gz\n",
      "Approx 75% complete for Library_Geoduck_MG_7_S2_L002_R2_001_trimmed.fq.gz\n",
      "Approx 80% complete for Library_Geoduck_MG_7_S2_L002_R2_001_trimmed.fq.gz\n",
      "Approx 85% complete for Library_Geoduck_MG_7_S2_L002_R2_001_trimmed.fq.gz\n",
      "Approx 90% complete for Library_Geoduck_MG_7_S2_L002_R2_001_trimmed.fq.gz\n",
      "Approx 95% complete for Library_Geoduck_MG_7_S2_L002_R2_001_trimmed.fq.gz\n",
      "\n",
      "gzip: stdout: Broken pipe\n",
      "--------------------\n",
      "\n",
      "--------------------\n",
      "\n",
      "TRIMGALORE LISTING\n",
      "total 71G\n",
      "-rw-rw-r-- 1 sam sam 6.1G Dec 11 16:05 Library_Geoduck_MG_1_S3_L002_R1_001_trimmed.fq.gz\n",
      "-rw-rw-r-- 1 sam sam 5.8K Dec 11 16:05 Library_Geoduck_MG_1_S3_L002_R1_001.fastq.gz_trimming_report.txt\n",
      "-rw-rw-r-- 1 sam sam 6.6G Dec 11 17:16 Library_Geoduck_MG_1_S3_L002_R2_001_trimmed.fq.gz\n",
      "-rw-rw-r-- 1 sam sam 5.8K Dec 11 17:16 Library_Geoduck_MG_1_S3_L002_R2_001.fastq.gz_trimming_report.txt\n",
      "-rw-rw-r-- 1 sam sam 5.8G Dec 11 18:23 Library_Geoduck_MG_2_S4_L002_R1_001_trimmed.fq.gz\n",
      "-rw-rw-r-- 1 sam sam 5.8K Dec 11 18:24 Library_Geoduck_MG_2_S4_L002_R1_001.fastq.gz_trimming_report.txt\n",
      "-rw-rw-r-- 1 sam sam 6.4G Dec 11 19:32 Library_Geoduck_MG_2_S4_L002_R2_001_trimmed.fq.gz\n",
      "-rw-rw-r-- 1 sam sam 5.8K Dec 11 19:32 Library_Geoduck_MG_2_S4_L002_R2_001.fastq.gz_trimming_report.txt\n",
      "-rw-rw-r-- 1 sam sam 5.7G Dec 11 20:38 Library_Geoduck_MG_3_S1_L002_R1_001_trimmed.fq.gz\n",
      "-rw-rw-r-- 1 sam sam 5.9K Dec 11 20:38 Library_Geoduck_MG_3_S1_L002_R1_001.fastq.gz_trimming_report.txt\n",
      "-rw-rw-r-- 1 sam sam 6.1G Dec 11 21:45 Library_Geoduck_MG_3_S1_L002_R2_001_trimmed.fq.gz\n",
      "-rw-rw-r-- 1 sam sam 5.9K Dec 11 21:45 Library_Geoduck_MG_3_S1_L002_R2_001.fastq.gz_trimming_report.txt\n",
      "-rw-rw-r-- 1 sam sam 5.2G Dec 11 22:46 Library_Geoduck_MG_5_S6_L002_R1_001_trimmed.fq.gz\n",
      "-rw-rw-r-- 1 sam sam 5.8K Dec 11 22:46 Library_Geoduck_MG_5_S6_L002_R1_001.fastq.gz_trimming_report.txt\n",
      "-rw-rw-r-- 1 sam sam 5.6G Dec 11 23:47 Library_Geoduck_MG_5_S6_L002_R2_001_trimmed.fq.gz\n",
      "-rw-rw-r-- 1 sam sam 5.8K Dec 11 23:47 Library_Geoduck_MG_5_S6_L002_R2_001.fastq.gz_trimming_report.txt\n",
      "-rw-rw-r-- 1 sam sam 5.2G Dec 12 00:47 Library_Geoduck_MG_6_S5_L002_R1_001_trimmed.fq.gz\n",
      "-rw-rw-r-- 1 sam sam 5.8K Dec 12 00:47 Library_Geoduck_MG_6_S5_L002_R1_001.fastq.gz_trimming_report.txt\n",
      "-rw-rw-r-- 1 sam sam 5.7G Dec 12 01:49 Library_Geoduck_MG_6_S5_L002_R2_001_trimmed.fq.gz\n",
      "-rw-rw-r-- 1 sam sam 5.8K Dec 12 01:49 Library_Geoduck_MG_6_S5_L002_R2_001.fastq.gz_trimming_report.txt\n",
      "-rw-rw-r-- 1 sam sam 6.2G Dec 12 02:57 Library_Geoduck_MG_7_S2_L002_R1_001_trimmed.fq.gz\n",
      "-rw-rw-r-- 1 sam sam 5.8K Dec 12 02:57 Library_Geoduck_MG_7_S2_L002_R1_001.fastq.gz_trimming_report.txt\n",
      "-rw-rw-r-- 1 sam sam 6.8G Dec 12 04:11 Library_Geoduck_MG_7_S2_L002_R2_001_trimmed.fq.gz\n",
      "-rw-rw-r-- 1 sam sam 5.9K Dec 12 04:11 Library_Geoduck_MG_7_S2_L002_R2_001.fastq.gz_trimming_report.txt\n",
      "-rw-rw-r-- 1 sam sam  869 Dec 12 04:32 20181211_trimgalore.stdout.log\n",
      "-rw-rw-r-- 1 sam sam  97K Dec 12 04:32 20181211_trimgalore.stderr.log\n",
      "drwxrwxr-x 3 sam sam 4.0K Dec 12 04:32 20181211_metagenomics_trimmed_fastqc\n",
      "\n",
      "--------------------\n",
      "\n",
      "--------------------\n",
      "\n",
      "TRIMMED FASTQC LISTING\n",
      "total 7.7M\n",
      "-rw-rw-r-- 1 sam sam 302K Dec 11 16:26 Library_Geoduck_MG_1_S3_L002_R1_001_trimmed_fastqc.zip\n",
      "-rw-rw-r-- 1 sam sam 242K Dec 11 16:26 Library_Geoduck_MG_1_S3_L002_R1_001_trimmed_fastqc.html\n",
      "-rw-rw-r-- 1 sam sam 310K Dec 11 17:37 Library_Geoduck_MG_1_S3_L002_R2_001_trimmed_fastqc.zip\n",
      "-rw-rw-r-- 1 sam sam 246K Dec 11 17:37 Library_Geoduck_MG_1_S3_L002_R2_001_trimmed_fastqc.html\n",
      "-rw-rw-r-- 1 sam sam 305K Dec 11 18:44 Library_Geoduck_MG_2_S4_L002_R1_001_trimmed_fastqc.zip\n",
      "-rw-rw-r-- 1 sam sam 245K Dec 11 18:44 Library_Geoduck_MG_2_S4_L002_R1_001_trimmed_fastqc.html\n",
      "-rw-rw-r-- 1 sam sam 307K Dec 11 19:52 Library_Geoduck_MG_2_S4_L002_R2_001_trimmed_fastqc.zip\n",
      "-rw-rw-r-- 1 sam sam 246K Dec 11 19:52 Library_Geoduck_MG_2_S4_L002_R2_001_trimmed_fastqc.html\n",
      "-rw-rw-r-- 1 sam sam 304K Dec 11 20:58 Library_Geoduck_MG_3_S1_L002_R1_001_trimmed_fastqc.zip\n",
      "-rw-rw-r-- 1 sam sam 244K Dec 11 20:58 Library_Geoduck_MG_3_S1_L002_R1_001_trimmed_fastqc.html\n",
      "-rw-rw-r-- 1 sam sam 307K Dec 11 22:05 Library_Geoduck_MG_3_S1_L002_R2_001_trimmed_fastqc.zip\n",
      "-rw-rw-r-- 1 sam sam 246K Dec 11 22:05 Library_Geoduck_MG_3_S1_L002_R2_001_trimmed_fastqc.html\n",
      "-rw-rw-r-- 1 sam sam 304K Dec 11 23:04 Library_Geoduck_MG_5_S6_L002_R1_001_trimmed_fastqc.zip\n",
      "-rw-rw-r-- 1 sam sam 244K Dec 11 23:04 Library_Geoduck_MG_5_S6_L002_R1_001_trimmed_fastqc.html\n",
      "-rw-rw-r-- 1 sam sam 308K Dec 12 00:05 Library_Geoduck_MG_5_S6_L002_R2_001_trimmed_fastqc.zip\n",
      "-rw-rw-r-- 1 sam sam 246K Dec 12 00:05 Library_Geoduck_MG_5_S6_L002_R2_001_trimmed_fastqc.html\n",
      "-rw-rw-r-- 1 sam sam 304K Dec 12 01:05 Library_Geoduck_MG_6_S5_L002_R1_001_trimmed_fastqc.zip\n",
      "-rw-rw-r-- 1 sam sam 244K Dec 12 01:05 Library_Geoduck_MG_6_S5_L002_R1_001_trimmed_fastqc.html\n",
      "-rw-rw-r-- 1 sam sam 308K Dec 12 02:07 Library_Geoduck_MG_6_S5_L002_R2_001_trimmed_fastqc.zip\n",
      "-rw-rw-r-- 1 sam sam 246K Dec 12 02:07 Library_Geoduck_MG_6_S5_L002_R2_001_trimmed_fastqc.html\n",
      "-rw-rw-r-- 1 sam sam 300K Dec 12 03:19 Library_Geoduck_MG_7_S2_L002_R1_001_trimmed_fastqc.zip\n",
      "-rw-rw-r-- 1 sam sam 242K Dec 12 03:19 Library_Geoduck_MG_7_S2_L002_R1_001_trimmed_fastqc.html\n",
      "-rw-rw-r-- 1 sam sam 309K Dec 12 04:32 Library_Geoduck_MG_7_S2_L002_R2_001_trimmed_fastqc.zip\n",
      "-rw-rw-r-- 1 sam sam 246K Dec 12 04:32 Library_Geoduck_MG_7_S2_L002_R2_001_trimmed_fastqc.html\n",
      "-rw-rw-r-- 1 sam sam 1.2M Dec 12 04:32 multiqc_report.html\n",
      "drwxrwxr-x 2 sam sam 4.0K Dec 12 04:32 multiqc_data\n",
      "\n",
      "--------------------\n"
     ]
    },
    {
     "name": "stderr",
     "output_type": "stream",
     "text": [
      "\n",
      "real\t795m6.640s\n",
      "user\t1319m20.852s\n",
      "sys\t24m25.728s\n",
      "[INFO   ]         multiqc : This is MultiQC v1.6.dev0\n",
      "[INFO   ]         multiqc : Template    : default\n",
      "[INFO   ]         multiqc : Searching '.'\n",
      "[INFO   ]          fastqc : Found 12 reports\n",
      "[INFO   ]         multiqc : Compressing plot data\n",
      "[INFO   ]         multiqc : Report      : multiqc_report.html\n",
      "[INFO   ]         multiqc : Data        : multiqc_data\n",
      "[INFO   ]         multiqc : MultiQC complete\n"
     ]
    }
   ],
   "source": [
    "%%bash\n",
    "\n",
    "fastq_dir=\"/home/sam/data/metagenomics/\"\n",
    "trim_out_dir=\"/home/sam/analyses/20181211_metagenomics_fastqc_trimgalore/20181211_metagenomics_trimgalore_01\"\n",
    "fastqc_out_dir=\"/home/sam/analyses/20181211_metagenomics_fastqc_trimgalore/20181211_metagenomics_trimgalore_01/20181211_metagenomics_trimmed_fastqc\"\n",
    "\n",
    "cd ${fastq_dir}\n",
    "\n",
    "# List all gzip files and then replace newline with space\n",
    "FASTQ_LIST=\"$(ls -1 *.gz| tr '\\n' ' ')\"\n",
    "\n",
    "# Run TrimGalore! with FastQC\n",
    "time \\\n",
    "/home/shared/TrimGalore-0.4.5/trim_galore \\\n",
    "--output_dir ${trim_out_dir} \\\n",
    "--fastqc_args \\\n",
    "\"--outdir ${fastqc_out_dir} \\\n",
    "--threads 16\" \\\n",
    "${FASTQ_LIST} \\\n",
    "> ${trim_out_dir}/20181211_trimgalore.stdout.log \\\n",
    "2> ${trim_out_dir}/20181211_trimgalore.stderr.log\n",
    "\n",
    "# Run MultiQC\n",
    "cd ${fastqc_out_dir}\n",
    "multiqc .\n",
    "\n",
    "sed '/^Subject:/ s/ / trimgalore JOB COMPLETE/' ~/.default-subject.mail | msmtp \"$EMAIL\"\n",
    "\n",
    "echo \"\"\n",
    "echo \"--------------------\"\n",
    "echo \"TAIL STDOUT\"\n",
    "echo \"--------------------\"\n",
    "tail ${trim_out_dir}/20181211_trimgalore.stdout.log\n",
    "\n",
    "echo \"\"\n",
    "echo \"--------------------\"\n",
    "echo \"TAIL STDERR\"\n",
    "echo \"--------------------\"\n",
    "tail ${trim_out_dir}/20181211_trimgalore.stderr.log\n",
    "echo \"--------------------\"\n",
    "echo \"\"\n",
    "\n",
    "echo \"--------------------\"\n",
    "echo \"\"\n",
    "echo \"TRIMGALORE LISTING\"\n",
    "cd ${trim_out_dir} && ls -lhtr ${trim_out_dir}\n",
    "echo \"\"\n",
    "echo \"--------------------\"\n",
    "\n",
    "echo \"\"\n",
    "\n",
    "echo \"--------------------\"\n",
    "echo \"\"\n",
    "echo \"TRIMMED FASTQC LISTING\"\n",
    "cd ${fastqc_out_dir} && ls -lhtr ${fastqc_out_dir}\n",
    "echo \"\"\n",
    "echo \"--------------------\""
   ]
  },
  {
   "cell_type": "markdown",
   "metadata": {},
   "source": [
    "### Transfer files to Gannet."
   ]
  },
  {
   "cell_type": "code",
   "execution_count": 11,
   "metadata": {
    "collapsed": false
   },
   "outputs": [
    {
     "name": "stderr",
     "output_type": "stream",
     "text": [
      "\n",
      "real\t12m37.427s\n",
      "user\t10m53.328s\n",
      "sys\t2m26.528s\n"
     ]
    }
   ],
   "source": [
    "%%bash\n",
    "cd /home/sam/analyses\n",
    "time \\\n",
    "rsync \\\n",
    "--archive \\\n",
    "--relative \\\n",
    "./20181211_metagenomics_fastqc_trimgalore \\\n",
    "gannet:/volume1/web/Atumefaciens\n",
    "\n",
    "sed '/^Subject:/ s/ / trimgalore file transfer JOB COMPLETE/' ~/.default-subject.mail | msmtp \"$EMAIL\""
   ]
  },
  {
   "cell_type": "code",
   "execution_count": null,
   "metadata": {
    "collapsed": true
   },
   "outputs": [],
   "source": []
  }
 ],
 "metadata": {
  "kernelspec": {
   "display_name": "Python 2",
   "language": "python",
   "name": "python2"
  },
  "language_info": {
   "codemirror_mode": {
    "name": "ipython",
    "version": 2
   },
   "file_extension": ".py",
   "mimetype": "text/x-python",
   "name": "python",
   "nbconvert_exporter": "python",
   "pygments_lexer": "ipython2",
   "version": "2.7.12"
  }
 },
 "nbformat": 4,
 "nbformat_minor": 2
}
