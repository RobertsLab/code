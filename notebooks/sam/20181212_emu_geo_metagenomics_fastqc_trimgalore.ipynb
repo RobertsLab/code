{
 "cells": [
  {
   "cell_type": "code",
   "execution_count": 1,
   "metadata": {
    "collapsed": false
   },
   "outputs": [
    {
     "name": "stdout",
     "output_type": "stream",
     "text": [
      "TODAY'S DATE:\n",
      "Wed Dec 12 13:26:25 PST 2018\n",
      "------------\n",
      "\n",
      "Distributor ID:\tUbuntu\n",
      "Description:\tUbuntu 16.04.5 LTS\n",
      "Release:\t16.04\n",
      "Codename:\txenial\n",
      "\n",
      "------------\n",
      "HOSTNAME: \n",
      "emu\n",
      "\n",
      "------------\n",
      "Computer Specs:\n",
      "\n",
      "Architecture:          x86_64\n",
      "CPU op-mode(s):        32-bit, 64-bit\n",
      "Byte Order:            Little Endian\n",
      "CPU(s):                16\n",
      "On-line CPU(s) list:   0-15\n",
      "Thread(s) per core:    2\n",
      "Core(s) per socket:    4\n",
      "Socket(s):             2\n",
      "NUMA node(s):          1\n",
      "Vendor ID:             GenuineIntel\n",
      "CPU family:            6\n",
      "Model:                 26\n",
      "Model name:            Intel(R) Xeon(R) CPU           E5520  @ 2.27GHz\n",
      "Stepping:              5\n",
      "CPU MHz:               1596.000\n",
      "CPU max MHz:           2394.0000\n",
      "CPU min MHz:           1596.0000\n",
      "BogoMIPS:              4521.80\n",
      "Virtualization:        VT-x\n",
      "L1d cache:             32K\n",
      "L1i cache:             32K\n",
      "L2 cache:              256K\n",
      "L3 cache:              8192K\n",
      "NUMA node0 CPU(s):     0-15\n",
      "Flags:                 fpu vme de pse tsc msr pae mce cx8 apic sep mtrr pge mca cmov pat pse36 clflush dts acpi mmx fxsr sse sse2 ss ht tm pbe syscall nx rdtscp lm constant_tsc arch_perfmon pebs bts nopl xtopology nonstop_tsc aperfmperf pni dtes64 monitor ds_cpl vmx est tm2 ssse3 cx16 xtpr pdcm dca sse4_1 sse4_2 popcnt lahf_lm tpr_shadow vnmi flexpriority ept vpid dtherm ida\n",
      "\n",
      "------------\n",
      "\n",
      "Memory Specs\n",
      "\n",
      "              total        used        free      shared  buff/cache   available\n",
      "Mem:            47G        1.5G        408M        125M         45G         44G\n",
      "Swap:           11G         22M         11G\n"
     ]
    },
    {
     "name": "stderr",
     "output_type": "stream",
     "text": [
      "No LSB modules are available.\n"
     ]
    }
   ],
   "source": [
    "%%bash\n",
    "echo \"TODAY'S DATE:\"\n",
    "date\n",
    "echo \"------------\"\n",
    "echo \"\"\n",
    "#Display operating system info\n",
    "lsb_release -a\n",
    "echo \"\"\n",
    "echo \"------------\"\n",
    "echo \"HOSTNAME: \"; hostname \n",
    "echo \"\"\n",
    "echo \"------------\"\n",
    "echo \"Computer Specs:\"\n",
    "echo \"\"\n",
    "lscpu\n",
    "echo \"\"\n",
    "echo \"------------\"\n",
    "echo \"\"\n",
    "echo \"Memory Specs\"\n",
    "echo \"\"\n",
    "free -mh"
   ]
  },
  {
   "cell_type": "markdown",
   "metadata": {},
   "source": [
    "### Create directories"
   ]
  },
  {
   "cell_type": "code",
   "execution_count": 2,
   "metadata": {
    "collapsed": false
   },
   "outputs": [
    {
     "name": "stderr",
     "output_type": "stream",
     "text": [
      "mkdir: cannot create directory ‘/home/sam/data/metagenomics’: File exists\n",
      "mkdir: cannot create directory ‘/home/sam/data/metagenomics/trimmed’: File exists\n"
     ]
    }
   ],
   "source": [
    "%%bash\n",
    "mkdir /home/sam/data/metagenomics\n",
    "mkdir /home/sam/data/metagenomics/trimmed\n",
    "mkdir /home/sam/analyses/20181211_metagenomics_fastqc_trimgalore\n",
    "mkdir /home/sam/analyses/20181211_metagenomics_fastqc_trimgalore/20181211_metagenomics_fastqc\n",
    "mkdir /home/sam/analyses/20181211_metagenomics_fastqc_trimgalore/20181211_metagenomics_trimgalore_01\n",
    "mkdir /home/sam/analyses/20181211_metagenomics_fastqc_trimgalore/20181211_metagenomics_trimgalore_01/20181211_metagenomics_trimmed_fastqc\n",
    "mkdir /home/sam/analyses/20181211_metagenomics_fastqc_trimgalore/20181211_metagenomics_trimgalore_02\n",
    "mkdir /home/sam/analyses/20181211_metagenomics_fastqc_trimgalore/20181211_metagenomics_trimgalore_02/20181211_metagenomics_trimmed_fastqc"
   ]
  },
  {
   "cell_type": "markdown",
   "metadata": {},
   "source": [
    "### Download necessary files"
   ]
  },
  {
   "cell_type": "markdown",
   "metadata": {},
   "source": [
    "##### Re-run with correct directory and correct rsync command..."
   ]
  },
  {
   "cell_type": "code",
   "execution_count": 5,
   "metadata": {
    "collapsed": false
   },
   "outputs": [
    {
     "name": "stdout",
     "output_type": "stream",
     "text": [
      "total 86G\n",
      "-rwxr-xr-x 1 sam sam 7.2G Aug  8 13:10 Library_Geoduck_MG_3_S1_L002_R1_001.fastq.gz\n",
      "-rw-r--r-- 1 sam sam 7.1G Aug  8 13:10 Library_Geoduck_MG_1_S3_L002_R1_001.fastq.gz\n",
      "-rwxr-xr-x 1 sam sam 8.2G Aug  8 13:10 Library_Geoduck_MG_7_S2_L002_R2_001.fastq.gz\n",
      "-rwxr-xr-x 1 sam sam 7.3G Aug  8 13:10 Library_Geoduck_MG_7_S2_L002_R1_001.fastq.gz\n",
      "-rwxr-xr-x 1 sam sam 7.8G Aug  8 13:10 Library_Geoduck_MG_3_S1_L002_R2_001.fastq.gz\n",
      "-rwxr-xr-x 1 sam sam 6.8G Aug  8 13:10 Library_Geoduck_MG_2_S4_L002_R1_001.fastq.gz\n",
      "-rwxr-xr-x 1 sam sam 6.1G Aug  8 13:10 Library_Geoduck_MG_6_S5_L002_R1_001.fastq.gz\n",
      "-rwxr-xr-x 1 sam sam 7.9G Aug  8 13:10 Library_Geoduck_MG_1_S3_L002_R2_001.fastq.gz\n",
      "-rwxr-xr-x 1 sam sam 6.7G Aug  8 13:10 Library_Geoduck_MG_5_S6_L002_R2_001.fastq.gz\n",
      "-rwxr-xr-x 1 sam sam 7.7G Aug  8 13:10 Library_Geoduck_MG_2_S4_L002_R2_001.fastq.gz\n",
      "-rwxr-xr-x 1 sam sam 6.9G Aug  8 13:10 Library_Geoduck_MG_6_S5_L002_R2_001.fastq.gz\n",
      "-rwxr-xr-x 1 sam sam 6.0G Aug  8 13:10 Library_Geoduck_MG_5_S6_L002_R1_001.fastq.gz\n",
      "drwxrwxr-x 2 sam sam 4.0K Dec 11 13:27 trimmed\n"
     ]
    },
    {
     "name": "stderr",
     "output_type": "stream",
     "text": [
      "\n",
      "real\t60m16.704s\n",
      "user\t20m34.552s\n",
      "sys\t7m59.060s\n"
     ]
    }
   ],
   "source": [
    "%%bash\n",
    "\n",
    "cd /home/sam/data/metagenomics\n",
    "\n",
    "# Uncomment following lines to download files from server\n",
    "#time \\\n",
    "#wget \\\n",
    "#--quiet \\\n",
    "#--no-directories \\\n",
    "#--recursive \\\n",
    "#--accept gz \\\n",
    "#--accept-regex \"Library_Geoduck_MG_[0-9]\" \\\n",
    "#http://owl.fish.washington.edu/nightingales/P_generosa/\n",
    "\n",
    "time \\\n",
    "rsync --archive \\\n",
    "owl:/volume1/web/nightingales/P_generosa/Library_Geoduck*gz .\n",
    "\n",
    "sed '/^Subject:/ s/ / metagenomics download JOB COMPLETE/' ~/.default-subject.mail | msmtp \"$EMAIL\"\n",
    "\n",
    "ls -ltrh"
   ]
  },
  {
   "cell_type": "markdown",
   "metadata": {},
   "source": [
    "### Run FastQC\n",
    "\n",
    "The code belows creates a space-delimited list of the FastQ files (FASTQ_LIST).\n",
    "\n",
    "This is then passed to FastQC."
   ]
  },
  {
   "cell_type": "code",
   "execution_count": 6,
   "metadata": {
    "collapsed": false
   },
   "outputs": [
    {
     "name": "stdout",
     "output_type": "stream",
     "text": [
      "Library_Geoduck_MG_1_S3_L002_R1_001_fastqc\n",
      "Library_Geoduck_MG_1_S3_L002_R1_001_fastqc.html\n",
      "Library_Geoduck_MG_1_S3_L002_R1_001_fastqc.zip\n",
      "Library_Geoduck_MG_1_S3_L002_R2_001_fastqc\n",
      "Library_Geoduck_MG_1_S3_L002_R2_001_fastqc.html\n",
      "Library_Geoduck_MG_1_S3_L002_R2_001_fastqc.zip\n",
      "Library_Geoduck_MG_2_S4_L002_R1_001_fastqc\n",
      "Library_Geoduck_MG_2_S4_L002_R1_001_fastqc.html\n",
      "Library_Geoduck_MG_2_S4_L002_R1_001_fastqc.zip\n",
      "Library_Geoduck_MG_2_S4_L002_R2_001_fastqc\n",
      "Library_Geoduck_MG_2_S4_L002_R2_001_fastqc.html\n",
      "Library_Geoduck_MG_2_S4_L002_R2_001_fastqc.zip\n",
      "Library_Geoduck_MG_3_S1_L002_R1_001_fastqc\n",
      "Library_Geoduck_MG_3_S1_L002_R1_001_fastqc.html\n",
      "Library_Geoduck_MG_3_S1_L002_R1_001_fastqc.zip\n",
      "Library_Geoduck_MG_3_S1_L002_R2_001_fastqc\n",
      "Library_Geoduck_MG_3_S1_L002_R2_001_fastqc.html\n",
      "Library_Geoduck_MG_3_S1_L002_R2_001_fastqc.zip\n",
      "Library_Geoduck_MG_5_S6_L002_R1_001_fastqc\n",
      "Library_Geoduck_MG_5_S6_L002_R1_001_fastqc.html\n",
      "Library_Geoduck_MG_5_S6_L002_R1_001_fastqc.zip\n",
      "Library_Geoduck_MG_5_S6_L002_R2_001_fastqc\n",
      "Library_Geoduck_MG_5_S6_L002_R2_001_fastqc.html\n",
      "Library_Geoduck_MG_5_S6_L002_R2_001_fastqc.zip\n",
      "Library_Geoduck_MG_6_S5_L002_R1_001_fastqc\n",
      "Library_Geoduck_MG_6_S5_L002_R1_001_fastqc.html\n",
      "Library_Geoduck_MG_6_S5_L002_R1_001_fastqc.zip\n",
      "Library_Geoduck_MG_6_S5_L002_R2_001_fastqc\n",
      "Library_Geoduck_MG_6_S5_L002_R2_001_fastqc.html\n",
      "Library_Geoduck_MG_6_S5_L002_R2_001_fastqc.zip\n",
      "Library_Geoduck_MG_7_S2_L002_R1_001_fastqc\n",
      "Library_Geoduck_MG_7_S2_L002_R1_001_fastqc.html\n",
      "Library_Geoduck_MG_7_S2_L002_R1_001_fastqc.zip\n",
      "Library_Geoduck_MG_7_S2_L002_R2_001_fastqc\n",
      "Library_Geoduck_MG_7_S2_L002_R2_001_fastqc.html\n",
      "Library_Geoduck_MG_7_S2_L002_R2_001_fastqc.zip\n"
     ]
    },
    {
     "name": "stderr",
     "output_type": "stream",
     "text": [
      "\n",
      "real\t41m55.107s\n",
      "user\t337m9.560s\n",
      "sys\t5m10.576s\n"
     ]
    }
   ],
   "source": [
    "%%bash\n",
    "fastq_dir=\"/home/sam/data/metagenomics/\"\n",
    "out_dir=\"/home/sam/analyses/20181211_metagenomics_fastqc_trimgalore/20181211_metagenomics_fastqc\"\n",
    "\n",
    "cd ${fastq_dir}\n",
    "\n",
    "# List all gzip files and then replace newline with space\n",
    "FASTQ_LIST=\"$(ls -1 *.gz| tr '\\n' ' ')\"\n",
    "\n",
    "# Run FastQC\n",
    "time \\\n",
    "/home/shared/fastqc_0.11.7/fastqc \\\n",
    "--extract \\\n",
    "--threads 16 \\\n",
    "--quiet \\\n",
    "--outdir ${out_dir} \\\n",
    "$FASTQ_LIST\n",
    "\n",
    "sed '/^Subject:/ s/ / fastqc JOB COMPLETE/' ~/.default-subject.mail | msmtp \"$EMAIL\"\n",
    "\n",
    "ls ${out_dir}"
   ]
  },
  {
   "cell_type": "markdown",
   "metadata": {},
   "source": [
    "### Run MultiQC."
   ]
  },
  {
   "cell_type": "code",
   "execution_count": 7,
   "metadata": {
    "collapsed": false
   },
   "outputs": [
    {
     "name": "stdout",
     "output_type": "stream",
     "text": [
      "Searching 228 files..\n",
      "Library_Geoduck_MG_1_S3_L002_R1_001_fastqc\n",
      "Library_Geoduck_MG_1_S3_L002_R1_001_fastqc.html\n",
      "Library_Geoduck_MG_1_S3_L002_R1_001_fastqc.zip\n",
      "Library_Geoduck_MG_1_S3_L002_R2_001_fastqc\n",
      "Library_Geoduck_MG_1_S3_L002_R2_001_fastqc.html\n",
      "Library_Geoduck_MG_1_S3_L002_R2_001_fastqc.zip\n",
      "Library_Geoduck_MG_2_S4_L002_R1_001_fastqc\n",
      "Library_Geoduck_MG_2_S4_L002_R1_001_fastqc.html\n",
      "Library_Geoduck_MG_2_S4_L002_R1_001_fastqc.zip\n",
      "Library_Geoduck_MG_2_S4_L002_R2_001_fastqc\n",
      "Library_Geoduck_MG_2_S4_L002_R2_001_fastqc.html\n",
      "Library_Geoduck_MG_2_S4_L002_R2_001_fastqc.zip\n",
      "Library_Geoduck_MG_3_S1_L002_R1_001_fastqc\n",
      "Library_Geoduck_MG_3_S1_L002_R1_001_fastqc.html\n",
      "Library_Geoduck_MG_3_S1_L002_R1_001_fastqc.zip\n",
      "Library_Geoduck_MG_3_S1_L002_R2_001_fastqc\n",
      "Library_Geoduck_MG_3_S1_L002_R2_001_fastqc.html\n",
      "Library_Geoduck_MG_3_S1_L002_R2_001_fastqc.zip\n",
      "Library_Geoduck_MG_5_S6_L002_R1_001_fastqc\n",
      "Library_Geoduck_MG_5_S6_L002_R1_001_fastqc.html\n",
      "Library_Geoduck_MG_5_S6_L002_R1_001_fastqc.zip\n",
      "Library_Geoduck_MG_5_S6_L002_R2_001_fastqc\n",
      "Library_Geoduck_MG_5_S6_L002_R2_001_fastqc.html\n",
      "Library_Geoduck_MG_5_S6_L002_R2_001_fastqc.zip\n",
      "Library_Geoduck_MG_6_S5_L002_R1_001_fastqc\n",
      "Library_Geoduck_MG_6_S5_L002_R1_001_fastqc.html\n",
      "Library_Geoduck_MG_6_S5_L002_R1_001_fastqc.zip\n",
      "Library_Geoduck_MG_6_S5_L002_R2_001_fastqc\n",
      "Library_Geoduck_MG_6_S5_L002_R2_001_fastqc.html\n",
      "Library_Geoduck_MG_6_S5_L002_R2_001_fastqc.zip\n",
      "Library_Geoduck_MG_7_S2_L002_R1_001_fastqc\n",
      "Library_Geoduck_MG_7_S2_L002_R1_001_fastqc.html\n",
      "Library_Geoduck_MG_7_S2_L002_R1_001_fastqc.zip\n",
      "Library_Geoduck_MG_7_S2_L002_R2_001_fastqc\n",
      "Library_Geoduck_MG_7_S2_L002_R2_001_fastqc.html\n",
      "Library_Geoduck_MG_7_S2_L002_R2_001_fastqc.zip\n",
      "multiqc_data\n",
      "multiqc_report.html\n"
     ]
    },
    {
     "name": "stderr",
     "output_type": "stream",
     "text": [
      "[INFO   ]         multiqc : This is MultiQC v1.6.dev0\n",
      "[INFO   ]         multiqc : Template    : default\n",
      "[INFO   ]         multiqc : Searching '.'\n",
      "[INFO   ]          fastqc : Found 12 reports\n",
      "[INFO   ]         multiqc : Compressing plot data\n",
      "[INFO   ]         multiqc : Report      : multiqc_report.html\n",
      "[INFO   ]         multiqc : Data        : multiqc_data\n",
      "[INFO   ]         multiqc : MultiQC complete\n",
      "\n",
      "real\t0m8.683s\n",
      "user\t0m4.724s\n",
      "sys\t0m1.568s\n"
     ]
    }
   ],
   "source": [
    "%%bash\n",
    "cd /home/sam/analyses/20181211_metagenomics_fastqc_trimgalore/20181211_metagenomics_fastqc\n",
    "time \\\n",
    "multiqc .\n",
    "ls"
   ]
  },
  {
   "cell_type": "markdown",
   "metadata": {},
   "source": [
    "#### Run TrimGalore! w/FastQC, follow by MultiQC"
   ]
  },
  {
   "cell_type": "code",
   "execution_count": 8,
   "metadata": {
    "collapsed": false
   },
   "outputs": [
    {
     "name": "stdout",
     "output_type": "stream",
     "text": [
      "Searching 24 files..\n",
      "\n",
      "--------------------\n",
      "TAIL STDOUT\n",
      "--------------------\n",
      "Analysis complete for Library_Geoduck_MG_2_S4_L002_R1_001_val_1.fq.gz\n",
      "Analysis complete for Library_Geoduck_MG_2_S4_L002_R2_001_val_2.fq.gz\n",
      "Analysis complete for Library_Geoduck_MG_3_S1_L002_R1_001_val_1.fq.gz\n",
      "Analysis complete for Library_Geoduck_MG_3_S1_L002_R2_001_val_2.fq.gz\n",
      "Analysis complete for Library_Geoduck_MG_5_S6_L002_R1_001_val_1.fq.gz\n",
      "Analysis complete for Library_Geoduck_MG_5_S6_L002_R2_001_val_2.fq.gz\n",
      "Analysis complete for Library_Geoduck_MG_6_S5_L002_R1_001_val_1.fq.gz\n",
      "Analysis complete for Library_Geoduck_MG_6_S5_L002_R2_001_val_2.fq.gz\n",
      "Analysis complete for Library_Geoduck_MG_7_S2_L002_R1_001_val_1.fq.gz\n",
      "Analysis complete for Library_Geoduck_MG_7_S2_L002_R2_001_val_2.fq.gz\n",
      "\n",
      "--------------------\n",
      "TAIL STDERR\n",
      "--------------------\n",
      "Approx 80% complete for Library_Geoduck_MG_7_S2_L002_R2_001_val_2.fq.gz\n",
      "Approx 85% complete for Library_Geoduck_MG_7_S2_L002_R2_001_val_2.fq.gz\n",
      "Approx 90% complete for Library_Geoduck_MG_7_S2_L002_R2_001_val_2.fq.gz\n",
      "Approx 95% complete for Library_Geoduck_MG_7_S2_L002_R2_001_val_2.fq.gz\n",
      "Deleting both intermediate output files Library_Geoduck_MG_7_S2_L002_R1_001_trimmed.fq.gz and Library_Geoduck_MG_7_S2_L002_R2_001_trimmed.fq.gz\n",
      "\n",
      "====================================================================================================\n",
      "\n",
      "\n",
      "gzip: stdout: Broken pipe\n",
      "--------------------\n",
      "\n",
      "--------------------\n",
      "\n",
      "TRIMGALORE LISTING\n",
      "total 71G\n",
      "-rw-rw-r-- 1 sam sam 5.7K Dec 12 15:04 Library_Geoduck_MG_1_S3_L002_R1_001.fastq.gz_trimming_report.txt\n",
      "-rw-rw-r-- 1 sam sam 6.0G Dec 12 16:43 Library_Geoduck_MG_1_S3_L002_R1_001_val_1.fq.gz\n",
      "-rw-rw-r-- 1 sam sam 6.6G Dec 12 16:43 Library_Geoduck_MG_1_S3_L002_R2_001_val_2.fq.gz\n",
      "-rw-rw-r-- 1 sam sam 6.0K Dec 12 16:43 Library_Geoduck_MG_1_S3_L002_R2_001.fastq.gz_trimming_report.txt\n",
      "-rw-rw-r-- 1 sam sam 5.8K Dec 12 18:11 Library_Geoduck_MG_2_S4_L002_R1_001.fastq.gz_trimming_report.txt\n",
      "-rw-rw-r-- 1 sam sam 5.8G Dec 12 19:48 Library_Geoduck_MG_2_S4_L002_R1_001_val_1.fq.gz\n",
      "-rw-rw-r-- 1 sam sam 6.4G Dec 12 19:48 Library_Geoduck_MG_2_S4_L002_R2_001_val_2.fq.gz\n",
      "-rw-rw-r-- 1 sam sam 6.0K Dec 12 19:48 Library_Geoduck_MG_2_S4_L002_R2_001.fastq.gz_trimming_report.txt\n",
      "-rw-rw-r-- 1 sam sam 5.8K Dec 12 21:13 Library_Geoduck_MG_3_S1_L002_R1_001.fastq.gz_trimming_report.txt\n",
      "-rw-rw-r-- 1 sam sam 5.7G Dec 12 22:46 Library_Geoduck_MG_3_S1_L002_R1_001_val_1.fq.gz\n",
      "-rw-rw-r-- 1 sam sam 6.1G Dec 12 22:46 Library_Geoduck_MG_3_S1_L002_R2_001_val_2.fq.gz\n",
      "-rw-rw-r-- 1 sam sam 6.0K Dec 12 22:46 Library_Geoduck_MG_3_S1_L002_R2_001.fastq.gz_trimming_report.txt\n",
      "-rw-rw-r-- 1 sam sam 5.7K Dec 13 00:07 Library_Geoduck_MG_5_S6_L002_R1_001.fastq.gz_trimming_report.txt\n",
      "-rw-rw-r-- 1 sam sam 5.1G Dec 13 01:32 Library_Geoduck_MG_5_S6_L002_R1_001_val_1.fq.gz\n",
      "-rw-rw-r-- 1 sam sam 5.6G Dec 13 01:32 Library_Geoduck_MG_5_S6_L002_R2_001_val_2.fq.gz\n",
      "-rw-rw-r-- 1 sam sam 5.9K Dec 13 01:32 Library_Geoduck_MG_5_S6_L002_R2_001.fastq.gz_trimming_report.txt\n",
      "-rw-rw-r-- 1 sam sam 5.7K Dec 13 02:49 Library_Geoduck_MG_6_S5_L002_R1_001.fastq.gz_trimming_report.txt\n",
      "-rw-rw-r-- 1 sam sam 5.2G Dec 13 04:16 Library_Geoduck_MG_6_S5_L002_R1_001_val_1.fq.gz\n",
      "-rw-rw-r-- 1 sam sam 5.7G Dec 13 04:16 Library_Geoduck_MG_6_S5_L002_R2_001_val_2.fq.gz\n",
      "-rw-rw-r-- 1 sam sam 5.9K Dec 13 04:16 Library_Geoduck_MG_6_S5_L002_R2_001.fastq.gz_trimming_report.txt\n",
      "-rw-rw-r-- 1 sam sam 5.8K Dec 13 05:42 Library_Geoduck_MG_7_S2_L002_R1_001.fastq.gz_trimming_report.txt\n",
      "-rw-rw-r-- 1 sam sam 6.2G Dec 13 07:25 Library_Geoduck_MG_7_S2_L002_R1_001_val_1.fq.gz\n",
      "-rw-rw-r-- 1 sam sam 6.8G Dec 13 07:25 Library_Geoduck_MG_7_S2_L002_R2_001_val_2.fq.gz\n",
      "-rw-rw-r-- 1 sam sam 6.0K Dec 13 07:25 Library_Geoduck_MG_7_S2_L002_R2_001.fastq.gz_trimming_report.txt\n",
      "-rw-rw-r-- 1 sam sam  845 Dec 13 08:08 20181211_trimgalore.stdout.log\n",
      "-rw-rw-r-- 1 sam sam 103K Dec 13 08:08 20181211_trimgalore.stderr.log\n",
      "drwxrwxr-x 3 sam sam 4.0K Dec 13 08:08 20181211_metagenomics_trimmed_fastqc\n",
      "\n",
      "--------------------\n",
      "\n",
      "--------------------\n",
      "\n",
      "TRIMMED FASTQC LISTING\n",
      "total 7.7M\n",
      "-rw-rw-r-- 1 sam sam 300K Dec 12 17:04 Library_Geoduck_MG_1_S3_L002_R1_001_val_1_fastqc.zip\n",
      "-rw-rw-r-- 1 sam sam 242K Dec 12 17:04 Library_Geoduck_MG_1_S3_L002_R1_001_val_1_fastqc.html\n",
      "-rw-rw-r-- 1 sam sam 310K Dec 12 17:25 Library_Geoduck_MG_1_S3_L002_R2_001_val_2_fastqc.zip\n",
      "-rw-rw-r-- 1 sam sam 247K Dec 12 17:25 Library_Geoduck_MG_1_S3_L002_R2_001_val_2_fastqc.html\n",
      "-rw-rw-r-- 1 sam sam 305K Dec 12 20:08 Library_Geoduck_MG_2_S4_L002_R1_001_val_1_fastqc.zip\n",
      "-rw-rw-r-- 1 sam sam 245K Dec 12 20:08 Library_Geoduck_MG_2_S4_L002_R1_001_val_1_fastqc.html\n",
      "-rw-rw-r-- 1 sam sam 307K Dec 12 20:28 Library_Geoduck_MG_2_S4_L002_R2_001_val_2_fastqc.zip\n",
      "-rw-rw-r-- 1 sam sam 245K Dec 12 20:28 Library_Geoduck_MG_2_S4_L002_R2_001_val_2_fastqc.html\n",
      "-rw-rw-r-- 1 sam sam 305K Dec 12 23:06 Library_Geoduck_MG_3_S1_L002_R1_001_val_1_fastqc.zip\n",
      "-rw-rw-r-- 1 sam sam 244K Dec 12 23:06 Library_Geoduck_MG_3_S1_L002_R1_001_val_1_fastqc.html\n",
      "-rw-rw-r-- 1 sam sam 307K Dec 12 23:26 Library_Geoduck_MG_3_S1_L002_R2_001_val_2_fastqc.zip\n",
      "-rw-rw-r-- 1 sam sam 246K Dec 12 23:26 Library_Geoduck_MG_3_S1_L002_R2_001_val_2_fastqc.html\n",
      "-rw-rw-r-- 1 sam sam 303K Dec 13 01:50 Library_Geoduck_MG_5_S6_L002_R1_001_val_1_fastqc.zip\n",
      "-rw-rw-r-- 1 sam sam 244K Dec 13 01:50 Library_Geoduck_MG_5_S6_L002_R1_001_val_1_fastqc.html\n",
      "-rw-rw-r-- 1 sam sam 307K Dec 13 02:07 Library_Geoduck_MG_5_S6_L002_R2_001_val_2_fastqc.zip\n",
      "-rw-rw-r-- 1 sam sam 246K Dec 13 02:07 Library_Geoduck_MG_5_S6_L002_R2_001_val_2_fastqc.html\n",
      "-rw-rw-r-- 1 sam sam 303K Dec 13 04:34 Library_Geoduck_MG_6_S5_L002_R1_001_val_1_fastqc.zip\n",
      "-rw-rw-r-- 1 sam sam 244K Dec 13 04:34 Library_Geoduck_MG_6_S5_L002_R1_001_val_1_fastqc.html\n",
      "-rw-rw-r-- 1 sam sam 308K Dec 13 04:52 Library_Geoduck_MG_6_S5_L002_R2_001_val_2_fastqc.zip\n",
      "-rw-rw-r-- 1 sam sam 246K Dec 13 04:52 Library_Geoduck_MG_6_S5_L002_R2_001_val_2_fastqc.html\n",
      "-rw-rw-r-- 1 sam sam 301K Dec 13 07:46 Library_Geoduck_MG_7_S2_L002_R1_001_val_1_fastqc.zip\n",
      "-rw-rw-r-- 1 sam sam 242K Dec 13 07:46 Library_Geoduck_MG_7_S2_L002_R1_001_val_1_fastqc.html\n",
      "-rw-rw-r-- 1 sam sam 309K Dec 13 08:08 Library_Geoduck_MG_7_S2_L002_R2_001_val_2_fastqc.zip\n",
      "-rw-rw-r-- 1 sam sam 246K Dec 13 08:08 Library_Geoduck_MG_7_S2_L002_R2_001_val_2_fastqc.html\n",
      "-rw-rw-r-- 1 sam sam 1.2M Dec 13 08:08 multiqc_report.html\n",
      "drwxrwxr-x 2 sam sam 4.0K Dec 13 08:08 multiqc_data\n",
      "\n",
      "--------------------\n"
     ]
    },
    {
     "name": "stderr",
     "output_type": "stream",
     "text": [
      "\n",
      "real\t1072m12.860s\n",
      "user\t1953m48.580s\n",
      "sys\t36m26.676s\n",
      "[INFO   ]         multiqc : This is MultiQC v1.6.dev0\n",
      "[INFO   ]         multiqc : Template    : default\n",
      "[INFO   ]         multiqc : Searching '.'\n",
      "[INFO   ]          fastqc : Found 12 reports\n",
      "[INFO   ]         multiqc : Compressing plot data\n",
      "[INFO   ]         multiqc : Report      : multiqc_report.html\n",
      "[INFO   ]         multiqc : Data        : multiqc_data\n",
      "[INFO   ]         multiqc : MultiQC complete\n"
     ]
    }
   ],
   "source": [
    "%%bash\n",
    "\n",
    "fastq_dir=\"/home/sam/data/metagenomics/\"\n",
    "trim_out_dir=\"/home/sam/analyses/20181211_metagenomics_fastqc_trimgalore/20181211_metagenomics_trimgalore_01\"\n",
    "fastqc_out_dir=\"/home/sam/analyses/20181211_metagenomics_fastqc_trimgalore/20181211_metagenomics_trimgalore_01/20181211_metagenomics_trimmed_fastqc\"\n",
    "\n",
    "cd ${fastq_dir}\n",
    "\n",
    "# List all gzip files and then replace newline with space\n",
    "FASTQ_LIST=\"$(ls -1 *.gz| tr '\\n' ' ')\"\n",
    "\n",
    "# Run TrimGalore! with FastQC\n",
    "time \\\n",
    "/home/shared/TrimGalore-0.4.5/trim_galore \\\n",
    "--paired \\\n",
    "--output_dir ${trim_out_dir} \\\n",
    "--fastqc_args \\\n",
    "\"--outdir ${fastqc_out_dir} \\\n",
    "--threads 16\" \\\n",
    "${FASTQ_LIST} \\\n",
    "> ${trim_out_dir}/20181211_trimgalore.stdout.log \\\n",
    "2> ${trim_out_dir}/20181211_trimgalore.stderr.log\n",
    "\n",
    "# Run MultiQC\n",
    "cd ${fastqc_out_dir}\n",
    "multiqc .\n",
    "\n",
    "sed '/^Subject:/ s/ / trimgalore JOB COMPLETE/' ~/.default-subject.mail | msmtp \"$EMAIL\"\n",
    "\n",
    "echo \"\"\n",
    "echo \"--------------------\"\n",
    "echo \"TAIL STDOUT\"\n",
    "echo \"--------------------\"\n",
    "tail ${trim_out_dir}/20181211_trimgalore.stdout.log\n",
    "\n",
    "echo \"\"\n",
    "echo \"--------------------\"\n",
    "echo \"TAIL STDERR\"\n",
    "echo \"--------------------\"\n",
    "tail ${trim_out_dir}/20181211_trimgalore.stderr.log\n",
    "echo \"--------------------\"\n",
    "echo \"\"\n",
    "\n",
    "echo \"--------------------\"\n",
    "echo \"\"\n",
    "echo \"TRIMGALORE LISTING\"\n",
    "cd ${trim_out_dir} && ls -lhtr ${trim_out_dir}\n",
    "echo \"\"\n",
    "echo \"--------------------\"\n",
    "\n",
    "echo \"\"\n",
    "\n",
    "echo \"--------------------\"\n",
    "echo \"\"\n",
    "echo \"TRIMMED FASTQC LISTING\"\n",
    "cd ${fastqc_out_dir} && ls -lhtr ${fastqc_out_dir}\n",
    "echo \"\"\n",
    "echo \"--------------------\""
   ]
  },
  {
   "cell_type": "markdown",
   "metadata": {
    "collapsed": true
   },
   "source": [
    "### Trim first 10bp off each read"
   ]
  },
  {
   "cell_type": "code",
   "execution_count": 9,
   "metadata": {
    "collapsed": false
   },
   "outputs": [
    {
     "name": "stdout",
     "output_type": "stream",
     "text": [
      "Searching 24 files..\n",
      "\n",
      "--------------------\n",
      "TAIL STDOUT\n",
      "--------------------\n",
      "Analysis complete for Library_Geoduck_MG_2_S4_L002_R1_001_val_1_val_1.fq.gz\n",
      "Analysis complete for Library_Geoduck_MG_2_S4_L002_R2_001_val_2_val_2.fq.gz\n",
      "Analysis complete for Library_Geoduck_MG_3_S1_L002_R1_001_val_1_val_1.fq.gz\n",
      "Analysis complete for Library_Geoduck_MG_3_S1_L002_R2_001_val_2_val_2.fq.gz\n",
      "Analysis complete for Library_Geoduck_MG_5_S6_L002_R1_001_val_1_val_1.fq.gz\n",
      "Analysis complete for Library_Geoduck_MG_5_S6_L002_R2_001_val_2_val_2.fq.gz\n",
      "Analysis complete for Library_Geoduck_MG_6_S5_L002_R1_001_val_1_val_1.fq.gz\n",
      "Analysis complete for Library_Geoduck_MG_6_S5_L002_R2_001_val_2_val_2.fq.gz\n",
      "Analysis complete for Library_Geoduck_MG_7_S2_L002_R1_001_val_1_val_1.fq.gz\n",
      "Analysis complete for Library_Geoduck_MG_7_S2_L002_R2_001_val_2_val_2.fq.gz\n",
      "\n",
      "--------------------\n",
      "TAIL STDERR\n",
      "--------------------\n",
      "Approx 80% complete for Library_Geoduck_MG_7_S2_L002_R2_001_val_2_val_2.fq.gz\n",
      "Approx 85% complete for Library_Geoduck_MG_7_S2_L002_R2_001_val_2_val_2.fq.gz\n",
      "Approx 90% complete for Library_Geoduck_MG_7_S2_L002_R2_001_val_2_val_2.fq.gz\n",
      "Approx 95% complete for Library_Geoduck_MG_7_S2_L002_R2_001_val_2_val_2.fq.gz\n",
      "Deleting both intermediate output files Library_Geoduck_MG_7_S2_L002_R1_001_val_1_trimmed.fq.gz and Library_Geoduck_MG_7_S2_L002_R2_001_val_2_trimmed.fq.gz\n",
      "\n",
      "====================================================================================================\n",
      "\n",
      "\n",
      "gzip: stdout: Broken pipe\n",
      "--------------------\n",
      "\n",
      "--------------------\n",
      "\n",
      "TRIMGALORE LISTING\n",
      "total 67G\n",
      "-rw-rw-r-- 1 sam sam 5.2K Dec 13 08:56 Library_Geoduck_MG_1_S3_L002_R1_001_val_1.fq.gz_trimming_report.txt\n",
      "-rw-rw-r-- 1 sam sam 5.7G Dec 13 10:32 Library_Geoduck_MG_1_S3_L002_R1_001_val_1_val_1.fq.gz\n",
      "-rw-rw-r-- 1 sam sam 6.2G Dec 13 10:32 Library_Geoduck_MG_1_S3_L002_R2_001_val_2_val_2.fq.gz\n",
      "-rw-rw-r-- 1 sam sam 5.3K Dec 13 10:32 Library_Geoduck_MG_1_S3_L002_R2_001_val_2.fq.gz_trimming_report.txt\n",
      "-rw-rw-r-- 1 sam sam 5.2K Dec 13 11:56 Library_Geoduck_MG_2_S4_L002_R1_001_val_1.fq.gz_trimming_report.txt\n",
      "-rw-rw-r-- 1 sam sam 5.4G Dec 13 13:29 Library_Geoduck_MG_2_S4_L002_R1_001_val_1_val_1.fq.gz\n",
      "-rw-rw-r-- 1 sam sam 6.0G Dec 13 13:29 Library_Geoduck_MG_2_S4_L002_R2_001_val_2_val_2.fq.gz\n",
      "-rw-rw-r-- 1 sam sam 5.2K Dec 13 13:29 Library_Geoduck_MG_2_S4_L002_R2_001_val_2.fq.gz_trimming_report.txt\n",
      "-rw-rw-r-- 1 sam sam 5.2K Dec 13 14:50 Library_Geoduck_MG_3_S1_L002_R1_001_val_1.fq.gz_trimming_report.txt\n",
      "-rw-rw-r-- 1 sam sam 5.3G Dec 13 16:20 Library_Geoduck_MG_3_S1_L002_R1_001_val_1_val_1.fq.gz\n",
      "-rw-rw-r-- 1 sam sam 5.7G Dec 13 16:20 Library_Geoduck_MG_3_S1_L002_R2_001_val_2_val_2.fq.gz\n",
      "-rw-rw-r-- 1 sam sam 5.2K Dec 13 16:20 Library_Geoduck_MG_3_S1_L002_R2_001_val_2.fq.gz_trimming_report.txt\n",
      "-rw-rw-r-- 1 sam sam 5.2K Dec 13 17:38 Library_Geoduck_MG_5_S6_L002_R1_001_val_1.fq.gz_trimming_report.txt\n",
      "-rw-rw-r-- 1 sam sam 4.8G Dec 13 19:00 Library_Geoduck_MG_5_S6_L002_R1_001_val_1_val_1.fq.gz\n",
      "-rw-rw-r-- 1 sam sam 5.3G Dec 13 19:00 Library_Geoduck_MG_5_S6_L002_R2_001_val_2_val_2.fq.gz\n",
      "-rw-rw-r-- 1 sam sam 5.1K Dec 13 19:00 Library_Geoduck_MG_5_S6_L002_R2_001_val_2.fq.gz_trimming_report.txt\n",
      "-rw-rw-r-- 1 sam sam 5.2K Dec 13 20:15 Library_Geoduck_MG_6_S5_L002_R1_001_val_1.fq.gz_trimming_report.txt\n",
      "-rw-rw-r-- 1 sam sam 4.9G Dec 13 21:38 Library_Geoduck_MG_6_S5_L002_R1_001_val_1_val_1.fq.gz\n",
      "-rw-rw-r-- 1 sam sam 5.4G Dec 13 21:38 Library_Geoduck_MG_6_S5_L002_R2_001_val_2_val_2.fq.gz\n",
      "-rw-rw-r-- 1 sam sam 5.1K Dec 13 21:38 Library_Geoduck_MG_6_S5_L002_R2_001_val_2.fq.gz_trimming_report.txt\n",
      "-rw-rw-r-- 1 sam sam 5.2K Dec 13 23:01 Library_Geoduck_MG_7_S2_L002_R1_001_val_1.fq.gz_trimming_report.txt\n",
      "-rw-rw-r-- 1 sam sam 5.8G Dec 14 00:41 Library_Geoduck_MG_7_S2_L002_R1_001_val_1_val_1.fq.gz\n",
      "-rw-rw-r-- 1 sam sam 6.4G Dec 14 00:41 Library_Geoduck_MG_7_S2_L002_R2_001_val_2_val_2.fq.gz\n",
      "-rw-rw-r-- 1 sam sam 5.1K Dec 14 00:41 Library_Geoduck_MG_7_S2_L002_R2_001_val_2.fq.gz_trimming_report.txt\n",
      "-rw-rw-r-- 1 sam sam  917 Dec 14 01:21 20181211_trimgalore.stdout.log\n",
      "-rw-rw-r-- 1 sam sam  97K Dec 14 01:21 20181211_trimgalore.stderr.log\n",
      "drwxrwxr-x 3 sam sam 4.0K Dec 14 01:22 20181211_metagenomics_trimmed_fastqc\n",
      "\n",
      "--------------------\n",
      "\n",
      "--------------------\n",
      "\n",
      "TRIMMED FASTQC LISTING\n",
      "total 7.5M\n",
      "-rw-rw-r-- 1 sam sam 290K Dec 13 10:51 Library_Geoduck_MG_1_S3_L002_R1_001_val_1_val_1_fastqc.zip\n",
      "-rw-rw-r-- 1 sam sam 239K Dec 13 10:51 Library_Geoduck_MG_1_S3_L002_R1_001_val_1_val_1_fastqc.html\n",
      "-rw-rw-r-- 1 sam sam 297K Dec 13 11:10 Library_Geoduck_MG_1_S3_L002_R2_001_val_2_val_2_fastqc.zip\n",
      "-rw-rw-r-- 1 sam sam 242K Dec 13 11:10 Library_Geoduck_MG_1_S3_L002_R2_001_val_2_val_2_fastqc.html\n",
      "-rw-rw-r-- 1 sam sam 292K Dec 13 13:47 Library_Geoduck_MG_2_S4_L002_R1_001_val_1_val_1_fastqc.zip\n",
      "-rw-rw-r-- 1 sam sam 239K Dec 13 13:47 Library_Geoduck_MG_2_S4_L002_R1_001_val_1_val_1_fastqc.html\n",
      "-rw-rw-r-- 1 sam sam 293K Dec 13 14:06 Library_Geoduck_MG_2_S4_L002_R2_001_val_2_val_2_fastqc.zip\n",
      "-rw-rw-r-- 1 sam sam 241K Dec 13 14:06 Library_Geoduck_MG_2_S4_L002_R2_001_val_2_val_2_fastqc.html\n",
      "-rw-rw-r-- 1 sam sam 290K Dec 13 16:38 Library_Geoduck_MG_3_S1_L002_R1_001_val_1_val_1_fastqc.zip\n",
      "-rw-rw-r-- 1 sam sam 238K Dec 13 16:38 Library_Geoduck_MG_3_S1_L002_R1_001_val_1_val_1_fastqc.html\n",
      "-rw-rw-r-- 1 sam sam 289K Dec 13 16:57 Library_Geoduck_MG_3_S1_L002_R2_001_val_2_val_2_fastqc.zip\n",
      "-rw-rw-r-- 1 sam sam 239K Dec 13 16:57 Library_Geoduck_MG_3_S1_L002_R2_001_val_2_val_2_fastqc.html\n",
      "-rw-rw-r-- 1 sam sam 292K Dec 13 19:16 Library_Geoduck_MG_5_S6_L002_R1_001_val_1_val_1_fastqc.zip\n",
      "-rw-rw-r-- 1 sam sam 241K Dec 13 19:16 Library_Geoduck_MG_5_S6_L002_R1_001_val_1_val_1_fastqc.html\n",
      "-rw-rw-r-- 1 sam sam 294K Dec 13 19:33 Library_Geoduck_MG_5_S6_L002_R2_001_val_2_val_2_fastqc.zip\n",
      "-rw-rw-r-- 1 sam sam 242K Dec 13 19:33 Library_Geoduck_MG_5_S6_L002_R2_001_val_2_val_2_fastqc.html\n",
      "-rw-rw-r-- 1 sam sam 291K Dec 13 21:56 Library_Geoduck_MG_6_S5_L002_R1_001_val_1_val_1_fastqc.zip\n",
      "-rw-rw-r-- 1 sam sam 240K Dec 13 21:56 Library_Geoduck_MG_6_S5_L002_R1_001_val_1_val_1_fastqc.html\n",
      "-rw-rw-r-- 1 sam sam 294K Dec 13 22:12 Library_Geoduck_MG_6_S5_L002_R2_001_val_2_val_2_fastqc.zip\n",
      "-rw-rw-r-- 1 sam sam 242K Dec 13 22:12 Library_Geoduck_MG_6_S5_L002_R2_001_val_2_val_2_fastqc.html\n",
      "-rw-rw-r-- 1 sam sam 290K Dec 14 01:01 Library_Geoduck_MG_7_S2_L002_R1_001_val_1_val_1_fastqc.zip\n",
      "-rw-rw-r-- 1 sam sam 239K Dec 14 01:01 Library_Geoduck_MG_7_S2_L002_R1_001_val_1_val_1_fastqc.html\n",
      "-rw-rw-r-- 1 sam sam 296K Dec 14 01:21 Library_Geoduck_MG_7_S2_L002_R2_001_val_2_val_2_fastqc.zip\n",
      "-rw-rw-r-- 1 sam sam 243K Dec 14 01:21 Library_Geoduck_MG_7_S2_L002_R2_001_val_2_val_2_fastqc.html\n",
      "-rw-rw-r-- 1 sam sam 1.2M Dec 14 01:22 multiqc_report.html\n",
      "drwxrwxr-x 2 sam sam 4.0K Dec 14 01:22 multiqc_data\n",
      "\n",
      "--------------------\n"
     ]
    },
    {
     "name": "stderr",
     "output_type": "stream",
     "text": [
      "\n",
      "real\t1033m27.302s\n",
      "user\t1884m3.520s\n",
      "sys\t34m41.632s\n",
      "[INFO   ]         multiqc : This is MultiQC v1.6.dev0\n",
      "[INFO   ]         multiqc : Template    : default\n",
      "[INFO   ]         multiqc : Searching '.'\n",
      "[INFO   ]          fastqc : Found 12 reports\n",
      "[INFO   ]         multiqc : Compressing plot data\n",
      "[INFO   ]         multiqc : Report      : multiqc_report.html\n",
      "[INFO   ]         multiqc : Data        : multiqc_data\n",
      "[INFO   ]         multiqc : MultiQC complete\n"
     ]
    }
   ],
   "source": [
    "%%bash\n",
    "trimmed_fastq_dir=\"/home/sam/analyses/20181211_metagenomics_fastqc_trimgalore/20181211_metagenomics_trimgalore_01\"\n",
    "trim_out_dir=\"/home/sam/analyses/20181211_metagenomics_fastqc_trimgalore/20181211_metagenomics_trimgalore_02\"\n",
    "fastqc_out_dir=\"/home/sam/analyses/20181211_metagenomics_fastqc_trimgalore/20181211_metagenomics_trimgalore_02/20181211_metagenomics_trimmed_fastqc\"\n",
    "\n",
    "cd ${trimmed_fastq_dir}\n",
    "\n",
    "# List all gzip files and then replace newline with space\n",
    "FASTQ_LIST=\"$(ls -1 *.gz| tr '\\n' ' ')\"\n",
    "\n",
    "# Run TrimGalore! with FastQC\n",
    "# Trim first 10bp from each read.\n",
    "time \\\n",
    "/home/shared/TrimGalore-0.4.5/trim_galore \\\n",
    "--paired \\\n",
    "--output_dir ${trim_out_dir} \\\n",
    "--clip_R1 10 \\\n",
    "--clip_R2 10 \\\n",
    "--fastqc_args \\\n",
    "\"--outdir ${fastqc_out_dir} \\\n",
    "--threads 16\" \\\n",
    "${FASTQ_LIST} \\\n",
    "> ${trim_out_dir}/20181211_trimgalore.stdout.log \\\n",
    "2> ${trim_out_dir}/20181211_trimgalore.stderr.log\n",
    "\n",
    "# Run MultiQC\n",
    "cd ${fastqc_out_dir}\n",
    "multiqc .\n",
    "\n",
    "sed '/^Subject:/ s/ / trimgalore JOB COMPLETE/' ~/.default-subject.mail | msmtp \"$EMAIL\"\n",
    "\n",
    "echo \"\"\n",
    "echo \"--------------------\"\n",
    "echo \"TAIL STDOUT\"\n",
    "echo \"--------------------\"\n",
    "tail ${trim_out_dir}/20181211_trimgalore.stdout.log\n",
    "\n",
    "echo \"\"\n",
    "echo \"--------------------\"\n",
    "echo \"TAIL STDERR\"\n",
    "echo \"--------------------\"\n",
    "tail ${trim_out_dir}/20181211_trimgalore.stderr.log\n",
    "echo \"--------------------\"\n",
    "echo \"\"\n",
    "\n",
    "echo \"--------------------\"\n",
    "echo \"\"\n",
    "echo \"TRIMGALORE LISTING\"\n",
    "cd ${trim_out_dir} && ls -lhtr ${trim_out_dir}\n",
    "echo \"\"\n",
    "echo \"--------------------\"\n",
    "\n",
    "echo \"\"\n",
    "\n",
    "echo \"--------------------\"\n",
    "echo \"\"\n",
    "echo \"TRIMMED FASTQC LISTING\"\n",
    "cd ${fastqc_out_dir} && ls -lhtr ${fastqc_out_dir}\n",
    "echo \"\"\n",
    "echo \"--------------------\""
   ]
  },
  {
   "cell_type": "markdown",
   "metadata": {},
   "source": [
    "### Transfer files to Gannet."
   ]
  },
  {
   "cell_type": "code",
   "execution_count": 10,
   "metadata": {
    "collapsed": false
   },
   "outputs": [
    {
     "name": "stderr",
     "output_type": "stream",
     "text": [
      "\n",
      "real\t24m7.851s\n",
      "user\t20m47.296s\n",
      "sys\t4m54.044s\n"
     ]
    }
   ],
   "source": [
    "%%bash\n",
    "cd /home/sam/analyses\n",
    "time \\\n",
    "rsync \\\n",
    "--archive \\\n",
    "--relative \\\n",
    "./20181211_metagenomics_fastqc_trimgalore \\\n",
    "gannet:/volume1/web/Atumefaciens\n",
    "\n",
    "sed '/^Subject:/ s/ / trimgalore file transfer JOB COMPLETE/' ~/.default-subject.mail | msmtp \"$EMAIL\""
   ]
  },
  {
   "cell_type": "code",
   "execution_count": 11,
   "metadata": {
    "collapsed": false
   },
   "outputs": [
    {
     "name": "stdout",
     "output_type": "stream",
     "text": [
      "Searching 24 files..\n"
     ]
    },
    {
     "name": "stderr",
     "output_type": "stream",
     "text": [
      "\n",
      "real\t951m10.990s\n",
      "user\t1767m39.528s\n",
      "sys\t32m45.888s\n",
      "[INFO   ]         multiqc : This is MultiQC v1.6.dev0\n",
      "[INFO   ]         multiqc : Template    : default\n",
      "[INFO   ]         multiqc : Searching '.'\n",
      "[INFO   ]          fastqc : Found 12 reports\n",
      "[INFO   ]         multiqc : Compressing plot data\n",
      "[INFO   ]         multiqc : Report      : multiqc_report.html\n",
      "[INFO   ]         multiqc : Data        : multiqc_data\n",
      "[INFO   ]         multiqc : MultiQC complete\n"
     ]
    }
   ],
   "source": [
    "%%bash\n",
    "mkdir /home/sam/analyses/20181211_metagenomics_fastqc_trimgalore/20181211_metagenomics_trimgalore_03\n",
    "mkdir /home/sam/analyses/20181211_metagenomics_fastqc_trimgalore/20181211_metagenomics_trimgalore_03/20181211_metagenomics_trimmed_fastqc\n",
    "trimmed_fastq_dir=\"/home/sam/analyses/20181211_metagenomics_fastqc_trimgalore/20181211_metagenomics_trimgalore_02\"\n",
    "trim_out_dir=\"/home/sam/analyses/20181211_metagenomics_fastqc_trimgalore/20181211_metagenomics_trimgalore_03\"\n",
    "fastqc_out_dir=\"/home/sam/analyses/20181211_metagenomics_fastqc_trimgalore/20181211_metagenomics_trimgalore_03/20181211_metagenomics_trimmed_fastqc\"\n",
    "\n",
    "cd ${trimmed_fastq_dir}\n",
    "\n",
    "# List all gzip files and then replace newline with space\n",
    "FASTQ_LIST=\"$(ls -1 *.gz| tr '\\n' ' ')\"\n",
    "\n",
    "# Run TrimGalore! with FastQC\n",
    "# Trim first 10bp from each read.\n",
    "time \\\n",
    "/home/shared/TrimGalore-0.4.5/trim_galore \\\n",
    "--paired \\\n",
    "--output_dir ${trim_out_dir} \\\n",
    "--clip_R1 10 \\\n",
    "--clip_R2 10 \\\n",
    "--fastqc_args \\\n",
    "\"--outdir ${fastqc_out_dir} \\\n",
    "--threads 16\" \\\n",
    "${FASTQ_LIST} \\\n",
    "> ${trim_out_dir}/20181211_trimgalore.stdout.log \\\n",
    "2> ${trim_out_dir}/20181211_trimgalore.stderr.log\n",
    "\n",
    "# Run MultiQC\n",
    "cd ${fastqc_out_dir}\n",
    "multiqc ."
   ]
  },
  {
   "cell_type": "code",
   "execution_count": 12,
   "metadata": {
    "collapsed": false
   },
   "outputs": [
    {
     "name": "stderr",
     "output_type": "stream",
     "text": [
      "\n",
      "real\t14m53.006s\n",
      "user\t9m40.336s\n",
      "sys\t2m6.248s\n"
     ]
    }
   ],
   "source": [
    "%%bash\n",
    "cd /home/sam/analyses\n",
    "time \\\n",
    "rsync \\\n",
    "--archive \\\n",
    "--relative \\\n",
    "./20181211_metagenomics_fastqc_trimgalore \\\n",
    "gannet:/volume1/web/Atumefaciens\n",
    "\n",
    "sed '/^Subject:/ s/ / trimgalore file transfer JOB COMPLETE/' ~/.default-subject.mail | msmtp \"$EMAIL\""
   ]
  },
  {
   "cell_type": "code",
   "execution_count": null,
   "metadata": {
    "collapsed": true
   },
   "outputs": [],
   "source": []
  }
 ],
 "metadata": {
  "kernelspec": {
   "display_name": "Python 2",
   "language": "python",
   "name": "python2"
  },
  "language_info": {
   "codemirror_mode": {
    "name": "ipython",
    "version": 2
   },
   "file_extension": ".py",
   "mimetype": "text/x-python",
   "name": "python",
   "nbconvert_exporter": "python",
   "pygments_lexer": "ipython2",
   "version": "2.7.12"
  }
 },
 "nbformat": 4,
 "nbformat_minor": 2
}
