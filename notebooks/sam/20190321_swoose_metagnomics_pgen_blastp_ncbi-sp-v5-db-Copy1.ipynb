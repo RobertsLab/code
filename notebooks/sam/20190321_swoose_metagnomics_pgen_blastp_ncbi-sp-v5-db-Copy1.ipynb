{
 "cells": [
  {
   "cell_type": "code",
   "execution_count": 1,
   "metadata": {},
   "outputs": [
    {
     "name": "stdout",
     "output_type": "stream",
     "text": [
      "TODAY'S DATE:\n",
      "Thu Mar 21 21:30:27 PDT 2019\n",
      "------------\n",
      "\n",
      "Distributor ID:\tUbuntu\n",
      "Description:\tUbuntu 16.04.6 LTS\n",
      "Release:\t16.04\n",
      "Codename:\txenial\n",
      "\n",
      "------------\n",
      "HOSTNAME: \n",
      "swoose\n",
      "\n",
      "------------\n",
      "Computer Specs:\n",
      "\n",
      "Architecture:          x86_64\n",
      "CPU op-mode(s):        32-bit, 64-bit\n",
      "Byte Order:            Little Endian\n",
      "CPU(s):                24\n",
      "On-line CPU(s) list:   0-23\n",
      "Thread(s) per core:    2\n",
      "Core(s) per socket:    6\n",
      "Socket(s):             2\n",
      "NUMA node(s):          1\n",
      "Vendor ID:             GenuineIntel\n",
      "CPU family:            6\n",
      "Model:                 44\n",
      "Model name:            Intel(R) Xeon(R) CPU           X5670  @ 2.93GHz\n",
      "Stepping:              2\n",
      "CPU MHz:               2925.819\n",
      "BogoMIPS:              5851.97\n",
      "Virtualization:        VT-x\n",
      "L1d cache:             32K\n",
      "L1i cache:             32K\n",
      "L2 cache:              256K\n",
      "L3 cache:              12288K\n",
      "NUMA node0 CPU(s):     0-23\n",
      "Flags:                 fpu vme de pse tsc msr pae mce cx8 apic sep mtrr pge mca cmov pat pse36 clflush dts acpi mmx fxsr sse sse2 ss ht tm pbe syscall nx pdpe1gb rdtscp lm constant_tsc arch_perfmon pebs bts rep_good nopl xtopology nonstop_tsc aperfmperf pni pclmulqdq dtes64 monitor ds_cpl vmx smx est tm2 ssse3 cx16 xtpr pdcm pcid dca sse4_1 sse4_2 popcnt aes lahf_lm epb kaiser tpr_shadow vnmi flexpriority ept vpid dtherm ida arat\n",
      "\n",
      "------------\n",
      "\n",
      "Memory Specs\n",
      "\n",
      "              total        used        free      shared  buff/cache   available\n",
      "Mem:            70G        6.6G         52G        1.4G         11G         62G\n",
      "Swap:          4.7G          0B        4.7G\n"
     ]
    },
    {
     "name": "stderr",
     "output_type": "stream",
     "text": [
      "No LSB modules are available.\n"
     ]
    }
   ],
   "source": [
    "%%bash\n",
    "echo \"TODAY'S DATE:\"\n",
    "date\n",
    "echo \"------------\"\n",
    "echo \"\"\n",
    "#Display operating system info\n",
    "lsb_release -a\n",
    "echo \"\"\n",
    "echo \"------------\"\n",
    "echo \"HOSTNAME: \"; hostname \n",
    "echo \"\"\n",
    "echo \"------------\"\n",
    "echo \"Computer Specs:\"\n",
    "echo \"\"\n",
    "lscpu\n",
    "echo \"\"\n",
    "echo \"------------\"\n",
    "echo \"\"\n",
    "echo \"Memory Specs\"\n",
    "echo \"\"\n",
    "free -mh"
   ]
  },
  {
   "cell_type": "markdown",
   "metadata": {},
   "source": [
    "#### Set variables"
   ]
  },
  {
   "cell_type": "code",
   "execution_count": 2,
   "metadata": {},
   "outputs": [
    {
     "name": "stdout",
     "output_type": "stream",
     "text": [
      "env: download_dir=/home/sam/data/metagenomics/P_generosa\n",
      "env: blastdb_dir=/home/sam/data/blast_dbs\n",
      "env: blastdb=swissprot_v5\n",
      "env: blastdb_url=https://ftp.ncbi.nlm.nih.gov/blast/db/v5/swissprot_v5.tar.gz\n",
      "env: fasta_url=http://gannet.fish.washington.edu/Atumefaciens/20190103_metagenomics_geo_metagenemark/20190103-mgm-proteins.fa\n",
      "env: blastp_out_dir=/home/sam/analyses/20190321_metagenomics_pgen_blastp\n",
      "env: input_fasta=/home/sam/data/metagenomics/P_generosa/20190103-mgm-proteins.fa\n",
      "env: blastp_out=blastp.outfmt6\n",
      "env: blastp=/home/sam/programs/ncbi-blast-2.8.1+/bin/blastp\n",
      "env: threads=23\n"
     ]
    }
   ],
   "source": [
    "%env download_dir=/home/sam/data/metagenomics/P_generosa\n",
    "%env blastdb_dir=/home/sam/data/blast_dbs\n",
    "%env blastdb=swissprot_v5\n",
    "%env blastdb_url=https://ftp.ncbi.nlm.nih.gov/blast/db/v5/swissprot_v5.tar.gz\n",
    "%env fasta_url=http://gannet.fish.washington.edu/Atumefaciens/20190103_metagenomics_geo_metagenemark/20190103-mgm-proteins.fa\n",
    "%env blastp_out_dir=/home/sam/analyses/20190321_metagenomics_pgen_blastp\n",
    "%env input_fasta=/home/sam/data/metagenomics/P_generosa/20190103-mgm-proteins.fa\n",
    "%env blastp_out=blastp.outfmt6\n",
    "%env blastp=/home/sam/programs/ncbi-blast-2.8.1+/bin/blastp\n",
    "%env threads=23"
   ]
  },
  {
   "cell_type": "markdown",
   "metadata": {},
   "source": [
    "#### Make directories\n",
    "\n",
    "```--parents``` option allows creation of multiple, nested directories"
   ]
  },
  {
   "cell_type": "code",
   "execution_count": 3,
   "metadata": {},
   "outputs": [
    {
     "name": "stdout",
     "output_type": "stream",
     "text": [
      "total 0\n",
      "-rw-rw-r-- 1 sam sam 0 Mar 21 18:59 blastp.outfmt6\n",
      "total 0\n"
     ]
    }
   ],
   "source": [
    "%%bash\n",
    "mkdir --parents ${blastp_out_dir}\n",
    "mkdir --parents ${blastdb_dir}\n",
    "ls -l ${blastp_out_dir}\n",
    "ls -l ${blastdb_dir}"
   ]
  },
  {
   "cell_type": "markdown",
   "metadata": {},
   "source": [
    "#### Transfer metagenomics FastA"
   ]
  },
  {
   "cell_type": "code",
   "execution_count": 4,
   "metadata": {},
   "outputs": [
    {
     "name": "stdout",
     "output_type": "stream",
     "text": [
      "receiving incremental file list\n",
      "\n",
      "sent 11 bytes  received 69 bytes  160.00 bytes/sec\n",
      "total size is 762,710,574  speedup is 9,533,882.18\n",
      "-------------------------\n",
      "total 4.5G\n",
      "-rw-r--r-- 1 sam users 1.6G Jan  3 14:51 20190103-mgm-nucleotides.fa\n",
      "-rw-r--r-- 1 sam users 728M Jan  3 14:51 20190103-mgm-proteins.fa\n",
      "-rw-r--r-- 1 sam users 2.2G Jan  3 06:08 final.contigs.fa\n"
     ]
    }
   ],
   "source": [
    "%%bash\n",
    "rsync \\\n",
    "--archive \\\n",
    "--verbose \\\n",
    "--progress \\\n",
    "gannet:/volume2/web/Atumefaciens/20190103_metagenomics_geo_metagenemark/20190103-mgm-proteins.fa \\\n",
    "${download_dir}\n",
    "    \n",
    "#Uncomment below to download via web URL\n",
    "# Will need to set desired path with --directory-prefix\n",
    "#wget \\\n",
    "#--directory-prefix=${download_dir} \\\n",
    "#--quiet \\\n",
    "#${fasta_url}\n",
    "\n",
    "echo \"-------------------------\"\n",
    "ls -lh ${download_dir}"
   ]
  },
  {
   "cell_type": "markdown",
   "metadata": {},
   "source": [
    "#### Run BLASTp"
   ]
  },
  {
   "cell_type": "code",
   "execution_count": 5,
   "metadata": {},
   "outputs": [
    {
     "name": "stdout",
     "output_type": "stream",
     "text": [
      "swissprot_v5.pin\n",
      "swissprot_v5.phr\n",
      "swissprot_v5.psq\n",
      "swissprot_v5.ppi\n",
      "swissprot_v5.ppd\n",
      "swissprot_v5.pog\n",
      "swissprot_v5.pdb\n",
      "swissprot_v5.pdb\n",
      "swissprot_v5.pos\n",
      "swissprot_v5.pot\n",
      "swissprot_v5.ptf\n",
      "swissprot_v5.pto\n",
      "taxdb.btd\n",
      "taxdb.bti\n",
      "-----------------------------\n",
      "total 646M\n",
      "-rw-r--r-- 1 sam sam  23M Feb  7 17:16 swissprot_v5.pdb\n",
      "-rw-r--r-- 1 sam sam 114M Feb  7 17:16 swissprot_v5.phr\n",
      "-rw-r--r-- 1 sam sam 3.6M Feb  7 17:16 swissprot_v5.pin\n",
      "-rw-r--r-- 1 sam sam 1.8M Feb  7 17:16 swissprot_v5.pog\n",
      "-rw-r--r-- 1 sam sam 8.4M Feb  7 17:16 swissprot_v5.pos\n",
      "-rw-r--r-- 1 sam sam 5.8M Feb  7 17:16 swissprot_v5.pot\n",
      "-rw-r--r-- 1 sam sam 3.6M Feb  7 17:16 swissprot_v5.ppd\n",
      "-rw-r--r-- 1 sam sam  15K Feb  7 17:16 swissprot_v5.ppi\n",
      "-rw-r--r-- 1 sam sam 170M Feb  7 17:16 swissprot_v5.psq\n",
      "-rw-r--r-- 1 sam sam 436K Feb  7 17:16 swissprot_v5.ptf\n",
      "-rw-r--r-- 1 sam sam 2.2M Feb  7 17:16 swissprot_v5.pto\n",
      "-rw-rw-r-- 1 sam sam 172M Feb 19 08:58 swissprot_v5.tar.gz\n",
      "-rw-rw-r-- 1 sam sam 129M Feb 19 08:58 taxdb.btd\n",
      "-rw-rw-r-- 1 sam sam  14M Feb 19 08:58 taxdb.bti\n"
     ]
    }
   ],
   "source": [
    "%%bash\n",
    "wget \\\n",
    "--directory-prefix ${blastdb_dir} \\\n",
    "--quiet \\\n",
    "${blastdb_url}\n",
    "\n",
    "tar -C ${blastdb_dir} -xzvf ${blastdb_dir}/${blastdb}.tar.gz\n",
    "\n",
    "echo \"-----------------------------\"\n",
    "ls -lh ${blastdb_dir}"
   ]
  },
  {
   "cell_type": "code",
   "execution_count": 8,
   "metadata": {},
   "outputs": [
    {
     "name": "stderr",
     "output_type": "stream",
     "text": [
      "\n",
      "real\t3877m13.548s\n",
      "user\t85954m17.252s\n",
      "sys\t300m8.416s\n"
     ]
    }
   ],
   "source": [
    "%%bash\n",
    "\n",
    "cd ${blastdb_dir}\n",
    "\n",
    "export BLASTDB=${blastdb_dir}\n",
    "\n",
    "time \\\n",
    "${blastp} \\\n",
    "-query ${input_fasta} \\\n",
    "-db ${blastdb} \\\n",
    "-evalue 1E-04 \\\n",
    "-outfmt \"6 std staxids\" \\\n",
    "-max_target_seqs 1 \\\n",
    "-num_threads ${threads} \\\n",
    "-out ${blastp_out_dir}/${blastp_out} \\\n",
    "1> stdout.txt \\\n",
    "2> stderr.txt"
   ]
  },
  {
   "cell_type": "code",
   "execution_count": null,
   "metadata": {},
   "outputs": [],
   "source": []
  }
 ],
 "metadata": {
  "kernelspec": {
   "display_name": "Python 3",
   "language": "python",
   "name": "python3"
  },
  "language_info": {
   "codemirror_mode": {
    "name": "ipython",
    "version": 3
   },
   "file_extension": ".py",
   "mimetype": "text/x-python",
   "name": "python",
   "nbconvert_exporter": "python",
   "pygments_lexer": "ipython3",
   "version": "3.7.2"
  }
 },
 "nbformat": 4,
 "nbformat_minor": 2
}
