{
 "cells": [
  {
   "cell_type": "code",
   "execution_count": 1,
   "metadata": {},
   "outputs": [
    {
     "name": "stdout",
     "output_type": "stream",
     "text": [
      "TODAY'S DATE:\n",
      "Thu Mar 21 21:30:27 PDT 2019\n",
      "------------\n",
      "\n",
      "Distributor ID:\tUbuntu\n",
      "Description:\tUbuntu 16.04.6 LTS\n",
      "Release:\t16.04\n",
      "Codename:\txenial\n",
      "\n",
      "------------\n",
      "HOSTNAME: \n",
      "swoose\n",
      "\n",
      "------------\n",
      "Computer Specs:\n",
      "\n",
      "Architecture:          x86_64\n",
      "CPU op-mode(s):        32-bit, 64-bit\n",
      "Byte Order:            Little Endian\n",
      "CPU(s):                24\n",
      "On-line CPU(s) list:   0-23\n",
      "Thread(s) per core:    2\n",
      "Core(s) per socket:    6\n",
      "Socket(s):             2\n",
      "NUMA node(s):          1\n",
      "Vendor ID:             GenuineIntel\n",
      "CPU family:            6\n",
      "Model:                 44\n",
      "Model name:            Intel(R) Xeon(R) CPU           X5670  @ 2.93GHz\n",
      "Stepping:              2\n",
      "CPU MHz:               2925.819\n",
      "BogoMIPS:              5851.97\n",
      "Virtualization:        VT-x\n",
      "L1d cache:             32K\n",
      "L1i cache:             32K\n",
      "L2 cache:              256K\n",
      "L3 cache:              12288K\n",
      "NUMA node0 CPU(s):     0-23\n",
      "Flags:                 fpu vme de pse tsc msr pae mce cx8 apic sep mtrr pge mca cmov pat pse36 clflush dts acpi mmx fxsr sse sse2 ss ht tm pbe syscall nx pdpe1gb rdtscp lm constant_tsc arch_perfmon pebs bts rep_good nopl xtopology nonstop_tsc aperfmperf pni pclmulqdq dtes64 monitor ds_cpl vmx smx est tm2 ssse3 cx16 xtpr pdcm pcid dca sse4_1 sse4_2 popcnt aes lahf_lm epb kaiser tpr_shadow vnmi flexpriority ept vpid dtherm ida arat\n",
      "\n",
      "------------\n",
      "\n",
      "Memory Specs\n",
      "\n",
      "              total        used        free      shared  buff/cache   available\n",
      "Mem:            70G        6.6G         52G        1.4G         11G         62G\n",
      "Swap:          4.7G          0B        4.7G\n"
     ]
    },
    {
     "name": "stderr",
     "output_type": "stream",
     "text": [
      "No LSB modules are available.\n"
     ]
    }
   ],
   "source": [
    "%%bash\n",
    "echo \"TODAY'S DATE:\"\n",
    "date\n",
    "echo \"------------\"\n",
    "echo \"\"\n",
    "#Display operating system info\n",
    "lsb_release -a\n",
    "echo \"\"\n",
    "echo \"------------\"\n",
    "echo \"HOSTNAME: \"; hostname \n",
    "echo \"\"\n",
    "echo \"------------\"\n",
    "echo \"Computer Specs:\"\n",
    "echo \"\"\n",
    "lscpu\n",
    "echo \"\"\n",
    "echo \"------------\"\n",
    "echo \"\"\n",
    "echo \"Memory Specs\"\n",
    "echo \"\"\n",
    "free -mh"
   ]
  },
  {
   "cell_type": "markdown",
   "metadata": {},
   "source": [
    "#### Set variables"
   ]
  },
  {
   "cell_type": "code",
   "execution_count": 2,
   "metadata": {},
   "outputs": [
    {
     "name": "stdout",
     "output_type": "stream",
     "text": [
      "env: download_dir=/home/sam/data/metagenomics/P_generosa\n",
      "env: blastdb_dir=/home/sam/data/blast_dbs\n",
      "env: blastdb=swissprot_v5\n",
      "env: blastdb_url=https://ftp.ncbi.nlm.nih.gov/blast/db/v5/swissprot_v5.tar.gz\n",
      "env: fasta_url=http://gannet.fish.washington.edu/Atumefaciens/20190103_metagenomics_geo_metagenemark/20190103-mgm-proteins.fa\n",
      "env: blastp_out_dir=/home/sam/analyses/20190321_metagenomics_pgen_blastp\n",
      "env: input_fasta=/home/sam/data/metagenomics/P_generosa/20190103-mgm-proteins.fa\n",
      "env: blastp_out=blastp.outfmt6\n",
      "env: blastp=/home/sam/programs/ncbi-blast-2.8.1+/bin/blastp\n",
      "env: threads=23\n"
     ]
    }
   ],
   "source": [
    "%env download_dir=/home/sam/data/metagenomics/P_generosa\n",
    "%env blastdb_dir=/home/sam/data/blast_dbs\n",
    "%env blastdb=swissprot_v5\n",
    "%env blastdb_url=https://ftp.ncbi.nlm.nih.gov/blast/db/v5/swissprot_v5.tar.gz\n",
    "%env fasta_url=http://gannet.fish.washington.edu/Atumefaciens/20190103_metagenomics_geo_metagenemark/20190103-mgm-proteins.fa\n",
    "%env blastp_out_dir=/home/sam/analyses/20190321_metagenomics_pgen_blastp\n",
    "%env input_fasta=/home/sam/data/metagenomics/P_generosa/20190103-mgm-proteins.fa\n",
    "%env blastp_out=blastp.outfmt6\n",
    "%env blastp=/home/sam/programs/ncbi-blast-2.8.1+/bin/blastp\n",
    "%env threads=23"
   ]
  },
  {
   "cell_type": "markdown",
   "metadata": {},
   "source": [
    "#### Make directories\n",
    "\n",
    "```--parents``` option allows creation of multiple, nested directories"
   ]
  },
  {
   "cell_type": "code",
   "execution_count": 3,
   "metadata": {},
   "outputs": [
    {
     "name": "stdout",
     "output_type": "stream",
     "text": [
      "total 0\n",
      "-rw-rw-r-- 1 sam sam 0 Mar 21 18:59 blastp.outfmt6\n",
      "total 0\n"
     ]
    }
   ],
   "source": [
    "%%bash\n",
    "mkdir --parents ${blastp_out_dir}\n",
    "mkdir --parents ${blastdb_dir}\n",
    "ls -l ${blastp_out_dir}\n",
    "ls -l ${blastdb_dir}"
   ]
  },
  {
   "cell_type": "markdown",
   "metadata": {},
   "source": [
    "#### Transfer metagenomics FastA"
   ]
  },
  {
   "cell_type": "code",
   "execution_count": 4,
   "metadata": {},
   "outputs": [
    {
     "name": "stdout",
     "output_type": "stream",
     "text": [
      "receiving incremental file list\n",
      "\n",
      "sent 11 bytes  received 69 bytes  160.00 bytes/sec\n",
      "total size is 762,710,574  speedup is 9,533,882.18\n",
      "-------------------------\n",
      "total 4.5G\n",
      "-rw-r--r-- 1 sam users 1.6G Jan  3 14:51 20190103-mgm-nucleotides.fa\n",
      "-rw-r--r-- 1 sam users 728M Jan  3 14:51 20190103-mgm-proteins.fa\n",
      "-rw-r--r-- 1 sam users 2.2G Jan  3 06:08 final.contigs.fa\n"
     ]
    }
   ],
   "source": [
    "%%bash\n",
    "rsync \\\n",
    "--archive \\\n",
    "--verbose \\\n",
    "--progress \\\n",
    "gannet:/volume2/web/Atumefaciens/20190103_metagenomics_geo_metagenemark/20190103-mgm-proteins.fa \\\n",
    "${download_dir}\n",
    "    \n",
    "#Uncomment below to download via web URL\n",
    "# Will need to set desired path with --directory-prefix\n",
    "#wget \\\n",
    "#--directory-prefix=${download_dir} \\\n",
    "#--quiet \\\n",
    "#${fasta_url}\n",
    "\n",
    "echo \"-------------------------\"\n",
    "ls -lh ${download_dir}"
   ]
  },
  {
   "cell_type": "markdown",
   "metadata": {},
   "source": [
    "#### Run BLASTp"
   ]
  },
  {
   "cell_type": "code",
   "execution_count": 5,
   "metadata": {},
   "outputs": [
    {
     "name": "stdout",
     "output_type": "stream",
     "text": [
      "swissprot_v5.pin\n",
      "swissprot_v5.phr\n",
      "swissprot_v5.psq\n",
      "swissprot_v5.ppi\n",
      "swissprot_v5.ppd\n",
      "swissprot_v5.pog\n",
      "swissprot_v5.pdb\n",
      "swissprot_v5.pdb\n",
      "swissprot_v5.pos\n",
      "swissprot_v5.pot\n",
      "swissprot_v5.ptf\n",
      "swissprot_v5.pto\n",
      "taxdb.btd\n",
      "taxdb.bti\n",
      "-----------------------------\n",
      "total 646M\n",
      "-rw-r--r-- 1 sam sam  23M Feb  7 17:16 swissprot_v5.pdb\n",
      "-rw-r--r-- 1 sam sam 114M Feb  7 17:16 swissprot_v5.phr\n",
      "-rw-r--r-- 1 sam sam 3.6M Feb  7 17:16 swissprot_v5.pin\n",
      "-rw-r--r-- 1 sam sam 1.8M Feb  7 17:16 swissprot_v5.pog\n",
      "-rw-r--r-- 1 sam sam 8.4M Feb  7 17:16 swissprot_v5.pos\n",
      "-rw-r--r-- 1 sam sam 5.8M Feb  7 17:16 swissprot_v5.pot\n",
      "-rw-r--r-- 1 sam sam 3.6M Feb  7 17:16 swissprot_v5.ppd\n",
      "-rw-r--r-- 1 sam sam  15K Feb  7 17:16 swissprot_v5.ppi\n",
      "-rw-r--r-- 1 sam sam 170M Feb  7 17:16 swissprot_v5.psq\n",
      "-rw-r--r-- 1 sam sam 436K Feb  7 17:16 swissprot_v5.ptf\n",
      "-rw-r--r-- 1 sam sam 2.2M Feb  7 17:16 swissprot_v5.pto\n",
      "-rw-rw-r-- 1 sam sam 172M Feb 19 08:58 swissprot_v5.tar.gz\n",
      "-rw-rw-r-- 1 sam sam 129M Feb 19 08:58 taxdb.btd\n",
      "-rw-rw-r-- 1 sam sam  14M Feb 19 08:58 taxdb.bti\n"
     ]
    }
   ],
   "source": [
    "%%bash\n",
    "wget \\\n",
    "--directory-prefix ${blastdb_dir} \\\n",
    "--quiet \\\n",
    "${blastdb_url}\n",
    "\n",
    "tar -C ${blastdb_dir} -xzvf ${blastdb_dir}/${blastdb}.tar.gz\n",
    "\n",
    "echo \"-----------------------------\"\n",
    "ls -lh ${blastdb_dir}"
   ]
  },
  {
   "cell_type": "code",
   "execution_count": 8,
   "metadata": {},
   "outputs": [
    {
     "name": "stderr",
     "output_type": "stream",
     "text": [
      "\n",
      "real\t3877m13.548s\n",
      "user\t85954m17.252s\n",
      "sys\t300m8.416s\n"
     ]
    }
   ],
   "source": [
    "%%bash\n",
    "\n",
    "cd ${blastdb_dir}\n",
    "\n",
    "export BLASTDB=${blastdb_dir}\n",
    "\n",
    "time \\\n",
    "${blastp} \\\n",
    "-query ${input_fasta} \\\n",
    "-db ${blastdb} \\\n",
    "-evalue 1E-04 \\\n",
    "-outfmt \"6 std staxids\" \\\n",
    "-max_target_seqs 1 \\\n",
    "-num_threads ${threads} \\\n",
    "-out ${blastp_out_dir}/${blastp_out} \\\n",
    "1> stdout.txt \\\n",
    "2> stderr.txt"
   ]
  },
  {
   "cell_type": "code",
   "execution_count": 9,
   "metadata": {},
   "outputs": [
    {
     "name": "stdout",
     "output_type": "stream",
     "text": [
      "1346325 /home/sam/analyses/20190321_metagenomics_pgen_blastp/blastp.outfmt6\n",
      "---------------------------------\n"
     ]
    },
    {
     "name": "stderr",
     "output_type": "stream",
     "text": [
      "head: invalid option -- 'l'\n",
      "Try 'head --help' for more information.\n"
     ]
    },
    {
     "ename": "CalledProcessError",
     "evalue": "Command 'b'wc -l ${blastp_out_dir}/${blastp_out}\\n\\necho \"---------------------------------\"\\n\\nhead -n 1 wc -l ${blastp_out_dir}/${blastp_out}\\n'' returned non-zero exit status 1.",
     "output_type": "error",
     "traceback": [
      "\u001b[0;31m---------------------------------------------------------------------------\u001b[0m",
      "\u001b[0;31mCalledProcessError\u001b[0m                        Traceback (most recent call last)",
      "\u001b[0;32m<ipython-input-9-eb7e705736a5>\u001b[0m in \u001b[0;36m<module>\u001b[0;34m\u001b[0m\n\u001b[0;32m----> 1\u001b[0;31m \u001b[0mget_ipython\u001b[0m\u001b[0;34m(\u001b[0m\u001b[0;34m)\u001b[0m\u001b[0;34m.\u001b[0m\u001b[0mrun_cell_magic\u001b[0m\u001b[0;34m(\u001b[0m\u001b[0;34m'bash'\u001b[0m\u001b[0;34m,\u001b[0m \u001b[0;34m''\u001b[0m\u001b[0;34m,\u001b[0m \u001b[0;34m'wc -l ${blastp_out_dir}/${blastp_out}\\n\\necho \"---------------------------------\"\\n\\nhead -n 1 wc -l ${blastp_out_dir}/${blastp_out}\\n'\u001b[0m\u001b[0;34m)\u001b[0m\u001b[0;34m\u001b[0m\u001b[0;34m\u001b[0m\u001b[0m\n\u001b[0m",
      "\u001b[0;32m~/programs/minicocnda3/lib/python3.7/site-packages/IPython/core/interactiveshell.py\u001b[0m in \u001b[0;36mrun_cell_magic\u001b[0;34m(self, magic_name, line, cell)\u001b[0m\n\u001b[1;32m   2321\u001b[0m             \u001b[0mmagic_arg_s\u001b[0m \u001b[0;34m=\u001b[0m \u001b[0mself\u001b[0m\u001b[0;34m.\u001b[0m\u001b[0mvar_expand\u001b[0m\u001b[0;34m(\u001b[0m\u001b[0mline\u001b[0m\u001b[0;34m,\u001b[0m \u001b[0mstack_depth\u001b[0m\u001b[0;34m)\u001b[0m\u001b[0;34m\u001b[0m\u001b[0;34m\u001b[0m\u001b[0m\n\u001b[1;32m   2322\u001b[0m             \u001b[0;32mwith\u001b[0m \u001b[0mself\u001b[0m\u001b[0;34m.\u001b[0m\u001b[0mbuiltin_trap\u001b[0m\u001b[0;34m:\u001b[0m\u001b[0;34m\u001b[0m\u001b[0;34m\u001b[0m\u001b[0m\n\u001b[0;32m-> 2323\u001b[0;31m                 \u001b[0mresult\u001b[0m \u001b[0;34m=\u001b[0m \u001b[0mfn\u001b[0m\u001b[0;34m(\u001b[0m\u001b[0mmagic_arg_s\u001b[0m\u001b[0;34m,\u001b[0m \u001b[0mcell\u001b[0m\u001b[0;34m)\u001b[0m\u001b[0;34m\u001b[0m\u001b[0;34m\u001b[0m\u001b[0m\n\u001b[0m\u001b[1;32m   2324\u001b[0m             \u001b[0;32mreturn\u001b[0m \u001b[0mresult\u001b[0m\u001b[0;34m\u001b[0m\u001b[0;34m\u001b[0m\u001b[0m\n\u001b[1;32m   2325\u001b[0m \u001b[0;34m\u001b[0m\u001b[0m\n",
      "\u001b[0;32m~/programs/minicocnda3/lib/python3.7/site-packages/IPython/core/magics/script.py\u001b[0m in \u001b[0;36mnamed_script_magic\u001b[0;34m(line, cell)\u001b[0m\n\u001b[1;32m    140\u001b[0m             \u001b[0;32melse\u001b[0m\u001b[0;34m:\u001b[0m\u001b[0;34m\u001b[0m\u001b[0;34m\u001b[0m\u001b[0m\n\u001b[1;32m    141\u001b[0m                 \u001b[0mline\u001b[0m \u001b[0;34m=\u001b[0m \u001b[0mscript\u001b[0m\u001b[0;34m\u001b[0m\u001b[0;34m\u001b[0m\u001b[0m\n\u001b[0;32m--> 142\u001b[0;31m             \u001b[0;32mreturn\u001b[0m \u001b[0mself\u001b[0m\u001b[0;34m.\u001b[0m\u001b[0mshebang\u001b[0m\u001b[0;34m(\u001b[0m\u001b[0mline\u001b[0m\u001b[0;34m,\u001b[0m \u001b[0mcell\u001b[0m\u001b[0;34m)\u001b[0m\u001b[0;34m\u001b[0m\u001b[0;34m\u001b[0m\u001b[0m\n\u001b[0m\u001b[1;32m    143\u001b[0m \u001b[0;34m\u001b[0m\u001b[0m\n\u001b[1;32m    144\u001b[0m         \u001b[0;31m# write a basic docstring:\u001b[0m\u001b[0;34m\u001b[0m\u001b[0;34m\u001b[0m\u001b[0;34m\u001b[0m\u001b[0m\n",
      "\u001b[0;32m<decorator-gen-109>\u001b[0m in \u001b[0;36mshebang\u001b[0;34m(self, line, cell)\u001b[0m\n",
      "\u001b[0;32m~/programs/minicocnda3/lib/python3.7/site-packages/IPython/core/magic.py\u001b[0m in \u001b[0;36m<lambda>\u001b[0;34m(f, *a, **k)\u001b[0m\n\u001b[1;32m    185\u001b[0m     \u001b[0;31m# but it's overkill for just that one bit of state.\u001b[0m\u001b[0;34m\u001b[0m\u001b[0;34m\u001b[0m\u001b[0;34m\u001b[0m\u001b[0m\n\u001b[1;32m    186\u001b[0m     \u001b[0;32mdef\u001b[0m \u001b[0mmagic_deco\u001b[0m\u001b[0;34m(\u001b[0m\u001b[0marg\u001b[0m\u001b[0;34m)\u001b[0m\u001b[0;34m:\u001b[0m\u001b[0;34m\u001b[0m\u001b[0;34m\u001b[0m\u001b[0m\n\u001b[0;32m--> 187\u001b[0;31m         \u001b[0mcall\u001b[0m \u001b[0;34m=\u001b[0m \u001b[0;32mlambda\u001b[0m \u001b[0mf\u001b[0m\u001b[0;34m,\u001b[0m \u001b[0;34m*\u001b[0m\u001b[0ma\u001b[0m\u001b[0;34m,\u001b[0m \u001b[0;34m**\u001b[0m\u001b[0mk\u001b[0m\u001b[0;34m:\u001b[0m \u001b[0mf\u001b[0m\u001b[0;34m(\u001b[0m\u001b[0;34m*\u001b[0m\u001b[0ma\u001b[0m\u001b[0;34m,\u001b[0m \u001b[0;34m**\u001b[0m\u001b[0mk\u001b[0m\u001b[0;34m)\u001b[0m\u001b[0;34m\u001b[0m\u001b[0;34m\u001b[0m\u001b[0m\n\u001b[0m\u001b[1;32m    188\u001b[0m \u001b[0;34m\u001b[0m\u001b[0m\n\u001b[1;32m    189\u001b[0m         \u001b[0;32mif\u001b[0m \u001b[0mcallable\u001b[0m\u001b[0;34m(\u001b[0m\u001b[0marg\u001b[0m\u001b[0;34m)\u001b[0m\u001b[0;34m:\u001b[0m\u001b[0;34m\u001b[0m\u001b[0;34m\u001b[0m\u001b[0m\n",
      "\u001b[0;32m~/programs/minicocnda3/lib/python3.7/site-packages/IPython/core/magics/script.py\u001b[0m in \u001b[0;36mshebang\u001b[0;34m(self, line, cell)\u001b[0m\n\u001b[1;32m    243\u001b[0m             \u001b[0msys\u001b[0m\u001b[0;34m.\u001b[0m\u001b[0mstderr\u001b[0m\u001b[0;34m.\u001b[0m\u001b[0mflush\u001b[0m\u001b[0;34m(\u001b[0m\u001b[0;34m)\u001b[0m\u001b[0;34m\u001b[0m\u001b[0;34m\u001b[0m\u001b[0m\n\u001b[1;32m    244\u001b[0m         \u001b[0;32mif\u001b[0m \u001b[0margs\u001b[0m\u001b[0;34m.\u001b[0m\u001b[0mraise_error\u001b[0m \u001b[0;32mand\u001b[0m \u001b[0mp\u001b[0m\u001b[0;34m.\u001b[0m\u001b[0mreturncode\u001b[0m\u001b[0;34m!=\u001b[0m\u001b[0;36m0\u001b[0m\u001b[0;34m:\u001b[0m\u001b[0;34m\u001b[0m\u001b[0;34m\u001b[0m\u001b[0m\n\u001b[0;32m--> 245\u001b[0;31m             \u001b[0;32mraise\u001b[0m \u001b[0mCalledProcessError\u001b[0m\u001b[0;34m(\u001b[0m\u001b[0mp\u001b[0m\u001b[0;34m.\u001b[0m\u001b[0mreturncode\u001b[0m\u001b[0;34m,\u001b[0m \u001b[0mcell\u001b[0m\u001b[0;34m,\u001b[0m \u001b[0moutput\u001b[0m\u001b[0;34m=\u001b[0m\u001b[0mout\u001b[0m\u001b[0;34m,\u001b[0m \u001b[0mstderr\u001b[0m\u001b[0;34m=\u001b[0m\u001b[0merr\u001b[0m\u001b[0;34m)\u001b[0m\u001b[0;34m\u001b[0m\u001b[0;34m\u001b[0m\u001b[0m\n\u001b[0m\u001b[1;32m    246\u001b[0m \u001b[0;34m\u001b[0m\u001b[0m\n\u001b[1;32m    247\u001b[0m     \u001b[0;32mdef\u001b[0m \u001b[0m_run_script\u001b[0m\u001b[0;34m(\u001b[0m\u001b[0mself\u001b[0m\u001b[0;34m,\u001b[0m \u001b[0mp\u001b[0m\u001b[0;34m,\u001b[0m \u001b[0mcell\u001b[0m\u001b[0;34m,\u001b[0m \u001b[0mto_close\u001b[0m\u001b[0;34m)\u001b[0m\u001b[0;34m:\u001b[0m\u001b[0;34m\u001b[0m\u001b[0;34m\u001b[0m\u001b[0m\n",
      "\u001b[0;31mCalledProcessError\u001b[0m: Command 'b'wc -l ${blastp_out_dir}/${blastp_out}\\n\\necho \"---------------------------------\"\\n\\nhead -n 1 wc -l ${blastp_out_dir}/${blastp_out}\\n'' returned non-zero exit status 1."
     ]
    }
   ],
   "source": [
    "%%bash\n",
    "wc -l ${blastp_out_dir}/${blastp_out}\n",
    "\n",
    "echo \"---------------------------------\"\n",
    "\n",
    "head -n 1 wc -l ${blastp_out_dir}/${blastp_out}"
   ]
  },
  {
   "cell_type": "code",
   "execution_count": 10,
   "metadata": {},
   "outputs": [
    {
     "name": "stdout",
     "output_type": "stream",
     "text": [
      "gene_1|GeneMark.hmm|105_aa|-|2|316\tQ9I5W0.1\t72.381\t105\t29\t0\t1\t105\t206\t310\t1.50e-48\t166\t208964\n"
     ]
    }
   ],
   "source": [
    "%%bash\n",
    "\n",
    "head -n 1 ${blastp_out_dir}/${blastp_out}"
   ]
  },
  {
   "cell_type": "code",
   "execution_count": 12,
   "metadata": {},
   "outputs": [
    {
     "name": "stdout",
     "output_type": "stream",
     "text": [
      "sending incremental file list\n",
      "20190321_metagenomics_pgen_blastp/\n",
      "20190321_metagenomics_pgen_blastp/blastp.outfmt6\n",
      "\r",
      "         32,768   0%    0.00kB/s    0:00:00  \r",
      "    114,524,160  84%  109.19MB/s    0:00:00  \r",
      "    136,128,791 100%  109.07MB/s    0:00:01 (xfr#1, to-chk=0/3)\n",
      "\n",
      "sent 136,162,198 bytes  received 38 bytes  54,464,894.40 bytes/sec\n",
      "total size is 136,128,791  speedup is 1.00\n"
     ]
    }
   ],
   "source": [
    "%%bash\n",
    "cd /home/sam/analyses/\n",
    "\n",
    "rsync -av --relative --progress ./20190321_metagenomics_pgen_blastp gannet:/volume2/web/Atumefaciens"
   ]
  },
  {
   "cell_type": "code",
   "execution_count": null,
   "metadata": {},
   "outputs": [],
   "source": []
  }
 ],
 "metadata": {
  "kernelspec": {
   "display_name": "Python 3",
   "language": "python",
   "name": "python3"
  },
  "language_info": {
   "codemirror_mode": {
    "name": "ipython",
    "version": 3
   },
   "file_extension": ".py",
   "mimetype": "text/x-python",
   "name": "python",
   "nbconvert_exporter": "python",
   "pygments_lexer": "ipython3",
   "version": "3.7.2"
  }
 },
 "nbformat": 4,
 "nbformat_minor": 2
}
