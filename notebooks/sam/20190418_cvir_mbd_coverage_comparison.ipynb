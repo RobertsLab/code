{
 "cells": [
  {
   "cell_type": "markdown",
   "metadata": {},
   "source": [
    "### Comparing various Bismark subsetting options and how they relate to _C.virginica_ genome-wide MBD CpG coverage"
   ]
  },
  {
   "cell_type": "markdown",
   "metadata": {},
   "source": [
    "##### Variables to be set by user\n",
    "\n",
    "Re: two \"work_dir\" variables -\n",
    "Both are needed, as one is needed by Bash and the other by Python (respectively)"
   ]
  },
  {
   "cell_type": "code",
   "execution_count": 1,
   "metadata": {},
   "outputs": [
    {
     "name": "stdout",
     "output_type": "stream",
     "text": [
      "env: work_dir=/home/sam/Downloads/20190418_cvir_mbd_coverage_analysis\n"
     ]
    }
   ],
   "source": [
    "%env work_dir = /home/sam/Downloads/20190418_cvir_mbd_coverage_analysis\n",
    "work_dir = \"/home/sam/Downloads/20190418_cvir_mbd_coverage_analysis\"\n",
    "output_plot = \"20190418_cvir_mbd_cov_comparison.png\""
   ]
  },
  {
   "cell_type": "markdown",
   "metadata": {},
   "source": [
    "##### Import necessary modules"
   ]
  },
  {
   "cell_type": "code",
   "execution_count": 2,
   "metadata": {},
   "outputs": [],
   "source": [
    "import pandas\n",
    "import os\n",
    "import numpy\n",
    "from IPython.display import display\n",
    "import matplotlib.pyplot as plt"
   ]
  },
  {
   "cell_type": "markdown",
   "metadata": {},
   "source": [
    "##### Make new working directory, download files and rename using wget ```--output-document``` argument"
   ]
  },
  {
   "cell_type": "code",
   "execution_count": 3,
   "metadata": {},
   "outputs": [
    {
     "name": "stdout",
     "output_type": "stream",
     "text": [
      "total 3.7G\n",
      "-rw-rw-r-- 1 sam sam 934M Apr 17 10:42 avg_reads_CpG_coverage.txt\n",
      "-rw-rw-r-- 1 sam sam 934M Apr 17 10:58 half_avg_reads_CpG_coverage.txt\n",
      "-rw-rw-r-- 1 sam sam 936M Apr 17 11:07 half_total_reads_CpG_coverage.txt\n",
      "-rw-rw-r-- 1 sam sam 937M Apr 17 11:21 total_reads_CpG_coverage.txt\n",
      "  28917406 avg_reads_CpG_coverage.txt\n",
      "  28917406 half_avg_reads_CpG_coverage.txt\n",
      "  28917406 half_total_reads_CpG_coverage.txt\n",
      "  28917406 total_reads_CpG_coverage.txt\n",
      " 115669624 total\n"
     ]
    }
   ],
   "source": [
    "%%bash\n",
    "mkdir ${work_dir}\n",
    "cd ${work_dir}\n",
    "wget \\\n",
    "--quiet \\\n",
    "--output-document avg_reads_CpG_coverage.txt \\\n",
    "http://gannet.fish.washington.edu/Atumefaciens/20190312_cvir_gonad_bismark/avg_reads_bismark/bismark_cytosine_coverage.txt.CpG_report.txt\n",
    "\n",
    "wget \\\n",
    "--quiet \\\n",
    "--output-document half_avg_reads_CpG_coverage.txt \\\n",
    "http://gannet.fish.washington.edu/Atumefaciens/20190312_cvir_gonad_bismark/half_avg_reads_bismark/bismark_cytosine_coverage.txt.CpG_report.txt\n",
    "\n",
    "wget \\\n",
    "--quiet \\\n",
    "--output-document half_total_reads_CpG_coverage.txt \\\n",
    "http://gannet.fish.washington.edu/Atumefaciens/20190312_cvir_gonad_bismark/half_total_reads_bismark/bismark_cytosine_coverage.txt.CpG_report.txt\n",
    "\n",
    "\n",
    "wget \\\n",
    "--quiet \\\n",
    "--output-document total_reads_CpG_coverage.txt \\\n",
    "http://gannet.fish.washington.edu/Atumefaciens/20190312_cvir_gonad_bismark/total_reads_bismark/bismark_cytosine_coverage.txt.CpG_report.txt\n",
    "\n",
    "\n",
    "ls -lh\n",
    "\n",
    "wc -l *.txt"
   ]
  },
  {
   "cell_type": "code",
   "execution_count": 4,
   "metadata": {},
   "outputs": [
    {
     "name": "stdout",
     "output_type": "stream",
     "text": [
      "/home/sam/Downloads/20190418_cvir_mbd_coverage_analysis\n"
     ]
    }
   ],
   "source": [
    "cd $work_dir"
   ]
  },
  {
   "cell_type": "markdown",
   "metadata": {},
   "source": [
    "#### Loop through coverage files to calculate percent sequencing coverage for each Bismark subset"
   ]
  },
  {
   "cell_type": "code",
   "execution_count": 5,
   "metadata": {},
   "outputs": [
    {
     "name": "stdout",
     "output_type": "stream",
     "text": [
      "----------------------------------------------\n",
      "----------------------------------------------\n",
      "avg_reads_CpG_coverage.txt\n"
     ]
    },
    {
     "data": {
      "text/plain": [
       "'Total coverage: 4410786'"
      ]
     },
     "metadata": {},
     "output_type": "display_data"
    },
    {
     "data": {
      "text/plain": [
       "'5x coverage: 918437'"
      ]
     },
     "metadata": {},
     "output_type": "display_data"
    },
    {
     "data": {
      "text/plain": [
       "'10x coverage: 518052'"
      ]
     },
     "metadata": {},
     "output_type": "display_data"
    },
    {
     "data": {
      "text/plain": [
       "'Mean coverage: 0.7'"
      ]
     },
     "metadata": {},
     "output_type": "display_data"
    },
    {
     "data": {
      "text/plain": [
       "'No coverage: 24506620'"
      ]
     },
     "metadata": {},
     "output_type": "display_data"
    },
    {
     "data": {
      "text/plain": [
       "'Percent coverage: 15.3'"
      ]
     },
     "metadata": {},
     "output_type": "display_data"
    },
    {
     "data": {
      "text/plain": [
       "'Percent 5x coverage: 3.2'"
      ]
     },
     "metadata": {},
     "output_type": "display_data"
    },
    {
     "data": {
      "text/plain": [
       "'Percent 10x coverage: 1.8'"
      ]
     },
     "metadata": {},
     "output_type": "display_data"
    },
    {
     "data": {
      "text/html": [
       "<div>\n",
       "<style scoped>\n",
       "    .dataframe tbody tr th:only-of-type {\n",
       "        vertical-align: middle;\n",
       "    }\n",
       "\n",
       "    .dataframe tbody tr th {\n",
       "        vertical-align: top;\n",
       "    }\n",
       "\n",
       "    .dataframe thead th {\n",
       "        text-align: right;\n",
       "    }\n",
       "</style>\n",
       "<table border=\"1\" class=\"dataframe\">\n",
       "  <thead>\n",
       "    <tr style=\"text-align: right;\">\n",
       "      <th></th>\n",
       "      <th>chrom</th>\n",
       "      <th>pos</th>\n",
       "      <th>strand</th>\n",
       "      <th>meth</th>\n",
       "      <th>unmeth</th>\n",
       "      <th>C-context</th>\n",
       "      <th>trinucleotide</th>\n",
       "      <th>coverage</th>\n",
       "    </tr>\n",
       "  </thead>\n",
       "  <tbody>\n",
       "    <tr>\n",
       "      <th>0</th>\n",
       "      <td>NC_007175.2</td>\n",
       "      <td>49</td>\n",
       "      <td>+</td>\n",
       "      <td>0</td>\n",
       "      <td>5</td>\n",
       "      <td>CG</td>\n",
       "      <td>CGC</td>\n",
       "      <td>5</td>\n",
       "    </tr>\n",
       "    <tr>\n",
       "      <th>1</th>\n",
       "      <td>NC_007175.2</td>\n",
       "      <td>50</td>\n",
       "      <td>-</td>\n",
       "      <td>0</td>\n",
       "      <td>0</td>\n",
       "      <td>CG</td>\n",
       "      <td>CGA</td>\n",
       "      <td>0</td>\n",
       "    </tr>\n",
       "    <tr>\n",
       "      <th>2</th>\n",
       "      <td>NC_007175.2</td>\n",
       "      <td>51</td>\n",
       "      <td>+</td>\n",
       "      <td>0</td>\n",
       "      <td>5</td>\n",
       "      <td>CG</td>\n",
       "      <td>CGG</td>\n",
       "      <td>5</td>\n",
       "    </tr>\n",
       "    <tr>\n",
       "      <th>3</th>\n",
       "      <td>NC_007175.2</td>\n",
       "      <td>52</td>\n",
       "      <td>-</td>\n",
       "      <td>0</td>\n",
       "      <td>0</td>\n",
       "      <td>CG</td>\n",
       "      <td>CGC</td>\n",
       "      <td>0</td>\n",
       "    </tr>\n",
       "    <tr>\n",
       "      <th>4</th>\n",
       "      <td>NC_007175.2</td>\n",
       "      <td>88</td>\n",
       "      <td>+</td>\n",
       "      <td>0</td>\n",
       "      <td>5</td>\n",
       "      <td>CG</td>\n",
       "      <td>CGT</td>\n",
       "      <td>5</td>\n",
       "    </tr>\n",
       "  </tbody>\n",
       "</table>\n",
       "</div>"
      ],
      "text/plain": [
       "         chrom  pos strand  meth  unmeth C-context trinucleotide  coverage\n",
       "0  NC_007175.2   49      +     0       5        CG           CGC         5\n",
       "1  NC_007175.2   50      -     0       0        CG           CGA         0\n",
       "2  NC_007175.2   51      +     0       5        CG           CGG         5\n",
       "3  NC_007175.2   52      -     0       0        CG           CGC         0\n",
       "4  NC_007175.2   88      +     0       5        CG           CGT         5"
      ]
     },
     "metadata": {},
     "output_type": "display_data"
    },
    {
     "name": "stdout",
     "output_type": "stream",
     "text": [
      "----------------------------------------------\n",
      "----------------------------------------------\n",
      "total_reads_CpG_coverage.txt\n"
     ]
    },
    {
     "data": {
      "text/plain": [
       "'Total coverage: 13087284'"
      ]
     },
     "metadata": {},
     "output_type": "display_data"
    },
    {
     "data": {
      "text/plain": [
       "'5x coverage: 4263854'"
      ]
     },
     "metadata": {},
     "output_type": "display_data"
    },
    {
     "data": {
      "text/plain": [
       "'10x coverage: 2617681'"
      ]
     },
     "metadata": {},
     "output_type": "display_data"
    },
    {
     "data": {
      "text/plain": [
       "'Mean coverage: 7.3'"
      ]
     },
     "metadata": {},
     "output_type": "display_data"
    },
    {
     "data": {
      "text/plain": [
       "'No coverage: 15830122'"
      ]
     },
     "metadata": {},
     "output_type": "display_data"
    },
    {
     "data": {
      "text/plain": [
       "'Percent coverage: 45.3'"
      ]
     },
     "metadata": {},
     "output_type": "display_data"
    },
    {
     "data": {
      "text/plain": [
       "'Percent 5x coverage: 14.7'"
      ]
     },
     "metadata": {},
     "output_type": "display_data"
    },
    {
     "data": {
      "text/plain": [
       "'Percent 10x coverage: 9.1'"
      ]
     },
     "metadata": {},
     "output_type": "display_data"
    },
    {
     "data": {
      "text/html": [
       "<div>\n",
       "<style scoped>\n",
       "    .dataframe tbody tr th:only-of-type {\n",
       "        vertical-align: middle;\n",
       "    }\n",
       "\n",
       "    .dataframe tbody tr th {\n",
       "        vertical-align: top;\n",
       "    }\n",
       "\n",
       "    .dataframe thead th {\n",
       "        text-align: right;\n",
       "    }\n",
       "</style>\n",
       "<table border=\"1\" class=\"dataframe\">\n",
       "  <thead>\n",
       "    <tr style=\"text-align: right;\">\n",
       "      <th></th>\n",
       "      <th>chrom</th>\n",
       "      <th>pos</th>\n",
       "      <th>strand</th>\n",
       "      <th>meth</th>\n",
       "      <th>unmeth</th>\n",
       "      <th>C-context</th>\n",
       "      <th>trinucleotide</th>\n",
       "      <th>coverage</th>\n",
       "    </tr>\n",
       "  </thead>\n",
       "  <tbody>\n",
       "    <tr>\n",
       "      <th>0</th>\n",
       "      <td>NC_007175.2</td>\n",
       "      <td>49</td>\n",
       "      <td>+</td>\n",
       "      <td>2</td>\n",
       "      <td>158</td>\n",
       "      <td>CG</td>\n",
       "      <td>CGC</td>\n",
       "      <td>160</td>\n",
       "    </tr>\n",
       "    <tr>\n",
       "      <th>1</th>\n",
       "      <td>NC_007175.2</td>\n",
       "      <td>50</td>\n",
       "      <td>-</td>\n",
       "      <td>0</td>\n",
       "      <td>15</td>\n",
       "      <td>CG</td>\n",
       "      <td>CGA</td>\n",
       "      <td>15</td>\n",
       "    </tr>\n",
       "    <tr>\n",
       "      <th>2</th>\n",
       "      <td>NC_007175.2</td>\n",
       "      <td>51</td>\n",
       "      <td>+</td>\n",
       "      <td>2</td>\n",
       "      <td>167</td>\n",
       "      <td>CG</td>\n",
       "      <td>CGG</td>\n",
       "      <td>169</td>\n",
       "    </tr>\n",
       "    <tr>\n",
       "      <th>3</th>\n",
       "      <td>NC_007175.2</td>\n",
       "      <td>52</td>\n",
       "      <td>-</td>\n",
       "      <td>0</td>\n",
       "      <td>18</td>\n",
       "      <td>CG</td>\n",
       "      <td>CGC</td>\n",
       "      <td>18</td>\n",
       "    </tr>\n",
       "    <tr>\n",
       "      <th>4</th>\n",
       "      <td>NC_007175.2</td>\n",
       "      <td>88</td>\n",
       "      <td>+</td>\n",
       "      <td>5</td>\n",
       "      <td>483</td>\n",
       "      <td>CG</td>\n",
       "      <td>CGT</td>\n",
       "      <td>488</td>\n",
       "    </tr>\n",
       "  </tbody>\n",
       "</table>\n",
       "</div>"
      ],
      "text/plain": [
       "         chrom  pos strand  meth  unmeth C-context trinucleotide  coverage\n",
       "0  NC_007175.2   49      +     2     158        CG           CGC       160\n",
       "1  NC_007175.2   50      -     0      15        CG           CGA        15\n",
       "2  NC_007175.2   51      +     2     167        CG           CGG       169\n",
       "3  NC_007175.2   52      -     0      18        CG           CGC        18\n",
       "4  NC_007175.2   88      +     5     483        CG           CGT       488"
      ]
     },
     "metadata": {},
     "output_type": "display_data"
    },
    {
     "name": "stdout",
     "output_type": "stream",
     "text": [
      "----------------------------------------------\n",
      "----------------------------------------------\n",
      "half_total_reads_CpG_coverage.txt\n"
     ]
    },
    {
     "data": {
      "text/plain": [
       "'Total coverage: 9694519'"
      ]
     },
     "metadata": {},
     "output_type": "display_data"
    },
    {
     "data": {
      "text/plain": [
       "'5x coverage: 2649503'"
      ]
     },
     "metadata": {},
     "output_type": "display_data"
    },
    {
     "data": {
      "text/plain": [
       "'10x coverage: 1647876'"
      ]
     },
     "metadata": {},
     "output_type": "display_data"
    },
    {
     "data": {
      "text/plain": [
       "'Mean coverage: 3.5'"
      ]
     },
     "metadata": {},
     "output_type": "display_data"
    },
    {
     "data": {
      "text/plain": [
       "'No coverage: 19222887'"
      ]
     },
     "metadata": {},
     "output_type": "display_data"
    },
    {
     "data": {
      "text/plain": [
       "'Percent coverage: 33.5'"
      ]
     },
     "metadata": {},
     "output_type": "display_data"
    },
    {
     "data": {
      "text/plain": [
       "'Percent 5x coverage: 9.2'"
      ]
     },
     "metadata": {},
     "output_type": "display_data"
    },
    {
     "data": {
      "text/plain": [
       "'Percent 10x coverage: 5.7'"
      ]
     },
     "metadata": {},
     "output_type": "display_data"
    },
    {
     "data": {
      "text/html": [
       "<div>\n",
       "<style scoped>\n",
       "    .dataframe tbody tr th:only-of-type {\n",
       "        vertical-align: middle;\n",
       "    }\n",
       "\n",
       "    .dataframe tbody tr th {\n",
       "        vertical-align: top;\n",
       "    }\n",
       "\n",
       "    .dataframe thead th {\n",
       "        text-align: right;\n",
       "    }\n",
       "</style>\n",
       "<table border=\"1\" class=\"dataframe\">\n",
       "  <thead>\n",
       "    <tr style=\"text-align: right;\">\n",
       "      <th></th>\n",
       "      <th>chrom</th>\n",
       "      <th>pos</th>\n",
       "      <th>strand</th>\n",
       "      <th>meth</th>\n",
       "      <th>unmeth</th>\n",
       "      <th>C-context</th>\n",
       "      <th>trinucleotide</th>\n",
       "      <th>coverage</th>\n",
       "    </tr>\n",
       "  </thead>\n",
       "  <tbody>\n",
       "    <tr>\n",
       "      <th>0</th>\n",
       "      <td>NC_007175.2</td>\n",
       "      <td>49</td>\n",
       "      <td>+</td>\n",
       "      <td>2</td>\n",
       "      <td>34</td>\n",
       "      <td>CG</td>\n",
       "      <td>CGC</td>\n",
       "      <td>36</td>\n",
       "    </tr>\n",
       "    <tr>\n",
       "      <th>1</th>\n",
       "      <td>NC_007175.2</td>\n",
       "      <td>50</td>\n",
       "      <td>-</td>\n",
       "      <td>0</td>\n",
       "      <td>4</td>\n",
       "      <td>CG</td>\n",
       "      <td>CGA</td>\n",
       "      <td>4</td>\n",
       "    </tr>\n",
       "    <tr>\n",
       "      <th>2</th>\n",
       "      <td>NC_007175.2</td>\n",
       "      <td>51</td>\n",
       "      <td>+</td>\n",
       "      <td>1</td>\n",
       "      <td>35</td>\n",
       "      <td>CG</td>\n",
       "      <td>CGG</td>\n",
       "      <td>36</td>\n",
       "    </tr>\n",
       "    <tr>\n",
       "      <th>3</th>\n",
       "      <td>NC_007175.2</td>\n",
       "      <td>52</td>\n",
       "      <td>-</td>\n",
       "      <td>0</td>\n",
       "      <td>5</td>\n",
       "      <td>CG</td>\n",
       "      <td>CGC</td>\n",
       "      <td>5</td>\n",
       "    </tr>\n",
       "    <tr>\n",
       "      <th>4</th>\n",
       "      <td>NC_007175.2</td>\n",
       "      <td>88</td>\n",
       "      <td>+</td>\n",
       "      <td>0</td>\n",
       "      <td>96</td>\n",
       "      <td>CG</td>\n",
       "      <td>CGT</td>\n",
       "      <td>96</td>\n",
       "    </tr>\n",
       "  </tbody>\n",
       "</table>\n",
       "</div>"
      ],
      "text/plain": [
       "         chrom  pos strand  meth  unmeth C-context trinucleotide  coverage\n",
       "0  NC_007175.2   49      +     2      34        CG           CGC        36\n",
       "1  NC_007175.2   50      -     0       4        CG           CGA         4\n",
       "2  NC_007175.2   51      +     1      35        CG           CGG        36\n",
       "3  NC_007175.2   52      -     0       5        CG           CGC         5\n",
       "4  NC_007175.2   88      +     0      96        CG           CGT        96"
      ]
     },
     "metadata": {},
     "output_type": "display_data"
    },
    {
     "name": "stdout",
     "output_type": "stream",
     "text": [
      "----------------------------------------------\n",
      "----------------------------------------------\n",
      "half_avg_reads_CpG_coverage.txt\n"
     ]
    },
    {
     "data": {
      "text/plain": [
       "'Total coverage: 3227641'"
      ]
     },
     "metadata": {},
     "output_type": "display_data"
    },
    {
     "data": {
      "text/plain": [
       "'5x coverage: 678974'"
      ]
     },
     "metadata": {},
     "output_type": "display_data"
    },
    {
     "data": {
      "text/plain": [
       "'10x coverage: 357365'"
      ]
     },
     "metadata": {},
     "output_type": "display_data"
    },
    {
     "data": {
      "text/plain": [
       "'Mean coverage: 0.5'"
      ]
     },
     "metadata": {},
     "output_type": "display_data"
    },
    {
     "data": {
      "text/plain": [
       "'No coverage: 25689765'"
      ]
     },
     "metadata": {},
     "output_type": "display_data"
    },
    {
     "data": {
      "text/plain": [
       "'Percent coverage: 11.2'"
      ]
     },
     "metadata": {},
     "output_type": "display_data"
    },
    {
     "data": {
      "text/plain": [
       "'Percent 5x coverage: 2.3'"
      ]
     },
     "metadata": {},
     "output_type": "display_data"
    },
    {
     "data": {
      "text/plain": [
       "'Percent 10x coverage: 1.2'"
      ]
     },
     "metadata": {},
     "output_type": "display_data"
    },
    {
     "data": {
      "text/html": [
       "<div>\n",
       "<style scoped>\n",
       "    .dataframe tbody tr th:only-of-type {\n",
       "        vertical-align: middle;\n",
       "    }\n",
       "\n",
       "    .dataframe tbody tr th {\n",
       "        vertical-align: top;\n",
       "    }\n",
       "\n",
       "    .dataframe thead th {\n",
       "        text-align: right;\n",
       "    }\n",
       "</style>\n",
       "<table border=\"1\" class=\"dataframe\">\n",
       "  <thead>\n",
       "    <tr style=\"text-align: right;\">\n",
       "      <th></th>\n",
       "      <th>chrom</th>\n",
       "      <th>pos</th>\n",
       "      <th>strand</th>\n",
       "      <th>meth</th>\n",
       "      <th>unmeth</th>\n",
       "      <th>C-context</th>\n",
       "      <th>trinucleotide</th>\n",
       "      <th>coverage</th>\n",
       "    </tr>\n",
       "  </thead>\n",
       "  <tbody>\n",
       "    <tr>\n",
       "      <th>0</th>\n",
       "      <td>NC_007175.2</td>\n",
       "      <td>49</td>\n",
       "      <td>+</td>\n",
       "      <td>0</td>\n",
       "      <td>4</td>\n",
       "      <td>CG</td>\n",
       "      <td>CGC</td>\n",
       "      <td>4</td>\n",
       "    </tr>\n",
       "    <tr>\n",
       "      <th>1</th>\n",
       "      <td>NC_007175.2</td>\n",
       "      <td>50</td>\n",
       "      <td>-</td>\n",
       "      <td>0</td>\n",
       "      <td>0</td>\n",
       "      <td>CG</td>\n",
       "      <td>CGA</td>\n",
       "      <td>0</td>\n",
       "    </tr>\n",
       "    <tr>\n",
       "      <th>2</th>\n",
       "      <td>NC_007175.2</td>\n",
       "      <td>51</td>\n",
       "      <td>+</td>\n",
       "      <td>0</td>\n",
       "      <td>4</td>\n",
       "      <td>CG</td>\n",
       "      <td>CGG</td>\n",
       "      <td>4</td>\n",
       "    </tr>\n",
       "    <tr>\n",
       "      <th>3</th>\n",
       "      <td>NC_007175.2</td>\n",
       "      <td>52</td>\n",
       "      <td>-</td>\n",
       "      <td>0</td>\n",
       "      <td>0</td>\n",
       "      <td>CG</td>\n",
       "      <td>CGC</td>\n",
       "      <td>0</td>\n",
       "    </tr>\n",
       "    <tr>\n",
       "      <th>4</th>\n",
       "      <td>NC_007175.2</td>\n",
       "      <td>88</td>\n",
       "      <td>+</td>\n",
       "      <td>0</td>\n",
       "      <td>5</td>\n",
       "      <td>CG</td>\n",
       "      <td>CGT</td>\n",
       "      <td>5</td>\n",
       "    </tr>\n",
       "  </tbody>\n",
       "</table>\n",
       "</div>"
      ],
      "text/plain": [
       "         chrom  pos strand  meth  unmeth C-context trinucleotide  coverage\n",
       "0  NC_007175.2   49      +     0       4        CG           CGC         4\n",
       "1  NC_007175.2   50      -     0       0        CG           CGA         0\n",
       "2  NC_007175.2   51      +     0       4        CG           CGG         4\n",
       "3  NC_007175.2   52      -     0       0        CG           CGC         0\n",
       "4  NC_007175.2   88      +     0       5        CG           CGT         5"
      ]
     },
     "metadata": {},
     "output_type": "display_data"
    }
   ],
   "source": [
    "# Variable declaration\n",
    "bismark_subset_list = []\n",
    "mean_seq_coverage = []\n",
    "percent_seq_coverage = []\n",
    "percent_5x_seq_coverage = []\n",
    "percent_10x_seq_coverage = []\n",
    "\n",
    "# Create list of coverage files in current directory\n",
    "cov_files = os.listdir()\n",
    "\n",
    "# Loop through coverage files\n",
    "for file in cov_files:\n",
    "    print(\"----------------------------------------------\")\n",
    "    print(\"----------------------------------------------\")\n",
    "    print (file)\n",
    "    subset_name = file[:-4] # Remove file suffix (.txt)\n",
    "    bismark_subset_list.append(subset_name)\n",
    "    #\n",
    "    #\n",
    "    # Create dataframe and add column names (taken from Bismark documentation)\n",
    "    dataframe = pandas.read_csv(\n",
    "        file,\n",
    "        sep='\\t',\n",
    "        header=None,\n",
    "        names=[\"chrom\", \"pos\", \"strand\", \"meth\", \"unmeth\", \"C-context\", \"trinucleotide\"])\n",
    "    \n",
    "    dataframe['coverage'] = dataframe['meth'] + dataframe['unmeth'] # Sum of methylated and unmethylated coverage for each position.\n",
    "    \n",
    "    total_CpG = len(dataframe) # Count of all CpGs in genome.\n",
    "    \n",
    "    \n",
    "    coverage = sum(dataframe['coverage']>0) # Count of all CpG positions with sequence coverage\n",
    "    coverage_5x = sum(dataframe['coverage']>=5)\n",
    "    coverage_10x = sum(dataframe['coverage']>=10)\n",
    "    mean_coverage = round(dataframe[\"coverage\"].mean(), 1)\n",
    "    \n",
    "    display(\"Total coverage: \" + str(coverage))\n",
    "    display(\"5x coverage: \" + str(coverage_5x))\n",
    "    display(\"10x coverage: \" + str(coverage_10x))\n",
    "    display(\"Mean coverage: \" + str(mean_coverage))\n",
    "    \n",
    "    no_coverage = sum(dataframe['coverage']==0) # Count of all CpG posiitions with no sequence coverage\n",
    "    percent_coverage = round((coverage / total_CpG * 100.0), 1) # Rounds to 1 decimal\n",
    "    percent_5x_coverage = round((coverage_5x / total_CpG * 100.0), 1) # Rounds to 1 decimal\n",
    "    percent_10x_coverage = round((coverage_10x / total_CpG * 100.0), 1) # Rounds to 1 decimal\n",
    "    \n",
    "    mean_seq_coverage.append(mean_coverage)\n",
    "    percent_seq_coverage.append(percent_coverage)\n",
    "    percent_5x_seq_coverage.append(percent_5x_coverage)\n",
    "    percent_10x_seq_coverage.append(percent_10x_coverage)\n",
    "    \n",
    "    display(\"No coverage: \" + str(no_coverage))\n",
    "    display(\"Percent coverage: \" + str(percent_coverage))\n",
    "    display(\"Percent 5x coverage: \" + str(percent_5x_coverage))\n",
    "    display(\"Percent 10x coverage: \" + str(percent_10x_coverage))\n",
    "    display(dataframe.head())"
   ]
  },
  {
   "cell_type": "markdown",
   "metadata": {},
   "source": [
    "#### Create new dataframe"
   ]
  },
  {
   "cell_type": "code",
   "execution_count": 6,
   "metadata": {},
   "outputs": [
    {
     "data": {
      "text/html": [
       "<div>\n",
       "<style scoped>\n",
       "    .dataframe tbody tr th:only-of-type {\n",
       "        vertical-align: middle;\n",
       "    }\n",
       "\n",
       "    .dataframe tbody tr th {\n",
       "        vertical-align: top;\n",
       "    }\n",
       "\n",
       "    .dataframe thead th {\n",
       "        text-align: right;\n",
       "    }\n",
       "</style>\n",
       "<table border=\"1\" class=\"dataframe\">\n",
       "  <thead>\n",
       "    <tr style=\"text-align: right;\">\n",
       "      <th></th>\n",
       "      <th>Bismark Subset</th>\n",
       "      <th>Mean Coverage</th>\n",
       "      <th>Percent Coverage</th>\n",
       "      <th>Percent 5x Coverage</th>\n",
       "      <th>Percent 10x Coverage</th>\n",
       "    </tr>\n",
       "  </thead>\n",
       "  <tbody>\n",
       "    <tr>\n",
       "      <th>0</th>\n",
       "      <td>avg_reads_CpG_coverage</td>\n",
       "      <td>0.7</td>\n",
       "      <td>15.3</td>\n",
       "      <td>3.2</td>\n",
       "      <td>1.8</td>\n",
       "    </tr>\n",
       "    <tr>\n",
       "      <th>1</th>\n",
       "      <td>total_reads_CpG_coverage</td>\n",
       "      <td>7.3</td>\n",
       "      <td>45.3</td>\n",
       "      <td>14.7</td>\n",
       "      <td>9.1</td>\n",
       "    </tr>\n",
       "    <tr>\n",
       "      <th>2</th>\n",
       "      <td>half_total_reads_CpG_coverage</td>\n",
       "      <td>3.5</td>\n",
       "      <td>33.5</td>\n",
       "      <td>9.2</td>\n",
       "      <td>5.7</td>\n",
       "    </tr>\n",
       "    <tr>\n",
       "      <th>3</th>\n",
       "      <td>half_avg_reads_CpG_coverage</td>\n",
       "      <td>0.5</td>\n",
       "      <td>11.2</td>\n",
       "      <td>2.3</td>\n",
       "      <td>1.2</td>\n",
       "    </tr>\n",
       "  </tbody>\n",
       "</table>\n",
       "</div>"
      ],
      "text/plain": [
       "                  Bismark Subset  Mean Coverage  Percent Coverage  \\\n",
       "0         avg_reads_CpG_coverage            0.7              15.3   \n",
       "1       total_reads_CpG_coverage            7.3              45.3   \n",
       "2  half_total_reads_CpG_coverage            3.5              33.5   \n",
       "3    half_avg_reads_CpG_coverage            0.5              11.2   \n",
       "\n",
       "   Percent 5x Coverage  Percent 10x Coverage  \n",
       "0                  3.2                   1.8  \n",
       "1                 14.7                   9.1  \n",
       "2                  9.2                   5.7  \n",
       "3                  2.3                   1.2  "
      ]
     },
     "execution_count": 6,
     "metadata": {},
     "output_type": "execute_result"
    }
   ],
   "source": [
    "coverage_dataframe = pandas.DataFrame(\n",
    "    {\n",
    "        'Bismark Subset': bismark_subset_list,\n",
    "        'Mean Coverage': mean_seq_coverage,\n",
    "        'Percent Coverage': percent_seq_coverage,\n",
    "        'Percent 5x Coverage': percent_5x_seq_coverage,\n",
    "        'Percent 10x Coverage': percent_10x_seq_coverage,\n",
    "        \n",
    "    })\n",
    "\n",
    "coverage_dataframe"
   ]
  },
  {
   "cell_type": "markdown",
   "metadata": {},
   "source": [
    "#### Create line plot overlayed on bar chart, showing percent sequencing coverage for each Bismark subset option"
   ]
  },
  {
   "cell_type": "code",
   "execution_count": 7,
   "metadata": {},
   "outputs": [
    {
     "data": {
      "image/png": "[encoded data removed]",
      "text/plain": [
       "<Figure size 432x288 with 1 Axes>"
      ]
     },
     "metadata": {
      "needs_background": "light"
     },
     "output_type": "display_data"
    }
   ],
   "source": [
    "# Sort data\n",
    "coverage_dataframe = coverage_dataframe.sort_values(by=['Percent Coverage'])\n",
    "\n",
    "\n",
    "exclude = ['Mean Coverage']\n",
    "coverage_dataframe = coverage_dataframe.loc[:, coverage_dataframe.columns.difference(exclude)] # Don't plot Mean Coverage\n",
    "ax = coverage_dataframe.plot(x='Bismark Subset',marker='o') # Line plot with marker points.\n",
    "coverage_dataframe.plot(kind='bar', x='Bismark Subset', ax=ax) # Overlays bar chart using axes defined in line plot\n",
    "\n",
    "# Save figure to file.\n",
    "# \"bbox_inches\" argument needed to prevent x asis lables from getting cut off.\n",
    "plt.savefig(output_plot, bbox_inches = \"tight\")"
   ]
  },
  {
   "cell_type": "code",
   "execution_count": null,
   "metadata": {},
   "outputs": [],
   "source": []
  }
 ],
 "metadata": {
  "kernelspec": {
   "display_name": "Python 3",
   "language": "python",
   "name": "python3"
  },
  "language_info": {
   "codemirror_mode": {
    "name": "ipython",
    "version": 3
   },
   "file_extension": ".py",
   "mimetype": "text/x-python",
   "name": "python",
   "nbconvert_exporter": "python",
   "pygments_lexer": "ipython3",
   "version": "3.6.8"
  }
 },
 "nbformat": 4,
 "nbformat_minor": 2
}
