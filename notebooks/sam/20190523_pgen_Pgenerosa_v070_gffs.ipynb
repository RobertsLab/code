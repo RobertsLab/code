{
 "cells": [
  {
   "cell_type": "code",
   "execution_count": null,
   "metadata": {},
   "outputs": [],
   "source": []
  },
  {
   "cell_type": "code",
   "execution_count": 1,
   "metadata": {},
   "outputs": [
    {
     "name": "stdout",
     "output_type": "stream",
     "text": [
      "env: work_dir=/home/sam/Downloads/20190523_pgen_Pgenerosa_v070_gffs\n",
      "env: pgen70_fasta_url=http://owl.fish.washington.edu/halfshell/genomic-databank/Pgenerosa_v070.fa\n",
      "env: pgen70_gff_url=http://gannet.fish.washington.edu/Atumefaciens/20190228_pgen_maker_v070_annotation/Pgenerosa_v070_genome_snap02.all.renamed.putative_function.gff\n"
     ]
    }
   ],
   "source": [
    "%env work_dir = /home/sam/Downloads/20190523_pgen_Pgenerosa_v070_gffs\n",
    "%env pgen70_fasta_url = http://owl.fish.washington.edu/halfshell/genomic-databank/Pgenerosa_v070.fa\n",
    "%env pgen70_gff_url = http://gannet.fish.washington.edu/Atumefaciens/20190228_pgen_maker_v070_annotation/Pgenerosa_v070_genome_snap02.all.renamed.putative_function.gff\n",
    "\n",
    "work_dir = \"/home/sam/Downloads/20190523_pgen_Pgenerosa_v070_gffs\""
   ]
  },
  {
   "cell_type": "code",
   "execution_count": 2,
   "metadata": {},
   "outputs": [],
   "source": [
    "%%bash\n",
    "mkdir \"${work_dir}\""
   ]
  },
  {
   "cell_type": "code",
   "execution_count": 3,
   "metadata": {},
   "outputs": [
    {
     "name": "stdout",
     "output_type": "stream",
     "text": [
      "/home/sam/Downloads/20190523_pgen_Pgenerosa_v070_gffs\n"
     ]
    }
   ],
   "source": [
    "cd $work_dir"
   ]
  },
  {
   "cell_type": "code",
   "execution_count": 4,
   "metadata": {},
   "outputs": [
    {
     "name": "stdout",
     "output_type": "stream",
     "text": [
      "receiving incremental file list\n",
      "Pgenerosa_v070_genome_snap02.all.renamed.putative_function.gff\n",
      "\n",
      "sent 30 bytes  received 7,597,953,355 bytes  98,038,108.19 bytes/sec\n",
      "total size is 7,597,025,836  speedup is 1.00\n",
      "receiving incremental file list\n",
      "Pgenerosa_v070.fa\n",
      "\n",
      "sent 30 bytes  received 2,247,392,295 bytes  25,394,263.56 bytes/sec\n",
      "total size is 2,247,117,885  speedup is 1.00\n",
      "total 9.2G\n",
      "-rw-r--r-- 1 sam users 2.1G Feb 11 12:13 Pgenerosa_v070.fa\n",
      "-rw-r--r-- 1 sam users 7.1G May 19 02:16 Pgenerosa_v070_genome_snap02.all.renamed.putative_function.gff\n"
     ]
    }
   ],
   "source": [
    "%%bash\n",
    "rsync -av gannet:/volume2/web/Atumefaciens/20190228_pgen_maker_v070_annotation/Pgenerosa_v070_genome_snap02.all.renamed.putative_function.gff .\n",
    "rsync -av owl:/volume1/web/halfshell/genomic-databank/Pgenerosa_v070.fa .\n",
    "\n",
    "# Uncomment below to download if you don't have rsync access\n",
    "# wget \"${pgen70_fasta_url}\"\n",
    "# wget \"${pgen70_gff_url}\"\n",
    "\n",
    "ls -lh"
   ]
  },
  {
   "cell_type": "code",
   "execution_count": null,
   "metadata": {},
   "outputs": [],
   "source": [
    "%%bash\n",
    "awk 'BEGIN { print \"##gff-version 3\" ; } $3 == \"CDS\" {print}' Pgenerosa_v070_genome_snap02.all.renamed.putative_function.gff > Pgenerosa_v070.CDS.gff\n",
    "awk 'BEGIN { print \"##gff-version 3\" ; } $3 == \"exon\" {print}' Pgenerosa_v070_genome_snap02.all.renamed.putative_function.gff > Pgenerosa_v070.exon.gff\n",
    "awk 'BEGIN { print \"##gff-version 3\" ; } $3 == \"gene\" {print}' Pgenerosa_v070_genome_snap02.all.renamed.putative_function.gff > Pgenerosa_v070.gene.gff\n",
    "awk 'BEGIN { print \"##gff-version 3\" ; } $3 == \"mRNA\" {print}' Pgenerosa_v070_genome_snap02.all.renamed.putative_function.gff > Pgenerosa_v070.mRNA.gff\n",
    "\n",
    "md5sum > Pgenerosa_v070.*.gff"
   ]
  },
  {
   "cell_type": "code",
   "execution_count": null,
   "metadata": {},
   "outputs": [],
   "source": []
  }
 ],
 "metadata": {
  "kernelspec": {
   "display_name": "Python 3",
   "language": "python",
   "name": "python3"
  },
  "language_info": {
   "codemirror_mode": {
    "name": "ipython",
    "version": 3
   },
   "file_extension": ".py",
   "mimetype": "text/x-python",
   "name": "python",
   "nbconvert_exporter": "python",
   "pygments_lexer": "ipython3",
   "version": "3.6.8"
  }
 },
 "nbformat": 4,
 "nbformat_minor": 2
}
