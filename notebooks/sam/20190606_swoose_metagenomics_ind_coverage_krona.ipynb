{
 "cells": [
  {
   "cell_type": "code",
   "execution_count": null,
   "metadata": {},
   "outputs": [],
   "source": [
    "%%bash\n",
    "echo \"TODAY'S DATE:\"\n",
    "date\n",
    "echo \"------------\"\n",
    "echo \"\"\n",
    "#Display operating system info\n",
    "lsb_release -a\n",
    "echo \"\"\n",
    "echo \"------------\"\n",
    "echo \"HOSTNAME: \"; hostname \n",
    "echo \"\"\n",
    "echo \"------------\"\n",
    "echo \"Computer Specs:\"\n",
    "echo \"\"\n",
    "lscpu\n",
    "echo \"\"\n",
    "echo \"------------\"\n",
    "echo \"\"\n",
    "echo \"Memory Specs\"\n",
    "echo \"\"\n",
    "free -mh"
   ]
  },
  {
   "cell_type": "code",
   "execution_count": null,
   "metadata": {},
   "outputs": [],
   "source": [
    "# Set working directories - %env need for bash; other needed for inter-cell directory change\n",
    "%env work_dir = /home/sam/analyses/20190606_metagenomics_ind_coverage_krona\n",
    "work_dir = \"/home/sam/analyses/20190606_metagenomics_ind_coverage_krona\"\n",
    "\n",
    "\n",
    "# BLASTx files\n",
    "%env MG1_blast = MG1_pH82.blastx.outfmt6\n",
    "%env MG2_blast = MG2_pH82.blastx.outfmt6\n",
    "%env MG3_blast = MG3_pH71.blastx.outfmt6\n",
    "%env MG5_blast = MG5_pH82.blastx.outfmt6\n",
    "%env MG6_blast = MG6_pH71.blastx.outfmt6\n",
    "%env MG7_blast = MG7_pH71.blastx.outfmt6\n",
    "\n",
    "# Coverage files\n",
    "%env MG1_coverage = MG1.coverage.txt\n",
    "%env MG2_coverage = MG2.coverage.txt\n",
    "%env MG3_coverage = MG3.coverage.txt\n",
    "%env MG5_coverage = MG5.coverage.txt\n",
    "%env MG6_coverage = MG6.coverage.txt\n",
    "%env MG7_coverage = MG7.coverage.txt"
   ]
  },
  {
   "cell_type": "code",
   "execution_count": null,
   "metadata": {},
   "outputs": [],
   "source": [
    "%%bash\n",
    "mkdir \"${work_dir}\""
   ]
  },
  {
   "cell_type": "code",
   "execution_count": null,
   "metadata": {},
   "outputs": [],
   "source": [
    "cd work_dir"
   ]
  },
  {
   "cell_type": "code",
   "execution_count": null,
   "metadata": {},
   "outputs": [],
   "source": [
    "%%bash\n",
    "# Download BLAST output files\n",
    "wget \\\n",
    "--no-directories \\\n",
    "--recursive \\\n",
    "--no-parent \\\n",
    "--quiet \\\n",
    "--accept outfmt6 \\\n",
    "http://gannet.fish.washington.edu/Atumefaciens/20190516_metagenomics_pgen_blastx/\n",
    "\n",
    "# Download coverage files\n",
    "wget \\\n",
    "--no-directories \\\n",
    "--recursive \\\n",
    "--no-parent \\\n",
    "--quiet \\\n",
    "--accept coverage.txt \\\n",
    "https://gannet.fish.washington.edu/Atumefaciens/20190327_metagenomics_pgen_megahit/\n",
    "    \n",
    "ls -ltrh"
   ]
  },
  {
   "cell_type": "code",
   "execution_count": null,
   "metadata": {},
   "outputs": [],
   "source": [
    "%%bash\n",
    "head MG1_pH82.blastx.outfmt6"
   ]
  },
  {
   "cell_type": "code",
   "execution_count": null,
   "metadata": {},
   "outputs": [],
   "source": [
    "%%bash\n",
    "head MG1.coverage.txt"
   ]
  },
  {
   "cell_type": "code",
   "execution_count": null,
   "metadata": {},
   "outputs": [],
   "source": [
    "Make new file\n",
    "awk 'NR>1 {print $1 \"\\t\" $5}' MG1.coverage.txt > MG1.name-coverage.txt \n",
    "\n",
    "\n",
    "Sorting\n",
    "\n",
    "sort -k1,1 MG1.name-coverage.txt\n",
    "sort -k1,1 MG1_pH82.blastx.outfmt6"
   ]
  },
  {
   "cell_type": "code",
   "execution_count": null,
   "metadata": {},
   "outputs": [],
   "source": [
    "%%bash\n",
    "for file in *.coverage.txt\n",
    "do\n",
    "sample=$(echo ${file} | awk -F'.' '{print $1}')\n",
    "awk 'NR>1 {print $1 \"\\t\" $5}' \"${file}\" \\\n",
    "> \"${sample}\".ID.coverage.txt\n",
    "done\n",
    "\n",
    "ls -ltrh\n",
    "\n",
    "echo \"\"\n",
    "\n",
    "head MG1.ID.coverage.txt"
   ]
  },
  {
   "cell_type": "code",
   "execution_count": null,
   "metadata": {},
   "outputs": [],
   "source": [
    "%%bash\n",
    "for file in *coverage.txt\n",
    "do\n",
    "sample=$(echo ${file} | awk -F'.' '{print $1}')\n",
    "sort -k1,1 \"${file}\" \\\n",
    "> \"${sample}\".ID.coverage.sorted.txt\n",
    "done\n",
    "\n",
    "ls -ltrh\n",
    "\n",
    "echo \"\"\n",
    "\n",
    "head MG1.ID.coverage.sorted.txt"
   ]
  },
  {
   "cell_type": "code",
   "execution_count": null,
   "metadata": {},
   "outputs": [],
   "source": [
    "%%bash\n",
    "for file in *outfmt6\n",
    "do\n",
    "sample=$(echo ${file} | awk -F'' '{print $1}')\n",
    "sort -k1,1 \"${file}\" \\\n",
    "> \"${sample}\".blastx.sorted.outfmt6\n",
    "done\n",
    "\n",
    "ls -ltrh\n",
    "\n",
    "echo \"\"\n",
    "\n",
    "head MG1_pH82.blastx.sorted.outfmt6"
   ]
  },
  {
   "cell_type": "code",
   "execution_count": null,
   "metadata": {},
   "outputs": [],
   "source": [
    "%%bash\n",
    "blastx=(MG*blastx.sorted.outfmt6)\n",
    "coverage=(MG*.ID.coverage.sorted.txt)\n",
    "for index in \"${!blastx[@]}\"\n",
    "do\n",
    "sample=$(echo \"${blastx[index]}\" | awk -F'.' '{print $1}')\n",
    "join -t $'\\t' \\\n"
   ]
  }
 ],
 "metadata": {
  "kernelspec": {
   "display_name": "Python 3",
   "language": "python",
   "name": "python3"
  },
  "language_info": {
   "codemirror_mode": {
    "name": "ipython",
    "version": 3
   },
   "file_extension": ".py",
   "mimetype": "text/x-python",
   "name": "python",
   "nbconvert_exporter": "python",
   "pygments_lexer": "ipython3",
   "version": "3.6.8"
  }
 },
 "nbformat": 4,
 "nbformat_minor": 2
}
