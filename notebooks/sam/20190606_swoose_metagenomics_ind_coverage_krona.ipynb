{
 "cells": [
  {
   "cell_type": "code",
   "execution_count": 1,
   "metadata": {},
   "outputs": [
    {
     "name": "stdout",
     "output_type": "stream",
     "text": [
      "TODAY'S DATE:\n",
      "Tue Jun 11 14:51:17 PDT 2019\n",
      "------------\n",
      "\n",
      "Distributor ID:\tUbuntu\n",
      "Description:\tUbuntu 16.04.6 LTS\n",
      "Release:\t16.04\n",
      "Codename:\txenial\n",
      "\n",
      "------------\n",
      "HOSTNAME: \n",
      "swoose\n",
      "\n",
      "------------\n",
      "Computer Specs:\n",
      "\n",
      "Architecture:          x86_64\n",
      "CPU op-mode(s):        32-bit, 64-bit\n",
      "Byte Order:            Little Endian\n",
      "CPU(s):                24\n",
      "On-line CPU(s) list:   0-23\n",
      "Thread(s) per core:    2\n",
      "Core(s) per socket:    6\n",
      "Socket(s):             2\n",
      "NUMA node(s):          1\n",
      "Vendor ID:             GenuineIntel\n",
      "CPU family:            6\n",
      "Model:                 44\n",
      "Model name:            Intel(R) Xeon(R) CPU           X5670  @ 2.93GHz\n",
      "Stepping:              2\n",
      "CPU MHz:               2926.301\n",
      "BogoMIPS:              5851.95\n",
      "Virtualization:        VT-x\n",
      "L1d cache:             32K\n",
      "L1i cache:             32K\n",
      "L2 cache:              256K\n",
      "L3 cache:              12288K\n",
      "NUMA node0 CPU(s):     0-23\n",
      "Flags:                 fpu vme de pse tsc msr pae mce cx8 apic sep mtrr pge mca cmov pat pse36 clflush dts acpi mmx fxsr sse sse2 ss ht tm pbe syscall nx pdpe1gb rdtscp lm constant_tsc arch_perfmon pebs bts rep_good nopl xtopology nonstop_tsc aperfmperf pni pclmulqdq dtes64 monitor ds_cpl vmx smx est tm2 ssse3 cx16 xtpr pdcm pcid dca sse4_1 sse4_2 popcnt aes lahf_lm epb ssbd ibrs ibpb stibp kaiser tpr_shadow vnmi flexpriority ept vpid dtherm ida arat flush_l1d\n",
      "\n",
      "------------\n",
      "\n",
      "Memory Specs\n",
      "\n",
      "              total        used        free      shared  buff/cache   available\n",
      "Mem:            70G        5.3G         58G        166M        7.4G         64G\n",
      "Swap:          4.7G          0B        4.7G\n"
     ]
    },
    {
     "name": "stderr",
     "output_type": "stream",
     "text": [
      "No LSB modules are available.\n"
     ]
    }
   ],
   "source": [
    "%%bash\n",
    "echo \"TODAY'S DATE:\"\n",
    "date\n",
    "echo \"------------\"\n",
    "echo \"\"\n",
    "#Display operating system info\n",
    "lsb_release -a\n",
    "echo \"\"\n",
    "echo \"------------\"\n",
    "echo \"HOSTNAME: \"; hostname \n",
    "echo \"\"\n",
    "echo \"------------\"\n",
    "echo \"Computer Specs:\"\n",
    "echo \"\"\n",
    "lscpu\n",
    "echo \"\"\n",
    "echo \"------------\"\n",
    "echo \"\"\n",
    "echo \"Memory Specs\"\n",
    "echo \"\"\n",
    "free -mh"
   ]
  },
  {
   "cell_type": "code",
   "execution_count": 2,
   "metadata": {},
   "outputs": [
    {
     "name": "stdout",
     "output_type": "stream",
     "text": [
      "env: work_dir=/home/sam/analyses/20190606_metagenomics_ind_coverage_krona\n",
      "env: MG1_blast=MG1_pH82.blastx.outfmt6\n",
      "env: MG2_blast=MG2_pH82.blastx.outfmt6\n",
      "env: MG3_blast=MG3_pH71.blastx.outfmt6\n",
      "env: MG5_blast=MG5_pH82.blastx.outfmt6\n",
      "env: MG6_blast=MG6_pH71.blastx.outfmt6\n",
      "env: MG7_blast=MG7_pH71.blastx.outfmt6\n",
      "env: MG1_coverage=MG1.coverage.txt\n",
      "env: MG2_coverage=MG2.coverage.txt\n",
      "env: MG3_coverage=MG3.coverage.txt\n",
      "env: MG5_coverage=MG5.coverage.txt\n",
      "env: MG6_coverage=MG6.coverage.txt\n",
      "env: MG7_coverage=MG7.coverage.txt\n"
     ]
    }
   ],
   "source": [
    "# Set working directories - %env need for bash; other needed for inter-cell directory change\n",
    "%env work_dir = /home/sam/analyses/20190606_metagenomics_ind_coverage_krona\n",
    "work_dir = \"/home/sam/analyses/20190606_metagenomics_ind_coverage_krona\""
   ]
  },
  {
   "cell_type": "code",
   "execution_count": 3,
   "metadata": {},
   "outputs": [],
   "source": [
    "%%bash\n",
    "mkdir --parents \"${work_dir}\""
   ]
  },
  {
   "cell_type": "code",
   "execution_count": 6,
   "metadata": {},
   "outputs": [
    {
     "name": "stdout",
     "output_type": "stream",
     "text": [
      "/home/sam/analyses/20190606_metagenomics_ind_coverage_krona\n"
     ]
    }
   ],
   "source": [
    "cd $work_dir"
   ]
  },
  {
   "cell_type": "code",
   "execution_count": 7,
   "metadata": {},
   "outputs": [
    {
     "name": "stdout",
     "output_type": "stream",
     "text": [
      "total 505M\n",
      "-rw-rw-r-- 1 sam sam 65M Mar 28 11:36 MG1.coverage.txt\n",
      "-rw-rw-r-- 1 sam sam 64M Mar 28 15:32 MG2.coverage.txt\n",
      "-rw-rw-r-- 1 sam sam 73M Mar 28 19:55 MG3.coverage.txt\n",
      "-rw-rw-r-- 1 sam sam 43M Mar 28 22:53 MG5.coverage.txt\n",
      "-rw-rw-r-- 1 sam sam 49M Mar 29 02:02 MG6.coverage.txt\n",
      "-rw-rw-r-- 1 sam sam 61M Mar 29 05:43 MG7.coverage.txt\n",
      "-rw-rw-r-- 1 sam sam 30M May 17 15:41 MG1_pH82.blastx.outfmt6\n",
      "-rw-rw-r-- 1 sam sam 28M May 18 14:21 MG2_pH82.blastx.outfmt6\n",
      "-rw-rw-r-- 1 sam sam 16M May 19 21:26 MG3_pH71.blastx.outfmt6\n",
      "-rw-rw-r-- 1 sam sam 22M May 20 14:07 MG5_pH82.blastx.outfmt6\n",
      "-rw-rw-r-- 1 sam sam 26M May 21 09:58 MG6_pH71.blastx.outfmt6\n",
      "-rw-rw-r-- 1 sam sam 33M May 22 09:36 MG7_pH71.blastx.outfmt6\n"
     ]
    }
   ],
   "source": [
    "%%bash\n",
    "# Download BLAST output files\n",
    "wget \\\n",
    "--no-directories \\\n",
    "--recursive \\\n",
    "--no-parent \\\n",
    "--quiet \\\n",
    "--accept outfmt6 \\\n",
    "http://gannet.fish.washington.edu/Atumefaciens/20190516_metagenomics_pgen_blastx/\n",
    "\n",
    "# Download coverage files\n",
    "wget \\\n",
    "--no-directories \\\n",
    "--recursive \\\n",
    "--no-parent \\\n",
    "--quiet \\\n",
    "--accept coverage.txt \\\n",
    "https://gannet.fish.washington.edu/Atumefaciens/20190327_metagenomics_pgen_megahit/\n",
    "    \n",
    "ls -ltrh"
   ]
  },
  {
   "cell_type": "markdown",
   "metadata": {},
   "source": [
    "#### Check out BLASTx file format"
   ]
  },
  {
   "cell_type": "code",
   "execution_count": 8,
   "metadata": {},
   "outputs": [
    {
     "name": "stdout",
     "output_type": "stream",
     "text": [
      "k141_3\tP20315.1\t39.286\t112\t64\t1\t324\t1\t211\t322\t2.07e-15\t73.6\t10759\tEnterobacteria phage T3\n",
      "k141_7\tP35675.1\t49.587\t121\t61\t0\t6\t368\t20\t140\t6.22e-38\t128\t552\tErwinia amylovora\n",
      "k141_9\tP37247.1\t45.312\t128\t70\t0\t384\t1\t175\t302\t4.74e-30\t112\t817\tBacteroides fragilis\n",
      "k141_10\tO86428.2\t57.724\t123\t52\t0\t370\t2\t44\t166\t1.18e-49\t162\t208964\tPseudomonas aeruginosa PAO1\n",
      "k141_16\tP23883.2\t52.174\t184\t81\t3\t4\t543\t124\t304\t1.48e-59\t196\t83333\tEscherichia coli K-12\n",
      "k141_18\tP77810.1\t54.783\t115\t52\t0\t202\t546\t16\t130\t8.58e-37\t137\t192\tAzospirillum brasilense\n",
      "k141_23\tQ6L5C4.1\t33.218\t289\t107\t9\t2153\t1296\t236\t441\t3.69e-28\t122\t39947\tOryza sativa Japonica Group\n",
      "k141_25\tP24918.2\t74.869\t191\t46\t1\t2\t568\t81\t271\t5.69e-102\t312\t367110\tNeurospora crassa OR74A\n",
      "k141_27\tP23883.2\t51.948\t154\t74\t0\t464\t3\t107\t260\t3.31e-53\t178\t83333\tEscherichia coli K-12\n",
      "k141_30\tQ2LVI3.1\t35.811\t148\t95\t0\t452\t9\t102\t249\t8.51e-31\t117\t56780\tSyntrophus aciditrophicus SB\n"
     ]
    }
   ],
   "source": [
    "%%bash\n",
    "head MG1_pH82.blastx.outfmt6"
   ]
  },
  {
   "cell_type": "markdown",
   "metadata": {},
   "source": [
    "#### Checkout coverage file format"
   ]
  },
  {
   "cell_type": "code",
   "execution_count": 9,
   "metadata": {},
   "outputs": [
    {
     "name": "stdout",
     "output_type": "stream",
     "text": [
      "#ID\tAvg_fold\tLength\tRef_GC\tCovered_percent\tCovered_bases\tPlus_reads\tMinus_reads\tRead_GC\tMedian_fold\tStd_Dev\n",
      "k141_2 flag=1 multi=3.0000 len=304\t3.8257\t304\t0.0000\t100.0000\t304\t6\t3\t0.4084\t4\t1.03\n",
      "k141_3 flag=1 multi=3.0000 len=325\t3.9569\t325\t0.0000\t100.0000\t325\t5\t5\t0.5342\t5\t1.70\n",
      "k141_4 flag=1 multi=3.0000 len=334\t3.5749\t334\t0.0000\t100.0000\t334\t4\t6\t0.3836\t3\t1.34\n",
      "k141_5 flag=1 multi=11.0000 len=315\t8.6984\t315\t0.0000\t100.0000\t315\t12\t11\t0.3119\t9\t3.08\n",
      "k141_6 flag=1 multi=3.0000 len=367\t4.2480\t367\t0.0000\t100.0000\t367\t7\t9\t0.3532\t3\t3.26\n",
      "k141_7 flag=1 multi=7.0000 len=370\t8.1216\t370\t0.0000\t100.0000\t370\t13\t14\t0.3438\t7\t3.90\n",
      "k141_8 flag=3 multi=2.0286 len=211\t1.6303\t211\t0.0000\t82.9384\t175\t2\t2\t0.5814\t2\t0.95\n",
      "k141_9 flag=1 multi=3.0000 len=386\t3.9819\t386\t0.0000\t100.0000\t386\t6\t6\t0.3591\t4\t1.60\n",
      "k141_10 flag=1 multi=1.0000 len=370\t19.6270\t370\t0.0000\t100.0000\t370\t51\t31\t0.4142\t21\t9.22\n"
     ]
    }
   ],
   "source": [
    "%%bash\n",
    "head MG1.coverage.txt"
   ]
  },
  {
   "cell_type": "markdown",
   "metadata": {},
   "source": [
    "### Loop through coverage files to get sorted query ID and coverage info"
   ]
  },
  {
   "cell_type": "code",
   "execution_count": 15,
   "metadata": {},
   "outputs": [
    {
     "name": "stdout",
     "output_type": "stream",
     "text": [
      "total 578M\n",
      "-rw-rw-r-- 1 sam sam  65M Mar 28 11:36 MG1.coverage.txt\n",
      "-rw-rw-r-- 1 sam sam  64M Mar 28 15:32 MG2.coverage.txt\n",
      "-rw-rw-r-- 1 sam sam  73M Mar 28 19:55 MG3.coverage.txt\n",
      "-rw-rw-r-- 1 sam sam  43M Mar 28 22:53 MG5.coverage.txt\n",
      "-rw-rw-r-- 1 sam sam  49M Mar 29 02:02 MG6.coverage.txt\n",
      "-rw-rw-r-- 1 sam sam  61M Mar 29 05:43 MG7.coverage.txt\n",
      "-rw-rw-r-- 1 sam sam  30M May 17 15:41 MG1_pH82.blastx.outfmt6\n",
      "-rw-rw-r-- 1 sam sam  28M May 18 14:21 MG2_pH82.blastx.outfmt6\n",
      "-rw-rw-r-- 1 sam sam  16M May 19 21:26 MG3_pH71.blastx.outfmt6\n",
      "-rw-rw-r-- 1 sam sam  22M May 20 14:07 MG5_pH82.blastx.outfmt6\n",
      "-rw-rw-r-- 1 sam sam  26M May 21 09:58 MG6_pH71.blastx.outfmt6\n",
      "-rw-rw-r-- 1 sam sam  33M May 22 09:36 MG7_pH71.blastx.outfmt6\n",
      "-rw-rw-r-- 1 sam sam  14M Jun 11 14:59 MG1.ID.coverage.sorted.txt\n",
      "-rw-rw-r-- 1 sam sam  14M Jun 11 14:59 MG2.ID.coverage.sorted.txt\n",
      "-rw-rw-r-- 1 sam sam  16M Jun 11 14:59 MG3.ID.coverage.sorted.txt\n",
      "-rw-rw-r-- 1 sam sam 8.9M Jun 11 14:59 MG5.ID.coverage.sorted.txt\n",
      "-rw-rw-r-- 1 sam sam  11M Jun 11 14:59 MG6.ID.coverage.sorted.txt\n",
      "-rw-rw-r-- 1 sam sam  13M Jun 11 14:59 MG7.ID.coverage.sorted.txt\n",
      "\n",
      "k141_10\t19.6270\n",
      "k141_100\t6.4182\n",
      "k141_1000\t191.3530\n",
      "k141_10000\t6.3785\n",
      "k141_100000\t11.8115\n",
      "k141_100001\t19.4566\n",
      "k141_100002\t5.6765\n",
      "k141_100003\t8.6479\n",
      "k141_100004\t2.4945\n",
      "k141_100005\t53.2919\n"
     ]
    }
   ],
   "source": [
    "%%bash\n",
    "for file in *.coverage.txt\n",
    "do\n",
    "\n",
    "# Parses sample name\n",
    "sample=$(echo ${file} | awk -F'.' '{print $1}')\n",
    "\n",
    "# Skips header line and prints ID and coverage\n",
    "# Sort by first column only\n",
    "awk 'NR>1 {print $1 \"\\t\" $5}' \"${file}\" \\\n",
    "| sort -k1,1 \\\n",
    "> \"${sample}\".ID.coverage.sorted.txt\n",
    "done\n",
    "\n",
    "ls -ltrh\n",
    "\n",
    "echo \"\"\n",
    "\n",
    "# Check output format\n",
    "head MG1.ID.coverage.sorted.txt"
   ]
  },
  {
   "cell_type": "markdown",
   "metadata": {},
   "source": [
    "### Sort BLASTx output files in preparation for joining with sorted coverage files."
   ]
  },
  {
   "cell_type": "code",
   "execution_count": 19,
   "metadata": {},
   "outputs": [
    {
     "name": "stdout",
     "output_type": "stream",
     "text": [
      "total 731M\n",
      "-rw-rw-r-- 1 sam sam  65M Mar 28 11:36 MG1.coverage.txt\n",
      "-rw-rw-r-- 1 sam sam  64M Mar 28 15:32 MG2.coverage.txt\n",
      "-rw-rw-r-- 1 sam sam  73M Mar 28 19:55 MG3.coverage.txt\n",
      "-rw-rw-r-- 1 sam sam  43M Mar 28 22:53 MG5.coverage.txt\n",
      "-rw-rw-r-- 1 sam sam  49M Mar 29 02:02 MG6.coverage.txt\n",
      "-rw-rw-r-- 1 sam sam  61M Mar 29 05:43 MG7.coverage.txt\n",
      "-rw-rw-r-- 1 sam sam  30M May 17 15:41 MG1_pH82.blastx.outfmt6\n",
      "-rw-rw-r-- 1 sam sam  28M May 18 14:21 MG2_pH82.blastx.outfmt6\n",
      "-rw-rw-r-- 1 sam sam  16M May 19 21:26 MG3_pH71.blastx.outfmt6\n",
      "-rw-rw-r-- 1 sam sam  22M May 20 14:07 MG5_pH82.blastx.outfmt6\n",
      "-rw-rw-r-- 1 sam sam  26M May 21 09:58 MG6_pH71.blastx.outfmt6\n",
      "-rw-rw-r-- 1 sam sam  33M May 22 09:36 MG7_pH71.blastx.outfmt6\n",
      "-rw-rw-r-- 1 sam sam  14M Jun 11 14:59 MG1.ID.coverage.sorted.txt\n",
      "-rw-rw-r-- 1 sam sam  14M Jun 11 14:59 MG2.ID.coverage.sorted.txt\n",
      "-rw-rw-r-- 1 sam sam  16M Jun 11 14:59 MG3.ID.coverage.sorted.txt\n",
      "-rw-rw-r-- 1 sam sam 8.9M Jun 11 14:59 MG5.ID.coverage.sorted.txt\n",
      "-rw-rw-r-- 1 sam sam  11M Jun 11 14:59 MG6.ID.coverage.sorted.txt\n",
      "-rw-rw-r-- 1 sam sam  13M Jun 11 14:59 MG7.ID.coverage.sorted.txt\n",
      "-rw-rw-r-- 1 sam sam    0 Jun 11 15:01 MG1.blastx.sorted.outfmt6\n",
      "-rw-rw-r-- 1 sam sam  30M Jun 11 15:01 MG1_pH82.blastx.sorted.outfmt6\n",
      "-rw-rw-r-- 1 sam sam    0 Jun 11 15:01 MG2.blastx.sorted.outfmt6\n",
      "-rw-rw-r-- 1 sam sam  28M Jun 11 15:01 MG2_pH82.blastx.sorted.outfmt6\n",
      "-rw-rw-r-- 1 sam sam    0 Jun 11 15:01 MG3.blastx.sorted.outfmt6\n",
      "-rw-rw-r-- 1 sam sam  16M Jun 11 15:01 MG3_pH71.blastx.sorted.outfmt6\n",
      "-rw-rw-r-- 1 sam sam    0 Jun 11 15:01 MG5.blastx.sorted.outfmt6\n",
      "-rw-rw-r-- 1 sam sam  22M Jun 11 15:01 MG5_pH82.blastx.sorted.outfmt6\n",
      "-rw-rw-r-- 1 sam sam    0 Jun 11 15:01 MG6.blastx.sorted.outfmt6\n",
      "-rw-rw-r-- 1 sam sam  26M Jun 11 15:01 MG6_pH71.blastx.sorted.outfmt6\n",
      "-rw-rw-r-- 1 sam sam    0 Jun 11 15:01 MG7.blastx.sorted.outfmt6\n",
      "-rw-rw-r-- 1 sam sam  33M Jun 11 15:01 MG7_pH71.blastx.sorted.outfmt6\n",
      "\n",
      "k141_10\tO86428.2\t57.724\t123\t52\t0\t370\t2\t44\t166\t1.18e-49\t162\t208964\tPseudomonas aeruginosa PAO1\n",
      "k141_100001\tQ98G09.1\t59.223\t103\t42\t0\t3\t311\t75\t177\t1.25e-46\t156\t266835\tMesorhizobium japonicum MAFF 303099\n",
      "k141_100006\tQ0TUZ2.1\t45.946\t111\t60\t0\t398\t66\t271\t381\t9.09e-26\t104\t195103\tClostridium perfringens ATCC 13124\n",
      "k141_100010\tP0A0Z5.1\t29.801\t151\t100\t3\t460\t11\t300\t445\t6.75e-14\t71.2\t122587\tNeisseria meningitidis Z2491\n",
      "k141_100015\tO67178.1\t26.904\t394\t272\t6\t148\t1290\t331\t721\t6.37e-39\t154\t224324\tAquifex aeolicus VF5\n",
      "k141_100016\tG3XD46.1\t50.588\t85\t41\t1\t529\t278\t474\t558\t5.06e-20\t89.7\t208964\tPseudomonas aeruginosa PAO1\n",
      "k141_100017\tA1TYU8.1\t49.042\t261\t122\t2\t759\t1\t1\t258\t1.21e-82\t261\t351348\tMarinobacter hydrocarbonoclasticus VT8\n",
      "k141_100020\tP0AE52.1\t34.586\t133\t79\t2\t761\t384\t4\t135\t1.90e-14\t72.4\t83333\tEscherichia coli K-12\n",
      "k141_100022\tO85133.1\t56.000\t100\t44\t0\t302\t3\t144\t243\t8.22e-34\t120\t1063\tRhodobacter sphaeroides\n",
      "k141_100023\tQ9M2U3.1\t29.259\t270\t165\t7\t3744\t4517\t72\t327\t5.11e-21\t101\t3702\tArabidopsis thaliana\n"
     ]
    }
   ],
   "source": [
    "%%bash\n",
    "for file in *outfmt6\n",
    "do\n",
    "# Parse sample name\n",
    "sample=$(echo ${file} | awk -F'.' '{print $1}')\n",
    "sort -k1,1 \"${file}\" \\\n",
    "> \"${sample}\".blastx.sorted.outfmt6\n",
    "done\n",
    "\n",
    "ls -ltrh\n",
    "\n",
    "echo \"\"\n",
    "\n",
    "head MG1_pH82.blastx.sorted.outfmt6"
   ]
  },
  {
   "cell_type": "markdown",
   "metadata": {},
   "source": [
    "### Create blastx and coverage file arrays for looping"
   ]
  },
  {
   "cell_type": "code",
   "execution_count": 22,
   "metadata": {},
   "outputs": [
    {
     "name": "stderr",
     "output_type": "stream",
     "text": [
      "bash: line 25: syntax error: unexpected end of file\n"
     ]
    },
    {
     "ename": "CalledProcessError",
     "evalue": "Command 'b'\\n# Array of all sorted blastx output files\\nblastx=(MG*.blastx.sorted.outfmt6)\\n\\n# Array of all sorted coverage files\\ncoverage=(MG*.ID.coverage.sorted.txt)\\n\\n\\n\\n# Join with tab-delimiter\\n# Output column 1 from the first file, column 13 from 2nd file, column 2 from first file\\nfor index in \"${!blastx[@]}\"\\ndo\\nsample=$(echo \"${blastx[index]}\" | awk -F\\'.\\' \\'{print $1}\\')\\njoin -t $\\'\\\\t\\' \\\\\\n-o 1.1,2.13,1.2 \\\\\\n\"${coverage[index]}\" \"${blastx[index]}\" \\\\\\n> \"${sample}\".krona-coverage.tsv\\n\\nls -ltrh\\n\\necho \"\"\\n\\nhead MG1.krona-coverage.tsv\\n'' returned non-zero exit status 2.",
     "output_type": "error",
     "traceback": [
      "\u001b[0;31m---------------------------------------------------------------------------\u001b[0m",
      "\u001b[0;31mCalledProcessError\u001b[0m                        Traceback (most recent call last)",
      "\u001b[0;32m<ipython-input-22-1412882ad80b>\u001b[0m in \u001b[0;36m<module>\u001b[0;34m\u001b[0m\n\u001b[0;32m----> 1\u001b[0;31m \u001b[0mget_ipython\u001b[0m\u001b[0;34m(\u001b[0m\u001b[0;34m)\u001b[0m\u001b[0;34m.\u001b[0m\u001b[0mrun_cell_magic\u001b[0m\u001b[0;34m(\u001b[0m\u001b[0;34m'bash'\u001b[0m\u001b[0;34m,\u001b[0m \u001b[0;34m''\u001b[0m\u001b[0;34m,\u001b[0m \u001b[0;34m'\\n# Array of all sorted blastx output files\\nblastx=(MG*.blastx.sorted.outfmt6)\\n\\n# Array of all sorted coverage files\\ncoverage=(MG*.ID.coverage.sorted.txt)\\n\\n\\n\\n# Join with tab-delimiter\\n# Output column 1 from the first file, column 13 from 2nd file, column 2 from first file\\nfor index in \"${!blastx[@]}\"\\ndo\\nsample=$(echo \"${blastx[index]}\" | awk -F\\'.\\' \\'{print $1}\\')\\njoin -t $\\'\\\\t\\' \\\\\\n-o 1.1,2.13,1.2 \\\\\\n\"${coverage[index]}\" \"${blastx[index]}\" \\\\\\n> \"${sample}\".krona-coverage.tsv\\n\\nls -ltrh\\n\\necho \"\"\\n\\nhead MG1.krona-coverage.tsv\\n'\u001b[0m\u001b[0;34m)\u001b[0m\u001b[0;34m\u001b[0m\u001b[0;34m\u001b[0m\u001b[0m\n\u001b[0m",
      "\u001b[0;32m~/programs/minicocnda3/lib/python3.6/site-packages/IPython/core/interactiveshell.py\u001b[0m in \u001b[0;36mrun_cell_magic\u001b[0;34m(self, magic_name, line, cell)\u001b[0m\n\u001b[1;32m   2350\u001b[0m             \u001b[0;32mwith\u001b[0m \u001b[0mself\u001b[0m\u001b[0;34m.\u001b[0m\u001b[0mbuiltin_trap\u001b[0m\u001b[0;34m:\u001b[0m\u001b[0;34m\u001b[0m\u001b[0;34m\u001b[0m\u001b[0m\n\u001b[1;32m   2351\u001b[0m                 \u001b[0margs\u001b[0m \u001b[0;34m=\u001b[0m \u001b[0;34m(\u001b[0m\u001b[0mmagic_arg_s\u001b[0m\u001b[0;34m,\u001b[0m \u001b[0mcell\u001b[0m\u001b[0;34m)\u001b[0m\u001b[0;34m\u001b[0m\u001b[0;34m\u001b[0m\u001b[0m\n\u001b[0;32m-> 2352\u001b[0;31m                 \u001b[0mresult\u001b[0m \u001b[0;34m=\u001b[0m \u001b[0mfn\u001b[0m\u001b[0;34m(\u001b[0m\u001b[0;34m*\u001b[0m\u001b[0margs\u001b[0m\u001b[0;34m,\u001b[0m \u001b[0;34m**\u001b[0m\u001b[0mkwargs\u001b[0m\u001b[0;34m)\u001b[0m\u001b[0;34m\u001b[0m\u001b[0;34m\u001b[0m\u001b[0m\n\u001b[0m\u001b[1;32m   2353\u001b[0m             \u001b[0;32mreturn\u001b[0m \u001b[0mresult\u001b[0m\u001b[0;34m\u001b[0m\u001b[0;34m\u001b[0m\u001b[0m\n\u001b[1;32m   2354\u001b[0m \u001b[0;34m\u001b[0m\u001b[0m\n",
      "\u001b[0;32m~/programs/minicocnda3/lib/python3.6/site-packages/IPython/core/magics/script.py\u001b[0m in \u001b[0;36mnamed_script_magic\u001b[0;34m(line, cell)\u001b[0m\n\u001b[1;32m    140\u001b[0m             \u001b[0;32melse\u001b[0m\u001b[0;34m:\u001b[0m\u001b[0;34m\u001b[0m\u001b[0;34m\u001b[0m\u001b[0m\n\u001b[1;32m    141\u001b[0m                 \u001b[0mline\u001b[0m \u001b[0;34m=\u001b[0m \u001b[0mscript\u001b[0m\u001b[0;34m\u001b[0m\u001b[0;34m\u001b[0m\u001b[0m\n\u001b[0;32m--> 142\u001b[0;31m             \u001b[0;32mreturn\u001b[0m \u001b[0mself\u001b[0m\u001b[0;34m.\u001b[0m\u001b[0mshebang\u001b[0m\u001b[0;34m(\u001b[0m\u001b[0mline\u001b[0m\u001b[0;34m,\u001b[0m \u001b[0mcell\u001b[0m\u001b[0;34m)\u001b[0m\u001b[0;34m\u001b[0m\u001b[0;34m\u001b[0m\u001b[0m\n\u001b[0m\u001b[1;32m    143\u001b[0m \u001b[0;34m\u001b[0m\u001b[0m\n\u001b[1;32m    144\u001b[0m         \u001b[0;31m# write a basic docstring:\u001b[0m\u001b[0;34m\u001b[0m\u001b[0;34m\u001b[0m\u001b[0;34m\u001b[0m\u001b[0m\n",
      "\u001b[0;32m</home/sam/programs/minicocnda3/lib/python3.6/site-packages/decorator.py:decorator-gen-110>\u001b[0m in \u001b[0;36mshebang\u001b[0;34m(self, line, cell)\u001b[0m\n",
      "\u001b[0;32m~/programs/minicocnda3/lib/python3.6/site-packages/IPython/core/magic.py\u001b[0m in \u001b[0;36m<lambda>\u001b[0;34m(f, *a, **k)\u001b[0m\n\u001b[1;32m    185\u001b[0m     \u001b[0;31m# but it's overkill for just that one bit of state.\u001b[0m\u001b[0;34m\u001b[0m\u001b[0;34m\u001b[0m\u001b[0;34m\u001b[0m\u001b[0m\n\u001b[1;32m    186\u001b[0m     \u001b[0;32mdef\u001b[0m \u001b[0mmagic_deco\u001b[0m\u001b[0;34m(\u001b[0m\u001b[0marg\u001b[0m\u001b[0;34m)\u001b[0m\u001b[0;34m:\u001b[0m\u001b[0;34m\u001b[0m\u001b[0;34m\u001b[0m\u001b[0m\n\u001b[0;32m--> 187\u001b[0;31m         \u001b[0mcall\u001b[0m \u001b[0;34m=\u001b[0m \u001b[0;32mlambda\u001b[0m \u001b[0mf\u001b[0m\u001b[0;34m,\u001b[0m \u001b[0;34m*\u001b[0m\u001b[0ma\u001b[0m\u001b[0;34m,\u001b[0m \u001b[0;34m**\u001b[0m\u001b[0mk\u001b[0m\u001b[0;34m:\u001b[0m \u001b[0mf\u001b[0m\u001b[0;34m(\u001b[0m\u001b[0;34m*\u001b[0m\u001b[0ma\u001b[0m\u001b[0;34m,\u001b[0m \u001b[0;34m**\u001b[0m\u001b[0mk\u001b[0m\u001b[0;34m)\u001b[0m\u001b[0;34m\u001b[0m\u001b[0;34m\u001b[0m\u001b[0m\n\u001b[0m\u001b[1;32m    188\u001b[0m \u001b[0;34m\u001b[0m\u001b[0m\n\u001b[1;32m    189\u001b[0m         \u001b[0;32mif\u001b[0m \u001b[0mcallable\u001b[0m\u001b[0;34m(\u001b[0m\u001b[0marg\u001b[0m\u001b[0;34m)\u001b[0m\u001b[0;34m:\u001b[0m\u001b[0;34m\u001b[0m\u001b[0;34m\u001b[0m\u001b[0m\n",
      "\u001b[0;32m~/programs/minicocnda3/lib/python3.6/site-packages/IPython/core/magics/script.py\u001b[0m in \u001b[0;36mshebang\u001b[0;34m(self, line, cell)\u001b[0m\n\u001b[1;32m    243\u001b[0m             \u001b[0msys\u001b[0m\u001b[0;34m.\u001b[0m\u001b[0mstderr\u001b[0m\u001b[0;34m.\u001b[0m\u001b[0mflush\u001b[0m\u001b[0;34m(\u001b[0m\u001b[0;34m)\u001b[0m\u001b[0;34m\u001b[0m\u001b[0;34m\u001b[0m\u001b[0m\n\u001b[1;32m    244\u001b[0m         \u001b[0;32mif\u001b[0m \u001b[0margs\u001b[0m\u001b[0;34m.\u001b[0m\u001b[0mraise_error\u001b[0m \u001b[0;32mand\u001b[0m \u001b[0mp\u001b[0m\u001b[0;34m.\u001b[0m\u001b[0mreturncode\u001b[0m\u001b[0;34m!=\u001b[0m\u001b[0;36m0\u001b[0m\u001b[0;34m:\u001b[0m\u001b[0;34m\u001b[0m\u001b[0;34m\u001b[0m\u001b[0m\n\u001b[0;32m--> 245\u001b[0;31m             \u001b[0;32mraise\u001b[0m \u001b[0mCalledProcessError\u001b[0m\u001b[0;34m(\u001b[0m\u001b[0mp\u001b[0m\u001b[0;34m.\u001b[0m\u001b[0mreturncode\u001b[0m\u001b[0;34m,\u001b[0m \u001b[0mcell\u001b[0m\u001b[0;34m,\u001b[0m \u001b[0moutput\u001b[0m\u001b[0;34m=\u001b[0m\u001b[0mout\u001b[0m\u001b[0;34m,\u001b[0m \u001b[0mstderr\u001b[0m\u001b[0;34m=\u001b[0m\u001b[0merr\u001b[0m\u001b[0;34m)\u001b[0m\u001b[0;34m\u001b[0m\u001b[0;34m\u001b[0m\u001b[0m\n\u001b[0m\u001b[1;32m    246\u001b[0m \u001b[0;34m\u001b[0m\u001b[0m\n\u001b[1;32m    247\u001b[0m     \u001b[0;32mdef\u001b[0m \u001b[0m_run_script\u001b[0m\u001b[0;34m(\u001b[0m\u001b[0mself\u001b[0m\u001b[0;34m,\u001b[0m \u001b[0mp\u001b[0m\u001b[0;34m,\u001b[0m \u001b[0mcell\u001b[0m\u001b[0;34m,\u001b[0m \u001b[0mto_close\u001b[0m\u001b[0;34m)\u001b[0m\u001b[0;34m:\u001b[0m\u001b[0;34m\u001b[0m\u001b[0;34m\u001b[0m\u001b[0m\n",
      "\u001b[0;31mCalledProcessError\u001b[0m: Command 'b'\\n# Array of all sorted blastx output files\\nblastx=(MG*.blastx.sorted.outfmt6)\\n\\n# Array of all sorted coverage files\\ncoverage=(MG*.ID.coverage.sorted.txt)\\n\\n\\n\\n# Join with tab-delimiter\\n# Output column 1 from the first file, column 13 from 2nd file, column 2 from first file\\nfor index in \"${!blastx[@]}\"\\ndo\\nsample=$(echo \"${blastx[index]}\" | awk -F\\'.\\' \\'{print $1}\\')\\njoin -t $\\'\\\\t\\' \\\\\\n-o 1.1,2.13,1.2 \\\\\\n\"${coverage[index]}\" \"${blastx[index]}\" \\\\\\n> \"${sample}\".krona-coverage.tsv\\n\\nls -ltrh\\n\\necho \"\"\\n\\nhead MG1.krona-coverage.tsv\\n'' returned non-zero exit status 2."
     ]
    }
   ],
   "source": [
    "%%bash\n",
    "\n",
    "# Array of all sorted blastx output files\n",
    "blastx=(MG*.blastx.sorted.outfmt6)\n",
    "\n",
    "# Array of all sorted coverage files\n",
    "coverage=(MG*.ID.coverage.sorted.txt)\n",
    "\n",
    "\n",
    "\n",
    "# Join with tab-delimiter\n",
    "# Output column 1 from the first file, column 13 from 2nd file, column 2 from first file\n",
    "for index in \"${!blastx[@]}\"\n",
    "do\n",
    "sample=$(echo \"${blastx[index]}\" | awk -F'.' '{print $1}')\n",
    "join -t $'\\t' \\\n",
    "-o 1.1,2.13,1.2 \\\n",
    "\"${coverage[index]}\" \"${blastx[index]}\" \\\n",
    "> \"${sample}\".krona-coverage.tsv\n",
    "\n",
    "ls -ltrh\n",
    "\n",
    "echo \"\"\n",
    "\n",
    "head MG1.krona-coverage.tsv"
   ]
  },
  {
   "cell_type": "code",
   "execution_count": null,
   "metadata": {},
   "outputs": [],
   "source": []
  }
 ],
 "metadata": {
  "kernelspec": {
   "display_name": "Python 3",
   "language": "python",
   "name": "python3"
  },
  "language_info": {
   "codemirror_mode": {
    "name": "ipython",
    "version": 3
   },
   "file_extension": ".py",
   "mimetype": "text/x-python",
   "name": "python",
   "nbconvert_exporter": "python",
   "pygments_lexer": "ipython3",
   "version": "3.7.1"
  }
 },
 "nbformat": 4,
 "nbformat_minor": 2
}
