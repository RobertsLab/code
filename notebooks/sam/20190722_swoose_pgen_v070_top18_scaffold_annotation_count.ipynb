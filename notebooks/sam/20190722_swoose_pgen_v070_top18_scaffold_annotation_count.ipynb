{
 "cells": [
  {
   "cell_type": "markdown",
   "metadata": {},
   "source": [
    "### Check Pgenerosa_v070 Top 18 Scaffold Transcript Annotation Count"
   ]
  },
  {
   "cell_type": "code",
   "execution_count": 1,
   "metadata": {},
   "outputs": [
    {
     "name": "stdout",
     "output_type": "stream",
     "text": [
      "TODAY'S DATE:\n",
      "Mon Jul 22 10:51:39 PDT 2019\n",
      "------------\n",
      "\n",
      "Distributor ID:\tUbuntu\n",
      "Description:\tUbuntu 16.04.6 LTS\n",
      "Release:\t16.04\n",
      "Codename:\txenial\n",
      "\n",
      "------------\n",
      "HOSTNAME: \n",
      "swoose\n",
      "\n",
      "------------\n",
      "Computer Specs:\n",
      "\n",
      "Architecture:          x86_64\n",
      "CPU op-mode(s):        32-bit, 64-bit\n",
      "Byte Order:            Little Endian\n",
      "CPU(s):                24\n",
      "On-line CPU(s) list:   0-23\n",
      "Thread(s) per core:    2\n",
      "Core(s) per socket:    6\n",
      "Socket(s):             2\n",
      "NUMA node(s):          1\n",
      "Vendor ID:             GenuineIntel\n",
      "CPU family:            6\n",
      "Model:                 44\n",
      "Model name:            Intel(R) Xeon(R) CPU           X5670  @ 2.93GHz\n",
      "Stepping:              2\n",
      "CPU MHz:               2926.094\n",
      "BogoMIPS:              5851.96\n",
      "Virtualization:        VT-x\n",
      "L1d cache:             32K\n",
      "L1i cache:             32K\n",
      "L2 cache:              256K\n",
      "L3 cache:              12288K\n",
      "NUMA node0 CPU(s):     0-23\n",
      "Flags:                 fpu vme de pse tsc msr pae mce cx8 apic sep mtrr pge mca cmov pat pse36 clflush dts acpi mmx fxsr sse sse2 ss ht tm pbe syscall nx pdpe1gb rdtscp lm constant_tsc arch_perfmon pebs bts rep_good nopl xtopology nonstop_tsc aperfmperf pni pclmulqdq dtes64 monitor ds_cpl vmx smx est tm2 ssse3 cx16 xtpr pdcm pcid dca sse4_1 sse4_2 popcnt aes lahf_lm epb ssbd ibrs ibpb stibp kaiser tpr_shadow vnmi flexpriority ept vpid dtherm ida arat flush_l1d\n",
      "\n",
      "------------\n",
      "\n",
      "Memory Specs\n",
      "\n",
      "              total        used        free      shared  buff/cache   available\n",
      "Mem:            70G         20G        5.6G        1.5G         44G         47G\n",
      "Swap:          4.7G        131M        4.5G\n"
     ]
    },
    {
     "name": "stderr",
     "output_type": "stream",
     "text": [
      "No LSB modules are available.\n"
     ]
    }
   ],
   "source": [
    "%%bash\n",
    "echo \"TODAY'S DATE:\"\n",
    "date\n",
    "echo \"------------\"\n",
    "echo \"\"\n",
    "#Display operating system info\n",
    "lsb_release -a\n",
    "echo \"\"\n",
    "echo \"------------\"\n",
    "echo \"HOSTNAME: \"; hostname \n",
    "echo \"\"\n",
    "echo \"------------\"\n",
    "echo \"Computer Specs:\"\n",
    "echo \"\"\n",
    "lscpu\n",
    "echo \"\"\n",
    "echo \"------------\"\n",
    "echo \"\"\n",
    "echo \"Memory Specs\"\n",
    "echo \"\"\n",
    "free -mh"
   ]
  },
  {
   "cell_type": "code",
   "execution_count": 2,
   "metadata": {},
   "outputs": [
    {
     "name": "stdout",
     "output_type": "stream",
     "text": [
      "env: work_dir=/home/sam/analyses/20190722_pgen_v070_top18_scaffold_annotation_counts\n"
     ]
    }
   ],
   "source": [
    "# Set working directory - %env is useful for bash\n",
    "%env work_dir = /home/sam/analyses/20190722_pgen_v070_top18_scaffold_annotation_counts\n",
    "work_dir = \"/home/sam/analyses/20190722_pgen_v070_top18_scaffold_annotation_counts\""
   ]
  },
  {
   "cell_type": "code",
   "execution_count": 3,
   "metadata": {},
   "outputs": [],
   "source": [
    "%%bash\n",
    "mkdir \"${work_dir}\""
   ]
  },
  {
   "cell_type": "code",
   "execution_count": 4,
   "metadata": {},
   "outputs": [
    {
     "name": "stdout",
     "output_type": "stream",
     "text": [
      "/home/sam/analyses/20190722_pgen_v070_top18_scaffold_annotation_counts\n"
     ]
    }
   ],
   "source": [
    "cd $work_dir"
   ]
  },
  {
   "cell_type": "markdown",
   "metadata": {},
   "source": [
    "### Download files\n",
    "\n",
    "- v070 annotated GFF\n",
    "- v074 FastA index file\n",
    "\n",
    "Downloaded via `rsync` - uncomment `wget` lines if needed.\n",
    "\n",
    "_ NOTE: Pgen v070 GFF is 7.1GB._"
   ]
  },
  {
   "cell_type": "code",
   "execution_count": 5,
   "metadata": {},
   "outputs": [
    {
     "name": "stdout",
     "output_type": "stream",
     "text": [
      "receiving incremental file list\n",
      "Pgenerosa_v070_genome_snap02.all.renamed.putative_function.domain_added.gff\n",
      "  7,597,025,836 100%   75.14MB/s    0:01:36 (xfr#1, to-chk=0/1)\n",
      "\n",
      "sent 30 bytes  received 7,597,953,368 bytes  77,927,727.16 bytes/sec\n",
      "total size is 7,597,025,836  speedup is 1.00\n",
      "receiving incremental file list\n",
      "Pgenerosa_v074.fa.fai\n",
      "\n",
      "sent 30 bytes  received 1,338 bytes  182.40 bytes/sec\n",
      "total size is 1,230  speedup is 0.90\n",
      "-----------------------\n",
      "\n",
      "total 7.1G\n",
      "-rw-r--r-- 1 sam users 7.1G May 19 02:19 Pgenerosa_v070_genome_snap02.all.renamed.putative_function.domain_added.gff\n",
      "-rw-rw-rw- 1 sam users 1.3K Jun 26 08:54 Pgenerosa_v074.fa.fai\n",
      "-----------------------\n",
      "\n"
     ]
    }
   ],
   "source": [
    "%%bash\n",
    "rsync -av --progress gannet:/volume2/web/Atumefaciens/20190228_pgen_maker_v070_annotation/Pgenerosa_v070_genome_snap02.all.renamed.putative_function.domain_added.gff .\n",
    "rsync -av owl:/volume1/web/halfshell/genomic-databank/Pgenerosa_v074.fa.fai .\n",
    "\n",
    "#wget https://gannet.fish.washington.edu/Atumefaciens/20190228_pgen_maker_v070_annotation/Pgenerosa_v070_genome_snap02.all.renamed.putative_function.domain_added.gff\n",
    "#wget https://owl.fish.washington.edu/halfshell/genomic-databank/Pgenerosa_v074.fa.fai\n",
    "\n",
    "echo \"-----------------------\"\n",
    "echo \"\"\n",
    "ls -ltrh\n",
    "\n",
    "echo \"-----------------------\"\n",
    "echo \"\""
   ]
  },
  {
   "cell_type": "code",
   "execution_count": 6,
   "metadata": {},
   "outputs": [
    {
     "name": "stdout",
     "output_type": "stream",
     "text": [
      "PGA_scaffold1__77_contigs__length_89643857\t89643857\t44\t60\t61\n",
      "PGA_scaffold2__36_contigs__length_69596280\t69596280\t91138010\t60\t61\n",
      "PGA_scaffold3__111_contigs__length_57743597\t57743597\t161894273\t60\t61\n",
      "PGA_scaffold4__129_contigs__length_65288255\t65288255\t220600309\t60\t61\n",
      "PGA_scaffold5__109_contigs__length_67248332\t67248332\t286976747\t60\t61\n",
      "PGA_scaffold6__104_contigs__length_61759565\t61759565\t355345930\t60\t61\n",
      "PGA_scaffold7__69_contigs__length_43120122\t43120122\t418134866\t60\t61\n",
      "PGA_scaffold8__63_contigs__length_61151155\t61151155\t461973701\t60\t61\n",
      "PGA_scaffold9__45_contigs__length_38581958\t38581958\t524144086\t60\t61\n",
      "PGA_scaffold10__49_contigs__length_53961475\t53961475\t563369122\t60\t61\n",
      "PGA_scaffold11__79_contigs__length_51449921\t51449921\t618230000\t60\t61\n",
      "PGA_scaffold12__71_contigs__length_50438331\t50438331\t670537465\t60\t61\n",
      "PGA_scaffold13__52_contigs__length_44396874\t44396874\t721816480\t60\t61\n",
      "PGA_scaffold14__91_contigs__length_45393038\t45393038\t766953347\t60\t61\n",
      "PGA_scaffold15__101_contigs__length_47938513\t47938513\t813102982\t60\t61\n",
      "PGA_scaffold16__33_contigs__length_31980953\t31980953\t861840516\t60\t61\n",
      "PGA_scaffold17__51_contigs__length_34923512\t34923512\t894354530\t60\t61\n",
      "PGA_scaffold18__69_contigs__length_27737463\t27737463\t929860146\t60\t61\n"
     ]
    }
   ],
   "source": [
    "%%bash\n",
    "# See top 18 scaffold names\n",
    "cat Pgenerosa_v074.fa.fai"
   ]
  },
  {
   "cell_type": "code",
   "execution_count": 7,
   "metadata": {},
   "outputs": [
    {
     "name": "stdout",
     "output_type": "stream",
     "text": [
      "PGA_scaffold1__77_contigs__length_89643857 PGA_scaffold2__36_contigs__length_69596280 PGA_scaffold3__111_contigs__length_57743597 PGA_scaffold4__129_contigs__length_65288255 PGA_scaffold5__109_contigs__length_67248332 PGA_scaffold6__104_contigs__length_61759565 PGA_scaffold7__69_contigs__length_43120122 PGA_scaffold8__63_contigs__length_61151155 PGA_scaffold9__45_contigs__length_38581958 PGA_scaffold10__49_contigs__length_53961475 PGA_scaffold11__79_contigs__length_51449921 PGA_scaffold12__71_contigs__length_50438331 PGA_scaffold13__52_contigs__length_44396874 PGA_scaffold14__91_contigs__length_45393038 PGA_scaffold15__101_contigs__length_47938513 PGA_scaffold16__33_contigs__length_31980953 PGA_scaffold17__51_contigs__length_34923512 PGA_scaffold18__69_contigs__length_27737463\n"
     ]
    },
    {
     "name": "stderr",
     "output_type": "stream",
     "text": [
      "\n",
      "real\t0m55.385s\n",
      "user\t0m27.840s\n",
      "sys\t0m26.064s\n"
     ]
    }
   ],
   "source": [
    "%%bash\n",
    "# Add scaffold names to array\n",
    "scaffolds_array=()\n",
    "scaffolds_array+=($(awk '{print $1}' Pgenerosa_v074.fa.fai))\n",
    "\n",
    "# Check array contents\n",
    "echo \"${scaffolds_array[@]}\"\n",
    "\n",
    "# Create new GFF with features just from top 18 scaffolds\n",
    "time \\\n",
    "for index in \"${!scaffolds_array[@]}\"\n",
    "do\n",
    "grep \"${scaffolds_array[index]}\" Pgenerosa_v070_genome_snap02.all.renamed.putative_function.domain_added.gff \\\n",
    ">> pgen_v070_top18_scaffolds.gff\n",
    "done"
   ]
  },
  {
   "cell_type": "code",
   "execution_count": 9,
   "metadata": {},
   "outputs": [
    {
     "name": "stdout",
     "output_type": "stream",
     "text": [
      "PGA_scaffold1__77_contigs__length_89643857\t.\tcontig\t1\t89643857\t.\t.\t.\tID=PGA_scaffold1__77_contigs__length_89643857;Name=PGA_scaffold1__77_contigs__length_89643857\n",
      "PGA_scaffold1__77_contigs__length_89643857\tsnap_masked\tmatch\t2015\t4670\t45.351\t+\t.\tID=PGA_scaffold1__77_contigs__length_89643857:hit:50956:4.5.0.0;Name=snap_masked-PGA_scaffold1__77_contigs__length_89643857-abinit-gene-0.0-mRNA-1\n",
      "PGA_scaffold1__77_contigs__length_89643857\tsnap_masked\tmatch_part\t2015\t2095\t18.643\t+\t.\tID=PGA_scaffold1__77_contigs__length_89643857:hsp:50956:4.5.0.0;Parent=PGA_scaffold1__77_contigs__length_89643857:hit:50956:4.5.0.0;Target=snap_masked-PGA_scaffold1__77_contigs__length_89643857-abinit-gene-0.0-mRNA-1 1 81 +;Gap=M81\n",
      "PGA_scaffold1__77_contigs__length_89643857\tsnap_masked\tmatch_part\t2347\t2451\t-9.407\t+\t.\tID=PGA_scaffold1__77_contigs__length_89643857:hsp:50957:4.5.0.0;Parent=PGA_scaffold1__77_contigs__length_89643857:hit:50956:4.5.0.0;Target=snap_masked-PGA_scaffold1__77_contigs__length_89643857-abinit-gene-0.0-mRNA-1 82 186 +;Gap=M105\n",
      "PGA_scaffold1__77_contigs__length_89643857\tsnap_masked\tmatch_part\t3325\t3495\t24.596\t+\t.\tID=PGA_scaffold1__77_contigs__length_89643857:hsp:50958:4.5.0.0;Parent=PGA_scaffold1__77_contigs__length_89643857:hit:50956:4.5.0.0;Target=snap_masked-PGA_scaffold1__77_contigs__length_89643857-abinit-gene-0.0-mRNA-1 187 357 +;Gap=M171\n",
      "PGA_scaffold1__77_contigs__length_89643857\tsnap_masked\tmatch_part\t3678\t3819\t-2.809\t+\t.\tID=PGA_scaffold1__77_contigs__length_89643857:hsp:50959:4.5.0.0;Parent=PGA_scaffold1__77_contigs__length_89643857:hit:50956:4.5.0.0;Target=snap_masked-PGA_scaffold1__77_contigs__length_89643857-abinit-gene-0.0-mRNA-1 358 499 +;Gap=M142\n",
      "PGA_scaffold1__77_contigs__length_89643857\tsnap_masked\tmatch_part\t4651\t4670\t14.328\t+\t.\tID=PGA_scaffold1__77_contigs__length_89643857:hsp:50960:4.5.0.0;Parent=PGA_scaffold1__77_contigs__length_89643857:hit:50956:4.5.0.0;Target=snap_masked-PGA_scaffold1__77_contigs__length_89643857-abinit-gene-0.0-mRNA-1 500 519 +;Gap=M20\n",
      "PGA_scaffold1__77_contigs__length_89643857\tsnap_masked\tmatch\t12233\t23292\t26.326\t+\t.\tID=PGA_scaffold1__77_contigs__length_89643857:hit:50957:4.5.0.0;Name=snap_masked-PGA_scaffold1__77_contigs__length_89643857-abinit-gene-0.1-mRNA-1\n",
      "PGA_scaffold1__77_contigs__length_89643857\tsnap_masked\tmatch_part\t12233\t12275\t4.859\t+\t.\tID=PGA_scaffold1__77_contigs__length_89643857:hsp:50961:4.5.0.0;Parent=PGA_scaffold1__77_contigs__length_89643857:hit:50957:4.5.0.0;Target=snap_masked-PGA_scaffold1__77_contigs__length_89643857-abinit-gene-0.1-mRNA-1 1 43 +;Gap=M43\n",
      "PGA_scaffold1__77_contigs__length_89643857\tsnap_masked\tmatch_part\t16770\t16970\t-6.377\t+\t.\tID=PGA_scaffold1__77_contigs__length_89643857:hsp:50962:4.5.0.0;Parent=PGA_scaffold1__77_contigs__length_89643857:hit:50957:4.5.0.0;Target=snap_masked-PGA_scaffold1__77_contigs__length_89643857-abinit-gene-0.1-mRNA-1 44 244 +;Gap=M201\n"
     ]
    }
   ],
   "source": [
    "%%bash\n",
    "head pgen_v070_top18_scaffolds.gff"
   ]
  },
  {
   "cell_type": "code",
   "execution_count": 11,
   "metadata": {},
   "outputs": [
    {
     "name": "stdout",
     "output_type": "stream",
     "text": [
      "8404\n"
     ]
    }
   ],
   "source": [
    "%%bash\n",
    "awk '$3 == \"mRNA\" {print}' pgen_v070_top18_scaffolds.gff | wc -l "
   ]
  },
  {
   "cell_type": "code",
   "execution_count": 15,
   "metadata": {},
   "outputs": [
    {
     "name": "stdout",
     "output_type": "stream",
     "text": [
      "43554\n"
     ]
    }
   ],
   "source": [
    "%%bash\n",
    "awk '$3 == \"exon\" {print}' pgen_v070_top18_scaffolds.gff | wc -l "
   ]
  },
  {
   "cell_type": "code",
   "execution_count": 16,
   "metadata": {},
   "outputs": [
    {
     "name": "stdout",
     "output_type": "stream",
     "text": [
      "41187\n"
     ]
    }
   ],
   "source": [
    "%%bash\n",
    "awk '$3 == \"CDS\" {print}' pgen_v070_top18_scaffolds.gff | wc -l "
   ]
  },
  {
   "cell_type": "code",
   "execution_count": 17,
   "metadata": {},
   "outputs": [
    {
     "name": "stdout",
     "output_type": "stream",
     "text": [
      "8404\n"
     ]
    }
   ],
   "source": [
    "%%bash\n",
    "awk '$3 == \"gene\" {print}' pgen_v070_top18_scaffolds.gff | wc -l "
   ]
  }
 ],
 "metadata": {
  "kernelspec": {
   "display_name": "Python 3",
   "language": "python",
   "name": "python3"
  },
  "language_info": {
   "codemirror_mode": {
    "name": "ipython",
    "version": 3
   },
   "file_extension": ".py",
   "mimetype": "text/x-python",
   "name": "python",
   "nbconvert_exporter": "python",
   "pygments_lexer": "ipython3",
   "version": "3.6.8"
  }
 },
 "nbformat": 4,
 "nbformat_minor": 2
}
