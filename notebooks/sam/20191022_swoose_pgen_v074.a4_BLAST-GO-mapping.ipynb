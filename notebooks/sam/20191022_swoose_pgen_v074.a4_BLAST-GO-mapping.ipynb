{
 "cells": [
  {
   "cell_type": "markdown",
   "metadata": {},
   "source": [
    "%%bash\n",
    "echo \"TODAY'S DATE:\"\n",
    "date\n",
    "echo \"------------\"\n",
    "echo \"\"\n",
    "#Display operating system info\n",
    "lsb_release -a\n",
    "echo \"\"\n",
    "echo \"------------\"\n",
    "echo \"HOSTNAME: \"; hostname \n",
    "echo \"\"\n",
    "echo \"------------\"\n",
    "echo \"Computer Specs:\"\n",
    "echo \"\"\n",
    "lscpu\n",
    "echo \"\"\n",
    "echo \"------------\"\n",
    "echo \"\"\n",
    "echo \"Memory Specs\"\n",
    "echo \"\"\n",
    "free -mh"
   ]
  },
  {
   "cell_type": "markdown",
   "metadata": {},
   "source": [
    "### Set variables\n",
    "`%env` variables are good for passing to bash cells"
   ]
  },
  {
   "cell_type": "code",
   "execution_count": null,
   "metadata": {},
   "outputs": [],
   "source": [
    "%env wd=/home/sam/analyses/20191022_pgen_Pgen_v074.a4_BLAST-GO-mapping\n",
    "wd=\"/home/sam/analyses/20191022_pgen_Pgen_v074.a4_BLAST-GO-mapping\"\n",
    "\n",
    "%env rysnc_gannet=owl:/volume2/web/Atumefaciens/20190928_Pgenerosa_v074.a4_gensas_annotation\n",
    "%env blast_tab=Panopea-generosa-vv0.74.a4.5d951a9b74287-blast_functional.tab\n",
    "%env sp_id_list=20191022_Panopea-generosa-vv0.74.a4.5d951a9b74287-blast_functional_sp_id.list\n",
    "%env sp_id_go_mapping_tab=20191022_SP-ID-GO-mapping.tab\n",
    "%env blast_go_join=20191022_Panopea-generosa-vv0.74.a4.5d951a9b74287-blast_functional_sp_id-join-go_id.tab\n"
   ]
  },
  {
   "cell_type": "markdown",
   "metadata": {},
   "source": [
    "### If directory doesn't exist, make it."
   ]
  },
  {
   "cell_type": "code",
   "execution_count": null,
   "metadata": {},
   "outputs": [],
   "source": [
    "%%bash\n",
    "[ -d \"${wd}\" ] || mkdir --parents \"${wd}\""
   ]
  },
  {
   "cell_type": "code",
   "execution_count": null,
   "metadata": {},
   "outputs": [],
   "source": [
    "cd {wd}"
   ]
  },
  {
   "cell_type": "markdown",
   "metadata": {},
   "source": [
    "### Download file\n",
    "\n",
    "#### Use `wget https://gannet.fish.washington.edu/Atumefaciens/20190928_Pgenerosa_v074.a4_gensas_annotation/Panopea-generosa-vv0.74.a4.5d951a9b74287-blast_functional.tab` if you don't have `rsync` capabilities."
   ]
  },
  {
   "cell_type": "code",
   "execution_count": null,
   "metadata": {},
   "outputs": [],
   "source": [
    "%%bash\n",
    "rsync \\\n",
    "--archive \\\n",
    "--verbose \\\n",
    "\"${rysnc_gannet}\"/\"${blast_tab}\" ."
   ]
  },
  {
   "cell_type": "markdown",
   "metadata": {},
   "source": [
    "### Check out the file.\n",
    "#### Confirm removal of first 13 lines removes header\n",
    "#### Count number of annotated mRNAs in file"
   ]
  },
  {
   "cell_type": "code",
   "execution_count": null,
   "metadata": {},
   "outputs": [],
   "source": [
    "%%bash\n",
    "head -n 25 \"${blast_tab}\"\n",
    "echo \"\"\n",
    "echo \"----------------------------\"\n",
    "tail -n +14 \"${blast_tab}\" | head\n",
    "echo \"\"\n",
    "echo \"\"\n",
    "echo \"----------------------------\"\n",
    "tail -n +14 \"${blast_tab}\" | wc -l"
   ]
  },
  {
   "cell_type": "markdown",
   "metadata": {},
   "source": []
  },
  {
   "cell_type": "code",
   "execution_count": null,
   "metadata": {},
   "outputs": [],
   "source": []
  },
  {
   "cell_type": "code",
   "execution_count": null,
   "metadata": {},
   "outputs": [],
   "source": [
    "%%bash\n",
    "join -1 5 -2 1 <(tail -n +14 Panopea-generosa-vv0.74.a4.5d951a9b74287-blast_functional.tab | sort -t$'\\t' -k5,5) <(awk -F\"\\t\" 'FNR>1 {print $2, $1, $3}' 20191022_Panopea-generosa-vv0.74.a4.5d951a9b74287-blast_functional.tab_SP-IDs_UniProt-uniq_GO-IDs.txt.tab | sort -k1,1)"
   ]
  }
 ],
 "metadata": {
  "kernelspec": {
   "display_name": "Python 3",
   "language": "python",
   "name": "python3"
  },
  "language_info": {
   "codemirror_mode": {
    "name": "ipython",
    "version": 3
   },
   "file_extension": ".py",
   "mimetype": "text/x-python",
   "name": "python",
   "nbconvert_exporter": "python",
   "pygments_lexer": "ipython3",
   "version": "3.6.8"
  }
 },
 "nbformat": 4,
 "nbformat_minor": 2
}
