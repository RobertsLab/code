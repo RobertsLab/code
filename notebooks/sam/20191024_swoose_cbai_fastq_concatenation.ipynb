{
 "cells": [
  {
   "cell_type": "code",
   "execution_count": null,
   "metadata": {},
   "outputs": [],
   "source": [
    "%%bash\n",
    "echo \"TODAY'S DATE:\"\n",
    "date\n",
    "echo \"------------\"\n",
    "echo \"\"\n",
    "#Display operating system info\n",
    "lsb_release -a\n",
    "echo \"\"\n",
    "echo \"------------\"\n",
    "echo \"HOSTNAME: \"; hostname \n",
    "echo \"\"\n",
    "echo \"------------\"\n",
    "echo \"Computer Specs:\"\n",
    "echo \"\"\n",
    "lscpu\n",
    "echo \"\"\n",
    "echo \"------------\"\n",
    "echo \"\"\n",
    "echo \"Memory Specs\"\n",
    "echo \"\"\n",
    "free -mh"
   ]
  },
  {
   "cell_type": "markdown",
   "metadata": {},
   "source": [
    "### Set variables\n",
    "`%env` variables are good for passing to bash cells"
   ]
  },
  {
   "cell_type": "code",
   "execution_count": null,
   "metadata": {},
   "outputs": [],
   "source": [
    "wd=\"/home/sam/analyses/20191024_cbai_fastq_concatenation\"\n",
    "\n",
    "%env fastq_100219_dir=~/Downloads/FASTQ-100219/\n",
    "%env fastq_102319_dir=~/Downloads/FASTQ-102319/"
   ]
  },
  {
   "cell_type": "code",
   "execution_count": null,
   "metadata": {},
   "outputs": [],
   "source": [
    "cd {wd}"
   ]
  },
  {
   "cell_type": "code",
   "execution_count": null,
   "metadata": {},
   "outputs": [],
   "source": [
    "%%bash\n",
    "# Create array of original FastQ files\n",
    "for file in \"${fastq_100219_dir}\"*.gz\n",
    "  do\n",
    "  fastq_100219_array+=($(echo \"$file\"))\n",
    "  echo \"Adding ${file} to fastq_100219_array\"\n",
    "done\n",
    "\n",
    "echo \"\"\n",
    "\n",
    "# Create arrray of second FastQ files\n",
    "for file in \"${fastq_102319_dir}\"*.gz\n",
    "  do\n",
    "  fastq_102319_array+=($(echo \"$file\"))\n",
    "  echo \"Adding ${file} to fastq_102319_array\"\n",
    "done\n",
    "\n",
    "echo \"\"\n",
    "\n",
    "# Check line numbers of each FastQ file\n",
    "for index in \"${!fastq_100219_array[@]}\"\n",
    "  do\n",
    "  fastq_file=$(echo \"${index##*/}\")\n",
    "  {\n",
    "      cat \"${fastq_100219_array[index]}\"\n",
    "      cat \"${fastq_102319_array[index]}\"\n",
    "  } >> \"${fastq_file}\"\n",
    "  wc -l \"${fastq_100219_array[index]}\"\n",
    "  wc -l \"${fastq_102319_array+=[index]}\"\n",
    "  wc -l \"${fastq_file}\"\n",
    "done"
   ]
  },
  {
   "cell_type": "code",
   "execution_count": null,
   "metadata": {},
   "outputs": [],
   "source": []
  }
 ],
 "metadata": {
  "kernelspec": {
   "display_name": "Python 3",
   "language": "python",
   "name": "python3"
  },
  "language_info": {
   "codemirror_mode": {
    "name": "ipython",
    "version": 3
   },
   "file_extension": ".py",
   "mimetype": "text/x-python",
   "name": "python",
   "nbconvert_exporter": "python",
   "pygments_lexer": "ipython3",
   "version": "3.6.8"
  }
 },
 "nbformat": 4,
 "nbformat_minor": 2
}
