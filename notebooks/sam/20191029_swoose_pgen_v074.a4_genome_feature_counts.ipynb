{
 "cells": [
  {
   "cell_type": "code",
   "execution_count": 1,
   "metadata": {},
   "outputs": [
    {
     "name": "stdout",
     "output_type": "stream",
     "text": [
      "TODAY'S DATE:\n",
      "Tue Oct 29 09:39:44 PDT 2019\n",
      "------------\n",
      "\n",
      "Distributor ID:\tUbuntu\n",
      "Description:\tUbuntu 16.04.6 LTS\n",
      "Release:\t16.04\n",
      "Codename:\txenial\n",
      "\n",
      "------------\n",
      "HOSTNAME: \n",
      "swoose\n",
      "\n",
      "------------\n",
      "Computer Specs:\n",
      "\n",
      "Architecture:          x86_64\n",
      "CPU op-mode(s):        32-bit, 64-bit\n",
      "Byte Order:            Little Endian\n",
      "CPU(s):                24\n",
      "On-line CPU(s) list:   0-23\n",
      "Thread(s) per core:    2\n",
      "Core(s) per socket:    6\n",
      "Socket(s):             2\n",
      "NUMA node(s):          1\n",
      "Vendor ID:             GenuineIntel\n",
      "CPU family:            6\n",
      "Model:                 44\n",
      "Model name:            Intel(R) Xeon(R) CPU           X5670  @ 2.93GHz\n",
      "Stepping:              2\n",
      "CPU MHz:               2925.971\n",
      "BogoMIPS:              5851.97\n",
      "Virtualization:        VT-x\n",
      "L1d cache:             32K\n",
      "L1i cache:             32K\n",
      "L2 cache:              256K\n",
      "L3 cache:              12288K\n",
      "NUMA node0 CPU(s):     0-23\n",
      "Flags:                 fpu vme de pse tsc msr pae mce cx8 apic sep mtrr pge mca cmov pat pse36 clflush dts acpi mmx fxsr sse sse2 ss ht tm pbe syscall nx pdpe1gb rdtscp lm constant_tsc arch_perfmon pebs bts rep_good nopl xtopology nonstop_tsc aperfmperf pni pclmulqdq dtes64 monitor ds_cpl vmx smx est tm2 ssse3 cx16 xtpr pdcm pcid dca sse4_1 sse4_2 popcnt aes lahf_lm epb ssbd ibrs ibpb stibp kaiser tpr_shadow vnmi flexpriority ept vpid dtherm ida arat flush_l1d\n",
      "\n",
      "------------\n",
      "\n",
      "Memory Specs\n",
      "\n",
      "              total        used        free      shared  buff/cache   available\n",
      "Mem:            70G         17G        413M        410M         53G         52G\n",
      "Swap:          4.7G        7.0M        4.6G\n"
     ]
    },
    {
     "name": "stderr",
     "output_type": "stream",
     "text": [
      "No LSB modules are available.\n"
     ]
    }
   ],
   "source": [
    "%%bash\n",
    "echo \"TODAY'S DATE:\"\n",
    "date\n",
    "echo \"------------\"\n",
    "echo \"\"\n",
    "#Display operating system info\n",
    "lsb_release -a\n",
    "echo \"\"\n",
    "echo \"------------\"\n",
    "echo \"HOSTNAME: \"; hostname \n",
    "echo \"\"\n",
    "echo \"------------\"\n",
    "echo \"Computer Specs:\"\n",
    "echo \"\"\n",
    "lscpu\n",
    "echo \"\"\n",
    "echo \"------------\"\n",
    "echo \"\"\n",
    "echo \"Memory Specs\"\n",
    "echo \"\"\n",
    "free -mh"
   ]
  },
  {
   "cell_type": "code",
   "execution_count": 7,
   "metadata": {},
   "outputs": [
    {
     "name": "stdout",
     "output_type": "stream",
     "text": [
      "env: wd=/home/sam/analyses/20191029_pgen_v074.a4_genome_feature_counts\n",
      "env: rysnc_owl=owl:/volume1/web/halfshell/genomic-databank/\n",
      "env: gffs=Panopea-generosa-vv0.74.a4.[Cegmrt]*.gff3\n",
      "env: wget_gffs=--directory-prefix=$/home/sam/analyses/20191029_pgen_v074.a4_genome_feature_counts --recursive --quiety --no-directories --no-check-certificate --no-parent --accept 'Panopea-generosa-vv0.74.a3.[Cegmrt]*.gff3' --reject 'Panopea-generosa-vv0.74.a4.repeat_region.gff3' https://owl.fish.washington.edu/halfshell/genomic-databank/\n"
     ]
    }
   ],
   "source": [
    "%env wd=/home/sam/analyses/20191029_pgen_v074.a4_genome_feature_counts\n",
    "wd=\"/home/sam/analyses/20191029_pgen_v074.a4_genome_feature_counts\"\n",
    "\n",
    "# Set list of column header names\n",
    "gff_header = ['seqid','source','type','start','end','score','strand','phase','attributes']\n",
    "\n",
    "%env rysnc_owl=owl:/volume1/web/halfshell/genomic-databank/\n",
    "%env gffs=Panopea-generosa-vv0.74.a4.[Cegmrt]*.gff3\n",
    "%env wget_gffs=--directory-prefix=${wd} --recursive --quiety --no-directories --no-check-certificate --no-parent --accept 'Panopea-generosa-vv0.74.a3.[Cegmrt]*.gff3' --reject 'Panopea-generosa-vv0.74.a4.repeat_region.gff3' https://owl.fish.washington.edu/halfshell/genomic-databank/"
   ]
  },
  {
   "cell_type": "markdown",
   "metadata": {},
   "source": [
    "### Import Python modules"
   ]
  },
  {
   "cell_type": "code",
   "execution_count": 8,
   "metadata": {},
   "outputs": [],
   "source": [
    "import fnmatch\n",
    "import os\n",
    "import pandas"
   ]
  },
  {
   "cell_type": "markdown",
   "metadata": {},
   "source": [
    "#### Create necessary directories"
   ]
  },
  {
   "cell_type": "code",
   "execution_count": 9,
   "metadata": {
    "collapsed": true
   },
   "outputs": [],
   "source": [
    "%%bash\n",
    "mkdir --parents ${wd}"
   ]
  },
  {
   "cell_type": "code",
   "execution_count": 10,
   "metadata": {},
   "outputs": [
    {
     "name": "stdout",
     "output_type": "stream",
     "text": [
      "/home/sam/analyses/20191029_pgen_v074.a4_genome_feature_counts\n"
     ]
    }
   ],
   "source": [
    "cd {wd}"
   ]
  },
  {
   "cell_type": "markdown",
   "metadata": {},
   "source": [
    "#### Download _Panopea generosa_ GFFs for v074.a3.\n",
    "\n",
    "Info on GFFs is here: [https://github.com/RobertsLab/resources/wiki/Genomic-Resources#genome-feature-tracks-3)"
   ]
  },
  {
   "cell_type": "code",
   "execution_count": 13,
   "metadata": {},
   "outputs": [
    {
     "name": "stdout",
     "output_type": "stream",
     "text": [
      "receiving incremental file list\n",
      "\n",
      "sent 65 bytes  received 230 bytes  196.67 bytes/sec\n",
      "total size is 542,158,159  speedup is 1,837,824.27\n",
      "\n",
      "\n",
      "----------------------------------------------------------\n",
      "total 146M\n",
      "-rwx------ 1 sam users  60M Oct 14 10:13 Panopea-generosa-vv0.74.a4.CDS.gff3\n",
      "-rwx------ 1 sam users  62M Oct 14 10:13 Panopea-generosa-vv0.74.a4.exon.gff3\n",
      "-rwx------ 1 sam users  11M Oct 14 10:13 Panopea-generosa-vv0.74.a4.gene.gff3\n",
      "-rwx------ 1 sam users  11M Oct 14 10:13 Panopea-generosa-vv0.74.a4.mRNA.gff3\n",
      "-rwx------ 1 sam users 1.5K Oct 14 10:13 Panopea-generosa-vv0.74.a4.rRNA.gff3\n",
      "-rwx------ 1 sam users 2.8M Oct 14 10:13 Panopea-generosa-vv0.74.a4.tRNA.gff3\n"
     ]
    }
   ],
   "source": [
    "%%bash\n",
    "\n",
    "rsync \\\n",
    "--archive \\\n",
    "--verbose \\\n",
    "--progress \\\n",
    "--include=\"${gffs}\" \\\n",
    "--exclude=\"*\" \\\n",
    "\"${rysnc_owl}\" \\\n",
    ".\n",
    "\n",
    "# Remove unneeded repeats GFF\n",
    "rm Panopea-generosa-vv0.74.a4.repeat_region.gff3\n",
    "echo \"\"\n",
    "echo \"\"\n",
    "echo \"----------------------------------------------------------\"\n",
    "\n",
    "ls -lh"
   ]
  },
  {
   "cell_type": "markdown",
   "metadata": {},
   "source": [
    "#### If need to download via wget, uncomment lines in the cell below"
   ]
  },
  {
   "cell_type": "code",
   "execution_count": 14,
   "metadata": {},
   "outputs": [],
   "source": [
    "# %%bash\n",
    "# time \\\n",
    "# wget \"${wget_gffs}\"\n",
    "\n",
    "# ls -lh ${wd}"
   ]
  },
  {
   "cell_type": "code",
   "execution_count": 17,
   "metadata": {},
   "outputs": [
    {
     "name": "stdout",
     "output_type": "stream",
     "text": [
      "##gff-version 3\n",
      "##Generated using GenSAS, Monday 7th of October 2019 04:54:37 AM\n",
      "##Project Name : Pgenerosa_v074\n",
      "PGA_scaffold1__77_contigs__length_89643857\tGenSAS_5d9637f372b5d-publish\tCDS\t2\t125\t.\t+\t0\tID=PGEN_.00g000010.m01.CDS01;Name=PGEN_.00g000010.m01.CDS01;Parent=PGEN_.00g000010.m01;original_ID=cds.21510-PGEN_.00g234140.m01;Alias=cds.21510-PGEN_.00g234140.m01\n",
      "PGA_scaffold1__77_contigs__length_89643857\tGenSAS_5d9637f372b5d-publish\tCDS\t1995\t2095\t.\t+\t1\tID=PGEN_.00g000010.m01.CDS02;Name=PGEN_.00g000010.m01.CDS02;Parent=PGEN_.00g000010.m01;original_ID=cds.21510-PGEN_.00g234140.m01;Alias=cds.21510-PGEN_.00g234140.m01\n",
      "PGA_scaffold1__77_contigs__length_89643857\tGenSAS_5d9637f372b5d-publish\tCDS\t3325\t3495\t.\t+\t0\tID=PGEN_.00g000010.m01.CDS03;Name=PGEN_.00g000010.m01.CDS03;Parent=PGEN_.00g000010.m01;original_ID=cds.21510-PGEN_.00g234140.m01;Alias=cds.21510-PGEN_.00g234140.m01\n",
      "PGA_scaffold1__77_contigs__length_89643857\tGenSAS_5d9637f372b5d-publish\tCDS\t4651\t4719\t.\t+\t0\tID=PGEN_.00g000010.m01.CDS04;Name=PGEN_.00g000010.m01.CDS04;Parent=PGEN_.00g000010.m01;original_ID=cds.21510-PGEN_.00g234140.m01;Alias=cds.21510-PGEN_.00g234140.m01\n",
      "PGA_scaffold1__77_contigs__length_89643857\tGenSAS_5d9637f372b5d-publish\tCDS\t19808\t19943\t.\t-\t2\tID=PGEN_.00g000020.m01.CDS01;Name=PGEN_.00g000020.m01.CDS01;Parent=PGEN_.00g000020.m01;original_ID=cds.21510-PGEN_.00g234150.m01;Alias=cds.21510-PGEN_.00g234150.m01\n",
      "PGA_scaffold1__77_contigs__length_89643857\tGenSAS_5d9637f372b5d-publish\tCDS\t21133\t21362\t.\t-\t0\tID=PGEN_.00g000020.m01.CDS02;Name=PGEN_.00g000020.m01.CDS02;Parent=PGEN_.00g000020.m01;original_ID=cds.21510-PGEN_.00g234150.m01;Alias=cds.21510-PGEN_.00g234150.m01\n",
      "PGA_scaffold1__77_contigs__length_89643857\tGenSAS_5d9637f372b5d-publish\tCDS\t22487\t22613\t.\t-\t2\tID=PGEN_.00g000020.m01.CDS03;Name=PGEN_.00g000020.m01.CDS03;Parent=PGEN_.00g000020.m01;original_ID=cds.21510-PGEN_.00g234150.m01;Alias=cds.21510-PGEN_.00g234150.m01\n"
     ]
    }
   ],
   "source": [
    "%%bash\n",
    "head Panopea-generosa-vv0.74.a4.CDS.gff3"
   ]
  },
  {
   "cell_type": "markdown",
   "metadata": {},
   "source": [
    "### Get sequence length stats for "
   ]
  },
  {
   "cell_type": "code",
   "execution_count": 18,
   "metadata": {},
   "outputs": [
    {
     "name": "stdout",
     "output_type": "stream",
     "text": [
      "\n",
      "\n",
      "\n",
      "Panopea-generosa-vv0.74.a4.mRNA.gff3\n",
      "-------------------------\n",
      "mean       12903.649559\n",
      "min          166.000000\n",
      "median      5453.000000\n",
      "max       283066.000000\n",
      "Name: seqlength, dtype: float64\n",
      "\n",
      "\n",
      "\n",
      "Panopea-generosa-vv0.74.a4.gene.gff3\n",
      "-------------------------\n",
      "mean       10811.04461\n",
      "min          166.00000\n",
      "median      4464.00000\n",
      "max       283066.00000\n",
      "Name: seqlength, dtype: float64\n",
      "\n",
      "\n",
      "\n",
      "Panopea-generosa-vv0.74.a4.CDS.gff3\n",
      "-------------------------\n",
      "mean        201.476988\n",
      "min           3.000000\n",
      "median      133.000000\n",
      "max       13221.000000\n",
      "Name: seqlength, dtype: float64\n",
      "\n",
      "\n",
      "\n",
      "Panopea-generosa-vv0.74.a4.tRNA.gff3\n",
      "-------------------------\n",
      "mean       74.805659\n",
      "min        53.000000\n",
      "median     75.000000\n",
      "max       314.000000\n",
      "Name: seqlength, dtype: float64\n",
      "\n",
      "\n",
      "\n",
      "Panopea-generosa-vv0.74.a4.rRNA.gff3\n",
      "-------------------------\n",
      "mean      118.428571\n",
      "min       113.000000\n",
      "median    115.000000\n",
      "max       138.000000\n",
      "Name: seqlength, dtype: float64\n",
      "\n",
      "\n",
      "\n",
      "Panopea-generosa-vv0.74.a4.exon.gff3\n",
      "-------------------------\n",
      "mean        201.476988\n",
      "min           3.000000\n",
      "median      133.000000\n",
      "max       13221.000000\n",
      "Name: seqlength, dtype: float64\n"
     ]
    }
   ],
   "source": [
    "for file in os.listdir('.'):\n",
    "    if fnmatch.fnmatch(file, 'Panopea-generosa-vv0.74.a4*.gff3'):\n",
    "        print('\\n' * 2)\n",
    "        print(file)\n",
    "        print(\"-------------------------\")\n",
    "        \n",
    "        # Import GFF.\n",
    "        # Skip first 3 rows (gff header lines) and indicate file is tab-separated\n",
    "        gff=pandas.read_csv(file, header=None, skiprows=3, sep=\"\\t\")\n",
    "        \n",
    "        # Rename columns\n",
    "        gff.columns = gff_header\n",
    "        \n",
    "        # Subtract start value from end value.\n",
    "        # Have to add 1 so that sequence length can't equal zero (i.e. adjust for 1-based counting system)\n",
    "        gff['seqlength'] = gff.apply(lambda position: position['end'] - position['start'] + 1, axis=1)\n",
    "        \n",
    "        # Apply functions in list to seqlength column\n",
    "        gff_stats = gff['seqlength'].agg(['mean', 'min', 'median', 'max'])\n",
    "        \n",
    "        print (gff_stats)"
   ]
  },
  {
   "cell_type": "code",
   "execution_count": null,
   "metadata": {},
   "outputs": [],
   "source": []
  }
 ],
 "metadata": {
  "kernelspec": {
   "display_name": "Python 3",
   "language": "python",
   "name": "python3"
  },
  "language_info": {
   "codemirror_mode": {
    "name": "ipython",
    "version": 3
   },
   "file_extension": ".py",
   "mimetype": "text/x-python",
   "name": "python",
   "nbconvert_exporter": "python",
   "pygments_lexer": "ipython3",
   "version": "3.6.8"
  }
 },
 "nbformat": 4,
 "nbformat_minor": 2
}
