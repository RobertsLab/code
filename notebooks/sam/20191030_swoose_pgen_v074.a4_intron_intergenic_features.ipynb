{
 "cells": [
  {
   "cell_type": "code",
   "execution_count": 1,
   "metadata": {},
   "outputs": [
    {
     "name": "stdout",
     "output_type": "stream",
     "text": [
      "TODAY'S DATE:\n",
      "Tue Oct 29 08:51:12 PDT 2019\n",
      "------------\n",
      "\n",
      "Distributor ID:\tUbuntu\n",
      "Description:\tUbuntu 16.04.6 LTS\n",
      "Release:\t16.04\n",
      "Codename:\txenial\n",
      "\n",
      "------------\n",
      "HOSTNAME: \n",
      "swoose\n",
      "\n",
      "------------\n",
      "Computer Specs:\n",
      "\n",
      "Architecture:          x86_64\n",
      "CPU op-mode(s):        32-bit, 64-bit\n",
      "Byte Order:            Little Endian\n",
      "CPU(s):                24\n",
      "On-line CPU(s) list:   0-23\n",
      "Thread(s) per core:    2\n",
      "Core(s) per socket:    6\n",
      "Socket(s):             2\n",
      "NUMA node(s):          1\n",
      "Vendor ID:             GenuineIntel\n",
      "CPU family:            6\n",
      "Model:                 44\n",
      "Model name:            Intel(R) Xeon(R) CPU           X5670  @ 2.93GHz\n",
      "Stepping:              2\n",
      "CPU MHz:               2925.971\n",
      "BogoMIPS:              5851.97\n",
      "Virtualization:        VT-x\n",
      "L1d cache:             32K\n",
      "L1i cache:             32K\n",
      "L2 cache:              256K\n",
      "L3 cache:              12288K\n",
      "NUMA node0 CPU(s):     0-23\n",
      "Flags:                 fpu vme de pse tsc msr pae mce cx8 apic sep mtrr pge mca cmov pat pse36 clflush dts acpi mmx fxsr sse sse2 ss ht tm pbe syscall nx pdpe1gb rdtscp lm constant_tsc arch_perfmon pebs bts rep_good nopl xtopology nonstop_tsc aperfmperf pni pclmulqdq dtes64 monitor ds_cpl vmx smx est tm2 ssse3 cx16 xtpr pdcm pcid dca sse4_1 sse4_2 popcnt aes lahf_lm epb ssbd ibrs ibpb stibp kaiser tpr_shadow vnmi flexpriority ept vpid dtherm ida arat flush_l1d\n",
      "\n",
      "------------\n",
      "\n",
      "Memory Specs\n",
      "\n",
      "              total        used        free      shared  buff/cache   available\n",
      "Mem:            70G         16G        429M        392M         53G         52G\n",
      "Swap:          4.7G        444K        4.7G\n"
     ]
    },
    {
     "name": "stderr",
     "output_type": "stream",
     "text": [
      "No LSB modules are available.\n"
     ]
    }
   ],
   "source": [
    "%%bash\n",
    "echo \"TODAY'S DATE:\"\n",
    "date\n",
    "echo \"------------\"\n",
    "echo \"\"\n",
    "#Display operating system info\n",
    "lsb_release -a\n",
    "echo \"\"\n",
    "echo \"------------\"\n",
    "echo \"HOSTNAME: \"; hostname \n",
    "echo \"\"\n",
    "echo \"------------\"\n",
    "echo \"Computer Specs:\"\n",
    "echo \"\"\n",
    "lscpu\n",
    "echo \"\"\n",
    "echo \"------------\"\n",
    "echo \"\"\n",
    "echo \"Memory Specs\"\n",
    "echo \"\"\n",
    "free -mh"
   ]
  },
  {
   "cell_type": "markdown",
   "metadata": {},
   "source": [
    "### Set variables\n",
    "`%env` variables are good for passing to bash cells"
   ]
  },
  {
   "cell_type": "code",
   "execution_count": 12,
   "metadata": {},
   "outputs": [
    {
     "name": "stdout",
     "output_type": "stream",
     "text": [
      "env: wd=/home/sam/analyses/20191029_pgen_v074.a4_repeats_counts\n",
      "env: rysnc_owl=owl:/volume1/web/halfshell/genomic-databank/\n",
      "env: gff=Panopea-generosa-vv0.74.a4.repeat_region.gff3\n",
      "env: wget_gffs=--directory-prefix=$/home/sam/analyses/20191029_pgen_v074.a4_repeats_counts --recursive --quiety --no-directories --no-check-certificate --no-parent --accept 'Panopea-generosa-vv0.74.a4.repeat_region.gff3' https://owl.fish.washington.edu/halfshell/genomic-databank/\n",
      "env: new_gff=Panopea-generosa-vv0.74.a4.repeats\n"
     ]
    }
   ],
   "source": [
    "# Set workding directory\n",
    "%env wd=/home/sam/analyses/20191030_pgen_v074.a4_intron_intergenic_features\n",
    "wd=\"20191029_pgen_v074.a4_intron_intergenic_features\"\n",
    "\n",
    "\n",
    "%env rsync_owl=owl:/volume1/web/halfshell/genomic-databank/\n",
    "%env genome_fasta=Pgenerosa_v074.fa\n",
    "%env chrome_sizes=Pgenerosa_v074.sizes.txt\n",
    "%env gffs=Panopea-generosa-vv0.74.a4.[eg]*.gff\n",
    "%env exon_gff=Panopea-generosa-vv0.74.a4.exon.gff3\n",
    "$env exon_gff_sorted=Panopea-generosa-vv0.74.a4.exon.sorted.gff3\n",
    "%env gene_gff=Panopea-generosa-vv0.74.a4.gene.gff3\n",
    "%env gene_gff_sorted=Panopea-generosa-vv0.74.a4.gene.sorted.gff3\n",
    "%env wget_gff=--directory-prefix=${wd} --recursive --quiety --no-directories --no-check-certificate --no-parent --accept 'Panopea-generosa-vv0.74.a4.[eg]*.gff' https://owl.fish.washington.edu/halfshell/genomic-databank/\n",
    "%env wget_fasta=--no-check-certificate https://owl.fish.washington.edu/halfshell/genomic-databank/\"${genome_fasta}\"\n",
    "%env exon_comp_bed=Panopea-generosa-vv0.74.a4.exon.sorted.comp.bed\n",
    "%env intron_bed=Panopea-generosa-vv0.74.a4.introns.bed\n",
    "%env intergenic_bed=Panopea-generosa-vv0.74.a4.intergenic.bed\n",
    "\n",
    "# Programs\n",
    "%env bedtools_dir=/home/sam/programs/bedtools-2.28.0/bin\n",
    "%env samtools=/home/sam/programs/samtools\n",
    "\n"
   ]
  },
  {
   "cell_type": "markdown",
   "metadata": {},
   "source": [
    "#### Create necessary directories"
   ]
  },
  {
   "cell_type": "code",
   "execution_count": 15,
   "metadata": {
    "collapsed": true
   },
   "outputs": [],
   "source": [
    "%%bash\n",
    "mkdir --parents ${wd}"
   ]
  },
  {
   "cell_type": "code",
   "execution_count": 16,
   "metadata": {},
   "outputs": [
    {
     "name": "stdout",
     "output_type": "stream",
     "text": [
      "/home/sam/analyses/20191029_pgen_v074.a4_repeats_counts\n"
     ]
    }
   ],
   "source": [
    "cd {wd}"
   ]
  },
  {
   "cell_type": "markdown",
   "metadata": {},
   "source": [
    "#### Download _Panopea generosa_ GFFs for v074.a4.\n",
    "\n",
    "Info on GFFs is here: [https://github.com/RobertsLab/resources/wiki/Genomic-Resources#genome-feature-tracks-3)"
   ]
  },
  {
   "cell_type": "code",
   "execution_count": 17,
   "metadata": {},
   "outputs": [
    {
     "name": "stdout",
     "output_type": "stream",
     "text": [
      "receiving incremental file list\n",
      "./\n",
      "Panopea-generosa-vv0.74.a4.repeat_region.gff3\n",
      "    390,130,212 100%   28.74MB/s    0:00:12 (xfr#1, to-chk=0/2)\n",
      "\n",
      "sent 91 bytes  received 390,177,991 bytes  25,172,779.48 bytes/sec\n",
      "total size is 390,130,212  speedup is 1.00\n",
      "\n",
      "\n",
      "----------------------------------------------------------\n",
      "total 373M\n",
      "-rwx------ 1 sam users 373M Oct 14 10:13 Panopea-generosa-vv0.74.a4.repeat_region.gff3\n"
     ]
    }
   ],
   "source": [
    "%%bash\n",
    "\n",
    "input_files_array=(${genome_fasta} ${exon_gff} ${gene_gff})\n",
    "\n",
    "for file in \"${input_files_array[@]}\"\n",
    "do\n",
    "  rsync \\\n",
    "  --archive \\\n",
    "  --verbose \\\n",
    "  \"${rsync_owl}${file}\" \\\n",
    ".\n",
    "\n",
    "echo \"\"\n",
    "echo \"\"\n",
    "echo \"----------------------------------------------------------\"\n",
    "echo \"\"\n",
    "\n",
    "ls -lh"
   ]
  },
  {
   "cell_type": "markdown",
   "metadata": {},
   "source": [
    "#### If need to download via wget, uncomment lines in the cell below"
   ]
  },
  {
   "cell_type": "code",
   "execution_count": 18,
   "metadata": {},
   "outputs": [],
   "source": [
    "# %%bash\n",
    "# time \\\n",
    "# wget \"${wget_gffs}\"\n",
    "# wget \"${wget_fasta}\"\n",
    "# ls -lh ${wd}"
   ]
  },
  {
   "cell_type": "code",
   "execution_count": 19,
   "metadata": {},
   "outputs": [
    {
     "name": "stdout",
     "output_type": "stream",
     "text": [
      "##gff-version 3\n",
      "##Generated using GenSAS, Monday 7th of October 2019 04:54:37 AM\n",
      "##Project Name : Pgenerosa_v074\n",
      "PGA_scaffold2__36_contigs__length_69596280\tGenSAS_5d25089d78791-repeatmodeler\trepeat_region\t1\t225\t1646\t+\t.\tID=19535.GS22252506.PGEN_.repeat00149391;Name=19535.GS22252506.PGEN_.repeat00149391;repeat_match=rnd-1_family-39;repeat_class=Unknown;\n",
      "PGA_scaffold2__36_contigs__length_69596280\tGenSAS_5d25089d78791-repeatmodeler\trepeat_region\t910\t1325\t3459\t+\t.\tID=19535.GS22252506.PGEN_.repeat00149392;Name=19535.GS22252506.PGEN_.repeat00149392;repeat_match=rnd-1_family-135;repeat_class=Unknown;\n",
      "PGA_scaffold2__36_contigs__length_69596280\tGenSAS_5d25089d78791-repeatmodeler\trepeat_region\t1329\t2039\t5278\t-\t.\tID=19535.GS22252506.PGEN_.repeat00149393;Name=19535.GS22252506.PGEN_.repeat00149393;repeat_match=rnd-6_family-1529;repeat_class=Unknown;\n",
      "PGA_scaffold2__36_contigs__length_69596280\tGenSAS_5d25089d78791-repeatmodeler\trepeat_region\t3030\t3608\t3232\t-\t.\tID=19535.GS22252506.PGEN_.repeat00149394;Name=19535.GS22252506.PGEN_.repeat00149394;repeat_match=rnd-1_family-330;repeat_class=Unknown;\n",
      "PGA_scaffold2__36_contigs__length_69596280\tGenSAS_5d25089d78791-repeatmodeler\trepeat_region\t3604\t3693\t512\t-\t.\tID=19535.GS22252506.PGEN_.repeat00149395;Name=19535.GS22252506.PGEN_.repeat00149395;repeat_match=rnd-1_family-278;repeat_class=Unknown;\n",
      "PGA_scaffold2__36_contigs__length_69596280\tGenSAS_5d25089d78791-repeatmodeler\trepeat_region\t5038\t5265\t1614\t+\t.\tID=19535.GS22252506.PGEN_.repeat00149396;Name=19535.GS22252506.PGEN_.repeat00149396;repeat_match=rnd-5_family-2058;repeat_class=Unknown;\n",
      "PGA_scaffold2__36_contigs__length_69596280\tGenSAS_5d25089d78791-repeatmodeler\trepeat_region\t5224\t5277\t240\t-\t.\tID=19535.GS22252506.PGEN_.repeat00149397;Name=19535.GS22252506.PGEN_.repeat00149397;repeat_match=rnd-5_family-1533;repeat_class=LINE%2FL2;\n"
     ]
    }
   ],
   "source": [
    "%%bash\n",
    "echo ${exon_gff}\n",
    "head ${exon_gff}\n",
    "echo \"\"\n",
    "echo \"----------------------\"\n",
    "echo \"\"\n",
    "echo ${gene_gff}\n",
    "head ${gene_gff}"
   ]
  },
  {
   "cell_type": "markdown",
   "metadata": {},
   "source": [
    "### Sort files"
   ]
  },
  {
   "cell_type": "markdown",
   "metadata": {},
   "source": [
    "#### Create FastA index file"
   ]
  },
  {
   "cell_type": "code",
   "execution_count": null,
   "metadata": {},
   "outputs": [],
   "source": [
    "%%bash\n",
    "${samtools} faidx \\\n",
    "${genome_fasta}\n",
    "\n",
    "cat ${genome_fasta}.fai"
   ]
  },
  {
   "cell_type": "markdown",
   "metadata": {},
   "source": [
    "#### Create chromosome sizes file"
   ]
  },
  {
   "cell_type": "code",
   "execution_count": null,
   "metadata": {},
   "outputs": [],
   "source": [
    "%%bash\n",
    "# Change LC_COLLATE to use C for proper sorting of file\n",
    "export LC_COLLATE=C\n",
    "\n",
    "cut -f1,2 ${genome_fasta}.fai | sort > ${chrome_sizes}\n",
    "\n",
    "cat ${chrome_sizes}"
   ]
  },
  {
   "cell_type": "markdown",
   "metadata": {},
   "source": [
    "#### Sort GFFs"
   ]
  },
  {
   "cell_type": "code",
   "execution_count": null,
   "metadata": {},
   "outputs": [],
   "source": [
    "%%bash\n",
    "gff_array=(\"${exon_gff}\" \"${gene_gff}\")\n",
    "sorted_gff_array=(\"${exon_gff_sorted}\" \"${gene_gff_sorted}\")\n",
    "\n",
    "for index in \"${!gff_array[@]}\"\n",
    "do\n",
    "  { awk 'NR<4 {print}' \"${gff_array[index]}\"\n",
    "   awk 'NR>3 {print}' \"${gff_array[index]}\" | \"${bedtools_dir}\"/bedtools sort -i -\n",
    "  } >> \"${sorted_gff_array[index]}\"\n",
    "  \n",
    "  # Check out sorted GFFs\n",
    "  echo \"Previewing ${sorted_gff_array[index]}:\"\n",
    "  echo \"\"\n",
    "  head \"${sorted_gff_array[index]}\"\n",
    "  echo \"\"\n",
    "  echo \"Confirming sort order of ${sorted_gff_array[index]}:\"\n",
    "  echo \"\"\n",
    "  cut -f1 \"${sorted_gff_array[index]}\" | uniq\n",
    "  echo \"\"\n",
    "done"
   ]
  },
  {
   "cell_type": "markdown",
   "metadata": {},
   "source": [
    "### Create intergenic BED file"
   ]
  },
  {
   "cell_type": "code",
   "execution_count": null,
   "metadata": {},
   "outputs": [],
   "source": [
    "%%bash\n",
    "\n",
    "\"${bedtools_dir}\"/complementBed \\\n",
    "-i \"${gene_gff_sorted}\" \\\n",
    "-g \"${chrome_sizes}\" \\\n",
    "> \"${intergenic_bed}\"\n",
    "\n",
    "echo \"Previewing ${intergenic_bed}:\"\n",
    "echo \"\"\n",
    "head \"${intergenic_bed}\""
   ]
  },
  {
   "cell_type": "markdown",
   "metadata": {},
   "source": [
    "### Make intron BED file"
   ]
  },
  {
   "cell_type": "code",
   "execution_count": null,
   "metadata": {},
   "outputs": [],
   "source": [
    "%%bash\n",
    "\"${bedtools_dir}\"/complementBed \\\n",
    "-i \"${exon_gff_sorted}\" \\\n",
    "-g \"${chrome_sizes}\" \\\n",
    "> \"${exon_comp_bed}\"\n",
    "\n",
    "echo \"Previewing ${exon_comp_bed}:\"\n",
    "echo \"\"\n",
    "head \"${exon_comp_bed}\"\n",
    "echo \"\"\n",
    "echo \"---------------------\"\n",
    "\n",
    "\"${bedtools_dir}\"/intersectBed \\\n",
    "-a \"${gene_gff_sorted}\" \\\n",
    "-b \"${exon_comp_bed}\" \\\n",
    "| awk -v OFS='\\t' '{print $1,$4,$5}' \\\n",
    "> \"${intron_bed}\"\n",
    "\n",
    "echo \"\"\n",
    "echo \"Previewing ${intron_bed}:\"\n",
    "echo \"\"\n",
    "head \"${intron_bed}\""
   ]
  }
 ],
 "metadata": {
  "kernelspec": {
   "display_name": "Python 3",
   "language": "python",
   "name": "python3"
  },
  "language_info": {
   "codemirror_mode": {
    "name": "ipython",
    "version": 3
   },
   "file_extension": ".py",
   "mimetype": "text/x-python",
   "name": "python",
   "nbconvert_exporter": "python",
   "pygments_lexer": "ipython3",
   "version": "3.6.8"
  }
 },
 "nbformat": 4,
 "nbformat_minor": 2
}
