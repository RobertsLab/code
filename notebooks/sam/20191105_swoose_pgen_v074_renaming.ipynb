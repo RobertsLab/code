{
 "cells": [
  {
   "cell_type": "code",
   "execution_count": 1,
   "metadata": {},
   "outputs": [
    {
     "name": "stdout",
     "output_type": "stream",
     "text": [
      "TODAY'S DATE:\n",
      "Thu Oct 31 08:44:36 PDT 2019\n",
      "------------\n",
      "\n",
      "Distributor ID:\tUbuntu\n",
      "Description:\tUbuntu 16.04.6 LTS\n",
      "Release:\t16.04\n",
      "Codename:\txenial\n",
      "\n",
      "------------\n",
      "HOSTNAME: \n",
      "swoose\n",
      "\n",
      "------------\n",
      "Computer Specs:\n",
      "\n",
      "Architecture:          x86_64\n",
      "CPU op-mode(s):        32-bit, 64-bit\n",
      "Byte Order:            Little Endian\n",
      "CPU(s):                24\n",
      "On-line CPU(s) list:   0-23\n",
      "Thread(s) per core:    2\n",
      "Core(s) per socket:    6\n",
      "Socket(s):             2\n",
      "NUMA node(s):          1\n",
      "Vendor ID:             GenuineIntel\n",
      "CPU family:            6\n",
      "Model:                 44\n",
      "Model name:            Intel(R) Xeon(R) CPU           X5670  @ 2.93GHz\n",
      "Stepping:              2\n",
      "CPU MHz:               2925.971\n",
      "BogoMIPS:              5851.97\n",
      "Virtualization:        VT-x\n",
      "L1d cache:             32K\n",
      "L1i cache:             32K\n",
      "L2 cache:              256K\n",
      "L3 cache:              12288K\n",
      "NUMA node0 CPU(s):     0-23\n",
      "Flags:                 fpu vme de pse tsc msr pae mce cx8 apic sep mtrr pge mca cmov pat pse36 clflush dts acpi mmx fxsr sse sse2 ss ht tm pbe syscall nx pdpe1gb rdtscp lm constant_tsc arch_perfmon pebs bts rep_good nopl xtopology nonstop_tsc aperfmperf pni pclmulqdq dtes64 monitor ds_cpl vmx smx est tm2 ssse3 cx16 xtpr pdcm pcid dca sse4_1 sse4_2 popcnt aes lahf_lm epb ssbd ibrs ibpb stibp kaiser tpr_shadow vnmi flexpriority ept vpid dtherm ida arat flush_l1d\n",
      "\n",
      "------------\n",
      "\n",
      "Memory Specs\n",
      "\n",
      "              total        used        free      shared  buff/cache   available\n",
      "Mem:            70G         29G        435M        452M         41G         40G\n",
      "Swap:          4.7G        251M        4.4G\n"
     ]
    },
    {
     "name": "stderr",
     "output_type": "stream",
     "text": [
      "No LSB modules are available.\n"
     ]
    }
   ],
   "source": [
    "%%bash\n",
    "echo \"TODAY'S DATE:\"\n",
    "date\n",
    "echo \"------------\"\n",
    "echo \"\"\n",
    "#Display operating system info\n",
    "lsb_release -a\n",
    "echo \"\"\n",
    "echo \"------------\"\n",
    "echo \"HOSTNAME: \"; hostname \n",
    "echo \"\"\n",
    "echo \"------------\"\n",
    "echo \"Computer Specs:\"\n",
    "echo \"\"\n",
    "lscpu\n",
    "echo \"\"\n",
    "echo \"------------\"\n",
    "echo \"\"\n",
    "echo \"Memory Specs\"\n",
    "echo \"\"\n",
    "free -mh"
   ]
  },
  {
   "cell_type": "markdown",
   "metadata": {},
   "source": [
    "### Set variables\n",
    "`%env` variables are good for passing to bash cells"
   ]
  },
  {
   "cell_type": "code",
   "execution_count": 2,
   "metadata": {},
   "outputs": [
    {
     "name": "stdout",
     "output_type": "stream",
     "text": [
      "env: wd=/home/sam/analyses/20191031_pgen_v074_stringtie_BAM_splitting\n",
      "env: rsync_gannet=gannet:/volume2/web/Atumefaciens/20190723_stringtie_pgen_v074/\n",
      "env: wget_bam=--quiet --no-check-certificate https://gannet.fish.washington.edu/Atumefaciens/20190723_stringtie_pgen_v074/20190723_sorted.merged.bam\n",
      "env: original_bam=20190723_sorted.merged.bam\n",
      "env: reassembled_bam=20190723_sorted.merged.reassembled.bam\n"
     ]
    }
   ],
   "source": [
    "# Set workding directory\n",
    "%env wd=/home/sam/analyses/20191105_swoose_pgen_v074_renaming\n",
    "wd=\"/home/sam/analyses/20191105_swoose_pgen_v074_renaming\"\n",
    "\n",
    "%env rsync_owl=owl:/volume1/web/halfshell/genomic-databank/\n",
    "%env files_list=Panopea-generosa-vv0.74.a4.CDS.gff3 Panopea-generosa-vv0.74.a4.exon.gff3 Panopea-generosa-vv0.74.a4.gene.gff3 Panopea-generosa-vv0.74.a4.mRNA.gff3 Panopea-generosa-vv0.74.a4.repeat_region.gff3 Panopea-generosa-vv0.74.a4.rRNA.gff3 Panopea-generosa-vv0.74.a4.tRNA.gff3 Pgenerosa_v074.fa Pgenerosa_v074.fa.fai Pgenerosa_v074.CpG.gff Panopea-generosa-vv0.74.a4.intergenic.bed  Panopea-generosa-vv0.74.a4.introns.bed Panopea-generosa-vv0.74.a4.repeats.DNA.gff3 Panopea-generosa-vv0.74.a4.repeats.LTR.gff3 Panopea-generosa-vv0.74.a4.repeats.SINE.gff3 Panopea-generosa-vv0.74.a4.repeats.Unknown.gff3 Panopea-generosa-vv0.74.a4.repeats.LINE.gff3 Panopea-generosa-vv0.74.a4.repeats.RC.gff3 Panopea-generosa-vv0.74.a4.repeats.Simple_repeat.gff3\n",
    "%env wget_command=--directory-prefix=${wd} --quiety --no-directories --no-check-certificate  https://owl.fish.washington.edu/halfshell/genomic-databank/\n",
    "\n",
    "%env new_prefix=Panopea-generosa-v1.0\n",
    "%env fa_prefix=Pgenerosa_v074\n",
    "%env gff_prefix=Panopea-generosa-vv0.74"
   ]
  },
  {
   "cell_type": "markdown",
   "metadata": {},
   "source": [
    "#### Create necessary directories"
   ]
  },
  {
   "cell_type": "code",
   "execution_count": 3,
   "metadata": {
    "collapsed": true,
    "jupyter": {
     "outputs_hidden": true
    }
   },
   "outputs": [],
   "source": [
    "%%bash\n",
    "mkdir --parents ${wd}"
   ]
  },
  {
   "cell_type": "code",
   "execution_count": 4,
   "metadata": {},
   "outputs": [
    {
     "name": "stdout",
     "output_type": "stream",
     "text": [
      "/home/sam/analyses/20191031_pgen_v074_stringtie_BAM_splitting\n"
     ]
    }
   ],
   "source": [
    "cd {wd}"
   ]
  },
  {
   "cell_type": "markdown",
   "metadata": {},
   "source": [
    "#### Download Pgen_v074 files\n"
   ]
  },
  {
   "cell_type": "code",
   "execution_count": null,
   "metadata": {},
   "outputs": [],
   "source": [
    "%%bash\n",
    "# Create array of files from list\n",
    "mapfile -t files_array < <(echo \"${files_list}\" | tr \" \" \"\\n\")\n",
    "\n",
    "for file in \"${files_array[@]}\"\n",
    "do\n",
    "  rsync \\\n",
    "  --archive \\\n",
    "  --progress \\\n",
    "  --verbose \\\n",
    "  \"${rsync_owl}${file}\" \\\n",
    "  .\n",
    "done\n",
    "\n",
    "ls -lh"
   ]
  },
  {
   "cell_type": "markdown",
   "metadata": {},
   "source": [
    "#### If need to download via wget, uncomment lines in the cell below"
   ]
  },
  {
   "cell_type": "code",
   "execution_count": 5,
   "metadata": {},
   "outputs": [],
   "source": [
    "# %%bash\n",
    "# time \\\n",
    "# wget \"${wget_gffs}\"\n",
    "# wget \"${wget_fasta}\"\n",
    "# ls -lh ${wd}"
   ]
  },
  {
   "cell_type": "code",
   "execution_count": 7,
   "metadata": {},
   "outputs": [
    {
     "name": "stdout",
     "output_type": "stream",
     "text": [
      "total 73G\n",
      "-rw-rw-r-- 1 sam users 73G Aug 29 10:54 20190723_sorted.merged.bam\n"
     ]
    }
   ],
   "source": [
    "%%bash\n",
    "ls -lh"
   ]
  },
  {
   "cell_type": "code",
   "execution_count": null,
   "metadata": {},
   "outputs": [],
   "source": [
    "%%bash\n",
    "\n",
    "mapfile -t files_array < <(echo \"${files_list}\" | tr \" \" \"\\n\")\n",
    "\n",
    "# Array of old scaffold names\n",
    "# Uses first column of FastA index file to get scaffold names\n",
    "mapfile -t orig_scaffold_names < <(awk '{print $1}' Pgenerosa_v074.fa.fai)\n",
    "\n",
    "# Array of new scaffold names\n",
    "mapfile -t new_scaffold_names < <(for number in {01..18}; do echo \"Scaffold_${number}\"; done)\n",
    "\n",
    "\n",
    "for file in \"${files_array[@]}\"\n",
    "do\n",
    "  # Set new filename, depending if FastA or GFF\n",
    "  name_check=$(\"${file%%.*}\")\n",
    "  if [ \"${name_check}\" = \"${fa_prefix}\" ]\n",
    "  then\n",
    "    new_name=${file/$name_check/$fa_prefix}\n",
    "  else\n",
    "    new_name=${file/$name_check/$gff_prefix}\n",
    "  fi\n",
    "  # sed substitution\n",
    "  # creates sed script to find original scaffold names and replace them with new scafold names\n",
    "  # and passes to sed via stdin\n",
    "  for index in \"${!orig_scaffold_names[@]}\"\n",
    "  do\n",
    "    printf 's/%s/%s/'\\n \"${orig_scaffold_names[index]}\" \"${new_scaffold_names[index]}\"\n",
    "  done \\\n",
    "  | sed --file- \"${file}\" \\\n",
    "  >> \"${new_name}\"\n",
    "done"
   ]
  }
 ],
 "metadata": {
  "kernelspec": {
   "display_name": "Python 3",
   "language": "python",
   "name": "python3"
  },
  "language_info": {
   "codemirror_mode": {
    "name": "ipython",
    "version": 3
   },
   "file_extension": ".py",
   "mimetype": "text/x-python",
   "name": "python",
   "nbconvert_exporter": "python",
   "pygments_lexer": "ipython3",
   "version": "3.6.8"
  }
 },
 "nbformat": 4,
 "nbformat_minor": 4
}
