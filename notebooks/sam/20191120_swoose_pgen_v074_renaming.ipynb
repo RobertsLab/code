{
 "cells": [
  {
   "cell_type": "code",
   "execution_count": 1,
   "metadata": {},
   "outputs": [
    {
     "name": "stdout",
     "output_type": "stream",
     "text": [
      "TODAY'S DATE:\n",
      "Wed Nov 20 11:53:55 PST 2019\n",
      "------------\n",
      "\n",
      "Distributor ID:\tUbuntu\n",
      "Description:\tUbuntu 16.04.6 LTS\n",
      "Release:\t16.04\n",
      "Codename:\txenial\n",
      "\n",
      "------------\n",
      "HOSTNAME: \n",
      "swoose\n",
      "\n",
      "------------\n",
      "Computer Specs:\n",
      "\n",
      "Architecture:          x86_64\n",
      "CPU op-mode(s):        32-bit, 64-bit\n",
      "Byte Order:            Little Endian\n",
      "CPU(s):                24\n",
      "On-line CPU(s) list:   0-23\n",
      "Thread(s) per core:    2\n",
      "Core(s) per socket:    6\n",
      "Socket(s):             2\n",
      "NUMA node(s):          1\n",
      "Vendor ID:             GenuineIntel\n",
      "CPU family:            6\n",
      "Model:                 44\n",
      "Model name:            Intel(R) Xeon(R) CPU           X5670  @ 2.93GHz\n",
      "Stepping:              2\n",
      "CPU MHz:               2925.971\n",
      "BogoMIPS:              5851.97\n",
      "Virtualization:        VT-x\n",
      "L1d cache:             32K\n",
      "L1i cache:             32K\n",
      "L2 cache:              256K\n",
      "L3 cache:              12288K\n",
      "NUMA node0 CPU(s):     0-23\n",
      "Flags:                 fpu vme de pse tsc msr pae mce cx8 apic sep mtrr pge mca cmov pat pse36 clflush dts acpi mmx fxsr sse sse2 ss ht tm pbe syscall nx pdpe1gb rdtscp lm constant_tsc arch_perfmon pebs bts rep_good nopl xtopology nonstop_tsc aperfmperf pni pclmulqdq dtes64 monitor ds_cpl vmx smx est tm2 ssse3 cx16 xtpr pdcm pcid dca sse4_1 sse4_2 popcnt aes lahf_lm epb ssbd ibrs ibpb stibp kaiser tpr_shadow vnmi flexpriority ept vpid dtherm ida arat flush_l1d\n",
      "\n",
      "------------\n",
      "\n",
      "Memory Specs\n",
      "\n",
      "              total        used        free      shared  buff/cache   available\n",
      "Mem:            70G         39G        1.1G        969M         30G         29G\n",
      "Swap:          4.7G        917M        3.8G\n"
     ]
    },
    {
     "name": "stderr",
     "output_type": "stream",
     "text": [
      "No LSB modules are available.\n"
     ]
    }
   ],
   "source": [
    "%%bash\n",
    "echo \"TODAY'S DATE:\"\n",
    "date\n",
    "echo \"------------\"\n",
    "echo \"\"\n",
    "#Display operating system info\n",
    "lsb_release -a\n",
    "echo \"\"\n",
    "echo \"------------\"\n",
    "echo \"HOSTNAME: \"; hostname \n",
    "echo \"\"\n",
    "echo \"------------\"\n",
    "echo \"Computer Specs:\"\n",
    "echo \"\"\n",
    "lscpu\n",
    "echo \"\"\n",
    "echo \"------------\"\n",
    "echo \"\"\n",
    "echo \"Memory Specs\"\n",
    "echo \"\"\n",
    "free -mh"
   ]
  },
  {
   "cell_type": "markdown",
   "metadata": {},
   "source": [
    "### Set variables\n",
    "`%env` variables are good for passing to bash cells"
   ]
  },
  {
   "cell_type": "code",
   "execution_count": 9,
   "metadata": {},
   "outputs": [
    {
     "name": "stdout",
     "output_type": "stream",
     "text": [
      "env: wd=/home/sam/analyses/20191120_swoose_pgen_v074_renaming\n",
      "env: old_fa_index=Pgenerosa_v074.fa.fai\n",
      "env: base_cov_url=https://gannet.fish.washington.edu/seashell/bu-mox/scrubbed\n"
     ]
    }
   ],
   "source": [
    "# Set workding directory\n",
    "%env wd=/home/sam/analyses/20191120_swoose_pgen_v074_renaming\n",
    "wd=\"/home/sam/analyses/20191120_swoose_pgen_v074_renaming\"\n",
    "\n",
    "%env old_fa_index=Pgenerosa_v074.fa.fai\n",
    "%env base_cov_url=https://gannet.fish.washington.edu/seashell/bu-mox/scrubbed"
   ]
  },
  {
   "cell_type": "code",
   "execution_count": 3,
   "metadata": {},
   "outputs": [
    {
     "name": "stdout",
     "output_type": "stream",
     "text": [
      "--recursive --accept deduplicated.bismark.cov.gz --no-parent --no-directories --quietly --no-check-certificate\n"
     ]
    }
   ],
   "source": [
    "%%bash\n",
    "echo ${wget_options}"
   ]
  },
  {
   "cell_type": "markdown",
   "metadata": {},
   "source": [
    "#### Create necessary directories"
   ]
  },
  {
   "cell_type": "code",
   "execution_count": 4,
   "metadata": {
    "collapsed": true,
    "jupyter": {
     "outputs_hidden": true
    }
   },
   "outputs": [],
   "source": [
    "%%bash\n",
    "mkdir --parents ${wd}"
   ]
  },
  {
   "cell_type": "code",
   "execution_count": 5,
   "metadata": {},
   "outputs": [
    {
     "name": "stdout",
     "output_type": "stream",
     "text": [
      "/home/sam/analyses/20191120_swoose_pgen_v074_renaming\n"
     ]
    }
   ],
   "source": [
    "cd {wd}"
   ]
  },
  {
   "cell_type": "markdown",
   "metadata": {},
   "source": [
    "#### Download Pgen_v074 files\n"
   ]
  },
  {
   "cell_type": "code",
   "execution_count": 12,
   "metadata": {},
   "outputs": [
    {
     "name": "stdout",
     "output_type": "stream",
     "text": [
      "Downloading coverage files from https://gannet.fish.washington.edu/seashell/bu-mox/scrubbed/0807/\n",
      "Downloading coverage files from https://gannet.fish.washington.edu/seashell/bu-mox/scrubbed/0807-003/\n",
      "Downloading coverage files from https://gannet.fish.washington.edu/seashell/bu-mox/scrubbed/0807-004/\n",
      "Downloading coverage files from https://gannet.fish.washington.edu/seashell/bu-mox/scrubbed/0809-005/\n",
      "total 2.5G\n",
      "-rw-rw-r-- 1 sam sam  57M Aug 12 14:29 EPI-103_S27_L005_R1_001_val_1_bismark_bt2_pe.deduplicated.bismark.cov.gz\n",
      "-rw-rw-r-- 1 sam sam  68M Aug 12 14:57 EPI-104_S28_L005_R1_001_val_1_bismark_bt2_pe.deduplicated.bismark.cov.gz\n",
      "-rw-rw-r-- 1 sam sam  64M Aug 12 15:24 EPI-111_S29_L005_R1_001_val_1_bismark_bt2_pe.deduplicated.bismark.cov.gz\n",
      "-rw-rw-r-- 1 sam sam  62M Aug 12 15:49 EPI-113_S30_L005_R1_001_val_1_bismark_bt2_pe.deduplicated.bismark.cov.gz\n",
      "-rw-rw-r-- 1 sam sam  69M Aug 12 16:18 EPI-119_S31_L005_R1_001_val_1_bismark_bt2_pe.deduplicated.bismark.cov.gz\n",
      "-rw-rw-r-- 1 sam sam  62M Aug 12 16:43 EPI-120_S32_L005_R1_001_val_1_bismark_bt2_pe.deduplicated.bismark.cov.gz\n",
      "-rw-rw-r-- 1 sam sam  58M Aug 12 17:05 EPI-127_S33_L005_R1_001_val_1_bismark_bt2_pe.deduplicated.bismark.cov.gz\n",
      "-rw-rw-r-- 1 sam sam  61M Aug 12 17:29 EPI-128_S34_L005_R1_001_val_1_bismark_bt2_pe.deduplicated.bismark.cov.gz\n",
      "-rw-rw-r-- 1 sam sam  61M Aug 12 17:55 EPI-135_S35_L005_R1_001_val_1_bismark_bt2_pe.deduplicated.bismark.cov.gz\n",
      "-rw-rw-r-- 1 sam sam  62M Aug 12 18:20 EPI-136_S36_L005_R1_001_val_1_bismark_bt2_pe.deduplicated.bismark.cov.gz\n",
      "-rw-rw-r-- 1 sam sam  55M Aug 12 18:41 EPI-143_S37_L005_R1_001_val_1_bismark_bt2_pe.deduplicated.bismark.cov.gz\n",
      "-rw-rw-r-- 1 sam sam  61M Aug 12 19:05 EPI-145_S38_L005_R1_001_val_1_bismark_bt2_pe.deduplicated.bismark.cov.gz\n",
      "-rw-rw-r-- 1 sam sam  49M Aug  7 08:39 EPI-151_S2_L002_R1_001_val_1_bismark_bt2_pe.deduplicated.bismark.cov.gz\n",
      "-rw-rw-r-- 1 sam sam  53M Aug  7 09:00 EPI-152_S3_L002_R1_001_val_1_bismark_bt2_pe.deduplicated.bismark.cov.gz\n",
      "-rw-rw-r-- 1 sam sam  44M Aug  7 09:16 EPI-153_S4_L002_R1_001_val_1_bismark_bt2_pe.deduplicated.bismark.cov.gz\n",
      "-rw-rw-r-- 1 sam sam  47M Aug  7 09:32 EPI-154_S5_L002_R1_001_val_1_bismark_bt2_pe.deduplicated.bismark.cov.gz\n",
      "-rw-rw-r-- 1 sam sam  36M Aug  7 09:43 EPI-159_S6_L002_R1_001_val_1_bismark_bt2_pe.deduplicated.bismark.cov.gz\n",
      "-rw-rw-r-- 1 sam sam  53M Aug  7 10:04 EPI-160_S7_L002_R1_001_val_1_bismark_bt2_pe.deduplicated.bismark.cov.gz\n",
      "-rw-rw-r-- 1 sam sam  44M Aug  7 10:17 EPI-161_S8_L002_R1_001_val_1_bismark_bt2_pe.deduplicated.bismark.cov.gz\n",
      "-rw-rw-r-- 1 sam sam  43M Aug  7 10:32 EPI-162_S9_L002_R1_001_val_1_bismark_bt2_pe.deduplicated.bismark.cov.gz\n",
      "-rw-rw-r-- 1 sam sam  53M Aug  7 10:50 EPI-167_S10_L002_R1_001_val_1_bismark_bt2_pe.deduplicated.bismark.cov.gz\n",
      "-rw-rw-r-- 1 sam sam  45M Aug  7 11:06 EPI-168_S11_L002_R1_001_val_1_bismark_bt2_pe.deduplicated.bismark.cov.gz\n",
      "-rw-rw-r-- 1 sam sam  43M Aug  7 11:21 EPI-169_S12_L002_R1_001_val_1_bismark_bt2_pe.deduplicated.bismark.cov.gz\n",
      "-rw-rw-r-- 1 sam sam  49M Aug  7 11:37 EPI-170_S13_L002_R1_001_val_1_bismark_bt2_pe.deduplicated.bismark.cov.gz\n",
      "-rw-rw-r-- 1 sam sam  53M Aug  8 05:03 EPI-175_S14_L003_R1_001_val_1_bismark_bt2_pe.deduplicated.bismark.cov.gz\n",
      "-rw-rw-r-- 1 sam sam  63M Aug  8 05:28 EPI-176_S15_L003_R1_001_val_1_bismark_bt2_pe.deduplicated.bismark.cov.gz\n",
      "-rw-rw-r-- 1 sam sam  53M Aug  8 05:49 EPI-181_S16_L003_R1_001_val_1_bismark_bt2_pe.deduplicated.bismark.cov.gz\n",
      "-rw-rw-r-- 1 sam sam  62M Aug  8 06:15 EPI-182_S17_L003_R1_001_val_1_bismark_bt2_pe.deduplicated.bismark.cov.gz\n",
      "-rw-rw-r-- 1 sam sam  44M Aug  8 06:29 EPI-184_S18_L003_R1_001_val_1_bismark_bt2_pe.deduplicated.bismark.cov.gz\n",
      "-rw-rw-r-- 1 sam sam  25M Aug  8 06:36 EPI-185_S19_L003_R1_001_val_1_bismark_bt2_pe.deduplicated.bismark.cov.gz\n",
      "-rw-rw-r-- 1 sam sam  47M Aug  8 06:53 EPI-187_S20_L003_R1_001_val_1_bismark_bt2_pe.deduplicated.bismark.cov.gz\n",
      "-rw-rw-r-- 1 sam sam  42M Aug  8 07:07 EPI-188_S21_L003_R1_001_val_1_bismark_bt2_pe.deduplicated.bismark.cov.gz\n",
      "-rw-rw-r-- 1 sam sam  50M Aug  8 07:25 EPI-193_S22_L003_R1_001_val_1_bismark_bt2_pe.deduplicated.bismark.cov.gz\n",
      "-rw-rw-r-- 1 sam sam  57M Aug  8 07:48 EPI-194_S23_L003_R1_001_val_1_bismark_bt2_pe.deduplicated.bismark.cov.gz\n",
      "-rw-rw-r-- 1 sam sam  33M Aug  8 07:58 EPI-199_S24_L003_R1_001_val_1_bismark_bt2_pe.deduplicated.bismark.cov.gz\n",
      "-rw-rw-r-- 1 sam sam  45M Aug  8 08:14 EPI-200_S25_L003_R1_001_val_1_bismark_bt2_pe.deduplicated.bismark.cov.gz\n",
      "-rw-rw-r-- 1 sam sam  33M Aug  8 10:04 EPI-205_S26_L004_R1_001_val_1_bismark_bt2_pe.deduplicated.bismark.cov.gz\n",
      "-rw-rw-r-- 1 sam sam  43M Aug  8 10:19 EPI-206_S27_L004_R1_001_val_1_bismark_bt2_pe.deduplicated.bismark.cov.gz\n",
      "-rw-rw-r-- 1 sam sam  51M Aug  8 10:37 EPI-208_S28_L004_R1_001_val_1_bismark_bt2_pe.deduplicated.bismark.cov.gz\n",
      "-rw-rw-r-- 1 sam sam  54M Aug  8 10:58 EPI-209_S29_L004_R1_001_val_1_bismark_bt2_pe.deduplicated.bismark.cov.gz\n",
      "-rw-rw-r-- 1 sam sam  55M Aug  8 11:19 EPI-214_S30_L004_R1_001_val_1_bismark_bt2_pe.deduplicated.bismark.cov.gz\n",
      "-rw-rw-r-- 1 sam sam  42M Aug  8 11:37 EPI-215_S31_L004_R1_001_val_1_bismark_bt2_pe.deduplicated.bismark.cov.gz\n",
      "-rw-rw-r-- 1 sam sam  34M Aug  8 11:47 EPI-220_S32_L004_R1_001_val_1_bismark_bt2_pe.deduplicated.bismark.cov.gz\n",
      "-rw-rw-r-- 1 sam sam  36M Aug  8 11:59 EPI-221_S33_L004_R1_001_val_1_bismark_bt2_pe.deduplicated.bismark.cov.gz\n",
      "-rw-rw-r-- 1 sam sam  29M Aug  8 12:07 EPI-226_S34_L004_R1_001_val_1_bismark_bt2_pe.deduplicated.bismark.cov.gz\n",
      "-rw-rw-r-- 1 sam sam  33M Aug  8 12:17 EPI-227_S35_L004_R1_001_val_1_bismark_bt2_pe.deduplicated.bismark.cov.gz\n",
      "-rw-rw-r-- 1 sam sam  42M Aug  8 12:30 EPI-229_S36_L004_R1_001_val_1_bismark_bt2_pe.deduplicated.bismark.cov.gz\n",
      "-rw-rw-r-- 1 sam sam  47M Aug  8 12:47 EPI-230_S37_L004_R1_001_val_1_bismark_bt2_pe.deduplicated.bismark.cov.gz\n",
      "-rw-rw-r-- 1 sam sam  43M Aug 12 19:20 EPI-41_S38_L005_R1_001_val_1_bismark_bt2_pe.deduplicated.bismark.cov.gz\n",
      "-rw-rw-r-- 1 sam sam  48M Aug 12 19:39 EPI-42_S39_L005_R1_001_val_1_bismark_bt2_pe.deduplicated.bismark.cov.gz\n",
      "-rw-rw-r-- 1 sam sam  43M Aug 12 19:54 EPI-43_S40_L005_R1_001_val_1_bismark_bt2_pe.deduplicated.bismark.cov.gz\n",
      "-rw-rw-r-- 1 sam sam  31M Aug 12 20:04 EPI-44_S41_L005_R1_001_val_1_bismark_bt2_pe.deduplicated.bismark.cov.gz\n",
      "-rw-rw-r-- 1 sam sam 1.3K Jun 26 08:54 Pgenerosa_v074.fa.fai\n"
     ]
    },
    {
     "name": "stderr",
     "output_type": "stream",
     "text": [
      "rm: cannot remove '*.html*': No such file or directory\n"
     ]
    }
   ],
   "source": [
    "%%bash\n",
    "url_array=(\"${base_cov_url}\"/0807/ \"${base_cov_url}\"/0807-003/ \"${base_cov_url}\"/0807-004/ \"${base_cov_url}\"/0809-005/)\n",
    "\n",
    "# Downlaod Bismark coverage files\n",
    "for url in \"${url_array[@]}\"\n",
    "do\n",
    "    echo \"Downloading coverage files from ${url}\"\n",
    "    \n",
    "    wget \\\n",
    "    --recursive \\\n",
    "    --accept deduplicated.bismark.cov.gz \\\n",
    "    --no-parent \\\n",
    "    --no-directories \\\n",
    "    --quiet \\\n",
    "    --no-check-certificate \\\n",
    "    \"${url}\"\n",
    "done\n",
    "\n",
    "\n",
    "# Remove index files\n",
    "rm *.html*\n",
    "\n",
    "# Download Pgen_074 FastA Index file\n",
    "wget --quiet http://owl.fish.washington.edu/halfshell/genomic-databank/Pgenerosa_v074.fa.fai\n",
    "    \n",
    "ls -lh"
   ]
  },
  {
   "cell_type": "code",
   "execution_count": 13,
   "metadata": {},
   "outputs": [
    {
     "name": "stdout",
     "output_type": "stream",
     "text": [
      "PGA_scaffold1__77_contigs__length_89643857\t54\t54\t0\t0\t1\n",
      "PGA_scaffold1__77_contigs__length_89643857\t72\t72\t0\t0\t1\n",
      "PGA_scaffold1__77_contigs__length_89643857\t96\t96\t0\t0\t1\n",
      "PGA_scaffold1__77_contigs__length_89643857\t119\t119\t0\t0\t1\n",
      "PGA_scaffold1__77_contigs__length_89643857\t202\t202\t0\t0\t1\n",
      "PGA_scaffold1__77_contigs__length_89643857\t209\t209\t0\t0\t1\n",
      "PGA_scaffold1__77_contigs__length_89643857\t213\t213\t0\t0\t1\n",
      "PGA_scaffold1__77_contigs__length_89643857\t221\t221\t0\t0\t1\n",
      "PGA_scaffold1__77_contigs__length_89643857\t238\t238\t0\t0\t1\n",
      "PGA_scaffold1__77_contigs__length_89643857\t1254\t1254\t0\t0\t1\n"
     ]
    }
   ],
   "source": [
    "%%bash\n",
    "\n",
    "zcat EPI-154_S5_L002_R1_001_val_1_bismark_bt2_pe.deduplicated.bismark.cov.gz | head"
   ]
  },
  {
   "cell_type": "markdown",
   "metadata": {},
   "source": [
    "### Change scaffold names"
   ]
  },
  {
   "cell_type": "code",
   "execution_count": null,
   "metadata": {},
   "outputs": [],
   "source": [
    "%%bash\n",
    "# Array of old scaffold names\n",
    "# Uses first column of FastA index file to get scaffold names\n",
    "mapfile -t orig_scaffold_names < <(awk '{print $1}' \"${old_fa_index}\")\n",
    "\n",
    "# Array of new scaffold names\n",
    "mapfile -t new_scaffold_names < <(for number in {01..18}; do echo \"Scaffold_${number}\"; done)\n",
    "\n",
    "\n",
    "for gzfile in *cov.gz\n",
    "do\n",
    "  # Save gunzipped filename (via parameter substitution - removes .gz from input filename)\n",
    "  name=\"${gzfile%.*}\"\n",
    "\n",
    "  # Gunzip the gzipped file\n",
    "  echo \"\"\n",
    "  echo \"Decompressing ${gzfile}\"\n",
    "  echo \"Generating ${name}\"\n",
    "  gunzip \"${gzfile}\"\n",
    "\n",
    "\n",
    "  # sed substitution\n",
    "  # creates sed script to find original scaffold names and replace them with new scafold names\n",
    "  # and passes to sed via stdin\n",
    "  for index in \"${!orig_scaffold_names[@]}\"\n",
    "    do\n",
    "    printf \"s/%s/%s/\\n\" \"${orig_scaffold_names[index]}\" \"${new_scaffold_names[index]}\"\n",
    "  done | sed --file - \"${name}\" \\\n",
    "  >> \"${name}\".tmp\n",
    "\n",
    "  # Remove the gunzipped file, now that a .tmp file exists\n",
    "  echo \"\"\n",
    "  echo \"Now removing ${name}\"\n",
    "  rm \"${name}\"\n",
    "\n",
    "  # Compress .tmp coverage files\n",
    "  echo \"\"\n",
    "  echo \"Compressing ${name}.tmp to ${name}.gz\"\n",
    "  gzip --to-stdout \"${name}\".tmp > \"${name}\".gz\n",
    "done\n",
    "\n",
    "ls -ltrh"
   ]
  },
  {
   "cell_type": "code",
   "execution_count": null,
   "metadata": {},
   "outputs": [],
   "source": [
    "%%bash\n",
    "zcat EPI-154_S5_L002_R1_001_val_1_bismark_bt2_pe.deduplicated.bismark.cov.gz | head\n",
    "zcat EPI-154_S5_L002_R1_001_val_1_bismark_bt2_pe.deduplicated.bismark.cov.gz | tail"
   ]
  },
  {
   "cell_type": "markdown",
   "metadata": {},
   "source": [
    "# Clean up"
   ]
  },
  {
   "cell_type": "code",
   "execution_count": null,
   "metadata": {},
   "outputs": [],
   "source": [
    "%%bash\n",
    "rm *.tmp \"${old_fa_index}\"\n",
    "\n",
    "ls -lh"
   ]
  },
  {
   "cell_type": "code",
   "execution_count": null,
   "metadata": {},
   "outputs": [],
   "source": []
  }
 ],
 "metadata": {
  "kernelspec": {
   "display_name": "Python 3",
   "language": "python",
   "name": "python3"
  },
  "language_info": {
   "codemirror_mode": {
    "name": "ipython",
    "version": 3
   },
   "file_extension": ".py",
   "mimetype": "text/x-python",
   "name": "python",
   "nbconvert_exporter": "python",
   "pygments_lexer": "ipython3",
   "version": "3.6.8"
  }
 },
 "nbformat": 4,
 "nbformat_minor": 4
}
