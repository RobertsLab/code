{
 "cells": [
  {
   "cell_type": "code",
   "execution_count": null,
   "metadata": {},
   "outputs": [],
   "source": [
    "%%bash\n",
    "echo \"TODAY'S DATE:\"\n",
    "date\n",
    "echo \"------------\"\n",
    "echo \"\"\n",
    "#Display operating system info\n",
    "lsb_release -a\n",
    "echo \"\"\n",
    "echo \"------------\"\n",
    "echo \"HOSTNAME: \"; hostname \n",
    "echo \"\"\n",
    "echo \"------------\"\n",
    "echo \"Computer Specs:\"\n",
    "echo \"\"\n",
    "lscpu\n",
    "echo \"\"\n",
    "echo \"------------\"\n",
    "echo \"\"\n",
    "echo \"Memory Specs\"\n",
    "echo \"\"\n",
    "free -mh"
   ]
  },
  {
   "cell_type": "markdown",
   "metadata": {},
   "source": [
    "### Set variables\n",
    "\n",
    "`%env` are best for bash"
   ]
  },
  {
   "cell_type": "code",
   "execution_count": null,
   "metadata": {},
   "outputs": [],
   "source": [
    "# Set workding directory\n",
    "%env wd=/home/sam/analyses/20191203_pgen_v074.a4_genome_feature_counts\n",
    "wd=\"/home/sam/analyses/20191203_pgen_v074.a4_genome_feature_counts\"\n",
    "\n",
    "# File download commands\n",
    "%env downloads_list=Panopea-generosa-vv0.74.a4-merged-2019-11-26-15-30-34.gff Pgenerosa_v074.fa.fai\n",
    "\n",
    "\n",
    "%env wget_command=--directory-prefix=${wd} --quiety --no-directories --no-check-certificate https://owl.fish.washington.edu/halfshell/genomic-databank/Panopea-generosa-vv0.74.a4-merged-2019-11-26-15-30-34.gff3\n",
    "%env wget_fai=https://owl.fish.washington.edu/halfshell/genomic-databank/Pgenerosa_v074.fa.fai\n",
    "\n",
    "# Input/output files\n",
    "%env org_merged_gff=Panopea-generosa-vv0.74.a4-merged-2019-11-26-15-30-34.gff\n",
    "%env new_merged_gff=Panopea-generosa-v1.0.a4.gff3\n",
    "%env exon_gff=Panopea-generosa-v1.0.a4.exon.gff3\n",
    "%env exon_bed=Panopea-generosa-v1.0.a4.exon.bed\n",
    "%env gene_gff=Panopea-generosa-v1.0.a4.gene.gff3\n",
    "%env gene_bed=Panopea-generosa-v1.0.a4.gene.bed\n",
    "%env introns_bed=Panopea-generosa-v1.0.a4.introns.bed\n",
    "%env intergenic_bed=Panopea-generosa-v1.0.a4.intergenic.bed\n",
    "\n",
    "# Programs\n",
    "%env intersectbed=/home/sam/programs/bedtools-2.28.0/bin/intersectBed\n",
    "\n",
    "# Set list of column header names\n",
    "bed_header = ['scaffold', 'start', 'end']"
   ]
  },
  {
   "cell_type": "markdown",
   "metadata": {},
   "source": [
    "### Import Python modules"
   ]
  },
  {
   "cell_type": "code",
   "execution_count": null,
   "metadata": {},
   "outputs": [],
   "source": [
    "%%bash\n",
    "mkdir --parents ${wd}"
   ]
  },
  {
   "cell_type": "code",
   "execution_count": null,
   "metadata": {},
   "outputs": [],
   "source": [
    "cd {wd}"
   ]
  },
  {
   "cell_type": "markdown",
   "metadata": {},
   "source": [
    "### Download files"
   ]
  },
  {
   "cell_type": "code",
   "execution_count": null,
   "metadata": {},
   "outputs": [],
   "source": []
  }
 ],
 "metadata": {
  "kernelspec": {
   "display_name": "Python 3",
   "language": "python",
   "name": "python3"
  },
  "language_info": {
   "codemirror_mode": {
    "name": "ipython",
    "version": 3
   },
   "file_extension": ".py",
   "mimetype": "text/x-python",
   "name": "python",
   "nbconvert_exporter": "python",
   "pygments_lexer": "ipython3",
   "version": "3.6.8"
  }
 },
 "nbformat": 4,
 "nbformat_minor": 2
}
