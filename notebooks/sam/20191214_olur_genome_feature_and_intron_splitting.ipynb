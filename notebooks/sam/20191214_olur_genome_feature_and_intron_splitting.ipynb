{
 "cells": [
  {
   "cell_type": "code",
   "execution_count": null,
   "metadata": {},
   "outputs": [],
   "source": [
    "%%bash\n",
    "echo \"TODAY'S DATE:\"\n",
    "date\n",
    "echo \"------------\"\n",
    "echo \"\"\n",
    "#Display operating system info\n",
    "lsb_release -a\n",
    "echo \"\"\n",
    "echo \"------------\"\n",
    "echo \"HOSTNAME: \"; hostname \n",
    "echo \"\"\n",
    "echo \"------------\"\n",
    "echo \"Computer Specs:\"\n",
    "echo \"\"\n",
    "lscpu\n",
    "echo \"\"\n",
    "echo \"------------\"\n",
    "echo \"\"\n",
    "echo \"Memory Specs\"\n",
    "echo \"\"\n",
    "free -mh"
   ]
  },
  {
   "cell_type": "markdown",
   "metadata": {},
   "source": [
    "### Set variables¶\n",
    "%env are best for bash"
   ]
  },
  {
   "cell_type": "code",
   "execution_count": null,
   "metadata": {},
   "outputs": [],
   "source": [
    "%env wd=/home/sam/analyses/20191214_olur_genome_feature_and_intron_splitting\n",
    "wd=\"/home/sam/analyses/20191214_olur_genome_feature_and_intron_splitting\"\n",
    "\n",
    "# File download\n",
    "%env downloads_list=Olurida_v081.fa.fai Olurida_v081_genome_snap02.all.renamed.putative_function.domain_added.gff Olurida_v081-20190709.exon.gff\n",
    "%env rsync_owl=owl:/volume1/web/halfshell/genomic-databank/\n",
    "\n",
    "# Input/output files\n",
    "%env chrome_sizes=Olurida_v081.sizes.txt\n",
    "%env fa_index=Olurida_v081.fa.fai\n",
    "%env maker_gff=Olurida_v081_genome_snap02.all.renamed.putative_function.domain_added.gff\n",
    "%env base_name=Olurida_v081-20190709\n",
    "%env exon_gff=Olurida_v081-20190709.exon.gff3\n",
    "%env exon_gff_sorted=Olurida_v081-20190709.exon.sorted.gff3\n",
    "%env gene_gff=Olurida_v081-20190709.gene.gff3\n",
    "%env gene_gff_sorted=Olurida_v081-20190709.gene.sorted.gff3\n",
    "\n",
    "%env exon_comp_bed=Olurida_v081-20190709.exon.sorted.comp.bed\n",
    "%env intron_bed=Olurida_v081-20190709.introns.bed\n",
    "%env intergenic_bed=Olurida_v081-20190709.intergenic.bed\n",
    "\n",
    "# Programs\n",
    "%env bedtools_dir=/home/samb/programs/bedtools-2.29.0/bin\n",
    "%env samtools=/home/samb/programs/samtools-1.10"
   ]
  },
  {
   "cell_type": "markdown",
   "metadata": {},
   "source": [
    "### Create necessary directories"
   ]
  },
  {
   "cell_type": "code",
   "execution_count": null,
   "metadata": {},
   "outputs": [],
   "source": [
    "%%bash\n",
    "mkdir --parents ${wd}"
   ]
  },
  {
   "cell_type": "markdown",
   "metadata": {},
   "source": [
    "### Download files"
   ]
  },
  {
   "cell_type": "code",
   "execution_count": null,
   "metadata": {},
   "outputs": [],
   "source": [
    "%%bash\n",
    "\n",
    "input_files_array=(\"${downloads_list}\")\n",
    "\n",
    "for file in \"${input_files_array[@]}\"\n",
    "do\n",
    "  rsync \\\n",
    "  --archive \\\n",
    "  --verbose \\\n",
    "  \"${rsync_owl}${file}\" \\\n",
    "  .\n",
    "## Uncomment lines below if need to use wget for downloads\n",
    "# wget --quiet \\\n",
    "# --no-check-certificate \\\n",
    "# https://owl.fish.washington.edu/halfshell/genomic-databank/${file}\n",
    "done\n",
    "echo \"\"\n",
    "echo \"\"\n",
    "echo \"----------------------------------------------------------\"\n",
    "echo \"\"\n",
    "\n",
    "\n",
    "\n",
    "ls -lh"
   ]
  },
  {
   "cell_type": "markdown",
   "metadata": {},
   "source": [
    "### Separate features"
   ]
  },
  {
   "cell_type": "code",
   "execution_count": null,
   "metadata": {},
   "outputs": [],
   "source": [
    "%%bash\n",
    "\n",
    "# Create UTR array\n",
    "utr_array=(five_prime_UTR three_prime_UTR)\n",
    "\n",
    "echo \"Here are the features and their counts in ${maker_gff}:\"\n",
    "awk 'NR>1 {print $3}' \"${maker_gff}\" | sort | uniq -c\n",
    "echo \"\"\n",
    "echo \"\"\n",
    "echo \"----------------------------------------------\"\n",
    "\n",
    "\n",
    "# Create GFFs\n",
    "for feature in \"${utr_array[@]}\"\n",
    "do\n",
    "   output=\"${base_name}.${feature}.gff3\"\n",
    "   head -n 1 \"${maker_gff}\" >> \"${output}\"\n",
    "   awk -v feature=\"$feature\" '$3 == feature {print}' \"${maker_gff}\" \\\n",
    "   >> \"${output}\"\n",
    "   echo \"\"\n",
    "   echo \"\"\n",
    "   echo \"${output}\"\n",
    "   echo \"----------------------------------------------\"\n",
    "   head -n 5 \"${output}\"\n",
    "done"
   ]
  },
  {
   "cell_type": "markdown",
   "metadata": {},
   "source": [
    "### Check exon and gene GFFs"
   ]
  },
  {
   "cell_type": "code",
   "execution_count": null,
   "metadata": {},
   "outputs": [],
   "source": [
    "\n",
    "%%bash\n",
    "echo ${exon_gff}\n",
    "head ${exon_gff}\n",
    "echo \"\"\n",
    "echo \"----------------------\"\n",
    "echo \"\"\n",
    "echo ${gene_gff}\n",
    "head ${gene_gff}"
   ]
  },
  {
   "cell_type": "markdown",
   "metadata": {},
   "source": [
    "### Create chromosome sizes file"
   ]
  },
  {
   "cell_type": "code",
   "execution_count": null,
   "metadata": {},
   "outputs": [],
   "source": [
    "%%bash\n",
    "# Change LC_COLLATE to use C for proper sorting of file\n",
    "export LC_COLLATE=C\n",
    "\n",
    "cut -f1,2 ${genome_fasta}.fai | sort > ${chrome_sizes}\n",
    "\n",
    "head ${chrome_sizes}"
   ]
  },
  {
   "cell_type": "markdown",
   "metadata": {},
   "source": [
    "### Sort GFFs"
   ]
  },
  {
   "cell_type": "code",
   "execution_count": null,
   "metadata": {},
   "outputs": [],
   "source": [
    "%%bash\n",
    "gff_array=(\"${exon_gff}\" \"${gene_gff}\")\n",
    "sorted_gff_array=(\"${exon_gff_sorted}\" \"${gene_gff_sorted}\")\n",
    "\n",
    "for index in \"${!gff_array[@]}\"\n",
    "do\n",
    "  { awk 'NR<2 {print}' \"${gff_array[index]}\"\n",
    "   awk 'NR>1 {print}' \"${gff_array[index]}\" | \"${bedtools_dir}\"/bedtools sort -i -\n",
    "  } >> \"${sorted_gff_array[index]}\"\n",
    "  \n",
    "  # Check out sorted GFFs\n",
    "  echo \"Previewing ${sorted_gff_array[index]}:\"\n",
    "  echo \"\"\n",
    "  head \"${sorted_gff_array[index]}\"\n",
    "  echo \"\"\n",
    "  echo \"Confirming sort order of ${sorted_gff_array[index]}:\"\n",
    "  echo \"\"\n",
    "  cut -f1 \"${sorted_gff_array[index]}\" | uniq\n",
    "  echo \"\"\n",
    "done"
   ]
  },
  {
   "cell_type": "code",
   "execution_count": null,
   "metadata": {},
   "outputs": [],
   "source": []
  },
  {
   "cell_type": "code",
   "execution_count": null,
   "metadata": {},
   "outputs": [],
   "source": []
  }
 ],
 "metadata": {
  "kernelspec": {
   "display_name": "Python 3",
   "language": "python",
   "name": "python3"
  },
  "language_info": {
   "codemirror_mode": {
    "name": "ipython",
    "version": 3
   },
   "file_extension": ".py",
   "mimetype": "text/x-python",
   "name": "python",
   "nbconvert_exporter": "python",
   "pygments_lexer": "ipython3",
   "version": "3.7.5"
  }
 },
 "nbformat": 4,
 "nbformat_minor": 4
}
