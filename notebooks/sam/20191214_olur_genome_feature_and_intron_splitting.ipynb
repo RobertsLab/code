{
 "cells": [
  {
   "cell_type": "code",
   "execution_count": 1,
   "metadata": {},
   "outputs": [
    {
     "name": "stdout",
     "output_type": "stream",
     "text": [
      "TODAY'S DATE:\n",
      "Tue Dec 17 07:00:28 PST 2019\n",
      "------------\n",
      "\n",
      "LSB Version:\tcore-9.20170808ubuntu1-noarch:security-9.20170808ubuntu1-noarch\n",
      "Distributor ID:\tUbuntu\n",
      "Description:\tUbuntu 18.04.3 LTS\n",
      "Release:\t18.04\n",
      "Codename:\tbionic\n",
      "\n",
      "------------\n",
      "HOSTNAME: \n",
      "computer\n",
      "\n",
      "------------\n",
      "Computer Specs:\n",
      "\n",
      "Architecture:        x86_64\n",
      "CPU op-mode(s):      32-bit, 64-bit\n",
      "Byte Order:          Little Endian\n",
      "CPU(s):              4\n",
      "On-line CPU(s) list: 0-3\n",
      "Thread(s) per core:  2\n",
      "Core(s) per socket:  2\n",
      "Socket(s):           1\n",
      "NUMA node(s):        1\n",
      "Vendor ID:           GenuineIntel\n",
      "CPU family:          6\n",
      "Model:               58\n",
      "Model name:          Intel(R) Core(TM) i7-3517U CPU @ 1.90GHz\n",
      "Stepping:            9\n",
      "CPU MHz:             1795.794\n",
      "CPU max MHz:         3000.0000\n",
      "CPU min MHz:         800.0000\n",
      "BogoMIPS:            4788.78\n",
      "Virtualization:      VT-x\n",
      "L1d cache:           32K\n",
      "L1i cache:           32K\n",
      "L2 cache:            256K\n",
      "L3 cache:            4096K\n",
      "NUMA node0 CPU(s):   0-3\n",
      "Flags:               fpu vme de pse tsc msr pae mce cx8 apic sep mtrr pge mca cmov pat pse36 clflush dts acpi mmx fxsr sse sse2 ss ht tm pbe syscall nx rdtscp lm constant_tsc arch_perfmon pebs bts rep_good nopl xtopology nonstop_tsc cpuid aperfmperf pni pclmulqdq dtes64 monitor ds_cpl vmx est tm2 ssse3 cx16 xtpr pdcm pcid sse4_1 sse4_2 x2apic popcnt tsc_deadline_timer aes xsave avx f16c rdrand lahf_lm cpuid_fault epb pti ssbd ibrs ibpb stibp tpr_shadow vnmi flexpriority ept vpid fsgsbase smep erms xsaveopt dtherm ida arat pln pts md_clear flush_l1d\n",
      "\n",
      "------------\n",
      "\n",
      "Memory Specs\n",
      "\n",
      "              total        used        free      shared  buff/cache   available\n",
      "Mem:           7.5G        1.8G        320M        628M        5.4G        4.8G\n",
      "Swap:          7.7G         12K        7.7G\n"
     ]
    }
   ],
   "source": [
    "%%bash\n",
    "echo \"TODAY'S DATE:\"\n",
    "date\n",
    "echo \"------------\"\n",
    "echo \"\"\n",
    "#Display operating system info\n",
    "lsb_release -a\n",
    "echo \"\"\n",
    "echo \"------------\"\n",
    "echo \"HOSTNAME: \"; hostname \n",
    "echo \"\"\n",
    "echo \"------------\"\n",
    "echo \"Computer Specs:\"\n",
    "echo \"\"\n",
    "lscpu\n",
    "echo \"\"\n",
    "echo \"------------\"\n",
    "echo \"\"\n",
    "echo \"Memory Specs\"\n",
    "echo \"\"\n",
    "free -mh"
   ]
  },
  {
   "cell_type": "markdown",
   "metadata": {},
   "source": [
    "### Set variables¶\n",
    "%env are best for bash"
   ]
  },
  {
   "cell_type": "code",
   "execution_count": 9,
   "metadata": {},
   "outputs": [
    {
     "name": "stdout",
     "output_type": "stream",
     "text": [
      "env: wd=/home/samb/analyses/20191214_olur_genome_feature_and_intron_splitting\n",
      "env: downloads_list=Olurida_v081.fa.fai Olurida_v081_genome_snap02.all.renamed.putative_function.domain_added.gff Olurida_v081-20190709.exon.gff Olurida_v081-20190709.gene.gff\n",
      "env: rsync_owl=owl:/volume1/web/halfshell/genomic-databank/\n",
      "env: chrome_sizes=Olurida_v081.sizes.txt\n",
      "env: fa_index=Olurida_v081.fa.fai\n",
      "env: maker_gff=Olurida_v081_genome_snap02.all.renamed.putative_function.domain_added.gff\n",
      "env: base_name=Olurida_v081-20190709\n",
      "env: exon_gff=Olurida_v081-20190709.exon.gff3\n",
      "env: exon_gff_sorted=Olurida_v081-20190709.exon.sorted.gff3\n",
      "env: gene_gff=Olurida_v081-20190709.gene.gff3\n",
      "env: gene_gff_sorted=Olurida_v081-20190709.gene.sorted.gff3\n",
      "env: exon_comp_bed=Olurida_v081-20190709.exon.sorted.comp.bed\n",
      "env: intron_bed=Olurida_v081-20190709.introns.bed\n",
      "env: intergenic_bed=Olurida_v081-20190709.intergenic.bed\n",
      "env: bedtools_dir=/home/samb/programs/bedtools-2.29.0/bin\n",
      "env: samtools=/home/samb/programs/samtools-1.10\n"
     ]
    }
   ],
   "source": [
    "%env wd=/home/samb/analyses/20191214_olur_genome_feature_and_intron_splitting\n",
    "wd=\"/home/samb/analyses/20191214_olur_genome_feature_and_intron_splitting\"\n",
    "\n",
    "\n",
    "# File download\n",
    "%env downloads_list=Olurida_v081.fa.fai Olurida_v081_genome_snap02.all.renamed.putative_function.domain_added.gff Olurida_v081-20190709.exon.gff Olurida_v081-20190709.gene.gff\n",
    "%env rsync_owl=owl:/volume1/web/halfshell/genomic-databank/\n",
    "\n",
    "# Input/output files\n",
    "%env chrome_sizes=Olurida_v081.sizes.txt\n",
    "%env fa_index=Olurida_v081.fa.fai\n",
    "%env maker_gff=Olurida_v081_genome_snap02.all.renamed.putative_function.domain_added.gff\n",
    "%env base_name=Olurida_v081-20190709\n",
    "%env exon_gff=Olurida_v081-20190709.exon.gff3\n",
    "%env exon_gff_sorted=Olurida_v081-20190709.exon.sorted.gff3\n",
    "%env gene_gff=Olurida_v081-20190709.gene.gff3\n",
    "%env gene_gff_sorted=Olurida_v081-20190709.gene.sorted.gff3\n",
    "\n",
    "%env exon_comp_bed=Olurida_v081-20190709.exon.sorted.comp.bed\n",
    "%env intron_bed=Olurida_v081-20190709.introns.bed\n",
    "%env intergenic_bed=Olurida_v081-20190709.intergenic.bed\n",
    "\n",
    "# Programs\n",
    "%env bedtools_dir=/home/samb/programs/bedtools-2.29.0/bin\n",
    "%env samtools=/home/samb/programs/samtools-1.10"
   ]
  },
  {
   "cell_type": "markdown",
   "metadata": {},
   "source": [
    "### Create necessary directories"
   ]
  },
  {
   "cell_type": "code",
   "execution_count": 5,
   "metadata": {},
   "outputs": [],
   "source": [
    "%%bash\n",
    "mkdir --parents ${wd}"
   ]
  },
  {
   "cell_type": "code",
   "execution_count": 6,
   "metadata": {},
   "outputs": [
    {
     "name": "stdout",
     "output_type": "stream",
     "text": [
      "/home/samb/analyses/20191214_olur_genome_feature_and_intron_splitting\n"
     ]
    }
   ],
   "source": [
    "cd {wd}"
   ]
  },
  {
   "cell_type": "markdown",
   "metadata": {},
   "source": [
    "### Download files"
   ]
  },
  {
   "cell_type": "code",
   "execution_count": 7,
   "metadata": {},
   "outputs": [
    {
     "name": "stdout",
     "output_type": "stream",
     "text": [
      "receiving incremental file list\n",
      "Olurida_v081.fa.fai\n",
      "\n",
      "sent 30 bytes  received 6,104,336 bytes  221,976.95 bytes/sec\n",
      "total size is 6,103,215  speedup is 1.00\n",
      "\n",
      "\n",
      "----------------------------------------------------------\n",
      "\n",
      "total 5.9M\n",
      "-rw-rw-rw- 1 samb samb 5.9M Aug 24  2018 Olurida_v081.fa.fai\n"
     ]
    },
    {
     "name": "stderr",
     "output_type": "stream",
     "text": [
      "X11 forwarding request failed on channel 0\n",
      "rsync: link_stat \"/volume1/homes/kubu4/Olurida_v081_genome_snap02.all.renamed.putative_function.domain_added.gff\" failed: No such file or directory (2)\n",
      "rsync: link_stat \"/volume1/homes/kubu4/Olurida_v081-20190709.exon.gff\" failed: No such file or directory (2)\n",
      "rsync error: some files/attrs were not transferred (see previous errors) (code 23) at main.c(1668) [generator=3.1.2]\n"
     ]
    }
   ],
   "source": [
    "%%bash\n",
    "\n",
    "# Create array of files to download from list\n",
    "mapfile -t downloads_array < <(echo ${downloads_list} | tr \" \" \"\\n\")\n",
    "\n",
    "for file in \"${downloads_array[@]}\"\n",
    "do\n",
    "  rsync \\\n",
    "  --archive \\\n",
    "  --verbose \\\n",
    "  \"${rsync_owl}${file}\" \\\n",
    "  .\n",
    "## Uncomment lines below if need to use wget for downloads\n",
    "# wget --quiet \\\n",
    "# --no-check-certificate \\\n",
    "# https://owl.fish.washington.edu/halfshell/genomic-databank/${file}\n",
    "done\n",
    "echo \"\"\n",
    "echo \"\"\n",
    "echo \"----------------------------------------------------------\"\n",
    "echo \"\"\n",
    "\n",
    "\n",
    "\n",
    "ls -lh"
   ]
  },
  {
   "cell_type": "markdown",
   "metadata": {},
   "source": [
    "### Separate features"
   ]
  },
  {
   "cell_type": "code",
   "execution_count": null,
   "metadata": {},
   "outputs": [],
   "source": [
    "%%bash\n",
    "\n",
    "# Create UTR array\n",
    "utr_array=(five_prime_UTR three_prime_UTR)\n",
    "\n",
    "echo \"Here are the features and their counts in ${maker_gff}:\"\n",
    "awk 'NR>1 {print $3}' \"${maker_gff}\" | sort | uniq -c\n",
    "echo \"\"\n",
    "echo \"\"\n",
    "echo \"----------------------------------------------\"\n",
    "\n",
    "\n",
    "# Create GFFs\n",
    "for feature in \"${utr_array[@]}\"\n",
    "do\n",
    "   output=\"${base_name}.${feature}.gff3\"\n",
    "   head -n 1 \"${maker_gff}\" >> \"${output}\"\n",
    "   awk -v feature=\"$feature\" '$3 == feature {print}' \"${maker_gff}\" \\\n",
    "   >> \"${output}\"\n",
    "   echo \"\"\n",
    "   echo \"\"\n",
    "   echo \"${output}\"\n",
    "   echo \"----------------------------------------------\"\n",
    "   head -n 5 \"${output}\"\n",
    "done"
   ]
  },
  {
   "cell_type": "markdown",
   "metadata": {},
   "source": [
    "### Check exon and gene GFFs"
   ]
  },
  {
   "cell_type": "code",
   "execution_count": null,
   "metadata": {},
   "outputs": [],
   "source": [
    "\n",
    "%%bash\n",
    "echo ${exon_gff}\n",
    "head ${exon_gff}\n",
    "echo \"\"\n",
    "echo \"----------------------\"\n",
    "echo \"\"\n",
    "echo ${gene_gff}\n",
    "head ${gene_gff}"
   ]
  },
  {
   "cell_type": "markdown",
   "metadata": {},
   "source": [
    "### Create chromosome sizes file"
   ]
  },
  {
   "cell_type": "code",
   "execution_count": null,
   "metadata": {},
   "outputs": [],
   "source": [
    "%%bash\n",
    "# Change LC_COLLATE to use C for proper sorting of file\n",
    "export LC_COLLATE=C\n",
    "\n",
    "cut -f1,2 ${genome_fasta}.fai | sort > ${chrome_sizes}\n",
    "\n",
    "head ${chrome_sizes}"
   ]
  },
  {
   "cell_type": "markdown",
   "metadata": {},
   "source": [
    "### Sort GFFs"
   ]
  },
  {
   "cell_type": "code",
   "execution_count": null,
   "metadata": {},
   "outputs": [],
   "source": [
    "%%bash\n",
    "gff_array=(\"${exon_gff}\" \"${gene_gff}\")\n",
    "sorted_gff_array=(\"${exon_gff_sorted}\" \"${gene_gff_sorted}\")\n",
    "\n",
    "for index in \"${!gff_array[@]}\"\n",
    "do\n",
    "  { awk 'NR<2 {print}' \"${gff_array[index]}\"\n",
    "   awk 'NR>1 {print}' \"${gff_array[index]}\" | \"${bedtools_dir}\"/bedtools sort -i -\n",
    "  } >> \"${sorted_gff_array[index]}\"\n",
    "  \n",
    "  # Check out sorted GFFs\n",
    "  echo \"Previewing ${sorted_gff_array[index]}:\"\n",
    "  echo \"\"\n",
    "  head \"${sorted_gff_array[index]}\"\n",
    "  echo \"\"\n",
    "  echo \"Confirming sort order of ${sorted_gff_array[index]}:\"\n",
    "  echo \"\"\n",
    "  cut -f1 \"${sorted_gff_array[index]}\" | uniq\n",
    "  echo \"\"\n",
    "done"
   ]
  },
  {
   "cell_type": "markdown",
   "metadata": {},
   "source": [
    "### Create intergenic BED file"
   ]
  },
  {
   "cell_type": "code",
   "execution_count": null,
   "metadata": {},
   "outputs": [],
   "source": [
    "%%bash\n",
    "\n",
    "\"${bedtools_dir}\"/complementBed \\\n",
    "-i \"${gene_gff_sorted}\" \\\n",
    "-g \"${chrome_sizes}\" \\\n",
    "> \"${intergenic_bed}\"\n",
    "\n",
    "echo \"Previewing ${intergenic_bed}:\"\n",
    "echo \"\"\n",
    "head \"${intergenic_bed}\""
   ]
  },
  {
   "cell_type": "markdown",
   "metadata": {},
   "source": [
    "### Make intron BED file"
   ]
  },
  {
   "cell_type": "code",
   "execution_count": null,
   "metadata": {},
   "outputs": [],
   "source": [
    "%%bash\n",
    "\"${bedtools_dir}\"/complementBed \\\n",
    "-i \"${exon_gff_sorted}\" \\\n",
    "-g \"${chrome_sizes}\" \\\n",
    "> \"${exon_comp_bed}\"\n",
    "\n",
    "echo \"Previewing ${exon_comp_bed}:\"\n",
    "echo \"\"\n",
    "head \"${exon_comp_bed}\"\n",
    "echo \"\"\n",
    "echo \"---------------------\"\n",
    "\n",
    "\"${bedtools_dir}\"/intersectBed \\\n",
    "-a \"${gene_gff_sorted}\" \\\n",
    "-b \"${exon_comp_bed}\" \\\n",
    "| awk -v OFS='\\t' '{print $1,$4,$5}' \\\n",
    "> \"${intron_bed}\"\n",
    "\n",
    "echo \"\"\n",
    "echo \"Previewing ${intron_bed}:\"\n",
    "echo \"\"\n",
    "head \"${intron_bed}\""
   ]
  },
  {
   "cell_type": "markdown",
   "metadata": {},
   "source": [
    "### Cleanup"
   ]
  },
  {
   "cell_type": "code",
   "execution_count": null,
   "metadata": {},
   "outputs": [],
   "source": [
    "%%bash\n",
    "rm \"${maker_gff}\" \\\n",
    "\"${exon_comp_bed}\" \\\n",
    "\"${exon_gff}\" \\\n",
    "\"${exon_gff_sorted}\" \\\n",
    "\"${gene_gff}\" \\\n",
    "\"${gene_gff_sorted}\" \\\n",
    "\"${fa_index}\"\n",
    "ls -ltrh"
   ]
  }
 ],
 "metadata": {
  "kernelspec": {
   "display_name": "Python 3",
   "language": "python",
   "name": "python3"
  },
  "language_info": {
   "codemirror_mode": {
    "name": "ipython",
    "version": 3
   },
   "file_extension": ".py",
   "mimetype": "text/x-python",
   "name": "python",
   "nbconvert_exporter": "python",
   "pygments_lexer": "ipython3",
   "version": "3.7.5"
  }
 },
 "nbformat": 4,
 "nbformat_minor": 4
}
