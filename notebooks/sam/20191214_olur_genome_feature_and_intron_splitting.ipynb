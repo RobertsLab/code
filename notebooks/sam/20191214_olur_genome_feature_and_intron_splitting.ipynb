{
 "cells": [
  {
   "cell_type": "code",
   "execution_count": null,
   "metadata": {},
   "outputs": [],
   "source": [
    "%%bash\n",
    "echo \"TODAY'S DATE:\"\n",
    "date\n",
    "echo \"------------\"\n",
    "echo \"\"\n",
    "#Display operating system info\n",
    "lsb_release -a\n",
    "echo \"\"\n",
    "echo \"------------\"\n",
    "echo \"HOSTNAME: \"; hostname \n",
    "echo \"\"\n",
    "echo \"------------\"\n",
    "echo \"Computer Specs:\"\n",
    "echo \"\"\n",
    "lscpu\n",
    "echo \"\"\n",
    "echo \"------------\"\n",
    "echo \"\"\n",
    "echo \"Memory Specs\"\n",
    "echo \"\"\n",
    "free -mh"
   ]
  },
  {
   "cell_type": "markdown",
   "metadata": {},
   "source": [
    "### Set variables¶\n",
    "%env are best for bash"
   ]
  },
  {
   "cell_type": "code",
   "execution_count": null,
   "metadata": {},
   "outputs": [],
   "source": [
    "%env wd=/home/sam/analyses/20191214_olur_genome_feature_and_intron_splitting\n",
    "wd=\"/home/sam/analyses/20191214_olur_genome_feature_and_intron_splitting\"\n",
    "\n",
    "# File download\n",
    "%env downloads_list=Olurida_v081.fa.fai Olurida_v081_genome_snap02.all.renamed.putative_function.domain_added.gff Olurida_v081-20190709.exon.gff\n",
    "\n",
    "\n",
    "# Input/output files\n",
    "%env chrome_sizes=Olurida_v081.sizes.txt\n",
    "%env fa_index=Olurida_v081.fa.fai\n",
    "%env base_name=Olurida_v081-20190709\n",
    "%env exon_gff=Olurida_v081-20190709.exon.gff3\n",
    "%env exon_gff_sorted=Olurida_v081-20190709.exon.sorted.gff3\n",
    "%env gene_gff=Olurida_v081-20190709.gene.gff3\n",
    "%env gene_gff_sorted=Olurida_v081-20190709.gene.sorted.gff3\n",
    "\n",
    "%env exon_comp_bed=Olurida_v081-20190709.exon.sorted.comp.bed\n",
    "%env intron_bed=POlurida_v081-20190709.introns.bed\n",
    "%env intergenic_bed=Olurida_v081-20190709.intergenic.bed\n",
    "\n",
    "# Programs\n",
    "%env bedtools_dir=/home/samb/programs/bedtools-2.29.0/bin\n",
    "%env samtools=/home/samb/programs/samtools-1.10"
   ]
  }
 ],
 "metadata": {
  "kernelspec": {
   "display_name": "Python 3",
   "language": "python",
   "name": "python3"
  },
  "language_info": {
   "codemirror_mode": {
    "name": "ipython",
    "version": 3
   },
   "file_extension": ".py",
   "mimetype": "text/x-python",
   "name": "python",
   "nbconvert_exporter": "python",
   "pygments_lexer": "ipython3",
   "version": "3.7.5"
  }
 },
 "nbformat": 4,
 "nbformat_minor": 4
}
