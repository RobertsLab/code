{
 "cells": [
  {
   "cell_type": "markdown",
   "metadata": {},
   "source": [
    "## Use taxonomic read classifications from MEGAN6 to extract Phylum-specific FastQs from Arthropoda and Alveolata"
   ]
  },
  {
   "cell_type": "code",
   "execution_count": 1,
   "metadata": {},
   "outputs": [
    {
     "name": "stdout",
     "output_type": "stream",
     "text": [
      "TODAY'S DATE:\n",
      "Tue Jan 21 13:35:55 PST 2020\n",
      "------------\n",
      "\n",
      "Distributor ID:\tUbuntu\n",
      "Description:\tUbuntu 16.04.6 LTS\n",
      "Release:\t16.04\n",
      "Codename:\txenial\n",
      "\n",
      "------------\n",
      "HOSTNAME: \n",
      "swoose\n",
      "\n",
      "------------\n",
      "Computer Specs:\n",
      "\n",
      "Architecture:          x86_64\n",
      "CPU op-mode(s):        32-bit, 64-bit\n",
      "Byte Order:            Little Endian\n",
      "CPU(s):                24\n",
      "On-line CPU(s) list:   0-23\n",
      "Thread(s) per core:    2\n",
      "Core(s) per socket:    6\n",
      "Socket(s):             2\n",
      "NUMA node(s):          1\n",
      "Vendor ID:             GenuineIntel\n",
      "CPU family:            6\n",
      "Model:                 44\n",
      "Model name:            Intel(R) Xeon(R) CPU           X5670  @ 2.93GHz\n",
      "Stepping:              2\n",
      "CPU MHz:               2925.783\n",
      "BogoMIPS:              5851.61\n",
      "Virtualization:        VT-x\n",
      "L1d cache:             32K\n",
      "L1i cache:             32K\n",
      "L2 cache:              256K\n",
      "L3 cache:              12288K\n",
      "NUMA node0 CPU(s):     0-23\n",
      "Flags:                 fpu vme de pse tsc msr pae mce cx8 apic sep mtrr pge mca cmov pat pse36 clflush dts acpi mmx fxsr sse sse2 ss ht tm pbe syscall nx pdpe1gb rdtscp lm constant_tsc arch_perfmon pebs bts rep_good nopl xtopology nonstop_tsc aperfmperf pni pclmulqdq dtes64 monitor ds_cpl vmx smx est tm2 ssse3 cx16 xtpr pdcm pcid dca sse4_1 sse4_2 popcnt aes lahf_lm epb ssbd ibrs ibpb stibp kaiser tpr_shadow vnmi flexpriority ept vpid dtherm ida arat flush_l1d\n",
      "\n",
      "------------\n",
      "\n",
      "Memory Specs\n",
      "\n",
      "              total        used        free      shared  buff/cache   available\n",
      "Mem:            70G        5.4G         19G        504M         46G         64G\n",
      "Swap:          4.7G        583M        4.1G\n"
     ]
    },
    {
     "name": "stderr",
     "output_type": "stream",
     "text": [
      "No LSB modules are available.\n"
     ]
    }
   ],
   "source": [
    "%%bash\n",
    "echo \"TODAY'S DATE:\"\n",
    "date\n",
    "echo \"------------\"\n",
    "echo \"\"\n",
    "#Display operating system info\n",
    "lsb_release -a\n",
    "echo \"\"\n",
    "echo \"------------\"\n",
    "echo \"HOSTNAME: \"; hostname \n",
    "echo \"\"\n",
    "echo \"------------\"\n",
    "echo \"Computer Specs:\"\n",
    "echo \"\"\n",
    "lscpu\n",
    "echo \"\"\n",
    "echo \"------------\"\n",
    "echo \"\"\n",
    "echo \"Memory Specs\"\n",
    "echo \"\"\n",
    "free -mh"
   ]
  },
  {
   "cell_type": "markdown",
   "metadata": {},
   "source": [
    "### Set variables"
   ]
  },
  {
   "cell_type": "code",
   "execution_count": 3,
   "metadata": {},
   "outputs": [
    {
     "name": "stdout",
     "output_type": "stream",
     "text": [
      "env: crab_data=/home/sam/data/C_bairdi/RNAseq\n",
      "env: hemat_data=/home/sam/data/Hematodinium/RNAseq\n",
      "env: wd=/home/sam/analyses\n",
      "env: seqtk=/home/sam/programs/seqtk-1.3/seqtk\n"
     ]
    }
   ],
   "source": [
    "# Set data directories\n",
    "%env crab_data=/home/sam/data/C_bairdi/RNAseq\n",
    "%env hemat_data=/home/sam/data/Hematodinium/RNAseq\n",
    "%env wd=/home/sam/analyses\n",
    "\n",
    "# Programs\n",
    "%env seqtk=/home/sam/programs/seqtk-1.3/seqtk"
   ]
  },
  {
   "cell_type": "markdown",
   "metadata": {},
   "source": [
    "#### Input data are here:\n",
    "\n",
    "FastAs: https://gannet.fish.washington.edu/Atumefaciens/20200114_cbai_MEGAN_read_extractions/\n",
    "\n",
    "Trimmed-FastQs: https://gannet.fish.washington.edu/Atumefaciens/20191218_cbai_fastp_RNAseq_trimming/"
   ]
  },
  {
   "cell_type": "code",
   "execution_count": null,
   "metadata": {},
   "outputs": [],
   "source": [
    "%%bash\n",
    "\n",
    "timestamp=$(date +%Y%m%d)\n",
    "\n",
    "\n",
    "for directory in ${crab_data} ${hemat_data}\n",
    "do\n",
    "\t# Get species name\n",
    "\tspecies=$(echo ${directory} | awk -F\"/\" '{print $5}')\n",
    "    \n",
    "    # Make new directory and change to that directory (\"$_\" means use previous command's argument)\n",
    "    mkdir --parents ${wd}/\"${timestamp}\".\"${species}\"_megan_reads \\\n",
    "    && cd \"$_\" || exit\n",
    "\n",
    "\t# Set seqtk list filename\n",
    "\tseqtk_list=${timestamp}.${species}.seqtk.read_id.list\n",
    "\n",
    "\t# Set output FastQ filenames\n",
    "\tR1_fq=${timestamp}.${species}.megan_R1.fq\n",
    "\tR2_fq=${timestamp}.${species}.megan_R2.fq\n",
    "\n",
    "\t######################################################\n",
    "\t# Create FastA IDs list to use for sequence extraction\n",
    "\t######################################################\n",
    "\tfor fasta in \"${directory}\"/*.fasta\n",
    "\tdo\n",
    "      echo \"Pulling FastA IDs from ${fasta}\"\n",
    "      echo \"\"\n",
    "      grep \">\" \"${fasta}\" | awk 'sub(/^>/, \"\")' >> \"${seqtk_list}\"\n",
    "\tdone\n",
    "    \n",
    "    ######################################################\n",
    "\t# Extract corresponding R1 and R2 reads using seqtk FastA ID list\n",
    "    ######################################################\n",
    "\tfor fastq in \"${directory}\"/*R1*.gz\n",
    "\tdo\n",
    "      echo \"Extracting R1 reads from ${fastq}\"\n",
    "      echo \"\"\n",
    "\t  ${seqtk} subseq \"${fastq}\" \"${seqtk_list}\" >> \"${R1_fq}\"\n",
    "\tdone\n",
    "\n",
    "\tfor fastq in \"${directory}\"/*R2*.gz\n",
    "\tdo\n",
    "      echo \"Extracting R2 reads from ${fastq}\"\n",
    "      echo \"\"\n",
    "\t  ${seqtk} subseq \"${fastq}\" \"${seqtk_list}\" >> \"${R2_fq}\"\n",
    "\tdone\n",
    "    \n",
    "    echo \"-------------------------------------\"\n",
    "    # Print working directoyr and list files\n",
    "    pwd\n",
    "\tls -ltrh\n",
    "    echo \"\"\n",
    "    echo \"-------------------------------------\"\n",
    "    echo \"\"\n",
    "done\n"
   ]
  },
  {
   "cell_type": "code",
   "execution_count": null,
   "metadata": {},
   "outputs": [],
   "source": []
  }
 ],
 "metadata": {
  "kernelspec": {
   "display_name": "Python 3",
   "language": "python",
   "name": "python3"
  },
  "language_info": {
   "codemirror_mode": {
    "name": "ipython",
    "version": 3
   },
   "file_extension": ".py",
   "mimetype": "text/x-python",
   "name": "python",
   "nbconvert_exporter": "python",
   "pygments_lexer": "ipython3",
   "version": "3.6.8"
  }
 },
 "nbformat": 4,
 "nbformat_minor": 2
}
