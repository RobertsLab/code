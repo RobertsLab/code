{
 "cells": [
  {
   "cell_type": "code",
   "execution_count": null,
   "metadata": {},
   "outputs": [],
   "source": [
    "%%bash\n",
    "echo \"TODAY'S DATE:\"\n",
    "date\n",
    "echo \"------------\"\n",
    "echo \"\"\n",
    "#Display operating system info\n",
    "lsb_release -a\n",
    "echo \"\"\n",
    "echo \"------------\"\n",
    "echo \"HOSTNAME: \"; hostname \n",
    "echo \"\"\n",
    "echo \"------------\"\n",
    "echo \"Computer Specs:\"\n",
    "echo \"\"\n",
    "lscpu\n",
    "echo \"\"\n",
    "echo \"------------\"\n",
    "echo \"\"\n",
    "echo \"Memory Specs\"\n",
    "echo \"\"\n",
    "free -mh"
   ]
  },
  {
   "cell_type": "markdown",
   "metadata": {},
   "source": [
    "### Set variables"
   ]
  },
  {
   "cell_type": "code",
   "execution_count": null,
   "metadata": {},
   "outputs": [],
   "source": [
    "# Set data directories\n",
    "%env crab_data=/home/sam/data/C_bairdi/RNAseq\n",
    "%env hemat_data=/home/sam/data/Hematodinium/RNAseq\n",
    "%env wd=/home/sam/analyses\n",
    "\n",
    "# Programs\n",
    "%env /home/sam/programs/samtools-1.9/samtools\n",
    "%env /home/sam/programs/seqtk-1.3/seqtk"
   ]
  },
  {
   "cell_type": "markdown",
   "metadata": {},
   "source": [
    "#### Input data are here:\n",
    "\n",
    "FastAs: https://gannet.fish.washington.edu/Atumefaciens/20200114_cbai_MEGAN_read_extractions/\n",
    "Trimmed-FastQs: https://gannet.fish.washington.edu/Atumefaciens/20191218_cbai_fastp_RNAseq_trimming/"
   ]
  },
  {
   "cell_type": "code",
   "execution_count": null,
   "metadata": {},
   "outputs": [],
   "source": [
    "%%bash\n",
    "\n",
    "timestamp=$(date +%Y%m%d)\n",
    "\n",
    "\n",
    "for directory in ${crab_data} ${hemat_data}\n",
    "do\n",
    "\t# Get species name\n",
    "\tspecies=$(echo ${directory} | awk -F\"/\" '{print $5}')\n",
    "    \n",
    "    # Make new directory and change to that directory (\"$_\" means use previous command's argument)\n",
    "    mkdir --parents ${wd}/\"${timestamp}\".\"${species}\"_megan_reads \\\n",
    "    && cd \"$_\" || exit\n",
    "\n",
    "\t# Set seqtk list filename\n",
    "\tseqtk_list=${timestamp}.${species}.seqtk.read_id.list\n",
    "\n",
    "\t# Set output FastQ filenames\n",
    "\tR1_fq=${timestamp}.${species}.megan_R1.fq\n",
    "\tR2_fq=${timestamp}.${species}.megan_R2.fq\n",
    "\n",
    "\t######################################################\n",
    "\t# Create FastA IDs list to use for sequence extraction\n",
    "\t######################################################\n",
    "\tfor fasta in *.fasta\n",
    "\tdo\n",
    "      echo \"Pulling FastA IDs from ${fasta}\"\n",
    "      echo \"\"\n",
    "      grep \">\" \"${fasta}\" | awk 'sub(/^>/, \"\")' >> \"${seqtk_list}\"\n",
    "\tdone\n",
    "    \n",
    "    ######################################################\n",
    "\t# Extract corresponding R1 and R2 reads using seqtk FastA ID list\n",
    "    ######################################################\n",
    "\tfor fastq in *R1*.gz\n",
    "\tdo\n",
    "      echo \"Extracing R1 reads from ${fastq}\"\n",
    "      echo \"\"\n",
    "\t  ${seqtk} subseq \"${fastq}\" \"${seqtk_list}\" >> \"${R1_fq}\"\n",
    "\tdone\n",
    "\n",
    "\tfor fastq in *R2*.gz\n",
    "\tdo\n",
    "      echo \"Extracing R1 reads from ${fastq}\"\n",
    "      echo \"\"\n",
    "\t  ${seqtk} subseq \"${fastq}\" \"${seqtk_list}\" >> \"${R2_fq}\"\n",
    "\tdone\n",
    "    \n",
    "    echo \"-------------------------------------\"\n",
    "    # Print working directoyr and list files\n",
    "    pwd\n",
    "\tls -ltrh\n",
    "    echo \"\"\n",
    "    echo \"-------------------------------------\"\n",
    "    echo \"\"\n",
    "done\n"
   ]
  },
  {
   "cell_type": "code",
   "execution_count": null,
   "metadata": {},
   "outputs": [],
   "source": []
  },
  {
   "cell_type": "code",
   "execution_count": null,
   "metadata": {},
   "outputs": [],
   "source": []
  },
  {
   "cell_type": "code",
   "execution_count": null,
   "metadata": {},
   "outputs": [],
   "source": []
  }
 ],
 "metadata": {
  "kernelspec": {
   "display_name": "Python 3",
   "language": "python",
   "name": "python3"
  },
  "language_info": {
   "codemirror_mode": {
    "name": "ipython",
    "version": 3
   },
   "file_extension": ".py",
   "mimetype": "text/x-python",
   "name": "python",
   "nbconvert_exporter": "python",
   "pygments_lexer": "ipython3",
   "version": "3.6.8"
  }
 },
 "nbformat": 4,
 "nbformat_minor": 2
}
