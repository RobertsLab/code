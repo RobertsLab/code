{
 "cells": [
  {
   "cell_type": "code",
   "execution_count": 1,
   "metadata": {},
   "outputs": [
    {
     "name": "stdout",
     "output_type": "stream",
     "text": [
      "TODAY'S DATE:\n",
      "Fri Feb 28 13:42:57 PST 2020\n",
      "------------\n",
      "\n",
      "Distributor ID:\tUbuntu\n",
      "Description:\tUbuntu 16.04.6 LTS\n",
      "Release:\t16.04\n",
      "Codename:\txenial\n",
      "\n",
      "------------\n",
      "HOSTNAME: \n",
      "swoose\n",
      "\n",
      "------------\n",
      "Computer Specs:\n",
      "\n",
      "Architecture:          x86_64\n",
      "CPU op-mode(s):        32-bit, 64-bit\n",
      "Byte Order:            Little Endian\n",
      "CPU(s):                24\n",
      "On-line CPU(s) list:   0-23\n",
      "Thread(s) per core:    2\n",
      "Core(s) per socket:    6\n",
      "Socket(s):             2\n",
      "NUMA node(s):          1\n",
      "Vendor ID:             GenuineIntel\n",
      "CPU family:            6\n",
      "Model:                 44\n",
      "Model name:            Intel(R) Xeon(R) CPU           X5670  @ 2.93GHz\n",
      "Stepping:              2\n",
      "CPU MHz:               2925.931\n",
      "BogoMIPS:              5851.96\n",
      "Virtualization:        VT-x\n",
      "L1d cache:             32K\n",
      "L1i cache:             32K\n",
      "L2 cache:              256K\n",
      "L3 cache:              12288K\n",
      "NUMA node0 CPU(s):     0-23\n",
      "Flags:                 fpu vme de pse tsc msr pae mce cx8 apic sep mtrr pge mca cmov pat pse36 clflush dts acpi mmx fxsr sse sse2 ss ht tm pbe syscall nx pdpe1gb rdtscp lm constant_tsc arch_perfmon pebs bts rep_good nopl xtopology nonstop_tsc aperfmperf pni pclmulqdq dtes64 monitor ds_cpl vmx smx est tm2 ssse3 cx16 xtpr pdcm pcid dca sse4_1 sse4_2 popcnt aes lahf_lm epb ssbd ibrs ibpb stibp kaiser tpr_shadow vnmi flexpriority ept vpid dtherm ida arat flush_l1d\n",
      "\n",
      "------------\n",
      "\n",
      "Memory Specs\n",
      "\n",
      "              total        used        free      shared  buff/cache   available\n",
      "Mem:            70G        6.1G         50G        659M         14G         63G\n",
      "Swap:          4.7G          0B        4.7G\n"
     ]
    },
    {
     "name": "stderr",
     "output_type": "stream",
     "text": [
      "No LSB modules are available.\n"
     ]
    }
   ],
   "source": [
    "%%bash\n",
    "echo \"TODAY'S DATE:\"\n",
    "date\n",
    "echo \"------------\"\n",
    "echo \"\"\n",
    "#Display operating system info\n",
    "lsb_release -a\n",
    "echo \"\"\n",
    "echo \"------------\"\n",
    "echo \"HOSTNAME: \"; hostname \n",
    "echo \"\"\n",
    "echo \"------------\"\n",
    "echo \"Computer Specs:\"\n",
    "echo \"\"\n",
    "lscpu\n",
    "echo \"\"\n",
    "echo \"------------\"\n",
    "echo \"\"\n",
    "echo \"Memory Specs\"\n",
    "echo \"\"\n",
    "free -mh"
   ]
  },
  {
   "cell_type": "markdown",
   "metadata": {},
   "source": [
    "### Set variables\n",
    "`%env` variables are good for passing to bash cells"
   ]
  },
  {
   "cell_type": "code",
   "execution_count": 7,
   "metadata": {},
   "outputs": [
    {
     "name": "stdout",
     "output_type": "stream",
     "text": [
      "env: wd=/home/sam/analyses/20200228_swoose_olur_v081_fasta_renaming\n",
      "env: rsync_owl=owl:/volume1/web/halfshell/genomic-databank/\n",
      "env: wget_command=--directory-prefix=$/home/sam/analyses/20200228_swoose_olur_v081_fasta_renaming --quiety --no-directories --no-check-certificate  https://owl.fish.washington.edu/halfshell/genomic-databank/\n",
      "env: og_fasta=Olurida_v081_genome_snap02.all.renamed.putative_function.domain_added.fasta\n",
      "env: og_fai=Olurida_v081_genome_snap02.all.renamed.putative_function.domain_added.fasta.fai\n",
      "env: og_gff=Olurida_v081_genome_snap02.all.renamed.putative_function.domain_added.gff\n",
      "env: gene_gff=Olurida_v081-20190709.gene.gff\n",
      "env: new_fasta=Olurida_v081.genes.fasta\n",
      "env: new_fai=Olurida_v081.genes.fasta.fai\n",
      "env: samtools=/home/sam/programs/samtools-1.9/samtools\n"
     ]
    }
   ],
   "source": [
    "# Set workding directory\n",
    "%env wd=/home/sam/analyses/20200228_swoose_olur_v081_fasta_renaming\n",
    "wd=\"/home/sam/analyses/20200228_swoose_olur_v081_fasta_renaming\"\n",
    "\n",
    "%env rsync_owl=owl:/volume1/web/halfshell/genomic-databank/\n",
    "%env wget_command=--directory-prefix=${wd} --quiety --no-directories --no-check-certificate  https://owl.fish.washington.edu/halfshell/genomic-databank/\n",
    "\n",
    "%env og_fasta=Olurida_v081_genome_snap02.all.renamed.putative_function.domain_added.fasta\n",
    "%env og_fai=Olurida_v081_genome_snap02.all.renamed.putative_function.domain_added.fasta.fai\n",
    "%env og_gff=Olurida_v081_genome_snap02.all.renamed.putative_function.domain_added.gff\n",
    "%env gene_gff=Olurida_v081-20190709.gene.gff\n",
    "%env new_fasta=Olurida_v081.genes.fasta\n",
    "%env new_fai=Olurida_v081.genes.fasta.fai\n",
    "%env samtools=/home/sam/programs/samtools-1.9/samtools"
   ]
  },
  {
   "cell_type": "markdown",
   "metadata": {},
   "source": [
    "#### Create necessary directories"
   ]
  },
  {
   "cell_type": "code",
   "execution_count": 8,
   "metadata": {
    "collapsed": true,
    "jupyter": {
     "outputs_hidden": true
    }
   },
   "outputs": [],
   "source": [
    "%%bash\n",
    "mkdir --parents ${wd}"
   ]
  },
  {
   "cell_type": "code",
   "execution_count": 9,
   "metadata": {},
   "outputs": [
    {
     "name": "stdout",
     "output_type": "stream",
     "text": [
      "/home/sam/analyses/20200228_swoose_olur_v081_fasta_renaming\n"
     ]
    }
   ],
   "source": [
    "cd {wd}"
   ]
  },
  {
   "cell_type": "markdown",
   "metadata": {},
   "source": [
    "#### Download Olur_v081 genes gff\n",
    "\n",
    "Taken from: https://owl.fish.washington.edu/halfshell/genomic-databank/"
   ]
  },
  {
   "cell_type": "code",
   "execution_count": 11,
   "metadata": {},
   "outputs": [
    {
     "name": "stdout",
     "output_type": "stream",
     "text": [
      "receiving incremental file list\n",
      "Olurida_v081_genome_snap02.all.renamed.putative_function.domain_added.gff\n",
      "  3,104,658,743 100%   29.57MB/s    0:01:40 (xfr#1, to-chk=0/1)\n",
      "\n",
      "sent 30 bytes  received 3,105,037,889 bytes  30,591,506.59 bytes/sec\n",
      "total size is 3,104,658,743  speedup is 1.00\n",
      "receiving incremental file list\n",
      "\n",
      "sent 11 bytes  received 75 bytes  57.33 bytes/sec\n",
      "total size is 9,248,086  speedup is 107,535.88\n",
      "total 3.0G\n",
      "-rw-r--r-- 1 sam users 8.9M Jul 16  2019 Olurida_v081-20190709.gene.gff\n",
      "-rw-rw-r-- 1 sam users 2.9G Dec 13 21:30 Olurida_v081_genome_snap02.all.renamed.putative_function.domain_added.gff\n"
     ]
    }
   ],
   "source": [
    "%%bash\n",
    "# Create array of files from list\n",
    "files_array=(Olurida_v081_genome_snap02.all.renamed.putative_function.domain_added.gff Olurida_v081-20190709.gene.gff)\n",
    "\n",
    "\n",
    "for file in \"${files_array[@]}\"\n",
    "do\n",
    "  rsync \\\n",
    "  --archive \\\n",
    "  --progress \\\n",
    "  --verbose \\\n",
    "  \"${rsync_owl}${file}\" \\\n",
    "  .\n",
    "done\n",
    "\n",
    "ls -lh"
   ]
  },
  {
   "cell_type": "markdown",
   "metadata": {},
   "source": [
    "### Extract FastA from MAKER GFF"
   ]
  },
  {
   "cell_type": "code",
   "execution_count": 12,
   "metadata": {},
   "outputs": [],
   "source": [
    "%%bash\n",
    "\n",
    "# Find the first line in the file that begins with \">\"\n",
    "# and print to the end of the file ('p' enables printing the first matching line, which would be skipped by default)\n",
    "sed --quiet '/^>/,$p' ${og_gff} > ${og_fasta}"
   ]
  },
  {
   "cell_type": "markdown",
   "metadata": {},
   "source": [
    "#### Compare number of FastA header lines"
   ]
  },
  {
   "cell_type": "code",
   "execution_count": 13,
   "metadata": {},
   "outputs": [
    {
     "name": "stdout",
     "output_type": "stream",
     "text": [
      "Olurida_v081_genome_snap02.all.renamed.putative_function.domain_added.gff:159429\n",
      "Olurida_v081_genome_snap02.all.renamed.putative_function.domain_added.fasta:159429\n"
     ]
    }
   ],
   "source": [
    "%%bash\n",
    "\n",
    "grep --with-filename --count \"^>\" ${og_gff}\n",
    "grep --with-filename --count \"^>\" ${og_fasta}"
   ]
  },
  {
   "cell_type": "markdown",
   "metadata": {},
   "source": [
    "#### Create FastA index file"
   ]
  },
  {
   "cell_type": "code",
   "execution_count": 14,
   "metadata": {},
   "outputs": [
    {
     "name": "stdout",
     "output_type": "stream",
     "text": [
      "Contig56127\t12532\t13\t60\t61\n",
      "Contig81695\t22750\t12767\t60\t61\n",
      "Contig130560\t1525\t35911\t60\t61\n",
      "Contig155059\t2121\t37476\t60\t61\n",
      "Contig61093\t10407\t39646\t60\t61\n",
      "Contig79811\t2248\t50240\t60\t61\n",
      "Contig89862\t14043\t52539\t60\t61\n",
      "Contig1111\t28792\t66829\t60\t61\n",
      "Contig160984\t4700\t96115\t60\t61\n",
      "Contig214118\t1068\t100908\t60\t61\n"
     ]
    }
   ],
   "source": [
    "%%bash\n",
    "\n",
    "${samtools} faidx ${og_fasta} > ${og_fai}\n",
    "\n",
    "head ${og_fai}"
   ]
  },
  {
   "cell_type": "markdown",
   "metadata": {},
   "source": [
    "### Change scaffold names and file names"
   ]
  },
  {
   "cell_type": "code",
   "execution_count": 17,
   "metadata": {},
   "outputs": [
    {
     "name": "stdout",
     "output_type": "stream",
     "text": [
      "Process is interrupted.\n"
     ]
    }
   ],
   "source": [
    "%%bash\n",
    "\n",
    "# Array of old scaffold names\n",
    "# Uses first column of GFF to get scaffold names\n",
    "mapfile -t orig_scaffold_names < <(sort -k1,1 -t $'\\t' ${gene_gff} | awk '{print $1}')\n",
    "\n",
    "# Array of new scaffold names\n",
    "# Separators set as \"=\" and \";\" to pull out new IDs\n",
    "# NR > 1 skips the first line (i.e. header)\n",
    "mapfile -t new_scaffold_names < <(sort -k1,1 -t $'\\t' ${gene_gff} | awk -F\"[=;]\" 'NR > 1 {print $2}')\n",
    "\n",
    "  # sed substitution\n",
    "  # creates sed script to find original scaffold names and replace them with new scafold names\n",
    "  # and passes to sed via stdin\n",
    "# the \"\\<\\>\" in the printf is needed for exact sed match\n",
    "for index in \"${!orig_scaffold_names[@]}\"\n",
    "  do\n",
    "    printf \"s/%s/%s/\\n\" \"\\<${orig_scaffold_names[index]}\\>\" \"${new_scaffold_names[index]}\"\n",
    "  done | sed --file - \"${og_fasta}\" \\\n",
    "  >> \"${new_fasta}\"\n",
    "done\n",
    "\n",
    "ls -ltrh"
   ]
  },
  {
   "cell_type": "markdown",
   "metadata": {},
   "source": [
    "#### Check old and new FastAs to confirm substituions"
   ]
  },
  {
   "cell_type": "code",
   "execution_count": 19,
   "metadata": {},
   "outputs": [
    {
     "name": "stdout",
     "output_type": "stream",
     "text": [
      "##gff-version 3\n",
      "##Generated using GenSAS, Monday 7th of October 2019 04:54:37 AM\n",
      "##Project Name : Pgenerosa_v074\n",
      "Scaffold_01\tGenSAS_5d9637f372b5d-publish\tCDS\t2\t125\t.\t+\t0\tID=PGEN_.00g000010.m01.CDS01;Name=PGEN_.00g000010.m01.CDS01;Parent=PGEN_.00g000010.m01;original_ID=cds.21510-PGEN_.00g234140.m01;Alias=cds.21510-PGEN_.00g234140.m01\n",
      "Scaffold_01\tGenSAS_5d9637f372b5d-publish\tCDS\t1995\t2095\t.\t+\t1\tID=PGEN_.00g000010.m01.CDS02;Name=PGEN_.00g000010.m01.CDS02;Parent=PGEN_.00g000010.m01;original_ID=cds.21510-PGEN_.00g234140.m01;Alias=cds.21510-PGEN_.00g234140.m01\n",
      "Scaffold_01\tGenSAS_5d9637f372b5d-publish\tCDS\t3325\t3495\t.\t+\t0\tID=PGEN_.00g000010.m01.CDS03;Name=PGEN_.00g000010.m01.CDS03;Parent=PGEN_.00g000010.m01;original_ID=cds.21510-PGEN_.00g234140.m01;Alias=cds.21510-PGEN_.00g234140.m01\n",
      "Scaffold_01\tGenSAS_5d9637f372b5d-publish\tCDS\t4651\t4719\t.\t+\t0\tID=PGEN_.00g000010.m01.CDS04;Name=PGEN_.00g000010.m01.CDS04;Parent=PGEN_.00g000010.m01;original_ID=cds.21510-PGEN_.00g234140.m01;Alias=cds.21510-PGEN_.00g234140.m01\n",
      "Scaffold_01\tGenSAS_5d9637f372b5d-publish\tCDS\t19808\t19943\t.\t-\t2\tID=PGEN_.00g000020.m01.CDS01;Name=PGEN_.00g000020.m01.CDS01;Parent=PGEN_.00g000020.m01;original_ID=cds.21510-PGEN_.00g234150.m01;Alias=cds.21510-PGEN_.00g234150.m01\n",
      "Scaffold_01\tGenSAS_5d9637f372b5d-publish\tCDS\t21133\t21362\t.\t-\t0\tID=PGEN_.00g000020.m01.CDS02;Name=PGEN_.00g000020.m01.CDS02;Parent=PGEN_.00g000020.m01;original_ID=cds.21510-PGEN_.00g234150.m01;Alias=cds.21510-PGEN_.00g234150.m01\n",
      "Scaffold_01\tGenSAS_5d9637f372b5d-publish\tCDS\t22487\t22613\t.\t-\t2\tID=PGEN_.00g000020.m01.CDS03;Name=PGEN_.00g000020.m01.CDS03;Parent=PGEN_.00g000020.m01;original_ID=cds.21510-PGEN_.00g234150.m01;Alias=cds.21510-PGEN_.00g234150.m01\n",
      "\n",
      "--------------------\n",
      "##Generated\n",
      "##gff-version\n",
      "##Project\n",
      "Scaffold_01\n",
      "Scaffold_02\n",
      "Scaffold_03\n",
      "Scaffold_04\n",
      "Scaffold_05\n",
      "Scaffold_06\n",
      "Scaffold_07\n",
      "Scaffold_08\n",
      "Scaffold_09\n",
      "Scaffold_10\n",
      "Scaffold_11\n",
      "Scaffold_12\n",
      "Scaffold_13\n",
      "Scaffold_14\n",
      "Scaffold_15\n",
      "Scaffold_16\n",
      "Scaffold_17\n",
      "Scaffold_18\n"
     ]
    }
   ],
   "source": [
    "%%bash\n",
    "\n",
    "grep --with-filename \"^>\" ${og_fasta} | head\n",
    "\n",
    "grep --with-filename \"^>\" ${new_fasta} | head"
   ]
  },
  {
   "cell_type": "markdown",
   "metadata": {},
   "source": [
    "#### Make FastA index file for new FastA"
   ]
  },
  {
   "cell_type": "code",
   "execution_count": 20,
   "metadata": {},
   "outputs": [
    {
     "name": "stdout",
     "output_type": "stream",
     "text": [
      "total 3.7G\n",
      "-rw-rw-r-- 1 sam users  53M Nov  5 08:55 Panopea-generosa-v1.0.a4.CDS.gff3\n",
      "-rw-rw-r-- 1 sam users  55M Nov  5 08:55 Panopea-generosa-v1.0.a4.exon.gff3\n",
      "-rw-rw-r-- 1 sam users 9.5M Nov  5 08:55 Panopea-generosa-v1.0.a4.gene.gff3\n",
      "-rw-rw-r-- 1 sam users 9.1M Nov  5 08:55 Panopea-generosa-v1.0.a4.mRNA.gff3\n",
      "-rw-rw-r-- 1 sam users 326M Nov  5 08:55 Panopea-generosa-v1.0.a4.repeat_region.gff3\n",
      "-rw-rw-r-- 1 sam users 1.2K Nov  5 08:55 Panopea-generosa-v1.0.a4.rRNA.gff3\n",
      "-rw-rw-r-- 1 sam users 2.3M Nov  5 08:55 Panopea-generosa-v1.0.a4.tRNA.gff3\n",
      "-rw-rw-r-- 1 sam users 914M Nov  5 08:56 Panopea-generosa-v1.0.fa\n",
      "-rw-rw-r-- 1 sam users  658 Nov  5 08:56 Panopea-generosa-v1.0.fa.fai\n",
      "-rw-rw-r-- 1 sam users 2.0G Nov  5 08:59 Panopea-generosa-v1.0.CpG.gff\n",
      "-rw-rw-r-- 1 sam users 996K Nov  5 08:59 Panopea-generosa-v1.0.a4.intergenic.bed\n",
      "-rw-rw-r-- 1 sam users 4.4M Nov  5 08:59 Panopea-generosa-v1.0.a4.introns.bed\n",
      "-rw-rw-r-- 1 sam users 4.7M Nov  5 08:59 Panopea-generosa-v1.0.a4.repeats.DNA.gff3\n",
      "-rw-rw-r-- 1 sam users 645K Nov  5 08:59 Panopea-generosa-v1.0.a4.repeats.LTR.gff3\n",
      "-rw-rw-r-- 1 sam users 8.9M Nov  5 08:59 Panopea-generosa-v1.0.a4.repeats.SINE.gff3\n",
      "-rw-rw-r-- 1 sam users 293M Nov  5 08:59 Panopea-generosa-v1.0.a4.repeats.Unknown.gff3\n",
      "-rw-rw-r-- 1 sam users  16M Nov  5 08:59 Panopea-generosa-v1.0.a4.repeats.LINE.gff3\n",
      "-rw-rw-r-- 1 sam users 123K Nov  5 08:59 Panopea-generosa-v1.0.a4.repeats.RC.gff3\n",
      "-rw-rw-r-- 1 sam users 4.0M Nov  5 08:59 Panopea-generosa-v1.0.a4.repeats.Simple_repeat.gff3\n"
     ]
    }
   ],
   "source": [
    "%%bash\n",
    "\n",
    "${samtools} faidx ${new_fasta} > ${new_fai}\n",
    "\n",
    "head ${new_fai}"
   ]
  },
  {
   "cell_type": "code",
   "execution_count": null,
   "metadata": {},
   "outputs": [],
   "source": []
  }
 ],
 "metadata": {
  "kernelspec": {
   "display_name": "Python 3",
   "language": "python",
   "name": "python3"
  },
  "language_info": {
   "codemirror_mode": {
    "name": "ipython",
    "version": 3
   },
   "file_extension": ".py",
   "mimetype": "text/x-python",
   "name": "python",
   "nbconvert_exporter": "python",
   "pygments_lexer": "ipython3",
   "version": "3.6.8"
  }
 },
 "nbformat": 4,
 "nbformat_minor": 4
}
