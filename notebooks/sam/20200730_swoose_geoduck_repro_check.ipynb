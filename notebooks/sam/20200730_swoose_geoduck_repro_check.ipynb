{
 "cells": [
  {
   "cell_type": "code",
   "execution_count": 1,
   "metadata": {},
   "outputs": [
    {
     "name": "stdout",
     "output_type": "stream",
     "text": [
      "TODAY'S DATE:\n",
      "Wed Nov 28 12:01:27 PST 2018\n",
      "------------\n",
      "\n",
      "Distributor ID:\tUbuntu\n",
      "Description:\tUbuntu 16.04.5 LTS\n",
      "Release:\t16.04\n",
      "Codename:\txenial\n",
      "\n",
      "------------\n",
      "HOSTNAME: \n",
      "swoose\n",
      "\n",
      "------------\n",
      "Computer Specs:\n",
      "\n",
      "Architecture:          x86_64\n",
      "CPU op-mode(s):        32-bit, 64-bit\n",
      "Byte Order:            Little Endian\n",
      "CPU(s):                24\n",
      "On-line CPU(s) list:   0-23\n",
      "Thread(s) per core:    2\n",
      "Core(s) per socket:    6\n",
      "Socket(s):             2\n",
      "NUMA node(s):          1\n",
      "Vendor ID:             GenuineIntel\n",
      "CPU family:            6\n",
      "Model:                 44\n",
      "Model name:            Intel(R) Xeon(R) CPU           X5670  @ 2.93GHz\n",
      "Stepping:              2\n",
      "CPU MHz:               2925.866\n",
      "BogoMIPS:              5851.93\n",
      "Virtualization:        VT-x\n",
      "L1d cache:             32K\n",
      "L1i cache:             32K\n",
      "L2 cache:              256K\n",
      "L3 cache:              12288K\n",
      "NUMA node0 CPU(s):     0-23\n",
      "Flags:                 fpu vme de pse tsc msr pae mce cx8 apic sep mtrr pge mca cmov pat pse36 clflush dts acpi mmx fxsr sse sse2 ss ht tm pbe syscall nx pdpe1gb rdtscp lm constant_tsc arch_perfmon pebs bts rep_good nopl xtopology nonstop_tsc aperfmperf pni pclmulqdq dtes64 monitor ds_cpl vmx smx est tm2 ssse3 cx16 xtpr pdcm pcid dca sse4_1 sse4_2 popcnt aes lahf_lm epb kaiser tpr_shadow vnmi flexpriority ept vpid dtherm ida arat\n",
      "\n",
      "------------\n",
      "\n",
      "Memory Specs\n",
      "\n",
      "              total        used        free      shared  buff/cache   available\n",
      "Mem:            70G        3.0G         65G        112M        2.5G         67G\n",
      "Swap:          4.7G          0B        4.7G\n"
     ]
    },
    {
     "name": "stderr",
     "output_type": "stream",
     "text": [
      "No LSB modules are available.\n"
     ]
    }
   ],
   "source": [
    "%%bash\n",
    "echo \"TODAY'S DATE:\"\n",
    "date\n",
    "echo \"------------\"\n",
    "echo \"\"\n",
    "#Display operating system info\n",
    "lsb_release -a\n",
    "echo \"\"\n",
    "echo \"------------\"\n",
    "echo \"HOSTNAME: \"; hostname \n",
    "echo \"\"\n",
    "echo \"------------\"\n",
    "echo \"Computer Specs:\"\n",
    "echo \"\"\n",
    "lscpu\n",
    "echo \"\"\n",
    "echo \"------------\"\n",
    "echo \"\"\n",
    "echo \"Memory Specs\"\n",
    "echo \"\"\n",
    "free -mh"
   ]
  },
  {
   "cell_type": "markdown",
   "metadata": {},
   "source": [
    "### Set variables"
   ]
  },
  {
   "cell_type": "code",
   "execution_count": null,
   "metadata": {},
   "outputs": [],
   "source": [
    "# Set data directories\n",
    "%env data_dir=/home/sam/data/P_generosa\n",
    "%env fasta=/home/sam/data/P_generosa/Panopea-generosa-vv0.74.a4.5d9637f372b5d-publish.genes.fna\n",
    "%env out_dir=/home/sam/analyses/20200730_pgen_primer_design\n",
    "\n",
    "# Needed for primer3-2.4.0\n",
    "%env thermo_params_dir=/home/sam/software/primer3-2.4.0/src/primer3_config/\n",
    "\n",
    "# Programs\n",
    "%env primer3=/home/sam/programs/primer3-2.4.0/src/primer3_core\n",
    "%env primersearch=/home/sam/programs/EMBOSS-6.6.0/emboss/primersearch"
   ]
  },
  {
   "cell_type": "markdown",
   "metadata": {},
   "source": [
    "#### Make directories"
   ]
  },
  {
   "cell_type": "code",
   "execution_count": 2,
   "metadata": {},
   "outputs": [],
   "source": [
    "%%bash\n",
    "mkdir --parents \"${out_dir}\""
   ]
  },
  {
   "cell_type": "markdown",
   "metadata": {},
   "source": [
    "### Download P.generosa genes FastA file from OSF repo (https://osf.io/ct623/)"
   ]
  },
  {
   "cell_type": "code",
   "execution_count": 5,
   "metadata": {},
   "outputs": [
    {
     "name": "stdout",
     "output_type": "stream",
     "text": [
      "-------------------\n",
      "total 271M\n",
      "-rw-r--r-- 1 sam users 271M Nov 23 15:42 20180827_trinity_geoduck.fasta.transdecoder.cds\n",
      "drwxrwxr-x 2 sam sam   4.0K Nov 28 12:04 transdecoder_fasta_splits\n"
     ]
    }
   ],
   "source": [
    "%%bash\n",
    "wget --quiet \"https://files.osf.io/v1/resources/yem8n/providers/osfstorage/5db35d9abc32f4000e0b70c2?action=download&direct&version=1\" \\\n",
    "--output-document ${fasta}\n",
    "\n",
    "ls -lh"
   ]
  },
  {
   "cell_type": "markdown",
   "metadata": {},
   "source": [
    "### Extract target sequences from FastA"
   ]
  },
  {
   "cell_type": "code",
   "execution_count": 6,
   "metadata": {},
   "outputs": [
    {
     "name": "stdout",
     "output_type": "stream",
     "text": [
      "-------------------\n",
      "NUMBER OF SEQUENCES IN ORIGINAL FASTA\n",
      "210586\n",
      "-------------------\n",
      "\n",
      "\n",
      "-------------------\n",
      "NUMBER OF INDIVIDUAL FASTA FILES\n",
      "210586\n",
      "-------------------\n"
     ]
    },
    {
     "name": "stderr",
     "output_type": "stream",
     "text": [
      "\n",
      "real\t0m43.789s\n",
      "user\t0m36.340s\n",
      "sys\t0m6.656s\n"
     ]
    }
   ],
   "source": [
    "%%bash\n",
    "\n",
    "timestamp=$(date +\"%Y%m%d\")\n",
    "\n",
    "cd \"${out_dir}\"\n",
    "\n",
    "# Associative array to associate gene names with sequence ids\n",
    "# Requires >= Bash 4.0\n",
    "declare -A seqid_array\n",
    "\n",
    "# Populate associative array [gene_abbreviation]=seqid\n",
    "seqid_array=(\n",
    "[TIF3s6b]=PGEN_.00g000750-vv0.74.a \\\n",
    "[TIF3s12]=PGEN_.00g025890-vv0.74.a \\\n",
    "[APLP]=PGEN_.00g070040-vv0.74.a \\\n",
    "[TIF3s7]=PGEN_.00g079690-vv0.74.a \\\n",
    "[TIF3s5]=PGEN_.00g082590-vv0.74.a \\\n",
    "[NFIP1]=PGEN_.00g088260-vv0.74.a \\\n",
    "[GSK3B]=PGEN_.00g114060-vv0.74.a \\\n",
    "[TIF3s8-1]=PGEN_.00g132030-vv0.74.a \\\n",
    "[TIF3s8-2]=PGEN_.00g132040-vv0.74.a \\\n",
    "[FEN1]=PGEN_.00g188130-vv0.74.a \\\n",
    "[ECHD3]=PGEN_.00g194630-vv0.74.a \\\n",
    "[GLYG]=PGEN_.00g224740-vv0.74.a \\\n",
    "[TIF3s10]=PGEN_.00g245080-vv0.74.a \\\n",
    "[SPTN1]=PGEN_.00g280110-vv0.74.a \\\n",
    "[RPL5]=PGEN_.00g287540-vv0.74.a \\\n",
    "[TIF3s4a]=PGEN_.00g288180-vv0.74.a \\\n",
    "[NSF]=PGEN_.00g338640-vv0.74.a\n",
    ")\n",
    "\n",
    "# Individual FastAs array\n",
    "fasta_array=()\n",
    "\n",
    "# Extract sequences to individual FastA files\n",
    "for gene_name in \"${!seqid_array[@]}\"\n",
    "do\n",
    "    # Set output file names\n",
    "    out_file=\"${seqid_array[$gene_name]}\"_\"${gene_name}\".fna\n",
    "\n",
    "    # Run faidx\n",
    "    faidx  \"${fasta}\" \"${seqid_array[$gene_name]}\" \\\n",
    "    --out \"${out_file}\"\n",
    "    \n",
    "    # Add FastA to array\n",
    "    fasta_array+=(${out_file})\n",
    "    \n",
    "    ## Check output\n",
    "    # Count number of entries in output FastA (should be = 1)\n",
    "    # -H displays filename - is compatible with OSX\n",
    "    grep --count -H \">\" \"${out_file}\"\n",
    "    \n",
    "    # Check each FastA header\n",
    "    echo \"\"\n",
    "    echo \"${out_file}: $(head -n1 ${out_file})\"\n",
    "    \n",
    "done\n",
    "\n",
    "# Run Primer3\n",
    "for fna in \"${fasta_array[@]}\"\n",
    "do\n",
    "\n",
    "    # Store sequence only from desired FastA.\n",
    "    # Print all lines after the first line and then delete newlines\n",
    "    # because sequence needs to be on single line for Primer3 params file\n",
    "    sequence=$(tail -n +2 \"${fna}\" | tr -d '\\n')\n",
    "    \n",
    "    # Remove suffix from FastA file to use as sequence ID\n",
    "    seq_id=${fna%%.*}\n",
    "    \n",
    "    \n",
    "    params_out=\"${timestamp}_${seq_id}_primer3_params.txt\"\n",
    "    primer3_def_out=\"${timestamp}_${seq_id}_primers_default_format.txt\"\n",
    "    emboss_primers=\"${timestamp}_${seq_id}_emboss_primers.txt\"\n",
    "    primersearch_out=\"${timestamp}_${seq_id}_primersearch.txt\"\n",
    "    \n",
    "    # Use heredoc to create Primer3 parameters file\n",
    "    cat << EOF > \"${params_out}\"\n",
    "    SEQUENCE_ID=${seq_id}\n",
    "    SEQUENCE_TEMPLATE=${sequence}\n",
    "    PRIMER_TASK=generic\n",
    "    PRIMER_PICK_LEFT_PRIMER=3\n",
    "    PRIMER_PICK_RIGHT_PRIMER=3\n",
    "    PRIMER_OPT_SIZE=18\n",
    "    PRIMER_MIN_SIZE=15\n",
    "    PRIMER_MAX_SIZE=21\n",
    "    PRIMER_MAX_NS_ACCEPTED=1\n",
    "    PRIMER_PRODUCT_SIZE_RANGE=75-150\n",
    "    P3_FILE_FLAG=1\n",
    "    PRIMER_EXPLAIN_FLAG=1\n",
    "    PRIMER_THERMODYNAMIC_PARAMETERS_PATH=${thermo_params_dir}\n",
    "    =\n",
    "    EOF\n",
    "    \n",
    "    # Run Primer3 with default output format\n",
    "    ${primer3} \\\n",
    "    --output=\"${primer3_def_out}\" \\\n",
    "    \"${params_out}\"\n",
    "    \n",
    "    # Create tab-delimited primer file for primersearch\n",
    "    sequence_id=$(grep \"SEQUENCE_ID=\" \"${params_out}\" | sed 's/SEQUENCE_ID=//')\n",
    "    left_primer=$(grep \"PRIMER_LEFT_0_SEQUENCE=\" \"${params_out}\" | sed 's/PRIMER_LEFT_0_SEQUENCE=//')\n",
    "    right_primer=$(grep \"PRIMER_RIGHT_0_SEQUENCE=\" \"${params_out}\" | sed 's/PRIMER_RIGHT_0_SEQUENCE=//')\n",
    "    \n",
    "    printf \"%s\\t\" \"${seq_id}\" \"${left_primer}\" \"${right_primer}\" > \"${emboss_primers}\"\n",
    "    \n",
    "    # Add required newline to end of file\n",
    "    printf \"\\n\" >> \"${emboss_primers}\"\n",
    "    \n",
    "    # Run EMBOSS primersearch\n",
    "    ${primersearch} \\\n",
    "    -seqall \"${fasta}\" \\\n",
    "    -infile \"${emboss_primers}\" \\\n",
    "    -mismatchpercent 20 \\\n",
    "    -outfile \"${primersearch_out}\" \\\n",
    "    -auto\n",
    "    \n",
    "\n",
    "done"
   ]
  }
 ],
 "metadata": {
  "kernelspec": {
   "display_name": "Python 3",
   "language": "python",
   "name": "python3"
  },
  "language_info": {
   "codemirror_mode": {
    "name": "ipython",
    "version": 3
   },
   "file_extension": ".py",
   "mimetype": "text/x-python",
   "name": "python",
   "nbconvert_exporter": "python",
   "pygments_lexer": "ipython3",
   "version": "3.6.10"
  }
 },
 "nbformat": 4,
 "nbformat_minor": 4
}
