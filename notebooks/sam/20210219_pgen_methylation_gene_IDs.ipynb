{
 "cells": [
  {
   "cell_type": "markdown",
   "metadata": {},
   "source": [
    "## Extract _P.generosa_ gene IDs associated with methylation machinery.\n",
    "\n",
    "List of methylation machinery gene IDs comes from this GitHub Issue:\n",
    "\n",
    "- [https://github.com/RobertsLab/resources/issues/1116](https://github.com/RobertsLab/resources/issues/1116)"
   ]
  },
  {
   "cell_type": "code",
   "execution_count": 1,
   "metadata": {},
   "outputs": [
    {
     "name": "stdout",
     "output_type": "stream",
     "text": [
      "TODAY'S DATE:\n",
      "Fri Feb 19 21:04:59 PST 2021\n",
      "------------\n",
      "\n",
      "Distributor ID:\tUbuntu\n",
      "Description:\tUbuntu 20.04.2 LTS\n",
      "Release:\t20.04\n",
      "Codename:\tfocal\n",
      "\n",
      "------------\n",
      "HOSTNAME: \n",
      "computer\n",
      "\n",
      "------------\n",
      "Computer Specs:\n",
      "\n",
      "Architecture:                    x86_64\n",
      "CPU op-mode(s):                  32-bit, 64-bit\n",
      "Byte Order:                      Little Endian\n",
      "Address sizes:                   45 bits physical, 48 bits virtual\n",
      "CPU(s):                          8\n",
      "On-line CPU(s) list:             0-7\n",
      "Thread(s) per core:              1\n",
      "Core(s) per socket:              1\n",
      "Socket(s):                       8\n",
      "NUMA node(s):                    1\n",
      "Vendor ID:                       GenuineIntel\n",
      "CPU family:                      6\n",
      "Model:                           165\n",
      "Model name:                      Intel(R) Core(TM) i9-10885H CPU @ 2.40GHz\n",
      "Stepping:                        2\n",
      "CPU MHz:                         2399.998\n",
      "BogoMIPS:                        4799.99\n",
      "Hypervisor vendor:               VMware\n",
      "Virtualization type:             full\n",
      "L1d cache:                       256 KiB\n",
      "L1i cache:                       256 KiB\n",
      "L2 cache:                        2 MiB\n",
      "L3 cache:                        128 MiB\n",
      "NUMA node0 CPU(s):               0-7\n",
      "Vulnerability Itlb multihit:     KVM: Mitigation: VMX unsupported\n",
      "Vulnerability L1tf:              Not affected\n",
      "Vulnerability Mds:               Not affected\n",
      "Vulnerability Meltdown:          Not affected\n",
      "Vulnerability Spec store bypass: Mitigation; Speculative Store Bypass disabled via prctl and seccomp\n",
      "Vulnerability Spectre v1:        Mitigation; usercopy/swapgs barriers and __user pointer sanitization\n",
      "Vulnerability Spectre v2:        Mitigation; Enhanced IBRS, IBPB conditional, RSB filling\n",
      "Vulnerability Srbds:             Not affected\n",
      "Vulnerability Tsx async abort:   Not affected\n",
      "Flags:                           fpu vme de pse tsc msr pae mce cx8 apic sep mtrr pge mca cmov pat pse36 clflush mmx fxsr sse sse2 ss syscall nx pdpe1gb rdtscp lm constant_tsc arch_perfmon nopl xtopology tsc_reliable nonstop_tsc cpuid pni pclmulqdq ssse3 fma cx16 pcid sse4_1 sse4_2 x2apic movbe popcnt tsc_deadline_timer aes xsave avx f16c rdrand hypervisor lahf_lm abm 3dnowprefetch cpuid_fault invpcid_single ssbd ibrs ibpb stibp ibrs_enhanced fsgsbase tsc_adjust bmi1 avx2 smep bmi2 invpcid rdseed adx smap clflushopt xsaveopt xsavec xgetbv1 xsaves arat pku ospke md_clear flush_l1d arch_capabilities\n",
      "\n",
      "------------\n",
      "\n",
      "Memory Specs\n",
      "\n",
      "              total        used        free      shared  buff/cache   available\n",
      "Mem:           53Gi       3.4Gi        47Gi       742Mi       2.4Gi        48Gi\n",
      "Swap:         2.0Gi          0B       2.0Gi\n"
     ]
    },
    {
     "name": "stderr",
     "output_type": "stream",
     "text": [
      "No LSB modules are available.\n"
     ]
    }
   ],
   "source": [
    "%%bash\n",
    "echo \"TODAY'S DATE:\"\n",
    "date\n",
    "echo \"------------\"\n",
    "echo \"\"\n",
    "#Display operating system info\n",
    "lsb_release -a\n",
    "echo \"\"\n",
    "echo \"------------\"\n",
    "echo \"HOSTNAME: \"; hostname \n",
    "echo \"\"\n",
    "echo \"------------\"\n",
    "echo \"Computer Specs:\"\n",
    "echo \"\"\n",
    "lscpu\n",
    "echo \"\"\n",
    "echo \"------------\"\n",
    "echo \"\"\n",
    "echo \"Memory Specs\"\n",
    "echo \"\"\n",
    "free -mh"
   ]
  },
  {
   "cell_type": "markdown",
   "metadata": {},
   "source": [
    "### Set variables"
   ]
  },
  {
   "cell_type": "code",
   "execution_count": 7,
   "metadata": {},
   "outputs": [
    {
     "name": "stdout",
     "output_type": "stream",
     "text": [
      "env: data_dir=/home/samb/data/P_generosa\n"
     ]
    }
   ],
   "source": [
    "# Set data directories\n",
    "%env data_dir=/home/samb/data/P_generosa\n",
    "data_dir=\"/home/samb/data/P_generosa\""
   ]
  },
  {
   "cell_type": "code",
   "execution_count": 9,
   "metadata": {},
   "outputs": [
    {
     "name": "stdout",
     "output_type": "stream",
     "text": [
      "/home/samb/data/P_generosa\n"
     ]
    }
   ],
   "source": [
    "cd {data_dir}"
   ]
  },
  {
   "cell_type": "markdown",
   "metadata": {},
   "source": [
    "## Download gene GFF and checksums file"
   ]
  },
  {
   "cell_type": "code",
   "execution_count": 12,
   "metadata": {},
   "outputs": [
    {
     "name": "stdout",
     "output_type": "stream",
     "text": [
      "total 11M\n",
      "-rw-rw-r-- 1 samb samb  147 Feb 19 10:59 20210219_methylation_list.txt\n",
      "-rw-rw-r-- 1 samb samb  11M Oct 14  2019 Panopea-generosa-vv0.74.a4.gene.gff3\n",
      "-rw-rw-r-- 1 samb samb 6.0K Feb 19 20:33 checksums.md5\n"
     ]
    }
   ],
   "source": [
    "%%bash\n",
    "wget wget --quiet https://gannet.fish.washington.edu/Atumefaciens/20190928_Pgenerosa_v074.a4_gensas_annotation/checksums.md5\n",
    "\n",
    "wget --quiet https://gannet.fish.washington.edu/Atumefaciens/20190928_Pgenerosa_v074.a4_gensas_annotation/Panopea-generosa-vv0.74.a4.gene.gff3\n",
    "    \n",
    "ls -lh"
   ]
  },
  {
   "cell_type": "markdown",
   "metadata": {},
   "source": [
    "## Inspect files"
   ]
  },
  {
   "cell_type": "code",
   "execution_count": 17,
   "metadata": {},
   "outputs": [
    {
     "name": "stdout",
     "output_type": "stream",
     "text": [
      "\n",
      "-----------------------------------------------------------\n",
      "\n",
      "20210219_methylation_list.txt\n",
      "\n",
      "dnmt1\n",
      "dnmt3a\n",
      "dnmt3b\n",
      "dnmt3l\n",
      "mbd1\n",
      "\n",
      "\n",
      "-----------------------------------------------------------\n",
      "\n",
      "Panopea-generosa-vv0.74.a4.gene.gff3\n",
      "\n",
      "##gff-version 3\n",
      "##Generated using GenSAS, Monday 7th of October 2019 04:54:37 AM\n",
      "##Project Name : Pgenerosa_v074\n",
      "PGA_scaffold1__77_contigs__length_89643857\tGenSAS_5d9637f372b5d-publish\tgene\t2\t4719\t.\t+\t.\tID=PGEN_.00g000010;Name=PGEN_.00g000010;original_ID=21510-PGEN_.00g234140;Alias=21510-PGEN_.00g234140;original_name=21510-PGEN_.00g234140;Notes=sp|Q86IC9|CAMT1_DICDI [BLAST protein vs protein (blastp) 2.7.1],PF01596.12 [Pfam 1.6]\n",
      "PGA_scaffold1__77_contigs__length_89643857\tGenSAS_5d9637f372b5d-publish\tgene\t19808\t36739\t.\t-\t.\tID=PGEN_.00g000020;Name=PGEN_.00g000020;original_ID=21510-PGEN_.00g234150;Alias=21510-PGEN_.00g234150;original_name=21510-PGEN_.00g234150;Notes=sp|P04177|TY3H_RAT [BLAST protein vs protein (blastp) 2.7.1],sp|P04177|TY3H_RAT [DIAMOND Functional 0.9.22],IPR036951 [InterProScan 5.29-68.0],PF00351.16 [Pfam 1.6]\n",
      "\n",
      "\n",
      "-----------------------------------------------------------\n",
      "\n",
      "checksums.md5\n",
      "\n",
      "fb0ed4cf6af7adaa6579da118a887cb9  ./Panopea-generosa-vv0.74.a4.5d82b23f69545-braker.genes.gff3\n",
      "aed6dae0cc90216f8606077c1927e6ff  ./Panopea-generosa-vv0.74.a4.5d938f378020d-pasa_refine.CDS.fna\n",
      "4b3369aa246cb179ecf374f5c4f38966  ./Panopea-generosa-vv0.74.a4.5d3f05ff5e0bd-augustus.genes.fna\n",
      "f0afd89f974e81fcbadef8cae13423d9  ./Panopea-generosa-vv0.74.a4.5d82b316cd298-trnascan.tRNA.fna\n",
      "36fbf825ef85893cc6256f2dcc2b86c2  ./Panopea-generosa-vv0.74.a4.5d82b316cd298-trnascan.tRNA.gff3\n",
      "\n"
     ]
    }
   ],
   "source": [
    "%%bash\n",
    "line=\"-----------------------------------------------------------\"\n",
    "for file in *\n",
    "do\n",
    "    echo \"\"\n",
    "    echo \"${line}\"\n",
    "    echo \"\"\n",
    "    echo \"${file}\"\n",
    "    echo \"\"\n",
    "    head -n 5 \"${file}\"\n",
    "    echo \"\"\n",
    "done\n"
   ]
  },
  {
   "cell_type": "markdown",
   "metadata": {},
   "source": [
    "## Verify GFF checksum"
   ]
  },
  {
   "cell_type": "code",
   "execution_count": 16,
   "metadata": {},
   "outputs": [],
   "source": [
    "%%bash\n",
    "diff <(md5sum Panopea-generosa-vv0.74.a4.gene.gff3 | cut -d \" \" -f1) <(grep \"Panopea-generosa-vv0.74.a4.gene.gff3\" checksums.md5 | cut -d \" \" -f1)"
   ]
  },
  {
   "cell_type": "markdown",
   "metadata": {},
   "source": [
    "## List of _P.generosa_ matching gene IDs from methylation machinery list file"
   ]
  },
  {
   "cell_type": "code",
   "execution_count": 20,
   "metadata": {},
   "outputs": [
    {
     "name": "stdout",
     "output_type": "stream",
     "text": [
      "PGEN_.00g104080\n",
      "PGEN_.00g104170\n",
      "PGEN_.00g116950\n",
      "PGEN_.00g186870\n",
      "PGEN_.00g192900\n",
      "PGEN_.00g202750\n",
      "PGEN_.00g209890\n",
      "PGEN_.00g209900\n",
      "PGEN_.00g243700\n",
      "PGEN_.00g249090\n",
      "PGEN_.00g283000\n",
      "PGEN_.00g283010\n"
     ]
    }
   ],
   "source": [
    "%%bash\n",
    "while read -r line\n",
    "do\n",
    "    grep --ignore-case \"|${line}\" Panopea-generosa-vv0.74.a4.gene.gff3 | awk -F'[=;]' '{print $2}'\n",
    "done < 20210219_methylation_list.txt | sort -u"
   ]
  },
  {
   "cell_type": "markdown",
   "metadata": {},
   "source": [
    "## List of methylation machinery gene list with no match to _P.generosa_ GFF."
   ]
  },
  {
   "cell_type": "code",
   "execution_count": 21,
   "metadata": {},
   "outputs": [
    {
     "name": "stdout",
     "output_type": "stream",
     "text": [
      "dnmt1\n",
      "dnmt3a\n",
      "dnmt3b\n",
      "dnmt3l\n",
      "mbd1\n",
      "mbd2\n",
      "mbd3\n",
      "mbd4\n",
      "mbd5\n",
      "mbd6\n",
      "mecp2\n",
      "Baz2a\n",
      "Baz2b\n",
      "UHRF1\n",
      "UHRF2\n",
      "Kaiso\n",
      "zbtb4\n",
      "zbtb38b\n",
      "zfp57\n",
      "klf4\n",
      "egr1\n",
      "wt1\n",
      "ctcf\n",
      "tet1\n",
      "tet2\n",
      "tet3\n"
     ]
    }
   ],
   "source": [
    "%%bash\n",
    "while read -r line\n",
    "do\n",
    "    if grep --ignore-case --invert-match --quiet \"|${line}\" Panopea-generosa-vv0.74.a4.gene.gff3; then\n",
    "    echo \"${line}\"\n",
    "    fi\n",
    "done < 20210219_methylation_list.txt"
   ]
  },
  {
   "cell_type": "code",
   "execution_count": null,
   "metadata": {},
   "outputs": [],
   "source": []
  }
 ],
 "metadata": {
  "kernelspec": {
   "display_name": "Python 3",
   "language": "python",
   "name": "python3"
  },
  "language_info": {
   "codemirror_mode": {
    "name": "ipython",
    "version": 3
   },
   "file_extension": ".py",
   "mimetype": "text/x-python",
   "name": "python",
   "nbconvert_exporter": "python",
   "pygments_lexer": "ipython3",
   "version": "3.8.5"
  }
 },
 "nbformat": 4,
 "nbformat_minor": 4
}
