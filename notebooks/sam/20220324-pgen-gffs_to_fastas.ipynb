{
 "cells": [
  {
   "cell_type": "markdown",
   "metadata": {},
   "source": [
    "## Generate _P.generosa_ FastA files from CDS, gene, and mRNA GFFs\n",
    "\n",
    "See this [GitHub Issue](https://github.com/RobertsLab/resources/issues/1439)\n",
    "\n",
    "This notebook relies on [GFFutils](https://gffutils.readthedocs.io/en/v0.12.0/index.html) to be installed and available in your `$PATH`."
   ]
  },
  {
   "cell_type": "markdown",
   "metadata": {},
   "source": [
    "### List computer specs"
   ]
  },
  {
   "cell_type": "code",
   "execution_count": 1,
   "metadata": {
    "tags": []
   },
   "outputs": [
    {
     "name": "stdout",
     "output_type": "stream",
     "text": [
      "TODAY'S DATE\n",
      "Thu 24 Mar 2022 02:51:39 PM PDT\n",
      "------------\n",
      "\n",
      "Distributor ID:\tUbuntu\n",
      "Description:\tUbuntu 20.04.4 LTS\n",
      "Release:\t20.04\n",
      "Codename:\tfocal\n",
      "\n",
      "------------\n",
      "HOSTNAME: \n",
      "computer\n",
      "\n",
      "------------\n",
      "Computer Specs:\n",
      "\n",
      "Architecture:                    x86_64\n",
      "CPU op-mode(s):                  32-bit, 64-bit\n",
      "Byte Order:                      Little Endian\n",
      "Address sizes:                   45 bits physical, 48 bits virtual\n",
      "CPU(s):                          2\n",
      "On-line CPU(s) list:             0,1\n",
      "Thread(s) per core:              1\n",
      "Core(s) per socket:              1\n",
      "Socket(s):                       2\n",
      "NUMA node(s):                    1\n",
      "Vendor ID:                       GenuineIntel\n",
      "CPU family:                      6\n",
      "Model:                           165\n",
      "Model name:                      Intel(R) Core(TM) i9-10885H CPU @ 2.40GHz\n",
      "Stepping:                        2\n",
      "CPU MHz:                         2400.007\n",
      "BogoMIPS:                        4800.01\n",
      "Hypervisor vendor:               VMware\n",
      "Virtualization type:             full\n",
      "L1d cache:                       64 KiB\n",
      "L1i cache:                       64 KiB\n",
      "L2 cache:                        512 KiB\n",
      "L3 cache:                        32 MiB\n",
      "NUMA node0 CPU(s):               0,1\n",
      "Vulnerability Itlb multihit:     KVM: Mitigation: VMX unsupported\n",
      "Vulnerability L1tf:              Mitigation; PTE Inversion\n",
      "Vulnerability Mds:               Vulnerable: Clear CPU buffers attempted, no microcode; SMT Host state unknown\n",
      "Vulnerability Meltdown:          Mitigation; PTI\n",
      "Vulnerability Spec store bypass: Mitigation; Speculative Store Bypass disabled via prctl and seccomp\n",
      "Vulnerability Spectre v1:        Mitigation; usercopy/swapgs barriers and __user pointer sanitization\n",
      "Vulnerability Spectre v2:        Mitigation; Retpolines, IBPB conditional, IBRS_FW, STIBP disabled, RSB filling\n",
      "Vulnerability Srbds:             Not affected\n",
      "Vulnerability Tsx async abort:   Not affected\n",
      "Flags:                           fpu vme de pse tsc msr pae mce cx8 apic sep mtrr pge mca cmov pat pse36 clflush mmx fxsr sse sse2 ss syscall nx pdpe1gb rdtscp lm constant_tsc arch_perfmon nopl xtopology tsc_reliable nonstop_tsc cpuid tsc_known_freq pni pclmulqdq ssse3 fma cx16 pcid sse4_1 sse4_2 x2apic movbe popcnt tsc_deadline_timer aes xsave avx f16c rdrand hypervisor lahf_lm abm 3dnowprefetch invpcid_single pti ssbd ibrs ibpb stibp fsgsbase tsc_adjust bmi1 avx2 smep bmi2 invpcid rdseed adx smap clflushopt xsaveopt xsavec xgetbv1 xsaves arat flush_l1d arch_capabilities\n",
      "\n",
      "------------\n",
      "\n",
      "Memory Specs\n",
      "\n",
      "              total        used        free      shared  buff/cache   available\n",
      "Mem:           54Gi       3.1Gi        47Gi       129Mi       4.0Gi        50Gi\n",
      "Swap:         2.0Gi          0B       2.0Gi\n"
     ]
    },
    {
     "name": "stderr",
     "output_type": "stream",
     "text": [
      "No LSB modules are available.\n"
     ]
    }
   ],
   "source": [
    "%%bash\n",
    "echo \"TODAY'S DATE\"\n",
    "date\n",
    "echo \"------------\"\n",
    "echo \"\"\n",
    "lsb_release -a\n",
    "echo \"\"\n",
    "echo \"------------\"\n",
    "echo \"HOSTNAME: \"\n",
    "hostname\n",
    "echo \"\"\n",
    "echo \"------------\"\n",
    "echo \"Computer Specs:\"\n",
    "echo \"\"\n",
    "lscpu\n",
    "echo \"\"\n",
    "echo \"------------\"\n",
    "echo \"\"\n",
    "echo \"Memory Specs\"\n",
    "echo \"\"\n",
    "free -mh"
   ]
  },
  {
   "cell_type": "markdown",
   "metadata": {},
   "source": [
    "### Set variables\n",
    "- `%env` indicates a bash variable\n",
    "- without `%env` is Python variable"
   ]
  },
  {
   "cell_type": "code",
   "execution_count": 2,
   "metadata": {},
   "outputs": [
    {
     "name": "stdout",
     "output_type": "stream",
     "text": [
      "env: data_dir=/home/sam/data/P_generosa/genomes\n",
      "env: analysis_dir=/home/sam/analyses/20220324-pgen-gffs_to_fastas\n",
      "env: gff_url=https://gannet.fish.washington.edu/Atumefaciens/20191105_swoose_pgen_v074_renaming/\n",
      "env: gff_prefix=Panopea-generosa-v1.0.a4.\n",
      "env: genome_fasta=Panopea-generosa-v1.0.fa\n",
      "env: bedtools=/home/sam/programs/bedtools-2.29.1/bin/bedtools\n",
      "env: samtools=/home/sam/programs/samtools-1.12/samtools\n",
      "env: line_break=\"----------------------------------------------------------------------------------------------\"\n"
     ]
    }
   ],
   "source": [
    "# Set directories\n",
    "%env data_dir=/home/sam/data/P_generosa/genomes\n",
    "%env analysis_dir=/home/sam/analyses/20220324-pgen-gffs_to_fastas\n",
    "analysis_dir=\"/home/samb/analyses/20220324-pgen-gffs_to_fastas\"\n",
    "\n",
    "# Input GFFs\n",
    "%env gff_url=https://gannet.fish.washington.edu/Atumefaciens/20191105_swoose_pgen_v074_renaming/\n",
    "%env gff_prefix=Panopea-generosa-v1.0.a4.\n",
    "\n",
    "# Genome FastA\n",
    "%env genome_fasta=Panopea-generosa-v1.0.fa\n",
    "\n",
    "# Programs\n",
    "%env bedtools=/home/sam/programs/bedtools-2.29.1/bin/bedtools\n",
    "%env samtools=/home/sam/programs/samtools-1.12/samtools\n",
    "\n",
    "# Formatting\n",
    "%env line_break=\"----------------------------------------------------------------------------------------------\""
   ]
  },
  {
   "cell_type": "markdown",
   "metadata": {},
   "source": [
    "### Make data and analysis directories if they don't exist"
   ]
  },
  {
   "cell_type": "code",
   "execution_count": 3,
   "metadata": {},
   "outputs": [],
   "source": [
    "%%bash\n",
    "mkdir --parents \"${analysis_dir}\" \"${data_dir}\""
   ]
  },
  {
   "cell_type": "markdown",
   "metadata": {},
   "source": [
    "### Download FastA and GFFs\n",
    "\n",
    "If needing to download via `wget`, be sure to include `--no-check-certificate` option to avoid error."
   ]
  },
  {
   "cell_type": "code",
   "execution_count": 4,
   "metadata": {},
   "outputs": [
    {
     "name": "stdout",
     "output_type": "stream",
     "text": [
      "total 985M\n",
      "-rw-rw-r-- 1 sam sam  53M Nov  5  2019 Panopea-generosa-v1.0.a4.CDS.gff3\n",
      "-rw-rw-r-- 1 sam sam 9.5M Nov  5  2019 Panopea-generosa-v1.0.a4.gene.gff3\n",
      "-rw-rw-r-- 1 sam sam 9.1M Nov  5  2019 Panopea-generosa-v1.0.a4.mRNA.gff3\n",
      "-rw-rw-r-- 1 sam sam 914M Nov  5  2019 Panopea-generosa-v1.0.fa\n"
     ]
    }
   ],
   "source": [
    "%%bash\n",
    "\n",
    "cd \"${data_dir}\"\n",
    "\n",
    "# Array of GFF files.\n",
    "gff_array=(Panopea-generosa-v1.0.a4.CDS.gff3 Panopea-generosa-v1.0.a4.mRNA.gff3 Panopea-generosa-v1.0.a4.gene.gff3)\n",
    "\n",
    "# Download GFFs\n",
    "for gff in \"${gff_array[@]}\"\n",
    "do\n",
    "    wget \\\n",
    "    --no-check-certificate \\\n",
    "    --continue \\\n",
    "    --quiet \\\n",
    "    ${gff_url}${gff}\n",
    "done\n",
    "\n",
    "# Download FastA\n",
    "wget \\\n",
    "--no-check-certificate \\\n",
    "--continue \\\n",
    "--quiet \\\n",
    "${gff_url}${genome_fasta}\n",
    "\n",
    "ls -lh"
   ]
  },
  {
   "cell_type": "markdown",
   "metadata": {},
   "source": [
    "### Generate MD5 checksums for reference"
   ]
  },
  {
   "cell_type": "code",
   "execution_count": 5,
   "metadata": {},
   "outputs": [
    {
     "name": "stdout",
     "output_type": "stream",
     "text": [
      "b38127f901cd5f5f076bb85e40fab2f6  Panopea-generosa-v1.0.a4.CDS.gff3\n",
      "5bf1cfc3ae2b68d41c49d0f732ade723  Panopea-generosa-v1.0.a4.gene.gff3\n",
      "3514ad8a4fba72b00403ec604e9e32e4  Panopea-generosa-v1.0.a4.mRNA.gff3\n",
      "b7b64f0ce79499d79a865348658d2e49  Panopea-generosa-v1.0.fa\n"
     ]
    }
   ],
   "source": [
    "%%bash\n",
    "cd \"${data_dir}\"\n",
    "\n",
    "md5sum *"
   ]
  },
  {
   "cell_type": "markdown",
   "metadata": {},
   "source": [
    "### Examine GFF files"
   ]
  },
  {
   "cell_type": "code",
   "execution_count": 6,
   "metadata": {},
   "outputs": [
    {
     "name": "stdout",
     "output_type": "stream",
     "text": [
      "==> Panopea-generosa-v1.0.a4.CDS.gff3 <==\n",
      "##gff-version 3\n",
      "##Generated using GenSAS, Monday 7th of October 2019 04:54:37 AM\n",
      "##Project Name : Pgenerosa_v074\n",
      "Scaffold_01\tGenSAS_5d9637f372b5d-publish\tCDS\t2\t125\t.\t+\t0\tID=PGEN_.00g000010.m01.CDS01;Name=PGEN_.00g000010.m01.CDS01;Parent=PGEN_.00g000010.m01;original_ID=cds.21510-PGEN_.00g234140.m01;Alias=cds.21510-PGEN_.00g234140.m01\n",
      "Scaffold_01\tGenSAS_5d9637f372b5d-publish\tCDS\t1995\t2095\t.\t+\t1\tID=PGEN_.00g000010.m01.CDS02;Name=PGEN_.00g000010.m01.CDS02;Parent=PGEN_.00g000010.m01;original_ID=cds.21510-PGEN_.00g234140.m01;Alias=cds.21510-PGEN_.00g234140.m01\n",
      "Scaffold_01\tGenSAS_5d9637f372b5d-publish\tCDS\t3325\t3495\t.\t+\t0\tID=PGEN_.00g000010.m01.CDS03;Name=PGEN_.00g000010.m01.CDS03;Parent=PGEN_.00g000010.m01;original_ID=cds.21510-PGEN_.00g234140.m01;Alias=cds.21510-PGEN_.00g234140.m01\n",
      "Scaffold_01\tGenSAS_5d9637f372b5d-publish\tCDS\t4651\t4719\t.\t+\t0\tID=PGEN_.00g000010.m01.CDS04;Name=PGEN_.00g000010.m01.CDS04;Parent=PGEN_.00g000010.m01;original_ID=cds.21510-PGEN_.00g234140.m01;Alias=cds.21510-PGEN_.00g234140.m01\n",
      "Scaffold_01\tGenSAS_5d9637f372b5d-publish\tCDS\t19808\t19943\t.\t-\t2\tID=PGEN_.00g000020.m01.CDS01;Name=PGEN_.00g000020.m01.CDS01;Parent=PGEN_.00g000020.m01;original_ID=cds.21510-PGEN_.00g234150.m01;Alias=cds.21510-PGEN_.00g234150.m01\n",
      "Scaffold_01\tGenSAS_5d9637f372b5d-publish\tCDS\t21133\t21362\t.\t-\t0\tID=PGEN_.00g000020.m01.CDS02;Name=PGEN_.00g000020.m01.CDS02;Parent=PGEN_.00g000020.m01;original_ID=cds.21510-PGEN_.00g234150.m01;Alias=cds.21510-PGEN_.00g234150.m01\n",
      "Scaffold_01\tGenSAS_5d9637f372b5d-publish\tCDS\t22487\t22613\t.\t-\t2\tID=PGEN_.00g000020.m01.CDS03;Name=PGEN_.00g000020.m01.CDS03;Parent=PGEN_.00g000020.m01;original_ID=cds.21510-PGEN_.00g234150.m01;Alias=cds.21510-PGEN_.00g234150.m01\n",
      "\n",
      "==> Panopea-generosa-v1.0.a4.mRNA.gff3 <==\n",
      "##gff-version 3\n",
      "##Generated using GenSAS, Monday 7th of October 2019 04:54:37 AM\n",
      "##Project Name : Pgenerosa_v074\n",
      "Scaffold_01\tGenSAS_5d9637f372b5d-publish\tmRNA\t2\t4719\t.\t+\t.\tID=PGEN_.00g000010.m01;Name=PGEN_.00g000010.m01;Parent=PGEN_.00g000010;original_ID=21510-PGEN_.00g234140.m01;Alias=21510-PGEN_.00g234140.m01;original_name=21510-PGEN_.00g234140\n",
      "Scaffold_01\tGenSAS_5d9637f372b5d-publish\tmRNA\t19808\t36739\t.\t-\t.\tID=PGEN_.00g000020.m01;Name=PGEN_.00g000020.m01;Parent=PGEN_.00g000020;original_ID=21510-PGEN_.00g234150.m01;Alias=21510-PGEN_.00g234150.m01;original_name=21510-PGEN_.00g234150\n",
      "Scaffold_01\tGenSAS_5d9637f372b5d-publish\tmRNA\t49248\t52578\t.\t-\t.\tID=PGEN_.00g000030.m01;Name=PGEN_.00g000030.m01;Parent=PGEN_.00g000030;original_ID=21510-PGEN_.00g234160.m02;Alias=21510-PGEN_.00g234160.m02;original_name=21510-PGEN_.00g234160\n",
      "Scaffold_01\tGenSAS_5d9637f372b5d-publish\tmRNA\t49248\t52023\t.\t-\t.\tID=PGEN_.00g000030.m02;Name=PGEN_.00g000030.m02;Parent=PGEN_.00g000030;original_ID=21510-PGEN_.00g234160.m01;Alias=21510-PGEN_.00g234160.m01;original_name=21510-PGEN_.00g234160\n",
      "Scaffold_01\tGenSAS_5d9637f372b5d-publish\tmRNA\t55792\t67546\t.\t+\t.\tID=PGEN_.00g000040.m01;Name=PGEN_.00g000040.m01;Parent=PGEN_.00g000040;original_ID=21510-PGEN_.00g234170.m01;Alias=21510-PGEN_.00g234170.m01;original_name=21510-PGEN_.00g234170\n",
      "Scaffold_01\tGenSAS_5d9637f372b5d-publish\tmRNA\t67586\t69113\t.\t-\t.\tID=PGEN_.00g000050.m01;Name=PGEN_.00g000050.m01;Parent=PGEN_.00g000050;original_ID=21510-PGEN_.00g234180.m01;Alias=21510-PGEN_.00g234180.m01;original_name=21510-PGEN_.00g234180\n",
      "Scaffold_01\tGenSAS_5d9637f372b5d-publish\tmRNA\t70713\t81099\t.\t+\t.\tID=PGEN_.00g000060.m01;Name=PGEN_.00g000060.m01;Parent=PGEN_.00g000060;original_ID=21510-PGEN_.00g234190.m01;Alias=21510-PGEN_.00g234190.m01;original_name=21510-PGEN_.00g234190\n",
      "\n",
      "==> Panopea-generosa-v1.0.a4.gene.gff3 <==\n",
      "##gff-version 3\n",
      "##Generated using GenSAS, Monday 7th of October 2019 04:54:37 AM\n",
      "##Project Name : Pgenerosa_v074\n",
      "Scaffold_01\tGenSAS_5d9637f372b5d-publish\tgene\t2\t4719\t.\t+\t.\tID=PGEN_.00g000010;Name=PGEN_.00g000010;original_ID=21510-PGEN_.00g234140;Alias=21510-PGEN_.00g234140;original_name=21510-PGEN_.00g234140;Notes=sp|Q86IC9|CAMT1_DICDI [BLAST protein vs protein (blastp) 2.7.1],PF01596.12 [Pfam 1.6]\n",
      "Scaffold_01\tGenSAS_5d9637f372b5d-publish\tgene\t19808\t36739\t.\t-\t.\tID=PGEN_.00g000020;Name=PGEN_.00g000020;original_ID=21510-PGEN_.00g234150;Alias=21510-PGEN_.00g234150;original_name=21510-PGEN_.00g234150;Notes=sp|P04177|TY3H_RAT [BLAST protein vs protein (blastp) 2.7.1],sp|P04177|TY3H_RAT [DIAMOND Functional 0.9.22],IPR036951 [InterProScan 5.29-68.0],PF00351.16 [Pfam 1.6]\n",
      "Scaffold_01\tGenSAS_5d9637f372b5d-publish\tgene\t49248\t52578\t.\t-\t.\tID=PGEN_.00g000030;Name=PGEN_.00g000030;original_ID=21510-PGEN_.00g234160;Alias=21510-PGEN_.00g234160;original_name=21510-PGEN_.00g234160;Notes=PF08054.6 [Pfam 1.6]\n",
      "Scaffold_01\tGenSAS_5d9637f372b5d-publish\tgene\t55792\t67546\t.\t+\t.\tID=PGEN_.00g000040;Name=PGEN_.00g000040;original_ID=21510-PGEN_.00g234170;Alias=21510-PGEN_.00g234170;original_name=21510-PGEN_.00g234170\n",
      "Scaffold_01\tGenSAS_5d9637f372b5d-publish\tgene\t67586\t69113\t.\t-\t.\tID=PGEN_.00g000050;Name=PGEN_.00g000050;original_ID=21510-PGEN_.00g234180;Alias=21510-PGEN_.00g234180;original_name=21510-PGEN_.00g234180;Notes=sp|Q8L840|RQL4A_ARATH [BLAST protein vs protein (blastp) 2.7.1],sp|Q8L840|RQL4A_ARATH [DIAMOND Functional 0.9.22],PF00270.24 [Pfam 1.6]\n",
      "Scaffold_01\tGenSAS_5d9637f372b5d-publish\tgene\t70713\t81099\t.\t+\t.\tID=PGEN_.00g000060;Name=PGEN_.00g000060;original_ID=21510-PGEN_.00g234190;Alias=21510-PGEN_.00g234190;original_name=21510-PGEN_.00g234190;Notes=sp|Q61043|NIN_MOUSE [DIAMOND Functional 0.9.22],PF04443.7 [Pfam 1.6]\n",
      "Scaffold_01\tGenSAS_5d9637f372b5d-publish\tgene\t183686\t186073\t.\t+\t.\tID=PGEN_.00g000070;Name=PGEN_.00g000070;original_ID=21510-PGEN_.00g234200;Alias=21510-PGEN_.00g234200;original_name=21510-PGEN_.00g234200;Notes=PF15364.1 [Pfam 1.6]\n"
     ]
    }
   ],
   "source": [
    "%%bash\n",
    "cd \"${data_dir}\"\n",
    "\n",
    "# Array of GFF files\n",
    "gff_array=(Panopea-generosa-v1.0.a4.CDS.gff3 Panopea-generosa-v1.0.a4.mRNA.gff3 Panopea-generosa-v1.0.a4.gene.gff3)\n",
    "\n",
    "# Make a list so subsequent head command lists filenames in output\n",
    "gff_list=$(echo \"${gff_array[@]}\")\n",
    "\n",
    "head ${gff_list}"
   ]
  },
  {
   "cell_type": "markdown",
   "metadata": {},
   "source": [
    "### Create customized BED file from GFFs\n",
    "\n",
    "- Formatted to use the \"name\" column in the BED format for use with `bedtools` later...\n",
    "\n",
    "  - 4th column will be: `geneID|parentID` or `geneID`"
   ]
  },
  {
   "cell_type": "code",
   "execution_count": 7,
   "metadata": {},
   "outputs": [
    {
     "name": "stdout",
     "output_type": "stream",
     "text": [
      "-rw-rw-r-- 1 sam sam  18M Mar 24 14:55 /home/sam/analyses/20220324-pgen-gffs_to_fastas/CDS.bed.tmp\n",
      "-rw-rw-r-- 1 sam sam 1.6M Mar 24 14:55 /home/sam/analyses/20220324-pgen-gffs_to_fastas/gene.bed.tmp\n",
      "-rw-rw-r-- 1 sam sam 2.4M Mar 24 14:55 /home/sam/analyses/20220324-pgen-gffs_to_fastas/mRNA.bed.tmp\n"
     ]
    }
   ],
   "source": [
    "%%bash\n",
    "cd \"${data_dir}\"\n",
    "\n",
    "# Array of GFF files\n",
    "gff_array=(Panopea-generosa-v1.0.a4.CDS.gff3 Panopea-generosa-v1.0.a4.mRNA.gff3 Panopea-generosa-v1.0.a4.gene.gff3)\n",
    "\n",
    "\n",
    "for gff in \"${gff_array[@]}\"\n",
    "do\n",
    "\n",
    "    # Trim of filename prefix\n",
    "    trimmed_name=${gff/Panopea-generosa-v1.0.a4./}\n",
    "    \n",
    "    # Trim off filename suffix to get genome feature\n",
    "    feature=${trimmed_name/.gff3/}\n",
    "    \n",
    "    if [[ \"${feature}\" != \"gene\" ]]\n",
    "    then\n",
    "        # Run gtf_extractor on GFF files\n",
    "        gtf_extract \\\n",
    "        --gff \\\n",
    "        --fields=chr,start,end,ID,Parent \\\n",
    "        \"${gff}\" \\\n",
    "        | awk '{print $1 \"\\t\" $2 \"\\t\" $3 \"\\t\" $4 \"|\" $5}' \\\n",
    "        > ${analysis_dir}/\"${feature}\".bed.tmp\n",
    "    else\n",
    "        # Run gtf_extractor on GFF files\n",
    "        gtf_extract \\\n",
    "        --gff \\\n",
    "        --fields=chr,start,end,ID \\\n",
    "        \"${gff}\" \\\n",
    "        | awk '{print $1 \"\\t\" $2 \"\\t\" $3 \"\\t\" $4}' \\\n",
    "        > ${analysis_dir}/\"${feature}\".bed.tmp\n",
    "    fi\n",
    "done\n",
    "\n",
    "ls -lh ${analysis_dir}/*.bed.tmp"
   ]
  },
  {
   "cell_type": "markdown",
   "metadata": {},
   "source": [
    "### Examine temporary BED files"
   ]
  },
  {
   "cell_type": "code",
   "execution_count": 8,
   "metadata": {},
   "outputs": [
    {
     "name": "stdout",
     "output_type": "stream",
     "text": [
      "\n",
      "CDS.bed.tmp\n",
      "\n",
      "Scaffold_01\t2\t125\tPGEN_.00g000010.m01.CDS01|PGEN_.00g000010.m01\n",
      "Scaffold_01\t1995\t2095\tPGEN_.00g000010.m01.CDS02|PGEN_.00g000010.m01\n",
      "Scaffold_01\t3325\t3495\tPGEN_.00g000010.m01.CDS03|PGEN_.00g000010.m01\n",
      "Scaffold_01\t4651\t4719\tPGEN_.00g000010.m01.CDS04|PGEN_.00g000010.m01\n",
      "Scaffold_01\t19808\t19943\tPGEN_.00g000020.m01.CDS01|PGEN_.00g000020.m01\n",
      "Scaffold_01\t21133\t21362\tPGEN_.00g000020.m01.CDS02|PGEN_.00g000020.m01\n",
      "Scaffold_01\t22487\t22613\tPGEN_.00g000020.m01.CDS03|PGEN_.00g000020.m01\n",
      "Scaffold_01\t24824\t24959\tPGEN_.00g000020.m01.CDS04|PGEN_.00g000020.m01\n",
      "Scaffold_01\t25981\t26126\tPGEN_.00g000020.m01.CDS05|PGEN_.00g000020.m01\n",
      "Scaffold_01\t27969\t28019\tPGEN_.00g000020.m01.CDS06|PGEN_.00g000020.m01\n",
      "\n",
      "\"----------------------------------------------------------------------------------------------\"\n",
      "\n",
      "gene.bed.tmp\n",
      "\n",
      "Scaffold_01\t2\t4719\tPGEN_.00g000010\n",
      "Scaffold_01\t19808\t36739\tPGEN_.00g000020\n",
      "Scaffold_01\t49248\t52578\tPGEN_.00g000030\n",
      "Scaffold_01\t55792\t67546\tPGEN_.00g000040\n",
      "Scaffold_01\t67586\t69113\tPGEN_.00g000050\n",
      "Scaffold_01\t70713\t81099\tPGEN_.00g000060\n",
      "Scaffold_01\t183686\t186073\tPGEN_.00g000070\n",
      "Scaffold_01\t187328\t188353\tPGEN_.00g000080\n",
      "Scaffold_01\t189849\t190460\tPGEN_.00g000090\n",
      "Scaffold_01\t191069\t191410\tPGEN_.00g000100\n",
      "\n",
      "\"----------------------------------------------------------------------------------------------\"\n",
      "\n",
      "mRNA.bed.tmp\n",
      "\n",
      "Scaffold_01\t2\t4719\tPGEN_.00g000010.m01|PGEN_.00g000010\n",
      "Scaffold_01\t19808\t36739\tPGEN_.00g000020.m01|PGEN_.00g000020\n",
      "Scaffold_01\t49248\t52578\tPGEN_.00g000030.m01|PGEN_.00g000030\n",
      "Scaffold_01\t49248\t52023\tPGEN_.00g000030.m02|PGEN_.00g000030\n",
      "Scaffold_01\t55792\t67546\tPGEN_.00g000040.m01|PGEN_.00g000040\n",
      "Scaffold_01\t67586\t69113\tPGEN_.00g000050.m01|PGEN_.00g000050\n",
      "Scaffold_01\t70713\t81099\tPGEN_.00g000060.m01|PGEN_.00g000060\n",
      "Scaffold_01\t183686\t186073\tPGEN_.00g000070.m01|PGEN_.00g000070\n",
      "Scaffold_01\t187328\t188353\tPGEN_.00g000080.m01|PGEN_.00g000080\n",
      "Scaffold_01\t189849\t190460\tPGEN_.00g000090.m01|PGEN_.00g000090\n",
      "\n",
      "\"----------------------------------------------------------------------------------------------\"\n"
     ]
    }
   ],
   "source": [
    "%%bash\n",
    "cd \"${analysis_dir}\"\n",
    "\n",
    "for bed in *.bed.tmp\n",
    "do\n",
    "    echo \"\"\n",
    "    echo \"${bed}\"\n",
    "    echo \"\"\n",
    "    head \"${bed}\"\n",
    "    echo \"\"\n",
    "    echo \"${line_break}\"\n",
    "done"
   ]
  },
  {
   "cell_type": "markdown",
   "metadata": {},
   "source": [
    "### Create FastA files"
   ]
  },
  {
   "cell_type": "code",
   "execution_count": 9,
   "metadata": {},
   "outputs": [
    {
     "name": "stdout",
     "output_type": "stream",
     "text": [
      "\n",
      "Removing CDS.bed.tmp.\n",
      "\n",
      "Removing gene.bed.tmp.\n",
      "\n",
      "Removing mRNA.bed.tmp.\n",
      "-rw-rw-r-- 1 sam sam  64M Mar 24 14:55 Panopea-generosa-v1.0.a4.CDS.bed.fasta\n",
      "-rw-rw-r-- 1 sam sam 362M Mar 24 14:55 Panopea-generosa-v1.0.a4.gene.bed.fasta\n",
      "-rw-rw-r-- 1 sam sam 475M Mar 24 14:55 Panopea-generosa-v1.0.a4.mRNA.bed.fasta\n"
     ]
    },
    {
     "name": "stderr",
     "output_type": "stream",
     "text": [
      "index file /home/sam/data/P_generosa/genomes/Panopea-generosa-v1.0.fa.fai not found, generating...\n"
     ]
    }
   ],
   "source": [
    "%%bash\n",
    "cd \"${analysis_dir}\"\n",
    "\n",
    "for bed in *.bed.tmp\n",
    "do\n",
    "    # Get feature by removing strings after first period\n",
    "    feature=${bed%.*}\n",
    "    \n",
    "    # Used BEDTOOLS getfasta to make FastAs from GFFs\n",
    "    ${bedtools} getfasta \\\n",
    "    -name \\\n",
    "    -fi ${data_dir}/${genome_fasta} \\\n",
    "    -bed ${bed} \\\n",
    "    > ${gff_prefix}${feature}.fasta\n",
    "    \n",
    "    # Remove tmp BED file\n",
    "    echo \"\"\n",
    "    echo \"Removing ${bed}.\"\n",
    "    rm \"${bed}\"\n",
    "done\n",
    "\n",
    "ls -lh *.fasta"
   ]
  },
  {
   "cell_type": "markdown",
   "metadata": {},
   "source": [
    "### Create FastA index files"
   ]
  },
  {
   "cell_type": "code",
   "execution_count": 10,
   "metadata": {},
   "outputs": [
    {
     "name": "stdout",
     "output_type": "stream",
     "text": [
      "total 927M\n",
      "-rw-rw-r-- 1 sam sam  64M Mar 24 14:55 Panopea-generosa-v1.0.a4.CDS.bed.fasta\n",
      "-rw-rw-r-- 1 sam sam 362M Mar 24 14:55 Panopea-generosa-v1.0.a4.gene.bed.fasta\n",
      "-rw-rw-r-- 1 sam sam 475M Mar 24 14:55 Panopea-generosa-v1.0.a4.mRNA.bed.fasta\n",
      "-rw-rw-r-- 1 sam sam  22M Mar 24 14:55 Panopea-generosa-v1.0.a4.CDS.bed.fasta.fai\n",
      "-rw-rw-r-- 1 sam sam 2.4M Mar 24 14:55 Panopea-generosa-v1.0.a4.gene.bed.fasta.fai\n",
      "-rw-rw-r-- 1 sam sam 3.4M Mar 24 14:55 Panopea-generosa-v1.0.a4.mRNA.bed.fasta.fai\n"
     ]
    }
   ],
   "source": [
    "%%bash\n",
    "cd \"${analysis_dir}\"\n",
    "\n",
    "for fasta in *.fasta\n",
    "do\n",
    "   ${samtools} faidx \"${fasta}\"\n",
    "done\n",
    "\n",
    "ls -ltrh"
   ]
  },
  {
   "cell_type": "markdown",
   "metadata": {},
   "source": [
    "### Examine FastAs"
   ]
  },
  {
   "cell_type": "code",
   "execution_count": 11,
   "metadata": {},
   "outputs": [
    {
     "name": "stdout",
     "output_type": "stream",
     "text": [
      "Panopea-generosa-v1.0.a4.CDS.bed.fasta:>PGEN_.00g000010.m01.CDS01|PGEN_.00g000010.m01::Scaffold_01:2-125\n",
      "Panopea-generosa-v1.0.a4.CDS.bed.fasta:>PGEN_.00g000010.m01.CDS02|PGEN_.00g000010.m01::Scaffold_01:1995-2095\n",
      "Panopea-generosa-v1.0.a4.CDS.bed.fasta:>PGEN_.00g000010.m01.CDS03|PGEN_.00g000010.m01::Scaffold_01:3325-3495\n",
      "Panopea-generosa-v1.0.a4.CDS.bed.fasta:>PGEN_.00g000010.m01.CDS04|PGEN_.00g000010.m01::Scaffold_01:4651-4719\n",
      "Panopea-generosa-v1.0.a4.CDS.bed.fasta:>PGEN_.00g000020.m01.CDS01|PGEN_.00g000020.m01::Scaffold_01:19808-19943\n",
      "Panopea-generosa-v1.0.a4.CDS.bed.fasta:>PGEN_.00g000020.m01.CDS02|PGEN_.00g000020.m01::Scaffold_01:21133-21362\n",
      "Panopea-generosa-v1.0.a4.CDS.bed.fasta:>PGEN_.00g000020.m01.CDS03|PGEN_.00g000020.m01::Scaffold_01:22487-22613\n",
      "Panopea-generosa-v1.0.a4.CDS.bed.fasta:>PGEN_.00g000020.m01.CDS04|PGEN_.00g000020.m01::Scaffold_01:24824-24959\n",
      "Panopea-generosa-v1.0.a4.CDS.bed.fasta:>PGEN_.00g000020.m01.CDS05|PGEN_.00g000020.m01::Scaffold_01:25981-26126\n",
      "Panopea-generosa-v1.0.a4.CDS.bed.fasta:>PGEN_.00g000020.m01.CDS06|PGEN_.00g000020.m01::Scaffold_01:27969-28019\n",
      "Panopea-generosa-v1.0.a4.gene.bed.fasta:>PGEN_.00g000010::Scaffold_01:2-4719\n",
      "Panopea-generosa-v1.0.a4.gene.bed.fasta:>PGEN_.00g000020::Scaffold_01:19808-36739\n",
      "Panopea-generosa-v1.0.a4.gene.bed.fasta:>PGEN_.00g000030::Scaffold_01:49248-52578\n",
      "Panopea-generosa-v1.0.a4.gene.bed.fasta:>PGEN_.00g000040::Scaffold_01:55792-67546\n",
      "Panopea-generosa-v1.0.a4.gene.bed.fasta:>PGEN_.00g000050::Scaffold_01:67586-69113\n",
      "Panopea-generosa-v1.0.a4.gene.bed.fasta:>PGEN_.00g000060::Scaffold_01:70713-81099\n",
      "Panopea-generosa-v1.0.a4.gene.bed.fasta:>PGEN_.00g000070::Scaffold_01:183686-186073\n",
      "Panopea-generosa-v1.0.a4.gene.bed.fasta:>PGEN_.00g000080::Scaffold_01:187328-188353\n",
      "Panopea-generosa-v1.0.a4.gene.bed.fasta:>PGEN_.00g000090::Scaffold_01:189849-190460\n",
      "Panopea-generosa-v1.0.a4.gene.bed.fasta:>PGEN_.00g000100::Scaffold_01:191069-191410\n",
      "Panopea-generosa-v1.0.a4.mRNA.bed.fasta:>PGEN_.00g000010.m01|PGEN_.00g000010::Scaffold_01:2-4719\n",
      "Panopea-generosa-v1.0.a4.mRNA.bed.fasta:>PGEN_.00g000020.m01|PGEN_.00g000020::Scaffold_01:19808-36739\n",
      "Panopea-generosa-v1.0.a4.mRNA.bed.fasta:>PGEN_.00g000030.m01|PGEN_.00g000030::Scaffold_01:49248-52578\n",
      "Panopea-generosa-v1.0.a4.mRNA.bed.fasta:>PGEN_.00g000030.m02|PGEN_.00g000030::Scaffold_01:49248-52023\n",
      "Panopea-generosa-v1.0.a4.mRNA.bed.fasta:>PGEN_.00g000040.m01|PGEN_.00g000040::Scaffold_01:55792-67546\n",
      "Panopea-generosa-v1.0.a4.mRNA.bed.fasta:>PGEN_.00g000050.m01|PGEN_.00g000050::Scaffold_01:67586-69113\n",
      "Panopea-generosa-v1.0.a4.mRNA.bed.fasta:>PGEN_.00g000060.m01|PGEN_.00g000060::Scaffold_01:70713-81099\n",
      "Panopea-generosa-v1.0.a4.mRNA.bed.fasta:>PGEN_.00g000070.m01|PGEN_.00g000070::Scaffold_01:183686-186073\n",
      "Panopea-generosa-v1.0.a4.mRNA.bed.fasta:>PGEN_.00g000080.m01|PGEN_.00g000080::Scaffold_01:187328-188353\n",
      "Panopea-generosa-v1.0.a4.mRNA.bed.fasta:>PGEN_.00g000090.m01|PGEN_.00g000090::Scaffold_01:189849-190460\n"
     ]
    }
   ],
   "source": [
    "%%bash\n",
    "cd \"${analysis_dir}\"\n",
    "\n",
    "for fasta in *.fasta\n",
    "do\n",
    "    grep --with-filename \"^>\" \"${fasta}\" | head\n",
    "done"
   ]
  },
  {
   "cell_type": "markdown",
   "metadata": {},
   "source": [
    "### Generate MD5 checksums"
   ]
  },
  {
   "cell_type": "code",
   "execution_count": 12,
   "metadata": {},
   "outputs": [
    {
     "name": "stdout",
     "output_type": "stream",
     "text": [
      "267bada15ec1d289213c7bbaf9cd8674  Panopea-generosa-v1.0.a4.CDS.bed.fasta\n",
      "12d3c59c804b194d63f3bbab75fa617a  Panopea-generosa-v1.0.a4.CDS.bed.fasta.fai\n",
      "7c956b1c27d14bd91959763403f81265  Panopea-generosa-v1.0.a4.gene.bed.fasta\n",
      "588d18f5fe0e4f2259a25586349fc244  Panopea-generosa-v1.0.a4.gene.bed.fasta.fai\n",
      "1823be75694cf70f0ea6f1abc072ba16  Panopea-generosa-v1.0.a4.mRNA.bed.fasta\n",
      "e120b4c1d3bb0917868e72cd22507bbc  Panopea-generosa-v1.0.a4.mRNA.bed.fasta.fai\n"
     ]
    }
   ],
   "source": [
    "%%bash\n",
    "cd \"${analysis_dir}\"\n",
    "\n",
    "md5sum * | tee --append checksums.md5"
   ]
  },
  {
   "cell_type": "markdown",
   "metadata": {
    "tags": []
   },
   "source": [
    "### Remove unneeded data files"
   ]
  },
  {
   "cell_type": "code",
   "execution_count": 13,
   "metadata": {
    "tags": []
   },
   "outputs": [
    {
     "name": "stdout",
     "output_type": "stream",
     "text": [
      "Removing Panopea-generosa-v1.0.fa.\n",
      "\n",
      "Removing Panopea-generosa-v1.0.a4.CDS.gff3.\n",
      "\n",
      "Removing Panopea-generosa-v1.0.a4.mRNA.gff3.\n",
      "\n",
      "Removing Panopea-generosa-v1.0.a4.gene.gff3.\n",
      "total 4.0K\n",
      "-rw-rw-r-- 1 sam sam 658 Mar 24 14:55 Panopea-generosa-v1.0.fa.fai\n"
     ]
    }
   ],
   "source": [
    "%%bash\n",
    "cd \"${data_dir}\"\n",
    "\n",
    "# Array of GFF files\n",
    "gff_array=(Panopea-generosa-v1.0.a4.CDS.gff3 Panopea-generosa-v1.0.a4.mRNA.gff3 Panopea-generosa-v1.0.a4.gene.gff3)\n",
    "\n",
    "# Remove genome FastA\n",
    "echo \"Removing ${genome_fasta}.\"\n",
    "rm \"${genome_fasta}\"\n",
    "\n",
    "# Remove GFFs\n",
    "for gff in \"${gff_array[@]}\"\n",
    "do\n",
    "  echo \"\"\n",
    "  echo \"Removing ${gff}.\"\n",
    "  rm \"${gff}\"\n",
    "done\n",
    "\n",
    "ls -lh"
   ]
  },
  {
   "cell_type": "markdown",
   "metadata": {},
   "source": [
    "### Program options"
   ]
  },
  {
   "cell_type": "code",
   "execution_count": 14,
   "metadata": {},
   "outputs": [
    {
     "name": "stdout",
     "output_type": "stream",
     "text": [
      "usage: gtf_extract [-h] [-v] [-f FEATURE_TYPE] [--fields FIELD_LIST]\n",
      "                   [-o OUTFILE] [--gff] [-k]\n",
      "                   GTF_FILE\n",
      "\n",
      "Extract selected data items from a GTF file and output in tab-delimited\n",
      "format. The program can also operate on GFF files provided the --gff option is\n",
      "specified.\n",
      "\n",
      "positional arguments:\n",
      "  GTF_FILE              input GTF file to extract data items from\n",
      "\n",
      "optional arguments:\n",
      "  -h, --help            show this help message and exit\n",
      "  -v, --version         show program's version number and exit\n",
      "  -f FEATURE_TYPE, --feature FEATURE_TYPE\n",
      "                        only extract data for lines where feature is\n",
      "                        FEATURE_TYPE\n",
      "  --fields FIELD_LIST   comma-separated list of fields to output in tab-\n",
      "                        delimited format for each line in the GTF, e.g.\n",
      "                        'chrom,start,end'. Fields can either be a GTF field\n",
      "                        name (i.e. 'chrom', 'source', 'feature', 'start',\n",
      "                        'end', 'score', 'strand' and 'frame') or the name of\n",
      "                        an attribute (e.g. 'gene_name', 'gene_id' etc). Data\n",
      "                        items are output in the order they appear in\n",
      "                        FIELD_LIST. If a field doesn't exist for a line then\n",
      "                        '.' will be output as the value.\n",
      "  -o OUTFILE            write output to OUTFILE (default is to write to\n",
      "                        stdout)\n",
      "  --gff                 specify that the input file is GFF rather than GTF\n",
      "                        format\n",
      "  -k, --keep-headers    copy headers from input file to output\n",
      "\n",
      "\"----------------------------------------------------------------------------------------------\"\n",
      "\"----------------------------------------------------------------------------------------------\"\n",
      "\n",
      "Usage: samtools faidx <file.fa|file.fa.gz> [<reg> [...]]\n",
      "Option: \n",
      " -o, --output FILE        Write FASTA to file.\n",
      " -n, --length INT         Length of FASTA sequence line. [60]\n",
      " -c, --continue           Continue after trying to retrieve missing region.\n",
      " -r, --region-file FILE   File of regions.  Format is chr:from-to. One per line.\n",
      " -i, --reverse-complement Reverse complement sequences.\n",
      "     --mark-strand TYPE   Add strand indicator to sequence name\n",
      "                          TYPE = rc   for /rc on negative strand (default)\n",
      "                                 no   for no strand indicator\n",
      "                                 sign for (+) / (-)\n",
      "                                 custom,<pos>,<neg> for custom indicator\n",
      "     --fai-idx      FILE  name of the index file (default file.fa.fai).\n",
      "     --gzi-idx      FILE  name of compressed file index (default file.fa.gz.gzi).\n",
      " -f, --fastq              File and index in FASTQ format.\n",
      " -h, --help               This message.\n",
      "\n",
      "\"----------------------------------------------------------------------------------------------\"\n",
      "\"----------------------------------------------------------------------------------------------\"\n",
      "\n"
     ]
    },
    {
     "name": "stderr",
     "output_type": "stream",
     "text": [
      "\n",
      "Tool:    bedtools getfasta (aka fastaFromBed)\n",
      "Version: v2.29.1\n",
      "Summary: Extract DNA sequences from a fasta file based on feature coordinates.\n",
      "\n",
      "Usage:   bedtools getfasta [OPTIONS] -fi <fasta> -bed <bed/gff/vcf>\n",
      "\n",
      "Options: \n",
      "\t-fi\t\tInput FASTA file\n",
      "\t-fo\t\tOutput file (opt., default is STDOUT\n",
      "\t-bed\t\tBED/GFF/VCF file of ranges to extract from -fi\n",
      "\t-name\t\tUse the name field and coordinates for the FASTA header\n",
      "\t-name+\t\t(deprecated) Use the name field and coordinates for the FASTA header\n",
      "\t-nameOnly\tUse the name field for the FASTA header\n",
      "\t-split\t\tGiven BED12 fmt., extract and concatenate the sequences\n",
      "\t\t\tfrom the BED \"blocks\" (e.g., exons)\n",
      "\t-tab\t\tWrite output in TAB delimited format.\n",
      "\t\t\t- Default is FASTA format.\n",
      "\t-s\t\tForce strandedness. If the feature occupies the antisense,\n",
      "\t\t\tstrand, the sequence will be reverse complemented.\n",
      "\t\t\t- By default, strand information is ignored.\n",
      "\t-fullHeader\tUse full fasta header.\n",
      "\t\t\t- By default, only the word before the first space or tab \n",
      "\t\t\tis used.\n",
      "\n"
     ]
    },
    {
     "ename": "CalledProcessError",
     "evalue": "Command 'b'\\ngtf_extract -h\\n\\necho \"\"\\necho \"${line_break}\"\\necho \"${line_break}\"\\necho \"\"\\n\\n${samtools} faidx -h\\n\\necho \"\"\\necho \"${line_break}\"\\necho \"${line_break}\"\\necho \"\"\\n\\n${bedtools} getfasta -h\\n'' returned non-zero exit status 1.",
     "output_type": "error",
     "traceback": [
      "\u001b[0;31m---------------------------------------------------------------------------\u001b[0m",
      "\u001b[0;31mCalledProcessError\u001b[0m                        Traceback (most recent call last)",
      "\u001b[0;32m/tmp/ipykernel_93682/3531806193.py\u001b[0m in \u001b[0;36m<module>\u001b[0;34m\u001b[0m\n\u001b[0;32m----> 1\u001b[0;31m \u001b[0mget_ipython\u001b[0m\u001b[0;34m(\u001b[0m\u001b[0;34m)\u001b[0m\u001b[0;34m.\u001b[0m\u001b[0mrun_cell_magic\u001b[0m\u001b[0;34m(\u001b[0m\u001b[0;34m'bash'\u001b[0m\u001b[0;34m,\u001b[0m \u001b[0;34m''\u001b[0m\u001b[0;34m,\u001b[0m \u001b[0;34m'\\ngtf_extract -h\\n\\necho \"\"\\necho \"${line_break}\"\\necho \"${line_break}\"\\necho \"\"\\n\\n${samtools} faidx -h\\n\\necho \"\"\\necho \"${line_break}\"\\necho \"${line_break}\"\\necho \"\"\\n\\n${bedtools} getfasta -h\\n'\u001b[0m\u001b[0;34m)\u001b[0m\u001b[0;34m\u001b[0m\u001b[0;34m\u001b[0m\u001b[0m\n\u001b[0m",
      "\u001b[0;32m~/programs/miniconda3/envs/gffutils_env/lib/python3.9/site-packages/IPython/core/interactiveshell.py\u001b[0m in \u001b[0;36mrun_cell_magic\u001b[0;34m(self, magic_name, line, cell)\u001b[0m\n\u001b[1;32m   2417\u001b[0m             \u001b[0;32mwith\u001b[0m \u001b[0mself\u001b[0m\u001b[0;34m.\u001b[0m\u001b[0mbuiltin_trap\u001b[0m\u001b[0;34m:\u001b[0m\u001b[0;34m\u001b[0m\u001b[0;34m\u001b[0m\u001b[0m\n\u001b[1;32m   2418\u001b[0m                 \u001b[0margs\u001b[0m \u001b[0;34m=\u001b[0m \u001b[0;34m(\u001b[0m\u001b[0mmagic_arg_s\u001b[0m\u001b[0;34m,\u001b[0m \u001b[0mcell\u001b[0m\u001b[0;34m)\u001b[0m\u001b[0;34m\u001b[0m\u001b[0;34m\u001b[0m\u001b[0m\n\u001b[0;32m-> 2419\u001b[0;31m                 \u001b[0mresult\u001b[0m \u001b[0;34m=\u001b[0m \u001b[0mfn\u001b[0m\u001b[0;34m(\u001b[0m\u001b[0;34m*\u001b[0m\u001b[0margs\u001b[0m\u001b[0;34m,\u001b[0m \u001b[0;34m**\u001b[0m\u001b[0mkwargs\u001b[0m\u001b[0;34m)\u001b[0m\u001b[0;34m\u001b[0m\u001b[0;34m\u001b[0m\u001b[0m\n\u001b[0m\u001b[1;32m   2420\u001b[0m             \u001b[0;32mreturn\u001b[0m \u001b[0mresult\u001b[0m\u001b[0;34m\u001b[0m\u001b[0;34m\u001b[0m\u001b[0m\n\u001b[1;32m   2421\u001b[0m \u001b[0;34m\u001b[0m\u001b[0m\n",
      "\u001b[0;32m~/programs/miniconda3/envs/gffutils_env/lib/python3.9/site-packages/IPython/core/magics/script.py\u001b[0m in \u001b[0;36mnamed_script_magic\u001b[0;34m(line, cell)\u001b[0m\n\u001b[1;32m    140\u001b[0m             \u001b[0;32melse\u001b[0m\u001b[0;34m:\u001b[0m\u001b[0;34m\u001b[0m\u001b[0;34m\u001b[0m\u001b[0m\n\u001b[1;32m    141\u001b[0m                 \u001b[0mline\u001b[0m \u001b[0;34m=\u001b[0m \u001b[0mscript\u001b[0m\u001b[0;34m\u001b[0m\u001b[0;34m\u001b[0m\u001b[0m\n\u001b[0;32m--> 142\u001b[0;31m             \u001b[0;32mreturn\u001b[0m \u001b[0mself\u001b[0m\u001b[0;34m.\u001b[0m\u001b[0mshebang\u001b[0m\u001b[0;34m(\u001b[0m\u001b[0mline\u001b[0m\u001b[0;34m,\u001b[0m \u001b[0mcell\u001b[0m\u001b[0;34m)\u001b[0m\u001b[0;34m\u001b[0m\u001b[0;34m\u001b[0m\u001b[0m\n\u001b[0m\u001b[1;32m    143\u001b[0m \u001b[0;34m\u001b[0m\u001b[0m\n\u001b[1;32m    144\u001b[0m         \u001b[0;31m# write a basic docstring:\u001b[0m\u001b[0;34m\u001b[0m\u001b[0;34m\u001b[0m\u001b[0m\n",
      "\u001b[0;32m~/programs/miniconda3/envs/gffutils_env/lib/python3.9/site-packages/decorator.py\u001b[0m in \u001b[0;36mfun\u001b[0;34m(*args, **kw)\u001b[0m\n\u001b[1;32m    230\u001b[0m             \u001b[0;32mif\u001b[0m \u001b[0;32mnot\u001b[0m \u001b[0mkwsyntax\u001b[0m\u001b[0;34m:\u001b[0m\u001b[0;34m\u001b[0m\u001b[0;34m\u001b[0m\u001b[0m\n\u001b[1;32m    231\u001b[0m                 \u001b[0margs\u001b[0m\u001b[0;34m,\u001b[0m \u001b[0mkw\u001b[0m \u001b[0;34m=\u001b[0m \u001b[0mfix\u001b[0m\u001b[0;34m(\u001b[0m\u001b[0margs\u001b[0m\u001b[0;34m,\u001b[0m \u001b[0mkw\u001b[0m\u001b[0;34m,\u001b[0m \u001b[0msig\u001b[0m\u001b[0;34m)\u001b[0m\u001b[0;34m\u001b[0m\u001b[0;34m\u001b[0m\u001b[0m\n\u001b[0;32m--> 232\u001b[0;31m             \u001b[0;32mreturn\u001b[0m \u001b[0mcaller\u001b[0m\u001b[0;34m(\u001b[0m\u001b[0mfunc\u001b[0m\u001b[0;34m,\u001b[0m \u001b[0;34m*\u001b[0m\u001b[0;34m(\u001b[0m\u001b[0mextras\u001b[0m \u001b[0;34m+\u001b[0m \u001b[0margs\u001b[0m\u001b[0;34m)\u001b[0m\u001b[0;34m,\u001b[0m \u001b[0;34m**\u001b[0m\u001b[0mkw\u001b[0m\u001b[0;34m)\u001b[0m\u001b[0;34m\u001b[0m\u001b[0;34m\u001b[0m\u001b[0m\n\u001b[0m\u001b[1;32m    233\u001b[0m     \u001b[0mfun\u001b[0m\u001b[0;34m.\u001b[0m\u001b[0m__name__\u001b[0m \u001b[0;34m=\u001b[0m \u001b[0mfunc\u001b[0m\u001b[0;34m.\u001b[0m\u001b[0m__name__\u001b[0m\u001b[0;34m\u001b[0m\u001b[0;34m\u001b[0m\u001b[0m\n\u001b[1;32m    234\u001b[0m     \u001b[0mfun\u001b[0m\u001b[0;34m.\u001b[0m\u001b[0m__doc__\u001b[0m \u001b[0;34m=\u001b[0m \u001b[0mfunc\u001b[0m\u001b[0;34m.\u001b[0m\u001b[0m__doc__\u001b[0m\u001b[0;34m\u001b[0m\u001b[0;34m\u001b[0m\u001b[0m\n",
      "\u001b[0;32m~/programs/miniconda3/envs/gffutils_env/lib/python3.9/site-packages/IPython/core/magic.py\u001b[0m in \u001b[0;36m<lambda>\u001b[0;34m(f, *a, **k)\u001b[0m\n\u001b[1;32m    185\u001b[0m     \u001b[0;31m# but it's overkill for just that one bit of state.\u001b[0m\u001b[0;34m\u001b[0m\u001b[0;34m\u001b[0m\u001b[0m\n\u001b[1;32m    186\u001b[0m     \u001b[0;32mdef\u001b[0m \u001b[0mmagic_deco\u001b[0m\u001b[0;34m(\u001b[0m\u001b[0marg\u001b[0m\u001b[0;34m)\u001b[0m\u001b[0;34m:\u001b[0m\u001b[0;34m\u001b[0m\u001b[0;34m\u001b[0m\u001b[0m\n\u001b[0;32m--> 187\u001b[0;31m         \u001b[0mcall\u001b[0m \u001b[0;34m=\u001b[0m \u001b[0;32mlambda\u001b[0m \u001b[0mf\u001b[0m\u001b[0;34m,\u001b[0m \u001b[0;34m*\u001b[0m\u001b[0ma\u001b[0m\u001b[0;34m,\u001b[0m \u001b[0;34m**\u001b[0m\u001b[0mk\u001b[0m\u001b[0;34m:\u001b[0m \u001b[0mf\u001b[0m\u001b[0;34m(\u001b[0m\u001b[0;34m*\u001b[0m\u001b[0ma\u001b[0m\u001b[0;34m,\u001b[0m \u001b[0;34m**\u001b[0m\u001b[0mk\u001b[0m\u001b[0;34m)\u001b[0m\u001b[0;34m\u001b[0m\u001b[0;34m\u001b[0m\u001b[0m\n\u001b[0m\u001b[1;32m    188\u001b[0m \u001b[0;34m\u001b[0m\u001b[0m\n\u001b[1;32m    189\u001b[0m         \u001b[0;32mif\u001b[0m \u001b[0mcallable\u001b[0m\u001b[0;34m(\u001b[0m\u001b[0marg\u001b[0m\u001b[0;34m)\u001b[0m\u001b[0;34m:\u001b[0m\u001b[0;34m\u001b[0m\u001b[0;34m\u001b[0m\u001b[0m\n",
      "\u001b[0;32m~/programs/miniconda3/envs/gffutils_env/lib/python3.9/site-packages/IPython/core/magics/script.py\u001b[0m in \u001b[0;36mshebang\u001b[0;34m(self, line, cell)\u001b[0m\n\u001b[1;32m    243\u001b[0m             \u001b[0msys\u001b[0m\u001b[0;34m.\u001b[0m\u001b[0mstderr\u001b[0m\u001b[0;34m.\u001b[0m\u001b[0mflush\u001b[0m\u001b[0;34m(\u001b[0m\u001b[0;34m)\u001b[0m\u001b[0;34m\u001b[0m\u001b[0;34m\u001b[0m\u001b[0m\n\u001b[1;32m    244\u001b[0m         \u001b[0;32mif\u001b[0m \u001b[0margs\u001b[0m\u001b[0;34m.\u001b[0m\u001b[0mraise_error\u001b[0m \u001b[0;32mand\u001b[0m \u001b[0mp\u001b[0m\u001b[0;34m.\u001b[0m\u001b[0mreturncode\u001b[0m\u001b[0;34m!=\u001b[0m\u001b[0;36m0\u001b[0m\u001b[0;34m:\u001b[0m\u001b[0;34m\u001b[0m\u001b[0;34m\u001b[0m\u001b[0m\n\u001b[0;32m--> 245\u001b[0;31m             \u001b[0;32mraise\u001b[0m \u001b[0mCalledProcessError\u001b[0m\u001b[0;34m(\u001b[0m\u001b[0mp\u001b[0m\u001b[0;34m.\u001b[0m\u001b[0mreturncode\u001b[0m\u001b[0;34m,\u001b[0m \u001b[0mcell\u001b[0m\u001b[0;34m,\u001b[0m \u001b[0moutput\u001b[0m\u001b[0;34m=\u001b[0m\u001b[0mout\u001b[0m\u001b[0;34m,\u001b[0m \u001b[0mstderr\u001b[0m\u001b[0;34m=\u001b[0m\u001b[0merr\u001b[0m\u001b[0;34m)\u001b[0m\u001b[0;34m\u001b[0m\u001b[0;34m\u001b[0m\u001b[0m\n\u001b[0m\u001b[1;32m    246\u001b[0m \u001b[0;34m\u001b[0m\u001b[0m\n\u001b[1;32m    247\u001b[0m     \u001b[0;32mdef\u001b[0m \u001b[0m_run_script\u001b[0m\u001b[0;34m(\u001b[0m\u001b[0mself\u001b[0m\u001b[0;34m,\u001b[0m \u001b[0mp\u001b[0m\u001b[0;34m,\u001b[0m \u001b[0mcell\u001b[0m\u001b[0;34m,\u001b[0m \u001b[0mto_close\u001b[0m\u001b[0;34m)\u001b[0m\u001b[0;34m:\u001b[0m\u001b[0;34m\u001b[0m\u001b[0;34m\u001b[0m\u001b[0m\n",
      "\u001b[0;31mCalledProcessError\u001b[0m: Command 'b'\\ngtf_extract -h\\n\\necho \"\"\\necho \"${line_break}\"\\necho \"${line_break}\"\\necho \"\"\\n\\n${samtools} faidx -h\\n\\necho \"\"\\necho \"${line_break}\"\\necho \"${line_break}\"\\necho \"\"\\n\\n${bedtools} getfasta -h\\n'' returned non-zero exit status 1."
     ]
    }
   ],
   "source": [
    "%%bash\n",
    "\n",
    "gtf_extract -h\n",
    "\n",
    "echo \"\"\n",
    "echo \"${line_break}\"\n",
    "echo \"${line_break}\"\n",
    "echo \"\"\n",
    "\n",
    "${samtools} faidx -h\n",
    "\n",
    "echo \"\"\n",
    "echo \"${line_break}\"\n",
    "echo \"${line_break}\"\n",
    "echo \"\"\n",
    "\n",
    "${bedtools} getfasta -h"
   ]
  },
  {
   "cell_type": "code",
   "execution_count": null,
   "metadata": {},
   "outputs": [],
   "source": []
  }
 ],
 "metadata": {
  "kernelspec": {
   "display_name": "Python 3 (ipykernel)",
   "language": "python",
   "name": "python3"
  },
  "language_info": {
   "codemirror_mode": {
    "name": "ipython",
    "version": 3
   },
   "file_extension": ".py",
   "mimetype": "text/x-python",
   "name": "python",
   "nbconvert_exporter": "python",
   "pygments_lexer": "ipython3",
   "version": "3.9.7"
  }
 },
 "nbformat": 4,
 "nbformat_minor": 4
}
