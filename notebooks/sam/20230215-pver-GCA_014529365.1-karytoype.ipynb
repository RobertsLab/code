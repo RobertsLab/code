{
 "cells": [
  {
   "cell_type": "markdown",
   "id": "2949abe4-dfa6-4c4a-a395-a3a1db92b5e7",
   "metadata": {},
   "source": [
    "## Create _P.verrucosa_ \"karytoype\" file of the following format:\n",
    "\n",
    "`name\\tlength`\n",
    "\n",
    "### Per [this GitHub Issue](https://github.com/RobertsLab/resources/issues/1580)."
   ]
  },
  {
   "cell_type": "markdown",
   "id": "ee0ebae6-d54c-4d18-88bd-3d3456a8b1e6",
   "metadata": {},
   "source": [
    "### List computer specs"
   ]
  },
  {
   "cell_type": "code",
   "execution_count": 2,
   "id": "9f60016c-d6b6-4b6d-86d3-5ee68b55464c",
   "metadata": {},
   "outputs": [
    {
     "name": "stdout",
     "output_type": "stream",
     "text": [
      "TODAY'S DATE:\n",
      "Wed Feb 15 11:37:24 AM PST 2023\n",
      "------------\n",
      "\n",
      "Distributor ID:\tUbuntu\n",
      "Description:\tUbuntu 22.04.1 LTS\n",
      "Release:\t22.04\n",
      "Codename:\tjammy\n",
      "\n",
      "------------\n",
      "HOSTNAME: \n",
      "computer\n",
      "\n",
      "------------\n",
      "Computer Specs:\n",
      "\n",
      "Architecture:                    x86_64\n",
      "CPU op-mode(s):                  32-bit, 64-bit\n",
      "Address sizes:                   45 bits physical, 48 bits virtual\n",
      "Byte Order:                      Little Endian\n",
      "CPU(s):                          4\n",
      "On-line CPU(s) list:             0-3\n",
      "Vendor ID:                       GenuineIntel\n",
      "Model name:                      Intel(R) Core(TM) i9-10885H CPU @ 2.40GHz\n",
      "CPU family:                      6\n",
      "Model:                           165\n",
      "Thread(s) per core:              1\n",
      "Core(s) per socket:              1\n",
      "Socket(s):                       4\n",
      "Stepping:                        2\n",
      "BogoMIPS:                        4800.01\n",
      "Flags:                           fpu vme de pse tsc msr pae mce cx8 apic sep mtrr pge mca cmov pat pse36 clflush mmx fxsr sse sse2 ss syscall nx pdpe1gb rdtscp lm constant_tsc arch_perfmon nopl xtopology tsc_reliable nonstop_tsc cpuid tsc_known_freq pni pclmulqdq ssse3 fma cx16 pcid sse4_1 sse4_2 x2apic movbe popcnt tsc_deadline_timer aes xsave avx f16c rdrand hypervisor lahf_lm abm 3dnowprefetch invpcid_single pti ssbd ibrs ibpb stibp fsgsbase tsc_adjust bmi1 avx2 smep bmi2 invpcid rdseed adx smap clflushopt xsaveopt xsavec xgetbv1 xsaves arat flush_l1d arch_capabilities\n",
      "Hypervisor vendor:               VMware\n",
      "Virtualization type:             full\n",
      "L1d cache:                       128 KiB (4 instances)\n",
      "L1i cache:                       128 KiB (4 instances)\n",
      "L2 cache:                        1 MiB (4 instances)\n",
      "L3 cache:                        64 MiB (4 instances)\n",
      "NUMA node(s):                    1\n",
      "NUMA node0 CPU(s):               0-3\n",
      "Vulnerability Itlb multihit:     KVM: Mitigation: VMX unsupported\n",
      "Vulnerability L1tf:              Mitigation; PTE Inversion\n",
      "Vulnerability Mds:               Vulnerable: Clear CPU buffers attempted, no microcode; SMT Host state unknown\n",
      "Vulnerability Meltdown:          Mitigation; PTI\n",
      "Vulnerability Mmio stale data:   Vulnerable: Clear CPU buffers attempted, no microcode; SMT Host state unknown\n",
      "Vulnerability Retbleed:          Mitigation; IBRS\n",
      "Vulnerability Spec store bypass: Mitigation; Speculative Store Bypass disabled via prctl and seccomp\n",
      "Vulnerability Spectre v1:        Mitigation; usercopy/swapgs barriers and __user pointer sanitization\n",
      "Vulnerability Spectre v2:        Mitigation; IBRS, IBPB conditional, RSB filling, PBRSB-eIBRS Not affected\n",
      "Vulnerability Srbds:             Unknown: Dependent on hypervisor status\n",
      "Vulnerability Tsx async abort:   Not affected\n",
      "\n",
      "------------\n",
      "\n",
      "Memory Specs\n",
      "\n",
      "               total        used        free      shared  buff/cache   available\n",
      "Mem:            54Gi       3.3Gi        46Gi       175Mi       4.7Gi        50Gi\n",
      "Swap:          2.0Gi          0B       2.0Gi\n"
     ]
    },
    {
     "name": "stderr",
     "output_type": "stream",
     "text": [
      "No LSB modules are available.\n"
     ]
    }
   ],
   "source": [
    "%%bash\n",
    "echo \"TODAY'S DATE:\"\n",
    "date\n",
    "echo \"------------\"\n",
    "echo \"\"\n",
    "#Display operating system info\n",
    "lsb_release -a\n",
    "echo \"\"\n",
    "echo \"------------\"\n",
    "echo \"HOSTNAME: \"; hostname \n",
    "echo \"\"\n",
    "echo \"------------\"\n",
    "echo \"Computer Specs:\"\n",
    "echo \"\"\n",
    "lscpu\n",
    "echo \"\"\n",
    "echo \"------------\"\n",
    "echo \"\"\n",
    "echo \"Memory Specs\"\n",
    "echo \"\"\n",
    "free -mh"
   ]
  },
  {
   "cell_type": "markdown",
   "id": "19866f68-bfad-4a83-adb5-24e271e29d06",
   "metadata": {},
   "source": [
    "### Set variables\n",
    "- `%env` indicates a bash variable\n",
    "\n",
    "- without `%env` is Python variable"
   ]
  },
  {
   "cell_type": "code",
   "execution_count": 3,
   "id": "7293bcb0-581c-4ad2-8f1e-09dd98352aaf",
   "metadata": {},
   "outputs": [
    {
     "name": "stdout",
     "output_type": "stream",
     "text": [
      "env: data_dir=/home/sam/data/P_verrucosa/genomes\n",
      "env: analysis_dir=/home/sam/analyses/20230215-pver-GCA_014529365.1-karytoype\n",
      "env: fasta_index=GCA_014529365.1_Pver_genome_assembly_v1.0_genomic.fna.fai\n",
      "env: url=https://owl.fish.washington.edu/halfshell/genomic-databank\n",
      "env: karyotype=GCA_014529365.1-pver-karytotype-name_length.tab\n"
     ]
    }
   ],
   "source": [
    "# Set directories, input/output files\n",
    "%env data_dir=/home/sam/data/P_verrucosa/genomes\n",
    "%env analysis_dir=/home/sam/analyses/20230215-pver-GCA_014529365.1-karytoype\n",
    "analysis_dir=\"20230215-pver-GCA_014529365.1-karytoype\"\n",
    "\n",
    "# Input files (from NCBI)\n",
    "%env fasta_index=GCA_014529365.1_Pver_genome_assembly_v1.0_genomic.fna.fai\n",
    "\n",
    "# URL of file directory\n",
    "%env url=https://owl.fish.washington.edu/halfshell/genomic-databank\n",
    "\n",
    "# Output file(s)\n",
    "%env karyotype=GCA_014529365.1-pver-karytotype-name_length.tab"
   ]
  },
  {
   "cell_type": "markdown",
   "id": "7f204c16-2d1f-4837-93b0-1fb0e3d00d64",
   "metadata": {},
   "source": [
    "### Create analysis directory"
   ]
  },
  {
   "cell_type": "code",
   "execution_count": 4,
   "id": "8f275e34-c56e-4754-abf7-3279667434bb",
   "metadata": {},
   "outputs": [],
   "source": [
    "%%bash\n",
    "# Make analysis and data directory, if doesn't exist\n",
    "mkdir --parents \"${analysis_dir}\"\n",
    "\n",
    "mkdir --parents \"${data_dir}\""
   ]
  },
  {
   "cell_type": "markdown",
   "id": "56052f6d-441a-4048-8a6f-39d58552283d",
   "metadata": {},
   "source": [
    "### Download FastA Index"
   ]
  },
  {
   "cell_type": "code",
   "execution_count": 5,
   "id": "951fc8e9-b821-4f54-848f-f9573daadc83",
   "metadata": {},
   "outputs": [
    {
     "name": "stdout",
     "output_type": "stream",
     "text": [
      "-rw-r--r-- 1 sam sam 693K Feb 15 10:00 GCA_014529365.1_Pver_genome_assembly_v1.0_genomic.fna.fai\n"
     ]
    }
   ],
   "source": [
    "%%bash\n",
    "cd \"${data_dir}\"\n",
    "\n",
    "# Download with wget.\n",
    "# Use --quiet option to prevent wget output from printing too many lines to notebook\n",
    "# Use --continue to prevent re-downloading fie if it's already been downloaded.\n",
    "# Use --no-check-certificate to avoid download error from gannet\n",
    "wget --quiet \\\n",
    "--continue \\\n",
    "--no-check-certificate \\\n",
    "${url}/${fasta_index}\n",
    "\n",
    "ls -ltrh \"${fasta_index}\""
   ]
  },
  {
   "cell_type": "markdown",
   "id": "7eb8b7c0-5927-44c5-ba79-cbee1d5a77fb",
   "metadata": {},
   "source": [
    "### Examine FastA Index"
   ]
  },
  {
   "cell_type": "code",
   "execution_count": 6,
   "id": "18862291-d1ec-4b62-8b22-959404538a7f",
   "metadata": {},
   "outputs": [
    {
     "name": "stdout",
     "output_type": "stream",
     "text": [
      "JAAVTL010000001.1\t2095917\t112\t80\t81\n",
      "JAAVTL010000002.1\t2081954\t2122340\t80\t81\n",
      "JAAVTL010000003.1\t1617595\t4230431\t80\t81\n",
      "JAAVTL010000004.1\t1576134\t5868358\t80\t81\n",
      "JAAVTL010000005.1\t1560107\t7464306\t80\t81\n",
      "JAAVTL010000006.1\t1451149\t9044027\t80\t81\n",
      "JAAVTL010000007.1\t1442001\t10513428\t80\t81\n",
      "JAAVTL010000008.1\t1404416\t11973567\t80\t81\n",
      "JAAVTL010000009.1\t1375744\t13395651\t80\t81\n",
      "JAAVTL010000010.1\t1318009\t14788704\t80\t81\n",
      "JAAVTL010000011.1\t1243551\t16123301\t80\t81\n",
      "JAAVTL010000012.1\t1229536\t17382509\t80\t81\n",
      "JAAVTL010000013.1\t1172851\t18627527\t80\t81\n",
      "JAAVTL010000014.1\t1203294\t19815151\t80\t81\n",
      "JAAVTL010000015.1\t1198208\t21033599\t80\t81\n",
      "JAAVTL010000016.1\t1181740\t22246897\t80\t81\n",
      "JAAVTL010000017.1\t1125063\t23443521\t80\t81\n",
      "JAAVTL010000018.1\t1142483\t24582760\t80\t81\n",
      "JAAVTL010000019.1\t1132017\t25739637\t80\t81\n",
      "JAAVTL010000020.1\t1094778\t26885917\t80\t81\n"
     ]
    }
   ],
   "source": [
    "%%bash\n",
    "head -n 20 \"${data_dir}\"/\"${fasta_index}\""
   ]
  },
  {
   "cell_type": "markdown",
   "id": "b1598092-a1d5-4c8d-ab1c-3bd9d8fcc73a",
   "metadata": {},
   "source": [
    "### Convert FastA index to desired format:\n",
    "\n",
    "`name\\tlength`\n",
    "\n",
    "Uses awk to print the first column (`$1`), followed by a tab (`\\t`), followed by the second column (`$2`)."
   ]
  },
  {
   "cell_type": "code",
   "execution_count": 8,
   "id": "9cf5e7d6-c5eb-4bc5-af4f-b2955c4de478",
   "metadata": {},
   "outputs": [],
   "source": [
    "%%bash\n",
    "cd \"${data_dir}\"\n",
    "\n",
    "awk '{print $1, \"\\t\", $2}' \"${fasta_index}\" \\\n",
    "> \"${analysis_dir}/${karyotype}\""
   ]
  },
  {
   "cell_type": "markdown",
   "id": "e50df042-59c0-4327-b3a4-f14399eba05f",
   "metadata": {},
   "source": [
    "### Inspect GTF"
   ]
  },
  {
   "cell_type": "code",
   "execution_count": 9,
   "id": "98a870cf-518f-44e5-8c7a-eb32c219ea68",
   "metadata": {},
   "outputs": [
    {
     "name": "stdout",
     "output_type": "stream",
     "text": [
      "JAAVTL010000001.1 \t 2095917\n",
      "JAAVTL010000002.1 \t 2081954\n",
      "JAAVTL010000003.1 \t 1617595\n",
      "JAAVTL010000004.1 \t 1576134\n",
      "JAAVTL010000005.1 \t 1560107\n",
      "JAAVTL010000006.1 \t 1451149\n",
      "JAAVTL010000007.1 \t 1442001\n",
      "JAAVTL010000008.1 \t 1404416\n",
      "JAAVTL010000009.1 \t 1375744\n",
      "JAAVTL010000010.1 \t 1318009\n"
     ]
    }
   ],
   "source": [
    "%%bash\n",
    "head \"${analysis_dir}/${karyotype}\""
   ]
  },
  {
   "cell_type": "markdown",
   "id": "26445ae7-6472-4814-bde2-33c646ffcf22",
   "metadata": {},
   "source": [
    "### Generate checksum(s)"
   ]
  },
  {
   "cell_type": "code",
   "execution_count": 10,
   "id": "9a8e9dcb-eb74-4af4-8924-0553fe6f3596",
   "metadata": {},
   "outputs": [
    {
     "name": "stdout",
     "output_type": "stream",
     "text": [
      "5aafd422505f26c0793a3b88abe0359f  GCA_014529365.1-pver-karytotype-name_length.tab\n"
     ]
    }
   ],
   "source": [
    "%%bash\n",
    "cd \"${analysis_dir}\"\n",
    "\n",
    "for file in *\n",
    "do\n",
    "  md5sum \"${file}\" | tee --append checksums.md5\n",
    "done"
   ]
  }
 ],
 "metadata": {
  "kernelspec": {
   "display_name": "Python 3",
   "language": "python",
   "name": "python3"
  },
  "language_info": {
   "codemirror_mode": {
    "name": "ipython",
    "version": 3
   },
   "file_extension": ".py",
   "mimetype": "text/x-python",
   "name": "python",
   "nbconvert_exporter": "python",
   "pygments_lexer": "ipython3",
   "version": "3.9.1"
  }
 },
 "nbformat": 4,
 "nbformat_minor": 5
}
