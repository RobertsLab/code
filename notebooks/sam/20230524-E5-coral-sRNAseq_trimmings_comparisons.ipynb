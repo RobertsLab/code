{
 "cells": [
  {
   "cell_type": "markdown",
   "id": "2949abe4-dfa6-4c4a-a395-a3a1db92b5e7",
   "metadata": {},
   "source": [
    "# Compare E5 coral sRNA-seq trimming options\n",
    "\n",
    "Simple adapter trimming vs. adapter trimming and trimming to expect sRNA lengths.\n"
   ]
  },
  {
   "cell_type": "markdown",
   "id": "ee0ebae6-d54c-4d18-88bd-3d3456a8b1e6",
   "metadata": {},
   "source": [
    "### List computer specs"
   ]
  },
  {
   "cell_type": "code",
   "execution_count": 1,
   "id": "9f60016c-d6b6-4b6d-86d3-5ee68b55464c",
   "metadata": {},
   "outputs": [
    {
     "name": "stdout",
     "output_type": "stream",
     "text": [
      "TODAY'S DATE:\n",
      "Wed May 24 10:44:03 PDT 2023\n",
      "------------\n",
      "\n"
     ]
    },
    {
     "name": "stderr",
     "output_type": "stream",
     "text": [
      "No LSB modules are available.\n"
     ]
    },
    {
     "name": "stdout",
     "output_type": "stream",
     "text": [
      "Distributor ID:\tUbuntu\n",
      "Description:\tUbuntu 18.04.6 LTS\n",
      "Release:\t18.04\n",
      "Codename:\tbionic\n",
      "\n",
      "------------\n",
      "HOSTNAME: \n",
      "raven\n",
      "\n",
      "------------\n",
      "Computer Specs:\n",
      "\n",
      "Architecture:        x86_64\n",
      "CPU op-mode(s):      32-bit, 64-bit\n",
      "Byte Order:          Little Endian\n",
      "CPU(s):              48\n",
      "On-line CPU(s) list: 0-47\n",
      "Thread(s) per core:  2\n",
      "Core(s) per socket:  24\n",
      "Socket(s):           1\n",
      "NUMA node(s):        1\n",
      "Vendor ID:           GenuineIntel\n",
      "CPU family:          6\n",
      "Model:               85\n",
      "Model name:          Intel(R) Xeon(R) Gold 5220R CPU @ 2.20GHz\n",
      "Stepping:            7\n",
      "CPU MHz:             1000.108\n",
      "CPU max MHz:         4000.0000\n",
      "CPU min MHz:         1000.0000\n",
      "BogoMIPS:            4400.00\n",
      "Virtualization:      VT-x\n",
      "L1d cache:           32K\n",
      "L1i cache:           32K\n",
      "L2 cache:            1024K\n",
      "L3 cache:            36608K\n",
      "NUMA node0 CPU(s):   0-47\n",
      "Flags:               fpu vme de pse tsc msr pae mce cx8 apic sep mtrr pge mca cmov pat pse36 clflush dts acpi mmx fxsr sse sse2 ss ht tm pbe syscall nx pdpe1gb rdtscp lm constant_tsc art arch_perfmon pebs bts rep_good nopl xtopology nonstop_tsc cpuid aperfmperf pni pclmulqdq dtes64 monitor ds_cpl vmx smx est tm2 ssse3 sdbg fma cx16 xtpr pdcm pcid dca sse4_1 sse4_2 x2apic movbe popcnt tsc_deadline_timer aes xsave avx f16c rdrand lahf_lm abm 3dnowprefetch cpuid_fault epb cat_l3 cdp_l3 invpcid_single intel_ppin ssbd mba ibrs ibpb stibp ibrs_enhanced tpr_shadow vnmi flexpriority ept vpid ept_ad fsgsbase tsc_adjust bmi1 avx2 smep bmi2 erms invpcid cqm mpx rdt_a avx512f avx512dq rdseed adx smap clflushopt clwb intel_pt avx512cd avx512bw avx512vl xsaveopt xsavec xgetbv1 xsaves cqm_llc cqm_occup_llc cqm_mbm_total cqm_mbm_local dtherm ida arat pln pts hwp hwp_act_window hwp_epp hwp_pkg_req pku ospke avx512_vnni md_clear flush_l1d arch_capabilities\n",
      "\n",
      "------------\n",
      "\n",
      "Memory Specs\n",
      "\n",
      "              total        used        free      shared  buff/cache   available\n",
      "Mem:           247G        9.5G         76G        672K        161G        235G\n",
      "Swap:           99G        583M         99G\n"
     ]
    }
   ],
   "source": [
    "%%bash\n",
    "echo \"TODAY'S DATE:\"\n",
    "date\n",
    "echo \"------------\"\n",
    "echo \"\"\n",
    "#Display operating system info\n",
    "lsb_release -a\n",
    "echo \"\"\n",
    "echo \"------------\"\n",
    "echo \"HOSTNAME: \"; hostname \n",
    "echo \"\"\n",
    "echo \"------------\"\n",
    "echo \"Computer Specs:\"\n",
    "echo \"\"\n",
    "lscpu\n",
    "echo \"\"\n",
    "echo \"------------\"\n",
    "echo \"\"\n",
    "echo \"Memory Specs\"\n",
    "echo \"\"\n",
    "free -mh"
   ]
  },
  {
   "cell_type": "markdown",
   "id": "19866f68-bfad-4a83-adb5-24e271e29d06",
   "metadata": {},
   "source": [
    "### Set variables\n",
    "- `%env` indicates a bash variable\n",
    "\n",
    "- without `%env` is Python variable"
   ]
  },
  {
   "cell_type": "code",
   "execution_count": 2,
   "id": "7293bcb0-581c-4ad2-8f1e-09dd98352aaf",
   "metadata": {},
   "outputs": [
    {
     "name": "stdout",
     "output_type": "stream",
     "text": [
      "env: data_dir=/home/shared/8TB_HDD_01/sam/data/A_pulchra/sRNAseq\n",
      "env: analysis_dir=/home/shared/8TB_HDD_01/sam/analyses/20230524-E5-coral-sRNAseq_trimmings_comparisons\n",
      "env: R1_fastq=/home/shared/8TB_HDD_01/sam/data/A_pulchra/sRNAseq/sRNA-ACR-140-S1-TP2_R1_001.fastq.gz\n",
      "env: R2_fastq=/home/shared/8TB_HDD_01/sam/data/A_pulchra/sRNAseq/sRNA-ACR-140-S1-TP2_R2_001.fastq.gz\n",
      "env: threads=40\n",
      "env: max_read_length=50\n",
      "env: fastqc=/home/shared/FastQC/fastqc\n",
      "env: flexbar=/home/shared/flexbar-3.5.0-linux/flexbar\n",
      "env: break_line=--------------------------------------------------------------------------\n"
     ]
    }
   ],
   "source": [
    "# Set directories, input/output files\n",
    "%env data_dir=/home/shared/8TB_HDD_01/sam/data/A_pulchra/sRNAseq\n",
    "%env analysis_dir=/home/shared/8TB_HDD_01/sam/analyses/20230524-E5-coral-sRNAseq_trimmings_comparisons\n",
    "analysis_dir=\"/home/shared/8TB_HDD_01/sam/20230524-E5-coral-sRNAseq_trimmings_comparisons\"\n",
    "\n",
    "%env R1_fastq=/home/shared/8TB_HDD_01/sam/data/A_pulchra/sRNAseq/sRNA-ACR-140-S1-TP2_R1_001.fastq.gz\n",
    "%env R2_fastq=/home/shared/8TB_HDD_01/sam/data/A_pulchra/sRNAseq/sRNA-ACR-140-S1-TP2_R2_001.fastq.gz\n",
    "\n",
    "# Set CPU threads\n",
    "%env threads=40\n",
    "\n",
    "# Max read length\n",
    "%env max_read_length=50\n",
    "\n",
    "# Set program locations\n",
    "%env fastqc=/home/shared/FastQC/fastqc\n",
    "%env flexbar=/home/shared/flexbar-3.5.0-linux/flexbar\n",
    "\n",
    "# Set some formatting stuff\n",
    "%env break_line=--------------------------------------------------------------------------"
   ]
  },
  {
   "cell_type": "markdown",
   "id": "7f204c16-2d1f-4837-93b0-1fb0e3d00d64",
   "metadata": {},
   "source": [
    "### Create analysis directory"
   ]
  },
  {
   "cell_type": "code",
   "execution_count": 3,
   "id": "8f275e34-c56e-4754-abf7-3279667434bb",
   "metadata": {},
   "outputs": [],
   "source": [
    "%%bash\n",
    "# Make analysis and data directory, if doesn't exist\n",
    "mkdir --parents \"${analysis_dir}\"\n",
    "\n",
    "mkdir --parents \"${data_dir}\""
   ]
  },
  {
   "cell_type": "markdown",
   "id": "f11a55a2-f40f-4341-98f8-6af2f5c1c4c0",
   "metadata": {
    "tags": []
   },
   "source": [
    "# Adapter only trimming"
   ]
  },
  {
   "cell_type": "markdown",
   "id": "ec3f4273-c642-4f03-828c-a5aca6788e83",
   "metadata": {},
   "source": [
    "### Inspect NEB Adapter FastA\n",
    "\n",
    "Adapter sequences are in the NEB sRNA kit protocol used by Azenta for library construction."
   ]
  },
  {
   "cell_type": "code",
   "execution_count": 4,
   "id": "b79fbff5-e5fa-48fa-a9eb-339090d486f6",
   "metadata": {
    "tags": []
   },
   "outputs": [
    {
     "name": "stdout",
     "output_type": "stream",
     "text": [
      ">first\n",
      "AGATCGGAAGAGCACACGTCTGAACTCCAGTCAC\n",
      ">second\n",
      "GATCGTCGGACTGTAGAACTCTGAACGTGTAGATCTCGGTGGTCGCCGTATCATT\n"
     ]
    }
   ],
   "source": [
    "%%bash\n",
    "cat \"${data_dir}/NEB-adapters.fasta\""
   ]
  },
  {
   "cell_type": "markdown",
   "id": "197bc08b-8a5e-4c6d-94b7-77c6d1bf509a",
   "metadata": {},
   "source": [
    "### Trim adapters\n",
    "\n",
    "Options:\n",
    "\n",
    "- `-ap`: For paired-end analysis; recommended by NEB\n",
    "\n",
    "- `-qf il.8`: Sets quality type as Illumina v1.8\n",
    "\n",
    "- `qt`: Mean quality score of 25\n",
    "\n",
    "- `--target`: Sets output filename\n",
    "\n",
    "- `--zip-output GZ`: Sets gzip compression for trimmed files"
   ]
  },
  {
   "cell_type": "code",
   "execution_count": 5,
   "id": "699c2a9c-504d-4993-8a78-fa4e3264f05d",
   "metadata": {
    "tags": []
   },
   "outputs": [
    {
     "name": "stdout",
     "output_type": "stream",
     "text": [
      "total 633M\n",
      "-rw-rw-r-- 1 sam sam 311M May 24 10:48 sRNA-ACR-140-S1-TP2_R1_001-adapter_trim_only_1.fastq.gz\n",
      "-rw-rw-r-- 1 sam sam 322M May 24 10:48 sRNA-ACR-140-S1-TP2_R1_001-adapter_trim_only_2.fastq.gz\n",
      "-rw-rw-r-- 1 sam sam 2.6K May 24 10:48 sRNA-ACR-140-S1-TP2_R1_001-adapter_trim_only.log\n"
     ]
    }
   ],
   "source": [
    "%%bash\n",
    "cd ${analysis_dir}\n",
    "\n",
    "${flexbar} \\\n",
    "-r ${R1_fastq} \\\n",
    "-p ${R2_fastq}  \\\n",
    "-a ${data_dir}/NEB-adapters.fasta \\\n",
    "-ap ON \\\n",
    "-qf i1.8 \\\n",
    "-qt 25 \\\n",
    "--threads ${threads} \\\n",
    "--target sRNA-ACR-140-S1-TP2_R1_001-adapter_trim_only \\\n",
    "--zip-output GZ\n",
    "\n",
    "ls -lh"
   ]
  },
  {
   "cell_type": "markdown",
   "id": "db485f1e-5e01-4744-a636-8bc76deb2c4e",
   "metadata": {},
   "source": [
    "### Check log file"
   ]
  },
  {
   "cell_type": "code",
   "execution_count": 6,
   "id": "df8ab7a2-edd7-4b09-9f7c-abc8f5218b29",
   "metadata": {},
   "outputs": [
    {
     "name": "stdout",
     "output_type": "stream",
     "text": [
      "\n",
      "               ________          __              \n",
      "              / ____/ /__  _  __/ /_  ____ ______\n",
      "             / /_  / / _ \\| |/ / __ \\/ __ `/ ___/\n",
      "            / __/ / /  __/>  </ /_/ / /_/ / /    \n",
      "           /_/   /_/\\___/_/|_/_.___/\\__._/_/     \n",
      "\n",
      "Flexbar - flexible barcode and adapter removal, version 3.5.0\n",
      "Developed with SeqAn, the library for sequence analysis\n",
      "\n",
      "Available on github.com/seqan/flexbar\n",
      "\n",
      "\n",
      "Local time:            Wed May 24 10:44:10 2023\n",
      "\n",
      "Number of threads:     40\n",
      "Bundled fragments:     256\n",
      "\n",
      "Target name:           sRNA-ACR-140-S1-TP2_R1_001-adapter_trim_only\n",
      "File type:             fastq\n",
      "Reads file:            /home/shared/8TB_HDD_01/sam/data/A_pulchra/sRNAseq/sRNA-ACR-140-S1-TP2_R1_001.fastq.gz\n",
      "Reads file 2:          /home/shared/8TB_HDD_01/sam/data/A_pulchra/sRNAseq/sRNA-ACR-140-S1-TP2_R2_001.fastq.gz   (paired run)\n",
      "Adapter file:          /home/shared/8TB_HDD_01/sam/data/A_pulchra/sRNAseq/NEB-adapters.fasta\n",
      "\n",
      "max-uncalled:          0\n",
      "min-read-length:       18\n",
      "\n",
      "adapter-pair-overlap:  ON\n",
      "adapter-trim-end:      RIGHT\n",
      "adapter-min-overlap:   3\n",
      "adapter-min-poverlap:  40\n",
      "adapter-error-rate:    0.1\n",
      "adapter-match:         1\n",
      "adapter-mismatch:     -1\n",
      "adapter-gap:          -6\n",
      "\n",
      "Adapter:               Sequence:\n",
      "first                  AGATCGGAAGAGCACACGTCTGAACTCCAGTCAC\n",
      "second                 GATCGTCGGACTGTAGAACTCTGAACGTGTAGATCTCGGTGGTCGCCGTATCATT\n",
      "\n",
      "\n",
      "Processing reads ...done.\n",
      "\n",
      "Elapsed time:       4 min 2 sec\n",
      "Processing speed:   152950 reads/s\n",
      "\n",
      "\n",
      "Min, max, mean and median overlap of paired reads: 40 / 149 / 54 / 44\n",
      "\n",
      "Adapter removal statistics\n",
      "==========================\n",
      "Adapter:            Overlap removal:    Full length:\n",
      "first               17854577            17749958\n",
      "second              17688528            17594166\n",
      "\n",
      "Min, max, mean and median overlap: 1 / 60 / 44 / 34\n",
      "\n",
      "\n",
      "Output file statistics\n",
      "======================\n",
      "Read file:               sRNA-ACR-140-S1-TP2_R1_001-adapter_trim_only_1.fastq.gz\n",
      "  written reads          17551962\n",
      "  short reads            948699\n",
      "Read file 2:             sRNA-ACR-140-S1-TP2_R1_001-adapter_trim_only_2.fastq.gz\n",
      "  written reads          17551962\n",
      "  short reads            941364\n",
      "\n",
      "\n",
      "Filtering statistics\n",
      "====================\n",
      "Processed reads                   37013944\n",
      "  skipped due to uncalled bases      10070   (5373 uncalled in 5035 pairs)\n",
      "  short prior to adapter removal         0\n",
      "  finally skipped short reads      1890063\n",
      "  skipped paired single reads         9887\n",
      "Discarded reads overall            1910020\n",
      "Remaining reads                   35103924   (94%)\n",
      "\n",
      "Processed bases   5552091600\n",
      "Remaining bases   1201741240   (21% of input)\n",
      "\n",
      "\n",
      "Flexbar completed adapter removal.\n",
      "\n"
     ]
    }
   ],
   "source": [
    "%%bash\n",
    "cd ${analysis_dir}\n",
    "\n",
    "cat sRNA-ACR-140-S1-TP2_R1_001-adapter_trim_only.log"
   ]
  },
  {
   "cell_type": "markdown",
   "id": "7aa4d0e9-9d02-4661-b9c1-a65792060f59",
   "metadata": {},
   "source": [
    "# Adapter and length trimming"
   ]
  },
  {
   "cell_type": "markdown",
   "id": "e078c3da-685e-4ea4-88b0-aa37de388227",
   "metadata": {},
   "source": [
    "### Trim adapters and set max length (trimmed from 3' end)"
   ]
  },
  {
   "cell_type": "markdown",
   "id": "6c1ab87f-2a22-4f7f-a2f8-63a7135f8575",
   "metadata": {},
   "source": [
    "Options:\n",
    "\n",
    "- `-ap`: For paired-end analysis; recommended by NEB\n",
    "\n",
    "- `-qf il.8`: Sets quality type as Illumina v1.8\n",
    "\n",
    "- `qt`: Mean quality score of 25\n",
    "\n",
    "- `--post-trim-length`: Trim reads from 3' end to length specified after adapter and quality trimming.\n",
    "\n",
    "- `--target`: Sets output filename\n",
    "\n",
    "- `--zip-output GZ`: Sets gzip compression for trimmed files"
   ]
  },
  {
   "cell_type": "code",
   "execution_count": 7,
   "id": "4b786755-9c88-41bb-b9b4-20eab38aeda8",
   "metadata": {
    "tags": []
   },
   "outputs": [
    {
     "name": "stdout",
     "output_type": "stream",
     "text": [
      "total 1.2G\n",
      "-rw-rw-r-- 1 sam sam 292M May 24 10:52 sRNA-ACR-140-S1-TP2_R1_001-adapter-and-length-50_1.fastq.gz\n",
      "-rw-rw-r-- 1 sam sam 293M May 24 10:52 sRNA-ACR-140-S1-TP2_R1_001-adapter-and-length-50_2.fastq.gz\n",
      "-rw-rw-r-- 1 sam sam 2.7K May 24 10:52 sRNA-ACR-140-S1-TP2_R1_001-adapter-and-length-50.log\n",
      "-rw-rw-r-- 1 sam sam 311M May 24 10:48 sRNA-ACR-140-S1-TP2_R1_001-adapter_trim_only_1.fastq.gz\n",
      "-rw-rw-r-- 1 sam sam 322M May 24 10:48 sRNA-ACR-140-S1-TP2_R1_001-adapter_trim_only_2.fastq.gz\n",
      "-rw-rw-r-- 1 sam sam 2.6K May 24 10:48 sRNA-ACR-140-S1-TP2_R1_001-adapter_trim_only.log\n"
     ]
    }
   ],
   "source": [
    "%%bash\n",
    "cd ${analysis_dir}\n",
    "\n",
    "${flexbar} \\\n",
    "-r ${R1_fastq} \\\n",
    "-p ${R2_fastq}  \\\n",
    "-a ${data_dir}/NEB-adapters.fasta \\\n",
    "-ap ON \\\n",
    "-qf i1.8 \\\n",
    "-qt 25 \\\n",
    "--post-trim-length ${max_read_length} \\\n",
    "--threads ${threads} \\\n",
    "--target sRNA-ACR-140-S1-TP2_R1_001-adapter-and-length-50 \\\n",
    "--zip-output GZ\n",
    "\n",
    "ls -lh"
   ]
  },
  {
   "cell_type": "markdown",
   "id": "997cf4bb-f9f9-4944-8ad3-1abc49db2248",
   "metadata": {},
   "source": [
    "### Check log file"
   ]
  },
  {
   "cell_type": "code",
   "execution_count": 8,
   "id": "8812038e-fff4-49df-9b3c-082017ef2405",
   "metadata": {
    "tags": []
   },
   "outputs": [
    {
     "name": "stdout",
     "output_type": "stream",
     "text": [
      "\n",
      "               ________          __              \n",
      "              / ____/ /__  _  __/ /_  ____ ______\n",
      "             / /_  / / _ \\| |/ / __ \\/ __ `/ ___/\n",
      "            / __/ / /  __/>  </ /_/ / /_/ / /    \n",
      "           /_/   /_/\\___/_/|_/_.___/\\__._/_/     \n",
      "\n",
      "Flexbar - flexible barcode and adapter removal, version 3.5.0\n",
      "Developed with SeqAn, the library for sequence analysis\n",
      "\n",
      "Available on github.com/seqan/flexbar\n",
      "\n",
      "\n",
      "Local time:            Wed May 24 10:48:12 2023\n",
      "\n",
      "Number of threads:     40\n",
      "Bundled fragments:     256\n",
      "\n",
      "Target name:           sRNA-ACR-140-S1-TP2_R1_001-adapter-and-length-50\n",
      "File type:             fastq\n",
      "Reads file:            /home/shared/8TB_HDD_01/sam/data/A_pulchra/sRNAseq/sRNA-ACR-140-S1-TP2_R1_001.fastq.gz\n",
      "Reads file 2:          /home/shared/8TB_HDD_01/sam/data/A_pulchra/sRNAseq/sRNA-ACR-140-S1-TP2_R2_001.fastq.gz   (paired run)\n",
      "Adapter file:          /home/shared/8TB_HDD_01/sam/data/A_pulchra/sRNAseq/NEB-adapters.fasta\n",
      "\n",
      "max-uncalled:          0\n",
      "post-trim-length:      50\n",
      "min-read-length:       18\n",
      "\n",
      "adapter-pair-overlap:  ON\n",
      "adapter-trim-end:      RIGHT\n",
      "adapter-min-overlap:   3\n",
      "adapter-min-poverlap:  40\n",
      "adapter-error-rate:    0.1\n",
      "adapter-match:         1\n",
      "adapter-mismatch:     -1\n",
      "adapter-gap:          -6\n",
      "\n",
      "Adapter:               Sequence:\n",
      "first                  AGATCGGAAGAGCACACGTCTGAACTCCAGTCAC\n",
      "second                 GATCGTCGGACTGTAGAACTCTGAACGTGTAGATCTCGGTGGTCGCCGTATCATT\n",
      "\n",
      "\n",
      "Processing reads ...done.\n",
      "\n",
      "Elapsed time:       3 min 49 sec\n",
      "Processing speed:   161632 reads/s\n",
      "\n",
      "\n",
      "Min, max, mean and median overlap of paired reads: 40 / 149 / 54 / 44\n",
      "\n",
      "Adapter removal statistics\n",
      "==========================\n",
      "Adapter:            Overlap removal:    Full length:\n",
      "first               17854577            17749958\n",
      "second              17688528            17594166\n",
      "\n",
      "Min, max, mean and median overlap: 1 / 60 / 44 / 34\n",
      "\n",
      "\n",
      "Output file statistics\n",
      "======================\n",
      "Read file:               sRNA-ACR-140-S1-TP2_R1_001-adapter-and-length-50_1.fastq.gz\n",
      "  written reads          17551962\n",
      "  short reads            948699\n",
      "Read file 2:             sRNA-ACR-140-S1-TP2_R1_001-adapter-and-length-50_2.fastq.gz\n",
      "  written reads          17551962\n",
      "  short reads            941364\n",
      "\n",
      "\n",
      "Filtering statistics\n",
      "====================\n",
      "Processed reads                   37013944\n",
      "  skipped due to uncalled bases      10070   (5373 uncalled in 5035 pairs)\n",
      "  short prior to adapter removal         0\n",
      "  finally skipped short reads      1890063\n",
      "  skipped paired single reads         9887\n",
      "Discarded reads overall            1910020\n",
      "Remaining reads                   35103924   (94%)\n",
      "\n",
      "Processed bases   5552091600\n",
      "Remaining bases   1048763452   (18% of input)\n",
      "\n",
      "\n",
      "Flexbar completed adapter removal.\n",
      "\n"
     ]
    }
   ],
   "source": [
    "%%bash\n",
    "cd ${analysis_dir}\n",
    "\n",
    "cat sRNA-ACR-140-S1-TP2_R1_001-adapter-and-length-50.log"
   ]
  },
  {
   "cell_type": "markdown",
   "id": "ca6127e7-db6c-46a1-9e8f-8210f0b909a3",
   "metadata": {},
   "source": [
    "# FastQC"
   ]
  },
  {
   "cell_type": "code",
   "execution_count": 9,
   "id": "eb7508d3-5736-4e34-a440-8312fdc6cf3a",
   "metadata": {
    "tags": []
   },
   "outputs": [],
   "source": [
    "%%bash\n",
    "cd ${analysis_dir}\n",
    "\n",
    "trimmed_fastq_array=(*.fastq.gz)\n",
    "\n",
    "# Pass array contents to new variable as space-delimited list\n",
    "trimmed_fastqc_list=$(echo \"${trimmed_fastq_array[*]}\")\n",
    "\n",
    "${fastqc} \\\n",
    "${trimmed_fastqc_list} \\\n",
    "--threads ${threads} \\\n",
    "--outdir ./ \\\n",
    "--quiet"
   ]
  },
  {
   "cell_type": "markdown",
   "id": "b7221110-7c67-4231-afce-1b022e1b1aef",
   "metadata": {},
   "source": [
    "# MultiQC"
   ]
  },
  {
   "cell_type": "code",
   "execution_count": 10,
   "id": "e4a1b399-8542-40f0-a937-19eff2f60ffd",
   "metadata": {
    "tags": []
   },
   "outputs": [
    {
     "name": "stderr",
     "output_type": "stream",
     "text": [
      "\n",
      "  \u001b[34m/\u001b[0m\u001b[32m/\u001b[0m\u001b[31m/\u001b[0m \u001b]8;id=757692;https://multiqc.info\u001b\\\u001b[1mMultiQC\u001b[0m\u001b]8;;\u001b\\ 🔍 \u001b[2m| v1.14\u001b[0m\n",
      "\n",
      "\u001b[34m|           multiqc\u001b[0m | Search path : /home/shared/8TB_HDD_01/sam/analyses/20230524-E5-coral-sRNAseq_trimmings_comparisons\n",
      "\u001b[2K\u001b[34m|\u001b[0m         \u001b[34msearching\u001b[0m | \u001b[90m━━━━━━━━━━━━━━━━━━━━━━━━━━━━━━━━━━━━━━━━\u001b[0m \u001b[35m100%\u001b[0m \u001b[32m14/14\u001b[0m  \u001b[0m0m  \n",
      "\u001b[?25h\u001b[34m|           flexbar\u001b[0m | Found 2 logs\n",
      "\u001b[34m|            fastqc\u001b[0m | Found 4 reports\n",
      "\u001b[34m|           multiqc\u001b[0m | Compressing plot data\n",
      "\u001b[34m|           multiqc\u001b[0m | Report      : multiqc_report.html\n",
      "\u001b[34m|           multiqc\u001b[0m | Data        : multiqc_data\n",
      "\u001b[34m|           multiqc\u001b[0m | MultiQC complete\n"
     ]
    }
   ],
   "source": [
    "%%bash\n",
    "cd ${analysis_dir}\n",
    "\n",
    "multiqc ."
   ]
  },
  {
   "cell_type": "markdown",
   "id": "3eed5b68-470e-4b9a-af97-9ba2f27a51b5",
   "metadata": {},
   "source": [
    "### Document program options"
   ]
  },
  {
   "cell_type": "code",
   "execution_count": 11,
   "id": "61be6360-3e83-4cd9-a1db-4554995b8771",
   "metadata": {},
   "outputs": [
    {
     "name": "stdout",
     "output_type": "stream",
     "text": [
      "\n",
      "flexbar - flexible barcode and adapter removal\n",
      "==============================================\n",
      "\n",
      "SYNOPSIS\n",
      "    flexbar -r reads [-b barcodes] [-a adapters] [options]\n",
      "\n",
      "DESCRIPTION\n",
      "    The program Flexbar preprocesses high-throughput sequencing data\n",
      "    efficiently. It demultiplexes barcoded runs and removes adapter sequences.\n",
      "    Several adapter removal presets for Illumina libraries are included.\n",
      "    Flexbar computes exact overlap alignments using SIMD and multicore\n",
      "    parallelism. Moreover, trimming and filtering features are provided, e.g.\n",
      "    trimming of homopolymers at read ends. Flexbar increases read mapping\n",
      "    rates and improves genome as well as transcriptome assemblies. Unique\n",
      "    molecular identifiers can be extracted in a flexible way. The software\n",
      "    supports data in fasta and fastq format from multiple sequencing\n",
      "    platforms. Refer to the manual on github.com/seqan/flexbar/wiki or contact\n",
      "    Johannes Roehr on github.com/jtroehr for support with this application.\n",
      "\n",
      "OPTIONS\n",
      "    -h, --help\n",
      "          Display the help message.\n",
      "    -hh, --full-help\n",
      "          Display the help message with advanced options.\n",
      "    --version-check BOOL\n",
      "          Turn this option off to disable version update notifications of the\n",
      "          application. One of 1, ON, TRUE, T, YES, 0, OFF, FALSE, F, and NO.\n",
      "          Default: 1.\n",
      "    -hm, --man-help\n",
      "          Print advanced options as man document.\n",
      "    -v, --versions\n",
      "          Print Flexbar and SeqAn version numbers.\n",
      "    -c, --cite\n",
      "          Show program references for citation.\n",
      "\n",
      "  Basic options:\n",
      "    -n, --threads INTEGER\n",
      "          Number of threads to employ. Default: 1.\n",
      "    -N, --bundle INTEGER\n",
      "          Number of (paired) reads per thread. Default: 256.\n",
      "    -M, --bundles INTEGER\n",
      "          Process only certain number of bundles for testing.\n",
      "    -t, --target OUTPUT_PREFIX\n",
      "          Prefix for output file names or paths. Default: flexbarOut.\n",
      "    -r, --reads INPUT_FILE\n",
      "          Fasta/q file or stdin (-) with reads that may contain barcodes.\n",
      "    -p, --reads2 INPUT_FILE\n",
      "          Second input file of paired reads, gz and bz2 files supported.\n",
      "    -i, --interleaved\n",
      "          Interleaved format for first input set with paired reads.\n",
      "    -I, --iupac\n",
      "          Accept iupac symbols in reads and convert to N if not ATCG.\n",
      "\n",
      "  Barcode detection:\n",
      "    -b, --barcodes INPUT_FILE\n",
      "          Fasta file with barcodes for demultiplexing, may contain N.\n",
      "    -b2, --barcodes2 INPUT_FILE\n",
      "          Additional barcodes file for second read set in paired mode.\n",
      "    -br, --barcode-reads INPUT_FILE\n",
      "          Fasta/q file containing separate barcode reads for detection.\n",
      "    -bo, --barcode-min-overlap INTEGER\n",
      "          Minimum overlap of barcode and read. Default: barcode length.\n",
      "    -be, --barcode-error-rate DOUBLE\n",
      "          Error rate threshold for mismatches and gaps. Default: 0.0.\n",
      "    -bt, --barcode-trim-end STRING\n",
      "          Type of detection, see section trim-end modes. Default: LTAIL.\n",
      "    -bn, --barcode-tail-length INTEGER\n",
      "          Region size in tail trim-end modes. Default: barcode length.\n",
      "    -bk, --barcode-keep\n",
      "          Keep barcodes within reads instead of removal.\n",
      "    -bu, --barcode-unassigned\n",
      "          Include unassigned reads in output generation.\n",
      "    -bm, --barcode-match INTEGER\n",
      "          Alignment match score. Default: 1.\n",
      "    -bi, --barcode-mismatch INTEGER\n",
      "          Alignment mismatch score. Default: -1.\n",
      "    -bg, --barcode-gap INTEGER\n",
      "          Alignment gap score. Default: -9.\n",
      "\n",
      "  Adapter removal:\n",
      "    -a, --adapters INPUT_FILE\n",
      "          Fasta file with adapters for removal that may contain N.\n",
      "    -a2, --adapters2 INPUT_FILE\n",
      "          File with extra adapters for second read set in paired mode.\n",
      "    -as, --adapter-seq STRING\n",
      "          Single adapter sequence as alternative to adapters option.\n",
      "    -aa, --adapter-preset STRING\n",
      "          One of TruSeq, SmallRNA, Methyl, Ribo, Nextera, and NexteraMP.\n",
      "    -ao, --adapter-min-overlap INTEGER\n",
      "          Minimum overlap for removal without pair overlap. Default: 3.\n",
      "    -ae, --adapter-error-rate DOUBLE\n",
      "          Error rate threshold for mismatches and gaps. Default: 0.1.\n",
      "    -at, --adapter-trim-end STRING\n",
      "          Type of removal, see section trim-end modes. Default: RIGHT.\n",
      "    -an, --adapter-tail-length INTEGER\n",
      "          Region size for tail trim-end modes. Default: adapter length.\n",
      "    -ax, --adapter-relaxed\n",
      "          Skip restriction to pass read ends in right and left modes.\n",
      "    -ap, --adapter-pair-overlap STRING\n",
      "          Overlap detection of paired reads. One of ON, SHORT, and ONLY.\n",
      "    -av, --adapter-min-poverlap INTEGER\n",
      "          Minimum overlap of paired reads for detection. Default: 40.\n",
      "    -ac, --adapter-revcomp STRING\n",
      "          Include reverse complements of adapters. One of ON and ONLY.\n",
      "    -ad, --adapter-revcomp-end STRING\n",
      "          Use different trim-end for reverse complements of adapters.\n",
      "    -ab, --adapter-add-barcode\n",
      "          Add reverse complement of detected barcode to adapters.\n",
      "    -ar, --adapter-read-set STRING\n",
      "          Consider only single read set for adapters. One of 1 and 2.\n",
      "    -ak, --adapter-trimmed-out STRING\n",
      "          Modify that trimmed reads are kept. One of OFF and ONLY.\n",
      "    -ay, --adapter-cycles INTEGER\n",
      "          Number of adapter removal cycles. Default: 1.\n",
      "    -am, --adapter-match INTEGER\n",
      "          Alignment match score. Default: 1.\n",
      "    -ai, --adapter-mismatch INTEGER\n",
      "          Alignment mismatch score. Default: -1.\n",
      "    -ag, --adapter-gap INTEGER\n",
      "          Alignment gap score. Default: -6.\n",
      "\n",
      "  Filtering and trimming:\n",
      "    -u, --max-uncalled INTEGER\n",
      "          Allowed uncalled bases N for each read. Default: 0.\n",
      "    -x, --pre-trim-left INTEGER\n",
      "          Trim given number of bases on 5' read end before detection.\n",
      "    -y, --pre-trim-right INTEGER\n",
      "          Trim specified number of bases on 3' end prior to detection.\n",
      "    -k, --post-trim-length INTEGER\n",
      "          Trim to specified read length from 3' end after removal.\n",
      "    -m, --min-read-length INTEGER\n",
      "          Minimum read length to remain after removal. Default: 18.\n",
      "\n",
      "  Quality-based trimming:\n",
      "    -q, --qtrim STRING\n",
      "          Quality-based trimming mode. One of TAIL, WIN, and BWA.\n",
      "    -qf, --qtrim-format STRING\n",
      "          Quality format. One of sanger, solexa, i1.3, i1.5, and i1.8.\n",
      "    -qt, --qtrim-threshold INTEGER\n",
      "          Minimum quality as threshold for trimming. Default: 20.\n",
      "    -qw, --qtrim-win-size INTEGER\n",
      "          Region size for sliding window approach. Default: 5.\n",
      "    -qa, --qtrim-post-removal\n",
      "          Perform quality-based trimming after removal steps.\n",
      "\n",
      "  Trimming of homopolymers:\n",
      "    -hl, --htrim-left STRING\n",
      "          Trim specific homopolymers on left read end after removal.\n",
      "    -hr, --htrim-right STRING\n",
      "          Trim certain homopolymers on right read end after removal.\n",
      "    -hi, --htrim-min-length INTEGER\n",
      "          Minimum length of homopolymers at read ends. Default: 3.\n",
      "    -h2, --htrim-min-length2 INTEGER\n",
      "          Minimum length for homopolymers specified after first one.\n",
      "    -hx, --htrim-max-length INTEGER\n",
      "          Maximum length of homopolymers on left and right read end.\n",
      "    -hf, --htrim-max-first\n",
      "          Apply maximum length of homopolymers only for first one.\n",
      "    -he, --htrim-error-rate DOUBLE\n",
      "          Error rate threshold for mismatches. Default: 0.1.\n",
      "    -ha, --htrim-adapter\n",
      "          Trim only in case of adapter removal on same side.\n",
      "\n",
      "  Output selection:\n",
      "    -f, --fasta-output\n",
      "          Prefer non-quality format fasta for output.\n",
      "    -z, --zip-output STRING\n",
      "          Direct compression of output files. One of GZ and BZ2.\n",
      "    -1, --stdout-reads\n",
      "          Write reads to stdout, tagged and interleaved if needed.\n",
      "    -R, --output-reads OUTPUT_FILE\n",
      "          Output file for reads instead of target prefix usage.\n",
      "    -P, --output-reads2 OUTPUT_FILE\n",
      "          Output file for reads2 instead of target prefix usage.\n",
      "    -j, --length-dist\n",
      "          Generate length distribution for read output files.\n",
      "    -s, --single-reads\n",
      "          Write single reads for too short counterparts in pairs.\n",
      "    -S, --single-reads-paired\n",
      "          Write paired single reads with N for short counterparts.\n",
      "\n",
      "  Logging and tagging:\n",
      "    -l, --align-log STRING\n",
      "          Print chosen read alignments. One of ALL, MOD, and TAB.\n",
      "    -o, --stdout-log\n",
      "          Write statistics to stdout instead of target log file.\n",
      "    -O, --output-log OUTPUT_FILE\n",
      "          Output file for logging instead of target prefix usage.\n",
      "    -g, --removal-tags\n",
      "          Tag reads that are subject to adapter or barcode removal.\n",
      "    -e, --number-tags\n",
      "          Replace read tags by ascending number to save space.\n",
      "    -d, --umi-tags\n",
      "          Capture UMIs in reads at barcode or adapter N positions.\n",
      "\n",
      "TRIM-END MODES\n",
      "    ANY: longer side of read remains after removal of overlap\n",
      "    LEFT: right side remains after removal, align <= read end\n",
      "    RIGHT: left part remains after removal, align >= read start\n",
      "    LTAIL: consider first n bases of reads in alignment\n",
      "    RTAIL: use only last n bases, see tail-length options\n",
      "\n",
      "EXAMPLES\n",
      "    flexbar -r reads.fq -t target -q TAIL -qf i1.8\n",
      "    flexbar -r reads.fq -b barcodes.fa -bt LTAIL\n",
      "    flexbar -r reads.fq -a adapters.fa -ao 3 -ae 0.1\n",
      "    flexbar -r r1.fq -p r2.fq -a a1.fa -a2 a2.fa -ap ON\n",
      "    flexbar -r r1.fq -p r2.fq -aa TruSeq -ap ON\n",
      "\n",
      "VERSION\n",
      "    Last update: May 2019\n",
      "    flexbar version: 3.5.0\n",
      "    SeqAn version: 2.4.0\n",
      "\n",
      "Available on github.com/seqan/flexbar\n",
      "\n"
     ]
    }
   ],
   "source": [
    "%%bash\n",
    "${flexbar} -hh"
   ]
  }
 ],
 "metadata": {
  "kernelspec": {
   "display_name": "Python 3 (ipykernel)",
   "language": "python",
   "name": "python3"
  },
  "language_info": {
   "codemirror_mode": {
    "name": "ipython",
    "version": 3
   },
   "file_extension": ".py",
   "mimetype": "text/x-python",
   "name": "python",
   "nbconvert_exporter": "python",
   "pygments_lexer": "ipython3",
   "version": "3.10.10"
  }
 },
 "nbformat": 4,
 "nbformat_minor": 5
}
