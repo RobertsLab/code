{
 "cells": [
  {
   "cell_type": "markdown",
   "id": "2949abe4-dfa6-4c4a-a395-a3a1db92b5e7",
   "metadata": {},
   "source": [
    "## Create _C.virginia_ genes FastA from BED file.\n",
    "\n",
    "### Resulting genes FastA file will be used for [_C.virginica_ CEABIG sex/OA project](https://github.com/sr320/ceabigr) (GitHub repo).\n",
    "\n",
    "This notebook relies on [gffread](https://ccb.jhu.edu/software/stringtie/gff.shtml#gffread)."
   ]
  },
  {
   "cell_type": "markdown",
   "id": "ee0ebae6-d54c-4d18-88bd-3d3456a8b1e6",
   "metadata": {},
   "source": [
    "### List computer specs"
   ]
  },
  {
   "cell_type": "code",
   "execution_count": 1,
   "id": "9f60016c-d6b6-4b6d-86d3-5ee68b55464c",
   "metadata": {},
   "outputs": [
    {
     "name": "stdout",
     "output_type": "stream",
     "text": [
      "TODAY'S DATE:\n",
      "Wed Jul 26 07:27:52 PDT 2023\n",
      "------------\n",
      "\n"
     ]
    },
    {
     "name": "stderr",
     "output_type": "stream",
     "text": [
      "No LSB modules are available.\n"
     ]
    },
    {
     "name": "stdout",
     "output_type": "stream",
     "text": [
      "Distributor ID:\tUbuntu\n",
      "Description:\tUbuntu 18.04.6 LTS\n",
      "Release:\t18.04\n",
      "Codename:\tbionic\n",
      "\n",
      "------------\n",
      "HOSTNAME: \n",
      "raven\n",
      "\n",
      "------------\n",
      "Computer Specs:\n",
      "\n",
      "Architecture:        x86_64\n",
      "CPU op-mode(s):      32-bit, 64-bit\n",
      "Byte Order:          Little Endian\n",
      "CPU(s):              48\n",
      "On-line CPU(s) list: 0-47\n",
      "Thread(s) per core:  2\n",
      "Core(s) per socket:  24\n",
      "Socket(s):           1\n",
      "NUMA node(s):        1\n",
      "Vendor ID:           GenuineIntel\n",
      "CPU family:          6\n",
      "Model:               85\n",
      "Model name:          Intel(R) Xeon(R) Gold 5220R CPU @ 2.20GHz\n",
      "Stepping:            7\n",
      "CPU MHz:             1000.168\n",
      "CPU max MHz:         4000.0000\n",
      "CPU min MHz:         1000.0000\n",
      "BogoMIPS:            4400.00\n",
      "Virtualization:      VT-x\n",
      "L1d cache:           32K\n",
      "L1i cache:           32K\n",
      "L2 cache:            1024K\n",
      "L3 cache:            36608K\n",
      "NUMA node0 CPU(s):   0-47\n",
      "Flags:               fpu vme de pse tsc msr pae mce cx8 apic sep mtrr pge mca cmov pat pse36 clflush dts acpi mmx fxsr sse sse2 ss ht tm pbe syscall nx pdpe1gb rdtscp lm constant_tsc art arch_perfmon pebs bts rep_good nopl xtopology nonstop_tsc cpuid aperfmperf pni pclmulqdq dtes64 monitor ds_cpl vmx smx est tm2 ssse3 sdbg fma cx16 xtpr pdcm pcid dca sse4_1 sse4_2 x2apic movbe popcnt tsc_deadline_timer aes xsave avx f16c rdrand lahf_lm abm 3dnowprefetch cpuid_fault epb cat_l3 cdp_l3 invpcid_single intel_ppin ssbd mba ibrs ibpb stibp ibrs_enhanced tpr_shadow vnmi flexpriority ept vpid ept_ad fsgsbase tsc_adjust bmi1 avx2 smep bmi2 erms invpcid cqm mpx rdt_a avx512f avx512dq rdseed adx smap clflushopt clwb intel_pt avx512cd avx512bw avx512vl xsaveopt xsavec xgetbv1 xsaves cqm_llc cqm_occup_llc cqm_mbm_total cqm_mbm_local dtherm ida arat pln pts hwp hwp_act_window hwp_epp hwp_pkg_req pku ospke avx512_vnni md_clear flush_l1d arch_capabilities\n",
      "\n",
      "------------\n",
      "\n",
      "Memory Specs\n",
      "\n",
      "              total        used        free      shared  buff/cache   available\n",
      "Mem:           247G        2.0G        202G        940K         42G        243G\n",
      "Swap:           99G        178M         99G\n"
     ]
    }
   ],
   "source": [
    "%%bash\n",
    "echo \"TODAY'S DATE:\"\n",
    "date\n",
    "echo \"------------\"\n",
    "echo \"\"\n",
    "#Display operating system info\n",
    "lsb_release -a\n",
    "echo \"\"\n",
    "echo \"------------\"\n",
    "echo \"HOSTNAME: \"; hostname \n",
    "echo \"\"\n",
    "echo \"------------\"\n",
    "echo \"Computer Specs:\"\n",
    "echo \"\"\n",
    "lscpu\n",
    "echo \"\"\n",
    "echo \"------------\"\n",
    "echo \"\"\n",
    "echo \"Memory Specs\"\n",
    "echo \"\"\n",
    "free -mh"
   ]
  },
  {
   "cell_type": "markdown",
   "id": "19866f68-bfad-4a83-adb5-24e271e29d06",
   "metadata": {},
   "source": [
    "### Set variables\n",
    "- `%env` indicates a bash variable\n",
    "\n",
    "- without `%env` is Python variable"
   ]
  },
  {
   "cell_type": "code",
   "execution_count": 2,
   "id": "7293bcb0-581c-4ad2-8f1e-09dd98352aaf",
   "metadata": {},
   "outputs": [
    {
     "name": "stdout",
     "output_type": "stream",
     "text": [
      "env: data_dir=/home/shared/8TB_HDD_01/sam/data/C_virginica/genomes\n",
      "env: analysis_dir=/home/shared/8TB_HDD_01/sam/analyses/20230726-cvir-genes_bed-to-fasta\n",
      "env: genes_bed_url=https://eagle.fish.washington.edu/Cvirg_tracks\n",
      "env: ncbi_url=https://ftp.ncbi.nlm.nih.gov/genomes/all/GCF/002/022/765/GCF_002022765.2_C_virginica-3.0\n",
      "env: genes_bed=C_virginica-3.0_Gnomon_genes.bed\n",
      "env: ncbi_fasta_gz=GCF_002022765.2_C_virginica-3.0_genomic.fna.gz\n",
      "env: ncbi_fasta=GCF_002022765.2_C_virginica-3.0_genomic.fna\n",
      "env: genes_bed_md5=c8f203de591c0608b96f4299c0f847dc\n",
      "env: genes_fasta=GCF_002022765.2_C_virginica-3.0-genes.fasta\n",
      "env: gffread=/home/shared/gffread-0.12.7.Linux_x86_64/gffread\n",
      "env: samtools=/home/shared/samtools-1.12/samtools\n"
     ]
    }
   ],
   "source": [
    "# Set directories, input/output files\n",
    "%env data_dir=/home/shared/8TB_HDD_01/sam/data/C_virginica/genomes\n",
    "%env analysis_dir=/home/shared/8TB_HDD_01/sam/analyses/20230726-cvir-genes_bed-to-fasta\n",
    "analysis_dir=\"20230726-cvir-genes_bed-to-fasta\"\n",
    "\n",
    "# Base paths and/or URLs for rsyncing/dowloaoding files\n",
    "%env genes_bed_url=https://eagle.fish.washington.edu/Cvirg_tracks\n",
    "%env ncbi_url=https://ftp.ncbi.nlm.nih.gov/genomes/all/GCF/002/022/765/GCF_002022765.2_C_virginica-3.0\n",
    "\n",
    "# Input filenames\n",
    "%env genes_bed=C_virginica-3.0_Gnomon_genes.bed\n",
    "%env ncbi_fasta_gz=GCF_002022765.2_C_virginica-3.0_genomic.fna.gz\n",
    "%env ncbi_fasta=GCF_002022765.2_C_virginica-3.0_genomic.fna\n",
    "%env genes_bed_md5=c8f203de591c0608b96f4299c0f847dc\n",
    "\n",
    "# Output\n",
    "%env genes_fasta=GCF_002022765.2_C_virginica-3.0-genes.fasta\n",
    "\n",
    "# Program(s)\n",
    "%env gffread=/home/shared/gffread-0.12.7.Linux_x86_64/gffread\n",
    "%env samtools=/home/shared/samtools-1.12/samtools"
   ]
  },
  {
   "cell_type": "markdown",
   "id": "c6d88510-2749-42d8-b36c-e23e70b710ab",
   "metadata": {},
   "source": [
    "### Make analsysis directory"
   ]
  },
  {
   "cell_type": "code",
   "execution_count": 4,
   "id": "60021a7c-7f0a-445f-b3a0-206f93a19439",
   "metadata": {
    "tags": []
   },
   "outputs": [],
   "source": [
    "%%bash\n",
    "# Make analysis directory, if it doesn't exist\n",
    "mkdir --parents \"${analysis_dir}\""
   ]
  },
  {
   "cell_type": "markdown",
   "id": "56052f6d-441a-4048-8a6f-39d58552283d",
   "metadata": {},
   "source": [
    "### Download Files"
   ]
  },
  {
   "cell_type": "code",
   "execution_count": 5,
   "id": "951fc8e9-b821-4f54-848f-f9573daadc83",
   "metadata": {},
   "outputs": [
    {
     "name": "stdout",
     "output_type": "stream",
     "text": [
      "total 664M\n",
      "-rw-rw-r-- 1 sam sam 662M Dec 10  2019 GCF_002022765.2_C_virginica-3.0_genomic.fna\n",
      "-rw-rw-r-- 1 sam sam 2.0M Dec 10  2021 C_virginica-3.0_Gnomon_genes.bed\n"
     ]
    }
   ],
   "source": [
    "%%bash\n",
    "cd \"${analysis_dir}\"\n",
    "\n",
    "# Download with wget.\n",
    "# Use --quiet option to prevent wget output from printing too many lines to notebook\n",
    "# Use --continue to prevent re-downloading fie if it's already been downloaded.\n",
    "wget --quiet \\\n",
    "--continue \\\n",
    "${ncbi_url}/${ncbi_fasta_gz}\n",
    "\n",
    "wget --quiet \\\n",
    "--continue \\\n",
    "${genes_bed_url}/${genes_bed}\n",
    "\n",
    "# Unzip downloaded GFF, if it exists\n",
    "if [[ -f \"${ncbi_fasta_gz}\" ]]; then\n",
    "  gunzip \"${ncbi_fasta_gz}\"\n",
    "fi\n",
    "\n",
    "ls -ltrh"
   ]
  },
  {
   "cell_type": "markdown",
   "id": "7eb8b7c0-5927-44c5-ba79-cbee1d5a77fb",
   "metadata": {},
   "source": [
    "### Examine BED file"
   ]
  },
  {
   "cell_type": "code",
   "execution_count": 6,
   "id": "18862291-d1ec-4b62-8b22-959404538a7f",
   "metadata": {},
   "outputs": [
    {
     "name": "stdout",
     "output_type": "stream",
     "text": [
      "NC_035780.1\t13578\t14594\tgene-LOC111116054\t0\t+\n",
      "NC_035780.1\t28961\t33324\tgene-LOC111126949\t0\t+\n",
      "NC_035780.1\t43111\t66897\tgene-LOC111110729\t0\t-\n",
      "NC_035780.1\t85606\t95254\tgene-LOC111112434\t0\t-\n",
      "NC_035780.1\t99840\t106460\tgene-LOC111120752\t0\t+\n",
      "NC_035780.1\t108305\t110077\tgene-LOC111128944\t0\t-\n",
      "NC_035780.1\t151859\t157536\tgene-LOC111128953\t0\t+\n",
      "NC_035780.1\t163809\t183798\tgene-LOC111105691\t0\t-\n",
      "NC_035780.1\t164820\t166793\tgene-LOC111105685\t0\t+\n",
      "NC_035780.1\t169468\t170178\tgene-LOC111105702\t0\t-\n",
      "\n",
      "------------------------------------------------------\n",
      "\n",
      "38838 C_virginica-3.0_Gnomon_genes.bed\n"
     ]
    }
   ],
   "source": [
    "%%bash\n",
    "cd \"${analysis_dir}\"\n",
    "head -n 10 \"${genes_bed}\"\n",
    "\n",
    "echo \"\"\n",
    "echo \"------------------------------------------------------\"\n",
    "echo \"\"\n",
    "\n",
    "wc -l \"${genes_bed}\""
   ]
  },
  {
   "cell_type": "markdown",
   "id": "5f389b71-582f-41e5-b9a0-bd2491d968b0",
   "metadata": {},
   "source": [
    "### Create FastA index for faster processing"
   ]
  },
  {
   "cell_type": "code",
   "execution_count": 7,
   "id": "3dc274bf-228a-4d08-bd30-de6872a9ecc0",
   "metadata": {},
   "outputs": [
    {
     "name": "stdout",
     "output_type": "stream",
     "text": [
      "total 664M\n",
      "-rw-rw-r-- 1 sam sam 662M Dec 10  2019 GCF_002022765.2_C_virginica-3.0_genomic.fna\n",
      "-rw-rw-r-- 1 sam sam 2.0M Dec 10  2021 C_virginica-3.0_Gnomon_genes.bed\n",
      "-rw-rw-r-- 1 sam sam  398 Jul 26 07:28 GCF_002022765.2_C_virginica-3.0_genomic.fna.fai\n"
     ]
    }
   ],
   "source": [
    "%%bash\n",
    "cd \"${analysis_dir}\"\n",
    "\n",
    "${samtools} faidx \"${ncbi_fasta}\"\n",
    "\n",
    "ls -ltrh"
   ]
  },
  {
   "cell_type": "markdown",
   "id": "a718c81a-4fb3-4bab-8dc5-1466ba2452af",
   "metadata": {
    "tags": []
   },
   "source": [
    "### Create genes FastA Using [gffread](https://ccb.jhu.edu/software/stringtie/gff.shtml#gffread)"
   ]
  },
  {
   "cell_type": "code",
   "execution_count": 8,
   "id": "5e368eb2-8d11-414f-be44-f369dc3c3c6d",
   "metadata": {},
   "outputs": [
    {
     "name": "stdout",
     "output_type": "stream",
     "text": [
      "total 1.1G\n",
      "-rw-rw-r-- 1 sam sam 662M Dec 10  2019 GCF_002022765.2_C_virginica-3.0_genomic.fna\n",
      "-rw-rw-r-- 1 sam sam 2.0M Dec 10  2021 C_virginica-3.0_Gnomon_genes.bed\n",
      "-rw-rw-r-- 1 sam sam  398 Jul 26 07:28 GCF_002022765.2_C_virginica-3.0_genomic.fna.fai\n",
      "-rw-rw-r-- 1 sam sam 408M Jul 26 07:28 GCF_002022765.2_C_virginica-3.0-genes.fasta\n"
     ]
    }
   ],
   "source": [
    "%%bash\n",
    "cd \"${analysis_dir}\"\n",
    "\n",
    "${gffread} \\\n",
    "-w ${genes_fasta} \\\n",
    "-g ${data_dir}/${ncbi_fasta} \\\n",
    "${data_dir}/${genes_bed}\n",
    "\n",
    "ls -ltrh"
   ]
  },
  {
   "cell_type": "markdown",
   "id": "25394bfd-1b7b-42a9-a99a-4bb4c977926b",
   "metadata": {},
   "source": [
    "#### Peek at header lines in FastA"
   ]
  },
  {
   "cell_type": "code",
   "execution_count": 9,
   "id": "f3d9c951-643a-4721-b5b7-95ba7bb496ff",
   "metadata": {
    "tags": []
   },
   "outputs": [
    {
     "name": "stdout",
     "output_type": "stream",
     "text": [
      ">gene-LOC111116054\n",
      ">gene-LOC111126949\n",
      ">gene-LOC111110729\n",
      ">gene-LOC111112434\n",
      ">gene-LOC111120752\n",
      ">gene-LOC111128944\n",
      ">gene-LOC111128953\n",
      ">gene-LOC111105691\n",
      ">gene-LOC111105685\n",
      ">gene-LOC111105702\n"
     ]
    }
   ],
   "source": [
    "%%bash\n",
    "cd \"${analysis_dir}\"\n",
    "\n",
    "grep \"^>\" ${genes_fasta} | head -n 10"
   ]
  },
  {
   "cell_type": "markdown",
   "id": "d40dadc7-7dbd-40ca-9e2c-80f8d93568e4",
   "metadata": {},
   "source": [
    "#### Compare number of entries in BED file vs. new genes FastA"
   ]
  },
  {
   "cell_type": "code",
   "execution_count": 10,
   "id": "c24d1cd0-ac07-42c4-810f-008cf42f7fd5",
   "metadata": {},
   "outputs": [
    {
     "name": "stdout",
     "output_type": "stream",
     "text": [
      "38838 /home/shared/8TB_HDD_01/sam/data/C_virginica/genomes/C_virginica-3.0_Gnomon_genes.bed\n",
      "\n",
      "\n",
      "38838\n"
     ]
    }
   ],
   "source": [
    "%%bash\n",
    "cd \"${analysis_dir}\"\n",
    "\n",
    "wc -l ${data_dir}/${genes_bed}\n",
    "\n",
    "echo \"\"\n",
    "echo \"\"\n",
    "\n",
    "grep --count \"^>\" ${genes_fasta}\n"
   ]
  },
  {
   "cell_type": "markdown",
   "id": "a07fc346-d5c6-486b-81ff-931694a6b420",
   "metadata": {},
   "source": [
    "### Create FastA index"
   ]
  },
  {
   "cell_type": "code",
   "execution_count": 11,
   "id": "23f8f81e-c88e-439c-9ce8-657aab58ac63",
   "metadata": {
    "tags": []
   },
   "outputs": [
    {
     "name": "stdout",
     "output_type": "stream",
     "text": [
      "total 1.1G\n",
      "-rw-rw-r-- 1 sam sam 662M Dec 10  2019 GCF_002022765.2_C_virginica-3.0_genomic.fna\n",
      "-rw-rw-r-- 1 sam sam 2.0M Dec 10  2021 C_virginica-3.0_Gnomon_genes.bed\n",
      "-rw-rw-r-- 1 sam sam  398 Jul 26 07:28 GCF_002022765.2_C_virginica-3.0_genomic.fna.fai\n",
      "-rw-rw-r-- 1 sam sam 408M Jul 26 07:28 GCF_002022765.2_C_virginica-3.0-genes.fasta\n",
      "-rw-rw-r-- 1 sam sam 1.5M Jul 26 07:30 GCF_002022765.2_C_virginica-3.0-genes.fasta.fai\n"
     ]
    }
   ],
   "source": [
    "%%bash\n",
    "cd \"${analysis_dir}\"\n",
    "\n",
    "${samtools} faidx ${genes_fasta}\n",
    "\n",
    "ls -ltrh"
   ]
  },
  {
   "cell_type": "markdown",
   "id": "c0b01c2f-2c68-4821-ae0e-f19c43231119",
   "metadata": {},
   "source": [
    "### Generate checksums"
   ]
  },
  {
   "cell_type": "code",
   "execution_count": 12,
   "id": "9a8e9dcb-eb74-4af4-8924-0553fe6f3596",
   "metadata": {},
   "outputs": [
    {
     "name": "stdout",
     "output_type": "stream",
     "text": [
      "c8f203de591c0608b96f4299c0f847dc  C_virginica-3.0_Gnomon_genes.bed\n",
      "a0546fd42642673d80b3071089a6711b  GCF_002022765.2_C_virginica-3.0-genes.fasta\n",
      "e69ecc217c2e695a6dab7e599984d592  GCF_002022765.2_C_virginica-3.0-genes.fasta.fai\n",
      "f9135e323583dc77fc726e9df2677a32  GCF_002022765.2_C_virginica-3.0_genomic.fna\n",
      "e564100fa0aba3d09f2de8d70f531b2c  GCF_002022765.2_C_virginica-3.0_genomic.fna.fai\n"
     ]
    }
   ],
   "source": [
    "%%bash\n",
    "cd \"${analysis_dir}\"\n",
    "\n",
    "for file in *\n",
    "do\n",
    "  md5sum \"${file}\" | tee --append checksums.md5\n",
    "done"
   ]
  },
  {
   "cell_type": "markdown",
   "id": "784f6a98-070c-430d-a26c-1a0fa0a3a647",
   "metadata": {},
   "source": [
    "### Remove unneeded files"
   ]
  },
  {
   "cell_type": "code",
   "execution_count": 13,
   "id": "aae7cb6c-3d7e-4b50-90cb-acdb5e73bcbd",
   "metadata": {
    "tags": []
   },
   "outputs": [
    {
     "name": "stdout",
     "output_type": "stream",
     "text": [
      "total 409M\n",
      "-rw-rw-r-- 1 sam sam 408M Jul 26 07:28 GCF_002022765.2_C_virginica-3.0-genes.fasta\n",
      "-rw-rw-r-- 1 sam sam 1.5M Jul 26 07:30 GCF_002022765.2_C_virginica-3.0-genes.fasta.fai\n",
      "-rw-rw-r-- 1 sam sam  387 Jul 26 07:30 checksums.md5\n"
     ]
    }
   ],
   "source": [
    "%%bash\n",
    "cd \"${analysis_dir}\"\n",
    "\n",
    "rm ${ncbi_fasta} ${genes_bed} ${ncbi_fasta}.fai\n",
    "\n",
    "ls -ltrh"
   ]
  }
 ],
 "metadata": {
  "kernelspec": {
   "display_name": "Python 3 (ipykernel)",
   "language": "python",
   "name": "python3"
  },
  "language_info": {
   "codemirror_mode": {
    "name": "ipython",
    "version": 3
   },
   "file_extension": ".py",
   "mimetype": "text/x-python",
   "name": "python",
   "nbconvert_exporter": "python",
   "pygments_lexer": "ipython3",
   "version": "3.10.10"
  }
 },
 "nbformat": 4,
 "nbformat_minor": 5
}
