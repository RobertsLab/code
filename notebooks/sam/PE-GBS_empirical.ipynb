{
 "metadata": {
  "name": "",
  "signature": "sha256:92294c5c0c897aecf6b97a46362eb0334053fbb5f5a82903db02b17af81288bc"
 },
 "nbformat": 3,
 "nbformat_minor": 0,
 "worksheets": [
  {
   "cells": [
    {
     "cell_type": "markdown",
     "metadata": {},
     "source": [
      "# Example PE-GBS (w/ merged reads) notebook\n",
      "\n",
      "Paired-end GBS (or similarly, paired Ez-RAD) data may commonly contain first and second reads that overlap to some degree and therefore should be merged. This notebook will outline how to analyze such data in _pyRAD_ (v.3.03 or newer). I will demonstrate this example using an empirical data set of mine. To begin, we will create an empty directory within our current directory in which to perform the assembly."
     ]
    },
    {
     "cell_type": "code",
     "collapsed": false,
     "input": [
      "%%bash\n",
      "mkdir -p analysis_pyrad"
     ],
     "language": "python",
     "metadata": {},
     "outputs": [],
     "prompt_number": 5
    },
    {
     "cell_type": "markdown",
     "metadata": {},
     "source": [
      "Next we create an empty params file by calling pyRAD with the -n option."
     ]
    },
    {
     "cell_type": "code",
     "collapsed": false,
     "input": [
      "%%bash\n",
      "pyrad -n"
     ],
     "language": "python",
     "metadata": {},
     "outputs": [
      {
       "output_type": "stream",
       "stream": "stderr",
       "text": [
        "\tnew params.txt file created\n"
       ]
      }
     ],
     "prompt_number": 82
    },
    {
     "cell_type": "markdown",
     "metadata": {},
     "source": [
      "## Enter params file arguments"
     ]
    },
    {
     "cell_type": "markdown",
     "metadata": {},
     "source": [
      "Then we enter some arguments into the params file, which can be done using any text editor. I use the script below to automate it here. Some important arguments for dealing with PE-GBS data in particular include the following:  \n",
      "\n",
      "+ Set the correct datatype. In the case of this analysis, we will use 'pairgbs' for de-multiplexing in step 1, but then switch it to 'merged' for steps 2-7 after we merge the paired reads.  \n",
      "\n",
      "+ The filter setting (param 21) is not needed in this case because we will be using an external read merging program that applies this filtering. \n",
      "\n",
      "+ We will, however, still probably want to trim the overhanging edges of reads (param 29), which helps to remove barcodes or adapters that were missed. \n",
      "\n",
      "+ It can also be helpful with this data type to use a low mindepth setting in conjunction with majority rule consensus base calls (param 31). This will tell pyrad to make statistical base calls for all sites with depth >mindepth, but to make majority rule base calls at sites with depth lower than mindepth, but higher than the majority rule minimum depth. I first run the analysis with the option turned off, and then at the end of the tutorial show the difference with it turned on. "
     ]
    },
    {
     "cell_type": "code",
     "collapsed": false,
     "input": [
      "%%bash\n",
      "sed -i '/## 1. /c\\analysis_pyrad/      ## 1. working directory   ' params.txt\n",
      "sed -i '/## 2. /c\\/home/deren/Longiflorae/*.gz   ## 2. working directory     ' params.txt\n",
      "sed -i '/## 3. /c\\/home/deren/barcodes/cyatho_longi.barcodes  ## 3. barcodes ' params.txt\n",
      "sed -i '/## 7. /c\\12                   ## 7. N processors   ' params.txt\n",
      "sed -i '/## 9. /c\\6                    ## 9. NQual     ' params.txt\n",
      "sed -i '/## 10. /c\\.85                 ## 10. Wclust     ' params.txt\n",
      "sed -i '/## 11. /c\\pairgbs             ## 11. datatype   ' params.txt\n",
      "sed -i '/## 14. /c\\c85d6m4p3           ## 14. output prefix  ' params.txt\n",
      "sed -i '/## 29./c\\1,1                  ## 29. trim edges ' params.txt\n",
      "sed -i '/## 30./c\\p                    ## 30. output formats ' params.txt"
     ],
     "language": "python",
     "metadata": {},
     "outputs": [],
     "prompt_number": 83
    },
    {
     "cell_type": "markdown",
     "metadata": {},
     "source": [
      "#### Let's view the params file"
     ]
    },
    {
     "cell_type": "code",
     "collapsed": false,
     "input": [
      "cat params.txt"
     ],
     "language": "python",
     "metadata": {},
     "outputs": [
      {
       "output_type": "stream",
       "stream": "stdout",
       "text": [
        "==** parameter inputs for pyRAD version 3.0.3  **======================== affected step ==\r\n",
        "analysis_pyrad/      ## 1. working directory   \r\n",
        "/home/deren/Longiflorae/*.gz   ## 2. working directory     \r\n",
        "/home/deren/barcodes/cyatho_longi.barcodes  ## 3. barcodes \r\n",
        "vsearch                     ## 4. command (or path) to call vsearch (or usearch)    (s3,s6)\r\n",
        "muscle                      ## 5. command (or path) to call muscle                  (s3,s7)\r\n",
        "TGCAG                       ## 6. Restriction overhang (e.g., C|TGCAG -> TGCAG)     (s1,s2)\r\n",
        "12                   ## 7. N processors   \r\n",
        "6                           ## 8. Mindepth: min coverage for a cluster              (s4,s5)\r\n",
        "6                    ## 9. NQual     \r\n",
        ".85                 ## 10. Wclust     \r\n",
        "pairgbs             ## 11. datatype   \r\n",
        "4                           ## 12. MinCov: min samples in a final locus             (s7)\r\n",
        "3                           ## 13. MaxSH: max inds with shared hetero site          (s7)\r\n",
        "c85d6m4p3           ## 14. output prefix  \r\n",
        "==== optional params below this line ===================================  affected step ==\r\n",
        "                       ## 15.opt.: select subset (prefix* only selector)            (s2-s7)\r\n",
        "                       ## 16.opt.: add-on (outgroup) taxa (list or prefix*)         (s6,s7)\r\n",
        "                       ## 17.opt.: exclude taxa (list or prefix*)                   (s7)\r\n",
        "                       ## 18.opt.: loc. of de-multiplexed data                      (s2)\r\n",
        "                       ## 19.opt.: maxM: N mismatches in barcodes (def= 1)          (s1)\r\n",
        "                       ## 20.opt.: phred Qscore offset (def= 33)                    (s2)\r\n",
        "                       ## 21.opt.: filter: def=0=NQual 1=NQual+adapters. 2=strict   (s2)\r\n",
        "                       ## 22.opt.: a priori E,H (def= 0.001,0.01, if not estimated) (s5)\r\n",
        "                       ## 23.opt.: maxN: max Ns in a cons seq (def=5)               (s5)\r\n",
        "                       ## 24.opt.: maxH: max heterozyg. sites in cons seq (def=5)   (s5)\r\n",
        "                       ## 25.opt.: ploidy: max alleles in cons seq (def=2;see docs) (s4,s5)\r\n",
        "                       ## 26.opt.: maxSNPs: (def=100). Paired (def=100,100)         (s7)\r\n",
        "                       ## 27.opt.: maxIndels: within-clust,across-clust (def. 3,99) (s3,s7)\r\n",
        "                       ## 28.opt.: random number seed (def. 112233)              (s3,s6,s7)\r\n",
        "1,1                  ## 29. trim edges \r\n",
        "p                    ## 30. output formats \r\n",
        "                       ## 31.opt.: maj. base call at depth>x<mindepth (def.x=mindepth) (s5)\r\n",
        "                       ## 32.opt.: keep trimmed reads (def=0). Enter min length.    (s2)\r\n",
        "                       ## 33.opt.: max stack size (int), def= max(500,mean+2*SD)    (s3)\r\n",
        "                       ## 34.opt.: minDerep: exclude dereps with <= N copies, def=1 (s3)\r\n",
        "                       ## 35.opt.: use hierarchical clustering (def.=0, 1=yes)      (s6)\r\n",
        "                       ## 36.opt.: repeat masking (def.=1='dust' method, 0=no)      (s3,s6)\r\n",
        "                       ## 37.opt.: vsearch max threads per job (def.=6; see docs)   (s3,s6)\r\n",
        "==== optional: list group/clade assignments below this line (see docs) ==================\r\n"
       ]
      }
     ],
     "prompt_number": 84
    },
    {
     "cell_type": "markdown",
     "metadata": {},
     "source": [
      "## Step 1: De-multiplex reads"
     ]
    },
    {
     "cell_type": "code",
     "collapsed": false,
     "input": [
      "%%bash\n",
      "pyrad -p params.txt -s 1"
     ],
     "language": "python",
     "metadata": {},
     "outputs": [
      {
       "output_type": "stream",
       "stream": "stderr",
       "text": [
        "\n",
        "\n",
        "     ------------------------------------------------------------\n",
        "      pyRAD : RADseq for phylogenetics & introgression analyses\n",
        "     ------------------------------------------------------------\n",
        "\n",
        "\n",
        "\tstep 1: sorting reads by barcode\n",
        "\t ..........................................................."
       ]
      }
     ],
     "prompt_number": 19
    },
    {
     "cell_type": "markdown",
     "metadata": {},
     "source": [
      "#### Let's look at the first 100 lines of the stats output for demultiplexing\n",
      "It looks like most reads from each file were matched to a barcode."
     ]
    },
    {
     "cell_type": "code",
     "collapsed": false,
     "input": [
      "%%bash\n",
      "head -n 100 analysis_pyrad/stats/s1.sorting.txt"
     ],
     "language": "python",
     "metadata": {},
     "outputs": [
      {
       "output_type": "stream",
       "stream": "stdout",
       "text": [
        "file    \tNreads\tcut_found\tbar_matched\n",
        "lane2_NoIndex_L002_049.fastq.gz\t4000000\t3721343\t3563126\n",
        "lane2_NoIndex_L002_039.fastq.gz\t4000000\t3775744\t3746367\n",
        "lane2_NoIndex_L002_038.fastq.gz\t4000000\t3749702\t3712199\n",
        "lane2_NoIndex_L002_008.fastq.gz\t4000000\t3788251\t3763415\n",
        "lane2_NoIndex_L002_030.fastq.gz\t4000000\t3756116\t3721905\n",
        "lane2_NoIndex_L002_042.fastq.gz\t4000000\t3821669\t3761365\n",
        "lane2_NoIndex_L002_027.fastq.gz\t4000000\t3809029\t3786687\n",
        "lane2_NoIndex_L002_046.fastq.gz\t4000000\t3800963\t3717126\n",
        "lane2_NoIndex_L002_037.fastq.gz\t4000000\t3746059\t3721532\n",
        "lane2_NoIndex_L002_045.fastq.gz\t4000000\t3698917\t3593579\n",
        "lane2_NoIndex_L002_019.fastq.gz\t4000000\t3778683\t3750877\n",
        "lane2_NoIndex_L002_044.fastq.gz\t4000000\t3751756\t3661419\n",
        "lane2_NoIndex_L002_058.fastq.gz\t4000000\t3755612\t3729931\n",
        "lane2_NoIndex_L002_032.fastq.gz\t4000000\t3823466\t3804376\n",
        "lane2_NoIndex_L002_025.fastq.gz\t4000000\t3821273\t3800999\n",
        "lane2_NoIndex_L002_055.fastq.gz\t4000000\t3789040\t3767778\n",
        "lane2_NoIndex_L002_023.fastq.gz\t4000000\t3832294\t3814024\n",
        "lane2_NoIndex_L002_014.fastq.gz\t4000000\t3832280\t3812920\n",
        "lane2_NoIndex_L002_013.fastq.gz\t4000000\t3835097\t3816100\n",
        "lane2_NoIndex_L002_031.fastq.gz\t4000000\t3827911\t3808997\n",
        "lane2_NoIndex_L002_011.fastq.gz\t4000000\t3845888\t3828585\n",
        "lane2_NoIndex_L002_022.fastq.gz\t4000000\t3837573\t3819811\n",
        "lane2_NoIndex_L002_024.fastq.gz\t4000000\t3829959\t3810628\n",
        "lane2_NoIndex_L002_034.fastq.gz\t4000000\t3611235\t3590798\n",
        "lane2_NoIndex_L002_056.fastq.gz\t4000000\t3802234\t3779975\n",
        "lane2_NoIndex_L002_026.fastq.gz\t4000000\t3819201\t3799143\n",
        "lane2_NoIndex_L002_021.fastq.gz\t4000000\t3835070\t3816075\n",
        "lane2_NoIndex_L002_052.fastq.gz\t4000000\t3828882\t3810331\n",
        "lane2_NoIndex_L002_041.fastq.gz\t4000000\t3835218\t3791068\n",
        "lane2_NoIndex_L002_051.fastq.gz\t4000000\t3833143\t3814474\n",
        "lane2_NoIndex_L002_047.fastq.gz\t4000000\t3759517\t3607421\n",
        "lane2_NoIndex_L002_059.fastq.gz\t4000000\t3757946\t3719770\n",
        "lane2_NoIndex_L002_054.fastq.gz\t4000000\t3819129\t3798453\n",
        "lane2_NoIndex_L002_028.fastq.gz\t4000000\t3795559\t3771229\n",
        "lane2_NoIndex_L002_048.fastq.gz\t4000000\t3748548\t3623691\n",
        "lane2_NoIndex_L002_035.fastq.gz\t4000000\t3266305\t3243997\n",
        "lane2_NoIndex_L002_043.fastq.gz\t4000000\t3817002\t3744305\n",
        "lane2_NoIndex_L002_057.fastq.gz\t4000000\t3743088\t3719312\n",
        "lane2_NoIndex_L002_018.fastq.gz\t4000000\t3794176\t3769286\n",
        "lane2_NoIndex_L002_017.fastq.gz\t4000000\t3807601\t3784147\n",
        "lane2_NoIndex_L002_050.fastq.gz\t4000000\t3745707\t3651533\n",
        "lane2_NoIndex_L002_033.fastq.gz\t4000000\t3821688\t3802696\n",
        "lane2_NoIndex_L002_040.fastq.gz\t4000000\t3761738\t3722996\n",
        "lane2_NoIndex_L002_053.fastq.gz\t4000000\t3822961\t3803422\n",
        "lane2_NoIndex_L002_029.fastq.gz\t4000000\t3781432\t3755276\n",
        "lane2_NoIndex_L002_016.fastq.gz\t4000000\t3822901\t3802934\n",
        "lane2_NoIndex_L002_036.fastq.gz\t4000000\t3805280\t3783717\n",
        "lane2_NoIndex_L002_020.fastq.gz\t4000000\t3732223\t3681151\n",
        "lane2_NoIndex_L002_005.fastq.gz\t4000000\t3814967\t3793880\n",
        "lane2_NoIndex_L002_006.fastq.gz\t4000000\t3812538\t3792209\n",
        "lane2_NoIndex_L002_001.fastq.gz\t4000000\t3838930\t3821090\n",
        "lane2_NoIndex_L002_007.fastq.gz\t4000000\t3799427\t3776091\n",
        "lane2_NoIndex_L002_015.fastq.gz\t4000000\t3822598\t3802203\n",
        "lane2_NoIndex_L002_004.fastq.gz\t4000000\t3823816\t3803572\n",
        "lane2_NoIndex_L002_010.fastq.gz\t4000000\t3761201\t3730496\n",
        "lane2_NoIndex_L002_009.fastq.gz\t4000000\t3777890\t3750566\n",
        "lane2_NoIndex_L002_002.fastq.gz\t4000000\t3826291\t3807448\n",
        "lane2_NoIndex_L002_003.fastq.gz\t4000000\t3824097\t3804683\n",
        "lane2_NoIndex_L002_012.fastq.gz\t4000000\t3838714\t3820626\n",
        "\n",
        "\n",
        "sample\ttrue_bar\tobs_bars\tN_obs\n",
        "d31733    \tAAAAGTT    \tAAAAGTT\t5114026    \n",
        "d31733    \tAAAAGTT    \tAANAGTT\t813193     \n",
        "d31733    \tAAAAGTT    \tAAGAGTT\t90500      \n",
        "d31733    \tAAAAGTT    \tAACAGTT\t57040      \n",
        "d31733    \tAAAAGTT    \tAAAAGGT\t19502      \n",
        "d31733    \tAAAAGTT    \tAAAAGAT\t19214      \n",
        "d31733    \tAAAAGTT    \tAATAGTT\t13373      \n",
        "d31733    \tAAAAGTT    \tAAAGGTT\t9539       \n",
        "d31733    \tAAAAGTT    \tAAAAGCT\t8946       \n",
        "d31733    \tAAAAGTT    \tGAAAGTT\t8772       \n",
        "d31733    \tAAAAGTT    \tNAAAGTT\t8297       \n",
        "d31733    \tAAAAGTT    \tAAAAGTC\t7090       \n",
        "d31733    \tAAAAGTT    \tAAAAATT\t6140       \n",
        "d31733    \tAAAAGTT    \tAGAAGTT\t6042       \n",
        "d31733    \tAAAAGTT    \tAAAATTT\t4801       \n",
        "d31733    \tAAAAGTT    \tCAAAGTT\t4089       \n",
        "d31733    \tAAAAGTT    \tAAAAGTG\t3887       \n",
        "d31733    \tAAAAGTT    \tAAACGTT\t3255       \n",
        "d31733    \tAAAAGTT    \tACAAGTT\t2946       \n",
        "d31733    \tAAAAGTT    \tTAAAGTT\t1997       \n",
        "d31733    \tAAAAGTT    \tAAAAGTA\t1857       \n",
        "d31733    \tAAAAGTT    \tATAAGTT\t1145       \n",
        "d31733    \tAAAAGTT    \tAAATGTT\t994        \n",
        "d31733    \tAAAAGTT    \tAAAACTT\t896        \n",
        "d31733    \tAAAAGTT    \tANAAGTT\t512        \n",
        "d33291    \tAACGCCT    \tAACGCCT\t949865     \n",
        "d33291    \tAACGCCT    \tAANGCCT\t150664     \n",
        "d33291    \tAACGCCT    \tAAGGCCT\t18149      \n",
        "d33291    \tAACGCCT    \tAAAGCCT\t14152      \n",
        "d33291    \tAACGCCT    \tAATGCCT\t3499       \n",
        "d33291    \tAACGCCT    \tAACGACT\t2636       \n",
        "d33291    \tAACGCCT    \tAACGCTT\t2091       \n",
        "d33291    \tAACGCCT    \tAACGTCT\t2053       \n",
        "d33291    \tAACGCCT    \tGACGCCT\t1775       \n",
        "d33291    \tAACGCCT    \tAACGCCC\t1714       \n",
        "d33291    \tAACGCCT    \tAGCGCCT\t1543       \n",
        "d33291    \tAACGCCT    \tNACGCCT\t1474       \n"
       ]
      }
     ],
     "prompt_number": 20
    },
    {
     "cell_type": "markdown",
     "metadata": {},
     "source": [
      "## Merge paired-reads\n",
      "For this we will use the program [__PEAR__](https://github.com/xflouris/PEAR). This step is very important. I can pretty much assure you that you will have many paired end reads in your library that overlap, and if you do not merge these reads they can really mess up your analysis. In this case the vast majority of paired reads are overlapping (~80%), and in fact, the merged reads are the only portion of the data that we will be using for analysis.  \n",
      "\n",
      "The first thing we have to do is unzip the reads if they are gzipped. If you demultiplexed your data in pyrad they will be in the fastq/ directory. "
     ]
    },
    {
     "cell_type": "code",
     "collapsed": false,
     "input": [
      "%%bash\n",
      "## For this example I subselect only the samples from \n",
      "## this library that start with the letter 'd'\n",
      "gunzip analysis_pyrad/fastq/d*.gz"
     ],
     "language": "python",
     "metadata": {},
     "outputs": [],
     "prompt_number": 21
    },
    {
     "cell_type": "markdown",
     "metadata": {},
     "source": [
      "I prefer using a stringent filter setting, including the `-q` option which trims parts of the read that are low quality. This often results in removing all reads that are not merged. You can assemble merged and non-merged reads separately, as described in the 'non-merged PE-GBS tutorial', but __here we will focus on just analyzing the merged reads.__"
     ]
    },
    {
     "cell_type": "code",
     "collapsed": false,
     "input": [
      "%%bash\n",
      "for gfile in analysis_pyrad/fastq/*_R1.fq;\n",
      "    do pear -f $gfile \\\n",
      "            -r ${gfile/_R1.fq/_R2.fq} \\\n",
      "            -o ${gfile/_R1.fq/} \\\n",
      "            -n 33 \\\n",
      "            -t 33 \\\n",
      "            -q 10 \\\n",
      "            -j 20  >> pear.log 2>&1;\n",
      "done"
     ],
     "language": "python",
     "metadata": {},
     "outputs": [],
     "prompt_number": 35
    },
    {
     "cell_type": "markdown",
     "metadata": {},
     "source": [
      "### Set the data location to the de-multiplexed & merged data "
     ]
    },
    {
     "cell_type": "code",
     "collapsed": false,
     "input": [
      "%%bash\n",
      "## set location of demultiplexed data that are 'pear' filtered\n",
      "sed -i '/## 18./c\\analysis_pyrad/fastq/*.assembled.fastq ## 18. demulti data loc ' ./params.txt"
     ],
     "language": "python",
     "metadata": {},
     "outputs": [],
     "prompt_number": 37
    },
    {
     "cell_type": "markdown",
     "metadata": {},
     "source": [
      "### Set the datatype to \"merged\""
     ]
    },
    {
     "cell_type": "code",
     "collapsed": false,
     "input": [
      "%%bash\n",
      "sed -i '/## 11./c\\merged            ## 11. data type ' ./params.txt"
     ],
     "language": "python",
     "metadata": {},
     "outputs": [],
     "prompt_number": 46
    },
    {
     "cell_type": "markdown",
     "metadata": {},
     "source": [
      "## Step 2: Quality filtering"
     ]
    },
    {
     "cell_type": "code",
     "collapsed": false,
     "input": [
      "%%bash\n",
      "pyrad -p params.txt -s 2"
     ],
     "language": "python",
     "metadata": {},
     "outputs": [
      {
       "output_type": "stream",
       "stream": "stderr",
       "text": [
        "\n",
        "\n",
        "     ------------------------------------------------------------\n",
        "      pyRAD : RADseq for phylogenetics & introgression analyses\n",
        "     ------------------------------------------------------------\n",
        "\n",
        "\tsorted .fastq from analysis_pyrad/fastq/*.assembled.fastq being used\n",
        "\tstep 2: editing raw reads \n",
        "\t........................"
       ]
      }
     ],
     "prompt_number": 50
    },
    {
     "cell_type": "markdown",
     "metadata": {},
     "source": [
      "#### Let's take a look at the results"
     ]
    },
    {
     "cell_type": "code",
     "collapsed": false,
     "input": [
      "%%bash\n",
      "cat analysis_pyrad/stats/s2.rawedit.txt"
     ],
     "language": "python",
     "metadata": {},
     "outputs": [
      {
       "output_type": "stream",
       "stream": "stdout",
       "text": [
        "sample \tNreads\tpassed\tpassed.w.trim\tpassed.total\n",
        "d19long1.assembled\t2973258\t2865913\t0\t2865913\n",
        "d30181.assembled\t4178962\t4048613\t0\t4048613\n",
        "d30695.assembled\t4435144\t4249855\t0\t4249855\n",
        "d31733.assembled\t4757784\t4598646\t0\t4598646\n",
        "d33291.assembled\t847503\t819072\t0\t819072\n",
        "d34041.assembled\t988252\t969387\t0\t969387\n",
        "d35178.assembled\t2479633\t2429555\t0\t2429555\n",
        "d35320.assembled\t1308443\t1269046\t0\t1269046\n",
        "d35371.assembled\t572512\t559953\t0\t559953\n",
        "d35422.assembled\t3069039\t3016381\t0\t3016381\n",
        "d39103.assembled\t2629656\t2523785\t0\t2523785\n",
        "d39104.assembled\t3415956\t3353178\t0\t3353178\n",
        "d39114.assembled\t2215501\t2133972\t0\t2133972\n",
        "d39187.assembled\t907321\t875889\t0\t875889\n",
        "d39253.assembled\t5665909\t5444296\t0\t5444296\n",
        "d39404.assembled\t2567688\t2447216\t0\t2447216\n",
        "d39531.assembled\t3254639\t3128372\t0\t3128372\n",
        "d39968.assembled\t3561187\t3441543\t0\t3441543\n",
        "d40328.assembled\t1651265\t1601896\t0\t1601896\n",
        "d41058.assembled\t2444960\t2395622\t0\t2395622\n",
        "d41237.assembled\t1847033\t1815168\t0\t1815168\n",
        "d41389.assembled\t2491305\t2433467\t0\t2433467\n",
        "d41732.assembled\t2344042\t2291187\t0\t2291187\n",
        "decor21.assembled\t5056601\t4926349\t0\t4926349\n",
        "\n",
        "    Nreads = total number of reads for a sample\n",
        "    passed = retained reads that passed quality filtering at full length\n",
        "    passed.w.trim= retained reads that were trimmed due to detection of adapters\n",
        "    passed.total  = total kept reads of sufficient length\n",
        "    note: you can set the option in params file to include trimmed reads of xx length. \n"
       ]
      }
     ],
     "prompt_number": 51
    },
    {
     "cell_type": "markdown",
     "metadata": {},
     "source": [
      "## Step 3: Clustering"
     ]
    },
    {
     "cell_type": "code",
     "collapsed": false,
     "input": [
      "%%bash\n",
      "pyrad -p params.txt -s 3"
     ],
     "language": "python",
     "metadata": {},
     "outputs": []
    },
    {
     "cell_type": "markdown",
     "metadata": {},
     "source": [
      "#### Let's take a look at the results"
     ]
    },
    {
     "cell_type": "code",
     "collapsed": false,
     "input": [
      "%%bash\n",
      "cat analysis_pyrad/stats/s3 "
     ],
     "language": "python",
     "metadata": {},
     "outputs": [],
     "prompt_number": 51
    },
    {
     "cell_type": "markdown",
     "metadata": {},
     "source": [
      "#### and let's look at an example cluster file"
     ]
    },
    {
     "cell_type": "code",
     "collapsed": false,
     "input": [
      "%%bash\n",
      "gzip -cd analysis_pyrad/clust.85/d35422.assembled.clustS.gz | head -n 100 | cut -b 1-80"
     ],
     "language": "python",
     "metadata": {},
     "outputs": [
      {
       "output_type": "stream",
       "stream": "stdout",
       "text": [
        ">d35422.assembled_2120_r1;size=51;\n",
        "TGCAGCGCTACCTGCCCGATCTTTTCGAGAAGCGGACGAACTGAGAATGAACCTGCA\n",
        ">d35422.assembled_274175_r1;size=15;+\n",
        "TGCAGCGCTACCTGCCCGATCTGTTCGAGAAGCGGACGAACTGAGAATGAACCTGCA\n",
        ">d35422.assembled_2265219_r1;size=2;+\n",
        "TGCAGCGCTACCTGCCGGATCTGTTCGAGAAGCGGACGAACTGAGAATGAACCTGCA\n",
        ">d35422.assembled_216079_r1;size=1;+\n",
        "TGCAGCGCTACCTGCCCGATCTGCTCGAGAAGCGGACGAACTGAGAATGAACCTGCA\n",
        ">d35422.assembled_2495995_r1;size=1;+\n",
        "TGCAGCGCTACCTGCCCGGTCTTTTCGAGAAGCGGACGAACTGAGAATGAACCTGCA\n",
        ">d35422.assembled_590416_r1;size=1;+\n",
        "TGCAGCGCTATCTGCCCGATCTTTTCGAGAAGCGGACGAACTGAGAATGAACCTGCA\n",
        ">d35422.assembled_1947641_r1;size=1;+\n",
        "TGCAGCGCTACCTGCCCGATCTTTTCGAGAAGCGGACGAGCTGAGAATGAACCTGCA\n",
        ">d35422.assembled_1601389_r1;size=1;+\n",
        "TGCAGCGCTACCTGCCGGATCTGTTCGAGAAGCGGACGAACTGAGAATGACACTGCA\n",
        ">d35422.assembled_190367_r1;size=1;+\n",
        "TGCAGCGCTACCTGCCCGATCCTTTCGAGAAGCGGACGAACTGAGAATGAACCTGCA\n",
        ">d35422.assembled_2631365_r1;size=1;+\n",
        "TGCAGCGCTACCTGCCCGATCTTTTCGAGAAGCGGACGAACTGAGAATGAACCTGCG\n",
        ">d35422.assembled_126737_r1;size=1;+\n",
        "TGCAGCGCTACCTGCCCGATCTTTTCGAGAAGCGGACGAACTGAGAATGAACCTNCA\n",
        ">d35422.assembled_288692_r1;size=1;+\n",
        "TGCAGCGCTACCTGCCGGATCNGTTCGAGAAGCGGACGAACTGAGAATGACACTGCA\n",
        ">d35422.assembled_2194406_r1;size=1;+\n",
        "TGCAGCGCTANCTNCCCGATCTTTTCGAGAAGCGGANNANCTGAGAATGAACCTGCA\n",
        ">d35422.assembled_831862_r1;size=1;+\n",
        "TGCAGCGCTACCTGNCCGATCTTTTCGAGAAGCGGACGAACTGAGAATGAACCTGCA\n",
        "//\n",
        "//\n",
        ">d35422.assembled_61639_r1;size=24;\n",
        "TGCAGCGCCAGTACGAGCAGGCCGAGATGGGCCTGCGCCAGTTCATCCAGTCGCATCCCCGCGACGCCCTGGTGCCGGCC\n",
        ">d35422.assembled_825340_r1;size=8;+\n",
        "TGCAGCGCCAGTACGAGCAGGCCGAGATGGGCCTGCGTCAGTTCATCCAGTCGCATCCGCGCGACGCCCTGGTGCCGTCC\n",
        ">d35422.assembled_88436_r1;size=2;+\n",
        "TGCAGCGCCAGTACGAGCAGGCCGAGATGGGCCTGCGCCAGTTCATCCAGTCGCATCCCCGCGACGCCCTGGTGCCGGCC\n",
        ">d35422.assembled_354389_r1;size=2;+\n",
        "TGCAGCGCCAGTACGAGCAGGCCGAGATGGGCCTGCGCCAGTTCATCCAGTCGCATCCCCGCGACGCCCTGGTGCCGGCC\n",
        ">d35422.assembled_2229078_r1;size=1;+\n",
        "TGCAGCGCCAGTACGAGCAGGCCGAGATGGGCCTACGTCAGTTCATCCAGTCGCATCCGCGCGACTCCCTGGTGCCGTCC\n",
        ">d35422.assembled_1405977_r1;size=1;+\n",
        "TGCAGCGCCAGTACGAGCAGGCCGAGATGGGCCTGCGCCAGTTCATNCAGTCGCANCCCCGCGACGCCCTGGTGCCGNCC\n",
        ">d35422.assembled_2738651_r1;size=1;+\n",
        "TGCAGCGCCAGTACGAGCAGGCCGAGATGGGCCTGCGCCAGTTCATCCAGTCGCATCCCCGCGACGCCCTGGTGCCGGCC\n",
        ">d35422.assembled_2565401_r1;size=1;+\n",
        "TGCAGCGTCAGTACGAGCTGGCGGAGATGGGCCTGCGTCAGTTCATCCAGTCCCATCCGCGTGATGCACTGGTACCGGCC\n",
        ">d35422.assembled_2060896_r1;size=1;+\n",
        "TGCAGCGCCAGTACGAGCAGGCCGAGATGGGCCTGCGCCAGTTCATCCAGTCGCATCCGCGCGACGCCCTCGTGCCGGCC\n",
        ">d35422.assembled_27774_r1;size=1;+\n",
        "TGCAGCGTCAGTACGAGCTGGCGGAGATGGGCCTGCGTCAGTTCATCCAGTCCCATCCGCGTGATGCACTGGTACCGGCC\n",
        ">d35422.assembled_2776613_r1;size=1;+\n",
        "TGCAGCGCCAGTACGAGCAGGCCGAGATGGGCCTGCGCCAGTTCATCCAGTCGCATCCCCGCGACGCCCTGGTGCCGGCC\n",
        ">d35422.assembled_2566934_r1;size=1;+\n",
        "TGCAGCGCCAGTACGAGCAGGCCGGGATGGGCCTGCGTCAGTTCATCCAGTCGCATCCGCGCGACGCCCTGGTGCCGTCC\n",
        "//\n",
        "//\n",
        ">d35422.assembled_781655_r1;size=2;+\n",
        "TGCAGGACCAGGGCTTCGCCGTGACCGCGAACATGGTGACCAGCCGCATCGTCGTGGACGCCGTGGGCACCTTCGACGCC\n",
        ">d35422.assembled_1218064_r1;size=2;\n",
        "TGCAGGACCAGGGCTTCGCCGTGACCGCGAACATGGTGACCAGTCGTGCTGTGGTCGAAGCCGTCGGCGCCTTCGACGCC\n",
        ">d35422.assembled_81417_r1;size=1;+\n",
        "TGCAGGACCAGGGCTTCGCCGTGNCCGCGAACATGGTNACCACCCGCGCCGTTGTCGACGCCGTCGGCACCTTCGACGCC\n",
        ">d35422.assembled_1447392_r1;size=1;+\n",
        "TGCAGGACCAGGGCTTCGCNGTGACCNCGAACATGGTGACCAGCCGCATCGTCGTGGACGCCGTGGGCACCTTCGACGCC\n",
        ">d35422.assembled_1916059_r1;size=1;+\n",
        "TGCAGGACCAGGGCTTCGCCGTGACCGCGAACATGGTGACCAGCCGCGTCGTCGTGGACGCCGTGGGCACCTTCGACGCC\n",
        "//\n",
        "//\n",
        ">d35422.assembled_1086507_r1;size=1;\n",
        "TGCAGNNANC-AAAAAAAATATATG-TTTTTTTTTTTTGCTGCA\n",
        ">d35422.assembled_1935566_r1;size=1;+\n",
        "TGCAGNTAACNAAAAAAAATATATGTTTTTTTTTTTTTGCTGCA\n",
        "//\n",
        "//\n",
        ">d35422.assembled_105061_r1;size=2;\n",
        "TGCAGGTCTCCTCCGACGTCTACTACTACACGGTCGGCTCGAAGCTCTTCTCGAGGCCGAACAAGCCCCTGCA\n",
        ">d35422.assembled_405948_r1;size=2;+\n",
        "TGCAGGTCTCCTCCGACGTCTACTACTACACGGTCGGCGCGAACCTCTTCGAGAGGAAGAACAAGCCGCTGCA\n",
        ">d35422.assembled_1112236_r1;size=1;+\n",
        "TGCAGGTNNCCTCNGACGTCTACTACTACACGGTCGGCGCGAACCTCTTCTCCAAGCCGAACAAGCCGCTGCA\n",
        ">d35422.assembled_129605_r1;size=1;+\n",
        "TGCAGGTGTCCTCCGACGTCTACTACTACACCGTCGGGTCGAAGCTCTTCTCGAGGCCGAACAAGCCCCTGCA\n",
        ">d35422.assembled_108168_r1;size=1;+\n",
        "TGCAGGTGTCCTCCGACGTCTACTACTACACGGTCGGCGCGAACCTCTTCTCGAAGCCGAACAAGCCCCTGCA\n",
        ">d35422.assembled_1796775_r1;size=1;+\n",
        "TGCAGGTGTCCTCCGACGTCTACTACTACACGGTCGGCGCGAACCTCTTCTCCAAGCCGAACAAGCCGCTGCA\n",
        "//\n",
        "//\n",
        ">d35422.assembled_2015519_r1;size=1;+\n",
        "TGCAGGGGGNCGCGGGGAGCAACCCCAGCTCGGTGCACGTGAGACAGGTGTCGATCACGGGCGGGGACCTCCTGGGGCCT\n",
        ">d35422.assembled_1326334_r1;size=1;\n",
        "TGCAGGGGGTCGCGGGGAGCAACCCCAGCTCGGTGCACGTGAGACAGGTGTCGATCACGGGCGGGGACCTCCTGGGGCCT\n",
        "//\n",
        "//\n",
        ">d35422.assembled_735556_r1;size=2;\n",
        "TGCAGCGCCGCCAGCGGCTGCAGAACTGCCCCCGAGTTTCCAGCTTCTGCA\n",
        ">d35422.assembled_2203593_r1;size=1;+\n",
        "TGCAGCGCCTGGACGCCCTGCAGAACTGCCCCCGAGTTTCCAGCTTCTGCA\n",
        "//\n",
        "//\n"
       ]
      },
      {
       "output_type": "stream",
       "stream": "stderr",
       "text": [
        "\n",
        "gzip: stdout: Broken pipe\n"
       ]
      }
     ],
     "prompt_number": 57
    },
    {
     "cell_type": "markdown",
     "metadata": {},
     "source": [
      "## Step 4: Parameter estimation"
     ]
    },
    {
     "cell_type": "code",
     "collapsed": false,
     "input": [
      "%%bash\n",
      "pyrad -p params.txt -s 4"
     ],
     "language": "python",
     "metadata": {},
     "outputs": []
    },
    {
     "cell_type": "code",
     "collapsed": false,
     "input": [
      "%%bash\n",
      "cat analysis_pyrad/stats/Pi_E_estimate.txt"
     ],
     "language": "python",
     "metadata": {},
     "outputs": [
      {
       "output_type": "stream",
       "stream": "stdout",
       "text": [
        "taxa\tH\tE\n",
        "d35371.assembled\t0.0182707\t0.00219242\t\n",
        "d39187.assembled\t0.02781985\t0.00272968\t\n",
        "d39104.assembled\t0.02073342\t0.0015139\t\n",
        "d35320.assembled\t0.02621882\t0.00175474\t\n",
        "d34041.assembled\t0.02897603\t0.00381241\t\n",
        "d33291.assembled\t0.02675046\t0.00311296\t\n",
        "d40328.assembled\t0.02060546\t0.00267209\t\n",
        "d35422.assembled\t0.04092042\t0.00224104\t\n",
        "d19long1.assembled\t0.02280653\t0.00095164\t\n",
        "d41389.assembled\t0.02985094\t0.00193657\t\n",
        "d41237.assembled\t0.05196614\t0.00204698\t\n",
        "d39114.assembled\t0.02263828\t0.00168706\t\n",
        "d39404.assembled\t0.04004115\t0.00165295\t\n",
        "d41058.assembled\t0.03910496\t0.00179648\t\n",
        "d39531.assembled\t0.03286906\t0.0014618\t\n",
        "d41732.assembled\t0.0367377\t0.00251955\t\n",
        "d35178.assembled\t0.0248532\t0.00261068\t\n",
        "d31733.assembled\t0.03005955\t0.00205113\t\n",
        "d30181.assembled\t0.02449057\t0.00222622\t\n",
        "d39968.assembled\t0.03075244\t0.00329168\t\n",
        "d39253.assembled\t0.03181217\t0.00343958\t\n",
        "decor21.assembled\t0.03917313\t0.00253141\t\n",
        "d30695.assembled\t0.02899983\t0.00255832\t\n",
        "d39103.assembled\t0.03842947\t0.00396182\t\n"
       ]
      }
     ],
     "prompt_number": 59
    },
    {
     "cell_type": "markdown",
     "metadata": {},
     "source": [
      "## Step 5: Consenus base calling\n",
      "\n",
      "You may want to adjust:\n",
      " + max cluster size (param 33)\n",
      " + max number of Ns\n",
      " + max number of Hs"
     ]
    },
    {
     "cell_type": "code",
     "collapsed": false,
     "input": [
      "%%bash\n",
      "pyrad -p params.txt -s 5"
     ],
     "language": "python",
     "metadata": {},
     "outputs": []
    },
    {
     "cell_type": "code",
     "collapsed": false,
     "input": [
      "%%bash\n",
      "cat analysis_pyrad/stats/s5.consens.txt"
     ],
     "language": "python",
     "metadata": {},
     "outputs": [
      {
       "output_type": "stream",
       "stream": "stdout",
       "text": [
        "taxon          \tnloci\tf1loci\tf2loci\tnsites\tnpoly\tpoly\n",
        "d35371.assembled\t60885\t7839\t6432\t489780\t2313\t0.0047225\n",
        "d41237.assembled\t293759\t10550\t5791\t433633\t2696\t0.0062172\n",
        "d35320.assembled\t156419\t12616\t9039\t777103\t3193\t0.0041089\n",
        "d41058.assembled\t329719\t13087\t8587\t620904\t3583\t0.0057706\n",
        "d35422.assembled\t169511\t13976\t8440\t588597\t3865\t0.0065665\n",
        "d19long1.assembled\t161936\t11666\t8611\t763559\t2339\t0.0030633\n",
        "d33291.assembled\t169929\t14920\t10442\t913599\t3976\t0.004352\n",
        "d34041.assembled\t197867\t19992\t14191\t931867\t6604\t0.0070868\n",
        "d39187.assembled\t96755\t12685\t8535\t752923\t3913\t0.0051971\n",
        "d39104.assembled\t101266\t8902\t6827\t546599\t1931\t0.0035328\n",
        "d41732.assembled\t452240\t23593\t15770\t1129545\t7020\t0.0062149\n",
        "d41389.assembled\t211387\t21245\t14809\t1053031\t6331\t0.0060122\n",
        "d39404.assembled\t243761\t23389\t13769\t1106220\t7083\t0.0064029\n",
        "d40328.assembled\t136690\t24752\t18911\t1544641\t7199\t0.0046606\n",
        "d39114.assembled\t218883\t25257\t18878\t1562653\t7444\t0.0047637\n",
        "d39531.assembled\t332792\t26717\t16869\t1393571\t7705\t0.005529\n",
        "d35178.assembled\t450842\t47869\t38116\t2467261\t21384\t0.0086671\n",
        "decor21.assembled\t577428\t46634\t28116\t2021202\t14304\t0.007077\n",
        "d31733.assembled\t439816\t40309\t27103\t2178840\t11820\t0.0054249\n",
        "d30181.assembled\t516149\t49126\t36637\t2879253\t13306\t0.0046213\n",
        "d39103.assembled\t642379\t48620\t27395\t2247944\t13442\t0.0059797\n",
        "d30695.assembled\t485553\t48503\t32034\t2797840\t15100\t0.005397\n",
        "d39253.assembled\t431026\t51267\t31529\t2654672\t14942\t0.0056286\n",
        "d39968.assembled\t456174\t61773\t39746\t3309319\t18475\t0.0055827\n",
        "\n",
        "    ## nloci = number of loci\n",
        "    ## f1loci = number of loci with >N depth coverage\n",
        "    ## f2loci = number of loci with >N depth and passed paralog filter\n",
        "    ## nsites = number of sites across f loci\n",
        "    ## npoly = number of polymorphic sites in nsites\n",
        "    ## poly = frequency of polymorphic sites\n"
       ]
      }
     ],
     "prompt_number": 60
    },
    {
     "cell_type": "markdown",
     "metadata": {},
     "source": [
      "## Cluster across samples"
     ]
    },
    {
     "cell_type": "code",
     "collapsed": false,
     "input": [
      "%%bash\n",
      "pyrad -p params.txt -s 6"
     ],
     "language": "python",
     "metadata": {},
     "outputs": []
    },
    {
     "cell_type": "markdown",
     "metadata": {},
     "source": [
      "## Assemble final data set"
     ]
    },
    {
     "cell_type": "code",
     "collapsed": false,
     "input": [
      "%%bash\n",
      "pyrad -p params.txt -s 7"
     ],
     "language": "python",
     "metadata": {},
     "outputs": []
    },
    {
     "cell_type": "markdown",
     "metadata": {},
     "source": [
      "## Examine results"
     ]
    },
    {
     "cell_type": "code",
     "collapsed": false,
     "input": [
      "%%bash\n",
      "cat analysis_pyrad/stats/c88d6m4p3.stats"
     ],
     "language": "python",
     "metadata": {},
     "outputs": [
      {
       "output_type": "stream",
       "stream": "stdout",
       "text": [
        "\n",
        "\n",
        "17401       ## loci with > minsp containing data\n",
        "16418       ## loci with > minsp containing data & paralogs removed\n",
        "16418       ## loci with > minsp containing data & paralogs removed & final filtering\n",
        "\n",
        "## number of loci recovered in final data set for each taxon.\n",
        "taxon\tnloci\n",
        "d19long1.assembled\t2232\n",
        "d30181.assembled  \t5279\n",
        "d30695.assembled  \t8028\n",
        "d31733.assembled  \t5717\n",
        "d33291.assembled  \t3529\n",
        "d34041.assembled  \t4291\n",
        "d35178.assembled  \t4252\n",
        "d35320.assembled  \t3451\n",
        "d35371.assembled  \t2535\n",
        "d35422.assembled  \t2776\n",
        "d39103.assembled  \t6100\n",
        "d39104.assembled  \t2311\n",
        "d39114.assembled  \t4695\n",
        "d39187.assembled  \t3249\n",
        "d39253.assembled  \t7324\n",
        "d39404.assembled  \t5203\n",
        "d39531.assembled  \t6176\n",
        "d39968.assembled  \t6724\n",
        "d40328.assembled  \t4921\n",
        "d41058.assembled  \t1872\n",
        "d41237.assembled  \t1308\n",
        "d41389.assembled  \t4676\n",
        "d41732.assembled  \t4007\n",
        "decor21.assembled \t7367\n",
        "\n",
        "\n",
        "## nloci = number of loci with data for exactly ntaxa\n",
        "## ntotal = number of loci for which at least ntaxa have data\n",
        "ntaxa\tnloci\tsaved\tntotal\n",
        "1\t-\n",
        "2\t-\t\t-\n",
        "3\t-\t\t-\n",
        "4\t5937\t*\t16418\n",
        "5\t3301\t*\t10481\n",
        "6\t2050\t*\t7180\n",
        "7\t1386\t*\t5130\n",
        "8\t910\t*\t3744\n",
        "9\t588\t*\t2834\n",
        "10\t412\t*\t2246\n",
        "11\t329\t*\t1834\n",
        "12\t241\t*\t1505\n",
        "13\t167\t*\t1264\n",
        "14\t140\t*\t1097\n",
        "15\t121\t*\t957\n",
        "16\t97\t*\t836\n",
        "17\t106\t*\t739\n",
        "18\t91\t*\t633\n",
        "19\t76\t*\t542\n",
        "20\t93\t*\t466\n",
        "21\t107\t*\t373\n",
        "22\t105\t*\t266\n",
        "23\t98\t*\t161\n",
        "24\t63\t*\t63\n",
        "\n",
        "\n",
        "## nvar = number of loci containing n variable sites (pis+autapomorphies).\n",
        "## sumvar = sum of variable sites (SNPs).\n",
        "## pis = number of loci containing n parsimony informative sites.\n",
        "## sumpis = sum of parsimony informative sites.\n",
        "\tnvar\tsumvar\tPIS\tsumPIS\n",
        "0\t2451\t0\t6616\t0\n",
        "1\t2053\t2053\t3490\t3490\n",
        "2\t1932\t5917\t1952\t7394\n",
        "3\t1655\t10882\t1254\t11156\n",
        "4\t1376\t16386\t865\t14616\n",
        "5\t1193\t22351\t611\t17671\n",
        "6\t959\t28105\t383\t19969\n",
        "7\t806\t33747\t266\t21831\n",
        "8\t660\t39027\t210\t23511\n",
        "9\t499\t43518\t184\t25167\n",
        "10\t429\t47808\t118\t26347\n",
        "11\t324\t51372\t110\t27557\n",
        "12\t266\t54564\t77\t28481\n",
        "13\t250\t57814\t70\t29391\n",
        "14\t214\t60810\t48\t30063\n",
        "15\t172\t63390\t39\t30648\n",
        "16\t171\t66126\t31\t31144\n",
        "17\t139\t68489\t24\t31552\n",
        "18\t104\t70361\t16\t31840\n",
        "19\t107\t72394\t10\t32030\n",
        "20\t79\t73974\t16\t32350\n",
        "21\t87\t75801\t10\t32560\n",
        "22\t59\t77099\t4\t32648\n",
        "23\t58\t78433\t2\t32694\n",
        "24\t43\t79465\t5\t32814\n",
        "25\t35\t80340\t2\t32864\n",
        "26\t36\t81276\t2\t32916\n",
        "27\t27\t82005\t0\t32916\n",
        "28\t33\t82929\t2\t32972\n",
        "29\t36\t83973\t1\t33001\n",
        "30\t23\t84663\t0\t33001\n",
        "31\t23\t85376\t0\t33001\n",
        "32\t13\t85792\t0\t33001\n",
        "33\t20\t86452\t0\t33001\n",
        "34\t12\t86860\t0\t33001\n",
        "35\t14\t87350\t0\t33001\n",
        "36\t10\t87710\t0\t33001\n",
        "37\t7\t87969\t0\t33001\n",
        "38\t8\t88273\t0\t33001\n",
        "39\t7\t88546\t0\t33001\n",
        "40\t3\t88666\t0\t33001\n",
        "41\t2\t88748\t0\t33001\n",
        "42\t2\t88832\t0\t33001\n",
        "43\t2\t88918\t0\t33001\n",
        "44\t4\t89094\t0\t33001\n",
        "45\t2\t89184\t0\t33001\n",
        "46\t4\t89368\t0\t33001\n",
        "47\t0\t89368\t0\t33001\n",
        "48\t2\t89464\t0\t33001\n",
        "49\t3\t89611\t0\t33001\n",
        "50\t2\t89711\t0\t33001\n",
        "51\t0\t89711\t0\t33001\n",
        "52\t1\t89763\t0\t33001\n",
        "53\t1\t89816\t0\t33001\n",
        "total var= 89816\n",
        "total pis= 33001\n"
       ]
      }
     ],
     "prompt_number": 61
    },
    {
     "cell_type": "code",
     "collapsed": false,
     "input": [
      "%%bash\n",
      "head -n 100 analysis_pyrad/outfiles/c88d6m4p3.loci | cut -b 1-88"
     ],
     "language": "python",
     "metadata": {},
     "outputs": [
      {
       "output_type": "stream",
       "stream": "stdout",
       "text": [
        ">d31733.assembled      GTACAGCACCGGGTAGCGGCGGRGGCTAGCGGCGTAGCCGGGCGGCAGGTACACCCACACCCGGC\n",
        ">d39114.assembled      GTACAGCACCGGGTAGCGGCGGRGGCTAGCGGCGTAGCCGGGCGGCAGGTACACCCACACCCGGC\n",
        ">d39968.assembled      GTACAGCACCGGGTAGCGGCGGGGGCTAGCNGCGTAGCCGGGCGGCAGGTACACCCACACCCGGC\n",
        ">decor21.assembled     GTACAGCACCGGGTAGCGGCGGRGGCTAGCGGCGTAGCCGGGCGGCAGGTACACCCACACCCGGC\n",
        "//                                           *                                          \n",
        ">d30695.assembled      AATTGTGAGTACCGTCGTGACCGA-GGCACCGAGGC\n",
        ">d31733.assembled      AATTGTGAGTACCGTCGTGACCGANGGCACCGAGGC\n",
        ">d39103.assembled      AATTGTGAGTACCGTCGTGACCGA-GGCACCGAGGC\n",
        ">d39531.assembled      AATTGTGAGTACCGTCGTGACCGA-GGCACCGAGGC\n",
        ">d41389.assembled      AATTGTGAGTACCGTCGTRACCGA-GGCACCGAGGC\n",
        ">d41732.assembled      AATTGTGAGTACCGTCGTGACCGA-GGCACCGAGGC\n",
        ">decor21.assembled     AATTGTGAGTACCGTCGTGACCGA-GGCACCGAGGC\n",
        "//                                       -                 |\n",
        ">d30695.assembled      CCRTGGTGCGGCTGGCGCAAGGTGCGSGASCTSGCGGTGGCGCAGGGC\n",
        ">d31733.assembled      CCATGGTGCGGCTGGCGCAAGGTGCGSGACCTSGCGGTGGCGCAGGGC\n",
        ">d33291.assembled      CCGTGGTGCGGCTGGCGCAAGGTGCGCGAGCTCGCGGTGGCGCAGGGC\n",
        ">d34041.assembled      CCGTGGTGCGGCTGGCGCAAGGTGCGCGARCTCGCGGTGGCGCAGGGY\n",
        ">d35320.assembled      CCGTGGTGCGGCTGGCGCAAGGTGCGCGAGCTCGCGGTGNCGCAGGGC\n",
        ">d35422.assembled      CCGTGGTGCGGCTGGCGCAAGGTGCGCGAGCTCGCGGTGGCGCAGGGC\n",
        ">d39253.assembled      CCGTGGTGCGGCTGGCGCAAGGTGCGCGAGCTCGCGGTGGCGCAGGGY\n",
        ">d39531.assembled      CCGTGGTGCGGCTGGCGCAAGGTGCGCGAGCTCGCGGTGGCGCAGGGC\n",
        "//                       *                       *  *  *              *|\n",
        ">d30181.assembled      GCCCGGGAAGCACAAGGCTCCACGTTCCTTGGCCAGGGCATCGCCATTCCCCATGGTACGCCGCA\n",
        ">d30695.assembled      GCCCGGGAAGCACAAGGCTCCACGTTCCTTGGCCAGGGCATCGCCATTCCCCATGGTACGCCGCA\n",
        ">d31733.assembled      GCCCGGGAAGCACAAGGCTCCACGTTCCTTGGCCAGGGCATCGCCATTCCCCATGGTACGCCGCA\n",
        ">d39114.assembled      GCCCGGGAAGCACAAGGCTCCACGTTCCTTGGCCAGGGCATCNCCATTCCCCATGGTACGCCGCA\n",
        ">d39404.assembled      GNCCGGGAAGCACAAGGCTCCACGTTCCTTGGCCAGGGCATCGCCATTCCCCATGGTACGCCGCA\n",
        "//                                                                                      \n",
        ">d30181.assembled      CCAGGGCAGCGAAGGCCTGAGCGTCGGCAGCAGGGGCAGCAGCTTGACCTTGCAGGTTCACGACG\n",
        ">d30695.assembled      CCAGGGCAGCGAAGGCCTGAGCGTCGGCAGCAGGGGCAGCAGCTTGACCTTGCAGGTTCACGACG\n",
        ">d31733.assembled      CCAGGGCAGCGAAGGCCTGAGCGTCGGCAGCAGGGGCAGCAGCTTGACCTTGCAGGTTCACGACG\n",
        ">d39114.assembled      CCAGGGCAGCGAAGGCCTGAGCGTCGGCAGNAGGGGCAGNAGCTTGACCTTNCAGGTTCACGACG\n",
        ">d39253.assembled      CCAGGGCAGCGAAGGCCTGAGCGTCGGCAGCAGGGGCAGCAGCTTGACCTTGCAGGTTCACGACG\n",
        ">d39404.assembled      CCAGGGCAGCGAAGGCCTGAGCGTCGNCAGCAGGGGCAGCAGCTTGACCTTGCAGGNTCACGACG\n",
        "//                                                                                      \n",
        ">d35320.assembled      GCCCGAGTCGGCCCCGACCAGCCAGCCCAGGACGTCGGAGCGGTAGGTGGCGAAGTCGTAGAGCT\n",
        ">d39114.assembled      ACCGGAGTCCGCGCCGACCAGCCAGCCCAGGACGTCGGAGCGGTAGGTGGCGAAGTCGTAGAGCT\n",
        ">d39531.assembled      RCCGGAGNCCGCRCCGACCAGCCAGCCCAGGACGTCGGAGCGGTAGGTGGCGAAGTCGTAGAGCT\n",
        ">decor21.assembled     GCCGGAGNCCGCACCGACCAGCCAGCCCAGGACGTCGGAGCGGTAGGTGGCGAAGTCGTAGAGCT\n",
        "//                     *  -     -  *                                                    \n",
        ">d19long1.assembled    ATATTTTTGGAGGATGAAGAGTTTCTGTCTTCTGCATTCTCTTCTTCTTCTTCTTCCTCTTAGGT\n",
        ">d35422.assembled      ATATTTTTGGAGGATGACGAGTTTCTGTCTTCTGCATTC---TCTTCTTCTTCTTCCTCTTAGGT\n",
        ">d39104.assembled      ATATTTTTGGAGGATGACGAGTTTCTGTCTTCTGCATTC---TCTTCTTCTTCCTCCTCTTAGGT\n",
        ">d41058.assembled      ATATTTTTGGAGGATGAAGATTTTCTGTCTTCTGCATTC---TCTTCTTCTTCCTCCTCTTAGGT\n",
        "//                                      *  -                                *           \n",
        ">d35320.assembled      CGCCGGGCGTTCGAACCGAGCGCGGGCGTCGCGCCGCACGCGGCGCGGCGCGNC\n",
        ">d39103.assembled      CGCCGGGCGTTCGAACCGAGCGCGGGCGTCGCGCCGCNCGCGGCGCGGCGCGCC\n",
        ">d39404.assembled      CGCCGGGCGTTCGARCCGAGCGCGGGCRTCGCGCCGCACGCGGCGCGSCGNGCC\n",
        ">d39531.assembled      CGCCGSGCGTTCGARCCGAGCGCGGGCRTCGCGCCGCACGCGGCGCGGCGCGCC\n",
        ">d39968.assembled      CGCCGGGCGTTCGAACCGAGCGCGGGCGTCGCGCCNCACGCGNCGCGGCGCGCC\n",
        "//                          -        *            *                   -      |\n",
        ">d30695.assembled      GGCGTACGACTCGTCGTTCAGCCAGGCCAGCGT\n",
        ">d31733.assembled      GGCGTAYGACTCGTCGTTCAGCCAGGCCAGCGT\n",
        ">d34041.assembled      GGCGTACGACTCGTCGTTCAGCCAGGCCAGCGT\n",
        ">d39114.assembled      NGCGTACGACTCGTCGTTCAGCCAGGCCAGCGT\n",
        ">d39253.assembled      GGCGTACGACTCGTCGTTCAGCCAGGCCAGCGT\n",
        ">d41732.assembled      GGCGTAYNACTCGTCGTTCAGCCAGGCCAGCGT\n",
        ">decor21.assembled     GGCGTACGACTCGTCGTTCAGCCAGGCCAGCGT\n",
        "//                           *                          |\n",
        ">d30695.assembled      ACGCGAGGCCCATTCCAAA-TTCGAGAGGACTTACACAGATATCGCCGCAGATAACTTTTACGAT\n",
        ">d39253.assembled      ACGCGAGGCCCATTCCAAAGTTYGAGAGGACTTACACAGATATCGCCGCAGATAACTTTTACGAT\n",
        ">d39968.assembled      ACGCGAGGCCCATTCCAAAGTTCGAGAGGACTTACACAGATATCGCCGCAGATAACTTTTACGAT\n",
        ">d40328.assembled      ACGCGAGGCCCATTCCAAAGTTCGAGAGGACTTACACAGATATCGCCGCAGAYAAYTNTTACGAT\n",
        "//                                           -                             -  -         \n",
        ">d30181.assembled      TCGGTGCTTCCGGAACTCCGCAACGNG\n",
        ">d30695.assembled      TCGGTGCTTCCGGAACTCCGCAACGCG\n",
        ">d39103.assembled      TCGGTGCTTCCGGAACTGCGCAACGCG\n",
        ">d39968.assembled      TCGGTGCTTCCGGAACTCCGCAACGCG\n",
        "//                                      -         |\n",
        ">d33291.assembled      GTTGCGCGCGATCTCCACCATCTGCTGCTGGCCGATGCCCAGCGTGCCGACCCGCGTGCCCGGGT\n",
        ">d35178.assembled      GTTGCGCGCGATCTCCACCATCTGCTGCTGGCCGATGCCSAGCGTGCCGACCMGCGTGCCCGGGT\n",
        ">d35320.assembled      GTTGCGSGCGATCTCCACCATCTGCTGCTGGCCGATGCCSAGCGTGCCGACCCGCGTGCCCGGGT\n",
        ">d39253.assembled      GTTGCGCGCGATCTCCACCATCTGCTGCTGGCCGATGCCCAGCGTGCCGACCNGCGTGCCCGGGT\n",
        ">d40328.assembled      GTTGCGCGCGATCTCSACCATCTGCTGCTGSCCGATGCCGAGCGTGCCGACCMGCGTGCCSGGGT\n",
        "//                           -        -              -        *            *       -    \n",
        ">d30695.assembled      CGACGACACGTCGGAGACCGGCTCCTCGACGAGAACCACTCCGGCAGCGCGACACGCACTCAGTA\n",
        ">d39531.assembled      CGACGACACGTCGGAGACCRGCTCCTCGACGAGAACCACTCCGGCAGCGCGACACGCANTCAGTA\n",
        ">d41389.assembled      CGACGACACGTCGGAGACCGGCTCCTCGACGAGAACCACTCCGGCAGCGCGACACGCACTCAGTA\n",
        ">decor21.assembled     CGACGACACGTCGGAGACCRNCTCCTCGACGAGAACCACTCCGGCAGCGCGACACGCANTCAGTA\n",
        "//                                        *                                             \n",
        ">d31733.assembled      CGGCAGCTCCAGCCGGGGCTGCGCCAGCCGCTGCCGCAGCTC\n",
        ">d35178.assembled      CNGCAGCTCCAGCCGGGGCTGCGCCAGCCGCTGCCGCAGCTC\n",
        ">d35320.assembled      CNGCAGCTCCAGCTGGGGCCGCGCCAGCCGCTGCCGCAGCTC\n",
        ">d35422.assembled      CGGCAGCTCNAGCTGGGGCCGCGCCAGCCGCTGCCGCNGNTC\n",
        ">d39103.assembled      CGGCAGCTCCAGCCGGGGCTGCGCCAGCCGCTGCCGCAGCTC\n",
        ">d39187.assembled      CGGCAGCTCCAGCCGGGGCTGCGCCAGCCGCTGCCGCAGCTC\n",
        ">d39253.assembled      CGGCAGCTCCAGCCGGGGCTGCGCCAGCCGCTGCCGCAGCTC\n",
        ">d39404.assembled      CGGYNGCNCCAGCCGGGGCTGCGCCAGCCGCTGCCGCAGCTC\n",
        ">d39968.assembled      CGGCAGCTCCAGCCGGGGCTGCNCCAGCCGCTGNCGCAGCTC\n",
        ">decor21.assembled     CGGNAGCTCCAGCCGGGGCTGCGCCAGCCGCTGCCGCAGCTC\n",
        "//                        -         *     *                      |\n",
        ">d30181.assembled      AGCCTGCTSGGCTACGTNGTCCGCTGGGTCGACGCCGGGGTGGG\n",
        ">d39187.assembled      AGCCTGCTSGGCTACGTCGTCCGCTGGGTCGACGCCGGNGTGGG\n",
        ">d39253.assembled      AGCCTGCTGGGCTACGTCGTCCGCTGGGTCGACGCCGGNGTGGG\n",
        ">d39968.assembled      AGCCTGCTGGGCTACGTCGTCCGCTGGGTCGACGCCGGCGTGGG\n",
        "//                             *                             -     |\n",
        ">d30181.assembled      CAGCGAGGTGTCCACGCGGCTGCCCTGGCCGGTGCGCAGCCGCTTCACGTAGGCGGTGACCACGC\n",
        ">d33291.assembled      CAGCGAGGTGTCCACGCGGCTGCCCTGGCCGGTGCGCAGCCGCTTCACGTAGGCGGTGACCACGC\n",
        ">d39103.assembled      CAGCGAGGTGTCCACGCGGCTGCCCTGGCCGGTGCGCAGCCGCTTCACGTAGGCGGTGACCACGC\n",
        ">d39187.assembled      CAGCGAGGTGTCCACGCGGCTGCCCTGGCCGGTGCGCAGCCGCTTCACGTAGGCGGTGACCACGC\n"
       ]
      }
     ],
     "prompt_number": 81
    },
    {
     "cell_type": "markdown",
     "metadata": {},
     "source": [
      "## Infer a tree"
     ]
    },
    {
     "cell_type": "code",
     "collapsed": false,
     "input": [
      "%%bash\n",
      "raxmlHPC-PTHREADS-AVX -s analysis_pyrad/outfiles/c88d6m4p3.phy \\\n",
      "                      -m GTRGAMMA \\\n",
      "                      -f a \\\n",
      "                      -x 12345 \\\n",
      "                      -p 12345 \\\n",
      "                      -N 100 \\\n",
      "                      -w /home/deren/Documents/PEGBS/analysis_raxml/ \\\n",
      "                      -n c88d6m4p3 \\\n",
      "                      -o \"d35320.assembled\" \\\n",
      "                      -T 20 &> /dev/null"
     ],
     "language": "python",
     "metadata": {},
     "outputs": []
    },
    {
     "cell_type": "code",
     "collapsed": false,
     "input": [
      "%load_ext rmagic"
     ],
     "language": "python",
     "metadata": {},
     "outputs": [],
     "prompt_number": 72
    },
    {
     "cell_type": "code",
     "collapsed": false,
     "input": [
      "%%R\n",
      "library(ape)\n",
      "tre <- read.tree(\"analysis_raxml/RAxML_bipartitions.c88d6m4p3\")\n",
      "plot(tre)\n",
      "nodelabels(tre$node.label)"
     ],
     "language": "python",
     "metadata": {},
     "outputs": [
      {
       "metadata": {},
       "output_type": "display_data",
       "png": "[encoded data removed]"
      }
     ],
     "prompt_number": 73
    },
    {
     "cell_type": "markdown",
     "metadata": {},
     "source": [
      "## Other ways to improve assembly"
     ]
    },
    {
     "cell_type": "markdown",
     "metadata": {},
     "source": [
      "If you look at the stats output for step 5 you can see that we discarded most of our data for being too low of coverage. One way to salvage these data is to set the minimum depth for majority rule consensus base calls to 2 (param 31). In this way, statistical base calls are still made for all stacks in which the depth is >mindepth (param 8), but for everything between (2-mindepth) majority rule is used to make base calls. This will probably increase the size of this data set ~10X, as you can see in the example S5 stats file below.\n"
     ]
    },
    {
     "cell_type": "code",
     "collapsed": false,
     "input": [
      "%%bash\n",
      "## This is the step 5 results after I moved the consens.gz files out of \n",
      "## the clust.85/ directory and replaced them with new consens calls \n",
      "## generated by running step 5 with the majority rule consensus \n",
      "## option turned on. \n",
      "\n",
      "tail -n 32 analysis_pyrad/stats/s5.consens.txt"
     ],
     "language": "python",
     "metadata": {},
     "outputs": [
      {
       "output_type": "stream",
       "stream": "stdout",
       "text": [
        "taxon          \tnloci\tf1loci\tf2loci\tnsites\tnpoly\tpoly\n",
        "d35371.assembled\t60885\t24564\t23062\t1780882\t2350\t0.0013196\n",
        "d41058.assembled\t329719\t90853\t84689\t6244501\t3656\t0.0005855\n",
        "d41237.assembled\t293759\t90845\t84120\t5741117\t2794\t0.0004867\n",
        "d33291.assembled\t169929\t67772\t62376\t5502056\t4098\t0.0007448\n",
        "d34041.assembled\t197867\t89535\t83219\t5919976\t6740\t0.0011385\n",
        "d35422.assembled\t169511\t56563\t50274\t3627878\t3974\t0.0010954\n",
        "d35320.assembled\t156419\t52912\t48780\t4266120\t3268\t0.000766\n",
        "d39187.assembled\t96755\t45614\t41058\t3775082\t4079\t0.0010805\n",
        "d39104.assembled\t101266\t34065\t31273\t2410273\t1958\t0.0008124\n",
        "d19long1.assembled\t161936\t39462\t35591\t3167415\t2402\t0.0007583\n",
        "d41389.assembled\t211387\t77211\t70021\t5475971\t6483\t0.0011839\n",
        "d40328.assembled\t136690\t65435\t59329\t5145197\t7386\t0.0014355\n",
        "d41732.assembled\t452240\t181118\t170999\t12626514\t7201\t0.0005703\n",
        "d39114.assembled\t218883\t92037\t85134\t7595069\t7721\t0.0010166\n",
        "d39404.assembled\t243761\t89814\t78903\t6913918\t7306\t0.0010567\n",
        "d39531.assembled\t332792\t112016\t101057\t8879145\t7975\t0.0008982\n",
        "d35178.assembled\t450842\t201307\t190564\t13878623\t21667\t0.0015612\n",
        "d31733.assembled\t439816\t175627\t160987\t13694620\t12159\t0.0008879\n",
        "decor21.assembled\t577428\t227921\t207326\t15697724\t14727\t0.0009382\n",
        "d30181.assembled\t516149\t203114\t189290\t15726272\t13709\t0.0008717\n",
        "d39103.assembled\t642379\t235667\t211348\t18531562\t13982\t0.0007545\n",
        "d30695.assembled\t485553\t174196\t155764\t14331377\t15685\t0.0010945\n",
        "d39253.assembled\t431026\t172635\t151210\t13507456\t15403\t0.0011403\n",
        "d39968.assembled\t456174\t186053\t162430\t14528464\t19145\t0.0013178\n",
        "\n",
        "    ## nloci = number of loci\n",
        "    ## f1loci = number of loci with >N depth coverage\n",
        "    ## f2loci = number of loci with >N depth and passed paralog filter\n",
        "    ## nsites = number of sites across f loci\n",
        "    ## npoly = number of polymorphic sites in nsites\n",
        "    ## poly = frequency of polymorphic sites\n"
       ]
      }
     ],
     "prompt_number": 70
    }
   ],
   "metadata": {}
  }
 ]
}